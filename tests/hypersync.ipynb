{
 "cells": [
  {
   "cell_type": "code",
   "execution_count": 1,
   "metadata": {},
   "outputs": [],
   "source": [
    "from ethpandaops_python.hypersync import Hypersync\n",
    "import nest_asyncio\n",
    "\n",
    "nest_asyncio.apply()"
   ]
  },
  {
   "cell_type": "code",
   "execution_count": 2,
   "metadata": {},
   "outputs": [],
   "source": [
    "client = Hypersync()\n",
    "\n",
    "df = client.query_txs(address=\"0x5050f69a9786f081509234f1a7f4684b5e5b76c9\", period=1)"
   ]
  },
  {
   "cell_type": "code",
   "execution_count": 4,
   "metadata": {},
   "outputs": [
    {
     "name": "stdout",
     "output_type": "stream",
     "text": [
      "(669, 12)\n"
     ]
    }
   ],
   "source": [
    "print(df.shape)"
   ]
  },
  {
   "cell_type": "code",
   "execution_count": 5,
   "metadata": {},
   "outputs": [
    {
     "data": {
      "text/html": [
       "<div><style>\n",
       ".dataframe > thead > tr,\n",
       ".dataframe > tbody > tr {\n",
       "  text-align: right;\n",
       "  white-space: pre-wrap;\n",
       "}\n",
       "</style>\n",
       "<small>shape: (669, 12)</small><table border=\"1\" class=\"dataframe\"><thead><tr><th>block_number</th><th>hash</th><th>from_</th><th>to</th><th>gas</th><th>transaction_index</th><th>gas_price</th><th>effective_gas_price</th><th>gas_used</th><th>cumulative_gas_used</th><th>max_fee_per_gas</th><th>max_priority_fee_per_gas</th></tr><tr><td>i64</td><td>str</td><td>str</td><td>str</td><td>f64</td><td>i64</td><td>f64</td><td>f64</td><td>f64</td><td>f64</td><td>f64</td><td>f64</td></tr></thead><tbody><tr><td>19622217</td><td>&quot;0x37265f1b43cf…</td><td>&quot;0x5050f69a9786…</td><td>&quot;0xff0000000000…</td><td>21000.0</td><td>17</td><td>1.7590e10</td><td>1.7590e10</td><td>21000.0</td><td>2.246758e6</td><td>6.4742e10</td><td>4.0000e9</td></tr><tr><td>19622219</td><td>&quot;0x0fdef7130424…</td><td>&quot;0x5050f69a9786…</td><td>&quot;0xff0000000000…</td><td>21000.0</td><td>128</td><td>1.6937e10</td><td>1.6937e10</td><td>21000.0</td><td>8.591389e6</td><td>2.8900e10</td><td>2.0000e9</td></tr><tr><td>19622220</td><td>&quot;0x645031278af5…</td><td>&quot;0x5050f69a9786…</td><td>&quot;0xff0000000000…</td><td>21000.0</td><td>47</td><td>1.7248e10</td><td>1.7248e10</td><td>21000.0</td><td>4.874519e6</td><td>2.8971e10</td><td>2.0000e9</td></tr><tr><td>19622227</td><td>&quot;0x7479cc1845db…</td><td>&quot;0x5050f69a9786…</td><td>&quot;0xff0000000000…</td><td>21000.0</td><td>18</td><td>1.5778e10</td><td>1.5778e10</td><td>21000.0</td><td>748306.0</td><td>3.1940e10</td><td>2.0000e9</td></tr><tr><td>19622236</td><td>&quot;0x7d2998695232…</td><td>&quot;0x5050f69a9786…</td><td>&quot;0xff0000000000…</td><td>21000.0</td><td>49</td><td>1.9992e10</td><td>1.9992e10</td><td>21000.0</td><td>9.115707e6</td><td>3.3266e10</td><td>2.0000e9</td></tr><tr><td>&hellip;</td><td>&hellip;</td><td>&hellip;</td><td>&hellip;</td><td>&hellip;</td><td>&hellip;</td><td>&hellip;</td><td>&hellip;</td><td>&hellip;</td><td>&hellip;</td><td>&hellip;</td><td>&hellip;</td></tr><tr><td>19629353</td><td>&quot;0x992b97dae691…</td><td>&quot;0x5050f69a9786…</td><td>&quot;0xff0000000000…</td><td>21000.0</td><td>50</td><td>1.8016e10</td><td>1.8016e10</td><td>21000.0</td><td>5.744488e6</td><td>3.4431e10</td><td>2.0000e9</td></tr><tr><td>19629362</td><td>&quot;0xd6dfe243a0fd…</td><td>&quot;0x5050f69a9786…</td><td>&quot;0xff0000000000…</td><td>21000.0</td><td>52</td><td>1.5429e10</td><td>1.5429e10</td><td>21000.0</td><td>4.823586e6</td><td>2.9896e10</td><td>2.0000e9</td></tr><tr><td>19629373</td><td>&quot;0xf7caf4fa678d…</td><td>&quot;0x5050f69a9786…</td><td>&quot;0xff0000000000…</td><td>21000.0</td><td>37</td><td>1.5092e10</td><td>1.5092e10</td><td>21000.0</td><td>2.114921e6</td><td>3.0377e10</td><td>2.0000e9</td></tr><tr><td>19629386</td><td>&quot;0xf732a388649b…</td><td>&quot;0x5050f69a9786…</td><td>&quot;0xff0000000000…</td><td>21000.0</td><td>63</td><td>1.5711e10</td><td>1.5711e10</td><td>21000.0</td><td>4.583494e6</td><td>2.9629e10</td><td>2.0000e9</td></tr><tr><td>19629397</td><td>&quot;0x0e4c7bc61725…</td><td>&quot;0x5050f69a9786…</td><td>&quot;0xff0000000000…</td><td>21000.0</td><td>45</td><td>1.6725e10</td><td>1.6725e10</td><td>21000.0</td><td>3.585775e6</td><td>2.6665e10</td><td>2.0000e9</td></tr></tbody></table></div>"
      ],
      "text/plain": [
       "shape: (669, 12)\n",
       "┌───────────┬───────────┬───────────┬───────────┬───┬──────────┬───────────┬───────────┬───────────┐\n",
       "│ block_num ┆ hash      ┆ from_     ┆ to        ┆ … ┆ gas_used ┆ cumulativ ┆ max_fee_p ┆ max_prior │\n",
       "│ ber       ┆ ---       ┆ ---       ┆ ---       ┆   ┆ ---      ┆ e_gas_use ┆ er_gas    ┆ ity_fee_p │\n",
       "│ ---       ┆ str       ┆ str       ┆ str       ┆   ┆ f64      ┆ d         ┆ ---       ┆ er_gas    │\n",
       "│ i64       ┆           ┆           ┆           ┆   ┆          ┆ ---       ┆ f64       ┆ ---       │\n",
       "│           ┆           ┆           ┆           ┆   ┆          ┆ f64       ┆           ┆ f64       │\n",
       "╞═══════════╪═══════════╪═══════════╪═══════════╪═══╪══════════╪═══════════╪═══════════╪═══════════╡\n",
       "│ 19622217  ┆ 0x37265f1 ┆ 0x5050f69 ┆ 0xff00000 ┆ … ┆ 21000.0  ┆ 2.246758e ┆ 6.4742e10 ┆ 4.0000e9  │\n",
       "│           ┆ b43cfaf9c ┆ a9786f081 ┆ 000000000 ┆   ┆          ┆ 6         ┆           ┆           │\n",
       "│           ┆ 77e5ae487 ┆ 509234f1a ┆ 000000000 ┆   ┆          ┆           ┆           ┆           │\n",
       "│           ┆ e0938…    ┆ 7f468…    ┆ 00000…    ┆   ┆          ┆           ┆           ┆           │\n",
       "│ 19622219  ┆ 0x0fdef71 ┆ 0x5050f69 ┆ 0xff00000 ┆ … ┆ 21000.0  ┆ 8.591389e ┆ 2.8900e10 ┆ 2.0000e9  │\n",
       "│           ┆ 30424ff78 ┆ a9786f081 ┆ 000000000 ┆   ┆          ┆ 6         ┆           ┆           │\n",
       "│           ┆ 889ba825e ┆ 509234f1a ┆ 000000000 ┆   ┆          ┆           ┆           ┆           │\n",
       "│           ┆ 0be64…    ┆ 7f468…    ┆ 00000…    ┆   ┆          ┆           ┆           ┆           │\n",
       "│ 19622220  ┆ 0x6450312 ┆ 0x5050f69 ┆ 0xff00000 ┆ … ┆ 21000.0  ┆ 4.874519e ┆ 2.8971e10 ┆ 2.0000e9  │\n",
       "│           ┆ 78af59053 ┆ a9786f081 ┆ 000000000 ┆   ┆          ┆ 6         ┆           ┆           │\n",
       "│           ┆ 78871b8a4 ┆ 509234f1a ┆ 000000000 ┆   ┆          ┆           ┆           ┆           │\n",
       "│           ┆ f5079…    ┆ 7f468…    ┆ 00000…    ┆   ┆          ┆           ┆           ┆           │\n",
       "│ 19622227  ┆ 0x7479cc1 ┆ 0x5050f69 ┆ 0xff00000 ┆ … ┆ 21000.0  ┆ 748306.0  ┆ 3.1940e10 ┆ 2.0000e9  │\n",
       "│           ┆ 845dbab17 ┆ a9786f081 ┆ 000000000 ┆   ┆          ┆           ┆           ┆           │\n",
       "│           ┆ 2d15262d5 ┆ 509234f1a ┆ 000000000 ┆   ┆          ┆           ┆           ┆           │\n",
       "│           ┆ b4d22…    ┆ 7f468…    ┆ 00000…    ┆   ┆          ┆           ┆           ┆           │\n",
       "│ 19622236  ┆ 0x7d29986 ┆ 0x5050f69 ┆ 0xff00000 ┆ … ┆ 21000.0  ┆ 9.115707e ┆ 3.3266e10 ┆ 2.0000e9  │\n",
       "│           ┆ 95232803b ┆ a9786f081 ┆ 000000000 ┆   ┆          ┆ 6         ┆           ┆           │\n",
       "│           ┆ 18b16b759 ┆ 509234f1a ┆ 000000000 ┆   ┆          ┆           ┆           ┆           │\n",
       "│           ┆ c3cea…    ┆ 7f468…    ┆ 00000…    ┆   ┆          ┆           ┆           ┆           │\n",
       "│ …         ┆ …         ┆ …         ┆ …         ┆ … ┆ …        ┆ …         ┆ …         ┆ …         │\n",
       "│ 19629353  ┆ 0x992b97d ┆ 0x5050f69 ┆ 0xff00000 ┆ … ┆ 21000.0  ┆ 5.744488e ┆ 3.4431e10 ┆ 2.0000e9  │\n",
       "│           ┆ ae691c692 ┆ a9786f081 ┆ 000000000 ┆   ┆          ┆ 6         ┆           ┆           │\n",
       "│           ┆ cfb89a961 ┆ 509234f1a ┆ 000000000 ┆   ┆          ┆           ┆           ┆           │\n",
       "│           ┆ 2d761…    ┆ 7f468…    ┆ 00000…    ┆   ┆          ┆           ┆           ┆           │\n",
       "│ 19629362  ┆ 0xd6dfe24 ┆ 0x5050f69 ┆ 0xff00000 ┆ … ┆ 21000.0  ┆ 4.823586e ┆ 2.9896e10 ┆ 2.0000e9  │\n",
       "│           ┆ 3a0fd2597 ┆ a9786f081 ┆ 000000000 ┆   ┆          ┆ 6         ┆           ┆           │\n",
       "│           ┆ 6657f9cd6 ┆ 509234f1a ┆ 000000000 ┆   ┆          ┆           ┆           ┆           │\n",
       "│           ┆ 7d15b…    ┆ 7f468…    ┆ 00000…    ┆   ┆          ┆           ┆           ┆           │\n",
       "│ 19629373  ┆ 0xf7caf4f ┆ 0x5050f69 ┆ 0xff00000 ┆ … ┆ 21000.0  ┆ 2.114921e ┆ 3.0377e10 ┆ 2.0000e9  │\n",
       "│           ┆ a678d40dd ┆ a9786f081 ┆ 000000000 ┆   ┆          ┆ 6         ┆           ┆           │\n",
       "│           ┆ 9517e5aa5 ┆ 509234f1a ┆ 000000000 ┆   ┆          ┆           ┆           ┆           │\n",
       "│           ┆ 24d54…    ┆ 7f468…    ┆ 00000…    ┆   ┆          ┆           ┆           ┆           │\n",
       "│ 19629386  ┆ 0xf732a38 ┆ 0x5050f69 ┆ 0xff00000 ┆ … ┆ 21000.0  ┆ 4.583494e ┆ 2.9629e10 ┆ 2.0000e9  │\n",
       "│           ┆ 8649be3b0 ┆ a9786f081 ┆ 000000000 ┆   ┆          ┆ 6         ┆           ┆           │\n",
       "│           ┆ 987f610f9 ┆ 509234f1a ┆ 000000000 ┆   ┆          ┆           ┆           ┆           │\n",
       "│           ┆ 5fd3a…    ┆ 7f468…    ┆ 00000…    ┆   ┆          ┆           ┆           ┆           │\n",
       "│ 19629397  ┆ 0x0e4c7bc ┆ 0x5050f69 ┆ 0xff00000 ┆ … ┆ 21000.0  ┆ 3.585775e ┆ 2.6665e10 ┆ 2.0000e9  │\n",
       "│           ┆ 6172541d9 ┆ a9786f081 ┆ 000000000 ┆   ┆          ┆ 6         ┆           ┆           │\n",
       "│           ┆ e7b985383 ┆ 509234f1a ┆ 000000000 ┆   ┆          ┆           ┆           ┆           │\n",
       "│           ┆ d3c52…    ┆ 7f468…    ┆ 00000…    ┆   ┆          ┆           ┆           ┆           │\n",
       "└───────────┴───────────┴───────────┴───────────┴───┴──────────┴───────────┴───────────┴───────────┘"
      ]
     },
     "execution_count": 5,
     "metadata": {},
     "output_type": "execute_result"
    }
   ],
   "source": [
    "df"
   ]
  },
  {
   "cell_type": "code",
   "execution_count": null,
   "metadata": {},
   "outputs": [],
   "source": []
  }
 ],
 "metadata": {
  "kernelspec": {
   "display_name": ".venv",
   "language": "python",
   "name": "python3"
  },
  "language_info": {
   "codemirror_mode": {
    "name": "ipython",
    "version": 3
   },
   "file_extension": ".py",
   "mimetype": "text/x-python",
   "name": "python",
   "nbconvert_exporter": "python",
   "pygments_lexer": "ipython3",
   "version": "3.11.8"
  }
 },
 "nbformat": 4,
 "nbformat_minor": 2
}
