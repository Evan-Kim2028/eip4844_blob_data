{
 "cells": [
  {
   "cell_type": "code",
   "execution_count": 1,
   "metadata": {},
   "outputs": [
    {
     "data": {
      "application/javascript": "(function(root) {\n  function now() {\n    return new Date();\n  }\n\n  var force = true;\n  var py_version = '3.3.4'.replace('rc', '-rc.').replace('.dev', '-dev.');\n  var reloading = false;\n  var Bokeh = root.Bokeh;\n\n  if (typeof (root._bokeh_timeout) === \"undefined\" || force) {\n    root._bokeh_timeout = Date.now() + 5000;\n    root._bokeh_failed_load = false;\n  }\n\n  function run_callbacks() {\n    try {\n      root._bokeh_onload_callbacks.forEach(function(callback) {\n        if (callback != null)\n          callback();\n      });\n    } finally {\n      delete root._bokeh_onload_callbacks;\n    }\n    console.debug(\"Bokeh: all callbacks have finished\");\n  }\n\n  function load_libs(css_urls, js_urls, js_modules, js_exports, callback) {\n    if (css_urls == null) css_urls = [];\n    if (js_urls == null) js_urls = [];\n    if (js_modules == null) js_modules = [];\n    if (js_exports == null) js_exports = {};\n\n    root._bokeh_onload_callbacks.push(callback);\n\n    if (root._bokeh_is_loading > 0) {\n      console.debug(\"Bokeh: BokehJS is being loaded, scheduling callback at\", now());\n      return null;\n    }\n    if (js_urls.length === 0 && js_modules.length === 0 && Object.keys(js_exports).length === 0) {\n      run_callbacks();\n      return null;\n    }\n    if (!reloading) {\n      console.debug(\"Bokeh: BokehJS not loaded, scheduling load and callback at\", now());\n    }\n\n    function on_load() {\n      root._bokeh_is_loading--;\n      if (root._bokeh_is_loading === 0) {\n        console.debug(\"Bokeh: all BokehJS libraries/stylesheets loaded\");\n        run_callbacks()\n      }\n    }\n    window._bokeh_on_load = on_load\n\n    function on_error() {\n      console.error(\"failed to load \" + url);\n    }\n\n    var skip = [];\n    if (window.requirejs) {\n      window.requirejs.config({'packages': {}, 'paths': {'plotly': 'https://cdn.plot.ly/plotly-2.25.2.min', 'jspanel': 'https://cdn.jsdelivr.net/npm/jspanel4@4.12.0/dist/jspanel', 'jspanel-modal': 'https://cdn.jsdelivr.net/npm/jspanel4@4.12.0/dist/extensions/modal/jspanel.modal', 'jspanel-tooltip': 'https://cdn.jsdelivr.net/npm/jspanel4@4.12.0/dist/extensions/tooltip/jspanel.tooltip', 'jspanel-hint': 'https://cdn.jsdelivr.net/npm/jspanel4@4.12.0/dist/extensions/hint/jspanel.hint', 'jspanel-layout': 'https://cdn.jsdelivr.net/npm/jspanel4@4.12.0/dist/extensions/layout/jspanel.layout', 'jspanel-contextmenu': 'https://cdn.jsdelivr.net/npm/jspanel4@4.12.0/dist/extensions/contextmenu/jspanel.contextmenu', 'jspanel-dock': 'https://cdn.jsdelivr.net/npm/jspanel4@4.12.0/dist/extensions/dock/jspanel.dock', 'gridstack': 'https://cdn.jsdelivr.net/npm/gridstack@7.2.3/dist/gridstack-all', 'notyf': 'https://cdn.jsdelivr.net/npm/notyf@3/notyf.min'}, 'shim': {'jspanel': {'exports': 'jsPanel'}, 'gridstack': {'exports': 'GridStack'}}});\n      require([\"plotly\"], function(Plotly) {\n\twindow.Plotly = Plotly\n\ton_load()\n      })\n      require([\"jspanel\"], function(jsPanel) {\n\twindow.jsPanel = jsPanel\n\ton_load()\n      })\n      require([\"jspanel-modal\"], function() {\n\ton_load()\n      })\n      require([\"jspanel-tooltip\"], function() {\n\ton_load()\n      })\n      require([\"jspanel-hint\"], function() {\n\ton_load()\n      })\n      require([\"jspanel-layout\"], function() {\n\ton_load()\n      })\n      require([\"jspanel-contextmenu\"], function() {\n\ton_load()\n      })\n      require([\"jspanel-dock\"], function() {\n\ton_load()\n      })\n      require([\"gridstack\"], function(GridStack) {\n\twindow.GridStack = GridStack\n\ton_load()\n      })\n      require([\"notyf\"], function() {\n\ton_load()\n      })\n      root._bokeh_is_loading = css_urls.length + 10;\n    } else {\n      root._bokeh_is_loading = css_urls.length + js_urls.length + js_modules.length + Object.keys(js_exports).length;\n    }\n\n    var existing_stylesheets = []\n    var links = document.getElementsByTagName('link')\n    for (var i = 0; i < links.length; i++) {\n      var link = links[i]\n      if (link.href != null) {\n\texisting_stylesheets.push(link.href)\n      }\n    }\n    for (var i = 0; i < css_urls.length; i++) {\n      var url = css_urls[i];\n      if (existing_stylesheets.indexOf(url) !== -1) {\n\ton_load()\n\tcontinue;\n      }\n      const element = document.createElement(\"link\");\n      element.onload = on_load;\n      element.onerror = on_error;\n      element.rel = \"stylesheet\";\n      element.type = \"text/css\";\n      element.href = url;\n      console.debug(\"Bokeh: injecting link tag for BokehJS stylesheet: \", url);\n      document.body.appendChild(element);\n    }    if (((window['Plotly'] !== undefined) && (!(window['Plotly'] instanceof HTMLElement))) || window.requirejs) {\n      var urls = ['https://cdn.holoviz.org/panel/1.3.8/dist/bundled/plotlyplot/plotly-2.25.2.min.js'];\n      for (var i = 0; i < urls.length; i++) {\n        skip.push(urls[i])\n      }\n    }    if (((window['jsPanel'] !== undefined) && (!(window['jsPanel'] instanceof HTMLElement))) || window.requirejs) {\n      var urls = ['https://cdn.holoviz.org/panel/1.3.8/dist/bundled/floatpanel/jspanel4@4.12.0/dist/jspanel.js', 'https://cdn.holoviz.org/panel/1.3.8/dist/bundled/floatpanel/jspanel4@4.12.0/dist/extensions/modal/jspanel.modal.js', 'https://cdn.holoviz.org/panel/1.3.8/dist/bundled/floatpanel/jspanel4@4.12.0/dist/extensions/tooltip/jspanel.tooltip.js', 'https://cdn.holoviz.org/panel/1.3.8/dist/bundled/floatpanel/jspanel4@4.12.0/dist/extensions/hint/jspanel.hint.js', 'https://cdn.holoviz.org/panel/1.3.8/dist/bundled/floatpanel/jspanel4@4.12.0/dist/extensions/layout/jspanel.layout.js', 'https://cdn.holoviz.org/panel/1.3.8/dist/bundled/floatpanel/jspanel4@4.12.0/dist/extensions/contextmenu/jspanel.contextmenu.js', 'https://cdn.holoviz.org/panel/1.3.8/dist/bundled/floatpanel/jspanel4@4.12.0/dist/extensions/dock/jspanel.dock.js'];\n      for (var i = 0; i < urls.length; i++) {\n        skip.push(urls[i])\n      }\n    }    if (((window['GridStack'] !== undefined) && (!(window['GridStack'] instanceof HTMLElement))) || window.requirejs) {\n      var urls = ['https://cdn.holoviz.org/panel/1.3.8/dist/bundled/gridstack/gridstack@7.2.3/dist/gridstack-all.js'];\n      for (var i = 0; i < urls.length; i++) {\n        skip.push(urls[i])\n      }\n    }    if (((window['Notyf'] !== undefined) && (!(window['Notyf'] instanceof HTMLElement))) || window.requirejs) {\n      var urls = ['https://cdn.holoviz.org/panel/1.3.8/dist/bundled/notificationarea/notyf@3/notyf.min.js'];\n      for (var i = 0; i < urls.length; i++) {\n        skip.push(urls[i])\n      }\n    }    var existing_scripts = []\n    var scripts = document.getElementsByTagName('script')\n    for (var i = 0; i < scripts.length; i++) {\n      var script = scripts[i]\n      if (script.src != null) {\n\texisting_scripts.push(script.src)\n      }\n    }\n    for (var i = 0; i < js_urls.length; i++) {\n      var url = js_urls[i];\n      if (skip.indexOf(url) !== -1 || existing_scripts.indexOf(url) !== -1) {\n\tif (!window.requirejs) {\n\t  on_load();\n\t}\n\tcontinue;\n      }\n      var element = document.createElement('script');\n      element.onload = on_load;\n      element.onerror = on_error;\n      element.async = false;\n      element.src = url;\n      console.debug(\"Bokeh: injecting script tag for BokehJS library: \", url);\n      document.head.appendChild(element);\n    }\n    for (var i = 0; i < js_modules.length; i++) {\n      var url = js_modules[i];\n      if (skip.indexOf(url) !== -1 || existing_scripts.indexOf(url) !== -1) {\n\tif (!window.requirejs) {\n\t  on_load();\n\t}\n\tcontinue;\n      }\n      var element = document.createElement('script');\n      element.onload = on_load;\n      element.onerror = on_error;\n      element.async = false;\n      element.src = url;\n      element.type = \"module\";\n      console.debug(\"Bokeh: injecting script tag for BokehJS library: \", url);\n      document.head.appendChild(element);\n    }\n    for (const name in js_exports) {\n      var url = js_exports[name];\n      if (skip.indexOf(url) >= 0 || root[name] != null) {\n\tif (!window.requirejs) {\n\t  on_load();\n\t}\n\tcontinue;\n      }\n      var element = document.createElement('script');\n      element.onerror = on_error;\n      element.async = false;\n      element.type = \"module\";\n      console.debug(\"Bokeh: injecting script tag for BokehJS library: \", url);\n      element.textContent = `\n      import ${name} from \"${url}\"\n      window.${name} = ${name}\n      window._bokeh_on_load()\n      `\n      document.head.appendChild(element);\n    }\n    if (!js_urls.length && !js_modules.length) {\n      on_load()\n    }\n  };\n\n  function inject_raw_css(css) {\n    const element = document.createElement(\"style\");\n    element.appendChild(document.createTextNode(css));\n    document.body.appendChild(element);\n  }\n\n  var js_urls = [\"https://cdn.holoviz.org/panel/1.3.8/dist/bundled/jquery/jquery.slim.min.js\", \"https://cdn.holoviz.org/panel/1.3.8/dist/bundled/plotlyplot/plotly-2.25.2.min.js\", \"https://cdn.bokeh.org/bokeh/release/bokeh-3.3.4.min.js\", \"https://cdn.bokeh.org/bokeh/release/bokeh-gl-3.3.4.min.js\", \"https://cdn.bokeh.org/bokeh/release/bokeh-widgets-3.3.4.min.js\", \"https://cdn.bokeh.org/bokeh/release/bokeh-tables-3.3.4.min.js\", \"https://cdn.holoviz.org/panel/1.3.8/dist/panel.min.js\"];\n  var js_modules = [];\n  var js_exports = {};\n  var css_urls = [];\n  var inline_js = [    function(Bokeh) {\n      Bokeh.set_log_level(\"info\");\n    },\nfunction(Bokeh) {} // ensure no trailing comma for IE\n  ];\n\n  function run_inline_js() {\n    if ((root.Bokeh !== undefined) || (force === true)) {\n      for (var i = 0; i < inline_js.length; i++) {\n\ttry {\n          inline_js[i].call(root, root.Bokeh);\n\t} catch(e) {\n\t  if (!reloading) {\n\t    throw e;\n\t  }\n\t}\n      }\n      // Cache old bokeh versions\n      if (Bokeh != undefined && !reloading) {\n\tvar NewBokeh = root.Bokeh;\n\tif (Bokeh.versions === undefined) {\n\t  Bokeh.versions = new Map();\n\t}\n\tif (NewBokeh.version !== Bokeh.version) {\n\t  Bokeh.versions.set(NewBokeh.version, NewBokeh)\n\t}\n\troot.Bokeh = Bokeh;\n      }} else if (Date.now() < root._bokeh_timeout) {\n      setTimeout(run_inline_js, 100);\n    } else if (!root._bokeh_failed_load) {\n      console.log(\"Bokeh: BokehJS failed to load within specified timeout.\");\n      root._bokeh_failed_load = true;\n    }\n    root._bokeh_is_initializing = false\n  }\n\n  function load_or_wait() {\n    // Implement a backoff loop that tries to ensure we do not load multiple\n    // versions of Bokeh and its dependencies at the same time.\n    // In recent versions we use the root._bokeh_is_initializing flag\n    // to determine whether there is an ongoing attempt to initialize\n    // bokeh, however for backward compatibility we also try to ensure\n    // that we do not start loading a newer (Panel>=1.0 and Bokeh>3) version\n    // before older versions are fully initialized.\n    if (root._bokeh_is_initializing && Date.now() > root._bokeh_timeout) {\n      root._bokeh_is_initializing = false;\n      root._bokeh_onload_callbacks = undefined;\n      console.log(\"Bokeh: BokehJS was loaded multiple times but one version failed to initialize.\");\n      load_or_wait();\n    } else if (root._bokeh_is_initializing || (typeof root._bokeh_is_initializing === \"undefined\" && root._bokeh_onload_callbacks !== undefined)) {\n      setTimeout(load_or_wait, 100);\n    } else {\n      root._bokeh_is_initializing = true\n      root._bokeh_onload_callbacks = []\n      var bokeh_loaded = Bokeh != null && (Bokeh.version === py_version || (Bokeh.versions !== undefined && Bokeh.versions.has(py_version)));\n      if (!reloading && !bokeh_loaded) {\n\troot.Bokeh = undefined;\n      }\n      load_libs(css_urls, js_urls, js_modules, js_exports, function() {\n\tconsole.debug(\"Bokeh: BokehJS plotting callback run at\", now());\n\trun_inline_js();\n      });\n    }\n  }\n  // Give older versions of the autoload script a head-start to ensure\n  // they initialize before we start loading newer version.\n  setTimeout(load_or_wait, 100)\n}(window));",
      "application/vnd.holoviews_load.v0+json": ""
     },
     "metadata": {},
     "output_type": "display_data"
    },
    {
     "data": {
      "application/javascript": "\nif ((window.PyViz === undefined) || (window.PyViz instanceof HTMLElement)) {\n  window.PyViz = {comms: {}, comm_status:{}, kernels:{}, receivers: {}, plot_index: []}\n}\n\n\n    function JupyterCommManager() {\n    }\n\n    JupyterCommManager.prototype.register_target = function(plot_id, comm_id, msg_handler) {\n      if (window.comm_manager || ((window.Jupyter !== undefined) && (Jupyter.notebook.kernel != null))) {\n        var comm_manager = window.comm_manager || Jupyter.notebook.kernel.comm_manager;\n        comm_manager.register_target(comm_id, function(comm) {\n          comm.on_msg(msg_handler);\n        });\n      } else if ((plot_id in window.PyViz.kernels) && (window.PyViz.kernels[plot_id])) {\n        window.PyViz.kernels[plot_id].registerCommTarget(comm_id, function(comm) {\n          comm.onMsg = msg_handler;\n        });\n      } else if (typeof google != 'undefined' && google.colab.kernel != null) {\n        google.colab.kernel.comms.registerTarget(comm_id, (comm) => {\n          var messages = comm.messages[Symbol.asyncIterator]();\n          function processIteratorResult(result) {\n            var message = result.value;\n            console.log(message)\n            var content = {data: message.data, comm_id};\n            var buffers = []\n            for (var buffer of message.buffers || []) {\n              buffers.push(new DataView(buffer))\n            }\n            var metadata = message.metadata || {};\n            var msg = {content, buffers, metadata}\n            msg_handler(msg);\n            return messages.next().then(processIteratorResult);\n          }\n          return messages.next().then(processIteratorResult);\n        })\n      }\n    }\n\n    JupyterCommManager.prototype.get_client_comm = function(plot_id, comm_id, msg_handler) {\n      if (comm_id in window.PyViz.comms) {\n        return window.PyViz.comms[comm_id];\n      } else if (window.comm_manager || ((window.Jupyter !== undefined) && (Jupyter.notebook.kernel != null))) {\n        var comm_manager = window.comm_manager || Jupyter.notebook.kernel.comm_manager;\n        var comm = comm_manager.new_comm(comm_id, {}, {}, {}, comm_id);\n        if (msg_handler) {\n          comm.on_msg(msg_handler);\n        }\n      } else if ((plot_id in window.PyViz.kernels) && (window.PyViz.kernels[plot_id])) {\n        var comm = window.PyViz.kernels[plot_id].connectToComm(comm_id);\n        comm.open();\n        if (msg_handler) {\n          comm.onMsg = msg_handler;\n        }\n      } else if (typeof google != 'undefined' && google.colab.kernel != null) {\n        var comm_promise = google.colab.kernel.comms.open(comm_id)\n        comm_promise.then((comm) => {\n          window.PyViz.comms[comm_id] = comm;\n          if (msg_handler) {\n            var messages = comm.messages[Symbol.asyncIterator]();\n            function processIteratorResult(result) {\n              var message = result.value;\n              var content = {data: message.data};\n              var metadata = message.metadata || {comm_id};\n              var msg = {content, metadata}\n              msg_handler(msg);\n              return messages.next().then(processIteratorResult);\n            }\n            return messages.next().then(processIteratorResult);\n          }\n        }) \n        var sendClosure = (data, metadata, buffers, disposeOnDone) => {\n          return comm_promise.then((comm) => {\n            comm.send(data, metadata, buffers, disposeOnDone);\n          });\n        };\n        var comm = {\n          send: sendClosure\n        };\n      }\n      window.PyViz.comms[comm_id] = comm;\n      return comm;\n    }\n    window.PyViz.comm_manager = new JupyterCommManager();\n    \n\n\nvar JS_MIME_TYPE = 'application/javascript';\nvar HTML_MIME_TYPE = 'text/html';\nvar EXEC_MIME_TYPE = 'application/vnd.holoviews_exec.v0+json';\nvar CLASS_NAME = 'output';\n\n/**\n * Render data to the DOM node\n */\nfunction render(props, node) {\n  var div = document.createElement(\"div\");\n  var script = document.createElement(\"script\");\n  node.appendChild(div);\n  node.appendChild(script);\n}\n\n/**\n * Handle when a new output is added\n */\nfunction handle_add_output(event, handle) {\n  var output_area = handle.output_area;\n  var output = handle.output;\n  if ((output.data == undefined) || (!output.data.hasOwnProperty(EXEC_MIME_TYPE))) {\n    return\n  }\n  var id = output.metadata[EXEC_MIME_TYPE][\"id\"];\n  var toinsert = output_area.element.find(\".\" + CLASS_NAME.split(' ')[0]);\n  if (id !== undefined) {\n    var nchildren = toinsert.length;\n    var html_node = toinsert[nchildren-1].children[0];\n    html_node.innerHTML = output.data[HTML_MIME_TYPE];\n    var scripts = [];\n    var nodelist = html_node.querySelectorAll(\"script\");\n    for (var i in nodelist) {\n      if (nodelist.hasOwnProperty(i)) {\n        scripts.push(nodelist[i])\n      }\n    }\n\n    scripts.forEach( function (oldScript) {\n      var newScript = document.createElement(\"script\");\n      var attrs = [];\n      var nodemap = oldScript.attributes;\n      for (var j in nodemap) {\n        if (nodemap.hasOwnProperty(j)) {\n          attrs.push(nodemap[j])\n        }\n      }\n      attrs.forEach(function(attr) { newScript.setAttribute(attr.name, attr.value) });\n      newScript.appendChild(document.createTextNode(oldScript.innerHTML));\n      oldScript.parentNode.replaceChild(newScript, oldScript);\n    });\n    if (JS_MIME_TYPE in output.data) {\n      toinsert[nchildren-1].children[1].textContent = output.data[JS_MIME_TYPE];\n    }\n    output_area._hv_plot_id = id;\n    if ((window.Bokeh !== undefined) && (id in Bokeh.index)) {\n      window.PyViz.plot_index[id] = Bokeh.index[id];\n    } else {\n      window.PyViz.plot_index[id] = null;\n    }\n  } else if (output.metadata[EXEC_MIME_TYPE][\"server_id\"] !== undefined) {\n    var bk_div = document.createElement(\"div\");\n    bk_div.innerHTML = output.data[HTML_MIME_TYPE];\n    var script_attrs = bk_div.children[0].attributes;\n    for (var i = 0; i < script_attrs.length; i++) {\n      toinsert[toinsert.length - 1].childNodes[1].setAttribute(script_attrs[i].name, script_attrs[i].value);\n    }\n    // store reference to server id on output_area\n    output_area._bokeh_server_id = output.metadata[EXEC_MIME_TYPE][\"server_id\"];\n  }\n}\n\n/**\n * Handle when an output is cleared or removed\n */\nfunction handle_clear_output(event, handle) {\n  var id = handle.cell.output_area._hv_plot_id;\n  var server_id = handle.cell.output_area._bokeh_server_id;\n  if (((id === undefined) || !(id in PyViz.plot_index)) && (server_id !== undefined)) { return; }\n  var comm = window.PyViz.comm_manager.get_client_comm(\"hv-extension-comm\", \"hv-extension-comm\", function () {});\n  if (server_id !== null) {\n    comm.send({event_type: 'server_delete', 'id': server_id});\n    return;\n  } else if (comm !== null) {\n    comm.send({event_type: 'delete', 'id': id});\n  }\n  delete PyViz.plot_index[id];\n  if ((window.Bokeh !== undefined) & (id in window.Bokeh.index)) {\n    var doc = window.Bokeh.index[id].model.document\n    doc.clear();\n    const i = window.Bokeh.documents.indexOf(doc);\n    if (i > -1) {\n      window.Bokeh.documents.splice(i, 1);\n    }\n  }\n}\n\n/**\n * Handle kernel restart event\n */\nfunction handle_kernel_cleanup(event, handle) {\n  delete PyViz.comms[\"hv-extension-comm\"];\n  window.PyViz.plot_index = {}\n}\n\n/**\n * Handle update_display_data messages\n */\nfunction handle_update_output(event, handle) {\n  handle_clear_output(event, {cell: {output_area: handle.output_area}})\n  handle_add_output(event, handle)\n}\n\nfunction register_renderer(events, OutputArea) {\n  function append_mime(data, metadata, element) {\n    // create a DOM node to render to\n    var toinsert = this.create_output_subarea(\n    metadata,\n    CLASS_NAME,\n    EXEC_MIME_TYPE\n    );\n    this.keyboard_manager.register_events(toinsert);\n    // Render to node\n    var props = {data: data, metadata: metadata[EXEC_MIME_TYPE]};\n    render(props, toinsert[0]);\n    element.append(toinsert);\n    return toinsert\n  }\n\n  events.on('output_added.OutputArea', handle_add_output);\n  events.on('output_updated.OutputArea', handle_update_output);\n  events.on('clear_output.CodeCell', handle_clear_output);\n  events.on('delete.Cell', handle_clear_output);\n  events.on('kernel_ready.Kernel', handle_kernel_cleanup);\n\n  OutputArea.prototype.register_mime_type(EXEC_MIME_TYPE, append_mime, {\n    safe: true,\n    index: 0\n  });\n}\n\nif (window.Jupyter !== undefined) {\n  try {\n    var events = require('base/js/events');\n    var OutputArea = require('notebook/js/outputarea').OutputArea;\n    if (OutputArea.prototype.mime_types().indexOf(EXEC_MIME_TYPE) == -1) {\n      register_renderer(events, OutputArea);\n    }\n  } catch(err) {\n  }\n}\n",
      "application/vnd.holoviews_load.v0+json": ""
     },
     "metadata": {},
     "output_type": "display_data"
    },
    {
     "data": {
      "text/html": [
       "<style>*[data-root-id],\n",
       "*[data-root-id] > * {\n",
       "  box-sizing: border-box;\n",
       "  font-family: var(--jp-ui-font-family);\n",
       "  font-size: var(--jp-ui-font-size1);\n",
       "  color: var(--vscode-editor-foreground, var(--jp-ui-font-color1));\n",
       "}\n",
       "\n",
       "/* Override VSCode background color */\n",
       ".cell-output-ipywidget-background:has(\n",
       "    > .cell-output-ipywidget-background > .lm-Widget > *[data-root-id]\n",
       "  ),\n",
       ".cell-output-ipywidget-background:has(> .lm-Widget > *[data-root-id]) {\n",
       "  background-color: transparent !important;\n",
       "}\n",
       "</style>"
      ]
     },
     "metadata": {},
     "output_type": "display_data"
    },
    {
     "data": {
      "application/vnd.holoviews_exec.v0+json": "",
      "text/html": [
       "<div id='bdfd22c9-ab65-4762-b029-b2f5f17912b8'>\n",
       "  <div id=\"aac3d371-f4fc-4fa9-baee-1510ddbfa3d2\" data-root-id=\"bdfd22c9-ab65-4762-b029-b2f5f17912b8\" style=\"display: contents;\"></div>\n",
       "</div>\n",
       "<script type=\"application/javascript\">(function(root) {\n",
       "  var docs_json = {\"707b619c-a5ec-4b43-a98e-890a78bba0fa\":{\"version\":\"3.3.4\",\"title\":\"Bokeh Application\",\"roots\":[{\"type\":\"object\",\"name\":\"panel.models.browser.BrowserInfo\",\"id\":\"bdfd22c9-ab65-4762-b029-b2f5f17912b8\"},{\"type\":\"object\",\"name\":\"panel.models.comm_manager.CommManager\",\"id\":\"b65303c7-b6e8-462c-8eef-539a20e3a876\",\"attributes\":{\"plot_id\":\"bdfd22c9-ab65-4762-b029-b2f5f17912b8\",\"comm_id\":\"3bd1ebb0538e4c85aa79b4884a58dd41\",\"client_comm_id\":\"97f633e50a724a9d9eb9be98dc3cc575\"}}],\"defs\":[{\"type\":\"model\",\"name\":\"ReactiveHTML1\"},{\"type\":\"model\",\"name\":\"FlexBox1\",\"properties\":[{\"name\":\"align_content\",\"kind\":\"Any\",\"default\":\"flex-start\"},{\"name\":\"align_items\",\"kind\":\"Any\",\"default\":\"flex-start\"},{\"name\":\"flex_direction\",\"kind\":\"Any\",\"default\":\"row\"},{\"name\":\"flex_wrap\",\"kind\":\"Any\",\"default\":\"wrap\"},{\"name\":\"justify_content\",\"kind\":\"Any\",\"default\":\"flex-start\"}]},{\"type\":\"model\",\"name\":\"FloatPanel1\",\"properties\":[{\"name\":\"config\",\"kind\":\"Any\",\"default\":{\"type\":\"map\"}},{\"name\":\"contained\",\"kind\":\"Any\",\"default\":true},{\"name\":\"position\",\"kind\":\"Any\",\"default\":\"right-top\"},{\"name\":\"offsetx\",\"kind\":\"Any\",\"default\":null},{\"name\":\"offsety\",\"kind\":\"Any\",\"default\":null},{\"name\":\"theme\",\"kind\":\"Any\",\"default\":\"primary\"},{\"name\":\"status\",\"kind\":\"Any\",\"default\":\"normalized\"}]},{\"type\":\"model\",\"name\":\"GridStack1\",\"properties\":[{\"name\":\"mode\",\"kind\":\"Any\",\"default\":\"warn\"},{\"name\":\"ncols\",\"kind\":\"Any\",\"default\":null},{\"name\":\"nrows\",\"kind\":\"Any\",\"default\":null},{\"name\":\"allow_resize\",\"kind\":\"Any\",\"default\":true},{\"name\":\"allow_drag\",\"kind\":\"Any\",\"default\":true},{\"name\":\"state\",\"kind\":\"Any\",\"default\":[]}]},{\"type\":\"model\",\"name\":\"drag1\",\"properties\":[{\"name\":\"slider_width\",\"kind\":\"Any\",\"default\":5},{\"name\":\"slider_color\",\"kind\":\"Any\",\"default\":\"black\"},{\"name\":\"value\",\"kind\":\"Any\",\"default\":50}]},{\"type\":\"model\",\"name\":\"click1\",\"properties\":[{\"name\":\"terminal_output\",\"kind\":\"Any\",\"default\":\"\"},{\"name\":\"debug_name\",\"kind\":\"Any\",\"default\":\"\"},{\"name\":\"clears\",\"kind\":\"Any\",\"default\":0}]},{\"type\":\"model\",\"name\":\"copy_to_clipboard1\",\"properties\":[{\"name\":\"fill\",\"kind\":\"Any\",\"default\":\"none\"},{\"name\":\"value\",\"kind\":\"Any\",\"default\":null}]},{\"type\":\"model\",\"name\":\"FastWrapper1\",\"properties\":[{\"name\":\"object\",\"kind\":\"Any\",\"default\":null},{\"name\":\"style\",\"kind\":\"Any\",\"default\":null}]},{\"type\":\"model\",\"name\":\"NotificationAreaBase1\",\"properties\":[{\"name\":\"js_events\",\"kind\":\"Any\",\"default\":{\"type\":\"map\"}},{\"name\":\"position\",\"kind\":\"Any\",\"default\":\"bottom-right\"},{\"name\":\"_clear\",\"kind\":\"Any\",\"default\":0}]},{\"type\":\"model\",\"name\":\"NotificationArea1\",\"properties\":[{\"name\":\"js_events\",\"kind\":\"Any\",\"default\":{\"type\":\"map\"}},{\"name\":\"notifications\",\"kind\":\"Any\",\"default\":[]},{\"name\":\"position\",\"kind\":\"Any\",\"default\":\"bottom-right\"},{\"name\":\"_clear\",\"kind\":\"Any\",\"default\":0},{\"name\":\"types\",\"kind\":\"Any\",\"default\":[{\"type\":\"map\",\"entries\":[[\"type\",\"warning\"],[\"background\",\"#ffc107\"],[\"icon\",{\"type\":\"map\",\"entries\":[[\"className\",\"fas fa-exclamation-triangle\"],[\"tagName\",\"i\"],[\"color\",\"white\"]]}]]},{\"type\":\"map\",\"entries\":[[\"type\",\"info\"],[\"background\",\"#007bff\"],[\"icon\",{\"type\":\"map\",\"entries\":[[\"className\",\"fas fa-info-circle\"],[\"tagName\",\"i\"],[\"color\",\"white\"]]}]]}]}]},{\"type\":\"model\",\"name\":\"Notification\",\"properties\":[{\"name\":\"background\",\"kind\":\"Any\",\"default\":null},{\"name\":\"duration\",\"kind\":\"Any\",\"default\":3000},{\"name\":\"icon\",\"kind\":\"Any\",\"default\":null},{\"name\":\"message\",\"kind\":\"Any\",\"default\":\"\"},{\"name\":\"notification_type\",\"kind\":\"Any\",\"default\":null},{\"name\":\"_destroyed\",\"kind\":\"Any\",\"default\":false}]},{\"type\":\"model\",\"name\":\"TemplateActions1\",\"properties\":[{\"name\":\"open_modal\",\"kind\":\"Any\",\"default\":0},{\"name\":\"close_modal\",\"kind\":\"Any\",\"default\":0}]},{\"type\":\"model\",\"name\":\"BootstrapTemplateActions1\",\"properties\":[{\"name\":\"open_modal\",\"kind\":\"Any\",\"default\":0},{\"name\":\"close_modal\",\"kind\":\"Any\",\"default\":0}]},{\"type\":\"model\",\"name\":\"MaterialTemplateActions1\",\"properties\":[{\"name\":\"open_modal\",\"kind\":\"Any\",\"default\":0},{\"name\":\"close_modal\",\"kind\":\"Any\",\"default\":0}]}]}};\n",
       "  var render_items = [{\"docid\":\"707b619c-a5ec-4b43-a98e-890a78bba0fa\",\"roots\":{\"bdfd22c9-ab65-4762-b029-b2f5f17912b8\":\"aac3d371-f4fc-4fa9-baee-1510ddbfa3d2\"},\"root_ids\":[\"bdfd22c9-ab65-4762-b029-b2f5f17912b8\"]}];\n",
       "  var docs = Object.values(docs_json)\n",
       "  if (!docs) {\n",
       "    return\n",
       "  }\n",
       "  const py_version = docs[0].version.replace('rc', '-rc.').replace('.dev', '-dev.')\n",
       "  function embed_document(root) {\n",
       "    var Bokeh = get_bokeh(root)\n",
       "    Bokeh.embed.embed_items_notebook(docs_json, render_items);\n",
       "    for (const render_item of render_items) {\n",
       "      for (const root_id of render_item.root_ids) {\n",
       "\tconst id_el = document.getElementById(root_id)\n",
       "\tif (id_el.children.length && (id_el.children[0].className === 'bk-root')) {\n",
       "\t  const root_el = id_el.children[0]\n",
       "\t  root_el.id = root_el.id + '-rendered'\n",
       "\t}\n",
       "      }\n",
       "    }\n",
       "  }\n",
       "  function get_bokeh(root) {\n",
       "    if (root.Bokeh === undefined) {\n",
       "      return null\n",
       "    } else if (root.Bokeh.version !== py_version) {\n",
       "      if (root.Bokeh.versions === undefined || !root.Bokeh.versions.has(py_version)) {\n",
       "\treturn null\n",
       "      }\n",
       "      return root.Bokeh.versions.get(py_version);\n",
       "    } else if (root.Bokeh.version === py_version) {\n",
       "      return root.Bokeh\n",
       "    }\n",
       "    return null\n",
       "  }\n",
       "  function is_loaded(root) {\n",
       "    var Bokeh = get_bokeh(root)\n",
       "    return (Bokeh != null && Bokeh.Panel !== undefined && ( root['Plotly'] !== undefined) && ( root['Plotly'] !== undefined))\n",
       "  }\n",
       "  if (is_loaded(root)) {\n",
       "    embed_document(root);\n",
       "  } else {\n",
       "    var attempts = 0;\n",
       "    var timer = setInterval(function(root) {\n",
       "      if (is_loaded(root)) {\n",
       "        clearInterval(timer);\n",
       "        embed_document(root);\n",
       "      } else if (document.readyState == \"complete\") {\n",
       "        attempts++;\n",
       "        if (attempts > 200) {\n",
       "          clearInterval(timer);\n",
       "\t  var Bokeh = get_bokeh(root)\n",
       "\t  if (Bokeh == null || Bokeh.Panel == null) {\n",
       "            console.warn(\"Panel: ERROR: Unable to run Panel code because Bokeh or Panel library is missing\");\n",
       "\t  } else {\n",
       "\t    console.warn(\"Panel: WARNING: Attempting to render but not all required libraries could be resolved.\")\n",
       "\t    embed_document(root)\n",
       "\t  }\n",
       "        }\n",
       "      }\n",
       "    }, 25, root)\n",
       "  }\n",
       "})(window);</script>"
      ]
     },
     "metadata": {
      "application/vnd.holoviews_exec.v0+json": {
       "id": "bdfd22c9-ab65-4762-b029-b2f5f17912b8"
      }
     },
     "output_type": "display_data"
    },
    {
     "data": {
      "text/plain": [
       "polars.config.Config"
      ]
     },
     "execution_count": 1,
     "metadata": {},
     "output_type": "execute_result"
    }
   ],
   "source": [
    "import clickhouse_connect\n",
    "import os\n",
    "import panel as pn\n",
    "import polars as pl\n",
    "\n",
    "pn.extension(\"plotly\", template=\"material\", sizing_mode=\"stretch_width\")\n",
    "pl.Config.set_fmt_str_lengths(200)\n",
    "pl.Config.set_fmt_float(\"full\")"
   ]
  },
  {
   "cell_type": "code",
   "execution_count": 2,
   "metadata": {},
   "outputs": [],
   "source": [
    "# Clickhouse Format Settings - https://clickhouse.com/docs/en/integrations/python#read-formats\n",
    "from clickhouse_connect.datatypes.format import set_read_format\n",
    "\n",
    "# Return both IPv6 and IPv4 values as strings\n",
    "set_read_format(\"IPv*\", \"string\")\n",
    "\n",
    "# Return binary as string\n",
    "set_read_format(\"FixedString\", \"string\")"
   ]
  },
  {
   "cell_type": "markdown",
   "metadata": {},
   "source": [
    "### Clickhouse Queries"
   ]
  },
  {
   "cell_type": "code",
   "execution_count": 3,
   "metadata": {},
   "outputs": [],
   "source": [
    "# Create ClickHouse client\n",
    "client = clickhouse_connect.get_client(\n",
    "    host=os.environ.get(\"HOST\"),\n",
    "    username=os.environ.get(\"USERNAME\"),\n",
    "    password=os.environ.get(\"PASSWORD\"),\n",
    "    secure=True,\n",
    ")"
   ]
  },
  {
   "cell_type": "code",
   "execution_count": 4,
   "metadata": {},
   "outputs": [],
   "source": [
    "# block + blob size\n",
    "block_size_query = \"\"\"\n",
    "SELECT \n",
    "    a.event_date_time,\n",
    "    a.slot,\n",
    "    a.slot_start_date_time,\n",
    "    a.epoch,\n",
    "    a.epoch_start_date_time,\n",
    "    a.block_total_bytes,\n",
    "    a.block_total_bytes_compressed,\n",
    "    a.block_root AS block_root_block,\n",
    "    a.execution_payload_block_number,\n",
    "    a.execution_payload_transactions_count,\n",
    "    a.execution_payload_transactions_total_bytes,\n",
    "    a.execution_payload_transactions_total_bytes_compressed,\n",
    "    b.blob_index,\n",
    "    b.blob_size,\n",
    "    a.meta_network_name AS meta_network_name_block,\n",
    "    b.meta_network_name AS meta_network_name_blob\n",
    "FROM \n",
    "    (SELECT \n",
    "        event_date_time,\n",
    "        slot,\n",
    "        slot_start_date_time,\n",
    "        epoch,\n",
    "        epoch_start_date_time,\n",
    "        block_total_bytes,\n",
    "        block_total_bytes_compressed,\n",
    "        block_root,\n",
    "        execution_payload_block_number,\n",
    "        execution_payload_transactions_count,\n",
    "        execution_payload_transactions_total_bytes,\n",
    "        execution_payload_transactions_total_bytes_compressed,\n",
    "        meta_network_name\n",
    "     FROM canonical_beacon_block\n",
    "     WHERE slot_start_date_time > NOW() - INTERVAL '7 DAYS'\n",
    "     AND meta_network_name IN ('mainnet', 'holesky')\n",
    "    ) AS a\n",
    "LEFT JOIN \n",
    "    (SELECT \n",
    "        event_date_time,\n",
    "        slot,\n",
    "        slot_start_date_time,\n",
    "        epoch,\n",
    "        block_root,\n",
    "        blob_index,\n",
    "        blob_size,\n",
    "        meta_network_name\n",
    "     FROM canonical_beacon_blob_sidecar\n",
    "     WHERE slot_start_date_time > NOW() - INTERVAL '7 DAYS'\n",
    "     AND meta_network_name IN ('mainnet', 'holesky')\n",
    "    ) AS b\n",
    "ON a.slot = b.slot\n",
    "\"\"\""
   ]
  },
  {
   "cell_type": "code",
   "execution_count": 5,
   "metadata": {},
   "outputs": [],
   "source": [
    "# blob sidecar propagation\n",
    "blob_propagation_slot: str = \"\"\"\n",
    "SELECT\n",
    "    event_date_time,\n",
    "    slot_start_date_time,\n",
    "    propagation_slot_start_diff,\n",
    "    slot,\n",
    "    epoch,\n",
    "    meta_network_name,\n",
    "    meta_client_name\n",
    "FROM beacon_api_eth_v1_events_blob_sidecar\n",
    "WHERE slot_start_date_time > NOW() - INTERVAL '7 DAYS'\n",
    "AND meta_network_name IN ('mainnet', 'holesky')\n",
    "\"\"\""
   ]
  },
  {
   "cell_type": "code",
   "execution_count": 6,
   "metadata": {},
   "outputs": [],
   "source": [
    "# clickhouse queries\n",
    "# block size\n",
    "block_size_df = client.query_df(block_size_query)\n",
    "block_size_df_pl: pl.DataFrame = pl.from_pandas(block_size_df).unique()"
   ]
  },
  {
   "cell_type": "code",
   "execution_count": 7,
   "metadata": {},
   "outputs": [],
   "source": [
    "# blob propagation\n",
    "blob_propagation_slot_query = client.query_df(blob_propagation_slot)\n",
    "blob_propagation_df_pl: pl.DataFrame = pl.from_pandas(\n",
    "    blob_propagation_slot_query\n",
    ").unique()"
   ]
  },
  {
   "cell_type": "code",
   "execution_count": 8,
   "metadata": {},
   "outputs": [],
   "source": [
    "# block blob size table\n",
    "block_size_df_table = (\n",
    "    block_size_df_pl.drop(\"event_date_time\")\n",
    "    .unique()\n",
    "    .group_by(\"meta_network_name_block\", \"block_root_block\")\n",
    "    .agg(\n",
    "        [\n",
    "            pl.col(\"slot_start_date_time\").first().alias(\"slot_start_date_time\"),\n",
    "            pl.col(\"block_total_bytes\").first().alias(\"block_total_bytes\"),\n",
    "            # how do beacon blocks get compressed? Does the blob part get compressed as well?\n",
    "            # https://github.com/ethereum/consensus-specs/blob/45b1026cb65dc7f5f45aa38cb89ed63294048484/specs/phase0/p2p-interface.md#compressionencoding\n",
    "            pl.col(\"block_total_bytes_compressed\")\n",
    "            .first()\n",
    "            .alias(\"block_total_bytes_compressed\"),\n",
    "            pl.col(\"execution_payload_transactions_total_bytes\")\n",
    "            .first()\n",
    "            .alias(\"execution_payload_transactions_total_bytes\"),\n",
    "            pl.col(\"blob_index\").max().alias(\"blob_count\"),\n",
    "            pl.col(\"blob_size\").sum().alias(\"blob_size_sum\"),\n",
    "            pl.col(\"slot\").first().alias(\"slot\"),\n",
    "            pl.col(\"epoch\").first().alias(\"epoch\"),\n",
    "        ]\n",
    "    )\n",
    ")"
   ]
  },
  {
   "cell_type": "code",
   "execution_count": 9,
   "metadata": {},
   "outputs": [],
   "source": [
    "# blob propagation table\n",
    "blob_propagation_table = (\n",
    "    pl.from_pandas(blob_propagation_slot_query)\n",
    "    .unique()\n",
    "    .group_by(\"slot\")\n",
    "    .agg(\n",
    "        [\n",
    "            pl.col(\"slot_start_date_time\").first(),\n",
    "            pl.col(\"meta_network_name\").first(),\n",
    "            pl.col(\"propagation_slot_start_diff\")\n",
    "            .mean()\n",
    "            .round(2)\n",
    "            .alias(\"mean_propagation_slot_start_diff\"),\n",
    "            pl.len().alias(\"count\"),\n",
    "            pl.col(\"epoch\").first(),\n",
    "        ]\n",
    "    )\n",
    ")"
   ]
  },
  {
   "cell_type": "markdown",
   "metadata": {},
   "source": [
    "### Panel Charts"
   ]
  },
  {
   "cell_type": "code",
   "execution_count": 10,
   "metadata": {},
   "outputs": [],
   "source": [
    "def block_size_chart(network: str, group_by_epoch: bool = True):\n",
    "    \"\"\"Create a line chart comparing compressed block size and uncompressed blob size.\n",
    "\n",
    "    Args:\n",
    "        network (str): The network name to filter data by.\n",
    "        group_by_epoch (bool, optional): If True, group data by epoch for a cleaner chart. Defaults to True.\n",
    "    \"\"\"\n",
    "    # Filter the dataframe for the specified network\n",
    "    filtered_df = block_size_df_table.filter(\n",
    "        pl.col(\"meta_network_name_block\") == network\n",
    "    )\n",
    "\n",
    "    # Use a match-case statement to handle grouping\n",
    "    match group_by_epoch:\n",
    "        case True:\n",
    "            return (\n",
    "                filtered_df.group_by(\"epoch\").agg(\n",
    "                    [\n",
    "                        pl.col(\"slot_start_date_time\").first(),\n",
    "                        (pl.col(\"block_total_bytes_compressed\").mean() / 1000).alias(\n",
    "                            \"compressed block\"\n",
    "                        ),\n",
    "                        (pl.col(\"blob_size_sum\").mean() / 1000).alias(\n",
    "                            \"uncompressed blob\"\n",
    "                        ),\n",
    "                    ]\n",
    "                )\n",
    "            ).plot.line(\n",
    "                x=\"slot_start_date_time\",\n",
    "                y=[\"compressed block\", \"uncompressed blob\"],\n",
    "                title=f\"Compressed Block vs Blob size ({network})\",\n",
    "                xlabel=\"Date\",\n",
    "                ylabel=\"Size (in kb)\",\n",
    "                line_width=2,\n",
    "                alpha=0.8,\n",
    "            )\n",
    "        case False:\n",
    "            return (\n",
    "                filtered_df.with_columns(\n",
    "                    [\n",
    "                        (pl.col(\"block_total_bytes_compressed\") / 1000).alias(\n",
    "                            \"compressed block\"\n",
    "                        ),\n",
    "                        (pl.col(\"blob_size_sum\") / 1000).alias(\"uncompressed blob\"),\n",
    "                    ]\n",
    "                )\n",
    "            ).plot.line(\n",
    "                x=\"slot_start_date_time\",\n",
    "                y=[\"compressed block\", \"uncompressed blob\"],\n",
    "                title=f\"Compressed Block vs Blob size ({network})\",\n",
    "                xlabel=\"Date\",\n",
    "                ylabel=\"Size (in kb)\",\n",
    "                line_width=2,\n",
    "                alpha=0.8,\n",
    "            )"
   ]
  },
  {
   "cell_type": "code",
   "execution_count": 18,
   "metadata": {},
   "outputs": [],
   "source": [
    "def blob_propagation_chart(network: str, group_by_epoch: bool = True):\n",
    "    \"\"\"Create a line chart comparing mean propagation slot start difference by network.\n",
    "\n",
    "    Args:\n",
    "        network (str): The network name to filter data by.\n",
    "        group_by_epoch (bool, optional): If True, group data by epoch for a cleaner chart. Defaults to True.\n",
    "    \"\"\"\n",
    "    # Filter the dataframe for the specified network\n",
    "    filtered_df = blob_propagation_table.filter(pl.col(\"meta_network_name\") == network)\n",
    "\n",
    "    match group_by_epoch:\n",
    "        case False:\n",
    "            return filtered_df.sort(by=\"slot_start_date_time\").plot.line(\n",
    "                x=\"slot_start_date_time\",\n",
    "                y=\"mean_propagation_slot_start_diff\",\n",
    "                title=f\"Propagation Time {network})\",\n",
    "                xlabel=\"Date\",\n",
    "                ylabel=\"time (ms)\",\n",
    "                line_width=2,\n",
    "                alpha=0.8,\n",
    "            )\n",
    "        case True:\n",
    "            return (\n",
    "                filtered_df.group_by(\"epoch\")\n",
    "                .agg(\n",
    "                    [\n",
    "                        pl.col(\"slot_start_date_time\").first(),\n",
    "                        pl.col(\"mean_propagation_slot_start_diff\").mean(),\n",
    "                    ]\n",
    "                )\n",
    "                .sort(by=\"slot_start_date_time\")\n",
    "            ).plot.line(\n",
    "                x=\"slot_start_date_time\",\n",
    "                y=\"mean_propagation_slot_start_diff\",\n",
    "                title=f\"Propagation Time {network})\",\n",
    "                xlabel=\"Date\",\n",
    "                ylabel=\"time (ms)\",\n",
    "                line_width=2,\n",
    "                alpha=0.8,\n",
    "            )"
   ]
  },
  {
   "cell_type": "code",
   "execution_count": 22,
   "metadata": {},
   "outputs": [
    {
     "data": {},
     "metadata": {},
     "output_type": "display_data"
    },
    {
     "data": {
      "application/vnd.holoviews_exec.v0+json": "",
      "text/html": [
       "<div id='43a636b5-c4c2-4b1b-9a55-597b88312104'>\n",
       "  <div id=\"b4c74e65-52fc-4c2b-b947-7a3974800a55\" data-root-id=\"43a636b5-c4c2-4b1b-9a55-597b88312104\" style=\"display: contents;\"></div>\n",
       "</div>\n",
       "<script type=\"application/javascript\">(function(root) {\n",
       "  var docs_json = {\"f219658f-b069-4eab-9ed8-f537176ef100\":{\"version\":\"3.3.4\",\"title\":\"Bokeh Application\",\"roots\":[{\"type\":\"object\",\"name\":\"Row\",\"id\":\"43a636b5-c4c2-4b1b-9a55-597b88312104\",\"attributes\":{\"name\":\"Row02275\",\"tags\":[\"embedded\"],\"stylesheets\":[\"\\n:host(.pn-loading.pn-arc):before, .pn-loading.pn-arc:before {\\n  background-image: url(\\\"data:image/svg+xml;base64,PHN2ZyB4bWxucz0iaHR0cDovL3d3dy53My5vcmcvMjAwMC9zdmciIHN0eWxlPSJtYXJnaW46IGF1dG87IGJhY2tncm91bmQ6IG5vbmU7IGRpc3BsYXk6IGJsb2NrOyBzaGFwZS1yZW5kZXJpbmc6IGF1dG87IiB2aWV3Qm94PSIwIDAgMTAwIDEwMCIgcHJlc2VydmVBc3BlY3RSYXRpbz0ieE1pZFlNaWQiPiAgPGNpcmNsZSBjeD0iNTAiIGN5PSI1MCIgZmlsbD0ibm9uZSIgc3Ryb2tlPSIjYzNjM2MzIiBzdHJva2Utd2lkdGg9IjEwIiByPSIzNSIgc3Ryb2tlLWRhc2hhcnJheT0iMTY0LjkzMzYxNDMxMzQ2NDE1IDU2Ljk3Nzg3MTQzNzgyMTM4Ij4gICAgPGFuaW1hdGVUcmFuc2Zvcm0gYXR0cmlidXRlTmFtZT0idHJhbnNmb3JtIiB0eXBlPSJyb3RhdGUiIHJlcGVhdENvdW50PSJpbmRlZmluaXRlIiBkdXI9IjFzIiB2YWx1ZXM9IjAgNTAgNTA7MzYwIDUwIDUwIiBrZXlUaW1lcz0iMDsxIj48L2FuaW1hdGVUcmFuc2Zvcm0+ICA8L2NpcmNsZT48L3N2Zz4=\\\");\\n  background-size: auto calc(min(50%, 400px));\\n}\",{\"type\":\"object\",\"name\":\"ImportedStyleSheet\",\"id\":\"5eaaa87d-bd3d-4b17-84fb-2edfe6a602cb\",\"attributes\":{\"url\":\"https://cdn.holoviz.org/panel/1.3.8/dist/css/loading.css\"}},{\"type\":\"object\",\"name\":\"ImportedStyleSheet\",\"id\":\"55863d22-dcfe-4c01-886f-6b057a513f78\",\"attributes\":{\"url\":\"https://cdn.holoviz.org/panel/1.3.8/dist/css/listpanel.css\"}},{\"type\":\"object\",\"name\":\"ImportedStyleSheet\",\"id\":\"4bee0f34-db3c-46eb-bc61-7e569e5375f2\",\"attributes\":{\"url\":\"https://cdn.holoviz.org/panel/1.3.8/dist/bundled/theme/default.css\"}},{\"type\":\"object\",\"name\":\"ImportedStyleSheet\",\"id\":\"94476780-90b5-4ee3-bc0f-336c65697c02\",\"attributes\":{\"url\":\"https://cdn.holoviz.org/panel/1.3.8/dist/bundled/theme/native.css\"}}],\"min_width\":700,\"margin\":0,\"sizing_mode\":\"stretch_width\",\"align\":\"start\",\"children\":[{\"type\":\"object\",\"name\":\"Spacer\",\"id\":\"e76a1d20-f74b-4152-87bf-c47f4d04e854\",\"attributes\":{\"name\":\"HSpacer02282\",\"stylesheets\":[\"\\n:host(.pn-loading.pn-arc):before, .pn-loading.pn-arc:before {\\n  background-image: url(\\\"data:image/svg+xml;base64,PHN2ZyB4bWxucz0iaHR0cDovL3d3dy53My5vcmcvMjAwMC9zdmciIHN0eWxlPSJtYXJnaW46IGF1dG87IGJhY2tncm91bmQ6IG5vbmU7IGRpc3BsYXk6IGJsb2NrOyBzaGFwZS1yZW5kZXJpbmc6IGF1dG87IiB2aWV3Qm94PSIwIDAgMTAwIDEwMCIgcHJlc2VydmVBc3BlY3RSYXRpbz0ieE1pZFlNaWQiPiAgPGNpcmNsZSBjeD0iNTAiIGN5PSI1MCIgZmlsbD0ibm9uZSIgc3Ryb2tlPSIjYzNjM2MzIiBzdHJva2Utd2lkdGg9IjEwIiByPSIzNSIgc3Ryb2tlLWRhc2hhcnJheT0iMTY0LjkzMzYxNDMxMzQ2NDE1IDU2Ljk3Nzg3MTQzNzgyMTM4Ij4gICAgPGFuaW1hdGVUcmFuc2Zvcm0gYXR0cmlidXRlTmFtZT0idHJhbnNmb3JtIiB0eXBlPSJyb3RhdGUiIHJlcGVhdENvdW50PSJpbmRlZmluaXRlIiBkdXI9IjFzIiB2YWx1ZXM9IjAgNTAgNTA7MzYwIDUwIDUwIiBrZXlUaW1lcz0iMDsxIj48L2FuaW1hdGVUcmFuc2Zvcm0+ICA8L2NpcmNsZT48L3N2Zz4=\\\");\\n  background-size: auto calc(min(50%, 400px));\\n}\",{\"id\":\"5eaaa87d-bd3d-4b17-84fb-2edfe6a602cb\"},{\"id\":\"4bee0f34-db3c-46eb-bc61-7e569e5375f2\"},{\"id\":\"94476780-90b5-4ee3-bc0f-336c65697c02\"}],\"margin\":0,\"sizing_mode\":\"stretch_width\",\"align\":\"start\"}},{\"type\":\"object\",\"name\":\"Figure\",\"id\":\"024ce770-a036-4dd3-8d58-1bd02600915e\",\"attributes\":{\"width\":700,\"height\":300,\"margin\":[5,10],\"sizing_mode\":\"fixed\",\"align\":\"start\",\"x_range\":{\"type\":\"object\",\"name\":\"Range1d\",\"id\":\"c2bfdaa8-a026-4c54-bafd-3110de001d48\",\"attributes\":{\"tags\":[[[\"slot_start_date_time\",\"slot_start_date_time\",null]],[]],\"start\":1709677944000.0,\"end\":1710282480000.0,\"reset_start\":1709677944000.0,\"reset_end\":1710282480000.0}},\"y_range\":{\"type\":\"object\",\"name\":\"Range1d\",\"id\":\"4362c06a-a35d-4abc-bcdb-db199e01aa90\",\"attributes\":{\"tags\":[[[\"mean_propagation_slot_start_diff\",\"mean_propagation_slot_start_diff\",null]],{\"type\":\"map\",\"entries\":[[\"invert_yaxis\",false],[\"autorange\",false]]}],\"start\":-5374.8083409090905,\"end\":73416.48175,\"reset_start\":-5374.8083409090905,\"reset_end\":73416.48175}},\"x_scale\":{\"type\":\"object\",\"name\":\"LinearScale\",\"id\":\"2b9b227b-fd75-4dad-8efe-1a14ce471a10\"},\"y_scale\":{\"type\":\"object\",\"name\":\"LinearScale\",\"id\":\"58c2277b-a204-4365-a4ca-0f97f536a54d\"},\"title\":{\"type\":\"object\",\"name\":\"Title\",\"id\":\"026975d3-4004-41ba-b2f7-734ec2d7bc54\",\"attributes\":{\"text\":\"Propagation Time holesky)\",\"text_color\":\"black\",\"text_font_size\":\"12pt\"}},\"renderers\":[{\"type\":\"object\",\"name\":\"GlyphRenderer\",\"id\":\"1c813414-affe-427c-8712-30e5c7e50a83\",\"attributes\":{\"data_source\":{\"type\":\"object\",\"name\":\"ColumnDataSource\",\"id\":\"2a6fe64b-0011-4b1e-b292-5fc08d754630\",\"attributes\":{\"selected\":{\"type\":\"object\",\"name\":\"Selection\",\"id\":\"34981d7e-3f33-4981-b25c-caf51664e57e\",\"attributes\":{\"indices\":[],\"line_indices\":[]}},\"selection_policy\":{\"type\":\"object\",\"name\":\"UnionRenderers\",\"id\":\"a460b077-043c-4d07-8229-7b98f506d5a9\"},\"data\":{\"type\":\"map\",\"entries\":[[\"slot_start_date_time\",{\"type\":\"ndarray\",\"array\":{\"type\":\"bytes\",\"data\":\"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\"},\"shape\":[1576],\"dtype\":\"float64\",\"order\":\"little\"}],[\"mean_propagation_slot_start_diff\",{\"type\":\"ndarray\",\"array\":{\"type\":\"bytes\",\"data\":\"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\"},\"shape\":[1576],\"dtype\":\"float64\",\"order\":\"little\"}]]}}},\"view\":{\"type\":\"object\",\"name\":\"CDSView\",\"id\":\"3d56bcb1-f9ba-4052-bd44-026310768788\",\"attributes\":{\"filter\":{\"type\":\"object\",\"name\":\"AllIndices\",\"id\":\"e55de4e9-a4fe-4827-94b5-f598cb06547d\"}}},\"glyph\":{\"type\":\"object\",\"name\":\"Line\",\"id\":\"83ba7fed-f690-47e8-9360-6c3b1fb8d5aa\",\"attributes\":{\"tags\":[\"apply_ranges\"],\"x\":{\"type\":\"field\",\"field\":\"slot_start_date_time\"},\"y\":{\"type\":\"field\",\"field\":\"mean_propagation_slot_start_diff\"},\"line_color\":\"#30a2da\",\"line_alpha\":0.8,\"line_width\":2}},\"selection_glyph\":{\"type\":\"object\",\"name\":\"Line\",\"id\":\"85952a25-afbd-4d3b-80b3-022d99ee3548\",\"attributes\":{\"tags\":[\"apply_ranges\"],\"x\":{\"type\":\"field\",\"field\":\"slot_start_date_time\"},\"y\":{\"type\":\"field\",\"field\":\"mean_propagation_slot_start_diff\"},\"line_color\":\"#30a2da\",\"line_alpha\":0.8,\"line_width\":2}},\"nonselection_glyph\":{\"type\":\"object\",\"name\":\"Line\",\"id\":\"aaec7e1b-0ca4-437e-8800-59e93d9c9eea\",\"attributes\":{\"tags\":[\"apply_ranges\"],\"x\":{\"type\":\"field\",\"field\":\"slot_start_date_time\"},\"y\":{\"type\":\"field\",\"field\":\"mean_propagation_slot_start_diff\"},\"line_color\":\"#30a2da\",\"line_alpha\":0.8,\"line_width\":2}},\"muted_glyph\":{\"type\":\"object\",\"name\":\"Line\",\"id\":\"4502457a-386e-4d5f-9eb0-85fd4ca7b486\",\"attributes\":{\"tags\":[\"apply_ranges\"],\"x\":{\"type\":\"field\",\"field\":\"slot_start_date_time\"},\"y\":{\"type\":\"field\",\"field\":\"mean_propagation_slot_start_diff\"},\"line_color\":\"#30a2da\",\"line_alpha\":0.2,\"line_width\":2}}}}],\"toolbar\":{\"type\":\"object\",\"name\":\"Toolbar\",\"id\":\"2e9faef8-a0b5-45fe-8a26-7b9f11461c51\",\"attributes\":{\"tools\":[{\"type\":\"object\",\"name\":\"WheelZoomTool\",\"id\":\"0b515464-681a-4bac-8746-23ff9d6006d6\",\"attributes\":{\"tags\":[\"hv_created\"],\"renderers\":\"auto\",\"zoom_together\":\"none\"}},{\"type\":\"object\",\"name\":\"HoverTool\",\"id\":\"47459b41-ea2d-4808-99ad-13b4b3fb9694\",\"attributes\":{\"tags\":[\"hv_created\"],\"renderers\":[{\"id\":\"1c813414-affe-427c-8712-30e5c7e50a83\"}],\"tooltips\":[[\"slot_start_date_time\",\"@{slot_start_date_time}{%F %T}\"],[\"mean_propagation_slot_start_diff\",\"@{mean_propagation_slot_start_diff}\"]],\"formatters\":{\"type\":\"map\",\"entries\":[[\"@{slot_start_date_time}\",\"datetime\"]]}}},{\"type\":\"object\",\"name\":\"SaveTool\",\"id\":\"6f95d20a-4a91-4eca-a1b8-0eae497ea126\"},{\"type\":\"object\",\"name\":\"PanTool\",\"id\":\"036af475-7c88-458a-9349-f0113e2ef7fb\"},{\"type\":\"object\",\"name\":\"BoxZoomTool\",\"id\":\"70377734-e2ea-40ba-a22e-7797de7bd0ba\",\"attributes\":{\"overlay\":{\"type\":\"object\",\"name\":\"BoxAnnotation\",\"id\":\"68c3edbb-2445-4455-91ff-0afdaff3cbba\",\"attributes\":{\"syncable\":false,\"level\":\"overlay\",\"visible\":false,\"left\":{\"type\":\"number\",\"value\":\"nan\"},\"right\":{\"type\":\"number\",\"value\":\"nan\"},\"top\":{\"type\":\"number\",\"value\":\"nan\"},\"bottom\":{\"type\":\"number\",\"value\":\"nan\"},\"left_units\":\"canvas\",\"right_units\":\"canvas\",\"top_units\":\"canvas\",\"bottom_units\":\"canvas\",\"line_color\":\"black\",\"line_alpha\":1.0,\"line_width\":2,\"line_dash\":[4,4],\"fill_color\":\"lightgrey\",\"fill_alpha\":0.5}}}},{\"type\":\"object\",\"name\":\"ResetTool\",\"id\":\"1ed469b9-a94a-4455-88c2-599c4aca5fd5\"}],\"active_drag\":{\"id\":\"036af475-7c88-458a-9349-f0113e2ef7fb\"},\"active_scroll\":{\"id\":\"0b515464-681a-4bac-8746-23ff9d6006d6\"}}},\"left\":[{\"type\":\"object\",\"name\":\"LinearAxis\",\"id\":\"4e4e48ae-a50c-4f53-b3ec-81c5fc5480e2\",\"attributes\":{\"ticker\":{\"type\":\"object\",\"name\":\"BasicTicker\",\"id\":\"194fc975-f4ed-4424-be4c-78013fbbbaf7\",\"attributes\":{\"mantissas\":[1,2,5]}},\"formatter\":{\"type\":\"object\",\"name\":\"BasicTickFormatter\",\"id\":\"b797067c-6422-4810-9c2a-f0f0aba0fe4e\"},\"axis_label\":\"time (ms)\",\"major_label_policy\":{\"type\":\"object\",\"name\":\"AllLabels\",\"id\":\"e58ca610-fd48-4b4c-a8ad-a6ec73d1cdf9\"}}}],\"below\":[{\"type\":\"object\",\"name\":\"DatetimeAxis\",\"id\":\"0d359b17-7ac2-43cc-a6c2-543b402e717d\",\"attributes\":{\"ticker\":{\"type\":\"object\",\"name\":\"DatetimeTicker\",\"id\":\"ae87617a-c7b6-4bdd-b8a3-d057f1faa771\",\"attributes\":{\"num_minor_ticks\":5,\"tickers\":[{\"type\":\"object\",\"name\":\"AdaptiveTicker\",\"id\":\"b3e5385c-df4f-40a3-86d0-e924f4d945d4\",\"attributes\":{\"num_minor_ticks\":0,\"mantissas\":[1,2,5],\"max_interval\":500.0}},{\"type\":\"object\",\"name\":\"AdaptiveTicker\",\"id\":\"8053571a-af9c-4140-8209-7c9faf78b262\",\"attributes\":{\"num_minor_ticks\":0,\"base\":60,\"mantissas\":[1,2,5,10,15,20,30],\"min_interval\":1000.0,\"max_interval\":1800000.0}},{\"type\":\"object\",\"name\":\"AdaptiveTicker\",\"id\":\"90fc701c-8ebe-419e-ba56-4ecb6d6ca244\",\"attributes\":{\"num_minor_ticks\":0,\"base\":24,\"mantissas\":[1,2,4,6,8,12],\"min_interval\":3600000.0,\"max_interval\":43200000.0}},{\"type\":\"object\",\"name\":\"DaysTicker\",\"id\":\"5413b7a0-6e95-4adf-9e31-4ccbf0c4e5dd\",\"attributes\":{\"days\":[1,2,3,4,5,6,7,8,9,10,11,12,13,14,15,16,17,18,19,20,21,22,23,24,25,26,27,28,29,30,31]}},{\"type\":\"object\",\"name\":\"DaysTicker\",\"id\":\"7a949367-54b6-4133-8dcc-85a5f8a4f968\",\"attributes\":{\"days\":[1,4,7,10,13,16,19,22,25,28]}},{\"type\":\"object\",\"name\":\"DaysTicker\",\"id\":\"92eaa3e4-ee68-43a1-84c9-fe4b1a2af757\",\"attributes\":{\"days\":[1,8,15,22]}},{\"type\":\"object\",\"name\":\"DaysTicker\",\"id\":\"988c8edb-8428-402d-af7a-7796bf3adb88\",\"attributes\":{\"days\":[1,15]}},{\"type\":\"object\",\"name\":\"MonthsTicker\",\"id\":\"fb8eb17b-49d5-4ab2-a859-4c0f7eb2cffb\",\"attributes\":{\"months\":[0,1,2,3,4,5,6,7,8,9,10,11]}},{\"type\":\"object\",\"name\":\"MonthsTicker\",\"id\":\"558ca10d-7849-4cd2-8b8d-6d7470db8159\",\"attributes\":{\"months\":[0,2,4,6,8,10]}},{\"type\":\"object\",\"name\":\"MonthsTicker\",\"id\":\"577c783c-ab6c-476a-99e0-2d1649b3bb33\",\"attributes\":{\"months\":[0,4,8]}},{\"type\":\"object\",\"name\":\"MonthsTicker\",\"id\":\"c1471469-61f6-4435-b6e1-ea70343c1e6a\",\"attributes\":{\"months\":[0,6]}},{\"type\":\"object\",\"name\":\"YearsTicker\",\"id\":\"cd504b03-b8b8-412f-831b-bf32360af1f5\"}]}},\"formatter\":{\"type\":\"object\",\"name\":\"DatetimeTickFormatter\",\"id\":\"4aaaa645-5d2c-41d1-ac44-4a3e8ef20458\"},\"axis_label\":\"Date\",\"major_label_policy\":{\"type\":\"object\",\"name\":\"AllLabels\",\"id\":\"1f4cb4c8-ee6a-4d21-afe8-8d33fabd5a6b\"}}}],\"center\":[{\"type\":\"object\",\"name\":\"Grid\",\"id\":\"c3710363-2d1e-49e2-9605-edfc11090b0e\",\"attributes\":{\"axis\":{\"id\":\"0d359b17-7ac2-43cc-a6c2-543b402e717d\"},\"grid_line_color\":null}},{\"type\":\"object\",\"name\":\"Grid\",\"id\":\"e479f8fa-7dbc-4823-bb5f-fe0681de8d3d\",\"attributes\":{\"dimension\":1,\"axis\":{\"id\":\"4e4e48ae-a50c-4f53-b3ec-81c5fc5480e2\"},\"grid_line_color\":null}}],\"min_border_top\":10,\"min_border_bottom\":10,\"min_border_left\":10,\"min_border_right\":10,\"output_backend\":\"webgl\"}},{\"type\":\"object\",\"name\":\"Spacer\",\"id\":\"98bbb72f-4b53-4806-9534-a690ab9af70c\",\"attributes\":{\"name\":\"HSpacer02283\",\"stylesheets\":[\"\\n:host(.pn-loading.pn-arc):before, .pn-loading.pn-arc:before {\\n  background-image: url(\\\"data:image/svg+xml;base64,PHN2ZyB4bWxucz0iaHR0cDovL3d3dy53My5vcmcvMjAwMC9zdmciIHN0eWxlPSJtYXJnaW46IGF1dG87IGJhY2tncm91bmQ6IG5vbmU7IGRpc3BsYXk6IGJsb2NrOyBzaGFwZS1yZW5kZXJpbmc6IGF1dG87IiB2aWV3Qm94PSIwIDAgMTAwIDEwMCIgcHJlc2VydmVBc3BlY3RSYXRpbz0ieE1pZFlNaWQiPiAgPGNpcmNsZSBjeD0iNTAiIGN5PSI1MCIgZmlsbD0ibm9uZSIgc3Ryb2tlPSIjYzNjM2MzIiBzdHJva2Utd2lkdGg9IjEwIiByPSIzNSIgc3Ryb2tlLWRhc2hhcnJheT0iMTY0LjkzMzYxNDMxMzQ2NDE1IDU2Ljk3Nzg3MTQzNzgyMTM4Ij4gICAgPGFuaW1hdGVUcmFuc2Zvcm0gYXR0cmlidXRlTmFtZT0idHJhbnNmb3JtIiB0eXBlPSJyb3RhdGUiIHJlcGVhdENvdW50PSJpbmRlZmluaXRlIiBkdXI9IjFzIiB2YWx1ZXM9IjAgNTAgNTA7MzYwIDUwIDUwIiBrZXlUaW1lcz0iMDsxIj48L2FuaW1hdGVUcmFuc2Zvcm0+ICA8L2NpcmNsZT48L3N2Zz4=\\\");\\n  background-size: auto calc(min(50%, 400px));\\n}\",{\"id\":\"5eaaa87d-bd3d-4b17-84fb-2edfe6a602cb\"},{\"id\":\"4bee0f34-db3c-46eb-bc61-7e569e5375f2\"},{\"id\":\"94476780-90b5-4ee3-bc0f-336c65697c02\"}],\"margin\":0,\"sizing_mode\":\"stretch_width\",\"align\":\"start\"}}]}}],\"defs\":[{\"type\":\"model\",\"name\":\"ReactiveHTML1\"},{\"type\":\"model\",\"name\":\"FlexBox1\",\"properties\":[{\"name\":\"align_content\",\"kind\":\"Any\",\"default\":\"flex-start\"},{\"name\":\"align_items\",\"kind\":\"Any\",\"default\":\"flex-start\"},{\"name\":\"flex_direction\",\"kind\":\"Any\",\"default\":\"row\"},{\"name\":\"flex_wrap\",\"kind\":\"Any\",\"default\":\"wrap\"},{\"name\":\"justify_content\",\"kind\":\"Any\",\"default\":\"flex-start\"}]},{\"type\":\"model\",\"name\":\"FloatPanel1\",\"properties\":[{\"name\":\"config\",\"kind\":\"Any\",\"default\":{\"type\":\"map\"}},{\"name\":\"contained\",\"kind\":\"Any\",\"default\":true},{\"name\":\"position\",\"kind\":\"Any\",\"default\":\"right-top\"},{\"name\":\"offsetx\",\"kind\":\"Any\",\"default\":null},{\"name\":\"offsety\",\"kind\":\"Any\",\"default\":null},{\"name\":\"theme\",\"kind\":\"Any\",\"default\":\"primary\"},{\"name\":\"status\",\"kind\":\"Any\",\"default\":\"normalized\"}]},{\"type\":\"model\",\"name\":\"GridStack1\",\"properties\":[{\"name\":\"mode\",\"kind\":\"Any\",\"default\":\"warn\"},{\"name\":\"ncols\",\"kind\":\"Any\",\"default\":null},{\"name\":\"nrows\",\"kind\":\"Any\",\"default\":null},{\"name\":\"allow_resize\",\"kind\":\"Any\",\"default\":true},{\"name\":\"allow_drag\",\"kind\":\"Any\",\"default\":true},{\"name\":\"state\",\"kind\":\"Any\",\"default\":[]}]},{\"type\":\"model\",\"name\":\"drag1\",\"properties\":[{\"name\":\"slider_width\",\"kind\":\"Any\",\"default\":5},{\"name\":\"slider_color\",\"kind\":\"Any\",\"default\":\"black\"},{\"name\":\"value\",\"kind\":\"Any\",\"default\":50}]},{\"type\":\"model\",\"name\":\"click1\",\"properties\":[{\"name\":\"terminal_output\",\"kind\":\"Any\",\"default\":\"\"},{\"name\":\"debug_name\",\"kind\":\"Any\",\"default\":\"\"},{\"name\":\"clears\",\"kind\":\"Any\",\"default\":0}]},{\"type\":\"model\",\"name\":\"copy_to_clipboard1\",\"properties\":[{\"name\":\"fill\",\"kind\":\"Any\",\"default\":\"none\"},{\"name\":\"value\",\"kind\":\"Any\",\"default\":null}]},{\"type\":\"model\",\"name\":\"FastWrapper1\",\"properties\":[{\"name\":\"object\",\"kind\":\"Any\",\"default\":null},{\"name\":\"style\",\"kind\":\"Any\",\"default\":null}]},{\"type\":\"model\",\"name\":\"NotificationAreaBase1\",\"properties\":[{\"name\":\"js_events\",\"kind\":\"Any\",\"default\":{\"type\":\"map\"}},{\"name\":\"position\",\"kind\":\"Any\",\"default\":\"bottom-right\"},{\"name\":\"_clear\",\"kind\":\"Any\",\"default\":0}]},{\"type\":\"model\",\"name\":\"NotificationArea1\",\"properties\":[{\"name\":\"js_events\",\"kind\":\"Any\",\"default\":{\"type\":\"map\"}},{\"name\":\"notifications\",\"kind\":\"Any\",\"default\":[]},{\"name\":\"position\",\"kind\":\"Any\",\"default\":\"bottom-right\"},{\"name\":\"_clear\",\"kind\":\"Any\",\"default\":0},{\"name\":\"types\",\"kind\":\"Any\",\"default\":[{\"type\":\"map\",\"entries\":[[\"type\",\"warning\"],[\"background\",\"#ffc107\"],[\"icon\",{\"type\":\"map\",\"entries\":[[\"className\",\"fas fa-exclamation-triangle\"],[\"tagName\",\"i\"],[\"color\",\"white\"]]}]]},{\"type\":\"map\",\"entries\":[[\"type\",\"info\"],[\"background\",\"#007bff\"],[\"icon\",{\"type\":\"map\",\"entries\":[[\"className\",\"fas fa-info-circle\"],[\"tagName\",\"i\"],[\"color\",\"white\"]]}]]}]}]},{\"type\":\"model\",\"name\":\"Notification\",\"properties\":[{\"name\":\"background\",\"kind\":\"Any\",\"default\":null},{\"name\":\"duration\",\"kind\":\"Any\",\"default\":3000},{\"name\":\"icon\",\"kind\":\"Any\",\"default\":null},{\"name\":\"message\",\"kind\":\"Any\",\"default\":\"\"},{\"name\":\"notification_type\",\"kind\":\"Any\",\"default\":null},{\"name\":\"_destroyed\",\"kind\":\"Any\",\"default\":false}]},{\"type\":\"model\",\"name\":\"TemplateActions1\",\"properties\":[{\"name\":\"open_modal\",\"kind\":\"Any\",\"default\":0},{\"name\":\"close_modal\",\"kind\":\"Any\",\"default\":0}]},{\"type\":\"model\",\"name\":\"BootstrapTemplateActions1\",\"properties\":[{\"name\":\"open_modal\",\"kind\":\"Any\",\"default\":0},{\"name\":\"close_modal\",\"kind\":\"Any\",\"default\":0}]},{\"type\":\"model\",\"name\":\"MaterialTemplateActions1\",\"properties\":[{\"name\":\"open_modal\",\"kind\":\"Any\",\"default\":0},{\"name\":\"close_modal\",\"kind\":\"Any\",\"default\":0}]}]}};\n",
       "  var render_items = [{\"docid\":\"f219658f-b069-4eab-9ed8-f537176ef100\",\"roots\":{\"43a636b5-c4c2-4b1b-9a55-597b88312104\":\"b4c74e65-52fc-4c2b-b947-7a3974800a55\"},\"root_ids\":[\"43a636b5-c4c2-4b1b-9a55-597b88312104\"]}];\n",
       "  var docs = Object.values(docs_json)\n",
       "  if (!docs) {\n",
       "    return\n",
       "  }\n",
       "  const py_version = docs[0].version.replace('rc', '-rc.').replace('.dev', '-dev.')\n",
       "  function embed_document(root) {\n",
       "    var Bokeh = get_bokeh(root)\n",
       "    Bokeh.embed.embed_items_notebook(docs_json, render_items);\n",
       "    for (const render_item of render_items) {\n",
       "      for (const root_id of render_item.root_ids) {\n",
       "\tconst id_el = document.getElementById(root_id)\n",
       "\tif (id_el.children.length && (id_el.children[0].className === 'bk-root')) {\n",
       "\t  const root_el = id_el.children[0]\n",
       "\t  root_el.id = root_el.id + '-rendered'\n",
       "\t}\n",
       "      }\n",
       "    }\n",
       "  }\n",
       "  function get_bokeh(root) {\n",
       "    if (root.Bokeh === undefined) {\n",
       "      return null\n",
       "    } else if (root.Bokeh.version !== py_version) {\n",
       "      if (root.Bokeh.versions === undefined || !root.Bokeh.versions.has(py_version)) {\n",
       "\treturn null\n",
       "      }\n",
       "      return root.Bokeh.versions.get(py_version);\n",
       "    } else if (root.Bokeh.version === py_version) {\n",
       "      return root.Bokeh\n",
       "    }\n",
       "    return null\n",
       "  }\n",
       "  function is_loaded(root) {\n",
       "    var Bokeh = get_bokeh(root)\n",
       "    return (Bokeh != null && Bokeh.Panel !== undefined && ( root['Plotly'] !== undefined) && ( root['Plotly'] !== undefined))\n",
       "  }\n",
       "  if (is_loaded(root)) {\n",
       "    embed_document(root);\n",
       "  } else {\n",
       "    var attempts = 0;\n",
       "    var timer = setInterval(function(root) {\n",
       "      if (is_loaded(root)) {\n",
       "        clearInterval(timer);\n",
       "        embed_document(root);\n",
       "      } else if (document.readyState == \"complete\") {\n",
       "        attempts++;\n",
       "        if (attempts > 200) {\n",
       "          clearInterval(timer);\n",
       "\t  var Bokeh = get_bokeh(root)\n",
       "\t  if (Bokeh == null || Bokeh.Panel == null) {\n",
       "            console.warn(\"Panel: ERROR: Unable to run Panel code because Bokeh or Panel library is missing\");\n",
       "\t  } else {\n",
       "\t    console.warn(\"Panel: WARNING: Attempting to render but not all required libraries could be resolved.\")\n",
       "\t    embed_document(root)\n",
       "\t  }\n",
       "        }\n",
       "      }\n",
       "    }, 25, root)\n",
       "  }\n",
       "})(window);</script>"
      ],
      "text/plain": [
       ":Curve   [slot_start_date_time]   (mean_propagation_slot_start_diff)"
      ]
     },
     "execution_count": 22,
     "metadata": {
      "application/vnd.holoviews_exec.v0+json": {
       "id": "43a636b5-c4c2-4b1b-9a55-597b88312104"
      }
     },
     "output_type": "execute_result"
    }
   ],
   "source": [
    "blob_propagation_chart(\"holesky\", group_by_epoch=True)"
   ]
  },
  {
   "cell_type": "markdown",
   "metadata": {},
   "source": [
    "### Panel Dashboard"
   ]
  },
  {
   "cell_type": "code",
   "execution_count": 35,
   "metadata": {},
   "outputs": [],
   "source": [
    "block_size = pn.Row(\n",
    "    block_size_chart(\"mainnet\", group_by_epoch=True),\n",
    "    block_size_chart(\"holesky\", group_by_epoch=True),\n",
    ")\n",
    "\n",
    "holesky_blob_prop = pn.Row(\n",
    "    blob_propagation_chart(\"holesky\", group_by_epoch=True),\n",
    ")\n",
    "\n",
    "mainnet_blob_prop = pn.Row(\n",
    "    blob_propagation_chart(\"mainnet\", group_by_epoch=True),\n",
    ")"
   ]
  },
  {
   "cell_type": "code",
   "execution_count": 36,
   "metadata": {},
   "outputs": [],
   "source": [
    "combined_panel = pn.Column(\n",
    "    block_size,\n",
    "    #    mainnet_blob_prop,\n",
    "    holesky_blob_prop,\n",
    ")\n",
    "\n",
    "# mainnet doesn't work because there is no data yet\n",
    "mainnet_prop = pn.Column(combined_panel, mainnet_blob_prop)"
   ]
  },
  {
   "cell_type": "code",
   "execution_count": 38,
   "metadata": {},
   "outputs": [
    {
     "name": "stdout",
     "output_type": "stream",
     "text": [
      "Launching server at http://localhost:35699\n"
     ]
    },
    {
     "data": {
      "text/plain": [
       "<panel.io.server.Server at 0x7ac5dbc7a510>"
      ]
     },
     "execution_count": 38,
     "metadata": {},
     "output_type": "execute_result"
    },
    {
     "name": "stderr",
     "output_type": "stream",
     "text": [
      "Gtk-Message: 18:37:06.731: Failed to load module \"canberra-gtk-module\"\n",
      "Gtk-Message: 18:37:06.733: Failed to load module \"canberra-gtk-module\"\n",
      "[2 zypak-helper] Wait found events, but sd-event found none\n"
     ]
    },
    {
     "name": "stdout",
     "output_type": "stream",
     "text": [
      "Opening in existing browser session.\n"
     ]
    }
   ],
   "source": [
    "combined_panel.show()"
   ]
  },
  {
   "cell_type": "code",
   "execution_count": null,
   "metadata": {},
   "outputs": [],
   "source": []
  }
 ],
 "metadata": {
  "kernelspec": {
   "display_name": ".venv",
   "language": "python",
   "name": "python3"
  },
  "language_info": {
   "codemirror_mode": {
    "name": "ipython",
    "version": 3
   },
   "file_extension": ".py",
   "mimetype": "text/x-python",
   "name": "python",
   "nbconvert_exporter": "python",
   "pygments_lexer": "ipython3",
   "version": "3.11.8"
  }
 },
 "nbformat": 4,
 "nbformat_minor": 2
}
