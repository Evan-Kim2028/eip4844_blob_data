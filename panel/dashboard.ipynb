{
 "cells": [
  {
   "cell_type": "code",
   "execution_count": 1,
   "metadata": {},
   "outputs": [
    {
     "data": {
      "application/javascript": "(function(root) {\n  function now() {\n    return new Date();\n  }\n\n  var force = true;\n  var py_version = '3.4.1'.replace('rc', '-rc.').replace('.dev', '-dev.');\n  var reloading = false;\n  var Bokeh = root.Bokeh;\n\n  if (typeof (root._bokeh_timeout) === \"undefined\" || force) {\n    root._bokeh_timeout = Date.now() + 5000;\n    root._bokeh_failed_load = false;\n  }\n\n  function run_callbacks() {\n    try {\n      root._bokeh_onload_callbacks.forEach(function(callback) {\n        if (callback != null)\n          callback();\n      });\n    } finally {\n      delete root._bokeh_onload_callbacks;\n    }\n    console.debug(\"Bokeh: all callbacks have finished\");\n  }\n\n  function load_libs(css_urls, js_urls, js_modules, js_exports, callback) {\n    if (css_urls == null) css_urls = [];\n    if (js_urls == null) js_urls = [];\n    if (js_modules == null) js_modules = [];\n    if (js_exports == null) js_exports = {};\n\n    root._bokeh_onload_callbacks.push(callback);\n\n    if (root._bokeh_is_loading > 0) {\n      console.debug(\"Bokeh: BokehJS is being loaded, scheduling callback at\", now());\n      return null;\n    }\n    if (js_urls.length === 0 && js_modules.length === 0 && Object.keys(js_exports).length === 0) {\n      run_callbacks();\n      return null;\n    }\n    if (!reloading) {\n      console.debug(\"Bokeh: BokehJS not loaded, scheduling load and callback at\", now());\n    }\n\n    function on_load() {\n      root._bokeh_is_loading--;\n      if (root._bokeh_is_loading === 0) {\n        console.debug(\"Bokeh: all BokehJS libraries/stylesheets loaded\");\n        run_callbacks()\n      }\n    }\n    window._bokeh_on_load = on_load\n\n    function on_error() {\n      console.error(\"failed to load \" + url);\n    }\n\n    var skip = [];\n    if (window.requirejs) {\n      window.requirejs.config({'packages': {}, 'paths': {'plotly': 'https://cdn.plot.ly/plotly-2.25.2.min'}, 'shim': {}});\n      require([\"plotly\"], function(Plotly) {\n\twindow.Plotly = Plotly\n\ton_load()\n      })\n      root._bokeh_is_loading = css_urls.length + 1;\n    } else {\n      root._bokeh_is_loading = css_urls.length + js_urls.length + js_modules.length + Object.keys(js_exports).length;\n    }\n\n    var existing_stylesheets = []\n    var links = document.getElementsByTagName('link')\n    for (var i = 0; i < links.length; i++) {\n      var link = links[i]\n      if (link.href != null) {\n\texisting_stylesheets.push(link.href)\n      }\n    }\n    for (var i = 0; i < css_urls.length; i++) {\n      var url = css_urls[i];\n      if (existing_stylesheets.indexOf(url) !== -1) {\n\ton_load()\n\tcontinue;\n      }\n      const element = document.createElement(\"link\");\n      element.onload = on_load;\n      element.onerror = on_error;\n      element.rel = \"stylesheet\";\n      element.type = \"text/css\";\n      element.href = url;\n      console.debug(\"Bokeh: injecting link tag for BokehJS stylesheet: \", url);\n      document.body.appendChild(element);\n    }    if (((window.Plotly !== undefined) && (!(window.Plotly instanceof HTMLElement))) || window.requirejs) {\n      var urls = ['https://cdn.holoviz.org/panel/1.4.1/dist/bundled/plotlyplot/plotly-2.25.2.min.js'];\n      for (var i = 0; i < urls.length; i++) {\n        skip.push(urls[i])\n      }\n    }    var existing_scripts = []\n    var scripts = document.getElementsByTagName('script')\n    for (var i = 0; i < scripts.length; i++) {\n      var script = scripts[i]\n      if (script.src != null) {\n\texisting_scripts.push(script.src)\n      }\n    }\n    for (var i = 0; i < js_urls.length; i++) {\n      var url = js_urls[i];\n      if (skip.indexOf(url) !== -1 || existing_scripts.indexOf(url) !== -1) {\n\tif (!window.requirejs) {\n\t  on_load();\n\t}\n\tcontinue;\n      }\n      var element = document.createElement('script');\n      element.onload = on_load;\n      element.onerror = on_error;\n      element.async = false;\n      element.src = url;\n      console.debug(\"Bokeh: injecting script tag for BokehJS library: \", url);\n      document.head.appendChild(element);\n    }\n    for (var i = 0; i < js_modules.length; i++) {\n      var url = js_modules[i];\n      if (skip.indexOf(url) !== -1 || existing_scripts.indexOf(url) !== -1) {\n\tif (!window.requirejs) {\n\t  on_load();\n\t}\n\tcontinue;\n      }\n      var element = document.createElement('script');\n      element.onload = on_load;\n      element.onerror = on_error;\n      element.async = false;\n      element.src = url;\n      element.type = \"module\";\n      console.debug(\"Bokeh: injecting script tag for BokehJS library: \", url);\n      document.head.appendChild(element);\n    }\n    for (const name in js_exports) {\n      var url = js_exports[name];\n      if (skip.indexOf(url) >= 0 || root[name] != null) {\n\tif (!window.requirejs) {\n\t  on_load();\n\t}\n\tcontinue;\n      }\n      var element = document.createElement('script');\n      element.onerror = on_error;\n      element.async = false;\n      element.type = \"module\";\n      console.debug(\"Bokeh: injecting script tag for BokehJS library: \", url);\n      element.textContent = `\n      import ${name} from \"${url}\"\n      window.${name} = ${name}\n      window._bokeh_on_load()\n      `\n      document.head.appendChild(element);\n    }\n    if (!js_urls.length && !js_modules.length) {\n      on_load()\n    }\n  };\n\n  function inject_raw_css(css) {\n    const element = document.createElement(\"style\");\n    element.appendChild(document.createTextNode(css));\n    document.body.appendChild(element);\n  }\n\n  var js_urls = [\"https://cdn.holoviz.org/panel/1.4.1/dist/bundled/jquery/jquery.slim.min.js\", \"https://cdn.holoviz.org/panel/1.4.1/dist/bundled/plotlyplot/plotly-2.25.2.min.js\", \"https://cdn.bokeh.org/bokeh/release/bokeh-3.4.1.min.js\", \"https://cdn.bokeh.org/bokeh/release/bokeh-gl-3.4.1.min.js\", \"https://cdn.bokeh.org/bokeh/release/bokeh-widgets-3.4.1.min.js\", \"https://cdn.bokeh.org/bokeh/release/bokeh-tables-3.4.1.min.js\", \"https://cdn.holoviz.org/panel/1.4.1/dist/panel.min.js\"];\n  var js_modules = [];\n  var js_exports = {};\n  var css_urls = [];\n  var inline_js = [    function(Bokeh) {\n      Bokeh.set_log_level(\"info\");\n    },\nfunction(Bokeh) {} // ensure no trailing comma for IE\n  ];\n\n  function run_inline_js() {\n    if ((root.Bokeh !== undefined) || (force === true)) {\n      for (var i = 0; i < inline_js.length; i++) {\n\ttry {\n          inline_js[i].call(root, root.Bokeh);\n\t} catch(e) {\n\t  if (!reloading) {\n\t    throw e;\n\t  }\n\t}\n      }\n      // Cache old bokeh versions\n      if (Bokeh != undefined && !reloading) {\n\tvar NewBokeh = root.Bokeh;\n\tif (Bokeh.versions === undefined) {\n\t  Bokeh.versions = new Map();\n\t}\n\tif (NewBokeh.version !== Bokeh.version) {\n\t  Bokeh.versions.set(NewBokeh.version, NewBokeh)\n\t}\n\troot.Bokeh = Bokeh;\n      }} else if (Date.now() < root._bokeh_timeout) {\n      setTimeout(run_inline_js, 100);\n    } else if (!root._bokeh_failed_load) {\n      console.log(\"Bokeh: BokehJS failed to load within specified timeout.\");\n      root._bokeh_failed_load = true;\n    }\n    root._bokeh_is_initializing = false\n  }\n\n  function load_or_wait() {\n    // Implement a backoff loop that tries to ensure we do not load multiple\n    // versions of Bokeh and its dependencies at the same time.\n    // In recent versions we use the root._bokeh_is_initializing flag\n    // to determine whether there is an ongoing attempt to initialize\n    // bokeh, however for backward compatibility we also try to ensure\n    // that we do not start loading a newer (Panel>=1.0 and Bokeh>3) version\n    // before older versions are fully initialized.\n    if (root._bokeh_is_initializing && Date.now() > root._bokeh_timeout) {\n      root._bokeh_is_initializing = false;\n      root._bokeh_onload_callbacks = undefined;\n      console.log(\"Bokeh: BokehJS was loaded multiple times but one version failed to initialize.\");\n      load_or_wait();\n    } else if (root._bokeh_is_initializing || (typeof root._bokeh_is_initializing === \"undefined\" && root._bokeh_onload_callbacks !== undefined)) {\n      setTimeout(load_or_wait, 100);\n    } else {\n      root._bokeh_is_initializing = true\n      root._bokeh_onload_callbacks = []\n      var bokeh_loaded = Bokeh != null && (Bokeh.version === py_version || (Bokeh.versions !== undefined && Bokeh.versions.has(py_version)));\n      if (!reloading && !bokeh_loaded) {\n\troot.Bokeh = undefined;\n      }\n      load_libs(css_urls, js_urls, js_modules, js_exports, function() {\n\tconsole.debug(\"Bokeh: BokehJS plotting callback run at\", now());\n\trun_inline_js();\n      });\n    }\n  }\n  // Give older versions of the autoload script a head-start to ensure\n  // they initialize before we start loading newer version.\n  setTimeout(load_or_wait, 100)\n}(window));",
      "application/vnd.holoviews_load.v0+json": ""
     },
     "metadata": {},
     "output_type": "display_data"
    },
    {
     "data": {
      "application/javascript": "\nif ((window.PyViz === undefined) || (window.PyViz instanceof HTMLElement)) {\n  window.PyViz = {comms: {}, comm_status:{}, kernels:{}, receivers: {}, plot_index: []}\n}\n\n\n    function JupyterCommManager() {\n    }\n\n    JupyterCommManager.prototype.register_target = function(plot_id, comm_id, msg_handler) {\n      if (window.comm_manager || ((window.Jupyter !== undefined) && (Jupyter.notebook.kernel != null))) {\n        var comm_manager = window.comm_manager || Jupyter.notebook.kernel.comm_manager;\n        comm_manager.register_target(comm_id, function(comm) {\n          comm.on_msg(msg_handler);\n        });\n      } else if ((plot_id in window.PyViz.kernels) && (window.PyViz.kernels[plot_id])) {\n        window.PyViz.kernels[plot_id].registerCommTarget(comm_id, function(comm) {\n          comm.onMsg = msg_handler;\n        });\n      } else if (typeof google != 'undefined' && google.colab.kernel != null) {\n        google.colab.kernel.comms.registerTarget(comm_id, (comm) => {\n          var messages = comm.messages[Symbol.asyncIterator]();\n          function processIteratorResult(result) {\n            var message = result.value;\n            console.log(message)\n            var content = {data: message.data, comm_id};\n            var buffers = []\n            for (var buffer of message.buffers || []) {\n              buffers.push(new DataView(buffer))\n            }\n            var metadata = message.metadata || {};\n            var msg = {content, buffers, metadata}\n            msg_handler(msg);\n            return messages.next().then(processIteratorResult);\n          }\n          return messages.next().then(processIteratorResult);\n        })\n      }\n    }\n\n    JupyterCommManager.prototype.get_client_comm = function(plot_id, comm_id, msg_handler) {\n      if (comm_id in window.PyViz.comms) {\n        return window.PyViz.comms[comm_id];\n      } else if (window.comm_manager || ((window.Jupyter !== undefined) && (Jupyter.notebook.kernel != null))) {\n        var comm_manager = window.comm_manager || Jupyter.notebook.kernel.comm_manager;\n        var comm = comm_manager.new_comm(comm_id, {}, {}, {}, comm_id);\n        if (msg_handler) {\n          comm.on_msg(msg_handler);\n        }\n      } else if ((plot_id in window.PyViz.kernels) && (window.PyViz.kernels[plot_id])) {\n        var comm = window.PyViz.kernels[plot_id].connectToComm(comm_id);\n        comm.open();\n        if (msg_handler) {\n          comm.onMsg = msg_handler;\n        }\n      } else if (typeof google != 'undefined' && google.colab.kernel != null) {\n        var comm_promise = google.colab.kernel.comms.open(comm_id)\n        comm_promise.then((comm) => {\n          window.PyViz.comms[comm_id] = comm;\n          if (msg_handler) {\n            var messages = comm.messages[Symbol.asyncIterator]();\n            function processIteratorResult(result) {\n              var message = result.value;\n              var content = {data: message.data};\n              var metadata = message.metadata || {comm_id};\n              var msg = {content, metadata}\n              msg_handler(msg);\n              return messages.next().then(processIteratorResult);\n            }\n            return messages.next().then(processIteratorResult);\n          }\n        }) \n        var sendClosure = (data, metadata, buffers, disposeOnDone) => {\n          return comm_promise.then((comm) => {\n            comm.send(data, metadata, buffers, disposeOnDone);\n          });\n        };\n        var comm = {\n          send: sendClosure\n        };\n      }\n      window.PyViz.comms[comm_id] = comm;\n      return comm;\n    }\n    window.PyViz.comm_manager = new JupyterCommManager();\n    \n\n\nvar JS_MIME_TYPE = 'application/javascript';\nvar HTML_MIME_TYPE = 'text/html';\nvar EXEC_MIME_TYPE = 'application/vnd.holoviews_exec.v0+json';\nvar CLASS_NAME = 'output';\n\n/**\n * Render data to the DOM node\n */\nfunction render(props, node) {\n  var div = document.createElement(\"div\");\n  var script = document.createElement(\"script\");\n  node.appendChild(div);\n  node.appendChild(script);\n}\n\n/**\n * Handle when a new output is added\n */\nfunction handle_add_output(event, handle) {\n  var output_area = handle.output_area;\n  var output = handle.output;\n  if ((output.data == undefined) || (!output.data.hasOwnProperty(EXEC_MIME_TYPE))) {\n    return\n  }\n  var id = output.metadata[EXEC_MIME_TYPE][\"id\"];\n  var toinsert = output_area.element.find(\".\" + CLASS_NAME.split(' ')[0]);\n  if (id !== undefined) {\n    var nchildren = toinsert.length;\n    var html_node = toinsert[nchildren-1].children[0];\n    html_node.innerHTML = output.data[HTML_MIME_TYPE];\n    var scripts = [];\n    var nodelist = html_node.querySelectorAll(\"script\");\n    for (var i in nodelist) {\n      if (nodelist.hasOwnProperty(i)) {\n        scripts.push(nodelist[i])\n      }\n    }\n\n    scripts.forEach( function (oldScript) {\n      var newScript = document.createElement(\"script\");\n      var attrs = [];\n      var nodemap = oldScript.attributes;\n      for (var j in nodemap) {\n        if (nodemap.hasOwnProperty(j)) {\n          attrs.push(nodemap[j])\n        }\n      }\n      attrs.forEach(function(attr) { newScript.setAttribute(attr.name, attr.value) });\n      newScript.appendChild(document.createTextNode(oldScript.innerHTML));\n      oldScript.parentNode.replaceChild(newScript, oldScript);\n    });\n    if (JS_MIME_TYPE in output.data) {\n      toinsert[nchildren-1].children[1].textContent = output.data[JS_MIME_TYPE];\n    }\n    output_area._hv_plot_id = id;\n    if ((window.Bokeh !== undefined) && (id in Bokeh.index)) {\n      window.PyViz.plot_index[id] = Bokeh.index[id];\n    } else {\n      window.PyViz.plot_index[id] = null;\n    }\n  } else if (output.metadata[EXEC_MIME_TYPE][\"server_id\"] !== undefined) {\n    var bk_div = document.createElement(\"div\");\n    bk_div.innerHTML = output.data[HTML_MIME_TYPE];\n    var script_attrs = bk_div.children[0].attributes;\n    for (var i = 0; i < script_attrs.length; i++) {\n      toinsert[toinsert.length - 1].childNodes[1].setAttribute(script_attrs[i].name, script_attrs[i].value);\n    }\n    // store reference to server id on output_area\n    output_area._bokeh_server_id = output.metadata[EXEC_MIME_TYPE][\"server_id\"];\n  }\n}\n\n/**\n * Handle when an output is cleared or removed\n */\nfunction handle_clear_output(event, handle) {\n  var id = handle.cell.output_area._hv_plot_id;\n  var server_id = handle.cell.output_area._bokeh_server_id;\n  if (((id === undefined) || !(id in PyViz.plot_index)) && (server_id !== undefined)) { return; }\n  var comm = window.PyViz.comm_manager.get_client_comm(\"hv-extension-comm\", \"hv-extension-comm\", function () {});\n  if (server_id !== null) {\n    comm.send({event_type: 'server_delete', 'id': server_id});\n    return;\n  } else if (comm !== null) {\n    comm.send({event_type: 'delete', 'id': id});\n  }\n  delete PyViz.plot_index[id];\n  if ((window.Bokeh !== undefined) & (id in window.Bokeh.index)) {\n    var doc = window.Bokeh.index[id].model.document\n    doc.clear();\n    const i = window.Bokeh.documents.indexOf(doc);\n    if (i > -1) {\n      window.Bokeh.documents.splice(i, 1);\n    }\n  }\n}\n\n/**\n * Handle kernel restart event\n */\nfunction handle_kernel_cleanup(event, handle) {\n  delete PyViz.comms[\"hv-extension-comm\"];\n  window.PyViz.plot_index = {}\n}\n\n/**\n * Handle update_display_data messages\n */\nfunction handle_update_output(event, handle) {\n  handle_clear_output(event, {cell: {output_area: handle.output_area}})\n  handle_add_output(event, handle)\n}\n\nfunction register_renderer(events, OutputArea) {\n  function append_mime(data, metadata, element) {\n    // create a DOM node to render to\n    var toinsert = this.create_output_subarea(\n    metadata,\n    CLASS_NAME,\n    EXEC_MIME_TYPE\n    );\n    this.keyboard_manager.register_events(toinsert);\n    // Render to node\n    var props = {data: data, metadata: metadata[EXEC_MIME_TYPE]};\n    render(props, toinsert[0]);\n    element.append(toinsert);\n    return toinsert\n  }\n\n  events.on('output_added.OutputArea', handle_add_output);\n  events.on('output_updated.OutputArea', handle_update_output);\n  events.on('clear_output.CodeCell', handle_clear_output);\n  events.on('delete.Cell', handle_clear_output);\n  events.on('kernel_ready.Kernel', handle_kernel_cleanup);\n\n  OutputArea.prototype.register_mime_type(EXEC_MIME_TYPE, append_mime, {\n    safe: true,\n    index: 0\n  });\n}\n\nif (window.Jupyter !== undefined) {\n  try {\n    var events = require('base/js/events');\n    var OutputArea = require('notebook/js/outputarea').OutputArea;\n    if (OutputArea.prototype.mime_types().indexOf(EXEC_MIME_TYPE) == -1) {\n      register_renderer(events, OutputArea);\n    }\n  } catch(err) {\n  }\n}\n",
      "application/vnd.holoviews_load.v0+json": ""
     },
     "metadata": {},
     "output_type": "display_data"
    },
    {
     "data": {
      "text/html": [
       "<style>*[data-root-id],\n",
       "*[data-root-id] > * {\n",
       "  box-sizing: border-box;\n",
       "  font-family: var(--jp-ui-font-family);\n",
       "  font-size: var(--jp-ui-font-size1);\n",
       "  color: var(--vscode-editor-foreground, var(--jp-ui-font-color1));\n",
       "}\n",
       "\n",
       "/* Override VSCode background color */\n",
       ".cell-output-ipywidget-background:has(\n",
       "    > .cell-output-ipywidget-background > .lm-Widget > *[data-root-id]\n",
       "  ),\n",
       ".cell-output-ipywidget-background:has(> .lm-Widget > *[data-root-id]) {\n",
       "  background-color: transparent !important;\n",
       "}\n",
       "</style>"
      ]
     },
     "metadata": {},
     "output_type": "display_data"
    },
    {
     "data": {
      "application/javascript": "(function(root) {\n  function now() {\n    return new Date();\n  }\n\n  var force = true;\n  var py_version = '3.4.1'.replace('rc', '-rc.').replace('.dev', '-dev.');\n  var reloading = true;\n  var Bokeh = root.Bokeh;\n\n  if (typeof (root._bokeh_timeout) === \"undefined\" || force) {\n    root._bokeh_timeout = Date.now() + 5000;\n    root._bokeh_failed_load = false;\n  }\n\n  function run_callbacks() {\n    try {\n      root._bokeh_onload_callbacks.forEach(function(callback) {\n        if (callback != null)\n          callback();\n      });\n    } finally {\n      delete root._bokeh_onload_callbacks;\n    }\n    console.debug(\"Bokeh: all callbacks have finished\");\n  }\n\n  function load_libs(css_urls, js_urls, js_modules, js_exports, callback) {\n    if (css_urls == null) css_urls = [];\n    if (js_urls == null) js_urls = [];\n    if (js_modules == null) js_modules = [];\n    if (js_exports == null) js_exports = {};\n\n    root._bokeh_onload_callbacks.push(callback);\n\n    if (root._bokeh_is_loading > 0) {\n      console.debug(\"Bokeh: BokehJS is being loaded, scheduling callback at\", now());\n      return null;\n    }\n    if (js_urls.length === 0 && js_modules.length === 0 && Object.keys(js_exports).length === 0) {\n      run_callbacks();\n      return null;\n    }\n    if (!reloading) {\n      console.debug(\"Bokeh: BokehJS not loaded, scheduling load and callback at\", now());\n    }\n\n    function on_load() {\n      root._bokeh_is_loading--;\n      if (root._bokeh_is_loading === 0) {\n        console.debug(\"Bokeh: all BokehJS libraries/stylesheets loaded\");\n        run_callbacks()\n      }\n    }\n    window._bokeh_on_load = on_load\n\n    function on_error() {\n      console.error(\"failed to load \" + url);\n    }\n\n    var skip = [];\n    if (window.requirejs) {\n      window.requirejs.config({'packages': {}, 'paths': {'plotly': 'https://cdn.plot.ly/plotly-2.25.2.min'}, 'shim': {}});\n      require([\"plotly\"], function(Plotly) {\n\twindow.Plotly = Plotly\n\ton_load()\n      })\n      root._bokeh_is_loading = css_urls.length + 1;\n    } else {\n      root._bokeh_is_loading = css_urls.length + js_urls.length + js_modules.length + Object.keys(js_exports).length;\n    }\n\n    var existing_stylesheets = []\n    var links = document.getElementsByTagName('link')\n    for (var i = 0; i < links.length; i++) {\n      var link = links[i]\n      if (link.href != null) {\n\texisting_stylesheets.push(link.href)\n      }\n    }\n    for (var i = 0; i < css_urls.length; i++) {\n      var url = css_urls[i];\n      if (existing_stylesheets.indexOf(url) !== -1) {\n\ton_load()\n\tcontinue;\n      }\n      const element = document.createElement(\"link\");\n      element.onload = on_load;\n      element.onerror = on_error;\n      element.rel = \"stylesheet\";\n      element.type = \"text/css\";\n      element.href = url;\n      console.debug(\"Bokeh: injecting link tag for BokehJS stylesheet: \", url);\n      document.body.appendChild(element);\n    }    if (((window.Plotly !== undefined) && (!(window.Plotly instanceof HTMLElement))) || window.requirejs) {\n      var urls = ['https://cdn.holoviz.org/panel/1.4.1/dist/bundled/plotlyplot/plotly-2.25.2.min.js'];\n      for (var i = 0; i < urls.length; i++) {\n        skip.push(urls[i])\n      }\n    }    var existing_scripts = []\n    var scripts = document.getElementsByTagName('script')\n    for (var i = 0; i < scripts.length; i++) {\n      var script = scripts[i]\n      if (script.src != null) {\n\texisting_scripts.push(script.src)\n      }\n    }\n    for (var i = 0; i < js_urls.length; i++) {\n      var url = js_urls[i];\n      if (skip.indexOf(url) !== -1 || existing_scripts.indexOf(url) !== -1) {\n\tif (!window.requirejs) {\n\t  on_load();\n\t}\n\tcontinue;\n      }\n      var element = document.createElement('script');\n      element.onload = on_load;\n      element.onerror = on_error;\n      element.async = false;\n      element.src = url;\n      console.debug(\"Bokeh: injecting script tag for BokehJS library: \", url);\n      document.head.appendChild(element);\n    }\n    for (var i = 0; i < js_modules.length; i++) {\n      var url = js_modules[i];\n      if (skip.indexOf(url) !== -1 || existing_scripts.indexOf(url) !== -1) {\n\tif (!window.requirejs) {\n\t  on_load();\n\t}\n\tcontinue;\n      }\n      var element = document.createElement('script');\n      element.onload = on_load;\n      element.onerror = on_error;\n      element.async = false;\n      element.src = url;\n      element.type = \"module\";\n      console.debug(\"Bokeh: injecting script tag for BokehJS library: \", url);\n      document.head.appendChild(element);\n    }\n    for (const name in js_exports) {\n      var url = js_exports[name];\n      if (skip.indexOf(url) >= 0 || root[name] != null) {\n\tif (!window.requirejs) {\n\t  on_load();\n\t}\n\tcontinue;\n      }\n      var element = document.createElement('script');\n      element.onerror = on_error;\n      element.async = false;\n      element.type = \"module\";\n      console.debug(\"Bokeh: injecting script tag for BokehJS library: \", url);\n      element.textContent = `\n      import ${name} from \"${url}\"\n      window.${name} = ${name}\n      window._bokeh_on_load()\n      `\n      document.head.appendChild(element);\n    }\n    if (!js_urls.length && !js_modules.length) {\n      on_load()\n    }\n  };\n\n  function inject_raw_css(css) {\n    const element = document.createElement(\"style\");\n    element.appendChild(document.createTextNode(css));\n    document.body.appendChild(element);\n  }\n\n  var js_urls = [\"https://cdn.holoviz.org/panel/1.4.1/dist/bundled/jquery/jquery.slim.min.js\", \"https://cdn.holoviz.org/panel/1.4.1/dist/bundled/plotlyplot/plotly-2.25.2.min.js\"];\n  var js_modules = [];\n  var js_exports = {};\n  var css_urls = [];\n  var inline_js = [    function(Bokeh) {\n      Bokeh.set_log_level(\"info\");\n    },\nfunction(Bokeh) {} // ensure no trailing comma for IE\n  ];\n\n  function run_inline_js() {\n    if ((root.Bokeh !== undefined) || (force === true)) {\n      for (var i = 0; i < inline_js.length; i++) {\n\ttry {\n          inline_js[i].call(root, root.Bokeh);\n\t} catch(e) {\n\t  if (!reloading) {\n\t    throw e;\n\t  }\n\t}\n      }\n      // Cache old bokeh versions\n      if (Bokeh != undefined && !reloading) {\n\tvar NewBokeh = root.Bokeh;\n\tif (Bokeh.versions === undefined) {\n\t  Bokeh.versions = new Map();\n\t}\n\tif (NewBokeh.version !== Bokeh.version) {\n\t  Bokeh.versions.set(NewBokeh.version, NewBokeh)\n\t}\n\troot.Bokeh = Bokeh;\n      }} else if (Date.now() < root._bokeh_timeout) {\n      setTimeout(run_inline_js, 100);\n    } else if (!root._bokeh_failed_load) {\n      console.log(\"Bokeh: BokehJS failed to load within specified timeout.\");\n      root._bokeh_failed_load = true;\n    }\n    root._bokeh_is_initializing = false\n  }\n\n  function load_or_wait() {\n    // Implement a backoff loop that tries to ensure we do not load multiple\n    // versions of Bokeh and its dependencies at the same time.\n    // In recent versions we use the root._bokeh_is_initializing flag\n    // to determine whether there is an ongoing attempt to initialize\n    // bokeh, however for backward compatibility we also try to ensure\n    // that we do not start loading a newer (Panel>=1.0 and Bokeh>3) version\n    // before older versions are fully initialized.\n    if (root._bokeh_is_initializing && Date.now() > root._bokeh_timeout) {\n      root._bokeh_is_initializing = false;\n      root._bokeh_onload_callbacks = undefined;\n      console.log(\"Bokeh: BokehJS was loaded multiple times but one version failed to initialize.\");\n      load_or_wait();\n    } else if (root._bokeh_is_initializing || (typeof root._bokeh_is_initializing === \"undefined\" && root._bokeh_onload_callbacks !== undefined)) {\n      setTimeout(load_or_wait, 100);\n    } else {\n      root._bokeh_is_initializing = true\n      root._bokeh_onload_callbacks = []\n      var bokeh_loaded = Bokeh != null && (Bokeh.version === py_version || (Bokeh.versions !== undefined && Bokeh.versions.has(py_version)));\n      if (!reloading && !bokeh_loaded) {\n\troot.Bokeh = undefined;\n      }\n      load_libs(css_urls, js_urls, js_modules, js_exports, function() {\n\tconsole.debug(\"Bokeh: BokehJS plotting callback run at\", now());\n\trun_inline_js();\n      });\n    }\n  }\n  // Give older versions of the autoload script a head-start to ensure\n  // they initialize before we start loading newer version.\n  setTimeout(load_or_wait, 100)\n}(window));",
      "application/vnd.holoviews_load.v0+json": ""
     },
     "metadata": {},
     "output_type": "display_data"
    },
    {
     "data": {
      "application/javascript": "\nif ((window.PyViz === undefined) || (window.PyViz instanceof HTMLElement)) {\n  window.PyViz = {comms: {}, comm_status:{}, kernels:{}, receivers: {}, plot_index: []}\n}\n\n\n    function JupyterCommManager() {\n    }\n\n    JupyterCommManager.prototype.register_target = function(plot_id, comm_id, msg_handler) {\n      if (window.comm_manager || ((window.Jupyter !== undefined) && (Jupyter.notebook.kernel != null))) {\n        var comm_manager = window.comm_manager || Jupyter.notebook.kernel.comm_manager;\n        comm_manager.register_target(comm_id, function(comm) {\n          comm.on_msg(msg_handler);\n        });\n      } else if ((plot_id in window.PyViz.kernels) && (window.PyViz.kernels[plot_id])) {\n        window.PyViz.kernels[plot_id].registerCommTarget(comm_id, function(comm) {\n          comm.onMsg = msg_handler;\n        });\n      } else if (typeof google != 'undefined' && google.colab.kernel != null) {\n        google.colab.kernel.comms.registerTarget(comm_id, (comm) => {\n          var messages = comm.messages[Symbol.asyncIterator]();\n          function processIteratorResult(result) {\n            var message = result.value;\n            console.log(message)\n            var content = {data: message.data, comm_id};\n            var buffers = []\n            for (var buffer of message.buffers || []) {\n              buffers.push(new DataView(buffer))\n            }\n            var metadata = message.metadata || {};\n            var msg = {content, buffers, metadata}\n            msg_handler(msg);\n            return messages.next().then(processIteratorResult);\n          }\n          return messages.next().then(processIteratorResult);\n        })\n      }\n    }\n\n    JupyterCommManager.prototype.get_client_comm = function(plot_id, comm_id, msg_handler) {\n      if (comm_id in window.PyViz.comms) {\n        return window.PyViz.comms[comm_id];\n      } else if (window.comm_manager || ((window.Jupyter !== undefined) && (Jupyter.notebook.kernel != null))) {\n        var comm_manager = window.comm_manager || Jupyter.notebook.kernel.comm_manager;\n        var comm = comm_manager.new_comm(comm_id, {}, {}, {}, comm_id);\n        if (msg_handler) {\n          comm.on_msg(msg_handler);\n        }\n      } else if ((plot_id in window.PyViz.kernels) && (window.PyViz.kernels[plot_id])) {\n        var comm = window.PyViz.kernels[plot_id].connectToComm(comm_id);\n        comm.open();\n        if (msg_handler) {\n          comm.onMsg = msg_handler;\n        }\n      } else if (typeof google != 'undefined' && google.colab.kernel != null) {\n        var comm_promise = google.colab.kernel.comms.open(comm_id)\n        comm_promise.then((comm) => {\n          window.PyViz.comms[comm_id] = comm;\n          if (msg_handler) {\n            var messages = comm.messages[Symbol.asyncIterator]();\n            function processIteratorResult(result) {\n              var message = result.value;\n              var content = {data: message.data};\n              var metadata = message.metadata || {comm_id};\n              var msg = {content, metadata}\n              msg_handler(msg);\n              return messages.next().then(processIteratorResult);\n            }\n            return messages.next().then(processIteratorResult);\n          }\n        }) \n        var sendClosure = (data, metadata, buffers, disposeOnDone) => {\n          return comm_promise.then((comm) => {\n            comm.send(data, metadata, buffers, disposeOnDone);\n          });\n        };\n        var comm = {\n          send: sendClosure\n        };\n      }\n      window.PyViz.comms[comm_id] = comm;\n      return comm;\n    }\n    window.PyViz.comm_manager = new JupyterCommManager();\n    \n\n\nvar JS_MIME_TYPE = 'application/javascript';\nvar HTML_MIME_TYPE = 'text/html';\nvar EXEC_MIME_TYPE = 'application/vnd.holoviews_exec.v0+json';\nvar CLASS_NAME = 'output';\n\n/**\n * Render data to the DOM node\n */\nfunction render(props, node) {\n  var div = document.createElement(\"div\");\n  var script = document.createElement(\"script\");\n  node.appendChild(div);\n  node.appendChild(script);\n}\n\n/**\n * Handle when a new output is added\n */\nfunction handle_add_output(event, handle) {\n  var output_area = handle.output_area;\n  var output = handle.output;\n  if ((output.data == undefined) || (!output.data.hasOwnProperty(EXEC_MIME_TYPE))) {\n    return\n  }\n  var id = output.metadata[EXEC_MIME_TYPE][\"id\"];\n  var toinsert = output_area.element.find(\".\" + CLASS_NAME.split(' ')[0]);\n  if (id !== undefined) {\n    var nchildren = toinsert.length;\n    var html_node = toinsert[nchildren-1].children[0];\n    html_node.innerHTML = output.data[HTML_MIME_TYPE];\n    var scripts = [];\n    var nodelist = html_node.querySelectorAll(\"script\");\n    for (var i in nodelist) {\n      if (nodelist.hasOwnProperty(i)) {\n        scripts.push(nodelist[i])\n      }\n    }\n\n    scripts.forEach( function (oldScript) {\n      var newScript = document.createElement(\"script\");\n      var attrs = [];\n      var nodemap = oldScript.attributes;\n      for (var j in nodemap) {\n        if (nodemap.hasOwnProperty(j)) {\n          attrs.push(nodemap[j])\n        }\n      }\n      attrs.forEach(function(attr) { newScript.setAttribute(attr.name, attr.value) });\n      newScript.appendChild(document.createTextNode(oldScript.innerHTML));\n      oldScript.parentNode.replaceChild(newScript, oldScript);\n    });\n    if (JS_MIME_TYPE in output.data) {\n      toinsert[nchildren-1].children[1].textContent = output.data[JS_MIME_TYPE];\n    }\n    output_area._hv_plot_id = id;\n    if ((window.Bokeh !== undefined) && (id in Bokeh.index)) {\n      window.PyViz.plot_index[id] = Bokeh.index[id];\n    } else {\n      window.PyViz.plot_index[id] = null;\n    }\n  } else if (output.metadata[EXEC_MIME_TYPE][\"server_id\"] !== undefined) {\n    var bk_div = document.createElement(\"div\");\n    bk_div.innerHTML = output.data[HTML_MIME_TYPE];\n    var script_attrs = bk_div.children[0].attributes;\n    for (var i = 0; i < script_attrs.length; i++) {\n      toinsert[toinsert.length - 1].childNodes[1].setAttribute(script_attrs[i].name, script_attrs[i].value);\n    }\n    // store reference to server id on output_area\n    output_area._bokeh_server_id = output.metadata[EXEC_MIME_TYPE][\"server_id\"];\n  }\n}\n\n/**\n * Handle when an output is cleared or removed\n */\nfunction handle_clear_output(event, handle) {\n  var id = handle.cell.output_area._hv_plot_id;\n  var server_id = handle.cell.output_area._bokeh_server_id;\n  if (((id === undefined) || !(id in PyViz.plot_index)) && (server_id !== undefined)) { return; }\n  var comm = window.PyViz.comm_manager.get_client_comm(\"hv-extension-comm\", \"hv-extension-comm\", function () {});\n  if (server_id !== null) {\n    comm.send({event_type: 'server_delete', 'id': server_id});\n    return;\n  } else if (comm !== null) {\n    comm.send({event_type: 'delete', 'id': id});\n  }\n  delete PyViz.plot_index[id];\n  if ((window.Bokeh !== undefined) & (id in window.Bokeh.index)) {\n    var doc = window.Bokeh.index[id].model.document\n    doc.clear();\n    const i = window.Bokeh.documents.indexOf(doc);\n    if (i > -1) {\n      window.Bokeh.documents.splice(i, 1);\n    }\n  }\n}\n\n/**\n * Handle kernel restart event\n */\nfunction handle_kernel_cleanup(event, handle) {\n  delete PyViz.comms[\"hv-extension-comm\"];\n  window.PyViz.plot_index = {}\n}\n\n/**\n * Handle update_display_data messages\n */\nfunction handle_update_output(event, handle) {\n  handle_clear_output(event, {cell: {output_area: handle.output_area}})\n  handle_add_output(event, handle)\n}\n\nfunction register_renderer(events, OutputArea) {\n  function append_mime(data, metadata, element) {\n    // create a DOM node to render to\n    var toinsert = this.create_output_subarea(\n    metadata,\n    CLASS_NAME,\n    EXEC_MIME_TYPE\n    );\n    this.keyboard_manager.register_events(toinsert);\n    // Render to node\n    var props = {data: data, metadata: metadata[EXEC_MIME_TYPE]};\n    render(props, toinsert[0]);\n    element.append(toinsert);\n    return toinsert\n  }\n\n  events.on('output_added.OutputArea', handle_add_output);\n  events.on('output_updated.OutputArea', handle_update_output);\n  events.on('clear_output.CodeCell', handle_clear_output);\n  events.on('delete.Cell', handle_clear_output);\n  events.on('kernel_ready.Kernel', handle_kernel_cleanup);\n\n  OutputArea.prototype.register_mime_type(EXEC_MIME_TYPE, append_mime, {\n    safe: true,\n    index: 0\n  });\n}\n\nif (window.Jupyter !== undefined) {\n  try {\n    var events = require('base/js/events');\n    var OutputArea = require('notebook/js/outputarea').OutputArea;\n    if (OutputArea.prototype.mime_types().indexOf(EXEC_MIME_TYPE) == -1) {\n      register_renderer(events, OutputArea);\n    }\n  } catch(err) {\n  }\n}\n",
      "application/vnd.holoviews_load.v0+json": ""
     },
     "metadata": {},
     "output_type": "display_data"
    },
    {
     "data": {
      "text/html": [
       "<style>*[data-root-id],\n",
       "*[data-root-id] > * {\n",
       "  box-sizing: border-box;\n",
       "  font-family: var(--jp-ui-font-family);\n",
       "  font-size: var(--jp-ui-font-size1);\n",
       "  color: var(--vscode-editor-foreground, var(--jp-ui-font-color1));\n",
       "}\n",
       "\n",
       "/* Override VSCode background color */\n",
       ".cell-output-ipywidget-background:has(\n",
       "    > .cell-output-ipywidget-background > .lm-Widget > *[data-root-id]\n",
       "  ),\n",
       ".cell-output-ipywidget-background:has(> .lm-Widget > *[data-root-id]) {\n",
       "  background-color: transparent !important;\n",
       "}\n",
       "</style>"
      ]
     },
     "metadata": {},
     "output_type": "display_data"
    },
    {
     "data": {
      "application/vnd.holoviews_exec.v0+json": "",
      "text/html": [
       "<div id='a62e9852-a342-443b-8953-9b065c8ebca0'>\n",
       "  <div id=\"e0b947d5-fba8-4d3f-b90d-3954bc70f23f\" data-root-id=\"a62e9852-a342-443b-8953-9b065c8ebca0\" style=\"display: contents;\"></div>\n",
       "</div>\n",
       "<script type=\"application/javascript\">(function(root) {\n",
       "  var docs_json = {\"5125c0c4-d13f-481f-82c7-486eb61dbaf5\":{\"version\":\"3.4.1\",\"title\":\"Bokeh Application\",\"roots\":[{\"type\":\"object\",\"name\":\"panel.models.browser.BrowserInfo\",\"id\":\"a62e9852-a342-443b-8953-9b065c8ebca0\"},{\"type\":\"object\",\"name\":\"panel.models.comm_manager.CommManager\",\"id\":\"88417d0e-71d9-4805-abb4-0096434cf951\",\"attributes\":{\"plot_id\":\"a62e9852-a342-443b-8953-9b065c8ebca0\",\"comm_id\":\"74274f8591644bfeab4087f4b469f910\",\"client_comm_id\":\"50b07fee24de449487aac9d39eef88b1\"}}],\"defs\":[{\"type\":\"model\",\"name\":\"ReactiveHTML1\"},{\"type\":\"model\",\"name\":\"FlexBox1\",\"properties\":[{\"name\":\"align_content\",\"kind\":\"Any\",\"default\":\"flex-start\"},{\"name\":\"align_items\",\"kind\":\"Any\",\"default\":\"flex-start\"},{\"name\":\"flex_direction\",\"kind\":\"Any\",\"default\":\"row\"},{\"name\":\"flex_wrap\",\"kind\":\"Any\",\"default\":\"wrap\"},{\"name\":\"gap\",\"kind\":\"Any\",\"default\":\"\"},{\"name\":\"justify_content\",\"kind\":\"Any\",\"default\":\"flex-start\"}]},{\"type\":\"model\",\"name\":\"FloatPanel1\",\"properties\":[{\"name\":\"config\",\"kind\":\"Any\",\"default\":{\"type\":\"map\"}},{\"name\":\"contained\",\"kind\":\"Any\",\"default\":true},{\"name\":\"position\",\"kind\":\"Any\",\"default\":\"right-top\"},{\"name\":\"offsetx\",\"kind\":\"Any\",\"default\":null},{\"name\":\"offsety\",\"kind\":\"Any\",\"default\":null},{\"name\":\"theme\",\"kind\":\"Any\",\"default\":\"primary\"},{\"name\":\"status\",\"kind\":\"Any\",\"default\":\"normalized\"}]},{\"type\":\"model\",\"name\":\"GridStack1\",\"properties\":[{\"name\":\"mode\",\"kind\":\"Any\",\"default\":\"warn\"},{\"name\":\"ncols\",\"kind\":\"Any\",\"default\":null},{\"name\":\"nrows\",\"kind\":\"Any\",\"default\":null},{\"name\":\"allow_resize\",\"kind\":\"Any\",\"default\":true},{\"name\":\"allow_drag\",\"kind\":\"Any\",\"default\":true},{\"name\":\"state\",\"kind\":\"Any\",\"default\":[]}]},{\"type\":\"model\",\"name\":\"drag1\",\"properties\":[{\"name\":\"slider_width\",\"kind\":\"Any\",\"default\":5},{\"name\":\"slider_color\",\"kind\":\"Any\",\"default\":\"black\"},{\"name\":\"value\",\"kind\":\"Any\",\"default\":50}]},{\"type\":\"model\",\"name\":\"click1\",\"properties\":[{\"name\":\"terminal_output\",\"kind\":\"Any\",\"default\":\"\"},{\"name\":\"debug_name\",\"kind\":\"Any\",\"default\":\"\"},{\"name\":\"clears\",\"kind\":\"Any\",\"default\":0}]},{\"type\":\"model\",\"name\":\"FastWrapper1\",\"properties\":[{\"name\":\"object\",\"kind\":\"Any\",\"default\":null},{\"name\":\"style\",\"kind\":\"Any\",\"default\":null}]},{\"type\":\"model\",\"name\":\"NotificationAreaBase1\",\"properties\":[{\"name\":\"js_events\",\"kind\":\"Any\",\"default\":{\"type\":\"map\"}},{\"name\":\"position\",\"kind\":\"Any\",\"default\":\"bottom-right\"},{\"name\":\"_clear\",\"kind\":\"Any\",\"default\":0}]},{\"type\":\"model\",\"name\":\"NotificationArea1\",\"properties\":[{\"name\":\"js_events\",\"kind\":\"Any\",\"default\":{\"type\":\"map\"}},{\"name\":\"notifications\",\"kind\":\"Any\",\"default\":[]},{\"name\":\"position\",\"kind\":\"Any\",\"default\":\"bottom-right\"},{\"name\":\"_clear\",\"kind\":\"Any\",\"default\":0},{\"name\":\"types\",\"kind\":\"Any\",\"default\":[{\"type\":\"map\",\"entries\":[[\"type\",\"warning\"],[\"background\",\"#ffc107\"],[\"icon\",{\"type\":\"map\",\"entries\":[[\"className\",\"fas fa-exclamation-triangle\"],[\"tagName\",\"i\"],[\"color\",\"white\"]]}]]},{\"type\":\"map\",\"entries\":[[\"type\",\"info\"],[\"background\",\"#007bff\"],[\"icon\",{\"type\":\"map\",\"entries\":[[\"className\",\"fas fa-info-circle\"],[\"tagName\",\"i\"],[\"color\",\"white\"]]}]]}]}]},{\"type\":\"model\",\"name\":\"Notification\",\"properties\":[{\"name\":\"background\",\"kind\":\"Any\",\"default\":null},{\"name\":\"duration\",\"kind\":\"Any\",\"default\":3000},{\"name\":\"icon\",\"kind\":\"Any\",\"default\":null},{\"name\":\"message\",\"kind\":\"Any\",\"default\":\"\"},{\"name\":\"notification_type\",\"kind\":\"Any\",\"default\":null},{\"name\":\"_destroyed\",\"kind\":\"Any\",\"default\":false}]},{\"type\":\"model\",\"name\":\"TemplateActions1\",\"properties\":[{\"name\":\"open_modal\",\"kind\":\"Any\",\"default\":0},{\"name\":\"close_modal\",\"kind\":\"Any\",\"default\":0}]},{\"type\":\"model\",\"name\":\"BootstrapTemplateActions1\",\"properties\":[{\"name\":\"open_modal\",\"kind\":\"Any\",\"default\":0},{\"name\":\"close_modal\",\"kind\":\"Any\",\"default\":0}]},{\"type\":\"model\",\"name\":\"TemplateEditor1\",\"properties\":[{\"name\":\"layout\",\"kind\":\"Any\",\"default\":[]}]},{\"type\":\"model\",\"name\":\"MaterialTemplateActions1\",\"properties\":[{\"name\":\"open_modal\",\"kind\":\"Any\",\"default\":0},{\"name\":\"close_modal\",\"kind\":\"Any\",\"default\":0}]},{\"type\":\"model\",\"name\":\"copy_to_clipboard1\",\"properties\":[{\"name\":\"fill\",\"kind\":\"Any\",\"default\":\"none\"},{\"name\":\"value\",\"kind\":\"Any\",\"default\":null}]}]}};\n",
       "  var render_items = [{\"docid\":\"5125c0c4-d13f-481f-82c7-486eb61dbaf5\",\"roots\":{\"a62e9852-a342-443b-8953-9b065c8ebca0\":\"e0b947d5-fba8-4d3f-b90d-3954bc70f23f\"},\"root_ids\":[\"a62e9852-a342-443b-8953-9b065c8ebca0\"]}];\n",
       "  var docs = Object.values(docs_json)\n",
       "  if (!docs) {\n",
       "    return\n",
       "  }\n",
       "  const py_version = docs[0].version.replace('rc', '-rc.').replace('.dev', '-dev.')\n",
       "  function embed_document(root) {\n",
       "    var Bokeh = get_bokeh(root)\n",
       "    Bokeh.embed.embed_items_notebook(docs_json, render_items);\n",
       "    for (const render_item of render_items) {\n",
       "      for (const root_id of render_item.root_ids) {\n",
       "\tconst id_el = document.getElementById(root_id)\n",
       "\tif (id_el.children.length && (id_el.children[0].className === 'bk-root')) {\n",
       "\t  const root_el = id_el.children[0]\n",
       "\t  root_el.id = root_el.id + '-rendered'\n",
       "\t}\n",
       "      }\n",
       "    }\n",
       "  }\n",
       "  function get_bokeh(root) {\n",
       "    if (root.Bokeh === undefined) {\n",
       "      return null\n",
       "    } else if (root.Bokeh.version !== py_version) {\n",
       "      if (root.Bokeh.versions === undefined || !root.Bokeh.versions.has(py_version)) {\n",
       "\treturn null\n",
       "      }\n",
       "      return root.Bokeh.versions.get(py_version);\n",
       "    } else if (root.Bokeh.version === py_version) {\n",
       "      return root.Bokeh\n",
       "    }\n",
       "    return null\n",
       "  }\n",
       "  function is_loaded(root) {\n",
       "    var Bokeh = get_bokeh(root)\n",
       "    return (Bokeh != null && Bokeh.Panel !== undefined && ( root.Plotly !== undefined) && ( root.Plotly !== undefined))\n",
       "  }\n",
       "  if (is_loaded(root)) {\n",
       "    embed_document(root);\n",
       "  } else {\n",
       "    var attempts = 0;\n",
       "    var timer = setInterval(function(root) {\n",
       "      if (is_loaded(root)) {\n",
       "        clearInterval(timer);\n",
       "        embed_document(root);\n",
       "      } else if (document.readyState == \"complete\") {\n",
       "        attempts++;\n",
       "        if (attempts > 200) {\n",
       "          clearInterval(timer);\n",
       "\t  var Bokeh = get_bokeh(root)\n",
       "\t  if (Bokeh == null || Bokeh.Panel == null) {\n",
       "            console.warn(\"Panel: ERROR: Unable to run Panel code because Bokeh or Panel library is missing\");\n",
       "\t  } else {\n",
       "\t    console.warn(\"Panel: WARNING: Attempting to render but not all required libraries could be resolved.\")\n",
       "\t    embed_document(root)\n",
       "\t  }\n",
       "        }\n",
       "      }\n",
       "    }, 25, root)\n",
       "  }\n",
       "})(window);</script>"
      ]
     },
     "metadata": {
      "application/vnd.holoviews_exec.v0+json": {
       "id": "a62e9852-a342-443b-8953-9b065c8ebca0"
      }
     },
     "output_type": "display_data"
    },
    {
     "data": {
      "text/plain": [
       "polars.config.Config"
      ]
     },
     "execution_count": 1,
     "metadata": {},
     "output_type": "execute_result"
    }
   ],
   "source": [
    "from ethpandaops_python.preprocessor import Preprocessor\n",
    "from holoviews import opts\n",
    "import nest_asyncio\n",
    "import polars as pl\n",
    "import panel as pn\n",
    "\n",
    "\n",
    "nest_asyncio.apply()\n",
    "pn.extension(\"plotly\", template=\"material\", sizing_mode=\"stretch_width\")\n",
    "pl.Config.set_fmt_str_lengths(200)\n",
    "pl.Config.set_fmt_float(\"full\")"
   ]
  },
  {
   "cell_type": "markdown",
   "metadata": {},
   "source": [
    "### Data Query"
   ]
  },
  {
   "cell_type": "code",
   "execution_count": 2,
   "metadata": {},
   "outputs": [],
   "source": [
    "# labeled blobs - https://dune.com/queries/3521610\n",
    "arbitrum: str = \"0xC1b634853Cb333D3aD8663715b08f41A3Aec47cc\"\n",
    "linea: str = \"0xa9268341831eFa4937537bc3e9EB36DbecE83C7e\"\n",
    "base: str = \"0x5050F69a9786F081509234F1a7F4684b5E5b76C9\"\n",
    "starknet: str = \"0x2C169DFe5fBbA12957Bdd0Ba47d9CEDbFE260CA7\"\n",
    "\n",
    "num_days: int = 7"
   ]
  },
  {
   "cell_type": "code",
   "execution_count": 3,
   "metadata": {},
   "outputs": [],
   "source": [
    "preprocessor: Preprocessor = Preprocessor(\n",
    "    blob_producer=base,\n",
    "    period=num_days,\n",
    "    network=\"mainnet\",  # mainnet\n",
    ")"
   ]
  },
  {
   "cell_type": "code",
   "execution_count": 4,
   "metadata": {},
   "outputs": [],
   "source": [
    "slot_count_breakdown_df: pl.DataFrame = preprocessor.create_slot_count_breakdown_df()\n",
    "\n",
    "slot_inclusion_df: pl.DataFrame = (\n",
    "    preprocessor.create_slot_inclusion_df()\n",
    "    # there is an outlier in the data that has an unusually high slot count, I think it might be an error with the xatu mempool data.\n",
    "    # additionally there is currently a single tx with 5 blobs and 1 with 7. Since it's a single row, I think it's easier to just discard and ignore for now\n",
    "    .filter(pl.col(\"slot_inclusion_rate\") < 250).filter(\n",
    "        pl.col(\"slot_inclusion_rate_50_blob_avg\") < 40\n",
    "    )\n",
    ")\n",
    "\n",
    "slot_gas_bidding_df: pl.DataFrame = preprocessor.create_slot_gas_bidding_df().filter(\n",
    "    pl.col(\"slot_inclusion_rate\") < 250\n",
    ")\n",
    "\n",
    "slot_gas_groupby_df = preprocessor.create_bid_premium_df().filter(\n",
    "    pl.col(\"slot_inclusion_rate\") < 250\n",
    ")"
   ]
  },
  {
   "cell_type": "code",
   "execution_count": 5,
   "metadata": {},
   "outputs": [
    {
     "data": {
      "application/javascript": "(function(root) {\n  function now() {\n    return new Date();\n  }\n\n  var force = true;\n  var py_version = '3.4.1'.replace('rc', '-rc.').replace('.dev', '-dev.');\n  var reloading = false;\n  var Bokeh = root.Bokeh;\n\n  if (typeof (root._bokeh_timeout) === \"undefined\" || force) {\n    root._bokeh_timeout = Date.now() + 5000;\n    root._bokeh_failed_load = false;\n  }\n\n  function run_callbacks() {\n    try {\n      root._bokeh_onload_callbacks.forEach(function(callback) {\n        if (callback != null)\n          callback();\n      });\n    } finally {\n      delete root._bokeh_onload_callbacks;\n    }\n    console.debug(\"Bokeh: all callbacks have finished\");\n  }\n\n  function load_libs(css_urls, js_urls, js_modules, js_exports, callback) {\n    if (css_urls == null) css_urls = [];\n    if (js_urls == null) js_urls = [];\n    if (js_modules == null) js_modules = [];\n    if (js_exports == null) js_exports = {};\n\n    root._bokeh_onload_callbacks.push(callback);\n\n    if (root._bokeh_is_loading > 0) {\n      console.debug(\"Bokeh: BokehJS is being loaded, scheduling callback at\", now());\n      return null;\n    }\n    if (js_urls.length === 0 && js_modules.length === 0 && Object.keys(js_exports).length === 0) {\n      run_callbacks();\n      return null;\n    }\n    if (!reloading) {\n      console.debug(\"Bokeh: BokehJS not loaded, scheduling load and callback at\", now());\n    }\n\n    function on_load() {\n      root._bokeh_is_loading--;\n      if (root._bokeh_is_loading === 0) {\n        console.debug(\"Bokeh: all BokehJS libraries/stylesheets loaded\");\n        run_callbacks()\n      }\n    }\n    window._bokeh_on_load = on_load\n\n    function on_error() {\n      console.error(\"failed to load \" + url);\n    }\n\n    var skip = [];\n    if (window.requirejs) {\n      window.requirejs.config({'packages': {}, 'paths': {'plotly': 'https://cdn.plot.ly/plotly-2.25.2.min'}, 'shim': {}});\n      require([\"plotly\"], function(Plotly) {\n\twindow.Plotly = Plotly\n\ton_load()\n      })\n      root._bokeh_is_loading = css_urls.length + 1;\n    } else {\n      root._bokeh_is_loading = css_urls.length + js_urls.length + js_modules.length + Object.keys(js_exports).length;\n    }\n\n    var existing_stylesheets = []\n    var links = document.getElementsByTagName('link')\n    for (var i = 0; i < links.length; i++) {\n      var link = links[i]\n      if (link.href != null) {\n\texisting_stylesheets.push(link.href)\n      }\n    }\n    for (var i = 0; i < css_urls.length; i++) {\n      var url = css_urls[i];\n      if (existing_stylesheets.indexOf(url) !== -1) {\n\ton_load()\n\tcontinue;\n      }\n      const element = document.createElement(\"link\");\n      element.onload = on_load;\n      element.onerror = on_error;\n      element.rel = \"stylesheet\";\n      element.type = \"text/css\";\n      element.href = url;\n      console.debug(\"Bokeh: injecting link tag for BokehJS stylesheet: \", url);\n      document.body.appendChild(element);\n    }    if (((window.Plotly !== undefined) && (!(window.Plotly instanceof HTMLElement))) || window.requirejs) {\n      var urls = ['https://cdn.holoviz.org/panel/1.4.1/dist/bundled/plotlyplot/plotly-2.25.2.min.js'];\n      for (var i = 0; i < urls.length; i++) {\n        skip.push(urls[i])\n      }\n    }    var existing_scripts = []\n    var scripts = document.getElementsByTagName('script')\n    for (var i = 0; i < scripts.length; i++) {\n      var script = scripts[i]\n      if (script.src != null) {\n\texisting_scripts.push(script.src)\n      }\n    }\n    for (var i = 0; i < js_urls.length; i++) {\n      var url = js_urls[i];\n      if (skip.indexOf(url) !== -1 || existing_scripts.indexOf(url) !== -1) {\n\tif (!window.requirejs) {\n\t  on_load();\n\t}\n\tcontinue;\n      }\n      var element = document.createElement('script');\n      element.onload = on_load;\n      element.onerror = on_error;\n      element.async = false;\n      element.src = url;\n      console.debug(\"Bokeh: injecting script tag for BokehJS library: \", url);\n      document.head.appendChild(element);\n    }\n    for (var i = 0; i < js_modules.length; i++) {\n      var url = js_modules[i];\n      if (skip.indexOf(url) !== -1 || existing_scripts.indexOf(url) !== -1) {\n\tif (!window.requirejs) {\n\t  on_load();\n\t}\n\tcontinue;\n      }\n      var element = document.createElement('script');\n      element.onload = on_load;\n      element.onerror = on_error;\n      element.async = false;\n      element.src = url;\n      element.type = \"module\";\n      console.debug(\"Bokeh: injecting script tag for BokehJS library: \", url);\n      document.head.appendChild(element);\n    }\n    for (const name in js_exports) {\n      var url = js_exports[name];\n      if (skip.indexOf(url) >= 0 || root[name] != null) {\n\tif (!window.requirejs) {\n\t  on_load();\n\t}\n\tcontinue;\n      }\n      var element = document.createElement('script');\n      element.onerror = on_error;\n      element.async = false;\n      element.type = \"module\";\n      console.debug(\"Bokeh: injecting script tag for BokehJS library: \", url);\n      element.textContent = `\n      import ${name} from \"${url}\"\n      window.${name} = ${name}\n      window._bokeh_on_load()\n      `\n      document.head.appendChild(element);\n    }\n    if (!js_urls.length && !js_modules.length) {\n      on_load()\n    }\n  };\n\n  function inject_raw_css(css) {\n    const element = document.createElement(\"style\");\n    element.appendChild(document.createTextNode(css));\n    document.body.appendChild(element);\n  }\n\n  var js_urls = [\"https://cdn.holoviz.org/panel/1.4.1/dist/bundled/jquery/jquery.slim.min.js\", \"https://cdn.holoviz.org/panel/1.4.1/dist/bundled/plotlyplot/plotly-2.25.2.min.js\", \"https://cdn.bokeh.org/bokeh/release/bokeh-3.4.1.min.js\", \"https://cdn.bokeh.org/bokeh/release/bokeh-gl-3.4.1.min.js\", \"https://cdn.bokeh.org/bokeh/release/bokeh-widgets-3.4.1.min.js\", \"https://cdn.bokeh.org/bokeh/release/bokeh-tables-3.4.1.min.js\", \"https://cdn.holoviz.org/panel/1.4.1/dist/panel.min.js\"];\n  var js_modules = [];\n  var js_exports = {};\n  var css_urls = [];\n  var inline_js = [    function(Bokeh) {\n      Bokeh.set_log_level(\"info\");\n    },\nfunction(Bokeh) {} // ensure no trailing comma for IE\n  ];\n\n  function run_inline_js() {\n    if ((root.Bokeh !== undefined) || (force === true)) {\n      for (var i = 0; i < inline_js.length; i++) {\n\ttry {\n          inline_js[i].call(root, root.Bokeh);\n\t} catch(e) {\n\t  if (!reloading) {\n\t    throw e;\n\t  }\n\t}\n      }\n      // Cache old bokeh versions\n      if (Bokeh != undefined && !reloading) {\n\tvar NewBokeh = root.Bokeh;\n\tif (Bokeh.versions === undefined) {\n\t  Bokeh.versions = new Map();\n\t}\n\tif (NewBokeh.version !== Bokeh.version) {\n\t  Bokeh.versions.set(NewBokeh.version, NewBokeh)\n\t}\n\troot.Bokeh = Bokeh;\n      }} else if (Date.now() < root._bokeh_timeout) {\n      setTimeout(run_inline_js, 100);\n    } else if (!root._bokeh_failed_load) {\n      console.log(\"Bokeh: BokehJS failed to load within specified timeout.\");\n      root._bokeh_failed_load = true;\n    }\n    root._bokeh_is_initializing = false\n  }\n\n  function load_or_wait() {\n    // Implement a backoff loop that tries to ensure we do not load multiple\n    // versions of Bokeh and its dependencies at the same time.\n    // In recent versions we use the root._bokeh_is_initializing flag\n    // to determine whether there is an ongoing attempt to initialize\n    // bokeh, however for backward compatibility we also try to ensure\n    // that we do not start loading a newer (Panel>=1.0 and Bokeh>3) version\n    // before older versions are fully initialized.\n    if (root._bokeh_is_initializing && Date.now() > root._bokeh_timeout) {\n      root._bokeh_is_initializing = false;\n      root._bokeh_onload_callbacks = undefined;\n      console.log(\"Bokeh: BokehJS was loaded multiple times but one version failed to initialize.\");\n      load_or_wait();\n    } else if (root._bokeh_is_initializing || (typeof root._bokeh_is_initializing === \"undefined\" && root._bokeh_onload_callbacks !== undefined)) {\n      setTimeout(load_or_wait, 100);\n    } else {\n      root._bokeh_is_initializing = true\n      root._bokeh_onload_callbacks = []\n      var bokeh_loaded = Bokeh != null && (Bokeh.version === py_version || (Bokeh.versions !== undefined && Bokeh.versions.has(py_version)));\n      if (!reloading && !bokeh_loaded) {\n\troot.Bokeh = undefined;\n      }\n      load_libs(css_urls, js_urls, js_modules, js_exports, function() {\n\tconsole.debug(\"Bokeh: BokehJS plotting callback run at\", now());\n\trun_inline_js();\n      });\n    }\n  }\n  // Give older versions of the autoload script a head-start to ensure\n  // they initialize before we start loading newer version.\n  setTimeout(load_or_wait, 100)\n}(window));",
      "application/vnd.holoviews_load.v0+json": ""
     },
     "metadata": {},
     "output_type": "display_data"
    },
    {
     "data": {
      "application/javascript": "\nif ((window.PyViz === undefined) || (window.PyViz instanceof HTMLElement)) {\n  window.PyViz = {comms: {}, comm_status:{}, kernels:{}, receivers: {}, plot_index: []}\n}\n\n\n    function JupyterCommManager() {\n    }\n\n    JupyterCommManager.prototype.register_target = function(plot_id, comm_id, msg_handler) {\n      if (window.comm_manager || ((window.Jupyter !== undefined) && (Jupyter.notebook.kernel != null))) {\n        var comm_manager = window.comm_manager || Jupyter.notebook.kernel.comm_manager;\n        comm_manager.register_target(comm_id, function(comm) {\n          comm.on_msg(msg_handler);\n        });\n      } else if ((plot_id in window.PyViz.kernels) && (window.PyViz.kernels[plot_id])) {\n        window.PyViz.kernels[plot_id].registerCommTarget(comm_id, function(comm) {\n          comm.onMsg = msg_handler;\n        });\n      } else if (typeof google != 'undefined' && google.colab.kernel != null) {\n        google.colab.kernel.comms.registerTarget(comm_id, (comm) => {\n          var messages = comm.messages[Symbol.asyncIterator]();\n          function processIteratorResult(result) {\n            var message = result.value;\n            console.log(message)\n            var content = {data: message.data, comm_id};\n            var buffers = []\n            for (var buffer of message.buffers || []) {\n              buffers.push(new DataView(buffer))\n            }\n            var metadata = message.metadata || {};\n            var msg = {content, buffers, metadata}\n            msg_handler(msg);\n            return messages.next().then(processIteratorResult);\n          }\n          return messages.next().then(processIteratorResult);\n        })\n      }\n    }\n\n    JupyterCommManager.prototype.get_client_comm = function(plot_id, comm_id, msg_handler) {\n      if (comm_id in window.PyViz.comms) {\n        return window.PyViz.comms[comm_id];\n      } else if (window.comm_manager || ((window.Jupyter !== undefined) && (Jupyter.notebook.kernel != null))) {\n        var comm_manager = window.comm_manager || Jupyter.notebook.kernel.comm_manager;\n        var comm = comm_manager.new_comm(comm_id, {}, {}, {}, comm_id);\n        if (msg_handler) {\n          comm.on_msg(msg_handler);\n        }\n      } else if ((plot_id in window.PyViz.kernels) && (window.PyViz.kernels[plot_id])) {\n        var comm = window.PyViz.kernels[plot_id].connectToComm(comm_id);\n        comm.open();\n        if (msg_handler) {\n          comm.onMsg = msg_handler;\n        }\n      } else if (typeof google != 'undefined' && google.colab.kernel != null) {\n        var comm_promise = google.colab.kernel.comms.open(comm_id)\n        comm_promise.then((comm) => {\n          window.PyViz.comms[comm_id] = comm;\n          if (msg_handler) {\n            var messages = comm.messages[Symbol.asyncIterator]();\n            function processIteratorResult(result) {\n              var message = result.value;\n              var content = {data: message.data};\n              var metadata = message.metadata || {comm_id};\n              var msg = {content, metadata}\n              msg_handler(msg);\n              return messages.next().then(processIteratorResult);\n            }\n            return messages.next().then(processIteratorResult);\n          }\n        }) \n        var sendClosure = (data, metadata, buffers, disposeOnDone) => {\n          return comm_promise.then((comm) => {\n            comm.send(data, metadata, buffers, disposeOnDone);\n          });\n        };\n        var comm = {\n          send: sendClosure\n        };\n      }\n      window.PyViz.comms[comm_id] = comm;\n      return comm;\n    }\n    window.PyViz.comm_manager = new JupyterCommManager();\n    \n\n\nvar JS_MIME_TYPE = 'application/javascript';\nvar HTML_MIME_TYPE = 'text/html';\nvar EXEC_MIME_TYPE = 'application/vnd.holoviews_exec.v0+json';\nvar CLASS_NAME = 'output';\n\n/**\n * Render data to the DOM node\n */\nfunction render(props, node) {\n  var div = document.createElement(\"div\");\n  var script = document.createElement(\"script\");\n  node.appendChild(div);\n  node.appendChild(script);\n}\n\n/**\n * Handle when a new output is added\n */\nfunction handle_add_output(event, handle) {\n  var output_area = handle.output_area;\n  var output = handle.output;\n  if ((output.data == undefined) || (!output.data.hasOwnProperty(EXEC_MIME_TYPE))) {\n    return\n  }\n  var id = output.metadata[EXEC_MIME_TYPE][\"id\"];\n  var toinsert = output_area.element.find(\".\" + CLASS_NAME.split(' ')[0]);\n  if (id !== undefined) {\n    var nchildren = toinsert.length;\n    var html_node = toinsert[nchildren-1].children[0];\n    html_node.innerHTML = output.data[HTML_MIME_TYPE];\n    var scripts = [];\n    var nodelist = html_node.querySelectorAll(\"script\");\n    for (var i in nodelist) {\n      if (nodelist.hasOwnProperty(i)) {\n        scripts.push(nodelist[i])\n      }\n    }\n\n    scripts.forEach( function (oldScript) {\n      var newScript = document.createElement(\"script\");\n      var attrs = [];\n      var nodemap = oldScript.attributes;\n      for (var j in nodemap) {\n        if (nodemap.hasOwnProperty(j)) {\n          attrs.push(nodemap[j])\n        }\n      }\n      attrs.forEach(function(attr) { newScript.setAttribute(attr.name, attr.value) });\n      newScript.appendChild(document.createTextNode(oldScript.innerHTML));\n      oldScript.parentNode.replaceChild(newScript, oldScript);\n    });\n    if (JS_MIME_TYPE in output.data) {\n      toinsert[nchildren-1].children[1].textContent = output.data[JS_MIME_TYPE];\n    }\n    output_area._hv_plot_id = id;\n    if ((window.Bokeh !== undefined) && (id in Bokeh.index)) {\n      window.PyViz.plot_index[id] = Bokeh.index[id];\n    } else {\n      window.PyViz.plot_index[id] = null;\n    }\n  } else if (output.metadata[EXEC_MIME_TYPE][\"server_id\"] !== undefined) {\n    var bk_div = document.createElement(\"div\");\n    bk_div.innerHTML = output.data[HTML_MIME_TYPE];\n    var script_attrs = bk_div.children[0].attributes;\n    for (var i = 0; i < script_attrs.length; i++) {\n      toinsert[toinsert.length - 1].childNodes[1].setAttribute(script_attrs[i].name, script_attrs[i].value);\n    }\n    // store reference to server id on output_area\n    output_area._bokeh_server_id = output.metadata[EXEC_MIME_TYPE][\"server_id\"];\n  }\n}\n\n/**\n * Handle when an output is cleared or removed\n */\nfunction handle_clear_output(event, handle) {\n  var id = handle.cell.output_area._hv_plot_id;\n  var server_id = handle.cell.output_area._bokeh_server_id;\n  if (((id === undefined) || !(id in PyViz.plot_index)) && (server_id !== undefined)) { return; }\n  var comm = window.PyViz.comm_manager.get_client_comm(\"hv-extension-comm\", \"hv-extension-comm\", function () {});\n  if (server_id !== null) {\n    comm.send({event_type: 'server_delete', 'id': server_id});\n    return;\n  } else if (comm !== null) {\n    comm.send({event_type: 'delete', 'id': id});\n  }\n  delete PyViz.plot_index[id];\n  if ((window.Bokeh !== undefined) & (id in window.Bokeh.index)) {\n    var doc = window.Bokeh.index[id].model.document\n    doc.clear();\n    const i = window.Bokeh.documents.indexOf(doc);\n    if (i > -1) {\n      window.Bokeh.documents.splice(i, 1);\n    }\n  }\n}\n\n/**\n * Handle kernel restart event\n */\nfunction handle_kernel_cleanup(event, handle) {\n  delete PyViz.comms[\"hv-extension-comm\"];\n  window.PyViz.plot_index = {}\n}\n\n/**\n * Handle update_display_data messages\n */\nfunction handle_update_output(event, handle) {\n  handle_clear_output(event, {cell: {output_area: handle.output_area}})\n  handle_add_output(event, handle)\n}\n\nfunction register_renderer(events, OutputArea) {\n  function append_mime(data, metadata, element) {\n    // create a DOM node to render to\n    var toinsert = this.create_output_subarea(\n    metadata,\n    CLASS_NAME,\n    EXEC_MIME_TYPE\n    );\n    this.keyboard_manager.register_events(toinsert);\n    // Render to node\n    var props = {data: data, metadata: metadata[EXEC_MIME_TYPE]};\n    render(props, toinsert[0]);\n    element.append(toinsert);\n    return toinsert\n  }\n\n  events.on('output_added.OutputArea', handle_add_output);\n  events.on('output_updated.OutputArea', handle_update_output);\n  events.on('clear_output.CodeCell', handle_clear_output);\n  events.on('delete.Cell', handle_clear_output);\n  events.on('kernel_ready.Kernel', handle_kernel_cleanup);\n\n  OutputArea.prototype.register_mime_type(EXEC_MIME_TYPE, append_mime, {\n    safe: true,\n    index: 0\n  });\n}\n\nif (window.Jupyter !== undefined) {\n  try {\n    var events = require('base/js/events');\n    var OutputArea = require('notebook/js/outputarea').OutputArea;\n    if (OutputArea.prototype.mime_types().indexOf(EXEC_MIME_TYPE) == -1) {\n      register_renderer(events, OutputArea);\n    }\n  } catch(err) {\n  }\n}\n",
      "application/vnd.holoviews_load.v0+json": ""
     },
     "metadata": {},
     "output_type": "display_data"
    },
    {
     "data": {
      "text/html": [
       "<style>*[data-root-id],\n",
       "*[data-root-id] > * {\n",
       "  box-sizing: border-box;\n",
       "  font-family: var(--jp-ui-font-family);\n",
       "  font-size: var(--jp-ui-font-size1);\n",
       "  color: var(--vscode-editor-foreground, var(--jp-ui-font-color1));\n",
       "}\n",
       "\n",
       "/* Override VSCode background color */\n",
       ".cell-output-ipywidget-background:has(\n",
       "    > .cell-output-ipywidget-background > .lm-Widget > *[data-root-id]\n",
       "  ),\n",
       ".cell-output-ipywidget-background:has(> .lm-Widget > *[data-root-id]) {\n",
       "  background-color: transparent !important;\n",
       "}\n",
       "</style>"
      ]
     },
     "metadata": {},
     "output_type": "display_data"
    },
    {
     "data": {
      "application/vnd.holoviews_exec.v0+json": "",
      "text/html": [
       "<div id='e3117586-dafe-4ded-8b27-42698ba6cac3'>\n",
       "  <div id=\"e67cc472-5cb1-403f-a111-44b70a875e58\" data-root-id=\"e3117586-dafe-4ded-8b27-42698ba6cac3\" style=\"display: contents;\"></div>\n",
       "</div>\n",
       "<script type=\"application/javascript\">(function(root) {\n",
       "  var docs_json = {\"3e7b1a44-6aa7-4236-9b45-9fc296e93bc7\":{\"version\":\"3.4.1\",\"title\":\"Bokeh Application\",\"roots\":[{\"type\":\"object\",\"name\":\"panel.models.browser.BrowserInfo\",\"id\":\"e3117586-dafe-4ded-8b27-42698ba6cac3\"},{\"type\":\"object\",\"name\":\"panel.models.comm_manager.CommManager\",\"id\":\"4ebd0106-abc0-41ba-b8ba-377d84cc573b\",\"attributes\":{\"plot_id\":\"e3117586-dafe-4ded-8b27-42698ba6cac3\",\"comm_id\":\"4c572fc6831748ff83e6c27b02cb083e\",\"client_comm_id\":\"f4ee95a7f74343a1a5e694d1535809c0\"}}],\"defs\":[{\"type\":\"model\",\"name\":\"ReactiveHTML1\"},{\"type\":\"model\",\"name\":\"FlexBox1\",\"properties\":[{\"name\":\"align_content\",\"kind\":\"Any\",\"default\":\"flex-start\"},{\"name\":\"align_items\",\"kind\":\"Any\",\"default\":\"flex-start\"},{\"name\":\"flex_direction\",\"kind\":\"Any\",\"default\":\"row\"},{\"name\":\"flex_wrap\",\"kind\":\"Any\",\"default\":\"wrap\"},{\"name\":\"gap\",\"kind\":\"Any\",\"default\":\"\"},{\"name\":\"justify_content\",\"kind\":\"Any\",\"default\":\"flex-start\"}]},{\"type\":\"model\",\"name\":\"FloatPanel1\",\"properties\":[{\"name\":\"config\",\"kind\":\"Any\",\"default\":{\"type\":\"map\"}},{\"name\":\"contained\",\"kind\":\"Any\",\"default\":true},{\"name\":\"position\",\"kind\":\"Any\",\"default\":\"right-top\"},{\"name\":\"offsetx\",\"kind\":\"Any\",\"default\":null},{\"name\":\"offsety\",\"kind\":\"Any\",\"default\":null},{\"name\":\"theme\",\"kind\":\"Any\",\"default\":\"primary\"},{\"name\":\"status\",\"kind\":\"Any\",\"default\":\"normalized\"}]},{\"type\":\"model\",\"name\":\"GridStack1\",\"properties\":[{\"name\":\"mode\",\"kind\":\"Any\",\"default\":\"warn\"},{\"name\":\"ncols\",\"kind\":\"Any\",\"default\":null},{\"name\":\"nrows\",\"kind\":\"Any\",\"default\":null},{\"name\":\"allow_resize\",\"kind\":\"Any\",\"default\":true},{\"name\":\"allow_drag\",\"kind\":\"Any\",\"default\":true},{\"name\":\"state\",\"kind\":\"Any\",\"default\":[]}]},{\"type\":\"model\",\"name\":\"drag1\",\"properties\":[{\"name\":\"slider_width\",\"kind\":\"Any\",\"default\":5},{\"name\":\"slider_color\",\"kind\":\"Any\",\"default\":\"black\"},{\"name\":\"value\",\"kind\":\"Any\",\"default\":50}]},{\"type\":\"model\",\"name\":\"click1\",\"properties\":[{\"name\":\"terminal_output\",\"kind\":\"Any\",\"default\":\"\"},{\"name\":\"debug_name\",\"kind\":\"Any\",\"default\":\"\"},{\"name\":\"clears\",\"kind\":\"Any\",\"default\":0}]},{\"type\":\"model\",\"name\":\"FastWrapper1\",\"properties\":[{\"name\":\"object\",\"kind\":\"Any\",\"default\":null},{\"name\":\"style\",\"kind\":\"Any\",\"default\":null}]},{\"type\":\"model\",\"name\":\"NotificationAreaBase1\",\"properties\":[{\"name\":\"js_events\",\"kind\":\"Any\",\"default\":{\"type\":\"map\"}},{\"name\":\"position\",\"kind\":\"Any\",\"default\":\"bottom-right\"},{\"name\":\"_clear\",\"kind\":\"Any\",\"default\":0}]},{\"type\":\"model\",\"name\":\"NotificationArea1\",\"properties\":[{\"name\":\"js_events\",\"kind\":\"Any\",\"default\":{\"type\":\"map\"}},{\"name\":\"notifications\",\"kind\":\"Any\",\"default\":[]},{\"name\":\"position\",\"kind\":\"Any\",\"default\":\"bottom-right\"},{\"name\":\"_clear\",\"kind\":\"Any\",\"default\":0},{\"name\":\"types\",\"kind\":\"Any\",\"default\":[{\"type\":\"map\",\"entries\":[[\"type\",\"warning\"],[\"background\",\"#ffc107\"],[\"icon\",{\"type\":\"map\",\"entries\":[[\"className\",\"fas fa-exclamation-triangle\"],[\"tagName\",\"i\"],[\"color\",\"white\"]]}]]},{\"type\":\"map\",\"entries\":[[\"type\",\"info\"],[\"background\",\"#007bff\"],[\"icon\",{\"type\":\"map\",\"entries\":[[\"className\",\"fas fa-info-circle\"],[\"tagName\",\"i\"],[\"color\",\"white\"]]}]]}]}]},{\"type\":\"model\",\"name\":\"Notification\",\"properties\":[{\"name\":\"background\",\"kind\":\"Any\",\"default\":null},{\"name\":\"duration\",\"kind\":\"Any\",\"default\":3000},{\"name\":\"icon\",\"kind\":\"Any\",\"default\":null},{\"name\":\"message\",\"kind\":\"Any\",\"default\":\"\"},{\"name\":\"notification_type\",\"kind\":\"Any\",\"default\":null},{\"name\":\"_destroyed\",\"kind\":\"Any\",\"default\":false}]},{\"type\":\"model\",\"name\":\"TemplateActions1\",\"properties\":[{\"name\":\"open_modal\",\"kind\":\"Any\",\"default\":0},{\"name\":\"close_modal\",\"kind\":\"Any\",\"default\":0}]},{\"type\":\"model\",\"name\":\"BootstrapTemplateActions1\",\"properties\":[{\"name\":\"open_modal\",\"kind\":\"Any\",\"default\":0},{\"name\":\"close_modal\",\"kind\":\"Any\",\"default\":0}]},{\"type\":\"model\",\"name\":\"TemplateEditor1\",\"properties\":[{\"name\":\"layout\",\"kind\":\"Any\",\"default\":[]}]},{\"type\":\"model\",\"name\":\"MaterialTemplateActions1\",\"properties\":[{\"name\":\"open_modal\",\"kind\":\"Any\",\"default\":0},{\"name\":\"close_modal\",\"kind\":\"Any\",\"default\":0}]},{\"type\":\"model\",\"name\":\"copy_to_clipboard1\",\"properties\":[{\"name\":\"fill\",\"kind\":\"Any\",\"default\":\"none\"},{\"name\":\"value\",\"kind\":\"Any\",\"default\":null}]}]}};\n",
       "  var render_items = [{\"docid\":\"3e7b1a44-6aa7-4236-9b45-9fc296e93bc7\",\"roots\":{\"e3117586-dafe-4ded-8b27-42698ba6cac3\":\"e67cc472-5cb1-403f-a111-44b70a875e58\"},\"root_ids\":[\"e3117586-dafe-4ded-8b27-42698ba6cac3\"]}];\n",
       "  var docs = Object.values(docs_json)\n",
       "  if (!docs) {\n",
       "    return\n",
       "  }\n",
       "  const py_version = docs[0].version.replace('rc', '-rc.').replace('.dev', '-dev.')\n",
       "  function embed_document(root) {\n",
       "    var Bokeh = get_bokeh(root)\n",
       "    Bokeh.embed.embed_items_notebook(docs_json, render_items);\n",
       "    for (const render_item of render_items) {\n",
       "      for (const root_id of render_item.root_ids) {\n",
       "\tconst id_el = document.getElementById(root_id)\n",
       "\tif (id_el.children.length && (id_el.children[0].className === 'bk-root')) {\n",
       "\t  const root_el = id_el.children[0]\n",
       "\t  root_el.id = root_el.id + '-rendered'\n",
       "\t}\n",
       "      }\n",
       "    }\n",
       "  }\n",
       "  function get_bokeh(root) {\n",
       "    if (root.Bokeh === undefined) {\n",
       "      return null\n",
       "    } else if (root.Bokeh.version !== py_version) {\n",
       "      if (root.Bokeh.versions === undefined || !root.Bokeh.versions.has(py_version)) {\n",
       "\treturn null\n",
       "      }\n",
       "      return root.Bokeh.versions.get(py_version);\n",
       "    } else if (root.Bokeh.version === py_version) {\n",
       "      return root.Bokeh\n",
       "    }\n",
       "    return null\n",
       "  }\n",
       "  function is_loaded(root) {\n",
       "    var Bokeh = get_bokeh(root)\n",
       "    return (Bokeh != null && Bokeh.Panel !== undefined && ( root.Plotly !== undefined) && ( root.Plotly !== undefined))\n",
       "  }\n",
       "  if (is_loaded(root)) {\n",
       "    embed_document(root);\n",
       "  } else {\n",
       "    var attempts = 0;\n",
       "    var timer = setInterval(function(root) {\n",
       "      if (is_loaded(root)) {\n",
       "        clearInterval(timer);\n",
       "        embed_document(root);\n",
       "      } else if (document.readyState == \"complete\") {\n",
       "        attempts++;\n",
       "        if (attempts > 200) {\n",
       "          clearInterval(timer);\n",
       "\t  var Bokeh = get_bokeh(root)\n",
       "\t  if (Bokeh == null || Bokeh.Panel == null) {\n",
       "            console.warn(\"Panel: ERROR: Unable to run Panel code because Bokeh or Panel library is missing\");\n",
       "\t  } else {\n",
       "\t    console.warn(\"Panel: WARNING: Attempting to render but not all required libraries could be resolved.\")\n",
       "\t    embed_document(root)\n",
       "\t  }\n",
       "        }\n",
       "      }\n",
       "    }, 25, root)\n",
       "  }\n",
       "})(window);</script>"
      ]
     },
     "metadata": {
      "application/vnd.holoviews_exec.v0+json": {
       "id": "e3117586-dafe-4ded-8b27-42698ba6cac3"
      }
     },
     "output_type": "display_data"
    }
   ],
   "source": [
    "# Histogram count breakdown\n",
    "slot_chance_bar_chart = slot_count_breakdown_df.plot.barh(\n",
    "    ylabel=\"number of txs\",\n",
    "    title=\"Slot Inclusion Breakdown\",\n",
    "    stacked=True,\n",
    "    width=1000,\n",
    "    height=400,\n",
    ")"
   ]
  },
  {
   "cell_type": "markdown",
   "metadata": {},
   "source": [
    "### Slot Inclusion Time Charts"
   ]
  },
  {
   "cell_type": "code",
   "execution_count": 6,
   "metadata": {},
   "outputs": [
    {
     "data": {
      "text/plain": [
       "['versioned_hash',\n",
       " 'nonce',\n",
       " 'event_date_time_min',\n",
       " 'event_date_time_max',\n",
       " 'blob_hashes_length',\n",
       " 'blob_sidecars_size',\n",
       " 'fill_percentage',\n",
       " 'blob_gas',\n",
       " 'blob_gas_fee_cap',\n",
       " 'gas_price',\n",
       " 'gas_tip_cap',\n",
       " 'gas_fee_cap',\n",
       " 'hash',\n",
       " 'from',\n",
       " 'to',\n",
       " 'submission_count',\n",
       " 'slot',\n",
       " 'slot_time',\n",
       " 'block_root',\n",
       " 'kzg_commitment',\n",
       " 'meta_network_name',\n",
       " 'blob_size',\n",
       " 'blob_empty_size',\n",
       " 'beacon_inclusion_time',\n",
       " 'slot_inclusion_rate',\n",
       " 'slot_inclusion_rate_50_blob_avg',\n",
       " '2_slot_target_inclusion_rate']"
      ]
     },
     "execution_count": 6,
     "metadata": {},
     "output_type": "execute_result"
    }
   ],
   "source": [
    "slot_inclusion_df.columns"
   ]
  },
  {
   "cell_type": "code",
   "execution_count": 7,
   "metadata": {},
   "outputs": [],
   "source": [
    "slot_inclusion_line_chart = slot_inclusion_df.select(\n",
    "    \"slot_time\",\n",
    "    \"slot_inclusion_rate\",\n",
    "    \"slot_inclusion_rate_50_blob_avg\",\n",
    "    \"2_slot_target_inclusion_rate\",\n",
    "    \"submission_count\",\n",
    ").plot.line(\n",
    "    x=\"slot_time\",\n",
    "    y=[\n",
    "        \"slot_inclusion_rate\",\n",
    "        \"slot_inclusion_rate_50_blob_avg\",\n",
    "        \"2_slot_target_inclusion_rate\",\n",
    "    ],\n",
    "    color=[\"blue\", \"red\", \"black\"],\n",
    "    ylabel=\"Beacon Block Inclusion (block)\",\n",
    "    xlabel=\"Slot Date Time\",\n",
    "    title=\"Historical Slot Inclusion\",\n",
    "    width=1000,\n",
    "    height=400,\n",
    "    shared_axes=True,\n",
    ")"
   ]
  },
  {
   "cell_type": "markdown",
   "metadata": {},
   "source": [
    "### Priority Fee and Faster Slot Inclusion"
   ]
  },
  {
   "cell_type": "code",
   "execution_count": 8,
   "metadata": {},
   "outputs": [],
   "source": [
    "# priority fee scatter plot\n",
    "priority_fee_premium_chart = slot_gas_bidding_df.sort(\n",
    "    by=\"slot_inclusion_rate\"\n",
    ").plot.scatter(\n",
    "    x=\"slot_inclusion_rate\",\n",
    "    y=\"priority_fee_bid_percent_premium\",\n",
    "    width=1000,\n",
    "    height=400,\n",
    ")\n",
    "\n",
    "line_chart_bid_premium = slot_gas_groupby_df.rename(\n",
    "    {\n",
    "        \"priority_fee_bid_percent_premium\": \"priority fee bid premium (%)\",\n",
    "        \"effective_gas_price_gwei\": \"block gas price (gwei)\",\n",
    "    }\n",
    ").plot.line(\n",
    "    x=\"slot_inclusion_rate\",\n",
    "    y=[\"priority fee bid premium (%)\"],\n",
    "    color=[\"g\"],\n",
    "    ylabel=\"bid bid premium (%, gwei)\",\n",
    "    xlabel=\"slot inclusion rate\",\n",
    "    title=\"priority fee bid premium effect on slot inclusion rate\",\n",
    ")\n",
    "\n",
    "# ! 4/14/24 Not being used\n",
    "# line_chart_gas= (\n",
    "#     slot_gas_bidding_df.group_by(\"slot_inclusion_rate\")\n",
    "#     .agg(\n",
    "#         pl.col(\"priority_fee_bid_percent_premium\").median(),\n",
    "#         pl.col(\"effective_gas_price_gwei\").mean(),\n",
    "#     )\n",
    "#     .sort(by=\"slot_inclusion_rate\")\n",
    "#     .drop_nulls()\n",
    "#     .rename(\n",
    "#         {\n",
    "#             \"priority_fee_bid_percent_premium\": \"priority fee bid premium (%)\",\n",
    "#             \"effective_gas_price_gwei\": \"block gas price (gwei)\",\n",
    "#         }\n",
    "#     )\n",
    "#     .plot.line(\n",
    "#         x=\"slot_inclusion_rate\",\n",
    "#         y=[\"block gas price (gwei)\"],\n",
    "#         color=[\"r\"],\n",
    "#         ylabel=\"bid premium (%, gwei)\",\n",
    "#         title=\"gas bid premium probability distributions\",\n",
    "#     )\n",
    "# )"
   ]
  },
  {
   "cell_type": "code",
   "execution_count": 9,
   "metadata": {},
   "outputs": [
    {
     "data": {},
     "metadata": {},
     "output_type": "display_data"
    },
    {
     "data": {
      "application/vnd.holoviews_exec.v0+json": "",
      "text/html": [
       "<div id='a6bd25cd-b2c5-411a-943a-92f3488a55d3'>\n",
       "  <div id=\"fa6aa808-8aea-41ec-bc86-b75b6f668246\" data-root-id=\"a6bd25cd-b2c5-411a-943a-92f3488a55d3\" style=\"display: contents;\"></div>\n",
       "</div>\n",
       "<script type=\"application/javascript\">(function(root) {\n",
       "  var docs_json = {\"37e71097-f3d3-4f16-8a24-cd25e0b5a819\":{\"version\":\"3.4.1\",\"title\":\"Bokeh Application\",\"roots\":[{\"type\":\"object\",\"name\":\"Row\",\"id\":\"a6bd25cd-b2c5-411a-943a-92f3488a55d3\",\"attributes\":{\"name\":\"Row01237\",\"tags\":[\"embedded\"],\"stylesheets\":[\"\\n:host(.pn-loading):before, .pn-loading:before {\\n  background-color: #c3c3c3;\\n  mask-size: auto calc(min(50%, 400px));\\n  -webkit-mask-size: auto calc(min(50%, 400px));\\n}\",{\"type\":\"object\",\"name\":\"ImportedStyleSheet\",\"id\":\"844c0910-b192-4dfa-bcbb-d23cb3a18fb0\",\"attributes\":{\"url\":\"https://cdn.holoviz.org/panel/1.4.1/dist/css/loading.css\"}},{\"type\":\"object\",\"name\":\"ImportedStyleSheet\",\"id\":\"57caf723-d88f-4825-80b5-a1e05fab689f\",\"attributes\":{\"url\":\"https://cdn.holoviz.org/panel/1.4.1/dist/css/listpanel.css\"}},{\"type\":\"object\",\"name\":\"ImportedStyleSheet\",\"id\":\"4c3f574b-1d65-4fe6-ac61-94d52d715e15\",\"attributes\":{\"url\":\"https://cdn.holoviz.org/panel/1.4.1/dist/bundled/theme/default.css\"}},{\"type\":\"object\",\"name\":\"ImportedStyleSheet\",\"id\":\"f793906c-8056-4506-a46a-a790787a103e\",\"attributes\":{\"url\":\"https://cdn.holoviz.org/panel/1.4.1/dist/bundled/theme/native.css\"}}],\"min_width\":1000,\"margin\":0,\"sizing_mode\":\"stretch_width\",\"align\":\"start\",\"children\":[{\"type\":\"object\",\"name\":\"Spacer\",\"id\":\"ada97669-89d2-447c-a623-3425b94d4ea9\",\"attributes\":{\"name\":\"HSpacer01243\",\"stylesheets\":[\"\\n:host(.pn-loading):before, .pn-loading:before {\\n  background-color: #c3c3c3;\\n  mask-size: auto calc(min(50%, 400px));\\n  -webkit-mask-size: auto calc(min(50%, 400px));\\n}\",{\"id\":\"844c0910-b192-4dfa-bcbb-d23cb3a18fb0\"},{\"id\":\"4c3f574b-1d65-4fe6-ac61-94d52d715e15\"},{\"id\":\"f793906c-8056-4506-a46a-a790787a103e\"}],\"margin\":0,\"sizing_mode\":\"stretch_width\",\"align\":\"start\"}},{\"type\":\"object\",\"name\":\"Figure\",\"id\":\"a90572c0-747e-4651-8f87-27e04d5c9867\",\"attributes\":{\"width\":1000,\"height\":400,\"margin\":[5,10],\"sizing_mode\":\"fixed\",\"align\":\"start\",\"x_range\":{\"type\":\"object\",\"name\":\"Range1d\",\"id\":\"24f5a4c6-6ed9-425a-bffd-fcc28485d664\",\"attributes\":{\"tags\":[[[\"slot_inclusion_rate\",\"slot_inclusion_rate\",null]],[]],\"start\":0.28,\"end\":19.72,\"reset_start\":0.28,\"reset_end\":19.72}},\"y_range\":{\"type\":\"object\",\"name\":\"Range1d\",\"id\":\"4611c215-8897-42fe-b410-a9bae2a3c982\",\"attributes\":{\"tags\":[[[\"priority_fee_bid_percent_premium\",\"priority_fee_bid_percent_premium\",null]],{\"type\":\"map\",\"entries\":[[\"invert_yaxis\",false],[\"autorange\",false]]}],\"start\":-2.7357000000000005,\"end\":34.4247,\"reset_start\":-2.7357000000000005,\"reset_end\":34.4247}},\"x_scale\":{\"type\":\"object\",\"name\":\"LinearScale\",\"id\":\"852e7aae-1489-49db-91a8-8ec140fdec27\"},\"y_scale\":{\"type\":\"object\",\"name\":\"LinearScale\",\"id\":\"9d51c14a-7645-47e1-95e1-ea79ee8f3c43\"},\"title\":{\"type\":\"object\",\"name\":\"Title\",\"id\":\"7ed127b2-642d-484f-885b-de53b45b7d30\",\"attributes\":{\"text\":\"priority fee bid premium effect on slot inclusion rate\",\"text_color\":\"black\",\"text_font_size\":\"12pt\"}},\"renderers\":[{\"type\":\"object\",\"name\":\"GlyphRenderer\",\"id\":\"da050f03-7cf1-483c-8aef-6baf8f00ae7f\",\"attributes\":{\"data_source\":{\"type\":\"object\",\"name\":\"ColumnDataSource\",\"id\":\"007f0e7c-d3fa-4e95-94f5-d251b654b648\",\"attributes\":{\"selected\":{\"type\":\"object\",\"name\":\"Selection\",\"id\":\"b0bd31c0-f2bb-4d82-b81c-11f057ab3527\",\"attributes\":{\"indices\":[],\"line_indices\":[]}},\"selection_policy\":{\"type\":\"object\",\"name\":\"UnionRenderers\",\"id\":\"f7ce482b-848f-44aa-9307-8ffdeab9f9f5\"},\"data\":{\"type\":\"map\",\"entries\":[[\"slot_inclusion_rate\",{\"type\":\"ndarray\",\"array\":{\"type\":\"bytes\",\"data\":\"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\"},\"shape\":[1882],\"dtype\":\"float64\",\"order\":\"little\"}],[\"priority_fee_bid_percent_premium\",{\"type\":\"ndarray\",\"array\":{\"type\":\"bytes\",\"data\":\"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\"},\"shape\":[1882],\"dtype\":\"float64\",\"order\":\"little\"}]]}}},\"view\":{\"type\":\"object\",\"name\":\"CDSView\",\"id\":\"18ec8112-c2fa-4ba9-a1ca-748a1a5708c4\",\"attributes\":{\"filter\":{\"type\":\"object\",\"name\":\"AllIndices\",\"id\":\"f96aa385-da9b-459d-a805-5b6df0a8a27e\"}}},\"glyph\":{\"type\":\"object\",\"name\":\"Scatter\",\"id\":\"b08a619c-f4ac-433f-86b7-227b082864e9\",\"attributes\":{\"tags\":[\"apply_ranges\"],\"x\":{\"type\":\"field\",\"field\":\"slot_inclusion_rate\"},\"y\":{\"type\":\"field\",\"field\":\"priority_fee_bid_percent_premium\"},\"size\":{\"type\":\"value\",\"value\":5.477225575051661},\"line_color\":{\"type\":\"value\",\"value\":\"#30a2da\"},\"fill_color\":{\"type\":\"value\",\"value\":\"#30a2da\"},\"hatch_color\":{\"type\":\"value\",\"value\":\"#30a2da\"}}},\"selection_glyph\":{\"type\":\"object\",\"name\":\"Scatter\",\"id\":\"9903d133-202a-4b00-9eb8-1c068c070dc0\",\"attributes\":{\"tags\":[\"apply_ranges\"],\"x\":{\"type\":\"field\",\"field\":\"slot_inclusion_rate\"},\"y\":{\"type\":\"field\",\"field\":\"priority_fee_bid_percent_premium\"},\"size\":{\"type\":\"value\",\"value\":5.477225575051661},\"angle\":{\"type\":\"value\",\"value\":0.0},\"line_color\":{\"type\":\"value\",\"value\":\"#30a2da\"},\"line_alpha\":{\"type\":\"value\",\"value\":1.0},\"line_width\":{\"type\":\"value\",\"value\":1},\"line_join\":{\"type\":\"value\",\"value\":\"bevel\"},\"line_cap\":{\"type\":\"value\",\"value\":\"butt\"},\"line_dash\":{\"type\":\"value\",\"value\":[]},\"line_dash_offset\":{\"type\":\"value\",\"value\":0},\"fill_color\":{\"type\":\"value\",\"value\":\"#30a2da\"},\"fill_alpha\":{\"type\":\"value\",\"value\":1.0},\"hatch_color\":{\"type\":\"value\",\"value\":\"#30a2da\"},\"hatch_alpha\":{\"type\":\"value\",\"value\":1.0},\"hatch_scale\":{\"type\":\"value\",\"value\":12.0},\"hatch_pattern\":{\"type\":\"value\",\"value\":null},\"hatch_weight\":{\"type\":\"value\",\"value\":1.0},\"marker\":{\"type\":\"value\",\"value\":\"circle\"}}},\"nonselection_glyph\":{\"type\":\"object\",\"name\":\"Scatter\",\"id\":\"93a951b9-0ebc-492f-b0e3-7a6fb50b200f\",\"attributes\":{\"tags\":[\"apply_ranges\"],\"x\":{\"type\":\"field\",\"field\":\"slot_inclusion_rate\"},\"y\":{\"type\":\"field\",\"field\":\"priority_fee_bid_percent_premium\"},\"size\":{\"type\":\"value\",\"value\":5.477225575051661},\"line_color\":{\"type\":\"value\",\"value\":\"#30a2da\"},\"line_alpha\":{\"type\":\"value\",\"value\":0.1},\"fill_color\":{\"type\":\"value\",\"value\":\"#30a2da\"},\"fill_alpha\":{\"type\":\"value\",\"value\":0.1},\"hatch_color\":{\"type\":\"value\",\"value\":\"#30a2da\"},\"hatch_alpha\":{\"type\":\"value\",\"value\":0.1}}},\"muted_glyph\":{\"type\":\"object\",\"name\":\"Scatter\",\"id\":\"9f2d3b42-90a7-42d7-b4a4-23f313a05c27\",\"attributes\":{\"tags\":[\"apply_ranges\"],\"x\":{\"type\":\"field\",\"field\":\"slot_inclusion_rate\"},\"y\":{\"type\":\"field\",\"field\":\"priority_fee_bid_percent_premium\"},\"size\":{\"type\":\"value\",\"value\":5.477225575051661},\"line_color\":{\"type\":\"value\",\"value\":\"#30a2da\"},\"line_alpha\":{\"type\":\"value\",\"value\":0.2},\"fill_color\":{\"type\":\"value\",\"value\":\"#30a2da\"},\"fill_alpha\":{\"type\":\"value\",\"value\":0.2},\"hatch_color\":{\"type\":\"value\",\"value\":\"#30a2da\"},\"hatch_alpha\":{\"type\":\"value\",\"value\":0.2}}}}},{\"type\":\"object\",\"name\":\"GlyphRenderer\",\"id\":\"8a806c81-322f-4a1e-8434-cb2b0b44a52c\",\"attributes\":{\"data_source\":{\"type\":\"object\",\"name\":\"ColumnDataSource\",\"id\":\"c89f0c42-2392-4cbf-9d5b-9e941a0c4ff4\",\"attributes\":{\"selected\":{\"type\":\"object\",\"name\":\"Selection\",\"id\":\"8432316a-e7bc-4409-887c-d2c133aa602a\",\"attributes\":{\"indices\":[],\"line_indices\":[]}},\"selection_policy\":{\"type\":\"object\",\"name\":\"UnionRenderers\",\"id\":\"e6399876-a2b2-4ed2-9872-ad77aa040817\"},\"data\":{\"type\":\"map\",\"entries\":[[\"slot_inclusion_rate\",{\"type\":\"ndarray\",\"array\":{\"type\":\"bytes\",\"data\":\"AAAAAAAA8D8AAAAAAAAAQAAAAAAAAAhAAAAAAAAAEEAAAAAAAAAUQAAAAAAAABhAAAAAAAAAHEAAAAAAAAAgQAAAAAAAACJAAAAAAAAAJEAAAAAAAAAmQAAAAAAAAChAAAAAAAAAKkAAAAAAAAAsQAAAAAAAAC5AAAAAAAAAMEAAAAAAAAAyQAAAAAAAADNA\"},\"shape\":[18],\"dtype\":\"float64\",\"order\":\"little\"}],[\"priority fee bid premium (%)\",{\"type\":\"ndarray\",\"array\":{\"type\":\"bytes\",\"data\":\"I9v5fmo8K0CR7Xw/NR4rQO58PzVe2itAN4lBYOUQLEAtsp3vp4YqQLgehetReCpAhetRuB7FKUCoxks3iQErQNrO91PjhShAiUFg5dDiJECyne+nxks3QOF6FK5HATBAPQrXo3A9NkDn+6nx0g0oQIXrUbge5TxAukkMAiuHOEBuEoPAynE4QDvfT42XbvA/\"},\"shape\":[18],\"dtype\":\"float64\",\"order\":\"little\"}],[\"priority_fee_bid_premium_left_parenthesis_percent_right_parenthesis\",{\"type\":\"ndarray\",\"array\":{\"type\":\"bytes\",\"data\":\"I9v5fmo8K0CR7Xw/NR4rQO58PzVe2itAN4lBYOUQLEAtsp3vp4YqQLgehetReCpAhetRuB7FKUCoxks3iQErQNrO91PjhShAiUFg5dDiJECyne+nxks3QOF6FK5HATBAPQrXo3A9NkDn+6nx0g0oQIXrUbge5TxAukkMAiuHOEBuEoPAynE4QDvfT42XbvA/\"},\"shape\":[18],\"dtype\":\"float64\",\"order\":\"little\"}]]}}},\"view\":{\"type\":\"object\",\"name\":\"CDSView\",\"id\":\"b6114d88-9a07-40a2-8823-f85e42544374\",\"attributes\":{\"filter\":{\"type\":\"object\",\"name\":\"AllIndices\",\"id\":\"58f30b4b-6493-4dca-bf3b-c165d602519a\"}}},\"glyph\":{\"type\":\"object\",\"name\":\"Line\",\"id\":\"b3a7c3f5-2e6a-4dc2-93d0-303650fbcb24\",\"attributes\":{\"tags\":[\"apply_ranges\"],\"x\":{\"type\":\"field\",\"field\":\"slot_inclusion_rate\"},\"y\":{\"type\":\"field\",\"field\":\"priority fee bid premium (%)\"},\"line_color\":\"#007f00\",\"line_width\":2}},\"selection_glyph\":{\"type\":\"object\",\"name\":\"Line\",\"id\":\"958a9ebc-d9dc-42d1-a9cc-076f87e4d405\",\"attributes\":{\"tags\":[\"apply_ranges\"],\"x\":{\"type\":\"field\",\"field\":\"slot_inclusion_rate\"},\"y\":{\"type\":\"field\",\"field\":\"priority fee bid premium (%)\"},\"line_color\":\"#007f00\",\"line_width\":2}},\"nonselection_glyph\":{\"type\":\"object\",\"name\":\"Line\",\"id\":\"ef675815-9bb9-4323-b8f6-422617450c3b\",\"attributes\":{\"tags\":[\"apply_ranges\"],\"x\":{\"type\":\"field\",\"field\":\"slot_inclusion_rate\"},\"y\":{\"type\":\"field\",\"field\":\"priority fee bid premium (%)\"},\"line_color\":\"#007f00\",\"line_alpha\":0.1,\"line_width\":2}},\"muted_glyph\":{\"type\":\"object\",\"name\":\"Line\",\"id\":\"5a871684-9b30-41cd-a786-3d00029c5b59\",\"attributes\":{\"tags\":[\"apply_ranges\"],\"x\":{\"type\":\"field\",\"field\":\"slot_inclusion_rate\"},\"y\":{\"type\":\"field\",\"field\":\"priority fee bid premium (%)\"},\"line_color\":\"#007f00\",\"line_alpha\":0.2,\"line_width\":2}}}}],\"toolbar\":{\"type\":\"object\",\"name\":\"Toolbar\",\"id\":\"db38617c-4b93-4e7d-a686-d25a132948bd\",\"attributes\":{\"tools\":[{\"type\":\"object\",\"name\":\"WheelZoomTool\",\"id\":\"428ae0c0-3c5a-4474-8c24-fdbb1acee781\",\"attributes\":{\"tags\":[\"hv_created\"],\"renderers\":\"auto\",\"zoom_together\":\"none\"}},{\"type\":\"object\",\"name\":\"HoverTool\",\"id\":\"c8a0eb34-ca58-47a2-af61-0e0406ef4f56\",\"attributes\":{\"tags\":[\"hv_created\"],\"renderers\":[{\"id\":\"da050f03-7cf1-483c-8aef-6baf8f00ae7f\"}],\"tooltips\":[[\"slot_inclusion_rate\",\"@{slot_inclusion_rate}\"],[\"priority_fee_bid_percent_premium\",\"@{priority_fee_bid_percent_premium}\"]]}},{\"type\":\"object\",\"name\":\"HoverTool\",\"id\":\"e2fc9744-7947-43b3-a99f-0181be8ecbf0\",\"attributes\":{\"tags\":[\"hv_created\"],\"renderers\":[{\"id\":\"8a806c81-322f-4a1e-8434-cb2b0b44a52c\"}],\"tooltips\":[[\"slot_inclusion_rate\",\"@{slot_inclusion_rate}\"],[\"priority fee bid premium (%)\",\"@{priority_fee_bid_premium_left_parenthesis_percent_right_parenthesis}\"]]}},{\"type\":\"object\",\"name\":\"SaveTool\",\"id\":\"940af332-6101-4d09-8c7e-5736937fb65d\"},{\"type\":\"object\",\"name\":\"PanTool\",\"id\":\"4da6780d-6a63-4fa8-ba9c-b405d067fc67\"},{\"type\":\"object\",\"name\":\"BoxZoomTool\",\"id\":\"cf539d5b-2e6d-421d-99e8-cb03228bd21f\",\"attributes\":{\"overlay\":{\"type\":\"object\",\"name\":\"BoxAnnotation\",\"id\":\"91b9983f-0183-404f-814a-b25e48841714\",\"attributes\":{\"syncable\":false,\"level\":\"overlay\",\"visible\":false,\"left\":{\"type\":\"number\",\"value\":\"nan\"},\"right\":{\"type\":\"number\",\"value\":\"nan\"},\"top\":{\"type\":\"number\",\"value\":\"nan\"},\"bottom\":{\"type\":\"number\",\"value\":\"nan\"},\"left_units\":\"canvas\",\"right_units\":\"canvas\",\"top_units\":\"canvas\",\"bottom_units\":\"canvas\",\"line_color\":\"black\",\"line_alpha\":1.0,\"line_width\":2,\"line_dash\":[4,4],\"fill_color\":\"lightgrey\",\"fill_alpha\":0.5}}}},{\"type\":\"object\",\"name\":\"ResetTool\",\"id\":\"81b04e93-02f0-454c-ae77-bbdbdae3476e\"}],\"active_drag\":{\"id\":\"4da6780d-6a63-4fa8-ba9c-b405d067fc67\"},\"active_scroll\":{\"id\":\"428ae0c0-3c5a-4474-8c24-fdbb1acee781\"}}},\"left\":[{\"type\":\"object\",\"name\":\"LinearAxis\",\"id\":\"ba96fa6b-909e-4a90-9091-d526243c6857\",\"attributes\":{\"ticker\":{\"type\":\"object\",\"name\":\"BasicTicker\",\"id\":\"f5db844f-30b8-42b9-adbc-9a93869a996b\",\"attributes\":{\"mantissas\":[1,2,5]}},\"formatter\":{\"type\":\"object\",\"name\":\"BasicTickFormatter\",\"id\":\"4222244e-17ed-4bd3-bfca-0048f8937a21\"},\"axis_label\":\"bid bid premium (%, gwei)\",\"major_label_policy\":{\"type\":\"object\",\"name\":\"AllLabels\",\"id\":\"d8e137fb-494c-4364-9445-35553f82b35e\"}}}],\"below\":[{\"type\":\"object\",\"name\":\"LinearAxis\",\"id\":\"7699d7fa-3683-4293-bfe9-c64280f5751e\",\"attributes\":{\"ticker\":{\"type\":\"object\",\"name\":\"BasicTicker\",\"id\":\"7b47bf8e-b4e9-4e93-aa42-880fb5371712\",\"attributes\":{\"mantissas\":[1,2,5]}},\"formatter\":{\"type\":\"object\",\"name\":\"BasicTickFormatter\",\"id\":\"8f23024d-a822-455f-9f4a-1001aa90909f\"},\"axis_label\":\"slot inclusion rate\",\"major_label_policy\":{\"type\":\"object\",\"name\":\"AllLabels\",\"id\":\"003c4798-9161-4232-88f6-1121101f1e3a\"}}}],\"center\":[{\"type\":\"object\",\"name\":\"Grid\",\"id\":\"015ddfc1-4887-4321-b8b7-99474f011083\",\"attributes\":{\"axis\":{\"id\":\"7699d7fa-3683-4293-bfe9-c64280f5751e\"},\"grid_line_color\":null}},{\"type\":\"object\",\"name\":\"Grid\",\"id\":\"d9bbe8eb-562e-4334-8176-12bf7783624a\",\"attributes\":{\"dimension\":1,\"axis\":{\"id\":\"ba96fa6b-909e-4a90-9091-d526243c6857\"},\"grid_line_color\":null}}],\"min_border_top\":10,\"min_border_bottom\":10,\"min_border_left\":10,\"min_border_right\":10,\"output_backend\":\"webgl\"}},{\"type\":\"object\",\"name\":\"Spacer\",\"id\":\"bbad8959-c11b-4252-99d8-a3e0c818a948\",\"attributes\":{\"name\":\"HSpacer01244\",\"stylesheets\":[\"\\n:host(.pn-loading):before, .pn-loading:before {\\n  background-color: #c3c3c3;\\n  mask-size: auto calc(min(50%, 400px));\\n  -webkit-mask-size: auto calc(min(50%, 400px));\\n}\",{\"id\":\"844c0910-b192-4dfa-bcbb-d23cb3a18fb0\"},{\"id\":\"4c3f574b-1d65-4fe6-ac61-94d52d715e15\"},{\"id\":\"f793906c-8056-4506-a46a-a790787a103e\"}],\"margin\":0,\"sizing_mode\":\"stretch_width\",\"align\":\"start\"}}]}}],\"defs\":[{\"type\":\"model\",\"name\":\"ReactiveHTML1\"},{\"type\":\"model\",\"name\":\"FlexBox1\",\"properties\":[{\"name\":\"align_content\",\"kind\":\"Any\",\"default\":\"flex-start\"},{\"name\":\"align_items\",\"kind\":\"Any\",\"default\":\"flex-start\"},{\"name\":\"flex_direction\",\"kind\":\"Any\",\"default\":\"row\"},{\"name\":\"flex_wrap\",\"kind\":\"Any\",\"default\":\"wrap\"},{\"name\":\"gap\",\"kind\":\"Any\",\"default\":\"\"},{\"name\":\"justify_content\",\"kind\":\"Any\",\"default\":\"flex-start\"}]},{\"type\":\"model\",\"name\":\"FloatPanel1\",\"properties\":[{\"name\":\"config\",\"kind\":\"Any\",\"default\":{\"type\":\"map\"}},{\"name\":\"contained\",\"kind\":\"Any\",\"default\":true},{\"name\":\"position\",\"kind\":\"Any\",\"default\":\"right-top\"},{\"name\":\"offsetx\",\"kind\":\"Any\",\"default\":null},{\"name\":\"offsety\",\"kind\":\"Any\",\"default\":null},{\"name\":\"theme\",\"kind\":\"Any\",\"default\":\"primary\"},{\"name\":\"status\",\"kind\":\"Any\",\"default\":\"normalized\"}]},{\"type\":\"model\",\"name\":\"GridStack1\",\"properties\":[{\"name\":\"mode\",\"kind\":\"Any\",\"default\":\"warn\"},{\"name\":\"ncols\",\"kind\":\"Any\",\"default\":null},{\"name\":\"nrows\",\"kind\":\"Any\",\"default\":null},{\"name\":\"allow_resize\",\"kind\":\"Any\",\"default\":true},{\"name\":\"allow_drag\",\"kind\":\"Any\",\"default\":true},{\"name\":\"state\",\"kind\":\"Any\",\"default\":[]}]},{\"type\":\"model\",\"name\":\"drag1\",\"properties\":[{\"name\":\"slider_width\",\"kind\":\"Any\",\"default\":5},{\"name\":\"slider_color\",\"kind\":\"Any\",\"default\":\"black\"},{\"name\":\"value\",\"kind\":\"Any\",\"default\":50}]},{\"type\":\"model\",\"name\":\"click1\",\"properties\":[{\"name\":\"terminal_output\",\"kind\":\"Any\",\"default\":\"\"},{\"name\":\"debug_name\",\"kind\":\"Any\",\"default\":\"\"},{\"name\":\"clears\",\"kind\":\"Any\",\"default\":0}]},{\"type\":\"model\",\"name\":\"FastWrapper1\",\"properties\":[{\"name\":\"object\",\"kind\":\"Any\",\"default\":null},{\"name\":\"style\",\"kind\":\"Any\",\"default\":null}]},{\"type\":\"model\",\"name\":\"NotificationAreaBase1\",\"properties\":[{\"name\":\"js_events\",\"kind\":\"Any\",\"default\":{\"type\":\"map\"}},{\"name\":\"position\",\"kind\":\"Any\",\"default\":\"bottom-right\"},{\"name\":\"_clear\",\"kind\":\"Any\",\"default\":0}]},{\"type\":\"model\",\"name\":\"NotificationArea1\",\"properties\":[{\"name\":\"js_events\",\"kind\":\"Any\",\"default\":{\"type\":\"map\"}},{\"name\":\"notifications\",\"kind\":\"Any\",\"default\":[]},{\"name\":\"position\",\"kind\":\"Any\",\"default\":\"bottom-right\"},{\"name\":\"_clear\",\"kind\":\"Any\",\"default\":0},{\"name\":\"types\",\"kind\":\"Any\",\"default\":[{\"type\":\"map\",\"entries\":[[\"type\",\"warning\"],[\"background\",\"#ffc107\"],[\"icon\",{\"type\":\"map\",\"entries\":[[\"className\",\"fas fa-exclamation-triangle\"],[\"tagName\",\"i\"],[\"color\",\"white\"]]}]]},{\"type\":\"map\",\"entries\":[[\"type\",\"info\"],[\"background\",\"#007bff\"],[\"icon\",{\"type\":\"map\",\"entries\":[[\"className\",\"fas fa-info-circle\"],[\"tagName\",\"i\"],[\"color\",\"white\"]]}]]}]}]},{\"type\":\"model\",\"name\":\"Notification\",\"properties\":[{\"name\":\"background\",\"kind\":\"Any\",\"default\":null},{\"name\":\"duration\",\"kind\":\"Any\",\"default\":3000},{\"name\":\"icon\",\"kind\":\"Any\",\"default\":null},{\"name\":\"message\",\"kind\":\"Any\",\"default\":\"\"},{\"name\":\"notification_type\",\"kind\":\"Any\",\"default\":null},{\"name\":\"_destroyed\",\"kind\":\"Any\",\"default\":false}]},{\"type\":\"model\",\"name\":\"TemplateActions1\",\"properties\":[{\"name\":\"open_modal\",\"kind\":\"Any\",\"default\":0},{\"name\":\"close_modal\",\"kind\":\"Any\",\"default\":0}]},{\"type\":\"model\",\"name\":\"BootstrapTemplateActions1\",\"properties\":[{\"name\":\"open_modal\",\"kind\":\"Any\",\"default\":0},{\"name\":\"close_modal\",\"kind\":\"Any\",\"default\":0}]},{\"type\":\"model\",\"name\":\"TemplateEditor1\",\"properties\":[{\"name\":\"layout\",\"kind\":\"Any\",\"default\":[]}]},{\"type\":\"model\",\"name\":\"MaterialTemplateActions1\",\"properties\":[{\"name\":\"open_modal\",\"kind\":\"Any\",\"default\":0},{\"name\":\"close_modal\",\"kind\":\"Any\",\"default\":0}]},{\"type\":\"model\",\"name\":\"copy_to_clipboard1\",\"properties\":[{\"name\":\"fill\",\"kind\":\"Any\",\"default\":\"none\"},{\"name\":\"value\",\"kind\":\"Any\",\"default\":null}]}]}};\n",
       "  var render_items = [{\"docid\":\"37e71097-f3d3-4f16-8a24-cd25e0b5a819\",\"roots\":{\"a6bd25cd-b2c5-411a-943a-92f3488a55d3\":\"fa6aa808-8aea-41ec-bc86-b75b6f668246\"},\"root_ids\":[\"a6bd25cd-b2c5-411a-943a-92f3488a55d3\"]}];\n",
       "  var docs = Object.values(docs_json)\n",
       "  if (!docs) {\n",
       "    return\n",
       "  }\n",
       "  const py_version = docs[0].version.replace('rc', '-rc.').replace('.dev', '-dev.')\n",
       "  function embed_document(root) {\n",
       "    var Bokeh = get_bokeh(root)\n",
       "    Bokeh.embed.embed_items_notebook(docs_json, render_items);\n",
       "    for (const render_item of render_items) {\n",
       "      for (const root_id of render_item.root_ids) {\n",
       "\tconst id_el = document.getElementById(root_id)\n",
       "\tif (id_el.children.length && (id_el.children[0].className === 'bk-root')) {\n",
       "\t  const root_el = id_el.children[0]\n",
       "\t  root_el.id = root_el.id + '-rendered'\n",
       "\t}\n",
       "      }\n",
       "    }\n",
       "  }\n",
       "  function get_bokeh(root) {\n",
       "    if (root.Bokeh === undefined) {\n",
       "      return null\n",
       "    } else if (root.Bokeh.version !== py_version) {\n",
       "      if (root.Bokeh.versions === undefined || !root.Bokeh.versions.has(py_version)) {\n",
       "\treturn null\n",
       "      }\n",
       "      return root.Bokeh.versions.get(py_version);\n",
       "    } else if (root.Bokeh.version === py_version) {\n",
       "      return root.Bokeh\n",
       "    }\n",
       "    return null\n",
       "  }\n",
       "  function is_loaded(root) {\n",
       "    var Bokeh = get_bokeh(root)\n",
       "    return (Bokeh != null && Bokeh.Panel !== undefined && ( root.Plotly !== undefined) && ( root.Plotly !== undefined))\n",
       "  }\n",
       "  if (is_loaded(root)) {\n",
       "    embed_document(root);\n",
       "  } else {\n",
       "    var attempts = 0;\n",
       "    var timer = setInterval(function(root) {\n",
       "      if (is_loaded(root)) {\n",
       "        clearInterval(timer);\n",
       "        embed_document(root);\n",
       "      } else if (document.readyState == \"complete\") {\n",
       "        attempts++;\n",
       "        if (attempts > 200) {\n",
       "          clearInterval(timer);\n",
       "\t  var Bokeh = get_bokeh(root)\n",
       "\t  if (Bokeh == null || Bokeh.Panel == null) {\n",
       "            console.warn(\"Panel: ERROR: Unable to run Panel code because Bokeh or Panel library is missing\");\n",
       "\t  } else {\n",
       "\t    console.warn(\"Panel: WARNING: Attempting to render but not all required libraries could be resolved.\")\n",
       "\t    embed_document(root)\n",
       "\t  }\n",
       "        }\n",
       "      }\n",
       "    }, 25, root)\n",
       "  }\n",
       "})(window);</script>"
      ],
      "text/plain": [
       ":Overlay\n",
       "   .Scatter.I :Scatter   [slot_inclusion_rate]   (priority_fee_bid_percent_premium)\n",
       "   .Curve.I   :Curve   [slot_inclusion_rate]   (priority fee bid premium (%))"
      ]
     },
     "execution_count": 9,
     "metadata": {
      "application/vnd.holoviews_exec.v0+json": {
       "id": "a6bd25cd-b2c5-411a-943a-92f3488a55d3"
      }
     },
     "output_type": "execute_result"
    }
   ],
   "source": [
    "(priority_fee_premium_chart * line_chart_bid_premium)"
   ]
  },
  {
   "cell_type": "markdown",
   "metadata": {},
   "source": [
    "### Assemble Dashboard"
   ]
  },
  {
   "cell_type": "code",
   "execution_count": 10,
   "metadata": {},
   "outputs": [],
   "source": [
    "dash = pn.Column(\n",
    "    pn.pane.Markdown(\n",
    "        \"\"\"\n",
    "        # EIP-4844 Slot Inclusion Dashboard\n",
    "\n",
    "        ## About\n",
    "        This dashboard shows detailed analytics for blobs and how fast they are included into the next slot as well as the efficiency of using EIP-1559 priority fees\n",
    "        as a bidding mechanism for faster slot inclusion. As of April 11, 2024, the data is currently restricted to Base posting data over a 5 day period with \n",
    "        plans to open up to other rollups soon. This dashboard is made using [Xatu Data](https://github.com/ethpandaops/xatu-data?tab=readme-ov-file) for EL mempool and Beacon chain data and [Hypersync](https://github.com/enviodev/hypersync-client-python) \n",
    "        for transaction gas data for the [EIP-4844 data challenge](https://esp.ethereum.foundation/data-challenge-4844).\n",
    "\n",
    "        ## Calculating Blob Inclusion in the Beacon Chain\n",
    "        When a transaction is resubmitted with updated gas parameters, the transaction hash changes. For example take this blob reference hash - 0x01c738cf37c911334c771f2295c060e5bd7d084f347e4334863336724934c59a. \n",
    "        On [etherscan](https://etherscan.io/tx/0x763d823c0f933c4d2eb84406b37aa2649753f2f563fa3ee6d27251c6a52a8d69) we can see that the transaction was replaced by the user. We can see on Ethernow that the transaction contains \n",
    "        the same blob reference hash in both the [original tx](https://www.ethernow.xyz/tx/0x763d823c0f933c4d2eb84406b37aa2649753f2f563fa3ee6d27251c6a52a8d69?batchIndex=1) and the [resubmitted tx](https://www.ethernow.xyz/tx/0x5a4094662bd05ff3639a8979927ab527e007a6925387951a9c1b3d2958b13a86?batchIndex=1).\n",
    "        \n",
    "        We can measure the total time that a blob hash sat in the mempool by subtracting the original tx was first seen from the slot time, when it eventually is finalized on the beacon chain. \n",
    "        In this particular example, the total time that the blob sat in the mempool was not from 18:56:27 to 18:57:11 (4 slots), but really 18:54:29 to 18:57:11 (14 slots)\n",
    "            \"\"\"\n",
    "    ),\n",
    "    pn.pane.Markdown(\n",
    "        \"\"\"\n",
    "        ## Slot Inclusion Rates\n",
    "        **Slot Inclusion Rate** - The slot inclusion rate indicates the number of slots required for a blob to be included in the beacon chain, with a higher rate signifying a longer inclusion time. \n",
    "        The accompanying time-series chart tracks this metric from initial mempool appearance to final beacon block inclusion. A 50 blob slot inclusion average is taken to smooth out the performance. \n",
    "        The target slot inclusion rate is 2. \n",
    "            \"\"\"\n",
    "    ),\n",
    "    pn.Row(slot_inclusion_line_chart.opts(axiswise=True)),\n",
    "    pn.pane.Markdown(\n",
    "        \"\"\"\n",
    "        ## EIP-1559 Priority Fee Premium Correlation with Slot Rates\n",
    "        The scatterplot illustrates the relationship between the EIP-1559 priority fee bid premiums and slot inclusion rates. \n",
    "        A higher priority fee bid premium tends to coincide with longer slot inclusion times. This unexpected twist underscores the value of efficient slot utilization.\n",
    "        The data indicates a trend where higher bid premiums are associated with longer slot inclusion times, \n",
    "        suggesting that as the time for a blob to be included in the beacon chain increases, so does the priority fee bid premium.\n",
    "        This behavior comes from the fact that if a blob sits in the mempool for too long, then it is resubmitted with a higher priority fee. In the case of Base, if the blob doesn't get confirmed within 2 minutes, \n",
    "        then it will be resubmitted with doubled fee parameters.\n",
    "            \"\"\"\n",
    "    ),\n",
    "    pn.Row((priority_fee_premium_chart * line_chart_bid_premium)),\n",
    "    pn.Column(\n",
    "        pn.pane.Markdown(\n",
    "            \"\"\"\n",
    "            ## Slot Inclusion Breakdown\n",
    "            This bar chart represents the number of transactions that are being included within 1 slot, 2 slots, and 3+ slots. \n",
    "            * 1 slot = fastest possible inclusion time\n",
    "            * 2 slots = good inclusion time\n",
    "            * 3+ slots = slow inclusion time\n",
    "            \"\"\"\n",
    "        ),\n",
    "        slot_chance_bar_chart.opts(axiswise=True),\n",
    "    ),\n",
    "    pn.pane.Markdown(\n",
    "        \"\"\"\n",
    "        ## Summary of Results\n",
    "        - Blobs have a highly variable slot inclusion rate, with a nontrivial amount of blobs taking 3+ slots to be included.   \n",
    "        - Higher EIP-1559 priority fees correlate with longer slot inclusion rates.\n",
    "        - Uncertainty around block gas and priority fee bidding premiums increase with longer slot inclusion rates.\n",
    "        \n",
    "\"\"\"\n",
    "    ),\n",
    ")"
   ]
  },
  {
   "cell_type": "code",
   "execution_count": 11,
   "metadata": {},
   "outputs": [
    {
     "data": {
      "application/vnd.jupyter.widget-view+json": {
       "model_id": "537966d1bff943df96f8f44a2c43cafb",
       "version_major": 2,
       "version_minor": 0
      },
      "text/plain": [
       "BokehModel(combine_events=True, render_bundle={'docs_json': {'da089eb6-d3c4-438a-9d34-7b35a17dd2f6': {'version…"
      ]
     },
     "execution_count": 11,
     "metadata": {},
     "output_type": "execute_result"
    }
   ],
   "source": [
    "# dash.show()\n",
    "dash.servable()"
   ]
  },
  {
   "cell_type": "code",
   "execution_count": null,
   "metadata": {},
   "outputs": [],
   "source": []
  },
  {
   "cell_type": "code",
   "execution_count": null,
   "metadata": {},
   "outputs": [],
   "source": []
  },
  {
   "cell_type": "code",
   "execution_count": null,
   "metadata": {},
   "outputs": [],
   "source": []
  }
 ],
 "metadata": {
  "kernelspec": {
   "display_name": ".venv",
   "language": "python",
   "name": "python3"
  },
  "language_info": {
   "codemirror_mode": {
    "name": "ipython",
    "version": 3
   },
   "file_extension": ".py",
   "mimetype": "text/x-python",
   "name": "python",
   "nbconvert_exporter": "python",
   "pygments_lexer": "ipython3",
   "version": "3.11.8"
  }
 },
 "nbformat": 4,
 "nbformat_minor": 2
}
