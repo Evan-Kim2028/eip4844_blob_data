{
 "cells": [
  {
   "cell_type": "code",
   "execution_count": 1,
   "metadata": {},
   "outputs": [
    {
     "data": {
      "application/javascript": "(function(root) {\n  function now() {\n    return new Date();\n  }\n\n  var force = true;\n  var py_version = '3.4.0'.replace('rc', '-rc.').replace('.dev', '-dev.');\n  var reloading = false;\n  var Bokeh = root.Bokeh;\n\n  if (typeof (root._bokeh_timeout) === \"undefined\" || force) {\n    root._bokeh_timeout = Date.now() + 5000;\n    root._bokeh_failed_load = false;\n  }\n\n  function run_callbacks() {\n    try {\n      root._bokeh_onload_callbacks.forEach(function(callback) {\n        if (callback != null)\n          callback();\n      });\n    } finally {\n      delete root._bokeh_onload_callbacks;\n    }\n    console.debug(\"Bokeh: all callbacks have finished\");\n  }\n\n  function load_libs(css_urls, js_urls, js_modules, js_exports, callback) {\n    if (css_urls == null) css_urls = [];\n    if (js_urls == null) js_urls = [];\n    if (js_modules == null) js_modules = [];\n    if (js_exports == null) js_exports = {};\n\n    root._bokeh_onload_callbacks.push(callback);\n\n    if (root._bokeh_is_loading > 0) {\n      console.debug(\"Bokeh: BokehJS is being loaded, scheduling callback at\", now());\n      return null;\n    }\n    if (js_urls.length === 0 && js_modules.length === 0 && Object.keys(js_exports).length === 0) {\n      run_callbacks();\n      return null;\n    }\n    if (!reloading) {\n      console.debug(\"Bokeh: BokehJS not loaded, scheduling load and callback at\", now());\n    }\n\n    function on_load() {\n      root._bokeh_is_loading--;\n      if (root._bokeh_is_loading === 0) {\n        console.debug(\"Bokeh: all BokehJS libraries/stylesheets loaded\");\n        run_callbacks()\n      }\n    }\n    window._bokeh_on_load = on_load\n\n    function on_error() {\n      console.error(\"failed to load \" + url);\n    }\n\n    var skip = [];\n    if (window.requirejs) {\n      window.requirejs.config({'packages': {}, 'paths': {'plotly': 'https://cdn.plot.ly/plotly-2.25.2.min'}, 'shim': {}});\n      require([\"plotly\"], function(Plotly) {\n\twindow.Plotly = Plotly\n\ton_load()\n      })\n      root._bokeh_is_loading = css_urls.length + 1;\n    } else {\n      root._bokeh_is_loading = css_urls.length + js_urls.length + js_modules.length + Object.keys(js_exports).length;\n    }\n\n    var existing_stylesheets = []\n    var links = document.getElementsByTagName('link')\n    for (var i = 0; i < links.length; i++) {\n      var link = links[i]\n      if (link.href != null) {\n\texisting_stylesheets.push(link.href)\n      }\n    }\n    for (var i = 0; i < css_urls.length; i++) {\n      var url = css_urls[i];\n      if (existing_stylesheets.indexOf(url) !== -1) {\n\ton_load()\n\tcontinue;\n      }\n      const element = document.createElement(\"link\");\n      element.onload = on_load;\n      element.onerror = on_error;\n      element.rel = \"stylesheet\";\n      element.type = \"text/css\";\n      element.href = url;\n      console.debug(\"Bokeh: injecting link tag for BokehJS stylesheet: \", url);\n      document.body.appendChild(element);\n    }    if (((window.Plotly !== undefined) && (!(window.Plotly instanceof HTMLElement))) || window.requirejs) {\n      var urls = ['https://cdn.holoviz.org/panel/1.4.1/dist/bundled/plotlyplot/plotly-2.25.2.min.js'];\n      for (var i = 0; i < urls.length; i++) {\n        skip.push(urls[i])\n      }\n    }    var existing_scripts = []\n    var scripts = document.getElementsByTagName('script')\n    for (var i = 0; i < scripts.length; i++) {\n      var script = scripts[i]\n      if (script.src != null) {\n\texisting_scripts.push(script.src)\n      }\n    }\n    for (var i = 0; i < js_urls.length; i++) {\n      var url = js_urls[i];\n      if (skip.indexOf(url) !== -1 || existing_scripts.indexOf(url) !== -1) {\n\tif (!window.requirejs) {\n\t  on_load();\n\t}\n\tcontinue;\n      }\n      var element = document.createElement('script');\n      element.onload = on_load;\n      element.onerror = on_error;\n      element.async = false;\n      element.src = url;\n      console.debug(\"Bokeh: injecting script tag for BokehJS library: \", url);\n      document.head.appendChild(element);\n    }\n    for (var i = 0; i < js_modules.length; i++) {\n      var url = js_modules[i];\n      if (skip.indexOf(url) !== -1 || existing_scripts.indexOf(url) !== -1) {\n\tif (!window.requirejs) {\n\t  on_load();\n\t}\n\tcontinue;\n      }\n      var element = document.createElement('script');\n      element.onload = on_load;\n      element.onerror = on_error;\n      element.async = false;\n      element.src = url;\n      element.type = \"module\";\n      console.debug(\"Bokeh: injecting script tag for BokehJS library: \", url);\n      document.head.appendChild(element);\n    }\n    for (const name in js_exports) {\n      var url = js_exports[name];\n      if (skip.indexOf(url) >= 0 || root[name] != null) {\n\tif (!window.requirejs) {\n\t  on_load();\n\t}\n\tcontinue;\n      }\n      var element = document.createElement('script');\n      element.onerror = on_error;\n      element.async = false;\n      element.type = \"module\";\n      console.debug(\"Bokeh: injecting script tag for BokehJS library: \", url);\n      element.textContent = `\n      import ${name} from \"${url}\"\n      window.${name} = ${name}\n      window._bokeh_on_load()\n      `\n      document.head.appendChild(element);\n    }\n    if (!js_urls.length && !js_modules.length) {\n      on_load()\n    }\n  };\n\n  function inject_raw_css(css) {\n    const element = document.createElement(\"style\");\n    element.appendChild(document.createTextNode(css));\n    document.body.appendChild(element);\n  }\n\n  var js_urls = [\"https://cdn.holoviz.org/panel/1.4.1/dist/bundled/jquery/jquery.slim.min.js\", \"https://cdn.holoviz.org/panel/1.4.1/dist/bundled/plotlyplot/plotly-2.25.2.min.js\", \"https://cdn.bokeh.org/bokeh/release/bokeh-3.4.0.min.js\", \"https://cdn.bokeh.org/bokeh/release/bokeh-gl-3.4.0.min.js\", \"https://cdn.bokeh.org/bokeh/release/bokeh-widgets-3.4.0.min.js\", \"https://cdn.bokeh.org/bokeh/release/bokeh-tables-3.4.0.min.js\", \"https://cdn.holoviz.org/panel/1.4.1/dist/panel.min.js\"];\n  var js_modules = [];\n  var js_exports = {};\n  var css_urls = [];\n  var inline_js = [    function(Bokeh) {\n      Bokeh.set_log_level(\"info\");\n    },\nfunction(Bokeh) {} // ensure no trailing comma for IE\n  ];\n\n  function run_inline_js() {\n    if ((root.Bokeh !== undefined) || (force === true)) {\n      for (var i = 0; i < inline_js.length; i++) {\n\ttry {\n          inline_js[i].call(root, root.Bokeh);\n\t} catch(e) {\n\t  if (!reloading) {\n\t    throw e;\n\t  }\n\t}\n      }\n      // Cache old bokeh versions\n      if (Bokeh != undefined && !reloading) {\n\tvar NewBokeh = root.Bokeh;\n\tif (Bokeh.versions === undefined) {\n\t  Bokeh.versions = new Map();\n\t}\n\tif (NewBokeh.version !== Bokeh.version) {\n\t  Bokeh.versions.set(NewBokeh.version, NewBokeh)\n\t}\n\troot.Bokeh = Bokeh;\n      }} else if (Date.now() < root._bokeh_timeout) {\n      setTimeout(run_inline_js, 100);\n    } else if (!root._bokeh_failed_load) {\n      console.log(\"Bokeh: BokehJS failed to load within specified timeout.\");\n      root._bokeh_failed_load = true;\n    }\n    root._bokeh_is_initializing = false\n  }\n\n  function load_or_wait() {\n    // Implement a backoff loop that tries to ensure we do not load multiple\n    // versions of Bokeh and its dependencies at the same time.\n    // In recent versions we use the root._bokeh_is_initializing flag\n    // to determine whether there is an ongoing attempt to initialize\n    // bokeh, however for backward compatibility we also try to ensure\n    // that we do not start loading a newer (Panel>=1.0 and Bokeh>3) version\n    // before older versions are fully initialized.\n    if (root._bokeh_is_initializing && Date.now() > root._bokeh_timeout) {\n      root._bokeh_is_initializing = false;\n      root._bokeh_onload_callbacks = undefined;\n      console.log(\"Bokeh: BokehJS was loaded multiple times but one version failed to initialize.\");\n      load_or_wait();\n    } else if (root._bokeh_is_initializing || (typeof root._bokeh_is_initializing === \"undefined\" && root._bokeh_onload_callbacks !== undefined)) {\n      setTimeout(load_or_wait, 100);\n    } else {\n      root._bokeh_is_initializing = true\n      root._bokeh_onload_callbacks = []\n      var bokeh_loaded = Bokeh != null && (Bokeh.version === py_version || (Bokeh.versions !== undefined && Bokeh.versions.has(py_version)));\n      if (!reloading && !bokeh_loaded) {\n\troot.Bokeh = undefined;\n      }\n      load_libs(css_urls, js_urls, js_modules, js_exports, function() {\n\tconsole.debug(\"Bokeh: BokehJS plotting callback run at\", now());\n\trun_inline_js();\n      });\n    }\n  }\n  // Give older versions of the autoload script a head-start to ensure\n  // they initialize before we start loading newer version.\n  setTimeout(load_or_wait, 100)\n}(window));",
      "application/vnd.holoviews_load.v0+json": ""
     },
     "metadata": {},
     "output_type": "display_data"
    },
    {
     "data": {
      "application/javascript": "\nif ((window.PyViz === undefined) || (window.PyViz instanceof HTMLElement)) {\n  window.PyViz = {comms: {}, comm_status:{}, kernels:{}, receivers: {}, plot_index: []}\n}\n\n\n    function JupyterCommManager() {\n    }\n\n    JupyterCommManager.prototype.register_target = function(plot_id, comm_id, msg_handler) {\n      if (window.comm_manager || ((window.Jupyter !== undefined) && (Jupyter.notebook.kernel != null))) {\n        var comm_manager = window.comm_manager || Jupyter.notebook.kernel.comm_manager;\n        comm_manager.register_target(comm_id, function(comm) {\n          comm.on_msg(msg_handler);\n        });\n      } else if ((plot_id in window.PyViz.kernels) && (window.PyViz.kernels[plot_id])) {\n        window.PyViz.kernels[plot_id].registerCommTarget(comm_id, function(comm) {\n          comm.onMsg = msg_handler;\n        });\n      } else if (typeof google != 'undefined' && google.colab.kernel != null) {\n        google.colab.kernel.comms.registerTarget(comm_id, (comm) => {\n          var messages = comm.messages[Symbol.asyncIterator]();\n          function processIteratorResult(result) {\n            var message = result.value;\n            console.log(message)\n            var content = {data: message.data, comm_id};\n            var buffers = []\n            for (var buffer of message.buffers || []) {\n              buffers.push(new DataView(buffer))\n            }\n            var metadata = message.metadata || {};\n            var msg = {content, buffers, metadata}\n            msg_handler(msg);\n            return messages.next().then(processIteratorResult);\n          }\n          return messages.next().then(processIteratorResult);\n        })\n      }\n    }\n\n    JupyterCommManager.prototype.get_client_comm = function(plot_id, comm_id, msg_handler) {\n      if (comm_id in window.PyViz.comms) {\n        return window.PyViz.comms[comm_id];\n      } else if (window.comm_manager || ((window.Jupyter !== undefined) && (Jupyter.notebook.kernel != null))) {\n        var comm_manager = window.comm_manager || Jupyter.notebook.kernel.comm_manager;\n        var comm = comm_manager.new_comm(comm_id, {}, {}, {}, comm_id);\n        if (msg_handler) {\n          comm.on_msg(msg_handler);\n        }\n      } else if ((plot_id in window.PyViz.kernels) && (window.PyViz.kernels[plot_id])) {\n        var comm = window.PyViz.kernels[plot_id].connectToComm(comm_id);\n        comm.open();\n        if (msg_handler) {\n          comm.onMsg = msg_handler;\n        }\n      } else if (typeof google != 'undefined' && google.colab.kernel != null) {\n        var comm_promise = google.colab.kernel.comms.open(comm_id)\n        comm_promise.then((comm) => {\n          window.PyViz.comms[comm_id] = comm;\n          if (msg_handler) {\n            var messages = comm.messages[Symbol.asyncIterator]();\n            function processIteratorResult(result) {\n              var message = result.value;\n              var content = {data: message.data};\n              var metadata = message.metadata || {comm_id};\n              var msg = {content, metadata}\n              msg_handler(msg);\n              return messages.next().then(processIteratorResult);\n            }\n            return messages.next().then(processIteratorResult);\n          }\n        }) \n        var sendClosure = (data, metadata, buffers, disposeOnDone) => {\n          return comm_promise.then((comm) => {\n            comm.send(data, metadata, buffers, disposeOnDone);\n          });\n        };\n        var comm = {\n          send: sendClosure\n        };\n      }\n      window.PyViz.comms[comm_id] = comm;\n      return comm;\n    }\n    window.PyViz.comm_manager = new JupyterCommManager();\n    \n\n\nvar JS_MIME_TYPE = 'application/javascript';\nvar HTML_MIME_TYPE = 'text/html';\nvar EXEC_MIME_TYPE = 'application/vnd.holoviews_exec.v0+json';\nvar CLASS_NAME = 'output';\n\n/**\n * Render data to the DOM node\n */\nfunction render(props, node) {\n  var div = document.createElement(\"div\");\n  var script = document.createElement(\"script\");\n  node.appendChild(div);\n  node.appendChild(script);\n}\n\n/**\n * Handle when a new output is added\n */\nfunction handle_add_output(event, handle) {\n  var output_area = handle.output_area;\n  var output = handle.output;\n  if ((output.data == undefined) || (!output.data.hasOwnProperty(EXEC_MIME_TYPE))) {\n    return\n  }\n  var id = output.metadata[EXEC_MIME_TYPE][\"id\"];\n  var toinsert = output_area.element.find(\".\" + CLASS_NAME.split(' ')[0]);\n  if (id !== undefined) {\n    var nchildren = toinsert.length;\n    var html_node = toinsert[nchildren-1].children[0];\n    html_node.innerHTML = output.data[HTML_MIME_TYPE];\n    var scripts = [];\n    var nodelist = html_node.querySelectorAll(\"script\");\n    for (var i in nodelist) {\n      if (nodelist.hasOwnProperty(i)) {\n        scripts.push(nodelist[i])\n      }\n    }\n\n    scripts.forEach( function (oldScript) {\n      var newScript = document.createElement(\"script\");\n      var attrs = [];\n      var nodemap = oldScript.attributes;\n      for (var j in nodemap) {\n        if (nodemap.hasOwnProperty(j)) {\n          attrs.push(nodemap[j])\n        }\n      }\n      attrs.forEach(function(attr) { newScript.setAttribute(attr.name, attr.value) });\n      newScript.appendChild(document.createTextNode(oldScript.innerHTML));\n      oldScript.parentNode.replaceChild(newScript, oldScript);\n    });\n    if (JS_MIME_TYPE in output.data) {\n      toinsert[nchildren-1].children[1].textContent = output.data[JS_MIME_TYPE];\n    }\n    output_area._hv_plot_id = id;\n    if ((window.Bokeh !== undefined) && (id in Bokeh.index)) {\n      window.PyViz.plot_index[id] = Bokeh.index[id];\n    } else {\n      window.PyViz.plot_index[id] = null;\n    }\n  } else if (output.metadata[EXEC_MIME_TYPE][\"server_id\"] !== undefined) {\n    var bk_div = document.createElement(\"div\");\n    bk_div.innerHTML = output.data[HTML_MIME_TYPE];\n    var script_attrs = bk_div.children[0].attributes;\n    for (var i = 0; i < script_attrs.length; i++) {\n      toinsert[toinsert.length - 1].childNodes[1].setAttribute(script_attrs[i].name, script_attrs[i].value);\n    }\n    // store reference to server id on output_area\n    output_area._bokeh_server_id = output.metadata[EXEC_MIME_TYPE][\"server_id\"];\n  }\n}\n\n/**\n * Handle when an output is cleared or removed\n */\nfunction handle_clear_output(event, handle) {\n  var id = handle.cell.output_area._hv_plot_id;\n  var server_id = handle.cell.output_area._bokeh_server_id;\n  if (((id === undefined) || !(id in PyViz.plot_index)) && (server_id !== undefined)) { return; }\n  var comm = window.PyViz.comm_manager.get_client_comm(\"hv-extension-comm\", \"hv-extension-comm\", function () {});\n  if (server_id !== null) {\n    comm.send({event_type: 'server_delete', 'id': server_id});\n    return;\n  } else if (comm !== null) {\n    comm.send({event_type: 'delete', 'id': id});\n  }\n  delete PyViz.plot_index[id];\n  if ((window.Bokeh !== undefined) & (id in window.Bokeh.index)) {\n    var doc = window.Bokeh.index[id].model.document\n    doc.clear();\n    const i = window.Bokeh.documents.indexOf(doc);\n    if (i > -1) {\n      window.Bokeh.documents.splice(i, 1);\n    }\n  }\n}\n\n/**\n * Handle kernel restart event\n */\nfunction handle_kernel_cleanup(event, handle) {\n  delete PyViz.comms[\"hv-extension-comm\"];\n  window.PyViz.plot_index = {}\n}\n\n/**\n * Handle update_display_data messages\n */\nfunction handle_update_output(event, handle) {\n  handle_clear_output(event, {cell: {output_area: handle.output_area}})\n  handle_add_output(event, handle)\n}\n\nfunction register_renderer(events, OutputArea) {\n  function append_mime(data, metadata, element) {\n    // create a DOM node to render to\n    var toinsert = this.create_output_subarea(\n    metadata,\n    CLASS_NAME,\n    EXEC_MIME_TYPE\n    );\n    this.keyboard_manager.register_events(toinsert);\n    // Render to node\n    var props = {data: data, metadata: metadata[EXEC_MIME_TYPE]};\n    render(props, toinsert[0]);\n    element.append(toinsert);\n    return toinsert\n  }\n\n  events.on('output_added.OutputArea', handle_add_output);\n  events.on('output_updated.OutputArea', handle_update_output);\n  events.on('clear_output.CodeCell', handle_clear_output);\n  events.on('delete.Cell', handle_clear_output);\n  events.on('kernel_ready.Kernel', handle_kernel_cleanup);\n\n  OutputArea.prototype.register_mime_type(EXEC_MIME_TYPE, append_mime, {\n    safe: true,\n    index: 0\n  });\n}\n\nif (window.Jupyter !== undefined) {\n  try {\n    var events = require('base/js/events');\n    var OutputArea = require('notebook/js/outputarea').OutputArea;\n    if (OutputArea.prototype.mime_types().indexOf(EXEC_MIME_TYPE) == -1) {\n      register_renderer(events, OutputArea);\n    }\n  } catch(err) {\n  }\n}\n",
      "application/vnd.holoviews_load.v0+json": ""
     },
     "metadata": {},
     "output_type": "display_data"
    },
    {
     "data": {
      "text/html": [
       "<style>*[data-root-id],\n",
       "*[data-root-id] > * {\n",
       "  box-sizing: border-box;\n",
       "  font-family: var(--jp-ui-font-family);\n",
       "  font-size: var(--jp-ui-font-size1);\n",
       "  color: var(--vscode-editor-foreground, var(--jp-ui-font-color1));\n",
       "}\n",
       "\n",
       "/* Override VSCode background color */\n",
       ".cell-output-ipywidget-background:has(\n",
       "    > .cell-output-ipywidget-background > .lm-Widget > *[data-root-id]\n",
       "  ),\n",
       ".cell-output-ipywidget-background:has(> .lm-Widget > *[data-root-id]) {\n",
       "  background-color: transparent !important;\n",
       "}\n",
       "</style>"
      ]
     },
     "metadata": {},
     "output_type": "display_data"
    },
    {
     "data": {
      "application/vnd.holoviews_exec.v0+json": "",
      "text/html": [
       "<div id='ce54558f-adbf-4c46-8497-cd3508c06736'>\n",
       "  <div id=\"eb5c5912-d4ef-4e97-8f68-25fe36887d52\" data-root-id=\"ce54558f-adbf-4c46-8497-cd3508c06736\" style=\"display: contents;\"></div>\n",
       "</div>\n",
       "<script type=\"application/javascript\">(function(root) {\n",
       "  var docs_json = {\"3353c91a-37b5-4b33-87e4-b2c911e97512\":{\"version\":\"3.4.0\",\"title\":\"Bokeh Application\",\"roots\":[{\"type\":\"object\",\"name\":\"panel.models.browser.BrowserInfo\",\"id\":\"ce54558f-adbf-4c46-8497-cd3508c06736\"},{\"type\":\"object\",\"name\":\"panel.models.comm_manager.CommManager\",\"id\":\"b385b8a1-d7f8-422c-b273-d4adb75b4bc6\",\"attributes\":{\"plot_id\":\"ce54558f-adbf-4c46-8497-cd3508c06736\",\"comm_id\":\"a2a46ef220ff4170bc703c61093b05fe\",\"client_comm_id\":\"8986908a98a74d18a433917f5eef0ce1\"}}],\"defs\":[{\"type\":\"model\",\"name\":\"ReactiveHTML1\"},{\"type\":\"model\",\"name\":\"FlexBox1\",\"properties\":[{\"name\":\"align_content\",\"kind\":\"Any\",\"default\":\"flex-start\"},{\"name\":\"align_items\",\"kind\":\"Any\",\"default\":\"flex-start\"},{\"name\":\"flex_direction\",\"kind\":\"Any\",\"default\":\"row\"},{\"name\":\"flex_wrap\",\"kind\":\"Any\",\"default\":\"wrap\"},{\"name\":\"gap\",\"kind\":\"Any\",\"default\":\"\"},{\"name\":\"justify_content\",\"kind\":\"Any\",\"default\":\"flex-start\"}]},{\"type\":\"model\",\"name\":\"FloatPanel1\",\"properties\":[{\"name\":\"config\",\"kind\":\"Any\",\"default\":{\"type\":\"map\"}},{\"name\":\"contained\",\"kind\":\"Any\",\"default\":true},{\"name\":\"position\",\"kind\":\"Any\",\"default\":\"right-top\"},{\"name\":\"offsetx\",\"kind\":\"Any\",\"default\":null},{\"name\":\"offsety\",\"kind\":\"Any\",\"default\":null},{\"name\":\"theme\",\"kind\":\"Any\",\"default\":\"primary\"},{\"name\":\"status\",\"kind\":\"Any\",\"default\":\"normalized\"}]},{\"type\":\"model\",\"name\":\"GridStack1\",\"properties\":[{\"name\":\"mode\",\"kind\":\"Any\",\"default\":\"warn\"},{\"name\":\"ncols\",\"kind\":\"Any\",\"default\":null},{\"name\":\"nrows\",\"kind\":\"Any\",\"default\":null},{\"name\":\"allow_resize\",\"kind\":\"Any\",\"default\":true},{\"name\":\"allow_drag\",\"kind\":\"Any\",\"default\":true},{\"name\":\"state\",\"kind\":\"Any\",\"default\":[]}]},{\"type\":\"model\",\"name\":\"drag1\",\"properties\":[{\"name\":\"slider_width\",\"kind\":\"Any\",\"default\":5},{\"name\":\"slider_color\",\"kind\":\"Any\",\"default\":\"black\"},{\"name\":\"value\",\"kind\":\"Any\",\"default\":50}]},{\"type\":\"model\",\"name\":\"click1\",\"properties\":[{\"name\":\"terminal_output\",\"kind\":\"Any\",\"default\":\"\"},{\"name\":\"debug_name\",\"kind\":\"Any\",\"default\":\"\"},{\"name\":\"clears\",\"kind\":\"Any\",\"default\":0}]},{\"type\":\"model\",\"name\":\"FastWrapper1\",\"properties\":[{\"name\":\"object\",\"kind\":\"Any\",\"default\":null},{\"name\":\"style\",\"kind\":\"Any\",\"default\":null}]},{\"type\":\"model\",\"name\":\"NotificationAreaBase1\",\"properties\":[{\"name\":\"js_events\",\"kind\":\"Any\",\"default\":{\"type\":\"map\"}},{\"name\":\"position\",\"kind\":\"Any\",\"default\":\"bottom-right\"},{\"name\":\"_clear\",\"kind\":\"Any\",\"default\":0}]},{\"type\":\"model\",\"name\":\"NotificationArea1\",\"properties\":[{\"name\":\"js_events\",\"kind\":\"Any\",\"default\":{\"type\":\"map\"}},{\"name\":\"notifications\",\"kind\":\"Any\",\"default\":[]},{\"name\":\"position\",\"kind\":\"Any\",\"default\":\"bottom-right\"},{\"name\":\"_clear\",\"kind\":\"Any\",\"default\":0},{\"name\":\"types\",\"kind\":\"Any\",\"default\":[{\"type\":\"map\",\"entries\":[[\"type\",\"warning\"],[\"background\",\"#ffc107\"],[\"icon\",{\"type\":\"map\",\"entries\":[[\"className\",\"fas fa-exclamation-triangle\"],[\"tagName\",\"i\"],[\"color\",\"white\"]]}]]},{\"type\":\"map\",\"entries\":[[\"type\",\"info\"],[\"background\",\"#007bff\"],[\"icon\",{\"type\":\"map\",\"entries\":[[\"className\",\"fas fa-info-circle\"],[\"tagName\",\"i\"],[\"color\",\"white\"]]}]]}]}]},{\"type\":\"model\",\"name\":\"Notification\",\"properties\":[{\"name\":\"background\",\"kind\":\"Any\",\"default\":null},{\"name\":\"duration\",\"kind\":\"Any\",\"default\":3000},{\"name\":\"icon\",\"kind\":\"Any\",\"default\":null},{\"name\":\"message\",\"kind\":\"Any\",\"default\":\"\"},{\"name\":\"notification_type\",\"kind\":\"Any\",\"default\":null},{\"name\":\"_destroyed\",\"kind\":\"Any\",\"default\":false}]},{\"type\":\"model\",\"name\":\"TemplateActions1\",\"properties\":[{\"name\":\"open_modal\",\"kind\":\"Any\",\"default\":0},{\"name\":\"close_modal\",\"kind\":\"Any\",\"default\":0}]},{\"type\":\"model\",\"name\":\"BootstrapTemplateActions1\",\"properties\":[{\"name\":\"open_modal\",\"kind\":\"Any\",\"default\":0},{\"name\":\"close_modal\",\"kind\":\"Any\",\"default\":0}]},{\"type\":\"model\",\"name\":\"TemplateEditor1\",\"properties\":[{\"name\":\"layout\",\"kind\":\"Any\",\"default\":[]}]},{\"type\":\"model\",\"name\":\"MaterialTemplateActions1\",\"properties\":[{\"name\":\"open_modal\",\"kind\":\"Any\",\"default\":0},{\"name\":\"close_modal\",\"kind\":\"Any\",\"default\":0}]},{\"type\":\"model\",\"name\":\"copy_to_clipboard1\",\"properties\":[{\"name\":\"fill\",\"kind\":\"Any\",\"default\":\"none\"},{\"name\":\"value\",\"kind\":\"Any\",\"default\":null}]}]}};\n",
       "  var render_items = [{\"docid\":\"3353c91a-37b5-4b33-87e4-b2c911e97512\",\"roots\":{\"ce54558f-adbf-4c46-8497-cd3508c06736\":\"eb5c5912-d4ef-4e97-8f68-25fe36887d52\"},\"root_ids\":[\"ce54558f-adbf-4c46-8497-cd3508c06736\"]}];\n",
       "  var docs = Object.values(docs_json)\n",
       "  if (!docs) {\n",
       "    return\n",
       "  }\n",
       "  const py_version = docs[0].version.replace('rc', '-rc.').replace('.dev', '-dev.')\n",
       "  function embed_document(root) {\n",
       "    var Bokeh = get_bokeh(root)\n",
       "    Bokeh.embed.embed_items_notebook(docs_json, render_items);\n",
       "    for (const render_item of render_items) {\n",
       "      for (const root_id of render_item.root_ids) {\n",
       "\tconst id_el = document.getElementById(root_id)\n",
       "\tif (id_el.children.length && (id_el.children[0].className === 'bk-root')) {\n",
       "\t  const root_el = id_el.children[0]\n",
       "\t  root_el.id = root_el.id + '-rendered'\n",
       "\t}\n",
       "      }\n",
       "    }\n",
       "  }\n",
       "  function get_bokeh(root) {\n",
       "    if (root.Bokeh === undefined) {\n",
       "      return null\n",
       "    } else if (root.Bokeh.version !== py_version) {\n",
       "      if (root.Bokeh.versions === undefined || !root.Bokeh.versions.has(py_version)) {\n",
       "\treturn null\n",
       "      }\n",
       "      return root.Bokeh.versions.get(py_version);\n",
       "    } else if (root.Bokeh.version === py_version) {\n",
       "      return root.Bokeh\n",
       "    }\n",
       "    return null\n",
       "  }\n",
       "  function is_loaded(root) {\n",
       "    var Bokeh = get_bokeh(root)\n",
       "    return (Bokeh != null && Bokeh.Panel !== undefined && ( root.Plotly !== undefined) && ( root.Plotly !== undefined))\n",
       "  }\n",
       "  if (is_loaded(root)) {\n",
       "    embed_document(root);\n",
       "  } else {\n",
       "    var attempts = 0;\n",
       "    var timer = setInterval(function(root) {\n",
       "      if (is_loaded(root)) {\n",
       "        clearInterval(timer);\n",
       "        embed_document(root);\n",
       "      } else if (document.readyState == \"complete\") {\n",
       "        attempts++;\n",
       "        if (attempts > 200) {\n",
       "          clearInterval(timer);\n",
       "\t  var Bokeh = get_bokeh(root)\n",
       "\t  if (Bokeh == null || Bokeh.Panel == null) {\n",
       "            console.warn(\"Panel: ERROR: Unable to run Panel code because Bokeh or Panel library is missing\");\n",
       "\t  } else {\n",
       "\t    console.warn(\"Panel: WARNING: Attempting to render but not all required libraries could be resolved.\")\n",
       "\t    embed_document(root)\n",
       "\t  }\n",
       "        }\n",
       "      }\n",
       "    }, 25, root)\n",
       "  }\n",
       "})(window);</script>"
      ]
     },
     "metadata": {
      "application/vnd.holoviews_exec.v0+json": {
       "id": "ce54558f-adbf-4c46-8497-cd3508c06736"
      }
     },
     "output_type": "display_data"
    },
    {
     "data": {
      "text/plain": [
       "polars.config.Config"
      ]
     },
     "execution_count": 1,
     "metadata": {},
     "output_type": "execute_result"
    }
   ],
   "source": [
    "from ethpandaops_python.hypersync import Hypersync\n",
    "from ethpandaops_python.preprocessor import Preprocessor\n",
    "import nest_asyncio\n",
    "import polars as pl\n",
    "import panel as pn\n",
    "\n",
    "\n",
    "nest_asyncio.apply()\n",
    "pn.extension(\"plotly\", template=\"material\", sizing_mode=\"stretch_width\")\n",
    "pl.Config.set_fmt_str_lengths(200)\n",
    "pl.Config.set_fmt_float(\"full\")"
   ]
  },
  {
   "cell_type": "markdown",
   "metadata": {},
   "source": [
    "### Data Query"
   ]
  },
  {
   "cell_type": "code",
   "execution_count": 2,
   "metadata": {},
   "outputs": [],
   "source": [
    "arbitrum: str = \"0xC1b634853Cb333D3aD8663715b08f41A3Aec47cc\"\n",
    "base: str = \"0x5050F69a9786F081509234F1a7F4684b5E5b76C9\"\n",
    "num_days: int = 1\n",
    "preprocessor: Preprocessor = Preprocessor(\n",
    "    blob_producer=base,  # base\n",
    "    period=num_days,\n",
    "    network=\"mainnet\",  # mainnet\n",
    ")\n",
    "\n",
    "client = Hypersync()"
   ]
  },
  {
   "cell_type": "code",
   "execution_count": 3,
   "metadata": {},
   "outputs": [],
   "source": [
    "# get preprocessed data\n",
    "slot_inclusion_df: pl.DataFrame = preprocessor.slot_inclusion()\n",
    "\n",
    "txs_df = client.query_txs(address=base.lower(), period=(num_days))"
   ]
  },
  {
   "cell_type": "code",
   "execution_count": 5,
   "metadata": {},
   "outputs": [],
   "source": [
    "processed_slot_inclusion_df = (\n",
    "    slot_inclusion_df.drop_nulls()\n",
    "    .drop(\n",
    "        \"meta_network_name\",\n",
    "        \"block_root\",\n",
    "        \"blob_size\",\n",
    "        \"from\",\n",
    "        \"to\",\n",
    "        \"blob_hashes_length\",\n",
    "        \"blob_sidecars_size\",\n",
    "    )\n",
    "    # there is an outlier in the data that has an unusually high slot count, I think it might be an error with the xatu mempool data.\n",
    "    # additionally there is currently a single tx with 5 blobs and 1 with 7. Since it's a single row, I think it's easier to just discard and ignore for now\n",
    "    .filter(pl.col(\"slot inclusion rate\") < 250)\n",
    "    .filter(pl.col(\"slot inclusion rate (50 blob average)\") < 40)\n",
    ")"
   ]
  },
  {
   "cell_type": "code",
   "execution_count": 6,
   "metadata": {},
   "outputs": [],
   "source": [
    "joined_processed_slot_inclusion_df = processed_slot_inclusion_df.join(\n",
    "    txs_df, on=\"hash\", how=\"left\"\n",
    ")"
   ]
  },
  {
   "cell_type": "code",
   "execution_count": 25,
   "metadata": {},
   "outputs": [],
   "source": [
    "slot_inclusion_tx_df = (\n",
    "    (\n",
    "        joined_processed_slot_inclusion_df.with_columns(\n",
    "            (pl.col(\"effective_gas_price\") / 10**9)\n",
    "            .round(3)\n",
    "            .alias(\n",
    "                \"effective_gas_price_gwei\"\n",
    "            ),  # gas price in gwei that was paid, including priority fee\n",
    "            (pl.col(\"max_fee_per_gas\") / 10**9)\n",
    "            .round(3)\n",
    "            .alias(\n",
    "                \"max_fee_per_gas_gwei\"\n",
    "            ),  # max gas price in gwei that rollup is willing to pay\n",
    "            (pl.col(\"max_priority_fee_per_gas\") / 10**9)\n",
    "            .round(3)\n",
    "            # priority gas fee in gwei,\n",
    "            .alias(\"max_priority_fee_per_gas_gwei\"),\n",
    "        )\n",
    "    )\n",
    "    .drop_nulls()\n",
    "    .sort(by=\"submission_count\", descending=True)\n",
    ")"
   ]
  },
  {
   "cell_type": "code",
   "execution_count": 26,
   "metadata": {},
   "outputs": [
    {
     "data": {
      "text/html": [
       "<div><style>\n",
       ".dataframe > thead > tr,\n",
       ".dataframe > tbody > tr {\n",
       "  text-align: right;\n",
       "  white-space: pre-wrap;\n",
       "}\n",
       "</style>\n",
       "<small>shape: (5, 34)</small><table border=\"1\" class=\"dataframe\"><thead><tr><th>versioned_hash</th><th>nonce</th><th>event_date_time_min</th><th>event_date_time_max</th><th>fill_percentage</th><th>blob_gas</th><th>blob_gas_fee_cap</th><th>gas_price</th><th>gas_tip_cap</th><th>gas_fee_cap</th><th>hash</th><th>submission_count</th><th>slot</th><th>slot time</th><th>kzg_commitment</th><th>blob_empty_size</th><th>beacon_inclusion_time</th><th>slot inclusion rate</th><th>slot inclusion rate (50 blob average)</th><th>slot target inclusion rate (2 slots)</th><th>block_number</th><th>from_</th><th>to</th><th>gas</th><th>transaction_index</th><th>gas_price_right</th><th>effective_gas_price</th><th>gas_used</th><th>cumulative_gas_used</th><th>max_fee_per_gas</th><th>max_priority_fee_per_gas</th><th>effective_gas_price_gwei</th><th>max_fee_per_gas_gwei</th><th>max_priority_fee_per_gas_gwei</th></tr><tr><td>str</td><td>u64</td><td>datetime[ms]</td><td>datetime[ms]</td><td>f64</td><td>f64</td><td>f64</td><td>f64</td><td>f64</td><td>f64</td><td>str</td><td>u32</td><td>u32</td><td>datetime[ms]</td><td>str</td><td>u32</td><td>f64</td><td>f64</td><td>f64</td><td>i32</td><td>i64</td><td>str</td><td>str</td><td>f64</td><td>i64</td><td>f64</td><td>f64</td><td>f64</td><td>f64</td><td>f64</td><td>f64</td><td>f64</td><td>f64</td><td>f64</td></tr></thead><tbody><tr><td>&quot;0x01da7643623b4cecee8fdb9c7f047f37f25e9b5b3bb0abf2903cd6f6397c8adb&quot;</td><td>385896</td><td>2024-04-10 16:15:11.750</td><td>2024-04-10 16:15:12.049</td><td>98.84999999999998</td><td>786432</td><td>1000000000</td><td>51292924936</td><td>2000000000</td><td>51292924936</td><td>&quot;0x5a899e19a9e441f6dd4f49be80bed70d2397b59f3b480057da8e5215f562be80&quot;</td><td>1</td><td>8828476</td><td>2024-04-10 16:15:35</td><td>&quot;0x93a8b69adb847fede8da9312b75667d303f553b8f8af3c646cb6ab44131ca8559fe5c740d4fb837b54219a6ef7bea8b2&quot;</td><td>0</td><td>23.25</td><td>2</td><td>1.28</td><td>2</td><td>19626356</td><td>&quot;0x5050f69a9786f081509234f1a7f4684b5e5b76c9&quot;</td><td>&quot;0xff00000000000000000000000000000000008453&quot;</td><td>21000</td><td>62</td><td>27490942696</td><td>27490942696</td><td>21000</td><td>6966648</td><td>51292924936</td><td>2000000000</td><td>27.491</td><td>51.293</td><td>2</td></tr><tr><td>&quot;0x01808a2b7281ef3aefa6168a6847a7c12c768c53a038a730361234dfe27c0c26&quot;</td><td>385896</td><td>2024-04-10 16:15:11.750</td><td>2024-04-10 16:15:12.049</td><td>98.84999999999998</td><td>786432</td><td>1000000000</td><td>51292924936</td><td>2000000000</td><td>51292924936</td><td>&quot;0x5a899e19a9e441f6dd4f49be80bed70d2397b59f3b480057da8e5215f562be80&quot;</td><td>1</td><td>8828476</td><td>2024-04-10 16:15:35</td><td>&quot;0xb0a30219775b190cbb2b36b459bbc1214a8cb89e96d9bb874c1ebd4fc826c2d68fa5debb4f7c492ebf232b5d8b3d6547&quot;</td><td>0</td><td>23.25</td><td>2</td><td>1.3</td><td>2</td><td>19626356</td><td>&quot;0x5050f69a9786f081509234f1a7f4684b5e5b76c9&quot;</td><td>&quot;0xff00000000000000000000000000000000008453&quot;</td><td>21000</td><td>62</td><td>27490942696</td><td>27490942696</td><td>21000</td><td>6966648</td><td>51292924936</td><td>2000000000</td><td>27.491</td><td>51.293</td><td>2</td></tr><tr><td>&quot;0x0163416f790bd3cee8872fa44d223aabdd6152f6fbf49e53e41387f55fffcf83&quot;</td><td>385896</td><td>2024-04-10 16:15:11.750</td><td>2024-04-10 16:15:12.049</td><td>98.84999999999998</td><td>786432</td><td>1000000000</td><td>51292924936</td><td>2000000000</td><td>51292924936</td><td>&quot;0x5a899e19a9e441f6dd4f49be80bed70d2397b59f3b480057da8e5215f562be80&quot;</td><td>1</td><td>8828476</td><td>2024-04-10 16:15:35</td><td>&quot;0x8e4121723def965dffd84aedbe039c175ec04aabc22620ada32fc92a66ad597053ccf1718a30262d1c8c8964d7d837be&quot;</td><td>0</td><td>23.25</td><td>2</td><td>1.32</td><td>2</td><td>19626356</td><td>&quot;0x5050f69a9786f081509234f1a7f4684b5e5b76c9&quot;</td><td>&quot;0xff00000000000000000000000000000000008453&quot;</td><td>21000</td><td>62</td><td>27490942696</td><td>27490942696</td><td>21000</td><td>6966648</td><td>51292924936</td><td>2000000000</td><td>27.491</td><td>51.293</td><td>2</td></tr><tr><td>&quot;0x0183ff46baa790cc8d893eb1846736c7178e56b06c83be59386e1fe073f48298&quot;</td><td>385896</td><td>2024-04-10 16:15:11.750</td><td>2024-04-10 16:15:12.049</td><td>98.84999999999998</td><td>786432</td><td>1000000000</td><td>51292924936</td><td>2000000000</td><td>51292924936</td><td>&quot;0x5a899e19a9e441f6dd4f49be80bed70d2397b59f3b480057da8e5215f562be80&quot;</td><td>1</td><td>8828476</td><td>2024-04-10 16:15:35</td><td>&quot;0xa9e1d98ebe36060805bdbf71848320379b646d431b5c264d86738e1faadad5f62737696a6ed397a41db3e93cd61d81be&quot;</td><td>0</td><td>23.25</td><td>2</td><td>1.34</td><td>2</td><td>19626356</td><td>&quot;0x5050f69a9786f081509234f1a7f4684b5e5b76c9&quot;</td><td>&quot;0xff00000000000000000000000000000000008453&quot;</td><td>21000</td><td>62</td><td>27490942696</td><td>27490942696</td><td>21000</td><td>6966648</td><td>51292924936</td><td>2000000000</td><td>27.491</td><td>51.293</td><td>2</td></tr><tr><td>&quot;0x013b9159c3f2890c3fdf2452b104f309eea1941e6afb2499ef2b9379becb6cd5&quot;</td><td>385896</td><td>2024-04-10 16:15:11.750</td><td>2024-04-10 16:15:12.049</td><td>98.84999999999998</td><td>786432</td><td>1000000000</td><td>51292924936</td><td>2000000000</td><td>51292924936</td><td>&quot;0x5a899e19a9e441f6dd4f49be80bed70d2397b59f3b480057da8e5215f562be80&quot;</td><td>1</td><td>8828476</td><td>2024-04-10 16:15:35</td><td>&quot;0xb2162f0af1dc6af47382edc3b18db6e50f585e549d8e02d3554eb7d596915c386f342fa24b11386a79fba54b098289f0&quot;</td><td>9032</td><td>23.25</td><td>2</td><td>1.36</td><td>2</td><td>19626356</td><td>&quot;0x5050f69a9786f081509234f1a7f4684b5e5b76c9&quot;</td><td>&quot;0xff00000000000000000000000000000000008453&quot;</td><td>21000</td><td>62</td><td>27490942696</td><td>27490942696</td><td>21000</td><td>6966648</td><td>51292924936</td><td>2000000000</td><td>27.491</td><td>51.293</td><td>2</td></tr></tbody></table></div>"
      ],
      "text/plain": [
       "shape: (5, 34)\n",
       "┌────────────┬────────┬────────────┬───────────┬───┬───────────┬───────────┬───────────┬───────────┐\n",
       "│ versioned_ ┆ nonce  ┆ event_date ┆ event_dat ┆ … ┆ max_prior ┆ effective ┆ max_fee_p ┆ max_prior │\n",
       "│ hash       ┆ ---    ┆ _time_min  ┆ e_time_ma ┆   ┆ ity_fee_p ┆ _gas_pric ┆ er_gas_gw ┆ ity_fee_p │\n",
       "│ ---        ┆ u64    ┆ ---        ┆ x         ┆   ┆ er_gas    ┆ e_gwei    ┆ ei        ┆ er_gas_gw │\n",
       "│ str        ┆        ┆ datetime[m ┆ ---       ┆   ┆ ---       ┆ ---       ┆ ---       ┆ ei        │\n",
       "│            ┆        ┆ s]         ┆ datetime[ ┆   ┆ f64       ┆ f64       ┆ f64       ┆ ---       │\n",
       "│            ┆        ┆            ┆ ms]       ┆   ┆           ┆           ┆           ┆ f64       │\n",
       "╞════════════╪════════╪════════════╪═══════════╪═══╪═══════════╪═══════════╪═══════════╪═══════════╡\n",
       "│ 0x01da7643 ┆ 385896 ┆ 2024-04-10 ┆ 2024-04-1 ┆ … ┆ 200000000 ┆ 27.491    ┆ 51.293    ┆ 2         │\n",
       "│ 623b4cecee ┆        ┆ 16:15:11.7 ┆ 0 16:15:1 ┆   ┆ 0         ┆           ┆           ┆           │\n",
       "│ 8fdb9c7f04 ┆        ┆ 50         ┆ 2.049     ┆   ┆           ┆           ┆           ┆           │\n",
       "│ 7f37f25e9b ┆        ┆            ┆           ┆   ┆           ┆           ┆           ┆           │\n",
       "│ 5b3bb0abf2 ┆        ┆            ┆           ┆   ┆           ┆           ┆           ┆           │\n",
       "│ 903cd6f639 ┆        ┆            ┆           ┆   ┆           ┆           ┆           ┆           │\n",
       "│ 7c8adb     ┆        ┆            ┆           ┆   ┆           ┆           ┆           ┆           │\n",
       "│ 0x01808a2b ┆ 385896 ┆ 2024-04-10 ┆ 2024-04-1 ┆ … ┆ 200000000 ┆ 27.491    ┆ 51.293    ┆ 2         │\n",
       "│ 7281ef3aef ┆        ┆ 16:15:11.7 ┆ 0 16:15:1 ┆   ┆ 0         ┆           ┆           ┆           │\n",
       "│ a6168a6847 ┆        ┆ 50         ┆ 2.049     ┆   ┆           ┆           ┆           ┆           │\n",
       "│ a7c12c768c ┆        ┆            ┆           ┆   ┆           ┆           ┆           ┆           │\n",
       "│ 53a038a730 ┆        ┆            ┆           ┆   ┆           ┆           ┆           ┆           │\n",
       "│ 361234dfe2 ┆        ┆            ┆           ┆   ┆           ┆           ┆           ┆           │\n",
       "│ 7c0c26     ┆        ┆            ┆           ┆   ┆           ┆           ┆           ┆           │\n",
       "│ 0x0163416f ┆ 385896 ┆ 2024-04-10 ┆ 2024-04-1 ┆ … ┆ 200000000 ┆ 27.491    ┆ 51.293    ┆ 2         │\n",
       "│ 790bd3cee8 ┆        ┆ 16:15:11.7 ┆ 0 16:15:1 ┆   ┆ 0         ┆           ┆           ┆           │\n",
       "│ 872fa44d22 ┆        ┆ 50         ┆ 2.049     ┆   ┆           ┆           ┆           ┆           │\n",
       "│ 3aabdd6152 ┆        ┆            ┆           ┆   ┆           ┆           ┆           ┆           │\n",
       "│ f6fbf49e53 ┆        ┆            ┆           ┆   ┆           ┆           ┆           ┆           │\n",
       "│ e41387f55f ┆        ┆            ┆           ┆   ┆           ┆           ┆           ┆           │\n",
       "│ ffcf83     ┆        ┆            ┆           ┆   ┆           ┆           ┆           ┆           │\n",
       "│ 0x0183ff46 ┆ 385896 ┆ 2024-04-10 ┆ 2024-04-1 ┆ … ┆ 200000000 ┆ 27.491    ┆ 51.293    ┆ 2         │\n",
       "│ baa790cc8d ┆        ┆ 16:15:11.7 ┆ 0 16:15:1 ┆   ┆ 0         ┆           ┆           ┆           │\n",
       "│ 893eb18467 ┆        ┆ 50         ┆ 2.049     ┆   ┆           ┆           ┆           ┆           │\n",
       "│ 36c7178e56 ┆        ┆            ┆           ┆   ┆           ┆           ┆           ┆           │\n",
       "│ b06c83be59 ┆        ┆            ┆           ┆   ┆           ┆           ┆           ┆           │\n",
       "│ 386e1fe073 ┆        ┆            ┆           ┆   ┆           ┆           ┆           ┆           │\n",
       "│ f48298     ┆        ┆            ┆           ┆   ┆           ┆           ┆           ┆           │\n",
       "│ 0x013b9159 ┆ 385896 ┆ 2024-04-10 ┆ 2024-04-1 ┆ … ┆ 200000000 ┆ 27.491    ┆ 51.293    ┆ 2         │\n",
       "│ c3f2890c3f ┆        ┆ 16:15:11.7 ┆ 0 16:15:1 ┆   ┆ 0         ┆           ┆           ┆           │\n",
       "│ df2452b104 ┆        ┆ 50         ┆ 2.049     ┆   ┆           ┆           ┆           ┆           │\n",
       "│ f309eea194 ┆        ┆            ┆           ┆   ┆           ┆           ┆           ┆           │\n",
       "│ 1e6afb2499 ┆        ┆            ┆           ┆   ┆           ┆           ┆           ┆           │\n",
       "│ ef2b9379be ┆        ┆            ┆           ┆   ┆           ┆           ┆           ┆           │\n",
       "│ cb6cd5     ┆        ┆            ┆           ┆   ┆           ┆           ┆           ┆           │\n",
       "└────────────┴────────┴────────────┴───────────┴───┴───────────┴───────────┴───────────┴───────────┘"
      ]
     },
     "execution_count": 26,
     "metadata": {},
     "output_type": "execute_result"
    }
   ],
   "source": [
    "slot_inclusion_tx_df.head(5)"
   ]
  },
  {
   "cell_type": "markdown",
   "metadata": {},
   "source": [
    "### Slot Inclusion Time Charts"
   ]
  },
  {
   "cell_type": "code",
   "execution_count": 27,
   "metadata": {},
   "outputs": [],
   "source": [
    "slot_inclusion_line_chart = (\n",
    "    slot_inclusion_tx_df.drop_nulls()\n",
    "    .select(\n",
    "        \"slot time\",\n",
    "        \"slot inclusion rate\",\n",
    "        \"slot inclusion rate (50 blob average)\",\n",
    "        \"slot target inclusion rate (2 slots)\",\n",
    "    )\n",
    "    .plot.line(\n",
    "        x=\"slot time\",\n",
    "        y=[\n",
    "            \"slot inclusion rate\",\n",
    "            \"slot inclusion rate (50 blob average)\",\n",
    "            \"slot target inclusion rate (2 slots)\",\n",
    "        ],\n",
    "        color=[\"blue\", \"red\", \"black\"],\n",
    "        ylabel=\"Beacon Block Inclusion (block)\",\n",
    "        xlabel=\"Slot Date Time\",\n",
    "        title=\"Beacon Slot Inclusion Time\",\n",
    "        # TODO - color by resubmission count\n",
    "        width=1000,\n",
    "        height=400,\n",
    "    )\n",
    ")"
   ]
  },
  {
   "cell_type": "code",
   "execution_count": 28,
   "metadata": {},
   "outputs": [],
   "source": [
    "slot_inclusion_histogram_chart = (\n",
    "    slot_inclusion_tx_df.with_columns(\n",
    "        pl.when(pl.col(\"slot inclusion rate\") > 5)\n",
    "        .then(5)\n",
    "        .otherwise(pl.col(\"slot inclusion rate\"))\n",
    "        .alias(\"slot inclusion rate > 5\"),\n",
    "    )\n",
    ").plot.hist(\n",
    "    \"slot inclusion rate > 5\",\n",
    "    ylabel=\"blob count\",\n",
    "    xlabel=\"slot inclusion rate\",\n",
    "    title=\"Slot Inclusion Distribution (slot inclusion rate > 5 grouped together)\",\n",
    "    bins=40,\n",
    "    width=600,\n",
    "    height=400,\n",
    ")"
   ]
  },
  {
   "cell_type": "markdown",
   "metadata": {},
   "source": [
    "### Slot Inclusion Gas Cost Variance"
   ]
  },
  {
   "cell_type": "code",
   "execution_count": 39,
   "metadata": {},
   "outputs": [],
   "source": [
    "priority_fee_premium_df = slot_inclusion_tx_df.with_columns(\n",
    "    (\n",
    "        (pl.col(\"max_priority_fee_per_gas_gwei\") / pl.col(\"effective_gas_price_gwei\"))\n",
    "        * 100\n",
    "    )\n",
    "    .round(3)\n",
    "    .alias(\"priority_fee_bid_percent_premium\")\n",
    ")"
   ]
  },
  {
   "cell_type": "code",
   "execution_count": 65,
   "metadata": {},
   "outputs": [],
   "source": [
    "gas_fluctuations_chart = (\n",
    "    (\n",
    "        priority_fee_premium_df.select(\n",
    "            \"block_number\",\n",
    "            \"max_priority_fee_per_gas_gwei\",\n",
    "            \"effective_gas_price_gwei\",\n",
    "            \"priority_fee_bid_percent_premium\",\n",
    "            \"slot inclusion rate\",\n",
    "        )\n",
    "        .unique()\n",
    "        .sort(by=\"block_number\")\n",
    "        .with_columns(\n",
    "            (\n",
    "                # estimate min block gas by taking the gwei paid minus the priority fee\n",
    "                pl.col(\"effective_gas_price_gwei\")\n",
    "                - pl.col(\"max_priority_fee_per_gas_gwei\")\n",
    "            ).alias(\"min_block_gas_gwei\")\n",
    "        )\n",
    "        .with_columns(\n",
    "            # calculate per tx gas fluctuations\n",
    "            pl.col(\"min_block_gas_gwei\").diff().abs().alias(\n",
    "                \"gas_fluctuation_gwei\")\n",
    "        )\n",
    "        .with_columns(\n",
    "            (pl.col(\"gas_fluctuation_gwei\") / pl.col(\"min_block_gas_gwei\") * 100).alias(\n",
    "                \"gas_fluctuation_percent\"\n",
    "            )\n",
    "        )\n",
    "    )\n",
    "    .group_by(\"slot inclusion rate\")\n",
    "    .agg(\n",
    "        pl.col(\"gas_fluctuation_percent\").mean(),\n",
    "        pl.col(\"priority_fee_bid_percent_premium\").mean(),\n",
    "    )\n",
    "    .sort(by=\"slot inclusion rate\")\n",
    "    .plot.bar(\n",
    "        x=\"slot inclusion rate\",\n",
    "        y=\"gas_fluctuation_percent\",\n",
    "        ylabel=\"gas fluctuation %\",\n",
    "        title=\"gas fluctuation percent over time\",\n",
    "        width=800,\n",
    "        height=400,\n",
    "    )\n",
    ")\n",
    "\n",
    "priority_fee_premium_chart = (\n",
    "    (\n",
    "        priority_fee_premium_df.select(\n",
    "            \"block_number\",\n",
    "            \"max_priority_fee_per_gas_gwei\",\n",
    "            \"effective_gas_price_gwei\",\n",
    "            \"priority_fee_bid_percent_premium\",\n",
    "            \"slot inclusion rate\",\n",
    "        )\n",
    "        .unique()\n",
    "        .sort(by=\"block_number\")\n",
    "        .with_columns(\n",
    "            (\n",
    "                # estimate min block gas by taking the gwei paid minus the priority fee\n",
    "                pl.col(\"effective_gas_price_gwei\")\n",
    "                - pl.col(\"max_priority_fee_per_gas_gwei\")\n",
    "            ).alias(\"min_block_gas_gwei\")\n",
    "        )\n",
    "        .with_columns(\n",
    "            # calculate per tx gas fluctuations\n",
    "            pl.col(\"min_block_gas_gwei\").diff().abs().alias(\n",
    "                \"gas_fluctuation_gwei\")\n",
    "        )\n",
    "        .with_columns(\n",
    "            (pl.col(\"gas_fluctuation_gwei\") / pl.col(\"min_block_gas_gwei\") * 100).alias(\n",
    "                \"gas_fluctuation_percent\"\n",
    "            )\n",
    "        )\n",
    "    )\n",
    "    .group_by(\"slot inclusion rate\")\n",
    "    .agg(\n",
    "        pl.col(\"gas_fluctuation_percent\").mean(),\n",
    "        pl.col(\"priority_fee_bid_percent_premium\").mean(),\n",
    "    )\n",
    "    .sort(by=\"slot inclusion rate\")\n",
    "    .plot.bar(\n",
    "        x=\"slot inclusion rate\",\n",
    "        y=\"priority_fee_bid_percent_premium\",\n",
    "        ylabel=\"priority fee bid premium %\",\n",
    "        title=\"priority fee bid premium over time\",\n",
    "        width=800,\n",
    "        height=400,\n",
    "    )\n",
    ")"
   ]
  },
  {
   "cell_type": "markdown",
   "metadata": {},
   "source": [
    "### Assemble Dashboard"
   ]
  },
  {
   "cell_type": "code",
   "execution_count": 68,
   "metadata": {},
   "outputs": [],
   "source": [
    "dash = pn.Column(\n",
    "    pn.pane.Markdown(\n",
    "        \"\"\"\n",
    "        # Blob Inclusion Dashboard\n",
    "        When a transaction is resubmitted with updated gas parameters, the transaction hash changes. \n",
    "        For example take this blob reference hash - 0x01c738cf37c911334c771f2295c060e5bd7d084f347e4334863336724934c59a. On [etherscan](https://etherscan.io/tx/0x763d823c0f933c4d2eb84406b37aa2649753f2f563fa3ee6d27251c6a52a8d69) \n",
    "        we can see that the transaction was replaced by the user. We can see on Ethernow that the transaction contains the same \n",
    "        blob reference hash in both the [original tx](https://www.ethernow.xyz/tx/0x763d823c0f933c4d2eb84406b37aa2649753f2f563fa3ee6d27251c6a52a8d69?batchIndex=1) and the [resubmitted tx](https://www.ethernow.xyz/tx/0x5a4094662bd05ff3639a8979927ab527e007a6925387951a9c1b3d2958b13a86?batchIndex=1).\n",
    "        \n",
    "        We can measure the total time that a blob hash sat in the mempool by subtracting the original tx was first seen from the slot time, when it eventually is finalized on the beacon chain. \n",
    "        In this particular example, the total time that the blob sat in the mempool was not from 18:56:27 to 18:57:11 (4 slots), but really 18:54:29 to 18:57:11 (14 slots)\n",
    "        \"\"\"\n",
    "    ),\n",
    "    pn.Column(\n",
    "        pn.pane.Markdown(\n",
    "            \"\"\"\n",
    "        ## Slot Inclusion Time Charts\n",
    "        This time-series chart to the left shows the slot inclusion performance over time from when it's first seen in the mempool to when it gets finalized in the beacon block.\n",
    "        A 50 blob slot inclusion average is taken to smooth out the performance. The target slot inclusion rate is 2. To the right is the overall distribution of the slot inclusion rate.\n",
    "        While a lot of blobs get finalized on the beacon chain within 1-2 blocks, there are still a non-trivial amount of outliers that can take upwards of 5-10 blocks before finalizing.\n",
    "        \"\"\"\n",
    "        ),\n",
    "        pn.Row(slot_inclusion_line_chart, slot_inclusion_histogram_chart),\n",
    "        pn.pane.Markdown(\n",
    "            \"\"\"\n",
    "        ## Slot Inclusion Gas Cost Variance\n",
    "        These histogram charts show the distribution of gas fluctuations and priority fee bid premiums over time over the slot inclusion rate period. The left histogram shows the gas variance over time.\n",
    "        The higher the gas variance over the slot inclusion period, the more likely it is that the gas parameters will be out of date and need to be resubmitted. The right histogram shows the \n",
    "        priority fee bid premium over time. There isn't a strong correlation between higher priority fee bid premiums and faster slot inclusion rates. However the longer the slot inclusion rate is, the\n",
    "        more likely that the priority fee bid that is submitted will be inefficient with respect to the current gas market conditions. \n",
    "        \"\"\"\n",
    "        ),\n",
    "        pn.Row(gas_fluctuations_chart, priority_fee_premium_chart),\n",
    "    ),\n",
    ")"
   ]
  },
  {
   "cell_type": "code",
   "execution_count": 69,
   "metadata": {},
   "outputs": [
    {
     "data": {
      "application/vnd.jupyter.widget-view+json": {
       "model_id": "be6e13b1685c4d8a8ed947c1cdd09dd7",
       "version_major": 2,
       "version_minor": 0
      },
      "text/plain": [
       "BokehModel(combine_events=True, render_bundle={'docs_json': {'e60749a5-fab9-47bd-8a56-cc49bf281917': {'version…"
      ]
     },
     "execution_count": 69,
     "metadata": {},
     "output_type": "execute_result"
    }
   ],
   "source": [
    "# dash.show()\n",
    "dash.servable()"
   ]
  },
  {
   "cell_type": "code",
   "execution_count": null,
   "metadata": {},
   "outputs": [],
   "source": []
  },
  {
   "cell_type": "code",
   "execution_count": null,
   "metadata": {},
   "outputs": [],
   "source": []
  },
  {
   "cell_type": "code",
   "execution_count": null,
   "metadata": {},
   "outputs": [],
   "source": []
  }
 ],
 "metadata": {
  "kernelspec": {
   "display_name": ".venv",
   "language": "python",
   "name": "python3"
  },
  "language_info": {
   "codemirror_mode": {
    "name": "ipython",
    "version": 3
   },
   "file_extension": ".py",
   "mimetype": "text/x-python",
   "name": "python",
   "nbconvert_exporter": "python",
   "pygments_lexer": "ipython3",
   "version": "3.11.8"
  }
 },
 "nbformat": 4,
 "nbformat_minor": 2
}
