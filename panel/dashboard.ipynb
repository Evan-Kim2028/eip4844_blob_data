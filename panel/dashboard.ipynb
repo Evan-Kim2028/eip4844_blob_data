{
 "cells": [
  {
   "cell_type": "code",
   "execution_count": 1,
   "metadata": {},
   "outputs": [
    {
     "data": {
      "application/javascript": "(function(root) {\n  function now() {\n    return new Date();\n  }\n\n  var force = true;\n  var py_version = '3.4.0'.replace('rc', '-rc.').replace('.dev', '-dev.');\n  var reloading = false;\n  var Bokeh = root.Bokeh;\n\n  if (typeof (root._bokeh_timeout) === \"undefined\" || force) {\n    root._bokeh_timeout = Date.now() + 5000;\n    root._bokeh_failed_load = false;\n  }\n\n  function run_callbacks() {\n    try {\n      root._bokeh_onload_callbacks.forEach(function(callback) {\n        if (callback != null)\n          callback();\n      });\n    } finally {\n      delete root._bokeh_onload_callbacks;\n    }\n    console.debug(\"Bokeh: all callbacks have finished\");\n  }\n\n  function load_libs(css_urls, js_urls, js_modules, js_exports, callback) {\n    if (css_urls == null) css_urls = [];\n    if (js_urls == null) js_urls = [];\n    if (js_modules == null) js_modules = [];\n    if (js_exports == null) js_exports = {};\n\n    root._bokeh_onload_callbacks.push(callback);\n\n    if (root._bokeh_is_loading > 0) {\n      console.debug(\"Bokeh: BokehJS is being loaded, scheduling callback at\", now());\n      return null;\n    }\n    if (js_urls.length === 0 && js_modules.length === 0 && Object.keys(js_exports).length === 0) {\n      run_callbacks();\n      return null;\n    }\n    if (!reloading) {\n      console.debug(\"Bokeh: BokehJS not loaded, scheduling load and callback at\", now());\n    }\n\n    function on_load() {\n      root._bokeh_is_loading--;\n      if (root._bokeh_is_loading === 0) {\n        console.debug(\"Bokeh: all BokehJS libraries/stylesheets loaded\");\n        run_callbacks()\n      }\n    }\n    window._bokeh_on_load = on_load\n\n    function on_error() {\n      console.error(\"failed to load \" + url);\n    }\n\n    var skip = [];\n    if (window.requirejs) {\n      window.requirejs.config({'packages': {}, 'paths': {'plotly': 'https://cdn.plot.ly/plotly-2.25.2.min'}, 'shim': {}});\n      require([\"plotly\"], function(Plotly) {\n\twindow.Plotly = Plotly\n\ton_load()\n      })\n      root._bokeh_is_loading = css_urls.length + 1;\n    } else {\n      root._bokeh_is_loading = css_urls.length + js_urls.length + js_modules.length + Object.keys(js_exports).length;\n    }\n\n    var existing_stylesheets = []\n    var links = document.getElementsByTagName('link')\n    for (var i = 0; i < links.length; i++) {\n      var link = links[i]\n      if (link.href != null) {\n\texisting_stylesheets.push(link.href)\n      }\n    }\n    for (var i = 0; i < css_urls.length; i++) {\n      var url = css_urls[i];\n      if (existing_stylesheets.indexOf(url) !== -1) {\n\ton_load()\n\tcontinue;\n      }\n      const element = document.createElement(\"link\");\n      element.onload = on_load;\n      element.onerror = on_error;\n      element.rel = \"stylesheet\";\n      element.type = \"text/css\";\n      element.href = url;\n      console.debug(\"Bokeh: injecting link tag for BokehJS stylesheet: \", url);\n      document.body.appendChild(element);\n    }    if (((window.Plotly !== undefined) && (!(window.Plotly instanceof HTMLElement))) || window.requirejs) {\n      var urls = ['https://cdn.holoviz.org/panel/1.4.1/dist/bundled/plotlyplot/plotly-2.25.2.min.js'];\n      for (var i = 0; i < urls.length; i++) {\n        skip.push(urls[i])\n      }\n    }    var existing_scripts = []\n    var scripts = document.getElementsByTagName('script')\n    for (var i = 0; i < scripts.length; i++) {\n      var script = scripts[i]\n      if (script.src != null) {\n\texisting_scripts.push(script.src)\n      }\n    }\n    for (var i = 0; i < js_urls.length; i++) {\n      var url = js_urls[i];\n      if (skip.indexOf(url) !== -1 || existing_scripts.indexOf(url) !== -1) {\n\tif (!window.requirejs) {\n\t  on_load();\n\t}\n\tcontinue;\n      }\n      var element = document.createElement('script');\n      element.onload = on_load;\n      element.onerror = on_error;\n      element.async = false;\n      element.src = url;\n      console.debug(\"Bokeh: injecting script tag for BokehJS library: \", url);\n      document.head.appendChild(element);\n    }\n    for (var i = 0; i < js_modules.length; i++) {\n      var url = js_modules[i];\n      if (skip.indexOf(url) !== -1 || existing_scripts.indexOf(url) !== -1) {\n\tif (!window.requirejs) {\n\t  on_load();\n\t}\n\tcontinue;\n      }\n      var element = document.createElement('script');\n      element.onload = on_load;\n      element.onerror = on_error;\n      element.async = false;\n      element.src = url;\n      element.type = \"module\";\n      console.debug(\"Bokeh: injecting script tag for BokehJS library: \", url);\n      document.head.appendChild(element);\n    }\n    for (const name in js_exports) {\n      var url = js_exports[name];\n      if (skip.indexOf(url) >= 0 || root[name] != null) {\n\tif (!window.requirejs) {\n\t  on_load();\n\t}\n\tcontinue;\n      }\n      var element = document.createElement('script');\n      element.onerror = on_error;\n      element.async = false;\n      element.type = \"module\";\n      console.debug(\"Bokeh: injecting script tag for BokehJS library: \", url);\n      element.textContent = `\n      import ${name} from \"${url}\"\n      window.${name} = ${name}\n      window._bokeh_on_load()\n      `\n      document.head.appendChild(element);\n    }\n    if (!js_urls.length && !js_modules.length) {\n      on_load()\n    }\n  };\n\n  function inject_raw_css(css) {\n    const element = document.createElement(\"style\");\n    element.appendChild(document.createTextNode(css));\n    document.body.appendChild(element);\n  }\n\n  var js_urls = [\"https://cdn.holoviz.org/panel/1.4.1/dist/bundled/jquery/jquery.slim.min.js\", \"https://cdn.holoviz.org/panel/1.4.1/dist/bundled/plotlyplot/plotly-2.25.2.min.js\", \"https://cdn.bokeh.org/bokeh/release/bokeh-3.4.0.min.js\", \"https://cdn.bokeh.org/bokeh/release/bokeh-gl-3.4.0.min.js\", \"https://cdn.bokeh.org/bokeh/release/bokeh-widgets-3.4.0.min.js\", \"https://cdn.bokeh.org/bokeh/release/bokeh-tables-3.4.0.min.js\", \"https://cdn.holoviz.org/panel/1.4.1/dist/panel.min.js\"];\n  var js_modules = [];\n  var js_exports = {};\n  var css_urls = [];\n  var inline_js = [    function(Bokeh) {\n      Bokeh.set_log_level(\"info\");\n    },\nfunction(Bokeh) {} // ensure no trailing comma for IE\n  ];\n\n  function run_inline_js() {\n    if ((root.Bokeh !== undefined) || (force === true)) {\n      for (var i = 0; i < inline_js.length; i++) {\n\ttry {\n          inline_js[i].call(root, root.Bokeh);\n\t} catch(e) {\n\t  if (!reloading) {\n\t    throw e;\n\t  }\n\t}\n      }\n      // Cache old bokeh versions\n      if (Bokeh != undefined && !reloading) {\n\tvar NewBokeh = root.Bokeh;\n\tif (Bokeh.versions === undefined) {\n\t  Bokeh.versions = new Map();\n\t}\n\tif (NewBokeh.version !== Bokeh.version) {\n\t  Bokeh.versions.set(NewBokeh.version, NewBokeh)\n\t}\n\troot.Bokeh = Bokeh;\n      }} else if (Date.now() < root._bokeh_timeout) {\n      setTimeout(run_inline_js, 100);\n    } else if (!root._bokeh_failed_load) {\n      console.log(\"Bokeh: BokehJS failed to load within specified timeout.\");\n      root._bokeh_failed_load = true;\n    }\n    root._bokeh_is_initializing = false\n  }\n\n  function load_or_wait() {\n    // Implement a backoff loop that tries to ensure we do not load multiple\n    // versions of Bokeh and its dependencies at the same time.\n    // In recent versions we use the root._bokeh_is_initializing flag\n    // to determine whether there is an ongoing attempt to initialize\n    // bokeh, however for backward compatibility we also try to ensure\n    // that we do not start loading a newer (Panel>=1.0 and Bokeh>3) version\n    // before older versions are fully initialized.\n    if (root._bokeh_is_initializing && Date.now() > root._bokeh_timeout) {\n      root._bokeh_is_initializing = false;\n      root._bokeh_onload_callbacks = undefined;\n      console.log(\"Bokeh: BokehJS was loaded multiple times but one version failed to initialize.\");\n      load_or_wait();\n    } else if (root._bokeh_is_initializing || (typeof root._bokeh_is_initializing === \"undefined\" && root._bokeh_onload_callbacks !== undefined)) {\n      setTimeout(load_or_wait, 100);\n    } else {\n      root._bokeh_is_initializing = true\n      root._bokeh_onload_callbacks = []\n      var bokeh_loaded = Bokeh != null && (Bokeh.version === py_version || (Bokeh.versions !== undefined && Bokeh.versions.has(py_version)));\n      if (!reloading && !bokeh_loaded) {\n\troot.Bokeh = undefined;\n      }\n      load_libs(css_urls, js_urls, js_modules, js_exports, function() {\n\tconsole.debug(\"Bokeh: BokehJS plotting callback run at\", now());\n\trun_inline_js();\n      });\n    }\n  }\n  // Give older versions of the autoload script a head-start to ensure\n  // they initialize before we start loading newer version.\n  setTimeout(load_or_wait, 100)\n}(window));",
      "application/vnd.holoviews_load.v0+json": ""
     },
     "metadata": {},
     "output_type": "display_data"
    },
    {
     "data": {
      "application/javascript": "\nif ((window.PyViz === undefined) || (window.PyViz instanceof HTMLElement)) {\n  window.PyViz = {comms: {}, comm_status:{}, kernels:{}, receivers: {}, plot_index: []}\n}\n\n\n    function JupyterCommManager() {\n    }\n\n    JupyterCommManager.prototype.register_target = function(plot_id, comm_id, msg_handler) {\n      if (window.comm_manager || ((window.Jupyter !== undefined) && (Jupyter.notebook.kernel != null))) {\n        var comm_manager = window.comm_manager || Jupyter.notebook.kernel.comm_manager;\n        comm_manager.register_target(comm_id, function(comm) {\n          comm.on_msg(msg_handler);\n        });\n      } else if ((plot_id in window.PyViz.kernels) && (window.PyViz.kernels[plot_id])) {\n        window.PyViz.kernels[plot_id].registerCommTarget(comm_id, function(comm) {\n          comm.onMsg = msg_handler;\n        });\n      } else if (typeof google != 'undefined' && google.colab.kernel != null) {\n        google.colab.kernel.comms.registerTarget(comm_id, (comm) => {\n          var messages = comm.messages[Symbol.asyncIterator]();\n          function processIteratorResult(result) {\n            var message = result.value;\n            console.log(message)\n            var content = {data: message.data, comm_id};\n            var buffers = []\n            for (var buffer of message.buffers || []) {\n              buffers.push(new DataView(buffer))\n            }\n            var metadata = message.metadata || {};\n            var msg = {content, buffers, metadata}\n            msg_handler(msg);\n            return messages.next().then(processIteratorResult);\n          }\n          return messages.next().then(processIteratorResult);\n        })\n      }\n    }\n\n    JupyterCommManager.prototype.get_client_comm = function(plot_id, comm_id, msg_handler) {\n      if (comm_id in window.PyViz.comms) {\n        return window.PyViz.comms[comm_id];\n      } else if (window.comm_manager || ((window.Jupyter !== undefined) && (Jupyter.notebook.kernel != null))) {\n        var comm_manager = window.comm_manager || Jupyter.notebook.kernel.comm_manager;\n        var comm = comm_manager.new_comm(comm_id, {}, {}, {}, comm_id);\n        if (msg_handler) {\n          comm.on_msg(msg_handler);\n        }\n      } else if ((plot_id in window.PyViz.kernels) && (window.PyViz.kernels[plot_id])) {\n        var comm = window.PyViz.kernels[plot_id].connectToComm(comm_id);\n        comm.open();\n        if (msg_handler) {\n          comm.onMsg = msg_handler;\n        }\n      } else if (typeof google != 'undefined' && google.colab.kernel != null) {\n        var comm_promise = google.colab.kernel.comms.open(comm_id)\n        comm_promise.then((comm) => {\n          window.PyViz.comms[comm_id] = comm;\n          if (msg_handler) {\n            var messages = comm.messages[Symbol.asyncIterator]();\n            function processIteratorResult(result) {\n              var message = result.value;\n              var content = {data: message.data};\n              var metadata = message.metadata || {comm_id};\n              var msg = {content, metadata}\n              msg_handler(msg);\n              return messages.next().then(processIteratorResult);\n            }\n            return messages.next().then(processIteratorResult);\n          }\n        }) \n        var sendClosure = (data, metadata, buffers, disposeOnDone) => {\n          return comm_promise.then((comm) => {\n            comm.send(data, metadata, buffers, disposeOnDone);\n          });\n        };\n        var comm = {\n          send: sendClosure\n        };\n      }\n      window.PyViz.comms[comm_id] = comm;\n      return comm;\n    }\n    window.PyViz.comm_manager = new JupyterCommManager();\n    \n\n\nvar JS_MIME_TYPE = 'application/javascript';\nvar HTML_MIME_TYPE = 'text/html';\nvar EXEC_MIME_TYPE = 'application/vnd.holoviews_exec.v0+json';\nvar CLASS_NAME = 'output';\n\n/**\n * Render data to the DOM node\n */\nfunction render(props, node) {\n  var div = document.createElement(\"div\");\n  var script = document.createElement(\"script\");\n  node.appendChild(div);\n  node.appendChild(script);\n}\n\n/**\n * Handle when a new output is added\n */\nfunction handle_add_output(event, handle) {\n  var output_area = handle.output_area;\n  var output = handle.output;\n  if ((output.data == undefined) || (!output.data.hasOwnProperty(EXEC_MIME_TYPE))) {\n    return\n  }\n  var id = output.metadata[EXEC_MIME_TYPE][\"id\"];\n  var toinsert = output_area.element.find(\".\" + CLASS_NAME.split(' ')[0]);\n  if (id !== undefined) {\n    var nchildren = toinsert.length;\n    var html_node = toinsert[nchildren-1].children[0];\n    html_node.innerHTML = output.data[HTML_MIME_TYPE];\n    var scripts = [];\n    var nodelist = html_node.querySelectorAll(\"script\");\n    for (var i in nodelist) {\n      if (nodelist.hasOwnProperty(i)) {\n        scripts.push(nodelist[i])\n      }\n    }\n\n    scripts.forEach( function (oldScript) {\n      var newScript = document.createElement(\"script\");\n      var attrs = [];\n      var nodemap = oldScript.attributes;\n      for (var j in nodemap) {\n        if (nodemap.hasOwnProperty(j)) {\n          attrs.push(nodemap[j])\n        }\n      }\n      attrs.forEach(function(attr) { newScript.setAttribute(attr.name, attr.value) });\n      newScript.appendChild(document.createTextNode(oldScript.innerHTML));\n      oldScript.parentNode.replaceChild(newScript, oldScript);\n    });\n    if (JS_MIME_TYPE in output.data) {\n      toinsert[nchildren-1].children[1].textContent = output.data[JS_MIME_TYPE];\n    }\n    output_area._hv_plot_id = id;\n    if ((window.Bokeh !== undefined) && (id in Bokeh.index)) {\n      window.PyViz.plot_index[id] = Bokeh.index[id];\n    } else {\n      window.PyViz.plot_index[id] = null;\n    }\n  } else if (output.metadata[EXEC_MIME_TYPE][\"server_id\"] !== undefined) {\n    var bk_div = document.createElement(\"div\");\n    bk_div.innerHTML = output.data[HTML_MIME_TYPE];\n    var script_attrs = bk_div.children[0].attributes;\n    for (var i = 0; i < script_attrs.length; i++) {\n      toinsert[toinsert.length - 1].childNodes[1].setAttribute(script_attrs[i].name, script_attrs[i].value);\n    }\n    // store reference to server id on output_area\n    output_area._bokeh_server_id = output.metadata[EXEC_MIME_TYPE][\"server_id\"];\n  }\n}\n\n/**\n * Handle when an output is cleared or removed\n */\nfunction handle_clear_output(event, handle) {\n  var id = handle.cell.output_area._hv_plot_id;\n  var server_id = handle.cell.output_area._bokeh_server_id;\n  if (((id === undefined) || !(id in PyViz.plot_index)) && (server_id !== undefined)) { return; }\n  var comm = window.PyViz.comm_manager.get_client_comm(\"hv-extension-comm\", \"hv-extension-comm\", function () {});\n  if (server_id !== null) {\n    comm.send({event_type: 'server_delete', 'id': server_id});\n    return;\n  } else if (comm !== null) {\n    comm.send({event_type: 'delete', 'id': id});\n  }\n  delete PyViz.plot_index[id];\n  if ((window.Bokeh !== undefined) & (id in window.Bokeh.index)) {\n    var doc = window.Bokeh.index[id].model.document\n    doc.clear();\n    const i = window.Bokeh.documents.indexOf(doc);\n    if (i > -1) {\n      window.Bokeh.documents.splice(i, 1);\n    }\n  }\n}\n\n/**\n * Handle kernel restart event\n */\nfunction handle_kernel_cleanup(event, handle) {\n  delete PyViz.comms[\"hv-extension-comm\"];\n  window.PyViz.plot_index = {}\n}\n\n/**\n * Handle update_display_data messages\n */\nfunction handle_update_output(event, handle) {\n  handle_clear_output(event, {cell: {output_area: handle.output_area}})\n  handle_add_output(event, handle)\n}\n\nfunction register_renderer(events, OutputArea) {\n  function append_mime(data, metadata, element) {\n    // create a DOM node to render to\n    var toinsert = this.create_output_subarea(\n    metadata,\n    CLASS_NAME,\n    EXEC_MIME_TYPE\n    );\n    this.keyboard_manager.register_events(toinsert);\n    // Render to node\n    var props = {data: data, metadata: metadata[EXEC_MIME_TYPE]};\n    render(props, toinsert[0]);\n    element.append(toinsert);\n    return toinsert\n  }\n\n  events.on('output_added.OutputArea', handle_add_output);\n  events.on('output_updated.OutputArea', handle_update_output);\n  events.on('clear_output.CodeCell', handle_clear_output);\n  events.on('delete.Cell', handle_clear_output);\n  events.on('kernel_ready.Kernel', handle_kernel_cleanup);\n\n  OutputArea.prototype.register_mime_type(EXEC_MIME_TYPE, append_mime, {\n    safe: true,\n    index: 0\n  });\n}\n\nif (window.Jupyter !== undefined) {\n  try {\n    var events = require('base/js/events');\n    var OutputArea = require('notebook/js/outputarea').OutputArea;\n    if (OutputArea.prototype.mime_types().indexOf(EXEC_MIME_TYPE) == -1) {\n      register_renderer(events, OutputArea);\n    }\n  } catch(err) {\n  }\n}\n",
      "application/vnd.holoviews_load.v0+json": ""
     },
     "metadata": {},
     "output_type": "display_data"
    },
    {
     "data": {
      "text/html": [
       "<style>*[data-root-id],\n",
       "*[data-root-id] > * {\n",
       "  box-sizing: border-box;\n",
       "  font-family: var(--jp-ui-font-family);\n",
       "  font-size: var(--jp-ui-font-size1);\n",
       "  color: var(--vscode-editor-foreground, var(--jp-ui-font-color1));\n",
       "}\n",
       "\n",
       "/* Override VSCode background color */\n",
       ".cell-output-ipywidget-background:has(\n",
       "    > .cell-output-ipywidget-background > .lm-Widget > *[data-root-id]\n",
       "  ),\n",
       ".cell-output-ipywidget-background:has(> .lm-Widget > *[data-root-id]) {\n",
       "  background-color: transparent !important;\n",
       "}\n",
       "</style>"
      ]
     },
     "metadata": {},
     "output_type": "display_data"
    },
    {
     "data": {
      "application/vnd.holoviews_exec.v0+json": "",
      "text/html": [
       "<div id='f8ad7e72-899e-4f59-9346-d06b9733db4b'>\n",
       "  <div id=\"f5004588-2e39-4a27-90d7-7c388332b479\" data-root-id=\"f8ad7e72-899e-4f59-9346-d06b9733db4b\" style=\"display: contents;\"></div>\n",
       "</div>\n",
       "<script type=\"application/javascript\">(function(root) {\n",
       "  var docs_json = {\"579c8575-322a-48c7-99ca-52e70ee2fafd\":{\"version\":\"3.4.0\",\"title\":\"Bokeh Application\",\"roots\":[{\"type\":\"object\",\"name\":\"panel.models.browser.BrowserInfo\",\"id\":\"f8ad7e72-899e-4f59-9346-d06b9733db4b\"},{\"type\":\"object\",\"name\":\"panel.models.comm_manager.CommManager\",\"id\":\"b69c99b1-06ca-49e1-a6fb-45de9f95281f\",\"attributes\":{\"plot_id\":\"f8ad7e72-899e-4f59-9346-d06b9733db4b\",\"comm_id\":\"156d382612634da2a622945b00bf966a\",\"client_comm_id\":\"e227d18748c2470fa582d1314828f478\"}}],\"defs\":[{\"type\":\"model\",\"name\":\"ReactiveHTML1\"},{\"type\":\"model\",\"name\":\"FlexBox1\",\"properties\":[{\"name\":\"align_content\",\"kind\":\"Any\",\"default\":\"flex-start\"},{\"name\":\"align_items\",\"kind\":\"Any\",\"default\":\"flex-start\"},{\"name\":\"flex_direction\",\"kind\":\"Any\",\"default\":\"row\"},{\"name\":\"flex_wrap\",\"kind\":\"Any\",\"default\":\"wrap\"},{\"name\":\"gap\",\"kind\":\"Any\",\"default\":\"\"},{\"name\":\"justify_content\",\"kind\":\"Any\",\"default\":\"flex-start\"}]},{\"type\":\"model\",\"name\":\"FloatPanel1\",\"properties\":[{\"name\":\"config\",\"kind\":\"Any\",\"default\":{\"type\":\"map\"}},{\"name\":\"contained\",\"kind\":\"Any\",\"default\":true},{\"name\":\"position\",\"kind\":\"Any\",\"default\":\"right-top\"},{\"name\":\"offsetx\",\"kind\":\"Any\",\"default\":null},{\"name\":\"offsety\",\"kind\":\"Any\",\"default\":null},{\"name\":\"theme\",\"kind\":\"Any\",\"default\":\"primary\"},{\"name\":\"status\",\"kind\":\"Any\",\"default\":\"normalized\"}]},{\"type\":\"model\",\"name\":\"GridStack1\",\"properties\":[{\"name\":\"mode\",\"kind\":\"Any\",\"default\":\"warn\"},{\"name\":\"ncols\",\"kind\":\"Any\",\"default\":null},{\"name\":\"nrows\",\"kind\":\"Any\",\"default\":null},{\"name\":\"allow_resize\",\"kind\":\"Any\",\"default\":true},{\"name\":\"allow_drag\",\"kind\":\"Any\",\"default\":true},{\"name\":\"state\",\"kind\":\"Any\",\"default\":[]}]},{\"type\":\"model\",\"name\":\"drag1\",\"properties\":[{\"name\":\"slider_width\",\"kind\":\"Any\",\"default\":5},{\"name\":\"slider_color\",\"kind\":\"Any\",\"default\":\"black\"},{\"name\":\"value\",\"kind\":\"Any\",\"default\":50}]},{\"type\":\"model\",\"name\":\"click1\",\"properties\":[{\"name\":\"terminal_output\",\"kind\":\"Any\",\"default\":\"\"},{\"name\":\"debug_name\",\"kind\":\"Any\",\"default\":\"\"},{\"name\":\"clears\",\"kind\":\"Any\",\"default\":0}]},{\"type\":\"model\",\"name\":\"FastWrapper1\",\"properties\":[{\"name\":\"object\",\"kind\":\"Any\",\"default\":null},{\"name\":\"style\",\"kind\":\"Any\",\"default\":null}]},{\"type\":\"model\",\"name\":\"NotificationAreaBase1\",\"properties\":[{\"name\":\"js_events\",\"kind\":\"Any\",\"default\":{\"type\":\"map\"}},{\"name\":\"position\",\"kind\":\"Any\",\"default\":\"bottom-right\"},{\"name\":\"_clear\",\"kind\":\"Any\",\"default\":0}]},{\"type\":\"model\",\"name\":\"NotificationArea1\",\"properties\":[{\"name\":\"js_events\",\"kind\":\"Any\",\"default\":{\"type\":\"map\"}},{\"name\":\"notifications\",\"kind\":\"Any\",\"default\":[]},{\"name\":\"position\",\"kind\":\"Any\",\"default\":\"bottom-right\"},{\"name\":\"_clear\",\"kind\":\"Any\",\"default\":0},{\"name\":\"types\",\"kind\":\"Any\",\"default\":[{\"type\":\"map\",\"entries\":[[\"type\",\"warning\"],[\"background\",\"#ffc107\"],[\"icon\",{\"type\":\"map\",\"entries\":[[\"className\",\"fas fa-exclamation-triangle\"],[\"tagName\",\"i\"],[\"color\",\"white\"]]}]]},{\"type\":\"map\",\"entries\":[[\"type\",\"info\"],[\"background\",\"#007bff\"],[\"icon\",{\"type\":\"map\",\"entries\":[[\"className\",\"fas fa-info-circle\"],[\"tagName\",\"i\"],[\"color\",\"white\"]]}]]}]}]},{\"type\":\"model\",\"name\":\"Notification\",\"properties\":[{\"name\":\"background\",\"kind\":\"Any\",\"default\":null},{\"name\":\"duration\",\"kind\":\"Any\",\"default\":3000},{\"name\":\"icon\",\"kind\":\"Any\",\"default\":null},{\"name\":\"message\",\"kind\":\"Any\",\"default\":\"\"},{\"name\":\"notification_type\",\"kind\":\"Any\",\"default\":null},{\"name\":\"_destroyed\",\"kind\":\"Any\",\"default\":false}]},{\"type\":\"model\",\"name\":\"TemplateActions1\",\"properties\":[{\"name\":\"open_modal\",\"kind\":\"Any\",\"default\":0},{\"name\":\"close_modal\",\"kind\":\"Any\",\"default\":0}]},{\"type\":\"model\",\"name\":\"BootstrapTemplateActions1\",\"properties\":[{\"name\":\"open_modal\",\"kind\":\"Any\",\"default\":0},{\"name\":\"close_modal\",\"kind\":\"Any\",\"default\":0}]},{\"type\":\"model\",\"name\":\"TemplateEditor1\",\"properties\":[{\"name\":\"layout\",\"kind\":\"Any\",\"default\":[]}]},{\"type\":\"model\",\"name\":\"MaterialTemplateActions1\",\"properties\":[{\"name\":\"open_modal\",\"kind\":\"Any\",\"default\":0},{\"name\":\"close_modal\",\"kind\":\"Any\",\"default\":0}]},{\"type\":\"model\",\"name\":\"copy_to_clipboard1\",\"properties\":[{\"name\":\"fill\",\"kind\":\"Any\",\"default\":\"none\"},{\"name\":\"value\",\"kind\":\"Any\",\"default\":null}]}]}};\n",
       "  var render_items = [{\"docid\":\"579c8575-322a-48c7-99ca-52e70ee2fafd\",\"roots\":{\"f8ad7e72-899e-4f59-9346-d06b9733db4b\":\"f5004588-2e39-4a27-90d7-7c388332b479\"},\"root_ids\":[\"f8ad7e72-899e-4f59-9346-d06b9733db4b\"]}];\n",
       "  var docs = Object.values(docs_json)\n",
       "  if (!docs) {\n",
       "    return\n",
       "  }\n",
       "  const py_version = docs[0].version.replace('rc', '-rc.').replace('.dev', '-dev.')\n",
       "  function embed_document(root) {\n",
       "    var Bokeh = get_bokeh(root)\n",
       "    Bokeh.embed.embed_items_notebook(docs_json, render_items);\n",
       "    for (const render_item of render_items) {\n",
       "      for (const root_id of render_item.root_ids) {\n",
       "\tconst id_el = document.getElementById(root_id)\n",
       "\tif (id_el.children.length && (id_el.children[0].className === 'bk-root')) {\n",
       "\t  const root_el = id_el.children[0]\n",
       "\t  root_el.id = root_el.id + '-rendered'\n",
       "\t}\n",
       "      }\n",
       "    }\n",
       "  }\n",
       "  function get_bokeh(root) {\n",
       "    if (root.Bokeh === undefined) {\n",
       "      return null\n",
       "    } else if (root.Bokeh.version !== py_version) {\n",
       "      if (root.Bokeh.versions === undefined || !root.Bokeh.versions.has(py_version)) {\n",
       "\treturn null\n",
       "      }\n",
       "      return root.Bokeh.versions.get(py_version);\n",
       "    } else if (root.Bokeh.version === py_version) {\n",
       "      return root.Bokeh\n",
       "    }\n",
       "    return null\n",
       "  }\n",
       "  function is_loaded(root) {\n",
       "    var Bokeh = get_bokeh(root)\n",
       "    return (Bokeh != null && Bokeh.Panel !== undefined && ( root.Plotly !== undefined) && ( root.Plotly !== undefined))\n",
       "  }\n",
       "  if (is_loaded(root)) {\n",
       "    embed_document(root);\n",
       "  } else {\n",
       "    var attempts = 0;\n",
       "    var timer = setInterval(function(root) {\n",
       "      if (is_loaded(root)) {\n",
       "        clearInterval(timer);\n",
       "        embed_document(root);\n",
       "      } else if (document.readyState == \"complete\") {\n",
       "        attempts++;\n",
       "        if (attempts > 200) {\n",
       "          clearInterval(timer);\n",
       "\t  var Bokeh = get_bokeh(root)\n",
       "\t  if (Bokeh == null || Bokeh.Panel == null) {\n",
       "            console.warn(\"Panel: ERROR: Unable to run Panel code because Bokeh or Panel library is missing\");\n",
       "\t  } else {\n",
       "\t    console.warn(\"Panel: WARNING: Attempting to render but not all required libraries could be resolved.\")\n",
       "\t    embed_document(root)\n",
       "\t  }\n",
       "        }\n",
       "      }\n",
       "    }, 25, root)\n",
       "  }\n",
       "})(window);</script>"
      ]
     },
     "metadata": {
      "application/vnd.holoviews_exec.v0+json": {
       "id": "f8ad7e72-899e-4f59-9346-d06b9733db4b"
      }
     },
     "output_type": "display_data"
    },
    {
     "data": {
      "text/plain": [
       "polars.config.Config"
      ]
     },
     "execution_count": 1,
     "metadata": {},
     "output_type": "execute_result"
    }
   ],
   "source": [
    "from ethpandaops_python.preprocessor import Preprocessor\n",
    "import polars as pl\n",
    "import panel as pn\n",
    "\n",
    "pn.extension(\"plotly\", template=\"material\", sizing_mode=\"stretch_width\")\n",
    "pl.Config.set_fmt_str_lengths(200)\n",
    "pl.Config.set_fmt_float(\"full\")"
   ]
  },
  {
   "cell_type": "markdown",
   "metadata": {},
   "source": [
    "### Data Query"
   ]
  },
  {
   "cell_type": "code",
   "execution_count": 2,
   "metadata": {},
   "outputs": [],
   "source": [
    "# instantiate a Preprocessor for Base blob data fora 1 day period\n",
    "# arbitrum - 0xC1b634853Cb333D3aD8663715b08f41A3Aec47cc\n",
    "# base - 0x5050F69a9786F081509234F1a7F4684b5E5b76C9\n",
    "preprocessor: Preprocessor = Preprocessor(\n",
    "    blob_producer=\"0x5050F69a9786F081509234F1a7F4684b5E5b76C9\",  # base\n",
    "    period=1,  # 1 day\n",
    "    network=\"mainnet\",  # mainnet\n",
    ")"
   ]
  },
  {
   "cell_type": "code",
   "execution_count": 3,
   "metadata": {},
   "outputs": [],
   "source": [
    "# get preprocessed data\n",
    "slot_inclusion_df: pl.DataFrame = preprocessor.slot_inclusion()"
   ]
  },
  {
   "cell_type": "code",
   "execution_count": 4,
   "metadata": {},
   "outputs": [],
   "source": [
    "processing_df = slot_inclusion_df.drop_nulls().drop(\n",
    "    \"meta_network_name\",\n",
    "    \"block_root\",\n",
    "    \"blob_size\",\n",
    "    \"from\",\n",
    "    \"to\",\n",
    "    \"blob_hashes_length\",\n",
    "    \"blob_sidecars_size\",\n",
    ")"
   ]
  },
  {
   "cell_type": "markdown",
   "metadata": {},
   "source": [
    "### Show that there is no correlation between max gas bid increases and faster inclusion time"
   ]
  },
  {
   "cell_type": "code",
   "execution_count": 78,
   "metadata": {},
   "outputs": [
    {
     "data": {
      "text/html": [
       "<div><style>\n",
       ".dataframe > thead > tr,\n",
       ".dataframe > tbody > tr {\n",
       "  text-align: right;\n",
       "  white-space: pre-wrap;\n",
       "}\n",
       "</style>\n",
       "<small>shape: (4_259, 24)</small><table border=\"1\" class=\"dataframe\"><thead><tr><th>versioned_hash</th><th>hash</th><th>nonce</th><th>event_date_time_min</th><th>event_date_time_max</th><th>fill_percentage</th><th>blob_gas</th><th>blob_gas_fee_cap</th><th>gas_price</th><th>gas_tip_cap</th><th>gas_fee_cap</th><th>submission_count</th><th>slot</th><th>slot time</th><th>kzg_commitment</th><th>blob_empty_size</th><th>beacon_inclusion_time</th><th>slot inclusion rate</th><th>slot inclusion rate (50 blob average)</th><th>slot target inclusion rate (2 slots)</th><th>gas_fee_cap_gwei</th><th>blob_gas_fee_cap_gwei</th><th>gas_tip_cap_gwei</th><th>slot inclusion rate (new)</th></tr><tr><td>str</td><td>str</td><td>u64</td><td>datetime[ms]</td><td>datetime[ms]</td><td>f64</td><td>f64</td><td>f64</td><td>f64</td><td>f64</td><td>f64</td><td>u32</td><td>u32</td><td>datetime[ms]</td><td>str</td><td>u32</td><td>f64</td><td>f64</td><td>f64</td><td>i32</td><td>f64</td><td>f64</td><td>f64</td><td>f64</td></tr></thead><tbody><tr><td>&quot;0x01902c9d4f423c4f676baf1accd00648f2c7b16fa2d678d6b324e14bbde53c38&quot;</td><td>&quot;0x763d823c0f933c4d2eb84406b37aa2649753f2f563fa3ee6d27251c6a52a8d69&quot;</td><td>385980</td><td>2024-04-10 18:54:26.790</td><td>2024-04-10 18:54:27.477</td><td>99.87</td><td>786432</td><td>1000000000</td><td>45677708582</td><td>2000000000</td><td>45677708582</td><td>2</td><td>8829284</td><td>2024-04-10 18:57:11</td><td>&quot;0xafd1fcd41da31e728620ad26409733428677a52ee07a4865f9fccedb0d6f549f734e37f1109e5b9eb2637c36a93ff630&quot;</td><td>0</td><td>164.21</td><td>14</td><td>2.4</td><td>2</td><td>45.678</td><td>1</td><td>2</td><td>5</td></tr><tr><td>&quot;0x01c43c85bb9a1be57f1b990d0411f380a1b33c09bb47fc16d1f7daba3405b63c&quot;</td><td>&quot;0x763d823c0f933c4d2eb84406b37aa2649753f2f563fa3ee6d27251c6a52a8d69&quot;</td><td>385980</td><td>2024-04-10 18:54:26.790</td><td>2024-04-10 18:54:27.477</td><td>99.87</td><td>786432</td><td>1000000000</td><td>45677708582</td><td>2000000000</td><td>45677708582</td><td>2</td><td>8829284</td><td>2024-04-10 18:57:11</td><td>&quot;0x869e97486415ec62cea8765cde7e264c12f65a2a70e3ecd98cc2eab4aca4e7e94cd938397c5875d78c601637dbbdd199&quot;</td><td>0</td><td>164.21</td><td>14</td><td>2.66</td><td>2</td><td>45.678</td><td>1</td><td>2</td><td>5</td></tr><tr><td>&quot;0x01c738cf37c911334c771f2295c060e5bd7d084f347e4334863336724934c59a&quot;</td><td>&quot;0x763d823c0f933c4d2eb84406b37aa2649753f2f563fa3ee6d27251c6a52a8d69&quot;</td><td>385980</td><td>2024-04-10 18:54:26.790</td><td>2024-04-10 18:54:27.477</td><td>99.87</td><td>786432</td><td>1000000000</td><td>45677708582</td><td>2000000000</td><td>45677708582</td><td>2</td><td>8829284</td><td>2024-04-10 18:57:11</td><td>&quot;0x8ed66ee2801c3723263365cfd28c9f309734d281b1bd1eb98059ca7fe131b4b4d1c0b9f6cd3c09c761af493232fb9a11&quot;</td><td>0</td><td>164.21</td><td>14</td><td>2.92</td><td>2</td><td>45.678</td><td>1</td><td>2</td><td>5</td></tr><tr><td>&quot;0x0188a575548febeab1cc42320dd4e2982e3d32a9aed8db9f534f70a94a3cc769&quot;</td><td>&quot;0x763d823c0f933c4d2eb84406b37aa2649753f2f563fa3ee6d27251c6a52a8d69&quot;</td><td>385980</td><td>2024-04-10 18:54:26.790</td><td>2024-04-10 18:54:27.477</td><td>99.87</td><td>786432</td><td>1000000000</td><td>45677708582</td><td>2000000000</td><td>45677708582</td><td>2</td><td>8829284</td><td>2024-04-10 18:57:11</td><td>&quot;0x92a57880506678998000dba8e76f5d6be4f7efbfb6d9b8337c7d3ed8e7cfb0fc1cadc7b09f98203b746cfd2a59b881f7&quot;</td><td>1049</td><td>164.21</td><td>14</td><td>3.24</td><td>2</td><td>45.678</td><td>1</td><td>2</td><td>5</td></tr><tr><td>&quot;0x01cd92b0735842685daa98510d3a784b40d11c59d6b3b6d6dcfe28cf32ed10c2&quot;</td><td>&quot;0x763d823c0f933c4d2eb84406b37aa2649753f2f563fa3ee6d27251c6a52a8d69&quot;</td><td>385980</td><td>2024-04-10 18:54:26.790</td><td>2024-04-10 18:54:27.477</td><td>99.87</td><td>786432</td><td>1000000000</td><td>45677708582</td><td>2000000000</td><td>45677708582</td><td>2</td><td>8829284</td><td>2024-04-10 18:57:11</td><td>&quot;0xac39f05618c895025854d9bb79b66eebd89ca089da70330a82bd6304d105641f4245584a7cc43a098beb06a81fcc49f6&quot;</td><td>0</td><td>164.21</td><td>14</td><td>3.56</td><td>2</td><td>45.678</td><td>1</td><td>2</td><td>5</td></tr><tr><td>&hellip;</td><td>&hellip;</td><td>&hellip;</td><td>&hellip;</td><td>&hellip;</td><td>&hellip;</td><td>&hellip;</td><td>&hellip;</td><td>&hellip;</td><td>&hellip;</td><td>&hellip;</td><td>&hellip;</td><td>&hellip;</td><td>&hellip;</td><td>&hellip;</td><td>&hellip;</td><td>&hellip;</td><td>&hellip;</td><td>&hellip;</td><td>&hellip;</td><td>&hellip;</td><td>&hellip;</td><td>&hellip;</td><td>&hellip;</td></tr><tr><td>&quot;0x0170696f9ae527d16f0818dacb749c796c505df689869324deb1f42b3db99e7d&quot;</td><td>&quot;0xebb1b2c71664a13ef7e9d05fefac2a0d890eea03283a12715f327a56e513df91&quot;</td><td>386053</td><td>2024-04-10 21:27:16.328</td><td>2024-04-10 21:27:16.901</td><td>99.84999999999998</td><td>786432</td><td>1000000000</td><td>33446320684</td><td>2000000000</td><td>33446320684</td><td>1</td><td>8830035</td><td>2024-04-10 21:27:23</td><td>&quot;0xa1abc833796c79769f879200e7ab0b85352c0b5e8f1e4af3e9e45695f8ffb9415e2d28b37eed0415b6f283f9b25558c4&quot;</td><td>0</td><td>6.672</td><td>1</td><td>1.36</td><td>2</td><td>33.446</td><td>1</td><td>2</td><td>1</td></tr><tr><td>&quot;0x019a19ece6ff26836f587c465d92e3cb79892bc9d8b43cbe9a994b88d71acd1c&quot;</td><td>&quot;0xebb1b2c71664a13ef7e9d05fefac2a0d890eea03283a12715f327a56e513df91&quot;</td><td>386053</td><td>2024-04-10 21:27:16.328</td><td>2024-04-10 21:27:16.901</td><td>99.84999999999998</td><td>786432</td><td>1000000000</td><td>33446320684</td><td>2000000000</td><td>33446320684</td><td>1</td><td>8830035</td><td>2024-04-10 21:27:23</td><td>&quot;0x97bb440b1de8f766ad7ef0f77a6cf4241ca5645646760e88c08247310eafd7d16d5a00bfd31fe4ff7c45c83af2c06fb3&quot;</td><td>0</td><td>6.672</td><td>1</td><td>1.34</td><td>2</td><td>33.446</td><td>1</td><td>2</td><td>1</td></tr><tr><td>&quot;0x01c9efd8e44c2d58347fd727510ee1fccb8b44ed15a1c0a2ee65b677b8c0ce20&quot;</td><td>&quot;0xebb1b2c71664a13ef7e9d05fefac2a0d890eea03283a12715f327a56e513df91&quot;</td><td>386053</td><td>2024-04-10 21:27:16.328</td><td>2024-04-10 21:27:16.901</td><td>99.84999999999998</td><td>786432</td><td>1000000000</td><td>33446320684</td><td>2000000000</td><td>33446320684</td><td>1</td><td>8830035</td><td>2024-04-10 21:27:23</td><td>&quot;0xb07ad8e2ee2e2b17af9b61b4e3ada794348685ae35f4582c01d867d0f080135ee430a31ecaef24fe2a9865dc6bb20443&quot;</td><td>0</td><td>6.672</td><td>1</td><td>1.32</td><td>2</td><td>33.446</td><td>1</td><td>2</td><td>1</td></tr><tr><td>&quot;0x014da62dee7c7693462d544a1c5108f5974ff6ad6de7ab1a5905a770759f3678&quot;</td><td>&quot;0xebb1b2c71664a13ef7e9d05fefac2a0d890eea03283a12715f327a56e513df91&quot;</td><td>386053</td><td>2024-04-10 21:27:16.328</td><td>2024-04-10 21:27:16.901</td><td>99.84999999999998</td><td>786432</td><td>1000000000</td><td>33446320684</td><td>2000000000</td><td>33446320684</td><td>1</td><td>8830035</td><td>2024-04-10 21:27:23</td><td>&quot;0xa19a6bc63b385ec2fc2cbe6fc59f175aeee817db150e26ad391cff0eac1917b637d226b1788d4ef154b607fad13dd3e1&quot;</td><td>1217</td><td>6.672</td><td>1</td><td>1.3</td><td>2</td><td>33.446</td><td>1</td><td>2</td><td>1</td></tr><tr><td>&quot;0x010161abaddfb7a5c05babc9fdf0e480b35c288723e3b3e328256bda7c2f4aa1&quot;</td><td>&quot;0xebb1b2c71664a13ef7e9d05fefac2a0d890eea03283a12715f327a56e513df91&quot;</td><td>386053</td><td>2024-04-10 21:27:16.328</td><td>2024-04-10 21:27:16.901</td><td>99.84999999999998</td><td>786432</td><td>1000000000</td><td>33446320684</td><td>2000000000</td><td>33446320684</td><td>1</td><td>8830035</td><td>2024-04-10 21:27:23</td><td>&quot;0xb129da8c1921e90d646aa166117831918a845f01de0b9aeb782ef03db3d87c3425f4749c1120a2182c86ca2f50b57dce&quot;</td><td>0</td><td>6.672</td><td>1</td><td>1.28</td><td>2</td><td>33.446</td><td>1</td><td>2</td><td>1</td></tr></tbody></table></div>"
      ],
      "text/plain": [
       "shape: (4_259, 24)\n",
       "┌────────────┬────────────┬────────┬───────────┬───┬───────────┬───────────┬───────────┬───────────┐\n",
       "│ versioned_ ┆ hash       ┆ nonce  ┆ event_dat ┆ … ┆ gas_fee_c ┆ blob_gas_ ┆ gas_tip_c ┆ slot      │\n",
       "│ hash       ┆ ---        ┆ ---    ┆ e_time_mi ┆   ┆ ap_gwei   ┆ fee_cap_g ┆ ap_gwei   ┆ inclusion │\n",
       "│ ---        ┆ str        ┆ u64    ┆ n         ┆   ┆ ---       ┆ wei       ┆ ---       ┆ rate      │\n",
       "│ str        ┆            ┆        ┆ ---       ┆   ┆ f64       ┆ ---       ┆ f64       ┆ (new)     │\n",
       "│            ┆            ┆        ┆ datetime[ ┆   ┆           ┆ f64       ┆           ┆ ---       │\n",
       "│            ┆            ┆        ┆ ms]       ┆   ┆           ┆           ┆           ┆ f64       │\n",
       "╞════════════╪════════════╪════════╪═══════════╪═══╪═══════════╪═══════════╪═══════════╪═══════════╡\n",
       "│ 0x01902c9d ┆ 0x763d823c ┆ 385980 ┆ 2024-04-1 ┆ … ┆ 45.678    ┆ 1         ┆ 2         ┆ 5         │\n",
       "│ 4f423c4f67 ┆ 0f933c4d2e ┆        ┆ 0 18:54:2 ┆   ┆           ┆           ┆           ┆           │\n",
       "│ 6baf1accd0 ┆ b84406b37a ┆        ┆ 6.790     ┆   ┆           ┆           ┆           ┆           │\n",
       "│ 0648f2c7b1 ┆ a2649753f2 ┆        ┆           ┆   ┆           ┆           ┆           ┆           │\n",
       "│ 6fa2d678d6 ┆ f563fa3ee6 ┆        ┆           ┆   ┆           ┆           ┆           ┆           │\n",
       "│ b324e14bbd ┆ d27251c6a5 ┆        ┆           ┆   ┆           ┆           ┆           ┆           │\n",
       "│ e53c38     ┆ 2a8d69     ┆        ┆           ┆   ┆           ┆           ┆           ┆           │\n",
       "│ 0x01c43c85 ┆ 0x763d823c ┆ 385980 ┆ 2024-04-1 ┆ … ┆ 45.678    ┆ 1         ┆ 2         ┆ 5         │\n",
       "│ bb9a1be57f ┆ 0f933c4d2e ┆        ┆ 0 18:54:2 ┆   ┆           ┆           ┆           ┆           │\n",
       "│ 1b990d0411 ┆ b84406b37a ┆        ┆ 6.790     ┆   ┆           ┆           ┆           ┆           │\n",
       "│ f380a1b33c ┆ a2649753f2 ┆        ┆           ┆   ┆           ┆           ┆           ┆           │\n",
       "│ 09bb47fc16 ┆ f563fa3ee6 ┆        ┆           ┆   ┆           ┆           ┆           ┆           │\n",
       "│ d1f7daba34 ┆ d27251c6a5 ┆        ┆           ┆   ┆           ┆           ┆           ┆           │\n",
       "│ 05b63c     ┆ 2a8d69     ┆        ┆           ┆   ┆           ┆           ┆           ┆           │\n",
       "│ 0x01c738cf ┆ 0x763d823c ┆ 385980 ┆ 2024-04-1 ┆ … ┆ 45.678    ┆ 1         ┆ 2         ┆ 5         │\n",
       "│ 37c911334c ┆ 0f933c4d2e ┆        ┆ 0 18:54:2 ┆   ┆           ┆           ┆           ┆           │\n",
       "│ 771f2295c0 ┆ b84406b37a ┆        ┆ 6.790     ┆   ┆           ┆           ┆           ┆           │\n",
       "│ 60e5bd7d08 ┆ a2649753f2 ┆        ┆           ┆   ┆           ┆           ┆           ┆           │\n",
       "│ 4f347e4334 ┆ f563fa3ee6 ┆        ┆           ┆   ┆           ┆           ┆           ┆           │\n",
       "│ 8633367249 ┆ d27251c6a5 ┆        ┆           ┆   ┆           ┆           ┆           ┆           │\n",
       "│ 34c59a     ┆ 2a8d69     ┆        ┆           ┆   ┆           ┆           ┆           ┆           │\n",
       "│ 0x0188a575 ┆ 0x763d823c ┆ 385980 ┆ 2024-04-1 ┆ … ┆ 45.678    ┆ 1         ┆ 2         ┆ 5         │\n",
       "│ 548febeab1 ┆ 0f933c4d2e ┆        ┆ 0 18:54:2 ┆   ┆           ┆           ┆           ┆           │\n",
       "│ cc42320dd4 ┆ b84406b37a ┆        ┆ 6.790     ┆   ┆           ┆           ┆           ┆           │\n",
       "│ e2982e3d32 ┆ a2649753f2 ┆        ┆           ┆   ┆           ┆           ┆           ┆           │\n",
       "│ a9aed8db9f ┆ f563fa3ee6 ┆        ┆           ┆   ┆           ┆           ┆           ┆           │\n",
       "│ 534f70a94a ┆ d27251c6a5 ┆        ┆           ┆   ┆           ┆           ┆           ┆           │\n",
       "│ 3cc769     ┆ 2a8d69     ┆        ┆           ┆   ┆           ┆           ┆           ┆           │\n",
       "│ 0x01cd92b0 ┆ 0x763d823c ┆ 385980 ┆ 2024-04-1 ┆ … ┆ 45.678    ┆ 1         ┆ 2         ┆ 5         │\n",
       "│ 735842685d ┆ 0f933c4d2e ┆        ┆ 0 18:54:2 ┆   ┆           ┆           ┆           ┆           │\n",
       "│ aa98510d3a ┆ b84406b37a ┆        ┆ 6.790     ┆   ┆           ┆           ┆           ┆           │\n",
       "│ 784b40d11c ┆ a2649753f2 ┆        ┆           ┆   ┆           ┆           ┆           ┆           │\n",
       "│ 59d6b3b6d6 ┆ f563fa3ee6 ┆        ┆           ┆   ┆           ┆           ┆           ┆           │\n",
       "│ dcfe28cf32 ┆ d27251c6a5 ┆        ┆           ┆   ┆           ┆           ┆           ┆           │\n",
       "│ ed10c2     ┆ 2a8d69     ┆        ┆           ┆   ┆           ┆           ┆           ┆           │\n",
       "│ …          ┆ …          ┆ …      ┆ …         ┆ … ┆ …         ┆ …         ┆ …         ┆ …         │\n",
       "│ 0x0170696f ┆ 0xebb1b2c7 ┆ 386053 ┆ 2024-04-1 ┆ … ┆ 33.446    ┆ 1         ┆ 2         ┆ 1         │\n",
       "│ 9ae527d16f ┆ 1664a13ef7 ┆        ┆ 0 21:27:1 ┆   ┆           ┆           ┆           ┆           │\n",
       "│ 0818dacb74 ┆ e9d05fefac ┆        ┆ 6.328     ┆   ┆           ┆           ┆           ┆           │\n",
       "│ 9c796c505d ┆ 2a0d890eea ┆        ┆           ┆   ┆           ┆           ┆           ┆           │\n",
       "│ f689869324 ┆ 03283a1271 ┆        ┆           ┆   ┆           ┆           ┆           ┆           │\n",
       "│ deb1f42b3d ┆ 5f327a56e5 ┆        ┆           ┆   ┆           ┆           ┆           ┆           │\n",
       "│ b99e7d     ┆ 13df91     ┆        ┆           ┆   ┆           ┆           ┆           ┆           │\n",
       "│ 0x019a19ec ┆ 0xebb1b2c7 ┆ 386053 ┆ 2024-04-1 ┆ … ┆ 33.446    ┆ 1         ┆ 2         ┆ 1         │\n",
       "│ e6ff26836f ┆ 1664a13ef7 ┆        ┆ 0 21:27:1 ┆   ┆           ┆           ┆           ┆           │\n",
       "│ 587c465d92 ┆ e9d05fefac ┆        ┆ 6.328     ┆   ┆           ┆           ┆           ┆           │\n",
       "│ e3cb79892b ┆ 2a0d890eea ┆        ┆           ┆   ┆           ┆           ┆           ┆           │\n",
       "│ c9d8b43cbe ┆ 03283a1271 ┆        ┆           ┆   ┆           ┆           ┆           ┆           │\n",
       "│ 9a994b88d7 ┆ 5f327a56e5 ┆        ┆           ┆   ┆           ┆           ┆           ┆           │\n",
       "│ 1acd1c     ┆ 13df91     ┆        ┆           ┆   ┆           ┆           ┆           ┆           │\n",
       "│ 0x01c9efd8 ┆ 0xebb1b2c7 ┆ 386053 ┆ 2024-04-1 ┆ … ┆ 33.446    ┆ 1         ┆ 2         ┆ 1         │\n",
       "│ e44c2d5834 ┆ 1664a13ef7 ┆        ┆ 0 21:27:1 ┆   ┆           ┆           ┆           ┆           │\n",
       "│ 7fd727510e ┆ e9d05fefac ┆        ┆ 6.328     ┆   ┆           ┆           ┆           ┆           │\n",
       "│ e1fccb8b44 ┆ 2a0d890eea ┆        ┆           ┆   ┆           ┆           ┆           ┆           │\n",
       "│ ed15a1c0a2 ┆ 03283a1271 ┆        ┆           ┆   ┆           ┆           ┆           ┆           │\n",
       "│ ee65b677b8 ┆ 5f327a56e5 ┆        ┆           ┆   ┆           ┆           ┆           ┆           │\n",
       "│ c0ce20     ┆ 13df91     ┆        ┆           ┆   ┆           ┆           ┆           ┆           │\n",
       "│ 0x014da62d ┆ 0xebb1b2c7 ┆ 386053 ┆ 2024-04-1 ┆ … ┆ 33.446    ┆ 1         ┆ 2         ┆ 1         │\n",
       "│ ee7c769346 ┆ 1664a13ef7 ┆        ┆ 0 21:27:1 ┆   ┆           ┆           ┆           ┆           │\n",
       "│ 2d544a1c51 ┆ e9d05fefac ┆        ┆ 6.328     ┆   ┆           ┆           ┆           ┆           │\n",
       "│ 08f5974ff6 ┆ 2a0d890eea ┆        ┆           ┆   ┆           ┆           ┆           ┆           │\n",
       "│ ad6de7ab1a ┆ 03283a1271 ┆        ┆           ┆   ┆           ┆           ┆           ┆           │\n",
       "│ 5905a77075 ┆ 5f327a56e5 ┆        ┆           ┆   ┆           ┆           ┆           ┆           │\n",
       "│ 9f3678     ┆ 13df91     ┆        ┆           ┆   ┆           ┆           ┆           ┆           │\n",
       "│ 0x010161ab ┆ 0xebb1b2c7 ┆ 386053 ┆ 2024-04-1 ┆ … ┆ 33.446    ┆ 1         ┆ 2         ┆ 1         │\n",
       "│ addfb7a5c0 ┆ 1664a13ef7 ┆        ┆ 0 21:27:1 ┆   ┆           ┆           ┆           ┆           │\n",
       "│ 5babc9fdf0 ┆ e9d05fefac ┆        ┆ 6.328     ┆   ┆           ┆           ┆           ┆           │\n",
       "│ e480b35c28 ┆ 2a0d890eea ┆        ┆           ┆   ┆           ┆           ┆           ┆           │\n",
       "│ 8723e3b3e3 ┆ 03283a1271 ┆        ┆           ┆   ┆           ┆           ┆           ┆           │\n",
       "│ 28256bda7c ┆ 5f327a56e5 ┆        ┆           ┆   ┆           ┆           ┆           ┆           │\n",
       "│ 2f4aa1     ┆ 13df91     ┆        ┆           ┆   ┆           ┆           ┆           ┆           │\n",
       "└────────────┴────────────┴────────┴───────────┴───┴───────────┴───────────┴───────────┴───────────┘"
      ]
     },
     "execution_count": 78,
     "metadata": {},
     "output_type": "execute_result"
    }
   ],
   "source": [
    "(\n",
    "    processing_df.with_columns(\n",
    "        pl.when(pl.col(\"slot inclusion rate\") > 5)\n",
    "        .then(5)\n",
    "        .otherwise(pl.col(\"slot inclusion rate\"))\n",
    "        .alias(\"slot inclusion rate > 5\"),\n",
    "    )\n",
    ").head(5)"
   ]
  },
  {
   "cell_type": "code",
   "execution_count": 101,
   "metadata": {},
   "outputs": [],
   "source": [
    "slot_inclusion_line_chart = (\n",
    "    slot_inclusion_df.drop_nulls()\n",
    "    .select(\n",
    "        \"slot time\",\n",
    "        \"slot inclusion rate\",\n",
    "        \"slot inclusion rate (50 blob average)\",\n",
    "        \"slot target inclusion rate (2 slots)\",\n",
    "    )\n",
    "    .plot.line(\n",
    "        x=\"slot time\",\n",
    "        y=[\n",
    "            \"slot inclusion rate\",\n",
    "            \"slot inclusion rate (50 blob average)\",\n",
    "            \"slot target inclusion rate (2 slots)\",\n",
    "        ],\n",
    "        color=[\"blue\", \"red\", \"black\"],\n",
    "        ylabel=\"Beacon Block Inclusion (block)\",\n",
    "        xlabel=\"Slot Date Time\",\n",
    "        title=\"Beacon Slot Inclusion Time\",\n",
    "        # TODO - color by resubmission count\n",
    "        width=1000,\n",
    "        height=400,\n",
    "    )\n",
    ")"
   ]
  },
  {
   "cell_type": "code",
   "execution_count": 108,
   "metadata": {},
   "outputs": [],
   "source": [
    "slot_inclusion_histogram_chart = (\n",
    "    processing_df.with_columns(\n",
    "        pl.when(pl.col(\"slot inclusion rate\") > 5)\n",
    "        .then(5)\n",
    "        .otherwise(pl.col(\"slot inclusion rate\"))\n",
    "        .alias(\"slot inclusion rate > 5\"),\n",
    "    )\n",
    ").plot.hist(\n",
    "    \"slot inclusion rate > 5\",\n",
    "    ylabel=\"blob count\",\n",
    "    xlabel=\"slot inclusion rate\",\n",
    "    title=\"Slot Inclusion Distribution (slot inclusion rate > 5 grouped together)\",\n",
    "    bins=40,\n",
    "    width=600,\n",
    "    height=400,\n",
    ")"
   ]
  },
  {
   "cell_type": "markdown",
   "metadata": {},
   "source": [
    "### Assemble Dashboard"
   ]
  },
  {
   "cell_type": "code",
   "execution_count": 109,
   "metadata": {},
   "outputs": [],
   "source": [
    "dash = pn.Column(\n",
    "    pn.pane.Markdown(\n",
    "        \"\"\"\n",
    "        # Blob Inclusion Dashboard\n",
    "        This dashboard measures blob inclusion from the mempool to the canonical beacon block for Base.\n",
    "        \"\"\"\n",
    "    ),\n",
    "    pn.Column(\n",
    "        pn.pane.Markdown(\n",
    "            \"\"\"\n",
    "        This chart is a time series chart that shows how long it takes for a block tx to get included, \n",
    "        from when it's first submitted into the mempool to when it shows up in a canonical beacon block sidecar.\n",
    "\n",
    "        While a lot of blobs get finalized on the beacon chain within 1-2 blocks, there are still a non-trivial amount of \n",
    "        outliers that can take upwards of 5-10 blocks before finalizing.\n",
    "        \"\"\"\n",
    "        ),\n",
    "        pn.Row(slot_inclusion_line_chart, slot_inclusion_histogram_chart),\n",
    "    ),\n",
    ")"
   ]
  },
  {
   "cell_type": "code",
   "execution_count": 110,
   "metadata": {},
   "outputs": [
    {
     "name": "stdout",
     "output_type": "stream",
     "text": [
      "Launching server at http://localhost:42795\n"
     ]
    },
    {
     "data": {
      "text/plain": [
       "<panel.io.server.Server at 0x7189d07a63d0>"
      ]
     },
     "execution_count": 110,
     "metadata": {},
     "output_type": "execute_result"
    },
    {
     "name": "stderr",
     "output_type": "stream",
     "text": [
      "Gtk-Message: 18:25:34.494: Failed to load module \"canberra-gtk-module\"\n",
      "Gtk-Message: 18:25:34.495: Failed to load module \"canberra-gtk-module\"\n"
     ]
    },
    {
     "name": "stdout",
     "output_type": "stream",
     "text": [
      "Opening in existing browser session.\n"
     ]
    },
    {
     "name": "stderr",
     "output_type": "stream",
     "text": [
      "ERROR:tornado.application:Uncaught exception GET /ws (::1)\n",
      "HTTPServerRequest(protocol='http', host='localhost:42795', method='GET', uri='/ws', version='HTTP/1.1', remote_ip='::1')\n",
      "Traceback (most recent call last):\n",
      "  File \"/home/evan/Documents/eip4844_blob_data/.venv/lib/python3.11/site-packages/tornado/websocket.py\", line 938, in _accept_connection\n",
      "    open_result = handler.open(*handler.open_args, **handler.open_kwargs)\n",
      "                  ^^^^^^^^^^^^^^^^^^^^^^^^^^^^^^^^^^^^^^^^^^^^^^^^^^^^^^^\n",
      "  File \"/home/evan/Documents/eip4844_blob_data/.venv/lib/python3.11/site-packages/tornado/web.py\", line 3301, in wrapper\n",
      "    return method(self, *args, **kwargs)\n",
      "           ^^^^^^^^^^^^^^^^^^^^^^^^^^^^^\n",
      "  File \"/home/evan/Documents/eip4844_blob_data/.venv/lib/python3.11/site-packages/bokeh/server/views/ws.py\", line 149, in open\n",
      "    raise ProtocolError(\"Token is expired.\")\n",
      "bokeh.protocol.exceptions.ProtocolError: Token is expired.\n"
     ]
    }
   ],
   "source": [
    "# dash.show()\n",
    "dash.servable()"
   ]
  },
  {
   "cell_type": "code",
   "execution_count": null,
   "metadata": {},
   "outputs": [],
   "source": []
  },
  {
   "cell_type": "code",
   "execution_count": null,
   "metadata": {},
   "outputs": [],
   "source": []
  },
  {
   "cell_type": "code",
   "execution_count": null,
   "metadata": {},
   "outputs": [],
   "source": []
  }
 ],
 "metadata": {
  "kernelspec": {
   "display_name": ".venv",
   "language": "python",
   "name": "python3"
  },
  "language_info": {
   "codemirror_mode": {
    "name": "ipython",
    "version": 3
   },
   "file_extension": ".py",
   "mimetype": "text/x-python",
   "name": "python",
   "nbconvert_exporter": "python",
   "pygments_lexer": "ipython3",
   "version": "3.11.8"
  }
 },
 "nbformat": 4,
 "nbformat_minor": 2
}
