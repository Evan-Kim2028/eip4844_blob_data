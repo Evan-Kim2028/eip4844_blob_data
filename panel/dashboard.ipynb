{
 "cells": [
  {
   "cell_type": "code",
   "execution_count": 1,
   "metadata": {},
   "outputs": [
    {
     "data": {
      "application/javascript": "(function(root) {\n  function now() {\n    return new Date();\n  }\n\n  var force = true;\n  var py_version = '3.4.0'.replace('rc', '-rc.').replace('.dev', '-dev.');\n  var reloading = false;\n  var Bokeh = root.Bokeh;\n\n  if (typeof (root._bokeh_timeout) === \"undefined\" || force) {\n    root._bokeh_timeout = Date.now() + 5000;\n    root._bokeh_failed_load = false;\n  }\n\n  function run_callbacks() {\n    try {\n      root._bokeh_onload_callbacks.forEach(function(callback) {\n        if (callback != null)\n          callback();\n      });\n    } finally {\n      delete root._bokeh_onload_callbacks;\n    }\n    console.debug(\"Bokeh: all callbacks have finished\");\n  }\n\n  function load_libs(css_urls, js_urls, js_modules, js_exports, callback) {\n    if (css_urls == null) css_urls = [];\n    if (js_urls == null) js_urls = [];\n    if (js_modules == null) js_modules = [];\n    if (js_exports == null) js_exports = {};\n\n    root._bokeh_onload_callbacks.push(callback);\n\n    if (root._bokeh_is_loading > 0) {\n      console.debug(\"Bokeh: BokehJS is being loaded, scheduling callback at\", now());\n      return null;\n    }\n    if (js_urls.length === 0 && js_modules.length === 0 && Object.keys(js_exports).length === 0) {\n      run_callbacks();\n      return null;\n    }\n    if (!reloading) {\n      console.debug(\"Bokeh: BokehJS not loaded, scheduling load and callback at\", now());\n    }\n\n    function on_load() {\n      root._bokeh_is_loading--;\n      if (root._bokeh_is_loading === 0) {\n        console.debug(\"Bokeh: all BokehJS libraries/stylesheets loaded\");\n        run_callbacks()\n      }\n    }\n    window._bokeh_on_load = on_load\n\n    function on_error() {\n      console.error(\"failed to load \" + url);\n    }\n\n    var skip = [];\n    if (window.requirejs) {\n      window.requirejs.config({'packages': {}, 'paths': {'plotly': 'https://cdn.plot.ly/plotly-2.25.2.min'}, 'shim': {}});\n      require([\"plotly\"], function(Plotly) {\n\twindow.Plotly = Plotly\n\ton_load()\n      })\n      root._bokeh_is_loading = css_urls.length + 1;\n    } else {\n      root._bokeh_is_loading = css_urls.length + js_urls.length + js_modules.length + Object.keys(js_exports).length;\n    }\n\n    var existing_stylesheets = []\n    var links = document.getElementsByTagName('link')\n    for (var i = 0; i < links.length; i++) {\n      var link = links[i]\n      if (link.href != null) {\n\texisting_stylesheets.push(link.href)\n      }\n    }\n    for (var i = 0; i < css_urls.length; i++) {\n      var url = css_urls[i];\n      if (existing_stylesheets.indexOf(url) !== -1) {\n\ton_load()\n\tcontinue;\n      }\n      const element = document.createElement(\"link\");\n      element.onload = on_load;\n      element.onerror = on_error;\n      element.rel = \"stylesheet\";\n      element.type = \"text/css\";\n      element.href = url;\n      console.debug(\"Bokeh: injecting link tag for BokehJS stylesheet: \", url);\n      document.body.appendChild(element);\n    }    if (((window.Plotly !== undefined) && (!(window.Plotly instanceof HTMLElement))) || window.requirejs) {\n      var urls = ['https://cdn.holoviz.org/panel/1.4.1/dist/bundled/plotlyplot/plotly-2.25.2.min.js'];\n      for (var i = 0; i < urls.length; i++) {\n        skip.push(urls[i])\n      }\n    }    var existing_scripts = []\n    var scripts = document.getElementsByTagName('script')\n    for (var i = 0; i < scripts.length; i++) {\n      var script = scripts[i]\n      if (script.src != null) {\n\texisting_scripts.push(script.src)\n      }\n    }\n    for (var i = 0; i < js_urls.length; i++) {\n      var url = js_urls[i];\n      if (skip.indexOf(url) !== -1 || existing_scripts.indexOf(url) !== -1) {\n\tif (!window.requirejs) {\n\t  on_load();\n\t}\n\tcontinue;\n      }\n      var element = document.createElement('script');\n      element.onload = on_load;\n      element.onerror = on_error;\n      element.async = false;\n      element.src = url;\n      console.debug(\"Bokeh: injecting script tag for BokehJS library: \", url);\n      document.head.appendChild(element);\n    }\n    for (var i = 0; i < js_modules.length; i++) {\n      var url = js_modules[i];\n      if (skip.indexOf(url) !== -1 || existing_scripts.indexOf(url) !== -1) {\n\tif (!window.requirejs) {\n\t  on_load();\n\t}\n\tcontinue;\n      }\n      var element = document.createElement('script');\n      element.onload = on_load;\n      element.onerror = on_error;\n      element.async = false;\n      element.src = url;\n      element.type = \"module\";\n      console.debug(\"Bokeh: injecting script tag for BokehJS library: \", url);\n      document.head.appendChild(element);\n    }\n    for (const name in js_exports) {\n      var url = js_exports[name];\n      if (skip.indexOf(url) >= 0 || root[name] != null) {\n\tif (!window.requirejs) {\n\t  on_load();\n\t}\n\tcontinue;\n      }\n      var element = document.createElement('script');\n      element.onerror = on_error;\n      element.async = false;\n      element.type = \"module\";\n      console.debug(\"Bokeh: injecting script tag for BokehJS library: \", url);\n      element.textContent = `\n      import ${name} from \"${url}\"\n      window.${name} = ${name}\n      window._bokeh_on_load()\n      `\n      document.head.appendChild(element);\n    }\n    if (!js_urls.length && !js_modules.length) {\n      on_load()\n    }\n  };\n\n  function inject_raw_css(css) {\n    const element = document.createElement(\"style\");\n    element.appendChild(document.createTextNode(css));\n    document.body.appendChild(element);\n  }\n\n  var js_urls = [\"https://cdn.holoviz.org/panel/1.4.1/dist/bundled/jquery/jquery.slim.min.js\", \"https://cdn.holoviz.org/panel/1.4.1/dist/bundled/plotlyplot/plotly-2.25.2.min.js\", \"https://cdn.bokeh.org/bokeh/release/bokeh-3.4.0.min.js\", \"https://cdn.bokeh.org/bokeh/release/bokeh-gl-3.4.0.min.js\", \"https://cdn.bokeh.org/bokeh/release/bokeh-widgets-3.4.0.min.js\", \"https://cdn.bokeh.org/bokeh/release/bokeh-tables-3.4.0.min.js\", \"https://cdn.holoviz.org/panel/1.4.1/dist/panel.min.js\"];\n  var js_modules = [];\n  var js_exports = {};\n  var css_urls = [];\n  var inline_js = [    function(Bokeh) {\n      Bokeh.set_log_level(\"info\");\n    },\nfunction(Bokeh) {} // ensure no trailing comma for IE\n  ];\n\n  function run_inline_js() {\n    if ((root.Bokeh !== undefined) || (force === true)) {\n      for (var i = 0; i < inline_js.length; i++) {\n\ttry {\n          inline_js[i].call(root, root.Bokeh);\n\t} catch(e) {\n\t  if (!reloading) {\n\t    throw e;\n\t  }\n\t}\n      }\n      // Cache old bokeh versions\n      if (Bokeh != undefined && !reloading) {\n\tvar NewBokeh = root.Bokeh;\n\tif (Bokeh.versions === undefined) {\n\t  Bokeh.versions = new Map();\n\t}\n\tif (NewBokeh.version !== Bokeh.version) {\n\t  Bokeh.versions.set(NewBokeh.version, NewBokeh)\n\t}\n\troot.Bokeh = Bokeh;\n      }} else if (Date.now() < root._bokeh_timeout) {\n      setTimeout(run_inline_js, 100);\n    } else if (!root._bokeh_failed_load) {\n      console.log(\"Bokeh: BokehJS failed to load within specified timeout.\");\n      root._bokeh_failed_load = true;\n    }\n    root._bokeh_is_initializing = false\n  }\n\n  function load_or_wait() {\n    // Implement a backoff loop that tries to ensure we do not load multiple\n    // versions of Bokeh and its dependencies at the same time.\n    // In recent versions we use the root._bokeh_is_initializing flag\n    // to determine whether there is an ongoing attempt to initialize\n    // bokeh, however for backward compatibility we also try to ensure\n    // that we do not start loading a newer (Panel>=1.0 and Bokeh>3) version\n    // before older versions are fully initialized.\n    if (root._bokeh_is_initializing && Date.now() > root._bokeh_timeout) {\n      root._bokeh_is_initializing = false;\n      root._bokeh_onload_callbacks = undefined;\n      console.log(\"Bokeh: BokehJS was loaded multiple times but one version failed to initialize.\");\n      load_or_wait();\n    } else if (root._bokeh_is_initializing || (typeof root._bokeh_is_initializing === \"undefined\" && root._bokeh_onload_callbacks !== undefined)) {\n      setTimeout(load_or_wait, 100);\n    } else {\n      root._bokeh_is_initializing = true\n      root._bokeh_onload_callbacks = []\n      var bokeh_loaded = Bokeh != null && (Bokeh.version === py_version || (Bokeh.versions !== undefined && Bokeh.versions.has(py_version)));\n      if (!reloading && !bokeh_loaded) {\n\troot.Bokeh = undefined;\n      }\n      load_libs(css_urls, js_urls, js_modules, js_exports, function() {\n\tconsole.debug(\"Bokeh: BokehJS plotting callback run at\", now());\n\trun_inline_js();\n      });\n    }\n  }\n  // Give older versions of the autoload script a head-start to ensure\n  // they initialize before we start loading newer version.\n  setTimeout(load_or_wait, 100)\n}(window));",
      "application/vnd.holoviews_load.v0+json": ""
     },
     "metadata": {},
     "output_type": "display_data"
    },
    {
     "data": {
      "application/javascript": "\nif ((window.PyViz === undefined) || (window.PyViz instanceof HTMLElement)) {\n  window.PyViz = {comms: {}, comm_status:{}, kernels:{}, receivers: {}, plot_index: []}\n}\n\n\n    function JupyterCommManager() {\n    }\n\n    JupyterCommManager.prototype.register_target = function(plot_id, comm_id, msg_handler) {\n      if (window.comm_manager || ((window.Jupyter !== undefined) && (Jupyter.notebook.kernel != null))) {\n        var comm_manager = window.comm_manager || Jupyter.notebook.kernel.comm_manager;\n        comm_manager.register_target(comm_id, function(comm) {\n          comm.on_msg(msg_handler);\n        });\n      } else if ((plot_id in window.PyViz.kernels) && (window.PyViz.kernels[plot_id])) {\n        window.PyViz.kernels[plot_id].registerCommTarget(comm_id, function(comm) {\n          comm.onMsg = msg_handler;\n        });\n      } else if (typeof google != 'undefined' && google.colab.kernel != null) {\n        google.colab.kernel.comms.registerTarget(comm_id, (comm) => {\n          var messages = comm.messages[Symbol.asyncIterator]();\n          function processIteratorResult(result) {\n            var message = result.value;\n            console.log(message)\n            var content = {data: message.data, comm_id};\n            var buffers = []\n            for (var buffer of message.buffers || []) {\n              buffers.push(new DataView(buffer))\n            }\n            var metadata = message.metadata || {};\n            var msg = {content, buffers, metadata}\n            msg_handler(msg);\n            return messages.next().then(processIteratorResult);\n          }\n          return messages.next().then(processIteratorResult);\n        })\n      }\n    }\n\n    JupyterCommManager.prototype.get_client_comm = function(plot_id, comm_id, msg_handler) {\n      if (comm_id in window.PyViz.comms) {\n        return window.PyViz.comms[comm_id];\n      } else if (window.comm_manager || ((window.Jupyter !== undefined) && (Jupyter.notebook.kernel != null))) {\n        var comm_manager = window.comm_manager || Jupyter.notebook.kernel.comm_manager;\n        var comm = comm_manager.new_comm(comm_id, {}, {}, {}, comm_id);\n        if (msg_handler) {\n          comm.on_msg(msg_handler);\n        }\n      } else if ((plot_id in window.PyViz.kernels) && (window.PyViz.kernels[plot_id])) {\n        var comm = window.PyViz.kernels[plot_id].connectToComm(comm_id);\n        comm.open();\n        if (msg_handler) {\n          comm.onMsg = msg_handler;\n        }\n      } else if (typeof google != 'undefined' && google.colab.kernel != null) {\n        var comm_promise = google.colab.kernel.comms.open(comm_id)\n        comm_promise.then((comm) => {\n          window.PyViz.comms[comm_id] = comm;\n          if (msg_handler) {\n            var messages = comm.messages[Symbol.asyncIterator]();\n            function processIteratorResult(result) {\n              var message = result.value;\n              var content = {data: message.data};\n              var metadata = message.metadata || {comm_id};\n              var msg = {content, metadata}\n              msg_handler(msg);\n              return messages.next().then(processIteratorResult);\n            }\n            return messages.next().then(processIteratorResult);\n          }\n        }) \n        var sendClosure = (data, metadata, buffers, disposeOnDone) => {\n          return comm_promise.then((comm) => {\n            comm.send(data, metadata, buffers, disposeOnDone);\n          });\n        };\n        var comm = {\n          send: sendClosure\n        };\n      }\n      window.PyViz.comms[comm_id] = comm;\n      return comm;\n    }\n    window.PyViz.comm_manager = new JupyterCommManager();\n    \n\n\nvar JS_MIME_TYPE = 'application/javascript';\nvar HTML_MIME_TYPE = 'text/html';\nvar EXEC_MIME_TYPE = 'application/vnd.holoviews_exec.v0+json';\nvar CLASS_NAME = 'output';\n\n/**\n * Render data to the DOM node\n */\nfunction render(props, node) {\n  var div = document.createElement(\"div\");\n  var script = document.createElement(\"script\");\n  node.appendChild(div);\n  node.appendChild(script);\n}\n\n/**\n * Handle when a new output is added\n */\nfunction handle_add_output(event, handle) {\n  var output_area = handle.output_area;\n  var output = handle.output;\n  if ((output.data == undefined) || (!output.data.hasOwnProperty(EXEC_MIME_TYPE))) {\n    return\n  }\n  var id = output.metadata[EXEC_MIME_TYPE][\"id\"];\n  var toinsert = output_area.element.find(\".\" + CLASS_NAME.split(' ')[0]);\n  if (id !== undefined) {\n    var nchildren = toinsert.length;\n    var html_node = toinsert[nchildren-1].children[0];\n    html_node.innerHTML = output.data[HTML_MIME_TYPE];\n    var scripts = [];\n    var nodelist = html_node.querySelectorAll(\"script\");\n    for (var i in nodelist) {\n      if (nodelist.hasOwnProperty(i)) {\n        scripts.push(nodelist[i])\n      }\n    }\n\n    scripts.forEach( function (oldScript) {\n      var newScript = document.createElement(\"script\");\n      var attrs = [];\n      var nodemap = oldScript.attributes;\n      for (var j in nodemap) {\n        if (nodemap.hasOwnProperty(j)) {\n          attrs.push(nodemap[j])\n        }\n      }\n      attrs.forEach(function(attr) { newScript.setAttribute(attr.name, attr.value) });\n      newScript.appendChild(document.createTextNode(oldScript.innerHTML));\n      oldScript.parentNode.replaceChild(newScript, oldScript);\n    });\n    if (JS_MIME_TYPE in output.data) {\n      toinsert[nchildren-1].children[1].textContent = output.data[JS_MIME_TYPE];\n    }\n    output_area._hv_plot_id = id;\n    if ((window.Bokeh !== undefined) && (id in Bokeh.index)) {\n      window.PyViz.plot_index[id] = Bokeh.index[id];\n    } else {\n      window.PyViz.plot_index[id] = null;\n    }\n  } else if (output.metadata[EXEC_MIME_TYPE][\"server_id\"] !== undefined) {\n    var bk_div = document.createElement(\"div\");\n    bk_div.innerHTML = output.data[HTML_MIME_TYPE];\n    var script_attrs = bk_div.children[0].attributes;\n    for (var i = 0; i < script_attrs.length; i++) {\n      toinsert[toinsert.length - 1].childNodes[1].setAttribute(script_attrs[i].name, script_attrs[i].value);\n    }\n    // store reference to server id on output_area\n    output_area._bokeh_server_id = output.metadata[EXEC_MIME_TYPE][\"server_id\"];\n  }\n}\n\n/**\n * Handle when an output is cleared or removed\n */\nfunction handle_clear_output(event, handle) {\n  var id = handle.cell.output_area._hv_plot_id;\n  var server_id = handle.cell.output_area._bokeh_server_id;\n  if (((id === undefined) || !(id in PyViz.plot_index)) && (server_id !== undefined)) { return; }\n  var comm = window.PyViz.comm_manager.get_client_comm(\"hv-extension-comm\", \"hv-extension-comm\", function () {});\n  if (server_id !== null) {\n    comm.send({event_type: 'server_delete', 'id': server_id});\n    return;\n  } else if (comm !== null) {\n    comm.send({event_type: 'delete', 'id': id});\n  }\n  delete PyViz.plot_index[id];\n  if ((window.Bokeh !== undefined) & (id in window.Bokeh.index)) {\n    var doc = window.Bokeh.index[id].model.document\n    doc.clear();\n    const i = window.Bokeh.documents.indexOf(doc);\n    if (i > -1) {\n      window.Bokeh.documents.splice(i, 1);\n    }\n  }\n}\n\n/**\n * Handle kernel restart event\n */\nfunction handle_kernel_cleanup(event, handle) {\n  delete PyViz.comms[\"hv-extension-comm\"];\n  window.PyViz.plot_index = {}\n}\n\n/**\n * Handle update_display_data messages\n */\nfunction handle_update_output(event, handle) {\n  handle_clear_output(event, {cell: {output_area: handle.output_area}})\n  handle_add_output(event, handle)\n}\n\nfunction register_renderer(events, OutputArea) {\n  function append_mime(data, metadata, element) {\n    // create a DOM node to render to\n    var toinsert = this.create_output_subarea(\n    metadata,\n    CLASS_NAME,\n    EXEC_MIME_TYPE\n    );\n    this.keyboard_manager.register_events(toinsert);\n    // Render to node\n    var props = {data: data, metadata: metadata[EXEC_MIME_TYPE]};\n    render(props, toinsert[0]);\n    element.append(toinsert);\n    return toinsert\n  }\n\n  events.on('output_added.OutputArea', handle_add_output);\n  events.on('output_updated.OutputArea', handle_update_output);\n  events.on('clear_output.CodeCell', handle_clear_output);\n  events.on('delete.Cell', handle_clear_output);\n  events.on('kernel_ready.Kernel', handle_kernel_cleanup);\n\n  OutputArea.prototype.register_mime_type(EXEC_MIME_TYPE, append_mime, {\n    safe: true,\n    index: 0\n  });\n}\n\nif (window.Jupyter !== undefined) {\n  try {\n    var events = require('base/js/events');\n    var OutputArea = require('notebook/js/outputarea').OutputArea;\n    if (OutputArea.prototype.mime_types().indexOf(EXEC_MIME_TYPE) == -1) {\n      register_renderer(events, OutputArea);\n    }\n  } catch(err) {\n  }\n}\n",
      "application/vnd.holoviews_load.v0+json": ""
     },
     "metadata": {},
     "output_type": "display_data"
    },
    {
     "data": {
      "text/html": [
       "<style>*[data-root-id],\n",
       "*[data-root-id] > * {\n",
       "  box-sizing: border-box;\n",
       "  font-family: var(--jp-ui-font-family);\n",
       "  font-size: var(--jp-ui-font-size1);\n",
       "  color: var(--vscode-editor-foreground, var(--jp-ui-font-color1));\n",
       "}\n",
       "\n",
       "/* Override VSCode background color */\n",
       ".cell-output-ipywidget-background:has(\n",
       "    > .cell-output-ipywidget-background > .lm-Widget > *[data-root-id]\n",
       "  ),\n",
       ".cell-output-ipywidget-background:has(> .lm-Widget > *[data-root-id]) {\n",
       "  background-color: transparent !important;\n",
       "}\n",
       "</style>"
      ]
     },
     "metadata": {},
     "output_type": "display_data"
    },
    {
     "data": {
      "application/javascript": "(function(root) {\n  function now() {\n    return new Date();\n  }\n\n  var force = true;\n  var py_version = '3.4.0'.replace('rc', '-rc.').replace('.dev', '-dev.');\n  var reloading = true;\n  var Bokeh = root.Bokeh;\n\n  if (typeof (root._bokeh_timeout) === \"undefined\" || force) {\n    root._bokeh_timeout = Date.now() + 5000;\n    root._bokeh_failed_load = false;\n  }\n\n  function run_callbacks() {\n    try {\n      root._bokeh_onload_callbacks.forEach(function(callback) {\n        if (callback != null)\n          callback();\n      });\n    } finally {\n      delete root._bokeh_onload_callbacks;\n    }\n    console.debug(\"Bokeh: all callbacks have finished\");\n  }\n\n  function load_libs(css_urls, js_urls, js_modules, js_exports, callback) {\n    if (css_urls == null) css_urls = [];\n    if (js_urls == null) js_urls = [];\n    if (js_modules == null) js_modules = [];\n    if (js_exports == null) js_exports = {};\n\n    root._bokeh_onload_callbacks.push(callback);\n\n    if (root._bokeh_is_loading > 0) {\n      console.debug(\"Bokeh: BokehJS is being loaded, scheduling callback at\", now());\n      return null;\n    }\n    if (js_urls.length === 0 && js_modules.length === 0 && Object.keys(js_exports).length === 0) {\n      run_callbacks();\n      return null;\n    }\n    if (!reloading) {\n      console.debug(\"Bokeh: BokehJS not loaded, scheduling load and callback at\", now());\n    }\n\n    function on_load() {\n      root._bokeh_is_loading--;\n      if (root._bokeh_is_loading === 0) {\n        console.debug(\"Bokeh: all BokehJS libraries/stylesheets loaded\");\n        run_callbacks()\n      }\n    }\n    window._bokeh_on_load = on_load\n\n    function on_error() {\n      console.error(\"failed to load \" + url);\n    }\n\n    var skip = [];\n    if (window.requirejs) {\n      window.requirejs.config({'packages': {}, 'paths': {'plotly': 'https://cdn.plot.ly/plotly-2.25.2.min'}, 'shim': {}});\n      require([\"plotly\"], function(Plotly) {\n\twindow.Plotly = Plotly\n\ton_load()\n      })\n      root._bokeh_is_loading = css_urls.length + 1;\n    } else {\n      root._bokeh_is_loading = css_urls.length + js_urls.length + js_modules.length + Object.keys(js_exports).length;\n    }\n\n    var existing_stylesheets = []\n    var links = document.getElementsByTagName('link')\n    for (var i = 0; i < links.length; i++) {\n      var link = links[i]\n      if (link.href != null) {\n\texisting_stylesheets.push(link.href)\n      }\n    }\n    for (var i = 0; i < css_urls.length; i++) {\n      var url = css_urls[i];\n      if (existing_stylesheets.indexOf(url) !== -1) {\n\ton_load()\n\tcontinue;\n      }\n      const element = document.createElement(\"link\");\n      element.onload = on_load;\n      element.onerror = on_error;\n      element.rel = \"stylesheet\";\n      element.type = \"text/css\";\n      element.href = url;\n      console.debug(\"Bokeh: injecting link tag for BokehJS stylesheet: \", url);\n      document.body.appendChild(element);\n    }    if (((window.Plotly !== undefined) && (!(window.Plotly instanceof HTMLElement))) || window.requirejs) {\n      var urls = ['https://cdn.holoviz.org/panel/1.4.1/dist/bundled/plotlyplot/plotly-2.25.2.min.js'];\n      for (var i = 0; i < urls.length; i++) {\n        skip.push(urls[i])\n      }\n    }    var existing_scripts = []\n    var scripts = document.getElementsByTagName('script')\n    for (var i = 0; i < scripts.length; i++) {\n      var script = scripts[i]\n      if (script.src != null) {\n\texisting_scripts.push(script.src)\n      }\n    }\n    for (var i = 0; i < js_urls.length; i++) {\n      var url = js_urls[i];\n      if (skip.indexOf(url) !== -1 || existing_scripts.indexOf(url) !== -1) {\n\tif (!window.requirejs) {\n\t  on_load();\n\t}\n\tcontinue;\n      }\n      var element = document.createElement('script');\n      element.onload = on_load;\n      element.onerror = on_error;\n      element.async = false;\n      element.src = url;\n      console.debug(\"Bokeh: injecting script tag for BokehJS library: \", url);\n      document.head.appendChild(element);\n    }\n    for (var i = 0; i < js_modules.length; i++) {\n      var url = js_modules[i];\n      if (skip.indexOf(url) !== -1 || existing_scripts.indexOf(url) !== -1) {\n\tif (!window.requirejs) {\n\t  on_load();\n\t}\n\tcontinue;\n      }\n      var element = document.createElement('script');\n      element.onload = on_load;\n      element.onerror = on_error;\n      element.async = false;\n      element.src = url;\n      element.type = \"module\";\n      console.debug(\"Bokeh: injecting script tag for BokehJS library: \", url);\n      document.head.appendChild(element);\n    }\n    for (const name in js_exports) {\n      var url = js_exports[name];\n      if (skip.indexOf(url) >= 0 || root[name] != null) {\n\tif (!window.requirejs) {\n\t  on_load();\n\t}\n\tcontinue;\n      }\n      var element = document.createElement('script');\n      element.onerror = on_error;\n      element.async = false;\n      element.type = \"module\";\n      console.debug(\"Bokeh: injecting script tag for BokehJS library: \", url);\n      element.textContent = `\n      import ${name} from \"${url}\"\n      window.${name} = ${name}\n      window._bokeh_on_load()\n      `\n      document.head.appendChild(element);\n    }\n    if (!js_urls.length && !js_modules.length) {\n      on_load()\n    }\n  };\n\n  function inject_raw_css(css) {\n    const element = document.createElement(\"style\");\n    element.appendChild(document.createTextNode(css));\n    document.body.appendChild(element);\n  }\n\n  var js_urls = [\"https://cdn.holoviz.org/panel/1.4.1/dist/bundled/jquery/jquery.slim.min.js\", \"https://cdn.holoviz.org/panel/1.4.1/dist/bundled/plotlyplot/plotly-2.25.2.min.js\"];\n  var js_modules = [];\n  var js_exports = {};\n  var css_urls = [];\n  var inline_js = [    function(Bokeh) {\n      Bokeh.set_log_level(\"info\");\n    },\nfunction(Bokeh) {} // ensure no trailing comma for IE\n  ];\n\n  function run_inline_js() {\n    if ((root.Bokeh !== undefined) || (force === true)) {\n      for (var i = 0; i < inline_js.length; i++) {\n\ttry {\n          inline_js[i].call(root, root.Bokeh);\n\t} catch(e) {\n\t  if (!reloading) {\n\t    throw e;\n\t  }\n\t}\n      }\n      // Cache old bokeh versions\n      if (Bokeh != undefined && !reloading) {\n\tvar NewBokeh = root.Bokeh;\n\tif (Bokeh.versions === undefined) {\n\t  Bokeh.versions = new Map();\n\t}\n\tif (NewBokeh.version !== Bokeh.version) {\n\t  Bokeh.versions.set(NewBokeh.version, NewBokeh)\n\t}\n\troot.Bokeh = Bokeh;\n      }} else if (Date.now() < root._bokeh_timeout) {\n      setTimeout(run_inline_js, 100);\n    } else if (!root._bokeh_failed_load) {\n      console.log(\"Bokeh: BokehJS failed to load within specified timeout.\");\n      root._bokeh_failed_load = true;\n    }\n    root._bokeh_is_initializing = false\n  }\n\n  function load_or_wait() {\n    // Implement a backoff loop that tries to ensure we do not load multiple\n    // versions of Bokeh and its dependencies at the same time.\n    // In recent versions we use the root._bokeh_is_initializing flag\n    // to determine whether there is an ongoing attempt to initialize\n    // bokeh, however for backward compatibility we also try to ensure\n    // that we do not start loading a newer (Panel>=1.0 and Bokeh>3) version\n    // before older versions are fully initialized.\n    if (root._bokeh_is_initializing && Date.now() > root._bokeh_timeout) {\n      root._bokeh_is_initializing = false;\n      root._bokeh_onload_callbacks = undefined;\n      console.log(\"Bokeh: BokehJS was loaded multiple times but one version failed to initialize.\");\n      load_or_wait();\n    } else if (root._bokeh_is_initializing || (typeof root._bokeh_is_initializing === \"undefined\" && root._bokeh_onload_callbacks !== undefined)) {\n      setTimeout(load_or_wait, 100);\n    } else {\n      root._bokeh_is_initializing = true\n      root._bokeh_onload_callbacks = []\n      var bokeh_loaded = Bokeh != null && (Bokeh.version === py_version || (Bokeh.versions !== undefined && Bokeh.versions.has(py_version)));\n      if (!reloading && !bokeh_loaded) {\n\troot.Bokeh = undefined;\n      }\n      load_libs(css_urls, js_urls, js_modules, js_exports, function() {\n\tconsole.debug(\"Bokeh: BokehJS plotting callback run at\", now());\n\trun_inline_js();\n      });\n    }\n  }\n  // Give older versions of the autoload script a head-start to ensure\n  // they initialize before we start loading newer version.\n  setTimeout(load_or_wait, 100)\n}(window));",
      "application/vnd.holoviews_load.v0+json": ""
     },
     "metadata": {},
     "output_type": "display_data"
    },
    {
     "data": {
      "application/javascript": "\nif ((window.PyViz === undefined) || (window.PyViz instanceof HTMLElement)) {\n  window.PyViz = {comms: {}, comm_status:{}, kernels:{}, receivers: {}, plot_index: []}\n}\n\n\n    function JupyterCommManager() {\n    }\n\n    JupyterCommManager.prototype.register_target = function(plot_id, comm_id, msg_handler) {\n      if (window.comm_manager || ((window.Jupyter !== undefined) && (Jupyter.notebook.kernel != null))) {\n        var comm_manager = window.comm_manager || Jupyter.notebook.kernel.comm_manager;\n        comm_manager.register_target(comm_id, function(comm) {\n          comm.on_msg(msg_handler);\n        });\n      } else if ((plot_id in window.PyViz.kernels) && (window.PyViz.kernels[plot_id])) {\n        window.PyViz.kernels[plot_id].registerCommTarget(comm_id, function(comm) {\n          comm.onMsg = msg_handler;\n        });\n      } else if (typeof google != 'undefined' && google.colab.kernel != null) {\n        google.colab.kernel.comms.registerTarget(comm_id, (comm) => {\n          var messages = comm.messages[Symbol.asyncIterator]();\n          function processIteratorResult(result) {\n            var message = result.value;\n            console.log(message)\n            var content = {data: message.data, comm_id};\n            var buffers = []\n            for (var buffer of message.buffers || []) {\n              buffers.push(new DataView(buffer))\n            }\n            var metadata = message.metadata || {};\n            var msg = {content, buffers, metadata}\n            msg_handler(msg);\n            return messages.next().then(processIteratorResult);\n          }\n          return messages.next().then(processIteratorResult);\n        })\n      }\n    }\n\n    JupyterCommManager.prototype.get_client_comm = function(plot_id, comm_id, msg_handler) {\n      if (comm_id in window.PyViz.comms) {\n        return window.PyViz.comms[comm_id];\n      } else if (window.comm_manager || ((window.Jupyter !== undefined) && (Jupyter.notebook.kernel != null))) {\n        var comm_manager = window.comm_manager || Jupyter.notebook.kernel.comm_manager;\n        var comm = comm_manager.new_comm(comm_id, {}, {}, {}, comm_id);\n        if (msg_handler) {\n          comm.on_msg(msg_handler);\n        }\n      } else if ((plot_id in window.PyViz.kernels) && (window.PyViz.kernels[plot_id])) {\n        var comm = window.PyViz.kernels[plot_id].connectToComm(comm_id);\n        comm.open();\n        if (msg_handler) {\n          comm.onMsg = msg_handler;\n        }\n      } else if (typeof google != 'undefined' && google.colab.kernel != null) {\n        var comm_promise = google.colab.kernel.comms.open(comm_id)\n        comm_promise.then((comm) => {\n          window.PyViz.comms[comm_id] = comm;\n          if (msg_handler) {\n            var messages = comm.messages[Symbol.asyncIterator]();\n            function processIteratorResult(result) {\n              var message = result.value;\n              var content = {data: message.data};\n              var metadata = message.metadata || {comm_id};\n              var msg = {content, metadata}\n              msg_handler(msg);\n              return messages.next().then(processIteratorResult);\n            }\n            return messages.next().then(processIteratorResult);\n          }\n        }) \n        var sendClosure = (data, metadata, buffers, disposeOnDone) => {\n          return comm_promise.then((comm) => {\n            comm.send(data, metadata, buffers, disposeOnDone);\n          });\n        };\n        var comm = {\n          send: sendClosure\n        };\n      }\n      window.PyViz.comms[comm_id] = comm;\n      return comm;\n    }\n    window.PyViz.comm_manager = new JupyterCommManager();\n    \n\n\nvar JS_MIME_TYPE = 'application/javascript';\nvar HTML_MIME_TYPE = 'text/html';\nvar EXEC_MIME_TYPE = 'application/vnd.holoviews_exec.v0+json';\nvar CLASS_NAME = 'output';\n\n/**\n * Render data to the DOM node\n */\nfunction render(props, node) {\n  var div = document.createElement(\"div\");\n  var script = document.createElement(\"script\");\n  node.appendChild(div);\n  node.appendChild(script);\n}\n\n/**\n * Handle when a new output is added\n */\nfunction handle_add_output(event, handle) {\n  var output_area = handle.output_area;\n  var output = handle.output;\n  if ((output.data == undefined) || (!output.data.hasOwnProperty(EXEC_MIME_TYPE))) {\n    return\n  }\n  var id = output.metadata[EXEC_MIME_TYPE][\"id\"];\n  var toinsert = output_area.element.find(\".\" + CLASS_NAME.split(' ')[0]);\n  if (id !== undefined) {\n    var nchildren = toinsert.length;\n    var html_node = toinsert[nchildren-1].children[0];\n    html_node.innerHTML = output.data[HTML_MIME_TYPE];\n    var scripts = [];\n    var nodelist = html_node.querySelectorAll(\"script\");\n    for (var i in nodelist) {\n      if (nodelist.hasOwnProperty(i)) {\n        scripts.push(nodelist[i])\n      }\n    }\n\n    scripts.forEach( function (oldScript) {\n      var newScript = document.createElement(\"script\");\n      var attrs = [];\n      var nodemap = oldScript.attributes;\n      for (var j in nodemap) {\n        if (nodemap.hasOwnProperty(j)) {\n          attrs.push(nodemap[j])\n        }\n      }\n      attrs.forEach(function(attr) { newScript.setAttribute(attr.name, attr.value) });\n      newScript.appendChild(document.createTextNode(oldScript.innerHTML));\n      oldScript.parentNode.replaceChild(newScript, oldScript);\n    });\n    if (JS_MIME_TYPE in output.data) {\n      toinsert[nchildren-1].children[1].textContent = output.data[JS_MIME_TYPE];\n    }\n    output_area._hv_plot_id = id;\n    if ((window.Bokeh !== undefined) && (id in Bokeh.index)) {\n      window.PyViz.plot_index[id] = Bokeh.index[id];\n    } else {\n      window.PyViz.plot_index[id] = null;\n    }\n  } else if (output.metadata[EXEC_MIME_TYPE][\"server_id\"] !== undefined) {\n    var bk_div = document.createElement(\"div\");\n    bk_div.innerHTML = output.data[HTML_MIME_TYPE];\n    var script_attrs = bk_div.children[0].attributes;\n    for (var i = 0; i < script_attrs.length; i++) {\n      toinsert[toinsert.length - 1].childNodes[1].setAttribute(script_attrs[i].name, script_attrs[i].value);\n    }\n    // store reference to server id on output_area\n    output_area._bokeh_server_id = output.metadata[EXEC_MIME_TYPE][\"server_id\"];\n  }\n}\n\n/**\n * Handle when an output is cleared or removed\n */\nfunction handle_clear_output(event, handle) {\n  var id = handle.cell.output_area._hv_plot_id;\n  var server_id = handle.cell.output_area._bokeh_server_id;\n  if (((id === undefined) || !(id in PyViz.plot_index)) && (server_id !== undefined)) { return; }\n  var comm = window.PyViz.comm_manager.get_client_comm(\"hv-extension-comm\", \"hv-extension-comm\", function () {});\n  if (server_id !== null) {\n    comm.send({event_type: 'server_delete', 'id': server_id});\n    return;\n  } else if (comm !== null) {\n    comm.send({event_type: 'delete', 'id': id});\n  }\n  delete PyViz.plot_index[id];\n  if ((window.Bokeh !== undefined) & (id in window.Bokeh.index)) {\n    var doc = window.Bokeh.index[id].model.document\n    doc.clear();\n    const i = window.Bokeh.documents.indexOf(doc);\n    if (i > -1) {\n      window.Bokeh.documents.splice(i, 1);\n    }\n  }\n}\n\n/**\n * Handle kernel restart event\n */\nfunction handle_kernel_cleanup(event, handle) {\n  delete PyViz.comms[\"hv-extension-comm\"];\n  window.PyViz.plot_index = {}\n}\n\n/**\n * Handle update_display_data messages\n */\nfunction handle_update_output(event, handle) {\n  handle_clear_output(event, {cell: {output_area: handle.output_area}})\n  handle_add_output(event, handle)\n}\n\nfunction register_renderer(events, OutputArea) {\n  function append_mime(data, metadata, element) {\n    // create a DOM node to render to\n    var toinsert = this.create_output_subarea(\n    metadata,\n    CLASS_NAME,\n    EXEC_MIME_TYPE\n    );\n    this.keyboard_manager.register_events(toinsert);\n    // Render to node\n    var props = {data: data, metadata: metadata[EXEC_MIME_TYPE]};\n    render(props, toinsert[0]);\n    element.append(toinsert);\n    return toinsert\n  }\n\n  events.on('output_added.OutputArea', handle_add_output);\n  events.on('output_updated.OutputArea', handle_update_output);\n  events.on('clear_output.CodeCell', handle_clear_output);\n  events.on('delete.Cell', handle_clear_output);\n  events.on('kernel_ready.Kernel', handle_kernel_cleanup);\n\n  OutputArea.prototype.register_mime_type(EXEC_MIME_TYPE, append_mime, {\n    safe: true,\n    index: 0\n  });\n}\n\nif (window.Jupyter !== undefined) {\n  try {\n    var events = require('base/js/events');\n    var OutputArea = require('notebook/js/outputarea').OutputArea;\n    if (OutputArea.prototype.mime_types().indexOf(EXEC_MIME_TYPE) == -1) {\n      register_renderer(events, OutputArea);\n    }\n  } catch(err) {\n  }\n}\n",
      "application/vnd.holoviews_load.v0+json": ""
     },
     "metadata": {},
     "output_type": "display_data"
    },
    {
     "data": {
      "text/html": [
       "<style>*[data-root-id],\n",
       "*[data-root-id] > * {\n",
       "  box-sizing: border-box;\n",
       "  font-family: var(--jp-ui-font-family);\n",
       "  font-size: var(--jp-ui-font-size1);\n",
       "  color: var(--vscode-editor-foreground, var(--jp-ui-font-color1));\n",
       "}\n",
       "\n",
       "/* Override VSCode background color */\n",
       ".cell-output-ipywidget-background:has(\n",
       "    > .cell-output-ipywidget-background > .lm-Widget > *[data-root-id]\n",
       "  ),\n",
       ".cell-output-ipywidget-background:has(> .lm-Widget > *[data-root-id]) {\n",
       "  background-color: transparent !important;\n",
       "}\n",
       "</style>"
      ]
     },
     "metadata": {},
     "output_type": "display_data"
    },
    {
     "data": {
      "application/vnd.holoviews_exec.v0+json": "",
      "text/html": [
       "<div id='59995081-b980-425b-b537-2700e1b1e6fe'>\n",
       "  <div id=\"f07ead72-800f-4990-8cbb-642078369062\" data-root-id=\"59995081-b980-425b-b537-2700e1b1e6fe\" style=\"display: contents;\"></div>\n",
       "</div>\n",
       "<script type=\"application/javascript\">(function(root) {\n",
       "  var docs_json = {\"05cc029f-3947-4097-ad62-e5e751bf65d3\":{\"version\":\"3.4.0\",\"title\":\"Bokeh Application\",\"roots\":[{\"type\":\"object\",\"name\":\"panel.models.browser.BrowserInfo\",\"id\":\"59995081-b980-425b-b537-2700e1b1e6fe\"},{\"type\":\"object\",\"name\":\"panel.models.comm_manager.CommManager\",\"id\":\"c302e0fa-1e83-4ea2-8612-9825e0bc3219\",\"attributes\":{\"plot_id\":\"59995081-b980-425b-b537-2700e1b1e6fe\",\"comm_id\":\"491b3fd356e24fb6b478cba3480b8ec1\",\"client_comm_id\":\"2ebda2a3b6434010bfa78601c4a2fa49\"}}],\"defs\":[{\"type\":\"model\",\"name\":\"ReactiveHTML1\"},{\"type\":\"model\",\"name\":\"FlexBox1\",\"properties\":[{\"name\":\"align_content\",\"kind\":\"Any\",\"default\":\"flex-start\"},{\"name\":\"align_items\",\"kind\":\"Any\",\"default\":\"flex-start\"},{\"name\":\"flex_direction\",\"kind\":\"Any\",\"default\":\"row\"},{\"name\":\"flex_wrap\",\"kind\":\"Any\",\"default\":\"wrap\"},{\"name\":\"gap\",\"kind\":\"Any\",\"default\":\"\"},{\"name\":\"justify_content\",\"kind\":\"Any\",\"default\":\"flex-start\"}]},{\"type\":\"model\",\"name\":\"FloatPanel1\",\"properties\":[{\"name\":\"config\",\"kind\":\"Any\",\"default\":{\"type\":\"map\"}},{\"name\":\"contained\",\"kind\":\"Any\",\"default\":true},{\"name\":\"position\",\"kind\":\"Any\",\"default\":\"right-top\"},{\"name\":\"offsetx\",\"kind\":\"Any\",\"default\":null},{\"name\":\"offsety\",\"kind\":\"Any\",\"default\":null},{\"name\":\"theme\",\"kind\":\"Any\",\"default\":\"primary\"},{\"name\":\"status\",\"kind\":\"Any\",\"default\":\"normalized\"}]},{\"type\":\"model\",\"name\":\"GridStack1\",\"properties\":[{\"name\":\"mode\",\"kind\":\"Any\",\"default\":\"warn\"},{\"name\":\"ncols\",\"kind\":\"Any\",\"default\":null},{\"name\":\"nrows\",\"kind\":\"Any\",\"default\":null},{\"name\":\"allow_resize\",\"kind\":\"Any\",\"default\":true},{\"name\":\"allow_drag\",\"kind\":\"Any\",\"default\":true},{\"name\":\"state\",\"kind\":\"Any\",\"default\":[]}]},{\"type\":\"model\",\"name\":\"drag1\",\"properties\":[{\"name\":\"slider_width\",\"kind\":\"Any\",\"default\":5},{\"name\":\"slider_color\",\"kind\":\"Any\",\"default\":\"black\"},{\"name\":\"value\",\"kind\":\"Any\",\"default\":50}]},{\"type\":\"model\",\"name\":\"click1\",\"properties\":[{\"name\":\"terminal_output\",\"kind\":\"Any\",\"default\":\"\"},{\"name\":\"debug_name\",\"kind\":\"Any\",\"default\":\"\"},{\"name\":\"clears\",\"kind\":\"Any\",\"default\":0}]},{\"type\":\"model\",\"name\":\"FastWrapper1\",\"properties\":[{\"name\":\"object\",\"kind\":\"Any\",\"default\":null},{\"name\":\"style\",\"kind\":\"Any\",\"default\":null}]},{\"type\":\"model\",\"name\":\"NotificationAreaBase1\",\"properties\":[{\"name\":\"js_events\",\"kind\":\"Any\",\"default\":{\"type\":\"map\"}},{\"name\":\"position\",\"kind\":\"Any\",\"default\":\"bottom-right\"},{\"name\":\"_clear\",\"kind\":\"Any\",\"default\":0}]},{\"type\":\"model\",\"name\":\"NotificationArea1\",\"properties\":[{\"name\":\"js_events\",\"kind\":\"Any\",\"default\":{\"type\":\"map\"}},{\"name\":\"notifications\",\"kind\":\"Any\",\"default\":[]},{\"name\":\"position\",\"kind\":\"Any\",\"default\":\"bottom-right\"},{\"name\":\"_clear\",\"kind\":\"Any\",\"default\":0},{\"name\":\"types\",\"kind\":\"Any\",\"default\":[{\"type\":\"map\",\"entries\":[[\"type\",\"warning\"],[\"background\",\"#ffc107\"],[\"icon\",{\"type\":\"map\",\"entries\":[[\"className\",\"fas fa-exclamation-triangle\"],[\"tagName\",\"i\"],[\"color\",\"white\"]]}]]},{\"type\":\"map\",\"entries\":[[\"type\",\"info\"],[\"background\",\"#007bff\"],[\"icon\",{\"type\":\"map\",\"entries\":[[\"className\",\"fas fa-info-circle\"],[\"tagName\",\"i\"],[\"color\",\"white\"]]}]]}]}]},{\"type\":\"model\",\"name\":\"Notification\",\"properties\":[{\"name\":\"background\",\"kind\":\"Any\",\"default\":null},{\"name\":\"duration\",\"kind\":\"Any\",\"default\":3000},{\"name\":\"icon\",\"kind\":\"Any\",\"default\":null},{\"name\":\"message\",\"kind\":\"Any\",\"default\":\"\"},{\"name\":\"notification_type\",\"kind\":\"Any\",\"default\":null},{\"name\":\"_destroyed\",\"kind\":\"Any\",\"default\":false}]},{\"type\":\"model\",\"name\":\"TemplateActions1\",\"properties\":[{\"name\":\"open_modal\",\"kind\":\"Any\",\"default\":0},{\"name\":\"close_modal\",\"kind\":\"Any\",\"default\":0}]},{\"type\":\"model\",\"name\":\"BootstrapTemplateActions1\",\"properties\":[{\"name\":\"open_modal\",\"kind\":\"Any\",\"default\":0},{\"name\":\"close_modal\",\"kind\":\"Any\",\"default\":0}]},{\"type\":\"model\",\"name\":\"TemplateEditor1\",\"properties\":[{\"name\":\"layout\",\"kind\":\"Any\",\"default\":[]}]},{\"type\":\"model\",\"name\":\"MaterialTemplateActions1\",\"properties\":[{\"name\":\"open_modal\",\"kind\":\"Any\",\"default\":0},{\"name\":\"close_modal\",\"kind\":\"Any\",\"default\":0}]},{\"type\":\"model\",\"name\":\"copy_to_clipboard1\",\"properties\":[{\"name\":\"fill\",\"kind\":\"Any\",\"default\":\"none\"},{\"name\":\"value\",\"kind\":\"Any\",\"default\":null}]}]}};\n",
       "  var render_items = [{\"docid\":\"05cc029f-3947-4097-ad62-e5e751bf65d3\",\"roots\":{\"59995081-b980-425b-b537-2700e1b1e6fe\":\"f07ead72-800f-4990-8cbb-642078369062\"},\"root_ids\":[\"59995081-b980-425b-b537-2700e1b1e6fe\"]}];\n",
       "  var docs = Object.values(docs_json)\n",
       "  if (!docs) {\n",
       "    return\n",
       "  }\n",
       "  const py_version = docs[0].version.replace('rc', '-rc.').replace('.dev', '-dev.')\n",
       "  function embed_document(root) {\n",
       "    var Bokeh = get_bokeh(root)\n",
       "    Bokeh.embed.embed_items_notebook(docs_json, render_items);\n",
       "    for (const render_item of render_items) {\n",
       "      for (const root_id of render_item.root_ids) {\n",
       "\tconst id_el = document.getElementById(root_id)\n",
       "\tif (id_el.children.length && (id_el.children[0].className === 'bk-root')) {\n",
       "\t  const root_el = id_el.children[0]\n",
       "\t  root_el.id = root_el.id + '-rendered'\n",
       "\t}\n",
       "      }\n",
       "    }\n",
       "  }\n",
       "  function get_bokeh(root) {\n",
       "    if (root.Bokeh === undefined) {\n",
       "      return null\n",
       "    } else if (root.Bokeh.version !== py_version) {\n",
       "      if (root.Bokeh.versions === undefined || !root.Bokeh.versions.has(py_version)) {\n",
       "\treturn null\n",
       "      }\n",
       "      return root.Bokeh.versions.get(py_version);\n",
       "    } else if (root.Bokeh.version === py_version) {\n",
       "      return root.Bokeh\n",
       "    }\n",
       "    return null\n",
       "  }\n",
       "  function is_loaded(root) {\n",
       "    var Bokeh = get_bokeh(root)\n",
       "    return (Bokeh != null && Bokeh.Panel !== undefined && ( root.Plotly !== undefined) && ( root.Plotly !== undefined))\n",
       "  }\n",
       "  if (is_loaded(root)) {\n",
       "    embed_document(root);\n",
       "  } else {\n",
       "    var attempts = 0;\n",
       "    var timer = setInterval(function(root) {\n",
       "      if (is_loaded(root)) {\n",
       "        clearInterval(timer);\n",
       "        embed_document(root);\n",
       "      } else if (document.readyState == \"complete\") {\n",
       "        attempts++;\n",
       "        if (attempts > 200) {\n",
       "          clearInterval(timer);\n",
       "\t  var Bokeh = get_bokeh(root)\n",
       "\t  if (Bokeh == null || Bokeh.Panel == null) {\n",
       "            console.warn(\"Panel: ERROR: Unable to run Panel code because Bokeh or Panel library is missing\");\n",
       "\t  } else {\n",
       "\t    console.warn(\"Panel: WARNING: Attempting to render but not all required libraries could be resolved.\")\n",
       "\t    embed_document(root)\n",
       "\t  }\n",
       "        }\n",
       "      }\n",
       "    }, 25, root)\n",
       "  }\n",
       "})(window);</script>"
      ]
     },
     "metadata": {
      "application/vnd.holoviews_exec.v0+json": {
       "id": "59995081-b980-425b-b537-2700e1b1e6fe"
      }
     },
     "output_type": "display_data"
    },
    {
     "data": {
      "text/plain": [
       "polars.config.Config"
      ]
     },
     "execution_count": 1,
     "metadata": {},
     "output_type": "execute_result"
    }
   ],
   "source": [
    "from ethpandaops_python.hypersync import Hypersync\n",
    "from ethpandaops_python.preprocessor import Preprocessor\n",
    "from holoviews import opts\n",
    "import nest_asyncio\n",
    "import polars as pl\n",
    "import panel as pn\n",
    "\n",
    "\n",
    "nest_asyncio.apply()\n",
    "pn.extension(\"plotly\", template=\"material\", sizing_mode=\"stretch_width\")\n",
    "pl.Config.set_fmt_str_lengths(200)\n",
    "pl.Config.set_fmt_float(\"full\")"
   ]
  },
  {
   "cell_type": "markdown",
   "metadata": {},
   "source": [
    "### Data Query"
   ]
  },
  {
   "cell_type": "code",
   "execution_count": 2,
   "metadata": {},
   "outputs": [],
   "source": [
    "arbitrum: str = \"0xC1b634853Cb333D3aD8663715b08f41A3Aec47cc\"\n",
    "base: str = \"0x5050F69a9786F081509234F1a7F4684b5E5b76C9\"\n",
    "num_days: int = 5\n",
    "preprocessor: Preprocessor = Preprocessor(\n",
    "    blob_producer=base,\n",
    "    period=num_days,\n",
    "    network=\"mainnet\",  # mainnet\n",
    ")\n",
    "\n",
    "client = Hypersync()\n",
    "\n",
    "txs_df = client.query_txs(address=base.lower(), period=(num_days))"
   ]
  },
  {
   "cell_type": "code",
   "execution_count": 3,
   "metadata": {},
   "outputs": [],
   "source": [
    "# get preprocessed data\n",
    "slot_inclusion_df: pl.DataFrame = preprocessor.slot_inclusion()"
   ]
  },
  {
   "cell_type": "code",
   "execution_count": 4,
   "metadata": {},
   "outputs": [],
   "source": [
    "processed_slot_inclusion_df = (\n",
    "    slot_inclusion_df.drop_nulls()\n",
    "    .drop(\n",
    "        \"meta_network_name\",\n",
    "        \"block_root\",\n",
    "        \"blob_size\",\n",
    "        \"from\",\n",
    "        \"to\",\n",
    "        \"blob_hashes_length\",\n",
    "        \"blob_sidecars_size\",\n",
    "    )\n",
    "    # there is an outlier in the data that has an unusually high slot count, I think it might be an error with the xatu mempool data.\n",
    "    # additionally there is currently a single tx with 5 blobs and 1 with 7. Since it's a single row, I think it's easier to just discard and ignore for now\n",
    "    .filter(pl.col(\"slot inclusion rate\") < 250)\n",
    "    .filter(pl.col(\"slot inclusion rate (50 blob average)\") < 40)\n",
    ")"
   ]
  },
  {
   "cell_type": "code",
   "execution_count": 5,
   "metadata": {},
   "outputs": [],
   "source": [
    "joined_processed_slot_inclusion_df = processed_slot_inclusion_df.join(\n",
    "    txs_df, on=\"hash\", how=\"left\"\n",
    ")"
   ]
  },
  {
   "cell_type": "code",
   "execution_count": 6,
   "metadata": {},
   "outputs": [],
   "source": [
    "slot_inclusion_tx_df = (\n",
    "    (\n",
    "        joined_processed_slot_inclusion_df.with_columns(\n",
    "            (pl.col(\"effective_gas_price\") / 10**9)\n",
    "            .round(3)\n",
    "            .alias(\n",
    "                \"effective_gas_price_gwei\"\n",
    "            ),  # gas price in gwei that was paid, including priority fee\n",
    "            (pl.col(\"max_fee_per_gas\") / 10**9)\n",
    "            .round(3)\n",
    "            .alias(\n",
    "                \"max_fee_per_gas_gwei\"\n",
    "            ),  # max gas price in gwei that rollup is willing to pay\n",
    "            (pl.col(\"max_priority_fee_per_gas\") / 10**9)\n",
    "            .round(3)\n",
    "            # priority gas fee in gwei,\n",
    "            .alias(\"max_priority_fee_per_gas_gwei\"),\n",
    "        )\n",
    "    )\n",
    "    .drop_nulls()\n",
    "    .sort(by=\"submission_count\", descending=True)\n",
    ")"
   ]
  },
  {
   "cell_type": "code",
   "execution_count": 7,
   "metadata": {},
   "outputs": [
    {
     "data": {
      "text/html": [
       "<div><style>\n",
       ".dataframe > thead > tr,\n",
       ".dataframe > tbody > tr {\n",
       "  text-align: right;\n",
       "  white-space: pre-wrap;\n",
       "}\n",
       "</style>\n",
       "<small>shape: (5, 34)</small><table border=\"1\" class=\"dataframe\"><thead><tr><th>versioned_hash</th><th>nonce</th><th>event_date_time_min</th><th>event_date_time_max</th><th>fill_percentage</th><th>blob_gas</th><th>blob_gas_fee_cap</th><th>gas_price</th><th>gas_tip_cap</th><th>gas_fee_cap</th><th>hash</th><th>submission_count</th><th>slot</th><th>slot time</th><th>kzg_commitment</th><th>blob_empty_size</th><th>beacon_inclusion_time</th><th>slot inclusion rate</th><th>slot inclusion rate (50 blob average)</th><th>slot target inclusion rate (2 slots)</th><th>block_number</th><th>from_</th><th>to</th><th>gas</th><th>transaction_index</th><th>gas_price_right</th><th>effective_gas_price</th><th>gas_used</th><th>cumulative_gas_used</th><th>max_fee_per_gas</th><th>max_priority_fee_per_gas</th><th>effective_gas_price_gwei</th><th>max_fee_per_gas_gwei</th><th>max_priority_fee_per_gas_gwei</th></tr><tr><td>str</td><td>u64</td><td>datetime[ms]</td><td>datetime[ms]</td><td>f64</td><td>f64</td><td>f64</td><td>f64</td><td>f64</td><td>f64</td><td>str</td><td>u32</td><td>u32</td><td>datetime[ms]</td><td>str</td><td>u32</td><td>f64</td><td>f64</td><td>f64</td><td>i32</td><td>i64</td><td>str</td><td>str</td><td>f64</td><td>i64</td><td>f64</td><td>f64</td><td>f64</td><td>f64</td><td>f64</td><td>f64</td><td>f64</td><td>f64</td><td>f64</td></tr></thead><tbody><tr><td>&quot;0x0191095f5a3af3d9685cc9f45be3e1dd8ea8b89caca83b164172e337b6fb7824&quot;</td><td>383167</td><td>2024-04-06 19:44:56.432</td><td>2024-04-06 19:44:57.288</td><td>97.34999999999998</td><td>786432</td><td>1000000000</td><td>30581383300</td><td>2000000000</td><td>30581383300</td><td>&quot;0xab2b775aa9c647223962e08e5017bfe98e74c7ca70d45af92548a13dec07087f&quot;</td><td>1</td><td>8800724</td><td>2024-04-06 19:45:11</td><td>&quot;0xb5f0d52f8d6e4a2100e3347238407d611950997b827e4475a546f3de8050833741a5829f4750dbd41b1681f4ecb28778&quot;</td><td>0</td><td>14.568</td><td>2</td><td>1.76</td><td>2</td><td>19598847</td><td>&quot;0x5050f69a9786f081509234f1a7f4684b5e5b76c9&quot;</td><td>&quot;0xff00000000000000000000000000000000008453&quot;</td><td>21000</td><td>111</td><td>14544557645</td><td>14544557645</td><td>21000</td><td>8084200</td><td>30581383300</td><td>2000000000</td><td>14.545</td><td>30.581</td><td>2</td></tr><tr><td>&quot;0x01af2c1e4b015c8f881da4c34fa738b5b6c0280d2a7295a839fa767eb73adc16&quot;</td><td>383167</td><td>2024-04-06 19:44:56.432</td><td>2024-04-06 19:44:57.288</td><td>97.34999999999998</td><td>786432</td><td>1000000000</td><td>30581383300</td><td>2000000000</td><td>30581383300</td><td>&quot;0xab2b775aa9c647223962e08e5017bfe98e74c7ca70d45af92548a13dec07087f&quot;</td><td>1</td><td>8800724</td><td>2024-04-06 19:45:11</td><td>&quot;0x83c9022464f6f251345f667d5165dad9ee55e1e4e003b74ed84649c43e184d190fdb7497c251a197b37e7c09ea9d0b70&quot;</td><td>0</td><td>14.568</td><td>2</td><td>1.76</td><td>2</td><td>19598847</td><td>&quot;0x5050f69a9786f081509234f1a7f4684b5e5b76c9&quot;</td><td>&quot;0xff00000000000000000000000000000000008453&quot;</td><td>21000</td><td>111</td><td>14544557645</td><td>14544557645</td><td>21000</td><td>8084200</td><td>30581383300</td><td>2000000000</td><td>14.545</td><td>30.581</td><td>2</td></tr><tr><td>&quot;0x019cdb3ff2cbed01b05144f518a3b157d3fdf97b1e7257ce0164fc004932853e&quot;</td><td>383167</td><td>2024-04-06 19:44:56.432</td><td>2024-04-06 19:44:57.288</td><td>97.34999999999998</td><td>786432</td><td>1000000000</td><td>30581383300</td><td>2000000000</td><td>30581383300</td><td>&quot;0xab2b775aa9c647223962e08e5017bfe98e74c7ca70d45af92548a13dec07087f&quot;</td><td>1</td><td>8800724</td><td>2024-04-06 19:45:11</td><td>&quot;0xab01cbffecea0b006e6898d21f949b71acdeb860d9a5c8449ffc602dd6a731dfe57e994c564f0fb854a156674bfc1760&quot;</td><td>20805</td><td>14.568</td><td>2</td><td>1.76</td><td>2</td><td>19598847</td><td>&quot;0x5050f69a9786f081509234f1a7f4684b5e5b76c9&quot;</td><td>&quot;0xff00000000000000000000000000000000008453&quot;</td><td>21000</td><td>111</td><td>14544557645</td><td>14544557645</td><td>21000</td><td>8084200</td><td>30581383300</td><td>2000000000</td><td>14.545</td><td>30.581</td><td>2</td></tr><tr><td>&quot;0x013bc43d7887e47bc144c06a4c58d230c4cbc740b36a03ac446d4d3c03dc6dc5&quot;</td><td>383167</td><td>2024-04-06 19:44:56.432</td><td>2024-04-06 19:44:57.288</td><td>97.34999999999998</td><td>786432</td><td>1000000000</td><td>30581383300</td><td>2000000000</td><td>30581383300</td><td>&quot;0xab2b775aa9c647223962e08e5017bfe98e74c7ca70d45af92548a13dec07087f&quot;</td><td>1</td><td>8800724</td><td>2024-04-06 19:45:11</td><td>&quot;0x930262ebbbeb6ffb534087cd6a1f62fb46540e0d28aa8c5385a6b8faf9fc4c643b2348956b9816f19ffabff1c578a124&quot;</td><td>0</td><td>14.568</td><td>2</td><td>1.76</td><td>2</td><td>19598847</td><td>&quot;0x5050f69a9786f081509234f1a7f4684b5e5b76c9&quot;</td><td>&quot;0xff00000000000000000000000000000000008453&quot;</td><td>21000</td><td>111</td><td>14544557645</td><td>14544557645</td><td>21000</td><td>8084200</td><td>30581383300</td><td>2000000000</td><td>14.545</td><td>30.581</td><td>2</td></tr><tr><td>&quot;0x0178a8c8a98e5ad8982f8f3da002ff7dd9e1f3b04c7d2b233699758eb7ec6ddc&quot;</td><td>383167</td><td>2024-04-06 19:44:56.432</td><td>2024-04-06 19:44:57.288</td><td>97.34999999999998</td><td>786432</td><td>1000000000</td><td>30581383300</td><td>2000000000</td><td>30581383300</td><td>&quot;0xab2b775aa9c647223962e08e5017bfe98e74c7ca70d45af92548a13dec07087f&quot;</td><td>1</td><td>8800724</td><td>2024-04-06 19:45:11</td><td>&quot;0x86c626a89d47b8b60b7367672588988f9350ea8ee89da9abbdd7b38f302e6f60ec4cf08d6f7135575dc3bf157e4848c4&quot;</td><td>0</td><td>14.568</td><td>2</td><td>1.76</td><td>2</td><td>19598847</td><td>&quot;0x5050f69a9786f081509234f1a7f4684b5e5b76c9&quot;</td><td>&quot;0xff00000000000000000000000000000000008453&quot;</td><td>21000</td><td>111</td><td>14544557645</td><td>14544557645</td><td>21000</td><td>8084200</td><td>30581383300</td><td>2000000000</td><td>14.545</td><td>30.581</td><td>2</td></tr></tbody></table></div>"
      ],
      "text/plain": [
       "shape: (5, 34)\n",
       "┌────────────┬────────┬────────────┬───────────┬───┬───────────┬───────────┬───────────┬───────────┐\n",
       "│ versioned_ ┆ nonce  ┆ event_date ┆ event_dat ┆ … ┆ max_prior ┆ effective ┆ max_fee_p ┆ max_prior │\n",
       "│ hash       ┆ ---    ┆ _time_min  ┆ e_time_ma ┆   ┆ ity_fee_p ┆ _gas_pric ┆ er_gas_gw ┆ ity_fee_p │\n",
       "│ ---        ┆ u64    ┆ ---        ┆ x         ┆   ┆ er_gas    ┆ e_gwei    ┆ ei        ┆ er_gas_gw │\n",
       "│ str        ┆        ┆ datetime[m ┆ ---       ┆   ┆ ---       ┆ ---       ┆ ---       ┆ ei        │\n",
       "│            ┆        ┆ s]         ┆ datetime[ ┆   ┆ f64       ┆ f64       ┆ f64       ┆ ---       │\n",
       "│            ┆        ┆            ┆ ms]       ┆   ┆           ┆           ┆           ┆ f64       │\n",
       "╞════════════╪════════╪════════════╪═══════════╪═══╪═══════════╪═══════════╪═══════════╪═══════════╡\n",
       "│ 0x0191095f ┆ 383167 ┆ 2024-04-06 ┆ 2024-04-0 ┆ … ┆ 200000000 ┆ 14.545    ┆ 30.581    ┆ 2         │\n",
       "│ 5a3af3d968 ┆        ┆ 19:44:56.4 ┆ 6 19:44:5 ┆   ┆ 0         ┆           ┆           ┆           │\n",
       "│ 5cc9f45be3 ┆        ┆ 32         ┆ 7.288     ┆   ┆           ┆           ┆           ┆           │\n",
       "│ e1dd8ea8b8 ┆        ┆            ┆           ┆   ┆           ┆           ┆           ┆           │\n",
       "│ 9caca83b16 ┆        ┆            ┆           ┆   ┆           ┆           ┆           ┆           │\n",
       "│ 4172e337b6 ┆        ┆            ┆           ┆   ┆           ┆           ┆           ┆           │\n",
       "│ fb7824     ┆        ┆            ┆           ┆   ┆           ┆           ┆           ┆           │\n",
       "│ 0x01af2c1e ┆ 383167 ┆ 2024-04-06 ┆ 2024-04-0 ┆ … ┆ 200000000 ┆ 14.545    ┆ 30.581    ┆ 2         │\n",
       "│ 4b015c8f88 ┆        ┆ 19:44:56.4 ┆ 6 19:44:5 ┆   ┆ 0         ┆           ┆           ┆           │\n",
       "│ 1da4c34fa7 ┆        ┆ 32         ┆ 7.288     ┆   ┆           ┆           ┆           ┆           │\n",
       "│ 38b5b6c028 ┆        ┆            ┆           ┆   ┆           ┆           ┆           ┆           │\n",
       "│ 0d2a7295a8 ┆        ┆            ┆           ┆   ┆           ┆           ┆           ┆           │\n",
       "│ 39fa767eb7 ┆        ┆            ┆           ┆   ┆           ┆           ┆           ┆           │\n",
       "│ 3adc16     ┆        ┆            ┆           ┆   ┆           ┆           ┆           ┆           │\n",
       "│ 0x019cdb3f ┆ 383167 ┆ 2024-04-06 ┆ 2024-04-0 ┆ … ┆ 200000000 ┆ 14.545    ┆ 30.581    ┆ 2         │\n",
       "│ f2cbed01b0 ┆        ┆ 19:44:56.4 ┆ 6 19:44:5 ┆   ┆ 0         ┆           ┆           ┆           │\n",
       "│ 5144f518a3 ┆        ┆ 32         ┆ 7.288     ┆   ┆           ┆           ┆           ┆           │\n",
       "│ b157d3fdf9 ┆        ┆            ┆           ┆   ┆           ┆           ┆           ┆           │\n",
       "│ 7b1e7257ce ┆        ┆            ┆           ┆   ┆           ┆           ┆           ┆           │\n",
       "│ 0164fc0049 ┆        ┆            ┆           ┆   ┆           ┆           ┆           ┆           │\n",
       "│ 32853e     ┆        ┆            ┆           ┆   ┆           ┆           ┆           ┆           │\n",
       "│ 0x013bc43d ┆ 383167 ┆ 2024-04-06 ┆ 2024-04-0 ┆ … ┆ 200000000 ┆ 14.545    ┆ 30.581    ┆ 2         │\n",
       "│ 7887e47bc1 ┆        ┆ 19:44:56.4 ┆ 6 19:44:5 ┆   ┆ 0         ┆           ┆           ┆           │\n",
       "│ 44c06a4c58 ┆        ┆ 32         ┆ 7.288     ┆   ┆           ┆           ┆           ┆           │\n",
       "│ d230c4cbc7 ┆        ┆            ┆           ┆   ┆           ┆           ┆           ┆           │\n",
       "│ 40b36a03ac ┆        ┆            ┆           ┆   ┆           ┆           ┆           ┆           │\n",
       "│ 446d4d3c03 ┆        ┆            ┆           ┆   ┆           ┆           ┆           ┆           │\n",
       "│ dc6dc5     ┆        ┆            ┆           ┆   ┆           ┆           ┆           ┆           │\n",
       "│ 0x0178a8c8 ┆ 383167 ┆ 2024-04-06 ┆ 2024-04-0 ┆ … ┆ 200000000 ┆ 14.545    ┆ 30.581    ┆ 2         │\n",
       "│ a98e5ad898 ┆        ┆ 19:44:56.4 ┆ 6 19:44:5 ┆   ┆ 0         ┆           ┆           ┆           │\n",
       "│ 2f8f3da002 ┆        ┆ 32         ┆ 7.288     ┆   ┆           ┆           ┆           ┆           │\n",
       "│ ff7dd9e1f3 ┆        ┆            ┆           ┆   ┆           ┆           ┆           ┆           │\n",
       "│ b04c7d2b23 ┆        ┆            ┆           ┆   ┆           ┆           ┆           ┆           │\n",
       "│ 3699758eb7 ┆        ┆            ┆           ┆   ┆           ┆           ┆           ┆           │\n",
       "│ ec6ddc     ┆        ┆            ┆           ┆   ┆           ┆           ┆           ┆           │\n",
       "└────────────┴────────┴────────────┴───────────┴───┴───────────┴───────────┴───────────┴───────────┘"
      ]
     },
     "execution_count": 7,
     "metadata": {},
     "output_type": "execute_result"
    }
   ],
   "source": [
    "slot_inclusion_tx_df.head(5)"
   ]
  },
  {
   "cell_type": "markdown",
   "metadata": {},
   "source": [
    "### Stats at a Glance"
   ]
  },
  {
   "cell_type": "code",
   "execution_count": 8,
   "metadata": {},
   "outputs": [
    {
     "data": {
      "text/plain": [
       "(20812, 1)"
      ]
     },
     "execution_count": 8,
     "metadata": {},
     "output_type": "execute_result"
    }
   ],
   "source": [
    "slot_inclusion_tx_df.select(\"slot inclusion rate\").shape"
   ]
  },
  {
   "cell_type": "code",
   "execution_count": 9,
   "metadata": {},
   "outputs": [],
   "source": [
    "slot_chance_bar_df = (\n",
    "    slot_inclusion_tx_df.select(\"hash\", \"slot inclusion rate\")\n",
    "    .unique()\n",
    "    .with_columns(\n",
    "        pl.when(pl.col(\"slot inclusion rate\") == 1)\n",
    "        .then(True)\n",
    "        .otherwise(False)\n",
    "        .alias(\"1 slot\"),\n",
    "        pl.when(pl.col(\"slot inclusion rate\") == 2)\n",
    "        .then(True)\n",
    "        .otherwise(False)\n",
    "        .alias(\"2 slots\"),\n",
    "        pl.when(pl.col(\"slot inclusion rate\") >= 3)\n",
    "        .then(True)\n",
    "        .otherwise(False)\n",
    "        .alias(\"3+ slots\"),\n",
    "    )\n",
    "    .with_columns(\n",
    "        pl.col(\"1 slot\").sum(),\n",
    "        pl.col(\"2 slots\").sum(),\n",
    "        pl.col(\"3+ slots\").sum(),\n",
    "        # pl.col('4+ slots').sum()\n",
    "    )\n",
    "    .select(\"1 slot\", \"2 slots\", \"3+ slots\")[0]\n",
    ")"
   ]
  },
  {
   "cell_type": "code",
   "execution_count": 18,
   "metadata": {},
   "outputs": [],
   "source": [
    "slot_chance_bar_chart = slot_chance_bar_df.plot.barh(\n",
    "    ylabel=\"number of txs\",\n",
    "    title=\"Slot Inclusion Breakdown\",\n",
    "    stacked=True,\n",
    "    width=1000,\n",
    "    height=400,\n",
    ")"
   ]
  },
  {
   "cell_type": "code",
   "execution_count": 19,
   "metadata": {},
   "outputs": [
    {
     "data": {},
     "metadata": {},
     "output_type": "display_data"
    },
    {
     "data": {
      "application/vnd.holoviews_exec.v0+json": "",
      "text/html": [
       "<div id='69eb7230-40bb-4d68-aa64-22214dece12c'>\n",
       "  <div id=\"a4a5a161-a8af-45c6-8ca8-839d1443aa4c\" data-root-id=\"69eb7230-40bb-4d68-aa64-22214dece12c\" style=\"display: contents;\"></div>\n",
       "</div>\n",
       "<script type=\"application/javascript\">(function(root) {\n",
       "  var docs_json = {\"fdaff50d-f01b-4d3e-968f-f0261d865680\":{\"version\":\"3.4.0\",\"title\":\"Bokeh Application\",\"roots\":[{\"type\":\"object\",\"name\":\"Row\",\"id\":\"69eb7230-40bb-4d68-aa64-22214dece12c\",\"attributes\":{\"name\":\"Row01840\",\"tags\":[\"embedded\"],\"stylesheets\":[\"\\n:host(.pn-loading):before, .pn-loading:before {\\n  background-color: #c3c3c3;\\n  mask-size: auto calc(min(50%, 400px));\\n  -webkit-mask-size: auto calc(min(50%, 400px));\\n}\",{\"type\":\"object\",\"name\":\"ImportedStyleSheet\",\"id\":\"3a4bb293-01ba-43be-a5ab-2079fcb837ff\",\"attributes\":{\"url\":\"https://cdn.holoviz.org/panel/1.4.1/dist/css/loading.css\"}},{\"type\":\"object\",\"name\":\"ImportedStyleSheet\",\"id\":\"a93f2836-8b68-4a09-9be6-8dac08d0c4c0\",\"attributes\":{\"url\":\"https://cdn.holoviz.org/panel/1.4.1/dist/css/listpanel.css\"}},{\"type\":\"object\",\"name\":\"ImportedStyleSheet\",\"id\":\"02e43c4d-a217-4b29-8f46-dcdafb3bd72e\",\"attributes\":{\"url\":\"https://cdn.holoviz.org/panel/1.4.1/dist/bundled/theme/default.css\"}},{\"type\":\"object\",\"name\":\"ImportedStyleSheet\",\"id\":\"38af3b06-f69b-450c-a82f-98fcd53e432a\",\"attributes\":{\"url\":\"https://cdn.holoviz.org/panel/1.4.1/dist/bundled/theme/native.css\"}}],\"min_width\":1000,\"margin\":0,\"sizing_mode\":\"stretch_width\",\"align\":\"start\",\"children\":[{\"type\":\"object\",\"name\":\"Spacer\",\"id\":\"ce02ba8b-1e09-4301-90a3-7c98ce4a40aa\",\"attributes\":{\"name\":\"HSpacer01847\",\"stylesheets\":[\"\\n:host(.pn-loading):before, .pn-loading:before {\\n  background-color: #c3c3c3;\\n  mask-size: auto calc(min(50%, 400px));\\n  -webkit-mask-size: auto calc(min(50%, 400px));\\n}\",{\"id\":\"3a4bb293-01ba-43be-a5ab-2079fcb837ff\"},{\"id\":\"02e43c4d-a217-4b29-8f46-dcdafb3bd72e\"},{\"id\":\"38af3b06-f69b-450c-a82f-98fcd53e432a\"}],\"margin\":0,\"sizing_mode\":\"stretch_width\",\"align\":\"start\"}},{\"type\":\"object\",\"name\":\"Figure\",\"id\":\"67aea3c4-9e9e-430a-afb2-71cadde7afc3\",\"attributes\":{\"width\":1000,\"height\":400,\"margin\":[5,10],\"sizing_mode\":\"fixed\",\"align\":\"start\",\"x_range\":{\"type\":\"object\",\"name\":\"Range1d\",\"id\":\"8e88eb8f-c189-49e2-9ac3-ce99c87ac05d\",\"attributes\":{\"tags\":[[[\"value\",\"value\",null]],[]],\"end\":3469.0,\"reset_start\":0.0,\"reset_end\":3469.0}},\"y_range\":{\"type\":\"object\",\"name\":\"FactorRange\",\"id\":\"d8670075-e048-4ed7-ae85-15d1ca8b467b\",\"attributes\":{\"tags\":[[[\"index\",\"index\",null]],{\"type\":\"map\",\"entries\":[[\"invert_yaxis\",false],[\"autorange\",false]]}],\"factors\":[\"0\"]}},\"x_scale\":{\"type\":\"object\",\"name\":\"LinearScale\",\"id\":\"e1b023e8-1712-45dd-adb8-b94bd1870b71\"},\"y_scale\":{\"type\":\"object\",\"name\":\"CategoricalScale\",\"id\":\"99eb29f0-99ca-447d-8c21-540d858ea883\"},\"title\":{\"type\":\"object\",\"name\":\"Title\",\"id\":\"1ee6211b-7bc9-40c8-a3a5-a1498bbe8ac7\",\"attributes\":{\"text\":\"Slot Inclusion Breakdown\",\"text_color\":\"black\",\"text_font_size\":\"12pt\"}},\"renderers\":[{\"type\":\"object\",\"name\":\"GlyphRenderer\",\"id\":\"f151a9b1-64ae-4741-94e0-33134f71dfdf\",\"attributes\":{\"data_source\":{\"type\":\"object\",\"name\":\"ColumnDataSource\",\"id\":\"a6c65966-741c-47b5-ab53-41f11df09832\",\"attributes\":{\"selected\":{\"type\":\"object\",\"name\":\"Selection\",\"id\":\"18bc4c41-ba65-4e4d-b5d0-e1ce5b95d162\",\"attributes\":{\"indices\":[],\"line_indices\":[]}},\"selection_policy\":{\"type\":\"object\",\"name\":\"UnionRenderers\",\"id\":\"98ab57f5-4e9e-4ab8-bd2f-ca1c6d253845\"},\"data\":{\"type\":\"map\",\"entries\":[[\"bottom\",{\"type\":\"ndarray\",\"array\":{\"type\":\"bytes\",\"data\":\"AAAAAAAAAAAAAAAAAOCYQAAAAAAApqJA\"},\"shape\":[3],\"dtype\":\"float64\",\"order\":\"little\"}],[\"top\",{\"type\":\"ndarray\",\"array\":{\"type\":\"bytes\",\"data\":\"AAAAAADgmEAAAAAAAKaiQAAAAAAAGqtA\"},\"shape\":[3],\"dtype\":\"float64\",\"order\":\"little\"}],[\"index\",[\"0\",\"0\",\"0\"]],[\"Variable\",[\"1 slot\",\"2 slots\",\"3+ slots\"]],[\"value\",{\"type\":\"ndarray\",\"array\":{\"type\":\"bytes\",\"data\":\"OAYAABsDAAA6BAAA\"},\"shape\":[3],\"dtype\":\"uint32\",\"order\":\"little\"}]]}}},\"view\":{\"type\":\"object\",\"name\":\"CDSView\",\"id\":\"079c121f-28d8-41c4-9e1a-b5673f845621\",\"attributes\":{\"filter\":{\"type\":\"object\",\"name\":\"AllIndices\",\"id\":\"5626899b-a159-46e4-b8e1-7ddab554eb09\"}}},\"glyph\":{\"type\":\"object\",\"name\":\"HBar\",\"id\":\"bcb3949e-b91c-4e34-bd14-e97890b648d4\",\"attributes\":{\"tags\":[\"apply_ranges\"],\"y\":{\"type\":\"field\",\"field\":\"index\"},\"height\":{\"type\":\"value\",\"value\":0.8},\"left\":{\"type\":\"field\",\"field\":\"bottom\"},\"right\":{\"type\":\"field\",\"field\":\"top\"},\"fill_color\":{\"type\":\"field\",\"field\":\"Variable\",\"transform\":{\"type\":\"object\",\"name\":\"CategoricalColorMapper\",\"id\":\"46ae971f-b96e-433d-9d25-f476fdaf5100\",\"attributes\":{\"palette\":[\"#30a2da\",\"#fc4f30\",\"#e5ae38\"],\"factors\":[\"1 slot\",\"2 slots\",\"3+ slots\"]}}},\"hatch_color\":{\"type\":\"field\",\"field\":\"Variable\",\"transform\":{\"id\":\"46ae971f-b96e-433d-9d25-f476fdaf5100\"}}}},\"selection_glyph\":{\"type\":\"object\",\"name\":\"HBar\",\"id\":\"9c698586-a609-49db-b865-5d2db0cec167\",\"attributes\":{\"tags\":[\"apply_ranges\"],\"y\":{\"type\":\"field\",\"field\":\"index\"},\"height\":{\"type\":\"value\",\"value\":0.8},\"left\":{\"type\":\"field\",\"field\":\"bottom\"},\"right\":{\"type\":\"field\",\"field\":\"top\"},\"line_color\":{\"type\":\"value\",\"value\":\"black\"},\"line_alpha\":{\"type\":\"value\",\"value\":1.0},\"line_width\":{\"type\":\"value\",\"value\":1},\"line_join\":{\"type\":\"value\",\"value\":\"bevel\"},\"line_cap\":{\"type\":\"value\",\"value\":\"butt\"},\"line_dash\":{\"type\":\"value\",\"value\":[]},\"line_dash_offset\":{\"type\":\"value\",\"value\":0},\"fill_color\":{\"type\":\"field\",\"field\":\"Variable\",\"transform\":{\"id\":\"46ae971f-b96e-433d-9d25-f476fdaf5100\"}},\"fill_alpha\":{\"type\":\"value\",\"value\":1.0},\"hatch_color\":{\"type\":\"field\",\"field\":\"Variable\",\"transform\":{\"id\":\"46ae971f-b96e-433d-9d25-f476fdaf5100\"}},\"hatch_alpha\":{\"type\":\"value\",\"value\":1.0},\"hatch_scale\":{\"type\":\"value\",\"value\":12.0},\"hatch_pattern\":{\"type\":\"value\",\"value\":null},\"hatch_weight\":{\"type\":\"value\",\"value\":1.0}}},\"nonselection_glyph\":{\"type\":\"object\",\"name\":\"HBar\",\"id\":\"f8c1b83d-5ec0-41b1-a087-52c53e738c5d\",\"attributes\":{\"tags\":[\"apply_ranges\"],\"y\":{\"type\":\"field\",\"field\":\"index\"},\"height\":{\"type\":\"value\",\"value\":0.8},\"left\":{\"type\":\"field\",\"field\":\"bottom\"},\"right\":{\"type\":\"field\",\"field\":\"top\"},\"line_alpha\":{\"type\":\"value\",\"value\":0.1},\"fill_color\":{\"type\":\"field\",\"field\":\"Variable\",\"transform\":{\"id\":\"46ae971f-b96e-433d-9d25-f476fdaf5100\"}},\"fill_alpha\":{\"type\":\"value\",\"value\":0.1},\"hatch_color\":{\"type\":\"field\",\"field\":\"Variable\",\"transform\":{\"id\":\"46ae971f-b96e-433d-9d25-f476fdaf5100\"}},\"hatch_alpha\":{\"type\":\"value\",\"value\":0.1}}},\"muted_glyph\":{\"type\":\"object\",\"name\":\"HBar\",\"id\":\"9685ddad-6184-4521-8431-71d7febff5e6\",\"attributes\":{\"tags\":[\"apply_ranges\"],\"y\":{\"type\":\"field\",\"field\":\"index\"},\"height\":{\"type\":\"value\",\"value\":0.8},\"left\":{\"type\":\"field\",\"field\":\"bottom\"},\"right\":{\"type\":\"field\",\"field\":\"top\"},\"line_alpha\":{\"type\":\"value\",\"value\":0.2},\"fill_color\":{\"type\":\"field\",\"field\":\"Variable\",\"transform\":{\"id\":\"46ae971f-b96e-433d-9d25-f476fdaf5100\"}},\"fill_alpha\":{\"type\":\"value\",\"value\":0.2},\"hatch_color\":{\"type\":\"field\",\"field\":\"Variable\",\"transform\":{\"id\":\"46ae971f-b96e-433d-9d25-f476fdaf5100\"}},\"hatch_alpha\":{\"type\":\"value\",\"value\":0.2}}}}}],\"toolbar\":{\"type\":\"object\",\"name\":\"Toolbar\",\"id\":\"ee6319c5-fa56-4f78-a05b-4090bcebac7b\",\"attributes\":{\"tools\":[{\"type\":\"object\",\"name\":\"WheelZoomTool\",\"id\":\"fe2c53ea-c599-4212-a52f-32e6136ed4b0\",\"attributes\":{\"tags\":[\"hv_created\"],\"renderers\":\"auto\",\"zoom_together\":\"none\"}},{\"type\":\"object\",\"name\":\"HoverTool\",\"id\":\"452fb0ce-ca53-4866-9828-be5e15b1ed02\",\"attributes\":{\"tags\":[\"hv_created\"],\"renderers\":[{\"id\":\"f151a9b1-64ae-4741-94e0-33134f71dfdf\"}],\"tooltips\":[[\"index\",\"@{index}\"],[\"Variable\",\"@{Variable}\"],[\"value\",\"@{value}\"]]}},{\"type\":\"object\",\"name\":\"SaveTool\",\"id\":\"abf44bc8-d362-4e3e-a852-4588fc5d1418\"},{\"type\":\"object\",\"name\":\"PanTool\",\"id\":\"3c87f8ca-8db8-4ef7-b4d3-bfe677304dc8\"},{\"type\":\"object\",\"name\":\"BoxZoomTool\",\"id\":\"8c1041ff-93ac-490a-b8f9-4489e75ee2b5\",\"attributes\":{\"overlay\":{\"type\":\"object\",\"name\":\"BoxAnnotation\",\"id\":\"dc3d4810-81f0-4b3a-a0b3-39f3eb2031fc\",\"attributes\":{\"syncable\":false,\"level\":\"overlay\",\"visible\":false,\"left\":{\"type\":\"number\",\"value\":\"nan\"},\"right\":{\"type\":\"number\",\"value\":\"nan\"},\"top\":{\"type\":\"number\",\"value\":\"nan\"},\"bottom\":{\"type\":\"number\",\"value\":\"nan\"},\"left_units\":\"canvas\",\"right_units\":\"canvas\",\"top_units\":\"canvas\",\"bottom_units\":\"canvas\",\"line_color\":\"black\",\"line_alpha\":1.0,\"line_width\":2,\"line_dash\":[4,4],\"fill_color\":\"lightgrey\",\"fill_alpha\":0.5}}}},{\"type\":\"object\",\"name\":\"ResetTool\",\"id\":\"133c254b-364b-491c-95f1-2b03bf75c56d\"}],\"active_drag\":{\"id\":\"3c87f8ca-8db8-4ef7-b4d3-bfe677304dc8\"},\"active_scroll\":{\"id\":\"fe2c53ea-c599-4212-a52f-32e6136ed4b0\"}}},\"left\":[{\"type\":\"object\",\"name\":\"CategoricalAxis\",\"id\":\"b8650672-5e89-4f3d-ad12-8d28ec06993d\",\"attributes\":{\"ticker\":{\"type\":\"object\",\"name\":\"CategoricalTicker\",\"id\":\"1e7af602-c2a4-4113-9090-68d3c279540f\"},\"formatter\":{\"type\":\"object\",\"name\":\"CategoricalTickFormatter\",\"id\":\"5c290fe0-d065-4303-885f-392afcd8afd2\"},\"axis_label\":\"index\",\"major_label_policy\":{\"type\":\"object\",\"name\":\"AllLabels\",\"id\":\"d0f7fed1-fa83-4498-a720-8fd12f2a6d3e\"}}}],\"right\":[{\"type\":\"object\",\"name\":\"Legend\",\"id\":\"69ec73af-1bb1-4830-96df-18bbafff1382\",\"attributes\":{\"location\":[0,0],\"items\":[{\"type\":\"object\",\"name\":\"LegendItem\",\"id\":\"36071a83-6fe4-46a9-b99c-2da3037f4791\",\"attributes\":{\"label\":{\"type\":\"field\",\"field\":\"Variable\"},\"renderers\":[{\"id\":\"f151a9b1-64ae-4741-94e0-33134f71dfdf\"}]}}]}}],\"below\":[{\"type\":\"object\",\"name\":\"LinearAxis\",\"id\":\"bfda3b4d-b000-4788-873a-146ee6f8d4ab\",\"attributes\":{\"ticker\":{\"type\":\"object\",\"name\":\"BasicTicker\",\"id\":\"4393d6af-80e8-4618-9544-cba4e5f61026\",\"attributes\":{\"mantissas\":[1,2,5]}},\"formatter\":{\"type\":\"object\",\"name\":\"BasicTickFormatter\",\"id\":\"b389985d-3acf-4eee-96a9-2022ec8dbdac\"},\"axis_label\":\"\",\"major_label_policy\":{\"type\":\"object\",\"name\":\"AllLabels\",\"id\":\"34cac38b-a345-4dd0-9f57-dfb7ce38be4f\"}}}],\"center\":[{\"type\":\"object\",\"name\":\"Grid\",\"id\":\"40834445-a14e-461a-a518-c26235a0f478\",\"attributes\":{\"axis\":{\"id\":\"bfda3b4d-b000-4788-873a-146ee6f8d4ab\"},\"grid_line_color\":null}},{\"type\":\"object\",\"name\":\"Grid\",\"id\":\"e802fc9f-a342-404b-92e1-0b49ea714423\",\"attributes\":{\"dimension\":1,\"axis\":{\"id\":\"b8650672-5e89-4f3d-ad12-8d28ec06993d\"},\"grid_line_color\":null}},{\"id\":\"69ec73af-1bb1-4830-96df-18bbafff1382\"}],\"min_border_top\":10,\"min_border_bottom\":10,\"min_border_left\":10,\"min_border_right\":10,\"output_backend\":\"webgl\"}},{\"type\":\"object\",\"name\":\"Spacer\",\"id\":\"22a43599-8fdc-44cb-bb88-85653b1734dc\",\"attributes\":{\"name\":\"HSpacer01848\",\"stylesheets\":[\"\\n:host(.pn-loading):before, .pn-loading:before {\\n  background-color: #c3c3c3;\\n  mask-size: auto calc(min(50%, 400px));\\n  -webkit-mask-size: auto calc(min(50%, 400px));\\n}\",{\"id\":\"3a4bb293-01ba-43be-a5ab-2079fcb837ff\"},{\"id\":\"02e43c4d-a217-4b29-8f46-dcdafb3bd72e\"},{\"id\":\"38af3b06-f69b-450c-a82f-98fcd53e432a\"}],\"margin\":0,\"sizing_mode\":\"stretch_width\",\"align\":\"start\"}}]}}],\"defs\":[{\"type\":\"model\",\"name\":\"ReactiveHTML1\"},{\"type\":\"model\",\"name\":\"FlexBox1\",\"properties\":[{\"name\":\"align_content\",\"kind\":\"Any\",\"default\":\"flex-start\"},{\"name\":\"align_items\",\"kind\":\"Any\",\"default\":\"flex-start\"},{\"name\":\"flex_direction\",\"kind\":\"Any\",\"default\":\"row\"},{\"name\":\"flex_wrap\",\"kind\":\"Any\",\"default\":\"wrap\"},{\"name\":\"gap\",\"kind\":\"Any\",\"default\":\"\"},{\"name\":\"justify_content\",\"kind\":\"Any\",\"default\":\"flex-start\"}]},{\"type\":\"model\",\"name\":\"FloatPanel1\",\"properties\":[{\"name\":\"config\",\"kind\":\"Any\",\"default\":{\"type\":\"map\"}},{\"name\":\"contained\",\"kind\":\"Any\",\"default\":true},{\"name\":\"position\",\"kind\":\"Any\",\"default\":\"right-top\"},{\"name\":\"offsetx\",\"kind\":\"Any\",\"default\":null},{\"name\":\"offsety\",\"kind\":\"Any\",\"default\":null},{\"name\":\"theme\",\"kind\":\"Any\",\"default\":\"primary\"},{\"name\":\"status\",\"kind\":\"Any\",\"default\":\"normalized\"}]},{\"type\":\"model\",\"name\":\"GridStack1\",\"properties\":[{\"name\":\"mode\",\"kind\":\"Any\",\"default\":\"warn\"},{\"name\":\"ncols\",\"kind\":\"Any\",\"default\":null},{\"name\":\"nrows\",\"kind\":\"Any\",\"default\":null},{\"name\":\"allow_resize\",\"kind\":\"Any\",\"default\":true},{\"name\":\"allow_drag\",\"kind\":\"Any\",\"default\":true},{\"name\":\"state\",\"kind\":\"Any\",\"default\":[]}]},{\"type\":\"model\",\"name\":\"drag1\",\"properties\":[{\"name\":\"slider_width\",\"kind\":\"Any\",\"default\":5},{\"name\":\"slider_color\",\"kind\":\"Any\",\"default\":\"black\"},{\"name\":\"value\",\"kind\":\"Any\",\"default\":50}]},{\"type\":\"model\",\"name\":\"click1\",\"properties\":[{\"name\":\"terminal_output\",\"kind\":\"Any\",\"default\":\"\"},{\"name\":\"debug_name\",\"kind\":\"Any\",\"default\":\"\"},{\"name\":\"clears\",\"kind\":\"Any\",\"default\":0}]},{\"type\":\"model\",\"name\":\"FastWrapper1\",\"properties\":[{\"name\":\"object\",\"kind\":\"Any\",\"default\":null},{\"name\":\"style\",\"kind\":\"Any\",\"default\":null}]},{\"type\":\"model\",\"name\":\"NotificationAreaBase1\",\"properties\":[{\"name\":\"js_events\",\"kind\":\"Any\",\"default\":{\"type\":\"map\"}},{\"name\":\"position\",\"kind\":\"Any\",\"default\":\"bottom-right\"},{\"name\":\"_clear\",\"kind\":\"Any\",\"default\":0}]},{\"type\":\"model\",\"name\":\"NotificationArea1\",\"properties\":[{\"name\":\"js_events\",\"kind\":\"Any\",\"default\":{\"type\":\"map\"}},{\"name\":\"notifications\",\"kind\":\"Any\",\"default\":[]},{\"name\":\"position\",\"kind\":\"Any\",\"default\":\"bottom-right\"},{\"name\":\"_clear\",\"kind\":\"Any\",\"default\":0},{\"name\":\"types\",\"kind\":\"Any\",\"default\":[{\"type\":\"map\",\"entries\":[[\"type\",\"warning\"],[\"background\",\"#ffc107\"],[\"icon\",{\"type\":\"map\",\"entries\":[[\"className\",\"fas fa-exclamation-triangle\"],[\"tagName\",\"i\"],[\"color\",\"white\"]]}]]},{\"type\":\"map\",\"entries\":[[\"type\",\"info\"],[\"background\",\"#007bff\"],[\"icon\",{\"type\":\"map\",\"entries\":[[\"className\",\"fas fa-info-circle\"],[\"tagName\",\"i\"],[\"color\",\"white\"]]}]]}]}]},{\"type\":\"model\",\"name\":\"Notification\",\"properties\":[{\"name\":\"background\",\"kind\":\"Any\",\"default\":null},{\"name\":\"duration\",\"kind\":\"Any\",\"default\":3000},{\"name\":\"icon\",\"kind\":\"Any\",\"default\":null},{\"name\":\"message\",\"kind\":\"Any\",\"default\":\"\"},{\"name\":\"notification_type\",\"kind\":\"Any\",\"default\":null},{\"name\":\"_destroyed\",\"kind\":\"Any\",\"default\":false}]},{\"type\":\"model\",\"name\":\"TemplateActions1\",\"properties\":[{\"name\":\"open_modal\",\"kind\":\"Any\",\"default\":0},{\"name\":\"close_modal\",\"kind\":\"Any\",\"default\":0}]},{\"type\":\"model\",\"name\":\"BootstrapTemplateActions1\",\"properties\":[{\"name\":\"open_modal\",\"kind\":\"Any\",\"default\":0},{\"name\":\"close_modal\",\"kind\":\"Any\",\"default\":0}]},{\"type\":\"model\",\"name\":\"TemplateEditor1\",\"properties\":[{\"name\":\"layout\",\"kind\":\"Any\",\"default\":[]}]},{\"type\":\"model\",\"name\":\"MaterialTemplateActions1\",\"properties\":[{\"name\":\"open_modal\",\"kind\":\"Any\",\"default\":0},{\"name\":\"close_modal\",\"kind\":\"Any\",\"default\":0}]},{\"type\":\"model\",\"name\":\"copy_to_clipboard1\",\"properties\":[{\"name\":\"fill\",\"kind\":\"Any\",\"default\":\"none\"},{\"name\":\"value\",\"kind\":\"Any\",\"default\":null}]}]}};\n",
       "  var render_items = [{\"docid\":\"fdaff50d-f01b-4d3e-968f-f0261d865680\",\"roots\":{\"69eb7230-40bb-4d68-aa64-22214dece12c\":\"a4a5a161-a8af-45c6-8ca8-839d1443aa4c\"},\"root_ids\":[\"69eb7230-40bb-4d68-aa64-22214dece12c\"]}];\n",
       "  var docs = Object.values(docs_json)\n",
       "  if (!docs) {\n",
       "    return\n",
       "  }\n",
       "  const py_version = docs[0].version.replace('rc', '-rc.').replace('.dev', '-dev.')\n",
       "  function embed_document(root) {\n",
       "    var Bokeh = get_bokeh(root)\n",
       "    Bokeh.embed.embed_items_notebook(docs_json, render_items);\n",
       "    for (const render_item of render_items) {\n",
       "      for (const root_id of render_item.root_ids) {\n",
       "\tconst id_el = document.getElementById(root_id)\n",
       "\tif (id_el.children.length && (id_el.children[0].className === 'bk-root')) {\n",
       "\t  const root_el = id_el.children[0]\n",
       "\t  root_el.id = root_el.id + '-rendered'\n",
       "\t}\n",
       "      }\n",
       "    }\n",
       "  }\n",
       "  function get_bokeh(root) {\n",
       "    if (root.Bokeh === undefined) {\n",
       "      return null\n",
       "    } else if (root.Bokeh.version !== py_version) {\n",
       "      if (root.Bokeh.versions === undefined || !root.Bokeh.versions.has(py_version)) {\n",
       "\treturn null\n",
       "      }\n",
       "      return root.Bokeh.versions.get(py_version);\n",
       "    } else if (root.Bokeh.version === py_version) {\n",
       "      return root.Bokeh\n",
       "    }\n",
       "    return null\n",
       "  }\n",
       "  function is_loaded(root) {\n",
       "    var Bokeh = get_bokeh(root)\n",
       "    return (Bokeh != null && Bokeh.Panel !== undefined && ( root.Plotly !== undefined) && ( root.Plotly !== undefined))\n",
       "  }\n",
       "  if (is_loaded(root)) {\n",
       "    embed_document(root);\n",
       "  } else {\n",
       "    var attempts = 0;\n",
       "    var timer = setInterval(function(root) {\n",
       "      if (is_loaded(root)) {\n",
       "        clearInterval(timer);\n",
       "        embed_document(root);\n",
       "      } else if (document.readyState == \"complete\") {\n",
       "        attempts++;\n",
       "        if (attempts > 200) {\n",
       "          clearInterval(timer);\n",
       "\t  var Bokeh = get_bokeh(root)\n",
       "\t  if (Bokeh == null || Bokeh.Panel == null) {\n",
       "            console.warn(\"Panel: ERROR: Unable to run Panel code because Bokeh or Panel library is missing\");\n",
       "\t  } else {\n",
       "\t    console.warn(\"Panel: WARNING: Attempting to render but not all required libraries could be resolved.\")\n",
       "\t    embed_document(root)\n",
       "\t  }\n",
       "        }\n",
       "      }\n",
       "    }, 25, root)\n",
       "  }\n",
       "})(window);</script>"
      ],
      "text/plain": [
       ":Bars   [index,Variable]   (value)"
      ]
     },
     "execution_count": 19,
     "metadata": {
      "application/vnd.holoviews_exec.v0+json": {
       "id": "69eb7230-40bb-4d68-aa64-22214dece12c"
      }
     },
     "output_type": "execute_result"
    }
   ],
   "source": [
    "slot_chance_bar_chart"
   ]
  },
  {
   "cell_type": "markdown",
   "metadata": {},
   "source": [
    "### Slot Inclusion Time Charts"
   ]
  },
  {
   "cell_type": "code",
   "execution_count": 71,
   "metadata": {},
   "outputs": [],
   "source": [
    "slot_inclusion_line_chart = (\n",
    "    slot_inclusion_tx_df.drop_nulls()\n",
    "    .select(\n",
    "        \"slot time\",\n",
    "        \"slot inclusion rate\",\n",
    "        \"slot inclusion rate (50 blob average)\",\n",
    "        \"slot target inclusion rate (2 slots)\",\n",
    "        \"submission_count\",\n",
    "    )\n",
    "    .plot.line(\n",
    "        x=\"slot time\",\n",
    "        y=[\n",
    "            \"slot inclusion rate\",\n",
    "            \"slot inclusion rate (50 blob average)\",\n",
    "            \"slot target inclusion rate (2 slots)\",\n",
    "        ],\n",
    "        color=[\"blue\", \"red\", \"black\"],\n",
    "        ylabel=\"Beacon Block Inclusion (block)\",\n",
    "        xlabel=\"Slot Date Time\",\n",
    "        title=\"Historical Slot Inclusion\",\n",
    "        width=1000,\n",
    "        height=400,\n",
    "        shared_axes=True,\n",
    "    )\n",
    ")"
   ]
  },
  {
   "cell_type": "markdown",
   "metadata": {},
   "source": [
    "### Priority Fee Effectiveness for Faster Slot Inclusion"
   ]
  },
  {
   "cell_type": "code",
   "execution_count": 72,
   "metadata": {},
   "outputs": [],
   "source": [
    "priority_fee_premium_df = slot_inclusion_tx_df.with_columns(\n",
    "    (\n",
    "        (pl.col(\"max_priority_fee_per_gas_gwei\") / pl.col(\"effective_gas_price_gwei\"))\n",
    "        * 100\n",
    "    )\n",
    "    .round(3)\n",
    "    .alias(\"priority_fee_bid_percent_premium\")\n",
    ")"
   ]
  },
  {
   "cell_type": "code",
   "execution_count": 74,
   "metadata": {},
   "outputs": [],
   "source": [
    "priority_fee_premium_chart = (\n",
    "    (\n",
    "        priority_fee_premium_df.select(\n",
    "            \"block_number\",\n",
    "            \"max_priority_fee_per_gas_gwei\",\n",
    "            \"effective_gas_price_gwei\",\n",
    "            \"priority_fee_bid_percent_premium\",\n",
    "            \"slot inclusion rate\",\n",
    "            \"submission_count\",\n",
    "        )\n",
    "        .unique()\n",
    "        .sort(by=\"block_number\")\n",
    "        .with_columns(\n",
    "            (\n",
    "                # estimate min block gas by taking the gwei paid minus the priority fee\n",
    "                pl.col(\"effective_gas_price_gwei\")\n",
    "                - pl.col(\"max_priority_fee_per_gas_gwei\")\n",
    "            ).alias(\"min_block_gas_gwei\")\n",
    "        )\n",
    "        .with_columns(\n",
    "            # calculate per tx gas fluctuations\n",
    "            pl.col(\"min_block_gas_gwei\").diff().abs().alias(\"gas_fluctuation_gwei\")\n",
    "        )\n",
    "        .with_columns(\n",
    "            (pl.col(\"gas_fluctuation_gwei\") / pl.col(\"min_block_gas_gwei\") * 100).alias(\n",
    "                \"gas_fluctuation_percent\"\n",
    "            )\n",
    "        )\n",
    "    )\n",
    "    .group_by(\"slot inclusion rate\")\n",
    "    .agg(\n",
    "        pl.col(\"gas_fluctuation_percent\").mean(),\n",
    "        pl.col(\"priority_fee_bid_percent_premium\").mean(),\n",
    "    )\n",
    "    .sort(by=\"slot inclusion rate\")\n",
    "    .plot.scatter(\n",
    "        x=\"slot inclusion rate\",\n",
    "        y=\"priority_fee_bid_percent_premium\",\n",
    "        ylabel=\"priority fee bid premium %\",\n",
    "        title=\"mean priority fee bid premium per slot inclusion rate\",\n",
    "        width=1000,\n",
    "        height=400,\n",
    "    )\n",
    ")"
   ]
  },
  {
   "cell_type": "code",
   "execution_count": 75,
   "metadata": {},
   "outputs": [],
   "source": [
    "priority_fee_premium_df = (\n",
    "    priority_fee_premium_df.select(\n",
    "        \"block_number\",\n",
    "        \"max_priority_fee_per_gas_gwei\",\n",
    "        \"effective_gas_price_gwei\",\n",
    "        \"priority_fee_bid_percent_premium\",\n",
    "        \"slot inclusion rate\",\n",
    "        \"submission_count\",\n",
    "    )\n",
    "    .unique()\n",
    "    .sort(by=\"block_number\")\n",
    "    .with_columns(\n",
    "        (\n",
    "            # estimate min block gas by taking the gwei paid minus the priority fee\n",
    "            pl.col(\"effective_gas_price_gwei\")\n",
    "            - pl.col(\"max_priority_fee_per_gas_gwei\")\n",
    "        ).alias(\"min_block_gas_gwei\")\n",
    "    )\n",
    "    .with_columns(\n",
    "        # calculate per tx gas fluctuations\n",
    "        pl.col(\"min_block_gas_gwei\")\n",
    "        .diff()\n",
    "        .abs()\n",
    "        .alias(\"gas_fluctuation_gwei\")\n",
    "    )\n",
    "    .with_columns(\n",
    "        (pl.col(\"gas_fluctuation_gwei\") / pl.col(\"min_block_gas_gwei\") * 100).alias(\n",
    "            \"gas_fluctuation_percent\"\n",
    "        )\n",
    "    )\n",
    ")"
   ]
  },
  {
   "cell_type": "code",
   "execution_count": 140,
   "metadata": {},
   "outputs": [],
   "source": [
    "volin_chart = priority_fee_premium_df.sort(by=\"slot inclusion rate\").plot.violin(\n",
    "    y=\"priority_fee_bid_percent_premium\",\n",
    "    by=\"slot inclusion rate\",\n",
    "    c=\"slot inclusion rate\",\n",
    "    width=1000,\n",
    "    height=400,\n",
    ")\n",
    "\n",
    "line_chart_bid_premium = (\n",
    "    priority_fee_premium_df.group_by(\"slot inclusion rate\")\n",
    "    .agg(\n",
    "        pl.col(\"priority_fee_bid_percent_premium\").median(),\n",
    "        pl.col(\"effective_gas_price_gwei\").mean(),\n",
    "    )\n",
    "    .sort(by=\"slot inclusion rate\")\n",
    "    .rename(\n",
    "        {\n",
    "            \"priority_fee_bid_percent_premium\": \"priority fee bid premium (%)\",\n",
    "            \"effective_gas_price_gwei\": \"block gas price (gwei)\",\n",
    "        }\n",
    "    )\n",
    "    .plot.line(\n",
    "        x=\"slot inclusion rate\",\n",
    "        y=[\"priority fee bid premium (%)\", \"block gas price (gwei)\"],\n",
    "        color=[\"g\", \"r\"],\n",
    "        ylabel=\"bid premium (%, gwei)\",\n",
    "        title=\"gas bid premium probability distributions\",\n",
    "    )\n",
    ")"
   ]
  },
  {
   "cell_type": "code",
   "execution_count": 141,
   "metadata": {},
   "outputs": [],
   "source": [
    "violin_line_gas_chart = volin_chart * line_chart_bid_premium"
   ]
  },
  {
   "cell_type": "markdown",
   "metadata": {},
   "source": [
    "### Assemble Dashboard"
   ]
  },
  {
   "cell_type": "code",
   "execution_count": 148,
   "metadata": {},
   "outputs": [],
   "source": [
    "dash = pn.Column(\n",
    "    pn.pane.Markdown(\n",
    "        \"\"\"\n",
    "        # EIP-4844 Slot Inclusion Dashboard\n",
    "\n",
    "        ## About\n",
    "        This dashboard shows detailed analytics for blobs and how fast they are included into the next slot as well as the efficiency of using EIP-1559 priority fees\n",
    "        as a bidding mechanism for faster slot inclusion. As of April 11, 2024, the data is currently restricted to Base posting data over a 5 day period with \n",
    "        plans to open up to other rollups soon. This dashboard is made using [Xatu Data](https://github.com/ethpandaops/xatu-data?tab=readme-ov-file) for EL mempool and Beacon chain data and [Hypersync](https://github.com/enviodev/hypersync-client-python) \n",
    "        for transaction gas data for the [EIP-4844 data challenge](https://esp.ethereum.foundation/data-challenge-4844).\n",
    "\n",
    "        ## Summary of Results\n",
    "        - Blobs have a highly variable slot inclusion rate, with a nontrivial amount of blobs taking 3+ slots to be included.   \n",
    "        - Higher EIP-1559 priority fees correlate with longer slot inclusion rates.\n",
    "        - Uncertainty around block gas and priority fee bidding premiums increase with longer slot inclusion rates.\n",
    "        \n",
    "        ## Slot Inclusion Methodology\n",
    "        When a transaction is resubmitted with updated gas parameters, the transaction hash changes. For example take this blob reference hash - 0x01c738cf37c911334c771f2295c060e5bd7d084f347e4334863336724934c59a. \n",
    "        On [etherscan](https://etherscan.io/tx/0x763d823c0f933c4d2eb84406b37aa2649753f2f563fa3ee6d27251c6a52a8d69) we can see that the transaction was replaced by the user. We can see on Ethernow that the transaction contains \n",
    "        the same blob reference hash in both the [original tx](https://www.ethernow.xyz/tx/0x763d823c0f933c4d2eb84406b37aa2649753f2f563fa3ee6d27251c6a52a8d69?batchIndex=1) and the [resubmitted tx](https://www.ethernow.xyz/tx/0x5a4094662bd05ff3639a8979927ab527e007a6925387951a9c1b3d2958b13a86?batchIndex=1).\n",
    "        \n",
    "        We can measure the total time that a blob hash sat in the mempool by subtracting the original tx was first seen from the slot time, when it eventually is finalized on the beacon chain. \n",
    "        In this particular example, the total time that the blob sat in the mempool was not from 18:56:27 to 18:57:11 (4 slots), but really 18:54:29 to 18:57:11 (14 slots)\n",
    "            \"\"\"\n",
    "    ),\n",
    "    pn.Column(\n",
    "        pn.pane.Markdown(\n",
    "            \"\"\"\n",
    "            ## Slot Inclusion Breakdown\n",
    "            This bar chart represents the number of transactions that are being included within 1 slot, 2 slots, and 3+ slots. \n",
    "            * 1 slot = fastest possible inclusion time\n",
    "            * 2 slots = good inclusion time\n",
    "            * 3+ slots = slow inclusion time\n",
    "            \"\"\"\n",
    "        ),\n",
    "        slot_chance_bar_chart.opts(axiswise=True),\n",
    "        pn.pane.Markdown(\n",
    "            \"\"\"\n",
    "        ## Slot Inclusion Rates\n",
    "        This time-series chartshows the slot inclusion performance over time from when it's first seen in the mempool to when it gets finalized in the beacon block.\n",
    "        A 50 blob slot inclusion average is taken to smooth out the performance. The target slot inclusion rate is 2. To the right is the overall distribution of the slot inclusion rate.\n",
    "        While a lot of blobs get finalized on the beacon chain within 1-2 blocks, there are still a non-trivial amount of outliers that can take upwards of 5-10 blocks before finalizing.\n",
    "            \"\"\"\n",
    "        ),\n",
    "        pn.Row(slot_inclusion_line_chart.opts(axiswise=True)),\n",
    "        pn.pane.Markdown(\n",
    "            \"\"\"\n",
    "        ## EIP-1559 Priority Fee Premium Correlation with Slot Rates\n",
    "        The scatterplot shows the priority fee bid premium. There isn't a strong correlation between higher priority fee bid premiums and shorter slot inclusion rates. On the contrary,\n",
    "        the longer it takes for the blob to be included, the priority fee bid premium starts to increase.\n",
    "            \"\"\"\n",
    "        ),\n",
    "        pn.Row(priority_fee_premium_chart),\n",
    "        pn.pane.Markdown(\n",
    "            \"\"\"\n",
    "        ## Slot Inclusion Bidding Unpredictability \n",
    "        This major takeaway is that uncertainty around both block gas and priority fee bidding tends to increase the longer the it takes for a blob to be included in a slot. There are three major \n",
    "        characteristics in the chart - one violin plot for the probability distribution and two trend lines for priority fee bids and block gas prices.\n",
    "        * violin plots for each slot inclusion rate, showing the probability distribution of the priority gas bidding premium for each inclusion slot. \n",
    "        The higher the slot inclusion rate, the more uncertainty there is around \n",
    "        * the green line shows the median trend line for the priority fee bid premium (in %), which tends to drift higher as slot inclusion rate gets higher.\n",
    "        * the red line shows the mean trend line for the block gas price (in gwei), which drifts upwards was slot inclusion rate gets higher.\n",
    "            \"\"\"\n",
    "        ),\n",
    "        pn.Row(violin_line_gas_chart),\n",
    "    ),\n",
    ")"
   ]
  },
  {
   "cell_type": "code",
   "execution_count": 149,
   "metadata": {},
   "outputs": [
    {
     "data": {
      "application/vnd.jupyter.widget-view+json": {
       "model_id": "c82f2e23dea3427cbb85a86d4079c32f",
       "version_major": 2,
       "version_minor": 0
      },
      "text/plain": [
       "BokehModel(combine_events=True, render_bundle={'docs_json': {'00c82a29-b5c0-4e0e-ae61-e07768253a6a': {'version…"
      ]
     },
     "execution_count": 149,
     "metadata": {},
     "output_type": "execute_result"
    }
   ],
   "source": [
    "# dash.show()\n",
    "dash.servable()"
   ]
  },
  {
   "cell_type": "code",
   "execution_count": null,
   "metadata": {},
   "outputs": [],
   "source": []
  },
  {
   "cell_type": "code",
   "execution_count": null,
   "metadata": {},
   "outputs": [],
   "source": []
  },
  {
   "cell_type": "code",
   "execution_count": null,
   "metadata": {},
   "outputs": [],
   "source": []
  }
 ],
 "metadata": {
  "kernelspec": {
   "display_name": ".venv",
   "language": "python",
   "name": "python3"
  },
  "language_info": {
   "codemirror_mode": {
    "name": "ipython",
    "version": 3
   },
   "file_extension": ".py",
   "mimetype": "text/x-python",
   "name": "python",
   "nbconvert_exporter": "python",
   "pygments_lexer": "ipython3",
   "version": "3.11.8"
  }
 },
 "nbformat": 4,
 "nbformat_minor": 2
}
