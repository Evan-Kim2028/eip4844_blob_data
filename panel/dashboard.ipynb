{
 "cells": [
  {
   "cell_type": "code",
   "execution_count": 38,
   "metadata": {},
   "outputs": [
    {
     "data": {
      "application/javascript": "(function(root) {\n  function now() {\n    return new Date();\n  }\n\n  var force = true;\n  var py_version = '3.4.1'.replace('rc', '-rc.').replace('.dev', '-dev.');\n  var reloading = true;\n  var Bokeh = root.Bokeh;\n\n  if (typeof (root._bokeh_timeout) === \"undefined\" || force) {\n    root._bokeh_timeout = Date.now() + 5000;\n    root._bokeh_failed_load = false;\n  }\n\n  function run_callbacks() {\n    try {\n      root._bokeh_onload_callbacks.forEach(function(callback) {\n        if (callback != null)\n          callback();\n      });\n    } finally {\n      delete root._bokeh_onload_callbacks;\n    }\n    console.debug(\"Bokeh: all callbacks have finished\");\n  }\n\n  function load_libs(css_urls, js_urls, js_modules, js_exports, callback) {\n    if (css_urls == null) css_urls = [];\n    if (js_urls == null) js_urls = [];\n    if (js_modules == null) js_modules = [];\n    if (js_exports == null) js_exports = {};\n\n    root._bokeh_onload_callbacks.push(callback);\n\n    if (root._bokeh_is_loading > 0) {\n      console.debug(\"Bokeh: BokehJS is being loaded, scheduling callback at\", now());\n      return null;\n    }\n    if (js_urls.length === 0 && js_modules.length === 0 && Object.keys(js_exports).length === 0) {\n      run_callbacks();\n      return null;\n    }\n    if (!reloading) {\n      console.debug(\"Bokeh: BokehJS not loaded, scheduling load and callback at\", now());\n    }\n\n    function on_load() {\n      root._bokeh_is_loading--;\n      if (root._bokeh_is_loading === 0) {\n        console.debug(\"Bokeh: all BokehJS libraries/stylesheets loaded\");\n        run_callbacks()\n      }\n    }\n    window._bokeh_on_load = on_load\n\n    function on_error() {\n      console.error(\"failed to load \" + url);\n    }\n\n    var skip = [];\n    if (window.requirejs) {\n      window.requirejs.config({'packages': {}, 'paths': {'plotly': 'https://cdn.plot.ly/plotly-2.31.1.min'}, 'shim': {}});\n      require([\"plotly\"], function(Plotly) {\n\twindow.Plotly = Plotly\n\ton_load()\n      })\n      root._bokeh_is_loading = css_urls.length + 1;\n    } else {\n      root._bokeh_is_loading = css_urls.length + js_urls.length + js_modules.length + Object.keys(js_exports).length;\n    }\n\n    var existing_stylesheets = []\n    var links = document.getElementsByTagName('link')\n    for (var i = 0; i < links.length; i++) {\n      var link = links[i]\n      if (link.href != null) {\n\texisting_stylesheets.push(link.href)\n      }\n    }\n    for (var i = 0; i < css_urls.length; i++) {\n      var url = css_urls[i];\n      if (existing_stylesheets.indexOf(url) !== -1) {\n\ton_load()\n\tcontinue;\n      }\n      const element = document.createElement(\"link\");\n      element.onload = on_load;\n      element.onerror = on_error;\n      element.rel = \"stylesheet\";\n      element.type = \"text/css\";\n      element.href = url;\n      console.debug(\"Bokeh: injecting link tag for BokehJS stylesheet: \", url);\n      document.body.appendChild(element);\n    }    if (((window.Plotly !== undefined) && (!(window.Plotly instanceof HTMLElement))) || window.requirejs) {\n      var urls = ['https://cdn.holoviz.org/panel/1.4.2/dist/bundled/plotlyplot/plotly-2.31.1.min.js'];\n      for (var i = 0; i < urls.length; i++) {\n        skip.push(urls[i])\n      }\n    }    var existing_scripts = []\n    var scripts = document.getElementsByTagName('script')\n    for (var i = 0; i < scripts.length; i++) {\n      var script = scripts[i]\n      if (script.src != null) {\n\texisting_scripts.push(script.src)\n      }\n    }\n    for (var i = 0; i < js_urls.length; i++) {\n      var url = js_urls[i];\n      if (skip.indexOf(url) !== -1 || existing_scripts.indexOf(url) !== -1) {\n\tif (!window.requirejs) {\n\t  on_load();\n\t}\n\tcontinue;\n      }\n      var element = document.createElement('script');\n      element.onload = on_load;\n      element.onerror = on_error;\n      element.async = false;\n      element.src = url;\n      console.debug(\"Bokeh: injecting script tag for BokehJS library: \", url);\n      document.head.appendChild(element);\n    }\n    for (var i = 0; i < js_modules.length; i++) {\n      var url = js_modules[i];\n      if (skip.indexOf(url) !== -1 || existing_scripts.indexOf(url) !== -1) {\n\tif (!window.requirejs) {\n\t  on_load();\n\t}\n\tcontinue;\n      }\n      var element = document.createElement('script');\n      element.onload = on_load;\n      element.onerror = on_error;\n      element.async = false;\n      element.src = url;\n      element.type = \"module\";\n      console.debug(\"Bokeh: injecting script tag for BokehJS library: \", url);\n      document.head.appendChild(element);\n    }\n    for (const name in js_exports) {\n      var url = js_exports[name];\n      if (skip.indexOf(url) >= 0 || root[name] != null) {\n\tif (!window.requirejs) {\n\t  on_load();\n\t}\n\tcontinue;\n      }\n      var element = document.createElement('script');\n      element.onerror = on_error;\n      element.async = false;\n      element.type = \"module\";\n      console.debug(\"Bokeh: injecting script tag for BokehJS library: \", url);\n      element.textContent = `\n      import ${name} from \"${url}\"\n      window.${name} = ${name}\n      window._bokeh_on_load()\n      `\n      document.head.appendChild(element);\n    }\n    if (!js_urls.length && !js_modules.length) {\n      on_load()\n    }\n  };\n\n  function inject_raw_css(css) {\n    const element = document.createElement(\"style\");\n    element.appendChild(document.createTextNode(css));\n    document.body.appendChild(element);\n  }\n\n  var js_urls = [\"https://cdn.holoviz.org/panel/1.4.2/dist/bundled/jquery/jquery.slim.min.js\", \"https://cdn.holoviz.org/panel/1.4.2/dist/bundled/plotlyplot/plotly-2.31.1.min.js\"];\n  var js_modules = [];\n  var js_exports = {};\n  var css_urls = [];\n  var inline_js = [    function(Bokeh) {\n      Bokeh.set_log_level(\"info\");\n    },\nfunction(Bokeh) {} // ensure no trailing comma for IE\n  ];\n\n  function run_inline_js() {\n    if ((root.Bokeh !== undefined) || (force === true)) {\n      for (var i = 0; i < inline_js.length; i++) {\n\ttry {\n          inline_js[i].call(root, root.Bokeh);\n\t} catch(e) {\n\t  if (!reloading) {\n\t    throw e;\n\t  }\n\t}\n      }\n      // Cache old bokeh versions\n      if (Bokeh != undefined && !reloading) {\n\tvar NewBokeh = root.Bokeh;\n\tif (Bokeh.versions === undefined) {\n\t  Bokeh.versions = new Map();\n\t}\n\tif (NewBokeh.version !== Bokeh.version) {\n\t  Bokeh.versions.set(NewBokeh.version, NewBokeh)\n\t}\n\troot.Bokeh = Bokeh;\n      }} else if (Date.now() < root._bokeh_timeout) {\n      setTimeout(run_inline_js, 100);\n    } else if (!root._bokeh_failed_load) {\n      console.log(\"Bokeh: BokehJS failed to load within specified timeout.\");\n      root._bokeh_failed_load = true;\n    }\n    root._bokeh_is_initializing = false\n  }\n\n  function load_or_wait() {\n    // Implement a backoff loop that tries to ensure we do not load multiple\n    // versions of Bokeh and its dependencies at the same time.\n    // In recent versions we use the root._bokeh_is_initializing flag\n    // to determine whether there is an ongoing attempt to initialize\n    // bokeh, however for backward compatibility we also try to ensure\n    // that we do not start loading a newer (Panel>=1.0 and Bokeh>3) version\n    // before older versions are fully initialized.\n    if (root._bokeh_is_initializing && Date.now() > root._bokeh_timeout) {\n      root._bokeh_is_initializing = false;\n      root._bokeh_onload_callbacks = undefined;\n      console.log(\"Bokeh: BokehJS was loaded multiple times but one version failed to initialize.\");\n      load_or_wait();\n    } else if (root._bokeh_is_initializing || (typeof root._bokeh_is_initializing === \"undefined\" && root._bokeh_onload_callbacks !== undefined)) {\n      setTimeout(load_or_wait, 100);\n    } else {\n      root._bokeh_is_initializing = true\n      root._bokeh_onload_callbacks = []\n      var bokeh_loaded = Bokeh != null && (Bokeh.version === py_version || (Bokeh.versions !== undefined && Bokeh.versions.has(py_version)));\n      if (!reloading && !bokeh_loaded) {\n\troot.Bokeh = undefined;\n      }\n      load_libs(css_urls, js_urls, js_modules, js_exports, function() {\n\tconsole.debug(\"Bokeh: BokehJS plotting callback run at\", now());\n\trun_inline_js();\n      });\n    }\n  }\n  // Give older versions of the autoload script a head-start to ensure\n  // they initialize before we start loading newer version.\n  setTimeout(load_or_wait, 100)\n}(window));",
      "application/vnd.holoviews_load.v0+json": ""
     },
     "metadata": {},
     "output_type": "display_data"
    },
    {
     "data": {
      "application/javascript": "\nif ((window.PyViz === undefined) || (window.PyViz instanceof HTMLElement)) {\n  window.PyViz = {comms: {}, comm_status:{}, kernels:{}, receivers: {}, plot_index: []}\n}\n\n\n    function JupyterCommManager() {\n    }\n\n    JupyterCommManager.prototype.register_target = function(plot_id, comm_id, msg_handler) {\n      if (window.comm_manager || ((window.Jupyter !== undefined) && (Jupyter.notebook.kernel != null))) {\n        var comm_manager = window.comm_manager || Jupyter.notebook.kernel.comm_manager;\n        comm_manager.register_target(comm_id, function(comm) {\n          comm.on_msg(msg_handler);\n        });\n      } else if ((plot_id in window.PyViz.kernels) && (window.PyViz.kernels[plot_id])) {\n        window.PyViz.kernels[plot_id].registerCommTarget(comm_id, function(comm) {\n          comm.onMsg = msg_handler;\n        });\n      } else if (typeof google != 'undefined' && google.colab.kernel != null) {\n        google.colab.kernel.comms.registerTarget(comm_id, (comm) => {\n          var messages = comm.messages[Symbol.asyncIterator]();\n          function processIteratorResult(result) {\n            var message = result.value;\n            console.log(message)\n            var content = {data: message.data, comm_id};\n            var buffers = []\n            for (var buffer of message.buffers || []) {\n              buffers.push(new DataView(buffer))\n            }\n            var metadata = message.metadata || {};\n            var msg = {content, buffers, metadata}\n            msg_handler(msg);\n            return messages.next().then(processIteratorResult);\n          }\n          return messages.next().then(processIteratorResult);\n        })\n      }\n    }\n\n    JupyterCommManager.prototype.get_client_comm = function(plot_id, comm_id, msg_handler) {\n      if (comm_id in window.PyViz.comms) {\n        return window.PyViz.comms[comm_id];\n      } else if (window.comm_manager || ((window.Jupyter !== undefined) && (Jupyter.notebook.kernel != null))) {\n        var comm_manager = window.comm_manager || Jupyter.notebook.kernel.comm_manager;\n        var comm = comm_manager.new_comm(comm_id, {}, {}, {}, comm_id);\n        if (msg_handler) {\n          comm.on_msg(msg_handler);\n        }\n      } else if ((plot_id in window.PyViz.kernels) && (window.PyViz.kernels[plot_id])) {\n        var comm = window.PyViz.kernels[plot_id].connectToComm(comm_id);\n        comm.open();\n        if (msg_handler) {\n          comm.onMsg = msg_handler;\n        }\n      } else if (typeof google != 'undefined' && google.colab.kernel != null) {\n        var comm_promise = google.colab.kernel.comms.open(comm_id)\n        comm_promise.then((comm) => {\n          window.PyViz.comms[comm_id] = comm;\n          if (msg_handler) {\n            var messages = comm.messages[Symbol.asyncIterator]();\n            function processIteratorResult(result) {\n              var message = result.value;\n              var content = {data: message.data};\n              var metadata = message.metadata || {comm_id};\n              var msg = {content, metadata}\n              msg_handler(msg);\n              return messages.next().then(processIteratorResult);\n            }\n            return messages.next().then(processIteratorResult);\n          }\n        }) \n        var sendClosure = (data, metadata, buffers, disposeOnDone) => {\n          return comm_promise.then((comm) => {\n            comm.send(data, metadata, buffers, disposeOnDone);\n          });\n        };\n        var comm = {\n          send: sendClosure\n        };\n      }\n      window.PyViz.comms[comm_id] = comm;\n      return comm;\n    }\n    window.PyViz.comm_manager = new JupyterCommManager();\n    \n\n\nvar JS_MIME_TYPE = 'application/javascript';\nvar HTML_MIME_TYPE = 'text/html';\nvar EXEC_MIME_TYPE = 'application/vnd.holoviews_exec.v0+json';\nvar CLASS_NAME = 'output';\n\n/**\n * Render data to the DOM node\n */\nfunction render(props, node) {\n  var div = document.createElement(\"div\");\n  var script = document.createElement(\"script\");\n  node.appendChild(div);\n  node.appendChild(script);\n}\n\n/**\n * Handle when a new output is added\n */\nfunction handle_add_output(event, handle) {\n  var output_area = handle.output_area;\n  var output = handle.output;\n  if ((output.data == undefined) || (!output.data.hasOwnProperty(EXEC_MIME_TYPE))) {\n    return\n  }\n  var id = output.metadata[EXEC_MIME_TYPE][\"id\"];\n  var toinsert = output_area.element.find(\".\" + CLASS_NAME.split(' ')[0]);\n  if (id !== undefined) {\n    var nchildren = toinsert.length;\n    var html_node = toinsert[nchildren-1].children[0];\n    html_node.innerHTML = output.data[HTML_MIME_TYPE];\n    var scripts = [];\n    var nodelist = html_node.querySelectorAll(\"script\");\n    for (var i in nodelist) {\n      if (nodelist.hasOwnProperty(i)) {\n        scripts.push(nodelist[i])\n      }\n    }\n\n    scripts.forEach( function (oldScript) {\n      var newScript = document.createElement(\"script\");\n      var attrs = [];\n      var nodemap = oldScript.attributes;\n      for (var j in nodemap) {\n        if (nodemap.hasOwnProperty(j)) {\n          attrs.push(nodemap[j])\n        }\n      }\n      attrs.forEach(function(attr) { newScript.setAttribute(attr.name, attr.value) });\n      newScript.appendChild(document.createTextNode(oldScript.innerHTML));\n      oldScript.parentNode.replaceChild(newScript, oldScript);\n    });\n    if (JS_MIME_TYPE in output.data) {\n      toinsert[nchildren-1].children[1].textContent = output.data[JS_MIME_TYPE];\n    }\n    output_area._hv_plot_id = id;\n    if ((window.Bokeh !== undefined) && (id in Bokeh.index)) {\n      window.PyViz.plot_index[id] = Bokeh.index[id];\n    } else {\n      window.PyViz.plot_index[id] = null;\n    }\n  } else if (output.metadata[EXEC_MIME_TYPE][\"server_id\"] !== undefined) {\n    var bk_div = document.createElement(\"div\");\n    bk_div.innerHTML = output.data[HTML_MIME_TYPE];\n    var script_attrs = bk_div.children[0].attributes;\n    for (var i = 0; i < script_attrs.length; i++) {\n      toinsert[toinsert.length - 1].childNodes[1].setAttribute(script_attrs[i].name, script_attrs[i].value);\n    }\n    // store reference to server id on output_area\n    output_area._bokeh_server_id = output.metadata[EXEC_MIME_TYPE][\"server_id\"];\n  }\n}\n\n/**\n * Handle when an output is cleared or removed\n */\nfunction handle_clear_output(event, handle) {\n  var id = handle.cell.output_area._hv_plot_id;\n  var server_id = handle.cell.output_area._bokeh_server_id;\n  if (((id === undefined) || !(id in PyViz.plot_index)) && (server_id !== undefined)) { return; }\n  var comm = window.PyViz.comm_manager.get_client_comm(\"hv-extension-comm\", \"hv-extension-comm\", function () {});\n  if (server_id !== null) {\n    comm.send({event_type: 'server_delete', 'id': server_id});\n    return;\n  } else if (comm !== null) {\n    comm.send({event_type: 'delete', 'id': id});\n  }\n  delete PyViz.plot_index[id];\n  if ((window.Bokeh !== undefined) & (id in window.Bokeh.index)) {\n    var doc = window.Bokeh.index[id].model.document\n    doc.clear();\n    const i = window.Bokeh.documents.indexOf(doc);\n    if (i > -1) {\n      window.Bokeh.documents.splice(i, 1);\n    }\n  }\n}\n\n/**\n * Handle kernel restart event\n */\nfunction handle_kernel_cleanup(event, handle) {\n  delete PyViz.comms[\"hv-extension-comm\"];\n  window.PyViz.plot_index = {}\n}\n\n/**\n * Handle update_display_data messages\n */\nfunction handle_update_output(event, handle) {\n  handle_clear_output(event, {cell: {output_area: handle.output_area}})\n  handle_add_output(event, handle)\n}\n\nfunction register_renderer(events, OutputArea) {\n  function append_mime(data, metadata, element) {\n    // create a DOM node to render to\n    var toinsert = this.create_output_subarea(\n    metadata,\n    CLASS_NAME,\n    EXEC_MIME_TYPE\n    );\n    this.keyboard_manager.register_events(toinsert);\n    // Render to node\n    var props = {data: data, metadata: metadata[EXEC_MIME_TYPE]};\n    render(props, toinsert[0]);\n    element.append(toinsert);\n    return toinsert\n  }\n\n  events.on('output_added.OutputArea', handle_add_output);\n  events.on('output_updated.OutputArea', handle_update_output);\n  events.on('clear_output.CodeCell', handle_clear_output);\n  events.on('delete.Cell', handle_clear_output);\n  events.on('kernel_ready.Kernel', handle_kernel_cleanup);\n\n  OutputArea.prototype.register_mime_type(EXEC_MIME_TYPE, append_mime, {\n    safe: true,\n    index: 0\n  });\n}\n\nif (window.Jupyter !== undefined) {\n  try {\n    var events = require('base/js/events');\n    var OutputArea = require('notebook/js/outputarea').OutputArea;\n    if (OutputArea.prototype.mime_types().indexOf(EXEC_MIME_TYPE) == -1) {\n      register_renderer(events, OutputArea);\n    }\n  } catch(err) {\n  }\n}\n",
      "application/vnd.holoviews_load.v0+json": ""
     },
     "metadata": {},
     "output_type": "display_data"
    },
    {
     "data": {
      "text/html": [
       "<style>*[data-root-id],\n",
       "*[data-root-id] > * {\n",
       "  box-sizing: border-box;\n",
       "  font-family: var(--jp-ui-font-family);\n",
       "  font-size: var(--jp-ui-font-size1);\n",
       "  color: var(--vscode-editor-foreground, var(--jp-ui-font-color1));\n",
       "}\n",
       "\n",
       "/* Override VSCode background color */\n",
       ".cell-output-ipywidget-background:has(\n",
       "    > .cell-output-ipywidget-background > .lm-Widget > *[data-root-id]\n",
       "  ),\n",
       ".cell-output-ipywidget-background:has(> .lm-Widget > *[data-root-id]) {\n",
       "  background-color: transparent !important;\n",
       "}\n",
       "</style>"
      ]
     },
     "metadata": {},
     "output_type": "display_data"
    },
    {
     "data": {
      "application/vnd.holoviews_exec.v0+json": "",
      "text/html": [
       "<div id='56fef848-ddd4-4c45-8514-da16de500fd6'>\n",
       "  <div id=\"b3bc64b1-e90f-4e65-870a-4cf871305db2\" data-root-id=\"56fef848-ddd4-4c45-8514-da16de500fd6\" style=\"display: contents;\"></div>\n",
       "</div>\n",
       "<script type=\"application/javascript\">(function(root) {\n",
       "  var docs_json = {\"6cc031a6-c741-4e4f-8839-561b79a505f7\":{\"version\":\"3.4.1\",\"title\":\"Bokeh Application\",\"roots\":[{\"type\":\"object\",\"name\":\"panel.models.browser.BrowserInfo\",\"id\":\"56fef848-ddd4-4c45-8514-da16de500fd6\"},{\"type\":\"object\",\"name\":\"panel.models.comm_manager.CommManager\",\"id\":\"aa481be4-ffed-4cbd-8551-679aeb3ac202\",\"attributes\":{\"plot_id\":\"56fef848-ddd4-4c45-8514-da16de500fd6\",\"comm_id\":\"3cf165587bcb4f038766f6479a825cb6\",\"client_comm_id\":\"32531d4037be4fe88357c66335d2764c\"}}],\"defs\":[{\"type\":\"model\",\"name\":\"ReactiveHTML1\"},{\"type\":\"model\",\"name\":\"FlexBox1\",\"properties\":[{\"name\":\"align_content\",\"kind\":\"Any\",\"default\":\"flex-start\"},{\"name\":\"align_items\",\"kind\":\"Any\",\"default\":\"flex-start\"},{\"name\":\"flex_direction\",\"kind\":\"Any\",\"default\":\"row\"},{\"name\":\"flex_wrap\",\"kind\":\"Any\",\"default\":\"wrap\"},{\"name\":\"gap\",\"kind\":\"Any\",\"default\":\"\"},{\"name\":\"justify_content\",\"kind\":\"Any\",\"default\":\"flex-start\"}]},{\"type\":\"model\",\"name\":\"FloatPanel1\",\"properties\":[{\"name\":\"config\",\"kind\":\"Any\",\"default\":{\"type\":\"map\"}},{\"name\":\"contained\",\"kind\":\"Any\",\"default\":true},{\"name\":\"position\",\"kind\":\"Any\",\"default\":\"right-top\"},{\"name\":\"offsetx\",\"kind\":\"Any\",\"default\":null},{\"name\":\"offsety\",\"kind\":\"Any\",\"default\":null},{\"name\":\"theme\",\"kind\":\"Any\",\"default\":\"primary\"},{\"name\":\"status\",\"kind\":\"Any\",\"default\":\"normalized\"}]},{\"type\":\"model\",\"name\":\"GridStack1\",\"properties\":[{\"name\":\"mode\",\"kind\":\"Any\",\"default\":\"warn\"},{\"name\":\"ncols\",\"kind\":\"Any\",\"default\":null},{\"name\":\"nrows\",\"kind\":\"Any\",\"default\":null},{\"name\":\"allow_resize\",\"kind\":\"Any\",\"default\":true},{\"name\":\"allow_drag\",\"kind\":\"Any\",\"default\":true},{\"name\":\"state\",\"kind\":\"Any\",\"default\":[]}]},{\"type\":\"model\",\"name\":\"drag1\",\"properties\":[{\"name\":\"slider_width\",\"kind\":\"Any\",\"default\":5},{\"name\":\"slider_color\",\"kind\":\"Any\",\"default\":\"black\"},{\"name\":\"value\",\"kind\":\"Any\",\"default\":50}]},{\"type\":\"model\",\"name\":\"click1\",\"properties\":[{\"name\":\"terminal_output\",\"kind\":\"Any\",\"default\":\"\"},{\"name\":\"debug_name\",\"kind\":\"Any\",\"default\":\"\"},{\"name\":\"clears\",\"kind\":\"Any\",\"default\":0}]},{\"type\":\"model\",\"name\":\"FastWrapper1\",\"properties\":[{\"name\":\"object\",\"kind\":\"Any\",\"default\":null},{\"name\":\"style\",\"kind\":\"Any\",\"default\":null}]},{\"type\":\"model\",\"name\":\"NotificationAreaBase1\",\"properties\":[{\"name\":\"js_events\",\"kind\":\"Any\",\"default\":{\"type\":\"map\"}},{\"name\":\"position\",\"kind\":\"Any\",\"default\":\"bottom-right\"},{\"name\":\"_clear\",\"kind\":\"Any\",\"default\":0}]},{\"type\":\"model\",\"name\":\"NotificationArea1\",\"properties\":[{\"name\":\"js_events\",\"kind\":\"Any\",\"default\":{\"type\":\"map\"}},{\"name\":\"notifications\",\"kind\":\"Any\",\"default\":[]},{\"name\":\"position\",\"kind\":\"Any\",\"default\":\"bottom-right\"},{\"name\":\"_clear\",\"kind\":\"Any\",\"default\":0},{\"name\":\"types\",\"kind\":\"Any\",\"default\":[{\"type\":\"map\",\"entries\":[[\"type\",\"warning\"],[\"background\",\"#ffc107\"],[\"icon\",{\"type\":\"map\",\"entries\":[[\"className\",\"fas fa-exclamation-triangle\"],[\"tagName\",\"i\"],[\"color\",\"white\"]]}]]},{\"type\":\"map\",\"entries\":[[\"type\",\"info\"],[\"background\",\"#007bff\"],[\"icon\",{\"type\":\"map\",\"entries\":[[\"className\",\"fas fa-info-circle\"],[\"tagName\",\"i\"],[\"color\",\"white\"]]}]]}]}]},{\"type\":\"model\",\"name\":\"Notification\",\"properties\":[{\"name\":\"background\",\"kind\":\"Any\",\"default\":null},{\"name\":\"duration\",\"kind\":\"Any\",\"default\":3000},{\"name\":\"icon\",\"kind\":\"Any\",\"default\":null},{\"name\":\"message\",\"kind\":\"Any\",\"default\":\"\"},{\"name\":\"notification_type\",\"kind\":\"Any\",\"default\":null},{\"name\":\"_destroyed\",\"kind\":\"Any\",\"default\":false}]},{\"type\":\"model\",\"name\":\"TemplateActions1\",\"properties\":[{\"name\":\"open_modal\",\"kind\":\"Any\",\"default\":0},{\"name\":\"close_modal\",\"kind\":\"Any\",\"default\":0}]},{\"type\":\"model\",\"name\":\"BootstrapTemplateActions1\",\"properties\":[{\"name\":\"open_modal\",\"kind\":\"Any\",\"default\":0},{\"name\":\"close_modal\",\"kind\":\"Any\",\"default\":0}]},{\"type\":\"model\",\"name\":\"TemplateEditor1\",\"properties\":[{\"name\":\"layout\",\"kind\":\"Any\",\"default\":[]}]},{\"type\":\"model\",\"name\":\"MaterialTemplateActions1\",\"properties\":[{\"name\":\"open_modal\",\"kind\":\"Any\",\"default\":0},{\"name\":\"close_modal\",\"kind\":\"Any\",\"default\":0}]},{\"type\":\"model\",\"name\":\"copy_to_clipboard1\",\"properties\":[{\"name\":\"fill\",\"kind\":\"Any\",\"default\":\"none\"},{\"name\":\"value\",\"kind\":\"Any\",\"default\":null}]}]}};\n",
       "  var render_items = [{\"docid\":\"6cc031a6-c741-4e4f-8839-561b79a505f7\",\"roots\":{\"56fef848-ddd4-4c45-8514-da16de500fd6\":\"b3bc64b1-e90f-4e65-870a-4cf871305db2\"},\"root_ids\":[\"56fef848-ddd4-4c45-8514-da16de500fd6\"]}];\n",
       "  var docs = Object.values(docs_json)\n",
       "  if (!docs) {\n",
       "    return\n",
       "  }\n",
       "  const py_version = docs[0].version.replace('rc', '-rc.').replace('.dev', '-dev.')\n",
       "  function embed_document(root) {\n",
       "    var Bokeh = get_bokeh(root)\n",
       "    Bokeh.embed.embed_items_notebook(docs_json, render_items);\n",
       "    for (const render_item of render_items) {\n",
       "      for (const root_id of render_item.root_ids) {\n",
       "\tconst id_el = document.getElementById(root_id)\n",
       "\tif (id_el.children.length && (id_el.children[0].className === 'bk-root')) {\n",
       "\t  const root_el = id_el.children[0]\n",
       "\t  root_el.id = root_el.id + '-rendered'\n",
       "\t}\n",
       "      }\n",
       "    }\n",
       "  }\n",
       "  function get_bokeh(root) {\n",
       "    if (root.Bokeh === undefined) {\n",
       "      return null\n",
       "    } else if (root.Bokeh.version !== py_version) {\n",
       "      if (root.Bokeh.versions === undefined || !root.Bokeh.versions.has(py_version)) {\n",
       "\treturn null\n",
       "      }\n",
       "      return root.Bokeh.versions.get(py_version);\n",
       "    } else if (root.Bokeh.version === py_version) {\n",
       "      return root.Bokeh\n",
       "    }\n",
       "    return null\n",
       "  }\n",
       "  function is_loaded(root) {\n",
       "    var Bokeh = get_bokeh(root)\n",
       "    return (Bokeh != null && Bokeh.Panel !== undefined && ( root.Plotly !== undefined) && ( root.Plotly !== undefined) && ( root.Plotly !== undefined))\n",
       "  }\n",
       "  if (is_loaded(root)) {\n",
       "    embed_document(root);\n",
       "  } else {\n",
       "    var attempts = 0;\n",
       "    var timer = setInterval(function(root) {\n",
       "      if (is_loaded(root)) {\n",
       "        clearInterval(timer);\n",
       "        embed_document(root);\n",
       "      } else if (document.readyState == \"complete\") {\n",
       "        attempts++;\n",
       "        if (attempts > 200) {\n",
       "          clearInterval(timer);\n",
       "\t  var Bokeh = get_bokeh(root)\n",
       "\t  if (Bokeh == null || Bokeh.Panel == null) {\n",
       "            console.warn(\"Panel: ERROR: Unable to run Panel code because Bokeh or Panel library is missing\");\n",
       "\t  } else {\n",
       "\t    console.warn(\"Panel: WARNING: Attempting to render but not all required libraries could be resolved.\")\n",
       "\t    embed_document(root)\n",
       "\t  }\n",
       "        }\n",
       "      }\n",
       "    }, 25, root)\n",
       "  }\n",
       "})(window);</script>"
      ]
     },
     "metadata": {
      "application/vnd.holoviews_exec.v0+json": {
       "id": "56fef848-ddd4-4c45-8514-da16de500fd6"
      }
     },
     "output_type": "display_data"
    },
    {
     "data": {
      "text/plain": [
       "polars.config.Config"
      ]
     },
     "execution_count": 38,
     "metadata": {},
     "output_type": "execute_result"
    }
   ],
   "source": [
    "from ethpandaops_python.preprocessor import Preprocessor\n",
    "from holoviews import opts\n",
    "import nest_asyncio\n",
    "import polars as pl\n",
    "import panel as pn\n",
    "\n",
    "\n",
    "nest_asyncio.apply()\n",
    "pn.extension(\"plotly\", template=\"material\", sizing_mode=\"stretch_width\")\n",
    "pl.Config.set_fmt_str_lengths(200)\n",
    "pl.Config.set_fmt_float(\"full\")"
   ]
  },
  {
   "cell_type": "markdown",
   "metadata": {},
   "source": [
    "### Data Query"
   ]
  },
  {
   "cell_type": "code",
   "execution_count": 39,
   "metadata": {},
   "outputs": [],
   "source": [
    "# labeled blobs - https://dune.com/queries/3521610\n",
    "sequencers_l2: dict[list[str], list[str]] = {\n",
    "    \"sequencer_addresses\": [\n",
    "        \"0xC1b634853Cb333D3aD8663715b08f41A3Aec47cc\",\n",
    "        \"0x5050F69a9786F081509234F1a7F4684b5E5b76C9\",\n",
    "        \"0x6887246668a3b87F54DeB3b94Ba47a6f63F32985\",\n",
    "        \"0xa9268341831eFa4937537bc3e9EB36DbecE83C7e\",\n",
    "        \"0xcF2898225ED05Be911D3709d9417e86E0b4Cfc8f\",\n",
    "        \"0x0D3250c3D5FAcb74Ac15834096397a3Ef790ec99\",\n",
    "        \"0x2c169dfe5fbba12957bdd0ba47d9cedbfe260ca7\",\n",
    "    ],\n",
    "    \"sequencer_names\": [\n",
    "        \"arbitrum\",\n",
    "        \"base\",\n",
    "        \"optimism\",\n",
    "        \"linea\",\n",
    "        \"scroll\",\n",
    "        \"zksync\",\n",
    "        \"starknet\",\n",
    "    ],\n",
    "}\n",
    "\n",
    "num_days: int = 7"
   ]
  },
  {
   "cell_type": "code",
   "execution_count": 40,
   "metadata": {},
   "outputs": [],
   "source": [
    "base_preprocessor: Preprocessor = Preprocessor(\n",
    "    blob_producer=sequencers_l2,\n",
    "    period=num_days,\n",
    "    network=\"mainnet\",  # mainnet\n",
    ")"
   ]
  },
  {
   "cell_type": "code",
   "execution_count": 41,
   "metadata": {},
   "outputs": [],
   "source": [
    "slot_inclusion_df: pl.DataFrame = (\n",
    "    base_preprocessor.create_slot_inclusion_df()\n",
    "    # there is an outlier in the data that has an unusually high slot count, I think it might be an error with the xatu mempool data.\n",
    "    # additionally there is currently a single tx with 5 blobs and 1 with 7. Since it's a single row, I think it's easier to just discard and ignore for now\n",
    "    .filter(pl.col(\"slot_inclusion_rate\") < 250).filter(\n",
    "        pl.col(\"slot_inclusion_rate_50_blob_avg\") < 40\n",
    "    )\n",
    ")\n",
    "\n",
    "label_df = pl.from_dict(sequencers_l2)"
   ]
  },
  {
   "cell_type": "code",
   "execution_count": 42,
   "metadata": {},
   "outputs": [],
   "source": [
    "slot_inclusion_joined: pl.DataFrame = slot_inclusion_df.join(\n",
    "    label_df, left_on=\"from\", right_on=\"sequencer_addresses\", how=\"left\"\n",
    ")"
   ]
  },
  {
   "cell_type": "markdown",
   "metadata": {},
   "source": [
    "### DataFrame Filter"
   ]
  },
  {
   "cell_type": "code",
   "execution_count": 43,
   "metadata": {},
   "outputs": [],
   "source": [
    "def filter_data_seq(\n",
    "    sequencers: list[str], df: pl.DataFrame\n",
    ") -> dict[str : pl.DataFrame]:\n",
    "    \"\"\"\n",
    "    Placeholder function before integrating into the Preprocessor class. Useful for hacking together with dashboard\n",
    "    \"\"\"\n",
    "\n",
    "    # slot count breakdown dataframe\n",
    "    slot_count_breakdown_df = (\n",
    "        df.filter(pl.col(\"sequencer_names\").is_in(sequencers))\n",
    "        .filter(pl.col(\"slot_inclusion_rate\") < 50)\n",
    "        .filter(pl.col(\"slot_inclusion_rate_50_blob_avg\") < 50)\n",
    "        .select(\"hash\", \"slot_inclusion_rate\", \"sequencer_names\")\n",
    "        .unique()\n",
    "        .with_columns(\n",
    "            pl.when(pl.col(\"slot_inclusion_rate\") == 1)\n",
    "            .then(True)\n",
    "            .otherwise(False)\n",
    "            .alias(\"1_slot\"),\n",
    "            pl.when(pl.col(\"slot_inclusion_rate\") == 2)\n",
    "            .then(True)\n",
    "            .otherwise(False)\n",
    "            .alias(\"2_slots\"),\n",
    "            pl.when(pl.col(\"slot_inclusion_rate\") >= 3)\n",
    "            .then(True)\n",
    "            .otherwise(False)\n",
    "            .alias(\"3_plus_slots\"),\n",
    "        )\n",
    "        .with_columns(\n",
    "            pl.col(\"1_slot\").sum(),\n",
    "            pl.col(\"2_slots\").sum(),\n",
    "            pl.col(\"3_plus_slots\").sum(),\n",
    "        )\n",
    "        .select(\"1_slot\", \"2_slots\", \"3_plus_slots\", \"sequencer_names\")[0]\n",
    "    )\n",
    "\n",
    "    slot_gas_bidding_df = (\n",
    "        df.filter(pl.col(\"sequencer_names\").is_in(sequencers))\n",
    "        .filter(pl.col(\"slot_inclusion_rate\") < 50)\n",
    "        .filter(pl.col(\"slot_inclusion_rate_50_blob_avg\") < 50)\n",
    "        .join(base_preprocessor.cached_data[\"txs\"], on=\"hash\", how=\"left\")\n",
    "        .with_columns(\n",
    "            (pl.col(\"effective_gas_price\") / 10**9)\n",
    "            .round(3)\n",
    "            .alias(\n",
    "                \"effective_gas_price_gwei\"\n",
    "            ),  # gas price in gwei that was paid, including priority fee\n",
    "            (pl.col(\"max_fee_per_gas\") / 10**9)\n",
    "            .round(3)\n",
    "            .alias(\n",
    "                \"max_fee_per_gas_gwei\"\n",
    "            ),  # max gas price in gwei that rollup is willing to pay\n",
    "            (pl.col(\"max_priority_fee_per_gas\") / 10**9)\n",
    "            .round(3)\n",
    "            # priority gas fee in gwei,\n",
    "            .alias(\"max_priority_fee_per_gas_gwei\"),\n",
    "        )\n",
    "        .with_columns(\n",
    "            (\n",
    "                (\n",
    "                    pl.col(\"max_priority_fee_per_gas_gwei\")\n",
    "                    / pl.col(\"effective_gas_price_gwei\")\n",
    "                )\n",
    "                * 100\n",
    "            )\n",
    "            .round(3)\n",
    "            .alias(\"priority_fee_bid_percent_premium\")\n",
    "        )\n",
    "        .select(\n",
    "            \"block_number\",\n",
    "            \"max_priority_fee_per_gas_gwei\",\n",
    "            \"effective_gas_price_gwei\",\n",
    "            \"priority_fee_bid_percent_premium\",\n",
    "            \"slot_inclusion_rate\",\n",
    "            \"submission_count\",\n",
    "            \"sequencer_names\",\n",
    "        )\n",
    "        .unique()\n",
    "        .sort(by=\"block_number\")\n",
    "        .with_columns(\n",
    "            (\n",
    "                # estimate min block gas by taking the gwei paid minus the priority fee\n",
    "                pl.col(\"effective_gas_price_gwei\")\n",
    "                - pl.col(\"max_priority_fee_per_gas_gwei\")\n",
    "            ).alias(\"min_block_gas_gwei\")\n",
    "        )\n",
    "        .with_columns(\n",
    "            # calculate per tx gas fluctuations\n",
    "            pl.col(\"min_block_gas_gwei\").diff().abs().alias(\"gas_fluctuation_gwei\")\n",
    "        )\n",
    "        .with_columns(\n",
    "            (pl.col(\"gas_fluctuation_gwei\") / pl.col(\"min_block_gas_gwei\") * 100).alias(\n",
    "                \"gas_fluctuation_percent\"\n",
    "            )\n",
    "        )\n",
    "        .drop_nulls()\n",
    "    )\n",
    "\n",
    "    # slot gas groupby\n",
    "    slot_gas_groupby_df = (\n",
    "        slot_gas_bidding_df.group_by(\"slot_inclusion_rate\", \"sequencer_names\")\n",
    "        .agg(\n",
    "            pl.col(\"priority_fee_bid_percent_premium\").median(),\n",
    "            pl.col(\"effective_gas_price_gwei\").mean(),\n",
    "        )\n",
    "        .sort(by=\"slot_inclusion_rate\")\n",
    "        .drop_nulls()\n",
    "    )\n",
    "\n",
    "    return {\n",
    "        # time series\n",
    "        \"slot_inclusion_joined\": df,\n",
    "        # histogram\n",
    "        \"slot_count_breakdown_df\": slot_count_breakdown_df,\n",
    "        # these two are for scatterplot\n",
    "        \"slot_gas_bidding_df\": slot_gas_bidding_df,\n",
    "        \"slot_gas_groupby_df\": slot_gas_groupby_df,\n",
    "    }"
   ]
  },
  {
   "cell_type": "markdown",
   "metadata": {},
   "source": [
    "### Build the Charts"
   ]
  },
  {
   "cell_type": "code",
   "execution_count": 44,
   "metadata": {},
   "outputs": [],
   "source": [
    "def create_slot_inclusion_line_chart(df: pl.DataFrame, sequencers: list[str]):\n",
    "    return (\n",
    "        df.filter(pl.col(\"sequencer_names\").is_in(sequencers))\n",
    "        .filter(pl.col(\"slot_inclusion_rate\") < 50)\n",
    "        .filter(pl.col(\"slot_inclusion_rate_50_blob_avg\") < 40)\n",
    "        .select(\n",
    "            \"slot_time\",\n",
    "            \"slot_inclusion_rate\",\n",
    "            \"slot_inclusion_rate_50_blob_avg\",\n",
    "            \"2_slot_target_inclusion_rate\",\n",
    "            \"submission_count\",\n",
    "            \"sequencer_names\",\n",
    "        )\n",
    "        .plot.line(\n",
    "            x=\"slot_time\",\n",
    "            y=[\n",
    "                \"slot_inclusion_rate\",\n",
    "                \"slot_inclusion_rate_50_blob_avg\",\n",
    "                \"2_slot_target_inclusion_rate\",\n",
    "            ],\n",
    "            by=\"sequencer_names\",\n",
    "            ylabel=\"Beacon Block Inclusion (block)\",\n",
    "            xlabel=\"Slot Date Time\",\n",
    "            title=\"Historical Slot Inclusion\",\n",
    "            width=800,\n",
    "            height=375,\n",
    "        )\n",
    "    )\n",
    "\n",
    "\n",
    "# TODO Refactor\n",
    "# def create_bar_chart(df: pl.DataFrame, sequencers: list[str], cmap: list[str]):\n",
    "#     return df.filter(pl.col(\"sequencer_names\").is_in(sequencers)).plot.barh(\n",
    "#         ylabel=\"number of txs\",\n",
    "#         title=\"Slot Inclusion Breakdown\",\n",
    "#         stacked=True,\n",
    "#         width=800,\n",
    "#         height=400,\n",
    "#         by=\"sequencer_names\",\n",
    "#         # cmap=cmap,\n",
    "#     )\n",
    "\n",
    "\n",
    "def create_priority_fee_chart(\n",
    "    slot_gas_bidding_df: pl.DataFrame,\n",
    "    slot_gas_groupby_df: pl.DataFrame,\n",
    "    sequencers: list[str],\n",
    "):\n",
    "    # priority fee scatter plot\n",
    "    priority_fee_premium_chart = (\n",
    "        slot_gas_bidding_df.filter(pl.col(\"sequencer_names\").is_in(sequencers))\n",
    "        .filter(pl.col(\"slot_inclusion_rate\") < 40)\n",
    "        .sort(by=\"slot_inclusion_rate\")\n",
    "        .plot.scatter(\n",
    "            x=\"slot_inclusion_rate\",\n",
    "            y=\"priority_fee_bid_percent_premium\",\n",
    "            width=800,\n",
    "            height=375,\n",
    "        )\n",
    "    )\n",
    "\n",
    "    line_chart_bid_premium = (\n",
    "        slot_gas_groupby_df.filter(pl.col(\"sequencer_names\").is_in(sequencers))\n",
    "        .rename(\n",
    "            {\n",
    "                \"priority_fee_bid_percent_premium\": \"priority fee bid premium (%)\",\n",
    "                \"effective_gas_price_gwei\": \"block gas price (gwei)\",\n",
    "            }\n",
    "        )\n",
    "        .plot.line(\n",
    "            x=\"slot_inclusion_rate\",\n",
    "            y=[\"priority fee bid premium (%)\"],\n",
    "            ylabel=\"bid bid premium (%, gwei)\",\n",
    "            xlabel=\"slot inclusion rate\",\n",
    "            title=\"priority fee bid premium effect on slot inclusion rate\",\n",
    "            color=\"g\",\n",
    "        )\n",
    "    )\n",
    "\n",
    "    return priority_fee_premium_chart * line_chart_bid_premium"
   ]
  },
  {
   "cell_type": "markdown",
   "metadata": {},
   "source": [
    "### Preprocessing and filter wrap"
   ]
  },
  {
   "cell_type": "code",
   "execution_count": 45,
   "metadata": {},
   "outputs": [],
   "source": [
    "filtered_data_dict = filter_data_seq(\n",
    "    sequencers_l2[\"sequencer_names\"], slot_inclusion_joined\n",
    ")"
   ]
  },
  {
   "cell_type": "code",
   "execution_count": 46,
   "metadata": {},
   "outputs": [
    {
     "data": {
      "text/plain": [
       "dict_keys(['slot_inclusion_joined', 'slot_count_breakdown_df', 'slot_gas_bidding_df', 'slot_gas_groupby_df'])"
      ]
     },
     "execution_count": 46,
     "metadata": {},
     "output_type": "execute_result"
    }
   ],
   "source": [
    "filtered_data_dict.keys()"
   ]
  },
  {
   "cell_type": "code",
   "execution_count": 47,
   "metadata": {},
   "outputs": [],
   "source": [
    "sequencer_names_list: list[str] = sorted(sequencers_l2[\"sequencer_names\"])\n",
    "\n",
    "cmap_list: list[str] = [\n",
    "    \"red\",\n",
    "    \"green\",\n",
    "    \"blue\",\n",
    "    \"orange\",\n",
    "    \"purple\",\n",
    "    \"cyan\",\n",
    "    \"magenta\",\n",
    "    # \"yellow\",\n",
    "]\n",
    "\n",
    "\n",
    "def start_interactive_panel():\n",
    "    multi_select = pn.widgets.MultiSelect(\n",
    "        name=\"Sequencers\",\n",
    "        size=7,\n",
    "        options=sequencer_names_list,\n",
    "        value=sequencer_names_list,\n",
    "    )\n",
    "\n",
    "    slot_inclusion_line_chart = create_slot_inclusion_line_chart(\n",
    "        filtered_data_dict[\"slot_inclusion_joined\"], sequencer_names_list\n",
    "    )\n",
    "\n",
    "    # bar_chart_panel = create_bar_chart(\n",
    "    #     filtered_data_dict[\"slot_count_breakdown_df\"], sequencer_names_list\n",
    "    # )\n",
    "\n",
    "    priority_fee_chart = create_priority_fee_chart(\n",
    "        filtered_data_dict[\"slot_gas_bidding_df\"],\n",
    "        filtered_data_dict[\"slot_gas_groupby_df\"],\n",
    "        sequencer_names_list,\n",
    "    )\n",
    "\n",
    "    entire_panel = pn.Column(\n",
    "        pn.Row(\n",
    "            pn.pane.Markdown(\n",
    "                \"\"\"\n",
    "            # EIP-4844 Slot Inclusion Dashboard\n",
    "\n",
    "            ## About\n",
    "            This dashboard shows detailed analytics for blobs and how fast they are included into the next slot as well as the efficiency of using EIP-1559 priority fees\n",
    "            as a bidding mechanism for faster slot inclusion. As of April 11, 2024, the data is currently restricted to Base posting data over a 5 day period with \n",
    "            plans to open up to other rollups soon. This dashboard is made using [Xatu Data](https://github.com/ethpandaops/xatu-data?tab=readme-ov-file) for EL mempool and Beacon chain data and [Hypersync](https://github.com/enviodev/hypersync-client-python) \n",
    "            for transaction gas data for the [EIP-4844 data challenge](https://esp.ethereum.foundation/data-challenge-4844).\n",
    "            \"\"\"\n",
    "            ),\n",
    "            multi_select,\n",
    "        ),\n",
    "        pn.pane.Markdown(\n",
    "            \"\"\"\n",
    "            ## Calculating Blob Inclusion in the Beacon Chain\n",
    "            When a transaction is resubmitted with updated gas parameters, the transaction hash changes. For example take this blob reference hash - 0x01c738cf37c911334c771f2295c060e5bd7d084f347e4334863336724934c59a. \n",
    "            On [etherscan](https://etherscan.io/tx/0x763d823c0f933c4d2eb84406b37aa2649753f2f563fa3ee6d27251c6a52a8d69) we can see that the transaction was replaced by the user. We can see on Ethernow that the transaction contains \n",
    "            the same blob reference hash in both the [original tx](https://www.ethernow.xyz/tx/0x763d823c0f933c4d2eb84406b37aa2649753f2f563fa3ee6d27251c6a52a8d69?batchIndex=1) and the [resubmitted tx](https://www.ethernow.xyz/tx/0x5a4094662bd05ff3639a8979927ab527e007a6925387951a9c1b3d2958b13a86?batchIndex=1).\n",
    "            \n",
    "            We can measure the total time that a blob hash sat in the mempool by subtracting the original tx was first seen from the slot time, when it eventually is finalized on the beacon chain. \n",
    "            In this particular example, the total time that the blob sat in the mempool was not from 18:56:27 to 18:57:11 (4 slots), but really 18:54:29 to 18:57:11 (14 slots)\n",
    "            \"\"\"\n",
    "        ),\n",
    "        pn.Row(\n",
    "            slot_inclusion_line_chart.opts(axiswise=True),\n",
    "            priority_fee_chart,\n",
    "            styles=dict(background=\"WhiteSmoke\"),\n",
    "        ),\n",
    "        pn.Row(\n",
    "            pn.pane.Markdown(\n",
    "                \"\"\"\n",
    "            ## Slot Inclusion Rates\n",
    "            **Slot Inclusion Rate** - The slot inclusion rate indicates the number of slots required for a blob to be included in the beacon chain, \n",
    "            with a higher rate signifying a longer inclusion time. The accompanying time-series chart tracks this metric from initial mempool \n",
    "            appearance to final beacon block inclusion. A 50 blob slot inclusion average is taken to smooth out the performance. \n",
    "            The target slot inclusion rate is 2. \n",
    "                \"\"\"\n",
    "            ),\n",
    "            pn.pane.Markdown(\n",
    "                \"\"\"\n",
    "            ## EIP-1559 Priority Fee Premium Correlation with Slot Rates\n",
    "            The scatterplot illustrates the relationship between the EIP-1559 priority fee bid premiums and slot inclusion rates. \n",
    "            A higher priority fee bid premium tends to coincide with longer slot inclusion times. This unexpected twist underscores the value of \n",
    "            efficient slot utilization. The data indicates a trend where higher bid premiums are associated with longer slot inclusion times, \n",
    "            suggesting that as the time for a blob to be included in the beacon chain increases, so does the priority fee bid premium.\n",
    "            This behavior comes from the fact that if a blob sits in the mempool for too long, then it is resubmitted with a higher priority fee. \n",
    "            \"\"\"\n",
    "            ),\n",
    "            styles=dict(background=\"WhiteSmoke\"),\n",
    "        ),\n",
    "    )\n",
    "\n",
    "    def update_bar_chart(event):\n",
    "        entire_panel[2][0].object = create_slot_inclusion_line_chart(\n",
    "            filtered_data_dict[\"slot_inclusion_joined\"],\n",
    "            sequencers=multi_select.value,\n",
    "        )\n",
    "\n",
    "        entire_panel[2][1].object = create_priority_fee_chart(\n",
    "            filtered_data_dict[\"slot_gas_bidding_df\"],\n",
    "            filtered_data_dict[\"slot_gas_groupby_df\"],\n",
    "            sequencers=multi_select.value,\n",
    "        )\n",
    "\n",
    "    multi_select.param.watch(update_bar_chart, \"value\")\n",
    "\n",
    "    return entire_panel.servable()"
   ]
  },
  {
   "cell_type": "code",
   "execution_count": 48,
   "metadata": {},
   "outputs": [
    {
     "name": "stdout",
     "output_type": "stream",
     "text": [
      "Launching server at http://localhost:44505\n"
     ]
    },
    {
     "name": "stderr",
     "output_type": "stream",
     "text": [
      "Gtk-Message: 16:44:22.617: Failed to load module \"canberra-gtk-module\"\n",
      "Gtk-Message: 16:44:22.618: Failed to load module \"canberra-gtk-module\"\n"
     ]
    },
    {
     "name": "stdout",
     "output_type": "stream",
     "text": [
      "Opening in existing browser session.\n"
     ]
    },
    {
     "data": {
      "text/plain": [
       "<panel.io.server.Server at 0x7066102e4410>"
      ]
     },
     "execution_count": 48,
     "metadata": {},
     "output_type": "execute_result"
    }
   ],
   "source": [
    "start_interactive_panel()"
   ]
  },
  {
   "cell_type": "code",
   "execution_count": null,
   "metadata": {},
   "outputs": [],
   "source": []
  },
  {
   "cell_type": "code",
   "execution_count": null,
   "metadata": {},
   "outputs": [],
   "source": []
  }
 ],
 "metadata": {
  "kernelspec": {
   "display_name": ".venv",
   "language": "python",
   "name": "python3"
  },
  "language_info": {
   "codemirror_mode": {
    "name": "ipython",
    "version": 3
   },
   "file_extension": ".py",
   "mimetype": "text/x-python",
   "name": "python",
   "nbconvert_exporter": "python",
   "pygments_lexer": "ipython3",
   "version": "3.11.8"
  }
 },
 "nbformat": 4,
 "nbformat_minor": 2
}
