{
 "cells": [
  {
   "cell_type": "code",
   "execution_count": 1,
   "metadata": {},
   "outputs": [
    {
     "data": {
      "application/javascript": "(function(root) {\n  function now() {\n    return new Date();\n  }\n\n  var force = true;\n  var py_version = '3.4.1'.replace('rc', '-rc.').replace('.dev', '-dev.');\n  var reloading = false;\n  var Bokeh = root.Bokeh;\n\n  if (typeof (root._bokeh_timeout) === \"undefined\" || force) {\n    root._bokeh_timeout = Date.now() + 5000;\n    root._bokeh_failed_load = false;\n  }\n\n  function run_callbacks() {\n    try {\n      root._bokeh_onload_callbacks.forEach(function(callback) {\n        if (callback != null)\n          callback();\n      });\n    } finally {\n      delete root._bokeh_onload_callbacks;\n    }\n    console.debug(\"Bokeh: all callbacks have finished\");\n  }\n\n  function load_libs(css_urls, js_urls, js_modules, js_exports, callback) {\n    if (css_urls == null) css_urls = [];\n    if (js_urls == null) js_urls = [];\n    if (js_modules == null) js_modules = [];\n    if (js_exports == null) js_exports = {};\n\n    root._bokeh_onload_callbacks.push(callback);\n\n    if (root._bokeh_is_loading > 0) {\n      console.debug(\"Bokeh: BokehJS is being loaded, scheduling callback at\", now());\n      return null;\n    }\n    if (js_urls.length === 0 && js_modules.length === 0 && Object.keys(js_exports).length === 0) {\n      run_callbacks();\n      return null;\n    }\n    if (!reloading) {\n      console.debug(\"Bokeh: BokehJS not loaded, scheduling load and callback at\", now());\n    }\n\n    function on_load() {\n      root._bokeh_is_loading--;\n      if (root._bokeh_is_loading === 0) {\n        console.debug(\"Bokeh: all BokehJS libraries/stylesheets loaded\");\n        run_callbacks()\n      }\n    }\n    window._bokeh_on_load = on_load\n\n    function on_error() {\n      console.error(\"failed to load \" + url);\n    }\n\n    var skip = [];\n    if (window.requirejs) {\n      window.requirejs.config({'packages': {}, 'paths': {'tabulator': 'https://cdn.jsdelivr.net/npm/tabulator-tables@5.5.0/dist/js/tabulator.min', 'moment': 'https://cdn.jsdelivr.net/npm/luxon/build/global/luxon.min'}, 'shim': {}});\n      require([\"tabulator\"], function(Tabulator) {\n\twindow.Tabulator = Tabulator\n\ton_load()\n      })\n      require([\"moment\"], function(moment) {\n\twindow.moment = moment\n\ton_load()\n      })\n      root._bokeh_is_loading = css_urls.length + 2;\n    } else {\n      root._bokeh_is_loading = css_urls.length + js_urls.length + js_modules.length + Object.keys(js_exports).length;\n    }\n\n    var existing_stylesheets = []\n    var links = document.getElementsByTagName('link')\n    for (var i = 0; i < links.length; i++) {\n      var link = links[i]\n      if (link.href != null) {\n\texisting_stylesheets.push(link.href)\n      }\n    }\n    for (var i = 0; i < css_urls.length; i++) {\n      var url = css_urls[i];\n      if (existing_stylesheets.indexOf(url) !== -1) {\n\ton_load()\n\tcontinue;\n      }\n      const element = document.createElement(\"link\");\n      element.onload = on_load;\n      element.onerror = on_error;\n      element.rel = \"stylesheet\";\n      element.type = \"text/css\";\n      element.href = url;\n      console.debug(\"Bokeh: injecting link tag for BokehJS stylesheet: \", url);\n      document.body.appendChild(element);\n    }    if (((window.Tabulator !== undefined) && (!(window.Tabulator instanceof HTMLElement))) || window.requirejs) {\n      var urls = ['https://cdn.holoviz.org/panel/1.4.4/dist/bundled/datatabulator/tabulator-tables@5.5.0/dist/js/tabulator.min.js'];\n      for (var i = 0; i < urls.length; i++) {\n        skip.push(urls[i])\n      }\n    }    if (((window.moment !== undefined) && (!(window.moment instanceof HTMLElement))) || window.requirejs) {\n      var urls = ['https://cdn.holoviz.org/panel/1.4.4/dist/bundled/datatabulator/luxon/build/global/luxon.min.js'];\n      for (var i = 0; i < urls.length; i++) {\n        skip.push(urls[i])\n      }\n    }    var existing_scripts = []\n    var scripts = document.getElementsByTagName('script')\n    for (var i = 0; i < scripts.length; i++) {\n      var script = scripts[i]\n      if (script.src != null) {\n\texisting_scripts.push(script.src)\n      }\n    }\n    for (var i = 0; i < js_urls.length; i++) {\n      var url = js_urls[i];\n      if (skip.indexOf(url) !== -1 || existing_scripts.indexOf(url) !== -1) {\n\tif (!window.requirejs) {\n\t  on_load();\n\t}\n\tcontinue;\n      }\n      var element = document.createElement('script');\n      element.onload = on_load;\n      element.onerror = on_error;\n      element.async = false;\n      element.src = url;\n      console.debug(\"Bokeh: injecting script tag for BokehJS library: \", url);\n      document.head.appendChild(element);\n    }\n    for (var i = 0; i < js_modules.length; i++) {\n      var url = js_modules[i];\n      if (skip.indexOf(url) !== -1 || existing_scripts.indexOf(url) !== -1) {\n\tif (!window.requirejs) {\n\t  on_load();\n\t}\n\tcontinue;\n      }\n      var element = document.createElement('script');\n      element.onload = on_load;\n      element.onerror = on_error;\n      element.async = false;\n      element.src = url;\n      element.type = \"module\";\n      console.debug(\"Bokeh: injecting script tag for BokehJS library: \", url);\n      document.head.appendChild(element);\n    }\n    for (const name in js_exports) {\n      var url = js_exports[name];\n      if (skip.indexOf(url) >= 0 || root[name] != null) {\n\tif (!window.requirejs) {\n\t  on_load();\n\t}\n\tcontinue;\n      }\n      var element = document.createElement('script');\n      element.onerror = on_error;\n      element.async = false;\n      element.type = \"module\";\n      console.debug(\"Bokeh: injecting script tag for BokehJS library: \", url);\n      element.textContent = `\n      import ${name} from \"${url}\"\n      window.${name} = ${name}\n      window._bokeh_on_load()\n      `\n      document.head.appendChild(element);\n    }\n    if (!js_urls.length && !js_modules.length) {\n      on_load()\n    }\n  };\n\n  function inject_raw_css(css) {\n    const element = document.createElement(\"style\");\n    element.appendChild(document.createTextNode(css));\n    document.body.appendChild(element);\n  }\n\n  var js_urls = [\"https://cdn.holoviz.org/panel/1.4.4/dist/bundled/datatabulator/tabulator-tables@5.5.0/dist/js/tabulator.min.js\", \"https://cdn.holoviz.org/panel/1.4.4/dist/bundled/datatabulator/luxon/build/global/luxon.min.js\", \"https://cdn.bokeh.org/bokeh/release/bokeh-3.4.1.min.js\", \"https://cdn.bokeh.org/bokeh/release/bokeh-gl-3.4.1.min.js\", \"https://cdn.bokeh.org/bokeh/release/bokeh-widgets-3.4.1.min.js\", \"https://cdn.bokeh.org/bokeh/release/bokeh-tables-3.4.1.min.js\", \"https://cdn.holoviz.org/panel/1.4.4/dist/panel.min.js\"];\n  var js_modules = [];\n  var js_exports = {};\n  var css_urls = [\"https://cdn.holoviz.org/panel/1.4.4/dist/bundled/datatabulator/tabulator-tables@5.5.0/dist/css/tabulator_simple.min.css?v=1.4.4\"];\n  var inline_js = [    function(Bokeh) {\n      Bokeh.set_log_level(\"info\");\n    },\nfunction(Bokeh) {} // ensure no trailing comma for IE\n  ];\n\n  function run_inline_js() {\n    if ((root.Bokeh !== undefined) || (force === true)) {\n      for (var i = 0; i < inline_js.length; i++) {\n\ttry {\n          inline_js[i].call(root, root.Bokeh);\n\t} catch(e) {\n\t  if (!reloading) {\n\t    throw e;\n\t  }\n\t}\n      }\n      // Cache old bokeh versions\n      if (Bokeh != undefined && !reloading) {\n\tvar NewBokeh = root.Bokeh;\n\tif (Bokeh.versions === undefined) {\n\t  Bokeh.versions = new Map();\n\t}\n\tif (NewBokeh.version !== Bokeh.version) {\n\t  Bokeh.versions.set(NewBokeh.version, NewBokeh)\n\t}\n\troot.Bokeh = Bokeh;\n      }} else if (Date.now() < root._bokeh_timeout) {\n      setTimeout(run_inline_js, 100);\n    } else if (!root._bokeh_failed_load) {\n      console.log(\"Bokeh: BokehJS failed to load within specified timeout.\");\n      root._bokeh_failed_load = true;\n    }\n    root._bokeh_is_initializing = false\n  }\n\n  function load_or_wait() {\n    // Implement a backoff loop that tries to ensure we do not load multiple\n    // versions of Bokeh and its dependencies at the same time.\n    // In recent versions we use the root._bokeh_is_initializing flag\n    // to determine whether there is an ongoing attempt to initialize\n    // bokeh, however for backward compatibility we also try to ensure\n    // that we do not start loading a newer (Panel>=1.0 and Bokeh>3) version\n    // before older versions are fully initialized.\n    if (root._bokeh_is_initializing && Date.now() > root._bokeh_timeout) {\n      root._bokeh_is_initializing = false;\n      root._bokeh_onload_callbacks = undefined;\n      console.log(\"Bokeh: BokehJS was loaded multiple times but one version failed to initialize.\");\n      load_or_wait();\n    } else if (root._bokeh_is_initializing || (typeof root._bokeh_is_initializing === \"undefined\" && root._bokeh_onload_callbacks !== undefined)) {\n      setTimeout(load_or_wait, 100);\n    } else {\n      root._bokeh_is_initializing = true\n      root._bokeh_onload_callbacks = []\n      var bokeh_loaded = Bokeh != null && (Bokeh.version === py_version || (Bokeh.versions !== undefined && Bokeh.versions.has(py_version)));\n      if (!reloading && !bokeh_loaded) {\n\troot.Bokeh = undefined;\n      }\n      load_libs(css_urls, js_urls, js_modules, js_exports, function() {\n\tconsole.debug(\"Bokeh: BokehJS plotting callback run at\", now());\n\trun_inline_js();\n      });\n    }\n  }\n  // Give older versions of the autoload script a head-start to ensure\n  // they initialize before we start loading newer version.\n  setTimeout(load_or_wait, 100)\n}(window));",
      "application/vnd.holoviews_load.v0+json": ""
     },
     "metadata": {},
     "output_type": "display_data"
    },
    {
     "data": {
      "application/javascript": "\nif ((window.PyViz === undefined) || (window.PyViz instanceof HTMLElement)) {\n  window.PyViz = {comms: {}, comm_status:{}, kernels:{}, receivers: {}, plot_index: []}\n}\n\n\n    function JupyterCommManager() {\n    }\n\n    JupyterCommManager.prototype.register_target = function(plot_id, comm_id, msg_handler) {\n      if (window.comm_manager || ((window.Jupyter !== undefined) && (Jupyter.notebook.kernel != null))) {\n        var comm_manager = window.comm_manager || Jupyter.notebook.kernel.comm_manager;\n        comm_manager.register_target(comm_id, function(comm) {\n          comm.on_msg(msg_handler);\n        });\n      } else if ((plot_id in window.PyViz.kernels) && (window.PyViz.kernels[plot_id])) {\n        window.PyViz.kernels[plot_id].registerCommTarget(comm_id, function(comm) {\n          comm.onMsg = msg_handler;\n        });\n      } else if (typeof google != 'undefined' && google.colab.kernel != null) {\n        google.colab.kernel.comms.registerTarget(comm_id, (comm) => {\n          var messages = comm.messages[Symbol.asyncIterator]();\n          function processIteratorResult(result) {\n            var message = result.value;\n            console.log(message)\n            var content = {data: message.data, comm_id};\n            var buffers = []\n            for (var buffer of message.buffers || []) {\n              buffers.push(new DataView(buffer))\n            }\n            var metadata = message.metadata || {};\n            var msg = {content, buffers, metadata}\n            msg_handler(msg);\n            return messages.next().then(processIteratorResult);\n          }\n          return messages.next().then(processIteratorResult);\n        })\n      }\n    }\n\n    JupyterCommManager.prototype.get_client_comm = function(plot_id, comm_id, msg_handler) {\n      if (comm_id in window.PyViz.comms) {\n        return window.PyViz.comms[comm_id];\n      } else if (window.comm_manager || ((window.Jupyter !== undefined) && (Jupyter.notebook.kernel != null))) {\n        var comm_manager = window.comm_manager || Jupyter.notebook.kernel.comm_manager;\n        var comm = comm_manager.new_comm(comm_id, {}, {}, {}, comm_id);\n        if (msg_handler) {\n          comm.on_msg(msg_handler);\n        }\n      } else if ((plot_id in window.PyViz.kernels) && (window.PyViz.kernels[plot_id])) {\n        var comm = window.PyViz.kernels[plot_id].connectToComm(comm_id);\n        comm.open();\n        if (msg_handler) {\n          comm.onMsg = msg_handler;\n        }\n      } else if (typeof google != 'undefined' && google.colab.kernel != null) {\n        var comm_promise = google.colab.kernel.comms.open(comm_id)\n        comm_promise.then((comm) => {\n          window.PyViz.comms[comm_id] = comm;\n          if (msg_handler) {\n            var messages = comm.messages[Symbol.asyncIterator]();\n            function processIteratorResult(result) {\n              var message = result.value;\n              var content = {data: message.data};\n              var metadata = message.metadata || {comm_id};\n              var msg = {content, metadata}\n              msg_handler(msg);\n              return messages.next().then(processIteratorResult);\n            }\n            return messages.next().then(processIteratorResult);\n          }\n        }) \n        var sendClosure = (data, metadata, buffers, disposeOnDone) => {\n          return comm_promise.then((comm) => {\n            comm.send(data, metadata, buffers, disposeOnDone);\n          });\n        };\n        var comm = {\n          send: sendClosure\n        };\n      }\n      window.PyViz.comms[comm_id] = comm;\n      return comm;\n    }\n    window.PyViz.comm_manager = new JupyterCommManager();\n    \n\n\nvar JS_MIME_TYPE = 'application/javascript';\nvar HTML_MIME_TYPE = 'text/html';\nvar EXEC_MIME_TYPE = 'application/vnd.holoviews_exec.v0+json';\nvar CLASS_NAME = 'output';\n\n/**\n * Render data to the DOM node\n */\nfunction render(props, node) {\n  var div = document.createElement(\"div\");\n  var script = document.createElement(\"script\");\n  node.appendChild(div);\n  node.appendChild(script);\n}\n\n/**\n * Handle when a new output is added\n */\nfunction handle_add_output(event, handle) {\n  var output_area = handle.output_area;\n  var output = handle.output;\n  if ((output.data == undefined) || (!output.data.hasOwnProperty(EXEC_MIME_TYPE))) {\n    return\n  }\n  var id = output.metadata[EXEC_MIME_TYPE][\"id\"];\n  var toinsert = output_area.element.find(\".\" + CLASS_NAME.split(' ')[0]);\n  if (id !== undefined) {\n    var nchildren = toinsert.length;\n    var html_node = toinsert[nchildren-1].children[0];\n    html_node.innerHTML = output.data[HTML_MIME_TYPE];\n    var scripts = [];\n    var nodelist = html_node.querySelectorAll(\"script\");\n    for (var i in nodelist) {\n      if (nodelist.hasOwnProperty(i)) {\n        scripts.push(nodelist[i])\n      }\n    }\n\n    scripts.forEach( function (oldScript) {\n      var newScript = document.createElement(\"script\");\n      var attrs = [];\n      var nodemap = oldScript.attributes;\n      for (var j in nodemap) {\n        if (nodemap.hasOwnProperty(j)) {\n          attrs.push(nodemap[j])\n        }\n      }\n      attrs.forEach(function(attr) { newScript.setAttribute(attr.name, attr.value) });\n      newScript.appendChild(document.createTextNode(oldScript.innerHTML));\n      oldScript.parentNode.replaceChild(newScript, oldScript);\n    });\n    if (JS_MIME_TYPE in output.data) {\n      toinsert[nchildren-1].children[1].textContent = output.data[JS_MIME_TYPE];\n    }\n    output_area._hv_plot_id = id;\n    if ((window.Bokeh !== undefined) && (id in Bokeh.index)) {\n      window.PyViz.plot_index[id] = Bokeh.index[id];\n    } else {\n      window.PyViz.plot_index[id] = null;\n    }\n  } else if (output.metadata[EXEC_MIME_TYPE][\"server_id\"] !== undefined) {\n    var bk_div = document.createElement(\"div\");\n    bk_div.innerHTML = output.data[HTML_MIME_TYPE];\n    var script_attrs = bk_div.children[0].attributes;\n    for (var i = 0; i < script_attrs.length; i++) {\n      toinsert[toinsert.length - 1].childNodes[1].setAttribute(script_attrs[i].name, script_attrs[i].value);\n    }\n    // store reference to server id on output_area\n    output_area._bokeh_server_id = output.metadata[EXEC_MIME_TYPE][\"server_id\"];\n  }\n}\n\n/**\n * Handle when an output is cleared or removed\n */\nfunction handle_clear_output(event, handle) {\n  var id = handle.cell.output_area._hv_plot_id;\n  var server_id = handle.cell.output_area._bokeh_server_id;\n  if (((id === undefined) || !(id in PyViz.plot_index)) && (server_id !== undefined)) { return; }\n  var comm = window.PyViz.comm_manager.get_client_comm(\"hv-extension-comm\", \"hv-extension-comm\", function () {});\n  if (server_id !== null) {\n    comm.send({event_type: 'server_delete', 'id': server_id});\n    return;\n  } else if (comm !== null) {\n    comm.send({event_type: 'delete', 'id': id});\n  }\n  delete PyViz.plot_index[id];\n  if ((window.Bokeh !== undefined) & (id in window.Bokeh.index)) {\n    var doc = window.Bokeh.index[id].model.document\n    doc.clear();\n    const i = window.Bokeh.documents.indexOf(doc);\n    if (i > -1) {\n      window.Bokeh.documents.splice(i, 1);\n    }\n  }\n}\n\n/**\n * Handle kernel restart event\n */\nfunction handle_kernel_cleanup(event, handle) {\n  delete PyViz.comms[\"hv-extension-comm\"];\n  window.PyViz.plot_index = {}\n}\n\n/**\n * Handle update_display_data messages\n */\nfunction handle_update_output(event, handle) {\n  handle_clear_output(event, {cell: {output_area: handle.output_area}})\n  handle_add_output(event, handle)\n}\n\nfunction register_renderer(events, OutputArea) {\n  function append_mime(data, metadata, element) {\n    // create a DOM node to render to\n    var toinsert = this.create_output_subarea(\n    metadata,\n    CLASS_NAME,\n    EXEC_MIME_TYPE\n    );\n    this.keyboard_manager.register_events(toinsert);\n    // Render to node\n    var props = {data: data, metadata: metadata[EXEC_MIME_TYPE]};\n    render(props, toinsert[0]);\n    element.append(toinsert);\n    return toinsert\n  }\n\n  events.on('output_added.OutputArea', handle_add_output);\n  events.on('output_updated.OutputArea', handle_update_output);\n  events.on('clear_output.CodeCell', handle_clear_output);\n  events.on('delete.Cell', handle_clear_output);\n  events.on('kernel_ready.Kernel', handle_kernel_cleanup);\n\n  OutputArea.prototype.register_mime_type(EXEC_MIME_TYPE, append_mime, {\n    safe: true,\n    index: 0\n  });\n}\n\nif (window.Jupyter !== undefined) {\n  try {\n    var events = require('base/js/events');\n    var OutputArea = require('notebook/js/outputarea').OutputArea;\n    if (OutputArea.prototype.mime_types().indexOf(EXEC_MIME_TYPE) == -1) {\n      register_renderer(events, OutputArea);\n    }\n  } catch(err) {\n  }\n}\n",
      "application/vnd.holoviews_load.v0+json": ""
     },
     "metadata": {},
     "output_type": "display_data"
    },
    {
     "data": {
      "text/html": [
       "<style>*[data-root-id],\n",
       "*[data-root-id] > * {\n",
       "  box-sizing: border-box;\n",
       "  font-family: var(--jp-ui-font-family);\n",
       "  font-size: var(--jp-ui-font-size1);\n",
       "  color: var(--vscode-editor-foreground, var(--jp-ui-font-color1));\n",
       "}\n",
       "\n",
       "/* Override VSCode background color */\n",
       ".cell-output-ipywidget-background:has(\n",
       "    > .cell-output-ipywidget-background > .lm-Widget > *[data-root-id]\n",
       "  ),\n",
       ".cell-output-ipywidget-background:has(> .lm-Widget > *[data-root-id]) {\n",
       "  background-color: transparent !important;\n",
       "}\n",
       "</style>"
      ]
     },
     "metadata": {},
     "output_type": "display_data"
    },
    {
     "data": {
      "application/javascript": "(function(root) {\n  function now() {\n    return new Date();\n  }\n\n  var force = true;\n  var py_version = '3.4.1'.replace('rc', '-rc.').replace('.dev', '-dev.');\n  var reloading = true;\n  var Bokeh = root.Bokeh;\n\n  if (typeof (root._bokeh_timeout) === \"undefined\" || force) {\n    root._bokeh_timeout = Date.now() + 5000;\n    root._bokeh_failed_load = false;\n  }\n\n  function run_callbacks() {\n    try {\n      root._bokeh_onload_callbacks.forEach(function(callback) {\n        if (callback != null)\n          callback();\n      });\n    } finally {\n      delete root._bokeh_onload_callbacks;\n    }\n    console.debug(\"Bokeh: all callbacks have finished\");\n  }\n\n  function load_libs(css_urls, js_urls, js_modules, js_exports, callback) {\n    if (css_urls == null) css_urls = [];\n    if (js_urls == null) js_urls = [];\n    if (js_modules == null) js_modules = [];\n    if (js_exports == null) js_exports = {};\n\n    root._bokeh_onload_callbacks.push(callback);\n\n    if (root._bokeh_is_loading > 0) {\n      console.debug(\"Bokeh: BokehJS is being loaded, scheduling callback at\", now());\n      return null;\n    }\n    if (js_urls.length === 0 && js_modules.length === 0 && Object.keys(js_exports).length === 0) {\n      run_callbacks();\n      return null;\n    }\n    if (!reloading) {\n      console.debug(\"Bokeh: BokehJS not loaded, scheduling load and callback at\", now());\n    }\n\n    function on_load() {\n      root._bokeh_is_loading--;\n      if (root._bokeh_is_loading === 0) {\n        console.debug(\"Bokeh: all BokehJS libraries/stylesheets loaded\");\n        run_callbacks()\n      }\n    }\n    window._bokeh_on_load = on_load\n\n    function on_error() {\n      console.error(\"failed to load \" + url);\n    }\n\n    var skip = [];\n    if (window.requirejs) {\n      window.requirejs.config({'packages': {}, 'paths': {'tabulator': 'https://cdn.jsdelivr.net/npm/tabulator-tables@5.5.0/dist/js/tabulator.min', 'moment': 'https://cdn.jsdelivr.net/npm/luxon/build/global/luxon.min'}, 'shim': {}});\n      require([\"tabulator\"], function(Tabulator) {\n\twindow.Tabulator = Tabulator\n\ton_load()\n      })\n      require([\"moment\"], function(moment) {\n\twindow.moment = moment\n\ton_load()\n      })\n      root._bokeh_is_loading = css_urls.length + 2;\n    } else {\n      root._bokeh_is_loading = css_urls.length + js_urls.length + js_modules.length + Object.keys(js_exports).length;\n    }\n\n    var existing_stylesheets = []\n    var links = document.getElementsByTagName('link')\n    for (var i = 0; i < links.length; i++) {\n      var link = links[i]\n      if (link.href != null) {\n\texisting_stylesheets.push(link.href)\n      }\n    }\n    for (var i = 0; i < css_urls.length; i++) {\n      var url = css_urls[i];\n      if (existing_stylesheets.indexOf(url) !== -1) {\n\ton_load()\n\tcontinue;\n      }\n      const element = document.createElement(\"link\");\n      element.onload = on_load;\n      element.onerror = on_error;\n      element.rel = \"stylesheet\";\n      element.type = \"text/css\";\n      element.href = url;\n      console.debug(\"Bokeh: injecting link tag for BokehJS stylesheet: \", url);\n      document.body.appendChild(element);\n    }    if (((window.Tabulator !== undefined) && (!(window.Tabulator instanceof HTMLElement))) || window.requirejs) {\n      var urls = ['https://cdn.holoviz.org/panel/1.4.4/dist/bundled/datatabulator/tabulator-tables@5.5.0/dist/js/tabulator.min.js'];\n      for (var i = 0; i < urls.length; i++) {\n        skip.push(urls[i])\n      }\n    }    if (((window.moment !== undefined) && (!(window.moment instanceof HTMLElement))) || window.requirejs) {\n      var urls = ['https://cdn.holoviz.org/panel/1.4.4/dist/bundled/datatabulator/luxon/build/global/luxon.min.js'];\n      for (var i = 0; i < urls.length; i++) {\n        skip.push(urls[i])\n      }\n    }    var existing_scripts = []\n    var scripts = document.getElementsByTagName('script')\n    for (var i = 0; i < scripts.length; i++) {\n      var script = scripts[i]\n      if (script.src != null) {\n\texisting_scripts.push(script.src)\n      }\n    }\n    for (var i = 0; i < js_urls.length; i++) {\n      var url = js_urls[i];\n      if (skip.indexOf(url) !== -1 || existing_scripts.indexOf(url) !== -1) {\n\tif (!window.requirejs) {\n\t  on_load();\n\t}\n\tcontinue;\n      }\n      var element = document.createElement('script');\n      element.onload = on_load;\n      element.onerror = on_error;\n      element.async = false;\n      element.src = url;\n      console.debug(\"Bokeh: injecting script tag for BokehJS library: \", url);\n      document.head.appendChild(element);\n    }\n    for (var i = 0; i < js_modules.length; i++) {\n      var url = js_modules[i];\n      if (skip.indexOf(url) !== -1 || existing_scripts.indexOf(url) !== -1) {\n\tif (!window.requirejs) {\n\t  on_load();\n\t}\n\tcontinue;\n      }\n      var element = document.createElement('script');\n      element.onload = on_load;\n      element.onerror = on_error;\n      element.async = false;\n      element.src = url;\n      element.type = \"module\";\n      console.debug(\"Bokeh: injecting script tag for BokehJS library: \", url);\n      document.head.appendChild(element);\n    }\n    for (const name in js_exports) {\n      var url = js_exports[name];\n      if (skip.indexOf(url) >= 0 || root[name] != null) {\n\tif (!window.requirejs) {\n\t  on_load();\n\t}\n\tcontinue;\n      }\n      var element = document.createElement('script');\n      element.onerror = on_error;\n      element.async = false;\n      element.type = \"module\";\n      console.debug(\"Bokeh: injecting script tag for BokehJS library: \", url);\n      element.textContent = `\n      import ${name} from \"${url}\"\n      window.${name} = ${name}\n      window._bokeh_on_load()\n      `\n      document.head.appendChild(element);\n    }\n    if (!js_urls.length && !js_modules.length) {\n      on_load()\n    }\n  };\n\n  function inject_raw_css(css) {\n    const element = document.createElement(\"style\");\n    element.appendChild(document.createTextNode(css));\n    document.body.appendChild(element);\n  }\n\n  var js_urls = [\"https://cdn.holoviz.org/panel/1.4.4/dist/bundled/datatabulator/tabulator-tables@5.5.0/dist/js/tabulator.min.js\", \"https://cdn.holoviz.org/panel/1.4.4/dist/bundled/datatabulator/luxon/build/global/luxon.min.js\"];\n  var js_modules = [];\n  var js_exports = {};\n  var css_urls = [\"https://cdn.holoviz.org/panel/1.4.4/dist/bundled/datatabulator/tabulator-tables@5.5.0/dist/css/tabulator_simple.min.css?v=1.4.4\"];\n  var inline_js = [    function(Bokeh) {\n      Bokeh.set_log_level(\"info\");\n    },\nfunction(Bokeh) {} // ensure no trailing comma for IE\n  ];\n\n  function run_inline_js() {\n    if ((root.Bokeh !== undefined) || (force === true)) {\n      for (var i = 0; i < inline_js.length; i++) {\n\ttry {\n          inline_js[i].call(root, root.Bokeh);\n\t} catch(e) {\n\t  if (!reloading) {\n\t    throw e;\n\t  }\n\t}\n      }\n      // Cache old bokeh versions\n      if (Bokeh != undefined && !reloading) {\n\tvar NewBokeh = root.Bokeh;\n\tif (Bokeh.versions === undefined) {\n\t  Bokeh.versions = new Map();\n\t}\n\tif (NewBokeh.version !== Bokeh.version) {\n\t  Bokeh.versions.set(NewBokeh.version, NewBokeh)\n\t}\n\troot.Bokeh = Bokeh;\n      }} else if (Date.now() < root._bokeh_timeout) {\n      setTimeout(run_inline_js, 100);\n    } else if (!root._bokeh_failed_load) {\n      console.log(\"Bokeh: BokehJS failed to load within specified timeout.\");\n      root._bokeh_failed_load = true;\n    }\n    root._bokeh_is_initializing = false\n  }\n\n  function load_or_wait() {\n    // Implement a backoff loop that tries to ensure we do not load multiple\n    // versions of Bokeh and its dependencies at the same time.\n    // In recent versions we use the root._bokeh_is_initializing flag\n    // to determine whether there is an ongoing attempt to initialize\n    // bokeh, however for backward compatibility we also try to ensure\n    // that we do not start loading a newer (Panel>=1.0 and Bokeh>3) version\n    // before older versions are fully initialized.\n    if (root._bokeh_is_initializing && Date.now() > root._bokeh_timeout) {\n      root._bokeh_is_initializing = false;\n      root._bokeh_onload_callbacks = undefined;\n      console.log(\"Bokeh: BokehJS was loaded multiple times but one version failed to initialize.\");\n      load_or_wait();\n    } else if (root._bokeh_is_initializing || (typeof root._bokeh_is_initializing === \"undefined\" && root._bokeh_onload_callbacks !== undefined)) {\n      setTimeout(load_or_wait, 100);\n    } else {\n      root._bokeh_is_initializing = true\n      root._bokeh_onload_callbacks = []\n      var bokeh_loaded = Bokeh != null && (Bokeh.version === py_version || (Bokeh.versions !== undefined && Bokeh.versions.has(py_version)));\n      if (!reloading && !bokeh_loaded) {\n\troot.Bokeh = undefined;\n      }\n      load_libs(css_urls, js_urls, js_modules, js_exports, function() {\n\tconsole.debug(\"Bokeh: BokehJS plotting callback run at\", now());\n\trun_inline_js();\n      });\n    }\n  }\n  // Give older versions of the autoload script a head-start to ensure\n  // they initialize before we start loading newer version.\n  setTimeout(load_or_wait, 100)\n}(window));",
      "application/vnd.holoviews_load.v0+json": ""
     },
     "metadata": {},
     "output_type": "display_data"
    },
    {
     "data": {
      "application/javascript": "\nif ((window.PyViz === undefined) || (window.PyViz instanceof HTMLElement)) {\n  window.PyViz = {comms: {}, comm_status:{}, kernels:{}, receivers: {}, plot_index: []}\n}\n\n\n    function JupyterCommManager() {\n    }\n\n    JupyterCommManager.prototype.register_target = function(plot_id, comm_id, msg_handler) {\n      if (window.comm_manager || ((window.Jupyter !== undefined) && (Jupyter.notebook.kernel != null))) {\n        var comm_manager = window.comm_manager || Jupyter.notebook.kernel.comm_manager;\n        comm_manager.register_target(comm_id, function(comm) {\n          comm.on_msg(msg_handler);\n        });\n      } else if ((plot_id in window.PyViz.kernels) && (window.PyViz.kernels[plot_id])) {\n        window.PyViz.kernels[plot_id].registerCommTarget(comm_id, function(comm) {\n          comm.onMsg = msg_handler;\n        });\n      } else if (typeof google != 'undefined' && google.colab.kernel != null) {\n        google.colab.kernel.comms.registerTarget(comm_id, (comm) => {\n          var messages = comm.messages[Symbol.asyncIterator]();\n          function processIteratorResult(result) {\n            var message = result.value;\n            console.log(message)\n            var content = {data: message.data, comm_id};\n            var buffers = []\n            for (var buffer of message.buffers || []) {\n              buffers.push(new DataView(buffer))\n            }\n            var metadata = message.metadata || {};\n            var msg = {content, buffers, metadata}\n            msg_handler(msg);\n            return messages.next().then(processIteratorResult);\n          }\n          return messages.next().then(processIteratorResult);\n        })\n      }\n    }\n\n    JupyterCommManager.prototype.get_client_comm = function(plot_id, comm_id, msg_handler) {\n      if (comm_id in window.PyViz.comms) {\n        return window.PyViz.comms[comm_id];\n      } else if (window.comm_manager || ((window.Jupyter !== undefined) && (Jupyter.notebook.kernel != null))) {\n        var comm_manager = window.comm_manager || Jupyter.notebook.kernel.comm_manager;\n        var comm = comm_manager.new_comm(comm_id, {}, {}, {}, comm_id);\n        if (msg_handler) {\n          comm.on_msg(msg_handler);\n        }\n      } else if ((plot_id in window.PyViz.kernels) && (window.PyViz.kernels[plot_id])) {\n        var comm = window.PyViz.kernels[plot_id].connectToComm(comm_id);\n        comm.open();\n        if (msg_handler) {\n          comm.onMsg = msg_handler;\n        }\n      } else if (typeof google != 'undefined' && google.colab.kernel != null) {\n        var comm_promise = google.colab.kernel.comms.open(comm_id)\n        comm_promise.then((comm) => {\n          window.PyViz.comms[comm_id] = comm;\n          if (msg_handler) {\n            var messages = comm.messages[Symbol.asyncIterator]();\n            function processIteratorResult(result) {\n              var message = result.value;\n              var content = {data: message.data};\n              var metadata = message.metadata || {comm_id};\n              var msg = {content, metadata}\n              msg_handler(msg);\n              return messages.next().then(processIteratorResult);\n            }\n            return messages.next().then(processIteratorResult);\n          }\n        }) \n        var sendClosure = (data, metadata, buffers, disposeOnDone) => {\n          return comm_promise.then((comm) => {\n            comm.send(data, metadata, buffers, disposeOnDone);\n          });\n        };\n        var comm = {\n          send: sendClosure\n        };\n      }\n      window.PyViz.comms[comm_id] = comm;\n      return comm;\n    }\n    window.PyViz.comm_manager = new JupyterCommManager();\n    \n\n\nvar JS_MIME_TYPE = 'application/javascript';\nvar HTML_MIME_TYPE = 'text/html';\nvar EXEC_MIME_TYPE = 'application/vnd.holoviews_exec.v0+json';\nvar CLASS_NAME = 'output';\n\n/**\n * Render data to the DOM node\n */\nfunction render(props, node) {\n  var div = document.createElement(\"div\");\n  var script = document.createElement(\"script\");\n  node.appendChild(div);\n  node.appendChild(script);\n}\n\n/**\n * Handle when a new output is added\n */\nfunction handle_add_output(event, handle) {\n  var output_area = handle.output_area;\n  var output = handle.output;\n  if ((output.data == undefined) || (!output.data.hasOwnProperty(EXEC_MIME_TYPE))) {\n    return\n  }\n  var id = output.metadata[EXEC_MIME_TYPE][\"id\"];\n  var toinsert = output_area.element.find(\".\" + CLASS_NAME.split(' ')[0]);\n  if (id !== undefined) {\n    var nchildren = toinsert.length;\n    var html_node = toinsert[nchildren-1].children[0];\n    html_node.innerHTML = output.data[HTML_MIME_TYPE];\n    var scripts = [];\n    var nodelist = html_node.querySelectorAll(\"script\");\n    for (var i in nodelist) {\n      if (nodelist.hasOwnProperty(i)) {\n        scripts.push(nodelist[i])\n      }\n    }\n\n    scripts.forEach( function (oldScript) {\n      var newScript = document.createElement(\"script\");\n      var attrs = [];\n      var nodemap = oldScript.attributes;\n      for (var j in nodemap) {\n        if (nodemap.hasOwnProperty(j)) {\n          attrs.push(nodemap[j])\n        }\n      }\n      attrs.forEach(function(attr) { newScript.setAttribute(attr.name, attr.value) });\n      newScript.appendChild(document.createTextNode(oldScript.innerHTML));\n      oldScript.parentNode.replaceChild(newScript, oldScript);\n    });\n    if (JS_MIME_TYPE in output.data) {\n      toinsert[nchildren-1].children[1].textContent = output.data[JS_MIME_TYPE];\n    }\n    output_area._hv_plot_id = id;\n    if ((window.Bokeh !== undefined) && (id in Bokeh.index)) {\n      window.PyViz.plot_index[id] = Bokeh.index[id];\n    } else {\n      window.PyViz.plot_index[id] = null;\n    }\n  } else if (output.metadata[EXEC_MIME_TYPE][\"server_id\"] !== undefined) {\n    var bk_div = document.createElement(\"div\");\n    bk_div.innerHTML = output.data[HTML_MIME_TYPE];\n    var script_attrs = bk_div.children[0].attributes;\n    for (var i = 0; i < script_attrs.length; i++) {\n      toinsert[toinsert.length - 1].childNodes[1].setAttribute(script_attrs[i].name, script_attrs[i].value);\n    }\n    // store reference to server id on output_area\n    output_area._bokeh_server_id = output.metadata[EXEC_MIME_TYPE][\"server_id\"];\n  }\n}\n\n/**\n * Handle when an output is cleared or removed\n */\nfunction handle_clear_output(event, handle) {\n  var id = handle.cell.output_area._hv_plot_id;\n  var server_id = handle.cell.output_area._bokeh_server_id;\n  if (((id === undefined) || !(id in PyViz.plot_index)) && (server_id !== undefined)) { return; }\n  var comm = window.PyViz.comm_manager.get_client_comm(\"hv-extension-comm\", \"hv-extension-comm\", function () {});\n  if (server_id !== null) {\n    comm.send({event_type: 'server_delete', 'id': server_id});\n    return;\n  } else if (comm !== null) {\n    comm.send({event_type: 'delete', 'id': id});\n  }\n  delete PyViz.plot_index[id];\n  if ((window.Bokeh !== undefined) & (id in window.Bokeh.index)) {\n    var doc = window.Bokeh.index[id].model.document\n    doc.clear();\n    const i = window.Bokeh.documents.indexOf(doc);\n    if (i > -1) {\n      window.Bokeh.documents.splice(i, 1);\n    }\n  }\n}\n\n/**\n * Handle kernel restart event\n */\nfunction handle_kernel_cleanup(event, handle) {\n  delete PyViz.comms[\"hv-extension-comm\"];\n  window.PyViz.plot_index = {}\n}\n\n/**\n * Handle update_display_data messages\n */\nfunction handle_update_output(event, handle) {\n  handle_clear_output(event, {cell: {output_area: handle.output_area}})\n  handle_add_output(event, handle)\n}\n\nfunction register_renderer(events, OutputArea) {\n  function append_mime(data, metadata, element) {\n    // create a DOM node to render to\n    var toinsert = this.create_output_subarea(\n    metadata,\n    CLASS_NAME,\n    EXEC_MIME_TYPE\n    );\n    this.keyboard_manager.register_events(toinsert);\n    // Render to node\n    var props = {data: data, metadata: metadata[EXEC_MIME_TYPE]};\n    render(props, toinsert[0]);\n    element.append(toinsert);\n    return toinsert\n  }\n\n  events.on('output_added.OutputArea', handle_add_output);\n  events.on('output_updated.OutputArea', handle_update_output);\n  events.on('clear_output.CodeCell', handle_clear_output);\n  events.on('delete.Cell', handle_clear_output);\n  events.on('kernel_ready.Kernel', handle_kernel_cleanup);\n\n  OutputArea.prototype.register_mime_type(EXEC_MIME_TYPE, append_mime, {\n    safe: true,\n    index: 0\n  });\n}\n\nif (window.Jupyter !== undefined) {\n  try {\n    var events = require('base/js/events');\n    var OutputArea = require('notebook/js/outputarea').OutputArea;\n    if (OutputArea.prototype.mime_types().indexOf(EXEC_MIME_TYPE) == -1) {\n      register_renderer(events, OutputArea);\n    }\n  } catch(err) {\n  }\n}\n",
      "application/vnd.holoviews_load.v0+json": ""
     },
     "metadata": {},
     "output_type": "display_data"
    },
    {
     "data": {
      "text/html": [
       "<style>*[data-root-id],\n",
       "*[data-root-id] > * {\n",
       "  box-sizing: border-box;\n",
       "  font-family: var(--jp-ui-font-family);\n",
       "  font-size: var(--jp-ui-font-size1);\n",
       "  color: var(--vscode-editor-foreground, var(--jp-ui-font-color1));\n",
       "}\n",
       "\n",
       "/* Override VSCode background color */\n",
       ".cell-output-ipywidget-background:has(\n",
       "    > .cell-output-ipywidget-background > .lm-Widget > *[data-root-id]\n",
       "  ),\n",
       ".cell-output-ipywidget-background:has(> .lm-Widget > *[data-root-id]) {\n",
       "  background-color: transparent !important;\n",
       "}\n",
       "</style>"
      ]
     },
     "metadata": {},
     "output_type": "display_data"
    },
    {
     "data": {
      "application/vnd.holoviews_exec.v0+json": "",
      "text/html": [
       "<div id='a43909cd-fe28-4634-834a-e57c83d5179f'>\n",
       "  <div id=\"c685885a-caba-4d76-afa0-fcc335c3f8a5\" data-root-id=\"a43909cd-fe28-4634-834a-e57c83d5179f\" style=\"display: contents;\"></div>\n",
       "</div>\n",
       "<script type=\"application/javascript\">(function(root) {\n",
       "  var docs_json = {\"2e537868-6fbb-4419-be2c-503fedaae0e6\":{\"version\":\"3.4.1\",\"title\":\"Bokeh Application\",\"roots\":[{\"type\":\"object\",\"name\":\"panel.models.browser.BrowserInfo\",\"id\":\"a43909cd-fe28-4634-834a-e57c83d5179f\"},{\"type\":\"object\",\"name\":\"panel.models.comm_manager.CommManager\",\"id\":\"8c46811b-0c3f-4620-b5e9-3ae85b8b113e\",\"attributes\":{\"plot_id\":\"a43909cd-fe28-4634-834a-e57c83d5179f\",\"comm_id\":\"a36afbc72c2247a0bcb8617f73ac2171\",\"client_comm_id\":\"b745421b35454c4b9dfb90106832a877\"}}],\"defs\":[{\"type\":\"model\",\"name\":\"ReactiveHTML1\"},{\"type\":\"model\",\"name\":\"FlexBox1\",\"properties\":[{\"name\":\"align_content\",\"kind\":\"Any\",\"default\":\"flex-start\"},{\"name\":\"align_items\",\"kind\":\"Any\",\"default\":\"flex-start\"},{\"name\":\"flex_direction\",\"kind\":\"Any\",\"default\":\"row\"},{\"name\":\"flex_wrap\",\"kind\":\"Any\",\"default\":\"wrap\"},{\"name\":\"gap\",\"kind\":\"Any\",\"default\":\"\"},{\"name\":\"justify_content\",\"kind\":\"Any\",\"default\":\"flex-start\"}]},{\"type\":\"model\",\"name\":\"FloatPanel1\",\"properties\":[{\"name\":\"config\",\"kind\":\"Any\",\"default\":{\"type\":\"map\"}},{\"name\":\"contained\",\"kind\":\"Any\",\"default\":true},{\"name\":\"position\",\"kind\":\"Any\",\"default\":\"right-top\"},{\"name\":\"offsetx\",\"kind\":\"Any\",\"default\":null},{\"name\":\"offsety\",\"kind\":\"Any\",\"default\":null},{\"name\":\"theme\",\"kind\":\"Any\",\"default\":\"primary\"},{\"name\":\"status\",\"kind\":\"Any\",\"default\":\"normalized\"}]},{\"type\":\"model\",\"name\":\"GridStack1\",\"properties\":[{\"name\":\"mode\",\"kind\":\"Any\",\"default\":\"warn\"},{\"name\":\"ncols\",\"kind\":\"Any\",\"default\":null},{\"name\":\"nrows\",\"kind\":\"Any\",\"default\":null},{\"name\":\"allow_resize\",\"kind\":\"Any\",\"default\":true},{\"name\":\"allow_drag\",\"kind\":\"Any\",\"default\":true},{\"name\":\"state\",\"kind\":\"Any\",\"default\":[]}]},{\"type\":\"model\",\"name\":\"drag1\",\"properties\":[{\"name\":\"slider_width\",\"kind\":\"Any\",\"default\":5},{\"name\":\"slider_color\",\"kind\":\"Any\",\"default\":\"black\"},{\"name\":\"value\",\"kind\":\"Any\",\"default\":50}]},{\"type\":\"model\",\"name\":\"click1\",\"properties\":[{\"name\":\"terminal_output\",\"kind\":\"Any\",\"default\":\"\"},{\"name\":\"debug_name\",\"kind\":\"Any\",\"default\":\"\"},{\"name\":\"clears\",\"kind\":\"Any\",\"default\":0}]},{\"type\":\"model\",\"name\":\"FastWrapper1\",\"properties\":[{\"name\":\"object\",\"kind\":\"Any\",\"default\":null},{\"name\":\"style\",\"kind\":\"Any\",\"default\":null}]},{\"type\":\"model\",\"name\":\"NotificationAreaBase1\",\"properties\":[{\"name\":\"js_events\",\"kind\":\"Any\",\"default\":{\"type\":\"map\"}},{\"name\":\"position\",\"kind\":\"Any\",\"default\":\"bottom-right\"},{\"name\":\"_clear\",\"kind\":\"Any\",\"default\":0}]},{\"type\":\"model\",\"name\":\"NotificationArea1\",\"properties\":[{\"name\":\"js_events\",\"kind\":\"Any\",\"default\":{\"type\":\"map\"}},{\"name\":\"notifications\",\"kind\":\"Any\",\"default\":[]},{\"name\":\"position\",\"kind\":\"Any\",\"default\":\"bottom-right\"},{\"name\":\"_clear\",\"kind\":\"Any\",\"default\":0},{\"name\":\"types\",\"kind\":\"Any\",\"default\":[{\"type\":\"map\",\"entries\":[[\"type\",\"warning\"],[\"background\",\"#ffc107\"],[\"icon\",{\"type\":\"map\",\"entries\":[[\"className\",\"fas fa-exclamation-triangle\"],[\"tagName\",\"i\"],[\"color\",\"white\"]]}]]},{\"type\":\"map\",\"entries\":[[\"type\",\"info\"],[\"background\",\"#007bff\"],[\"icon\",{\"type\":\"map\",\"entries\":[[\"className\",\"fas fa-info-circle\"],[\"tagName\",\"i\"],[\"color\",\"white\"]]}]]}]}]},{\"type\":\"model\",\"name\":\"Notification\",\"properties\":[{\"name\":\"background\",\"kind\":\"Any\",\"default\":null},{\"name\":\"duration\",\"kind\":\"Any\",\"default\":3000},{\"name\":\"icon\",\"kind\":\"Any\",\"default\":null},{\"name\":\"message\",\"kind\":\"Any\",\"default\":\"\"},{\"name\":\"notification_type\",\"kind\":\"Any\",\"default\":null},{\"name\":\"_destroyed\",\"kind\":\"Any\",\"default\":false}]},{\"type\":\"model\",\"name\":\"TemplateActions1\",\"properties\":[{\"name\":\"open_modal\",\"kind\":\"Any\",\"default\":0},{\"name\":\"close_modal\",\"kind\":\"Any\",\"default\":0}]},{\"type\":\"model\",\"name\":\"BootstrapTemplateActions1\",\"properties\":[{\"name\":\"open_modal\",\"kind\":\"Any\",\"default\":0},{\"name\":\"close_modal\",\"kind\":\"Any\",\"default\":0}]},{\"type\":\"model\",\"name\":\"TemplateEditor1\",\"properties\":[{\"name\":\"layout\",\"kind\":\"Any\",\"default\":[]}]},{\"type\":\"model\",\"name\":\"MaterialTemplateActions1\",\"properties\":[{\"name\":\"open_modal\",\"kind\":\"Any\",\"default\":0},{\"name\":\"close_modal\",\"kind\":\"Any\",\"default\":0}]},{\"type\":\"model\",\"name\":\"copy_to_clipboard1\",\"properties\":[{\"name\":\"fill\",\"kind\":\"Any\",\"default\":\"none\"},{\"name\":\"value\",\"kind\":\"Any\",\"default\":null}]}]}};\n",
       "  var render_items = [{\"docid\":\"2e537868-6fbb-4419-be2c-503fedaae0e6\",\"roots\":{\"a43909cd-fe28-4634-834a-e57c83d5179f\":\"c685885a-caba-4d76-afa0-fcc335c3f8a5\"},\"root_ids\":[\"a43909cd-fe28-4634-834a-e57c83d5179f\"]}];\n",
       "  var docs = Object.values(docs_json)\n",
       "  if (!docs) {\n",
       "    return\n",
       "  }\n",
       "  const py_version = docs[0].version.replace('rc', '-rc.').replace('.dev', '-dev.')\n",
       "  async function embed_document(root) {\n",
       "    var Bokeh = get_bokeh(root)\n",
       "    await Bokeh.embed.embed_items_notebook(docs_json, render_items);\n",
       "    for (const render_item of render_items) {\n",
       "      for (const root_id of render_item.root_ids) {\n",
       "\tconst id_el = document.getElementById(root_id)\n",
       "\tif (id_el.children.length && id_el.children[0].hasAttribute('data-root-id')) {\n",
       "\t  const root_el = id_el.children[0]\n",
       "\t  root_el.id = root_el.id + '-rendered'\n",
       "\t  for (const child of root_el.children) {\n",
       "            // Ensure JupyterLab does not capture keyboard shortcuts\n",
       "            // see: https://jupyterlab.readthedocs.io/en/4.1.x/extension/notebook.html#keyboard-interaction-model\n",
       "\t    child.setAttribute('data-lm-suppress-shortcuts', 'true')\n",
       "\t  }\n",
       "\t}\n",
       "      }\n",
       "    }\n",
       "  }\n",
       "  function get_bokeh(root) {\n",
       "    if (root.Bokeh === undefined) {\n",
       "      return null\n",
       "    } else if (root.Bokeh.version !== py_version) {\n",
       "      if (root.Bokeh.versions === undefined || !root.Bokeh.versions.has(py_version)) {\n",
       "\treturn null\n",
       "      }\n",
       "      return root.Bokeh.versions.get(py_version);\n",
       "    } else if (root.Bokeh.version === py_version) {\n",
       "      return root.Bokeh\n",
       "    }\n",
       "    return null\n",
       "  }\n",
       "  function is_loaded(root) {\n",
       "    var Bokeh = get_bokeh(root)\n",
       "    return (Bokeh != null && Bokeh.Panel !== undefined && ( root.Tabulator !== undefined) && ( root.Tabulator !== undefined))\n",
       "  }\n",
       "  if (is_loaded(root)) {\n",
       "    embed_document(root);\n",
       "  } else {\n",
       "    var attempts = 0;\n",
       "    var timer = setInterval(function(root) {\n",
       "      if (is_loaded(root)) {\n",
       "        clearInterval(timer);\n",
       "        embed_document(root);\n",
       "      } else if (document.readyState == \"complete\") {\n",
       "        attempts++;\n",
       "        if (attempts > 200) {\n",
       "          clearInterval(timer);\n",
       "\t  var Bokeh = get_bokeh(root)\n",
       "\t  if (Bokeh == null || Bokeh.Panel == null) {\n",
       "            console.warn(\"Panel: ERROR: Unable to run Panel code because Bokeh or Panel library is missing\");\n",
       "\t  } else {\n",
       "\t    console.warn(\"Panel: WARNING: Attempting to render but not all required libraries could be resolved.\")\n",
       "\t    embed_document(root)\n",
       "\t  }\n",
       "        }\n",
       "      }\n",
       "    }, 25, root)\n",
       "  }\n",
       "})(window);</script>"
      ]
     },
     "metadata": {
      "application/vnd.holoviews_exec.v0+json": {
       "id": "a43909cd-fe28-4634-834a-e57c83d5179f"
      }
     },
     "output_type": "display_data"
    },
    {
     "data": {
      "text/plain": [
       "polars.config.Config"
      ]
     },
     "execution_count": 1,
     "metadata": {},
     "output_type": "execute_result"
    }
   ],
   "source": [
    "from ethpandaops_python.preprocessor import Preprocessor\n",
    "from eip4844_blob_data.panel_charts import create_slot_inclusion_line_chart, create_priority_fee_chart, get_slot_inclusion_table\n",
    "from eip4844_blob_data.polars_preprocess import create_slot_inclusion_df, create_slot_gas_bidding_df\n",
    "from holoviews import opts\n",
    "import nest_asyncio\n",
    "import polars as pl\n",
    "import panel as pn\n",
    "import time\n",
    "\n",
    "\n",
    "nest_asyncio.apply()\n",
    "pn.extension(\"tabulator\", template=\"material\", sizing_mode=\"stretch_width\")\n",
    "pl.Config.set_fmt_str_lengths(200)\n",
    "pl.Config.set_fmt_float(\"full\")"
   ]
  },
  {
   "cell_type": "markdown",
   "metadata": {},
   "source": [
    "### Data Query"
   ]
  },
  {
   "cell_type": "code",
   "execution_count": 2,
   "metadata": {},
   "outputs": [],
   "source": [
    "# labeled blobs - https://dune.com/queries/3521610\n",
    "sequencers_l2: dict[list[str], list[str]] = {\n",
    "    \"sequencer_addresses\": [\n",
    "        # should be the \"from\" addresses, this is what hilldobby SQL query does.\n",
    "        # should also be proper checksum, not lowercase\n",
    "        \"0xC1b634853Cb333D3aD8663715b08f41A3Aec47cc\",\n",
    "        \"0x5050F69a9786F081509234F1a7F4684b5E5b76C9\",\n",
    "        \"0x6887246668a3b87F54DeB3b94Ba47a6f63F32985\",\n",
    "        \"0x000000633b68f5D8D3a86593ebB815b4663BCBe0\",\n",
    "        \"0x415c8893D514F9BC5211d36eEDA4183226b84AA7\",\n",
    "        \"0xa9268341831eFa4937537bc3e9EB36DbecE83C7e\",\n",
    "        \"0xcF2898225ED05Be911D3709d9417e86E0b4Cfc8f\",\n",
    "        \"0x0D3250c3D5FAcb74Ac15834096397a3Ef790ec99\",\n",
    "        \"0xC70ae19B5FeAA5c19f576e621d2bad9771864fe2\",\n",
    "        \"0xC94C243f8fb37223F3EB2f7961F7072602A51B8B\"\n",
    "    ],\n",
    "    \"sequencer_names\": [\n",
    "        \"arbitrum\",\n",
    "        \"base\",\n",
    "        \"optimism\",\n",
    "        \"taiko\",\n",
    "        \"blast\",\n",
    "        \"linea\",\n",
    "        \"scroll\",\n",
    "        \"zksync\",\n",
    "        \"paradex\",\n",
    "        \"metal\"\n",
    "    ],\n",
    "}\n",
    "\n",
    "num_days: int = 7"
   ]
  },
  {
   "cell_type": "code",
   "execution_count": 3,
   "metadata": {},
   "outputs": [],
   "source": [
    "def get_data() -> dict[str, pl.DataFrame]:\n",
    "    return Preprocessor(\n",
    "        blob_producer=sequencers_l2,\n",
    "        period=num_days,\n",
    "        network=\"mainnet\",  # mainnet\n",
    "    ).cached_data"
   ]
  },
  {
   "cell_type": "code",
   "execution_count": 4,
   "metadata": {},
   "outputs": [],
   "source": [
    "def filter_data_seq(\n",
    "    sequencers: list[str], slot_inclusion_joined_df: pl.DataFrame, cached_data: dict[str, pl.DataFrame]\n",
    ") -> dict[str: pl.DataFrame]:\n",
    "    \"\"\"\n",
    "    This function filters a dataframe and returns updated chart data, based on the input of the dashboard user.\n",
    "    \"\"\"\n",
    "\n",
    "    # slot inclusion\n",
    "    slot_inclusion_df = (\n",
    "        slot_inclusion_joined_df.filter(\n",
    "            pl.col(\"sequencer_names\").is_in(sequencers))\n",
    "        .filter(pl.col('meta_network_name') == 'mainnet')\n",
    "        .unique()\n",
    "        .sort(by=\"slot\")\n",
    "    )\n",
    "\n",
    "    # gas bidding scatterplot median\n",
    "    slot_gas_groupby_df = (\n",
    "        slot_inclusion_df.group_by(\"slot_inclusion_rate\", \"sequencer_names\")\n",
    "        .agg(\n",
    "            pl.col(\"priority_fee_bid_percent_premium\").median(),\n",
    "            pl.col(\"base_fee_per_gas\").mean(),\n",
    "        )\n",
    "        .sort(by=\"slot_inclusion_rate\")\n",
    "        .drop_nulls()\n",
    "    )\n",
    "\n",
    "    return {\n",
    "        # time series\n",
    "        \"slot_inclusion_df\": slot_inclusion_df,\n",
    "        \"slot_gas_groupby_df\": slot_gas_groupby_df,\n",
    "    }"
   ]
  },
  {
   "cell_type": "code",
   "execution_count": 5,
   "metadata": {},
   "outputs": [],
   "source": [
    "# start dashboard\n",
    "def start_interactive_panel(filtered_data_dict, sequencer_names_list):\n",
    "    multi_select = pn.widgets.MultiSelect(\n",
    "        name=\"Sequencers\",\n",
    "        size=10,\n",
    "        options=sequencer_names_list,\n",
    "        value=sequencer_names_list,\n",
    "    )\n",
    "\n",
    "    # initial chart and table data\n",
    "    slot_inclusion_line_chart = create_slot_inclusion_line_chart(\n",
    "        filtered_data_dict[\"slot_inclusion_df\"], sequencer_names_list\n",
    "    )\n",
    "\n",
    "    priority_fee_chart = create_priority_fee_chart(\n",
    "        # add in filter to remove outliers and make chart look better\n",
    "        filtered_data_dict[\"slot_inclusion_df\"].filter(\n",
    "            pl.col('slot_inclusion_rate') < 50),\n",
    "        filtered_data_dict[\"slot_gas_groupby_df\"].filter(\n",
    "            pl.col('slot_inclusion_rate') < 50),\n",
    "        sequencer_names_list,\n",
    "    )\n",
    "\n",
    "    avg_slot_inclusion_scatterplot = (filtered_data_dict['slot_inclusion_df'].group_by(\n",
    "        'sequencer_names').agg(\n",
    "        pl.col('fill_percentage').mean().alias('avg_fill_percentage'),\n",
    "        pl.col('submission_count').mean().alias(\n",
    "            'avg_submission_count'),\n",
    "        pl.col('slot_inclusion_rate').mean().round(\n",
    "            3).alias('avg_slot_inclusion_rate'),\n",
    "        pl.col('blob_hashes_length').mean().alias(\n",
    "            'avg_blob_hashes_length'),\n",
    "        pl.len().alias('blob_tx_count')\n",
    "    ).sort(by='avg_slot_inclusion_rate')\n",
    "        .plot.scatter(x='avg_slot_inclusion_rate', y='avg_blob_hashes_length', by='sequencer_names', width=800,\n",
    "                      height=375, xlabel='Avg Slot Inclusion Rate', ylabel='Blob Tx Size', title='Avg Slot Inclusion Rate')\n",
    "    )\n",
    "\n",
    "    sequencer_macro_blob_table: pl.DataFrame = (\n",
    "        filtered_data_dict['slot_inclusion_df'].group_by(\n",
    "            'sequencer_names').agg(\n",
    "            pl.col('fill_percentage').mean().alias('avg_fill_percentage'),\n",
    "            pl.col('submission_count').mean().alias(\n",
    "                'avg_submission_count'),\n",
    "            pl.col('slot_inclusion_rate').mean().round(\n",
    "                3).alias('avg_slot_inclusion_rate'),\n",
    "            pl.col('blob_hashes_length').mean().alias(\n",
    "                'avg_blob_hashes_length'),\n",
    "            pl.len().alias('blob_tx_count')\n",
    "        ).rename({'sequencer_names': 'rollup', 'avg_blob_hashes_length': 'avg_blobs_in_tx'}))\n",
    "\n",
    "    slot_inclusion_table_tabulator = get_slot_inclusion_table(\n",
    "        filtered_data_dict[\"slot_inclusion_df\"], sequencer_names_list)\n",
    "\n",
    "    entire_panel = pn.Column(\n",
    "        pn.Row(\n",
    "            pn.pane.Markdown(\n",
    "                \"\"\"\n",
    "            # EIP-4844 Slot Inclusion Dashboard\n",
    "\n",
    "            ## About\n",
    "            This dashboard shows detailed analytics for blob inclusion rates as well as the efficiency of using EIP-1559 priority fees\n",
    "            as a bidding mechanism for faster slot inclusion. This dashboard is made using [Xatu Data](https://github.com/ethpandaops/xatu-data?tab=readme-ov-file) for EL mempool and Beacon chain data and [Hypersync](https://github.com/enviodev/hypersync-client-python) \n",
    "            for transaction gas data for the [EIP-4844 data challenge](https://esp.ethereum.foundation/data-challenge-4844).\n",
    "            \"\"\"\n",
    "            ),\n",
    "            multi_select,\n",
    "            styles=dict(background=\"WhiteSmoke\"),\n",
    "        ),\n",
    "        pn.pane.Markdown(\n",
    "            \"\"\"\n",
    "            ## Historical Slot Inclusion\n",
    "            When a transaction is resubmitted with updated gas parameters, the transaction hash changes. For example take this blob reference hash - 0x01c738cf37c911334c771f2295c060e5bd7d084f347e4334863336724934c59a. \n",
    "            On [etherscan](https://etherscan.io/tx/0x763d823c0f933c4d2eb84406b37aa2649753f2f563fa3ee6d27251c6a52a8d69) we can see that the transaction was replaced by the user. We can see on Ethernow that the transaction contains \n",
    "            the same blob reference hash in both the [original tx](https://www.ethernow.xyz/tx/0x763d823c0f933c4d2eb84406b37aa2649753f2f563fa3ee6d27251c6a52a8d69?batchIndex=1) and the [resubmitted tx](https://www.ethernow.xyz/tx/0x5a4094662bd05ff3639a8979927ab527e007a6925387951a9c1b3d2958b13a86?batchIndex=1).\n",
    "            \n",
    "            We can measure the total time that a blob hash sat in the mempool by subtracting the original tx was first seen from the slot time, when it eventually is finalized on the beacon chain. \n",
    "            In this particular example, the total time that the blob sat in the mempool was not from 18:56:27 to 18:57:11 (4 slots), but really 18:54:29 to 18:57:11 (14 slots)\n",
    "            \"\"\"\n",
    "        ),\n",
    "        pn.Row(\n",
    "            slot_inclusion_line_chart.opts(axiswise=True),\n",
    "            priority_fee_chart.opts(legend_position=\"left\", show_legend=True),\n",
    "            styles=dict(background=\"WhiteSmoke\"),\n",
    "\n",
    "        ),\n",
    "        pn.Row(\n",
    "            pn.pane.Markdown(\n",
    "                \"\"\"\n",
    "            ## Slot Inclusion Rates\n",
    "            **Slot Inclusion Rate** - The slot inclusion rate indicates the number of slots required for a blob to be included in the beacon chain, \n",
    "            with a higher rate signifying a longer inclusion time. The accompanying time-series chart tracks this metric from initial mempool \n",
    "            appearance to final beacon block inclusion. A 50 blob slot inclusion average is taken to smooth out the performance. \n",
    "            The target slot inclusion rate is 2. \n",
    "                \"\"\"\n",
    "            ),\n",
    "            pn.pane.Markdown(\n",
    "                \"\"\"\n",
    "            ## EIP-1559 Priority Fee Premium Correlation with Slot Rates\n",
    "            The scatterplot illustrates the relationship between the EIP-1559 priority fee bid premiums and slot inclusion rates. The scatterplot points\n",
    "            are individual blob bid datapoints and the line is a median bid premium. A higher priority fee bid premium tends to coincide \n",
    "            with longer slot inclusion times. This unexpected twist underscores the value of efficient slot utilization. The data indicates a trend \n",
    "            where higher bid premiums are associated with longer slot inclusion times, suggesting that as the time for a blob to be included \n",
    "            in the beacon chain increases, so does the priority fee bid premium. This behavior comes from the fact that if a blob sits in the \n",
    "            mempool for too long, then it is resubmitted with a higher priority fee. \n",
    "            \"\"\"\n",
    "            ),\n",
    "            styles=dict(background=\"WhiteSmoke\")\n",
    "        ),\n",
    "        pn.Row(\n",
    "            pn.pane.Markdown(\n",
    "                \"\"\"\n",
    "                ## Blob Data Per Sequencer:\n",
    "                Features the following values (WIP 6/8/24)\n",
    "                - scatter plot shows basic pattern for average slot inclusion time for the average number of blob hashes in a transaction.\n",
    "                \"\"\"\n",
    "            ),\n",
    "            styles=dict(background=\"WhiteSmoke\"),\n",
    "        ),\n",
    "        pn.Row(\n",
    "            pn.widgets.Tabulator(\n",
    "                sequencer_macro_blob_table.to_pandas(), layout='fit_data'\n",
    "            ),\n",
    "            avg_slot_inclusion_scatterplot,\n",
    "            styles=dict(background=\"WhiteSmoke\")\n",
    "        ),\n",
    "        pn.Column(\n",
    "            pn.pane.Markdown(\n",
    "                \"\"\"\n",
    "                # Slot Inclusion Data Table\n",
    "                The table shows raw data for blobs that were included in the beacon chain.\n",
    "                \"\"\"\n",
    "            ),\n",
    "            slot_inclusion_table_tabulator,\n",
    "            styles=dict(background=\"WhiteSmoke\")\n",
    "        )\n",
    "    )\n",
    "\n",
    "    def update_bar_chart(event):\n",
    "        \"\"\"\n",
    "        Use this to update charts based on sequencer name user selection\n",
    "        \"\"\"\n",
    "        entire_panel[2][0].object = create_slot_inclusion_line_chart(\n",
    "            filtered_data_dict[\"slot_inclusion_df\"],\n",
    "            sequencers=multi_select.value,\n",
    "        )\n",
    "\n",
    "        entire_panel[2][1].object = create_priority_fee_chart(\n",
    "            filtered_data_dict[\"slot_inclusion_df\"],\n",
    "            filtered_data_dict[\"slot_gas_groupby_df\"],\n",
    "            sequencers=multi_select.value,\n",
    "        )\n",
    "\n",
    "    multi_select.param.watch(update_bar_chart, \"value\")\n",
    "\n",
    "    return entire_panel"
   ]
  },
  {
   "cell_type": "markdown",
   "metadata": {},
   "source": [
    "### What charts to add in?"
   ]
  },
  {
   "cell_type": "code",
   "execution_count": 6,
   "metadata": {},
   "outputs": [
    {
     "name": "stdout",
     "output_type": "stream",
     "text": [
      "2024-06-09 is within a day of 2024-06-09\n"
     ]
    }
   ],
   "source": [
    "# # retrieve data from database and store in memory\n",
    "cached_data = get_data()\n",
    "\n",
    "# prepare dataframes\n",
    "slot_inclusion_df = create_slot_inclusion_df(\n",
    "    cached_data).join(\n",
    "    pl.from_dict(sequencers_l2),\n",
    "    left_on=\"from\",\n",
    "    right_on=\"sequencer_addresses\",\n",
    "    how=\"left\",\n",
    "    coalesce=True\n",
    ").select('slot', 'slot_time', 'hash', 'fill_percentage', 'submission_count', 'slot_inclusion_rate', 'sequencer_names', 'meta_network_name')\n",
    "\n",
    "slot_gas_bidding_df = create_slot_gas_bidding_df(\n",
    "    cached_data).select('block_number', 'hash', 'base_tx_fee_eth', 'priority_tx_fee_eth', \"base_fee_per_gas\",\n",
    "                        \"priority_fee_gas\", 'total_tx_fee_eth', 'priority_fee_bid_percent_premium')\n",
    "\n",
    "slot_inclusion_joined_df = slot_inclusion_df.join(\n",
    "    slot_gas_bidding_df, on=\"hash\", how=\"left\", coalesce=True\n",
    ")"
   ]
  },
  {
   "cell_type": "code",
   "execution_count": 7,
   "metadata": {},
   "outputs": [
    {
     "data": {
      "text/html": [
       "<div><style>\n",
       ".dataframe > thead > tr,\n",
       ".dataframe > tbody > tr {\n",
       "  text-align: right;\n",
       "  white-space: pre-wrap;\n",
       "}\n",
       "</style>\n",
       "<small>shape: (5, 15)</small><table border=\"1\" class=\"dataframe\"><thead><tr><th>slot</th><th>slot_time</th><th>hash</th><th>fill_percentage</th><th>submission_count</th><th>slot_inclusion_rate</th><th>sequencer_names</th><th>meta_network_name</th><th>block_number</th><th>base_tx_fee_eth</th><th>priority_tx_fee_eth</th><th>base_fee_per_gas</th><th>priority_fee_gas</th><th>total_tx_fee_eth</th><th>priority_fee_bid_percent_premium</th></tr><tr><td>u32</td><td>datetime[ms]</td><td>str</td><td>f64</td><td>u32</td><td>f64</td><td>str</td><td>str</td><td>u64</td><td>f64</td><td>f64</td><td>f64</td><td>f64</td><td>f64</td><td>f64</td></tr></thead><tbody><tr><td>9210349</td><td>2024-06-02 17:10:11</td><td>&quot;0x269efb0423abeba6af52c484ea3ec264f81cb82b0ead3233a9abb81914207734&quot;</td><td>98.82</td><td>1</td><td>3</td><td>&quot;base&quot;</td><td>&quot;mainnet&quot;</td><td>20005537</td><td>0.00028838998608</td><td>0.00016800000000000002</td><td>13.73285648</td><td>8</td><td>0.00045638998608</td><td>0.368</td></tr><tr><td>9210349</td><td>2024-06-02 17:10:11</td><td>&quot;0x269efb0423abeba6af52c484ea3ec264f81cb82b0ead3233a9abb81914207734&quot;</td><td>98.82</td><td>1</td><td>3</td><td>&quot;base&quot;</td><td>&quot;mainnet&quot;</td><td>20005537</td><td>0.00028838998608</td><td>0.00016800000000000002</td><td>13.73285648</td><td>8</td><td>0.00045638998608</td><td>0.368</td></tr><tr><td>9210349</td><td>2024-06-02 17:10:11</td><td>&quot;0x269efb0423abeba6af52c484ea3ec264f81cb82b0ead3233a9abb81914207734&quot;</td><td>98.82</td><td>1</td><td>3</td><td>&quot;base&quot;</td><td>&quot;mainnet&quot;</td><td>20005537</td><td>0.00028838998608</td><td>0.00016800000000000002</td><td>13.73285648</td><td>8</td><td>0.00045638998608</td><td>0.368</td></tr><tr><td>9210349</td><td>2024-06-02 17:10:11</td><td>&quot;0x269efb0423abeba6af52c484ea3ec264f81cb82b0ead3233a9abb81914207734&quot;</td><td>98.82</td><td>1</td><td>3</td><td>&quot;base&quot;</td><td>&quot;mainnet&quot;</td><td>20005537</td><td>0.00028838998608</td><td>0.00016800000000000002</td><td>13.73285648</td><td>8</td><td>0.00045638998608</td><td>0.368</td></tr><tr><td>9210349</td><td>2024-06-02 17:10:11</td><td>&quot;0x269efb0423abeba6af52c484ea3ec264f81cb82b0ead3233a9abb81914207734&quot;</td><td>98.82</td><td>1</td><td>3</td><td>&quot;base&quot;</td><td>&quot;mainnet&quot;</td><td>20005537</td><td>0.00028838998608</td><td>0.00016800000000000002</td><td>13.73285648</td><td>8</td><td>0.00045638998608</td><td>0.368</td></tr></tbody></table></div>"
      ],
      "text/plain": [
       "shape: (5, 15)\n",
       "┌─────────┬────────────┬───────────┬───────────┬───┬───────────┬───────────┬───────────┬───────────┐\n",
       "│ slot    ┆ slot_time  ┆ hash      ┆ fill_perc ┆ … ┆ base_fee_ ┆ priority_ ┆ total_tx_ ┆ priority_ │\n",
       "│ ---     ┆ ---        ┆ ---       ┆ entage    ┆   ┆ per_gas   ┆ fee_gas   ┆ fee_eth   ┆ fee_bid_p │\n",
       "│ u32     ┆ datetime[m ┆ str       ┆ ---       ┆   ┆ ---       ┆ ---       ┆ ---       ┆ ercent_pr │\n",
       "│         ┆ s]         ┆           ┆ f64       ┆   ┆ f64       ┆ f64       ┆ f64       ┆ emium     │\n",
       "│         ┆            ┆           ┆           ┆   ┆           ┆           ┆           ┆ ---       │\n",
       "│         ┆            ┆           ┆           ┆   ┆           ┆           ┆           ┆ f64       │\n",
       "╞═════════╪════════════╪═══════════╪═══════════╪═══╪═══════════╪═══════════╪═══════════╪═══════════╡\n",
       "│ 9210349 ┆ 2024-06-02 ┆ 0x269efb0 ┆ 98.82     ┆ … ┆ 13.732856 ┆ 8         ┆ 0.0004563 ┆ 0.368     │\n",
       "│         ┆ 17:10:11   ┆ 423abeba6 ┆           ┆   ┆ 48        ┆           ┆ 8998608   ┆           │\n",
       "│         ┆            ┆ af52c484e ┆           ┆   ┆           ┆           ┆           ┆           │\n",
       "│         ┆            ┆ a3ec264f8 ┆           ┆   ┆           ┆           ┆           ┆           │\n",
       "│         ┆            ┆ 1cb82b0ea ┆           ┆   ┆           ┆           ┆           ┆           │\n",
       "│         ┆            ┆ d3233a9ab ┆           ┆   ┆           ┆           ┆           ┆           │\n",
       "│         ┆            ┆ b81914207 ┆           ┆   ┆           ┆           ┆           ┆           │\n",
       "│         ┆            ┆ 734       ┆           ┆   ┆           ┆           ┆           ┆           │\n",
       "│ 9210349 ┆ 2024-06-02 ┆ 0x269efb0 ┆ 98.82     ┆ … ┆ 13.732856 ┆ 8         ┆ 0.0004563 ┆ 0.368     │\n",
       "│         ┆ 17:10:11   ┆ 423abeba6 ┆           ┆   ┆ 48        ┆           ┆ 8998608   ┆           │\n",
       "│         ┆            ┆ af52c484e ┆           ┆   ┆           ┆           ┆           ┆           │\n",
       "│         ┆            ┆ a3ec264f8 ┆           ┆   ┆           ┆           ┆           ┆           │\n",
       "│         ┆            ┆ 1cb82b0ea ┆           ┆   ┆           ┆           ┆           ┆           │\n",
       "│         ┆            ┆ d3233a9ab ┆           ┆   ┆           ┆           ┆           ┆           │\n",
       "│         ┆            ┆ b81914207 ┆           ┆   ┆           ┆           ┆           ┆           │\n",
       "│         ┆            ┆ 734       ┆           ┆   ┆           ┆           ┆           ┆           │\n",
       "│ 9210349 ┆ 2024-06-02 ┆ 0x269efb0 ┆ 98.82     ┆ … ┆ 13.732856 ┆ 8         ┆ 0.0004563 ┆ 0.368     │\n",
       "│         ┆ 17:10:11   ┆ 423abeba6 ┆           ┆   ┆ 48        ┆           ┆ 8998608   ┆           │\n",
       "│         ┆            ┆ af52c484e ┆           ┆   ┆           ┆           ┆           ┆           │\n",
       "│         ┆            ┆ a3ec264f8 ┆           ┆   ┆           ┆           ┆           ┆           │\n",
       "│         ┆            ┆ 1cb82b0ea ┆           ┆   ┆           ┆           ┆           ┆           │\n",
       "│         ┆            ┆ d3233a9ab ┆           ┆   ┆           ┆           ┆           ┆           │\n",
       "│         ┆            ┆ b81914207 ┆           ┆   ┆           ┆           ┆           ┆           │\n",
       "│         ┆            ┆ 734       ┆           ┆   ┆           ┆           ┆           ┆           │\n",
       "│ 9210349 ┆ 2024-06-02 ┆ 0x269efb0 ┆ 98.82     ┆ … ┆ 13.732856 ┆ 8         ┆ 0.0004563 ┆ 0.368     │\n",
       "│         ┆ 17:10:11   ┆ 423abeba6 ┆           ┆   ┆ 48        ┆           ┆ 8998608   ┆           │\n",
       "│         ┆            ┆ af52c484e ┆           ┆   ┆           ┆           ┆           ┆           │\n",
       "│         ┆            ┆ a3ec264f8 ┆           ┆   ┆           ┆           ┆           ┆           │\n",
       "│         ┆            ┆ 1cb82b0ea ┆           ┆   ┆           ┆           ┆           ┆           │\n",
       "│         ┆            ┆ d3233a9ab ┆           ┆   ┆           ┆           ┆           ┆           │\n",
       "│         ┆            ┆ b81914207 ┆           ┆   ┆           ┆           ┆           ┆           │\n",
       "│         ┆            ┆ 734       ┆           ┆   ┆           ┆           ┆           ┆           │\n",
       "│ 9210349 ┆ 2024-06-02 ┆ 0x269efb0 ┆ 98.82     ┆ … ┆ 13.732856 ┆ 8         ┆ 0.0004563 ┆ 0.368     │\n",
       "│         ┆ 17:10:11   ┆ 423abeba6 ┆           ┆   ┆ 48        ┆           ┆ 8998608   ┆           │\n",
       "│         ┆            ┆ af52c484e ┆           ┆   ┆           ┆           ┆           ┆           │\n",
       "│         ┆            ┆ a3ec264f8 ┆           ┆   ┆           ┆           ┆           ┆           │\n",
       "│         ┆            ┆ 1cb82b0ea ┆           ┆   ┆           ┆           ┆           ┆           │\n",
       "│         ┆            ┆ d3233a9ab ┆           ┆   ┆           ┆           ┆           ┆           │\n",
       "│         ┆            ┆ b81914207 ┆           ┆   ┆           ┆           ┆           ┆           │\n",
       "│         ┆            ┆ 734       ┆           ┆   ┆           ┆           ┆           ┆           │\n",
       "└─────────┴────────────┴───────────┴───────────┴───┴───────────┴───────────┴───────────┴───────────┘"
      ]
     },
     "execution_count": 7,
     "metadata": {},
     "output_type": "execute_result"
    }
   ],
   "source": [
    "slot_inclusion_joined_df.head(5)"
   ]
  },
  {
   "cell_type": "code",
   "execution_count": 8,
   "metadata": {},
   "outputs": [
    {
     "data": {
      "text/html": [
       "<div><style>\n",
       ".dataframe > thead > tr,\n",
       ".dataframe > tbody > tr {\n",
       "  text-align: right;\n",
       "  white-space: pre-wrap;\n",
       "}\n",
       "</style>\n",
       "<small>shape: (10, 5)</small><table border=\"1\" class=\"dataframe\"><thead><tr><th>sequencer_names</th><th>total_base_fees_eth</th><th>total_priority_fees_eth</th><th>total_eth_fees</th><th>avg_priority_fee_bid</th></tr><tr><td>str</td><td>f64</td><td>f64</td><td>f64</td><td>f64</td></tr></thead><tbody><tr><td>&quot;arbitrum&quot;</td><td>34.051688650892615</td><td>2.70854467500004</td><td>36.76023332589261</td><td>1.0045618703668504</td></tr><tr><td>&quot;base&quot;</td><td>9.016536601574082</td><td>3.1377779999999564</td><td>12.154314601574082</td><td>4.3010362694300515</td></tr><tr><td>&quot;blast&quot;</td><td>1.7751212398906349</td><td>0.7434210000000044</td><td>2.5185422398906363</td><td>5.488527131782946</td></tr><tr><td>&quot;linea&quot;</td><td>19.40068443373698</td><td>1.8708725353632727</td><td>21.271556969100253</td><td>1.4212495981460154</td></tr><tr><td>&quot;metal&quot;</td><td>0.148822002924714</td><td>0.0326340000000001</td><td>0.18145600292471398</td><td>2.005161290322581</td></tr><tr><td>&quot;optimism&quot;</td><td>3.850094180614857</td><td>0.7212240000000053</td><td>4.571318180614855</td><td>2.365778053316801</td></tr><tr><td>&quot;paradex&quot;</td><td>3.375864514535886</td><td>0.028098964800000042</td><td>3.4039634793358866</td><td>0.10000000000000006</td></tr><tr><td>&quot;scroll&quot;</td><td>13.41284060295179</td><td>0.1081366316032017</td><td>13.520977234554989</td><td>0.09560892932174002</td></tr><tr><td>&quot;taiko&quot;</td><td>89.46026295149315</td><td>36.68788168569988</td><td>126.14814463719313</td><td>4.997539882451721</td></tr><tr><td>&quot;zksync&quot;</td><td>6.047803590475573</td><td>0.9060063196875188</td><td>6.9538099101630895</td><td>2.035475947852132</td></tr></tbody></table></div>"
      ],
      "text/plain": [
       "shape: (10, 5)\n",
       "┌─────────────────┬────────────────────┬───────────────────┬───────────────────┬───────────────────┐\n",
       "│ sequencer_names ┆ total_base_fees_et ┆ total_priority_fe ┆ total_eth_fees    ┆ avg_priority_fee_ │\n",
       "│ ---             ┆ h                  ┆ es_eth            ┆ ---               ┆ bid               │\n",
       "│ str             ┆ ---                ┆ ---               ┆ f64               ┆ ---               │\n",
       "│                 ┆ f64                ┆ f64               ┆                   ┆ f64               │\n",
       "╞═════════════════╪════════════════════╪═══════════════════╪═══════════════════╪═══════════════════╡\n",
       "│ arbitrum        ┆ 34.051688650892615 ┆ 2.70854467500004  ┆ 36.76023332589261 ┆ 1.004561870366850 │\n",
       "│                 ┆                    ┆                   ┆                   ┆ 4                 │\n",
       "│ base            ┆ 9.016536601574082  ┆ 3.137777999999956 ┆ 12.15431460157408 ┆ 4.301036269430051 │\n",
       "│                 ┆                    ┆ 4                 ┆ 2                 ┆ 5                 │\n",
       "│ blast           ┆ 1.7751212398906349 ┆ 0.743421000000004 ┆ 2.518542239890636 ┆ 5.488527131782946 │\n",
       "│                 ┆                    ┆ 4                 ┆ 3                 ┆                   │\n",
       "│ linea           ┆ 19.40068443373698  ┆ 1.870872535363272 ┆ 21.27155696910025 ┆ 1.421249598146015 │\n",
       "│                 ┆                    ┆ 7                 ┆ 3                 ┆ 4                 │\n",
       "│ metal           ┆ 0.148822002924714  ┆ 0.032634000000000 ┆ 0.181456002924713 ┆ 2.005161290322581 │\n",
       "│                 ┆                    ┆ 1                 ┆ 98                ┆                   │\n",
       "│ optimism        ┆ 3.850094180614857  ┆ 0.721224000000005 ┆ 4.571318180614855 ┆ 2.365778053316801 │\n",
       "│                 ┆                    ┆ 3                 ┆                   ┆                   │\n",
       "│ paradex         ┆ 3.375864514535886  ┆ 0.028098964800000 ┆ 3.403963479335886 ┆ 0.100000000000000 │\n",
       "│                 ┆                    ┆ 042               ┆ 6                 ┆ 06                │\n",
       "│ scroll          ┆ 13.41284060295179  ┆ 0.108136631603201 ┆ 13.52097723455498 ┆ 0.095608929321740 │\n",
       "│                 ┆                    ┆ 7                 ┆ 9                 ┆ 02                │\n",
       "│ taiko           ┆ 89.46026295149315  ┆ 36.68788168569988 ┆ 126.1481446371931 ┆ 4.997539882451721 │\n",
       "│                 ┆                    ┆                   ┆ 3                 ┆                   │\n",
       "│ zksync          ┆ 6.047803590475573  ┆ 0.906006319687518 ┆ 6.953809910163089 ┆ 2.035475947852132 │\n",
       "│                 ┆                    ┆ 8                 ┆ 5                 ┆                   │\n",
       "└─────────────────┴────────────────────┴───────────────────┴───────────────────┴───────────────────┘"
      ]
     },
     "execution_count": 8,
     "metadata": {},
     "output_type": "execute_result"
    }
   ],
   "source": [
    "slot_inclusion_joined_df.group_by('sequencer_names').agg(\n",
    "    pl.col('base_tx_fee_eth').sum().alias('total_base_fees_eth'),\n",
    "    pl.col('priority_tx_fee_eth').sum().alias('total_priority_fees_eth'),\n",
    "    pl.col('total_tx_fee_eth').sum().alias('total_eth_fees'),\n",
    "    pl.col('priority_fee_gas').mean().alias('avg_priority_fee_bid'),\n",
    ").sort(by='sequencer_names')"
   ]
  },
  {
   "cell_type": "markdown",
   "metadata": {},
   "source": [
    "### run the dashboard"
   ]
  },
  {
   "cell_type": "code",
   "execution_count": 10,
   "metadata": {},
   "outputs": [
    {
     "name": "stdout",
     "output_type": "stream",
     "text": [
      "2024-06-09 is within a day of 2024-06-09\n",
      "Launching server at http://localhost:46855\n"
     ]
    },
    {
     "name": "stderr",
     "output_type": "stream",
     "text": [
      "Gtk-Message: 14:38:44.566: Failed to load module \"canberra-gtk-module\"\n",
      "Gtk-Message: 14:38:44.570: Failed to load module \"canberra-gtk-module\"\n"
     ]
    },
    {
     "name": "stdout",
     "output_type": "stream",
     "text": [
      "Opening in existing browser session.\n"
     ]
    },
    {
     "data": {
      "text/plain": [
       "<panel.io.server.Server at 0x737df40f00d0>"
      ]
     },
     "execution_count": 10,
     "metadata": {},
     "output_type": "execute_result"
    }
   ],
   "source": [
    "# # retrieve data from database and store in memory\n",
    "cached_data = get_data()\n",
    "\n",
    "# prepare dataframes\n",
    "slot_inclusion_df = create_slot_inclusion_df(\n",
    "    cached_data).join(\n",
    "    pl.from_dict(sequencers_l2),\n",
    "    left_on=\"from\",\n",
    "    right_on=\"sequencer_addresses\",\n",
    "    how=\"left\",\n",
    "    coalesce=True\n",
    ").select('slot', 'slot_time', 'hash', 'blob_hashes_length', 'fill_percentage', 'submission_count', 'slot_inclusion_rate', 'sequencer_names', 'meta_network_name')\n",
    "\n",
    "slot_gas_bidding_df = create_slot_gas_bidding_df(\n",
    "    cached_data).select('block_number', 'hash', 'base_tx_fee_eth', 'priority_tx_fee_eth', \"base_fee_per_gas\",\n",
    "                        \"priority_fee_gas\", 'total_tx_fee_eth', 'priority_fee_bid_percent_premium')\n",
    "\n",
    "slot_inclusion_joined_df = slot_inclusion_df.join(\n",
    "    slot_gas_bidding_df, on=\"hash\", how=\"left\", coalesce=True\n",
    ")\n",
    "\n",
    "filtered_data_dict = filter_data_seq(\n",
    "    sequencers_l2[\"sequencer_names\"], slot_inclusion_joined_df, cached_data\n",
    ")\n",
    "\n",
    "sequencer_names_list: list[str] = sorted(sequencers_l2[\"sequencer_names\"])\n",
    "\n",
    "dashboard = start_interactive_panel(filtered_data_dict, sequencer_names_list)\n",
    "dashboard.show()"
   ]
  },
  {
   "cell_type": "code",
   "execution_count": null,
   "metadata": {},
   "outputs": [],
   "source": []
  }
 ],
 "metadata": {
  "kernelspec": {
   "display_name": ".venv",
   "language": "python",
   "name": "python3"
  },
  "language_info": {
   "codemirror_mode": {
    "name": "ipython",
    "version": 3
   },
   "file_extension": ".py",
   "mimetype": "text/x-python",
   "name": "python",
   "nbconvert_exporter": "python",
   "pygments_lexer": "ipython3",
   "version": "3.11.8"
  }
 },
 "nbformat": 4,
 "nbformat_minor": 2
}
