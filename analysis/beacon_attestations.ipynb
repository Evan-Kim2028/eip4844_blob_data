{
 "cells": [
  {
   "cell_type": "code",
   "execution_count": null,
   "metadata": {},
   "outputs": [],
   "source": [
    "from clickhouse_connect.datatypes.format import set_read_format\n",
    "import clickhouse_connect\n",
    "import os\n",
    "import panel as pn\n",
    "import polars as pl\n",
    "\n",
    "pn.extension(\"plotly\", template=\"material\", sizing_mode=\"stretch_width\")\n",
    "pl.Config.set_fmt_str_lengths(200)\n",
    "pl.Config.set_fmt_float(\"full\")\n",
    "\n",
    "# Clickhouse Format Settings - https://clickhouse.com/docs/en/integrations/python#read-formats\n",
    "\n",
    "# Return both IPv6 and IPv4 values as strings\n",
    "set_read_format(\"IPv*\", \"string\")\n",
    "\n",
    "# Return binary as string\n",
    "set_read_format(\"FixedString\", \"string\")\n",
    "\n",
    "# sets large ints to floats so that there are no large int overflow errors when converting to polars dataframe\n",
    "set_read_format(\"Int*\", \"float\")\n",
    "\n",
    "# Create ClickHouse client\n",
    "client = clickhouse_connect.get_client(\n",
    "    host=os.environ.get(\"HOST\"),\n",
    "    username=os.environ.get(\"USERNAME\"),\n",
    "    password=os.environ.get(\"PASSWORD\"),\n",
    "    secure=True,\n",
    ")"
   ]
  },
  {
   "cell_type": "code",
   "execution_count": null,
   "metadata": {},
   "outputs": [],
   "source": [
    "# when blob sidecars are propagated\n",
    "blob_sidecar_query = \"\"\" \n",
    "SELECT \n",
    "    kzg_commitment,\n",
    "    slot,\n",
    "    meta_consensus_implementation,\n",
    "    MIN(slot_start_date_time) AS min_slot_start_date_time,\n",
    "    MIN(event_date_time) AS first_event_time,\n",
    "    MAX(event_date_time) AS last_event_time,\n",
    "    (toUnixTimestamp64Milli(MAX(event_date_time)) - toUnixTimestamp64Milli(MIN(event_date_time))) AS time_diff_milliseconds, -- time difference from when first and last blob was seen. It's put in the query because it's easier to do here\n",
    "    MAX(blob_index) AS max_blob_index\n",
    "FROM beacon_api_eth_v1_events_blob_sidecar \n",
    "WHERE event_date_time > NOW() - INTERVAL '1 DAYS'\n",
    "AND meta_network_name = 'mainnet'\n",
    "GROUP BY kzg_commitment, slot, meta_consensus_implementation\n",
    "\"\"\"\n",
    "blob_sidecar_df = client.query_df(blob_sidecar_query)\n",
    "\n",
    "blob_sidecar_df_pl = pl.from_pandas(blob_sidecar_df)"
   ]
  }
 ],
 "metadata": {
  "language_info": {
   "name": "python"
  }
 },
 "nbformat": 4,
 "nbformat_minor": 2
}
