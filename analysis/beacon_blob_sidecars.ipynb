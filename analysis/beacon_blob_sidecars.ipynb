{
 "cells": [
  {
   "cell_type": "code",
   "execution_count": 1,
   "metadata": {},
   "outputs": [
    {
     "data": {
      "application/javascript": "(function(root) {\n  function now() {\n    return new Date();\n  }\n\n  var force = true;\n  var py_version = '3.3.4'.replace('rc', '-rc.').replace('.dev', '-dev.');\n  var reloading = false;\n  var Bokeh = root.Bokeh;\n\n  if (typeof (root._bokeh_timeout) === \"undefined\" || force) {\n    root._bokeh_timeout = Date.now() + 5000;\n    root._bokeh_failed_load = false;\n  }\n\n  function run_callbacks() {\n    try {\n      root._bokeh_onload_callbacks.forEach(function(callback) {\n        if (callback != null)\n          callback();\n      });\n    } finally {\n      delete root._bokeh_onload_callbacks;\n    }\n    console.debug(\"Bokeh: all callbacks have finished\");\n  }\n\n  function load_libs(css_urls, js_urls, js_modules, js_exports, callback) {\n    if (css_urls == null) css_urls = [];\n    if (js_urls == null) js_urls = [];\n    if (js_modules == null) js_modules = [];\n    if (js_exports == null) js_exports = {};\n\n    root._bokeh_onload_callbacks.push(callback);\n\n    if (root._bokeh_is_loading > 0) {\n      console.debug(\"Bokeh: BokehJS is being loaded, scheduling callback at\", now());\n      return null;\n    }\n    if (js_urls.length === 0 && js_modules.length === 0 && Object.keys(js_exports).length === 0) {\n      run_callbacks();\n      return null;\n    }\n    if (!reloading) {\n      console.debug(\"Bokeh: BokehJS not loaded, scheduling load and callback at\", now());\n    }\n\n    function on_load() {\n      root._bokeh_is_loading--;\n      if (root._bokeh_is_loading === 0) {\n        console.debug(\"Bokeh: all BokehJS libraries/stylesheets loaded\");\n        run_callbacks()\n      }\n    }\n    window._bokeh_on_load = on_load\n\n    function on_error() {\n      console.error(\"failed to load \" + url);\n    }\n\n    var skip = [];\n    if (window.requirejs) {\n      window.requirejs.config({'packages': {}, 'paths': {'plotly': 'https://cdn.plot.ly/plotly-2.25.2.min', 'jspanel': 'https://cdn.jsdelivr.net/npm/jspanel4@4.12.0/dist/jspanel', 'jspanel-modal': 'https://cdn.jsdelivr.net/npm/jspanel4@4.12.0/dist/extensions/modal/jspanel.modal', 'jspanel-tooltip': 'https://cdn.jsdelivr.net/npm/jspanel4@4.12.0/dist/extensions/tooltip/jspanel.tooltip', 'jspanel-hint': 'https://cdn.jsdelivr.net/npm/jspanel4@4.12.0/dist/extensions/hint/jspanel.hint', 'jspanel-layout': 'https://cdn.jsdelivr.net/npm/jspanel4@4.12.0/dist/extensions/layout/jspanel.layout', 'jspanel-contextmenu': 'https://cdn.jsdelivr.net/npm/jspanel4@4.12.0/dist/extensions/contextmenu/jspanel.contextmenu', 'jspanel-dock': 'https://cdn.jsdelivr.net/npm/jspanel4@4.12.0/dist/extensions/dock/jspanel.dock', 'gridstack': 'https://cdn.jsdelivr.net/npm/gridstack@7.2.3/dist/gridstack-all', 'notyf': 'https://cdn.jsdelivr.net/npm/notyf@3/notyf.min'}, 'shim': {'jspanel': {'exports': 'jsPanel'}, 'gridstack': {'exports': 'GridStack'}}});\n      require([\"plotly\"], function(Plotly) {\n\twindow.Plotly = Plotly\n\ton_load()\n      })\n      require([\"jspanel\"], function(jsPanel) {\n\twindow.jsPanel = jsPanel\n\ton_load()\n      })\n      require([\"jspanel-modal\"], function() {\n\ton_load()\n      })\n      require([\"jspanel-tooltip\"], function() {\n\ton_load()\n      })\n      require([\"jspanel-hint\"], function() {\n\ton_load()\n      })\n      require([\"jspanel-layout\"], function() {\n\ton_load()\n      })\n      require([\"jspanel-contextmenu\"], function() {\n\ton_load()\n      })\n      require([\"jspanel-dock\"], function() {\n\ton_load()\n      })\n      require([\"gridstack\"], function(GridStack) {\n\twindow.GridStack = GridStack\n\ton_load()\n      })\n      require([\"notyf\"], function() {\n\ton_load()\n      })\n      root._bokeh_is_loading = css_urls.length + 10;\n    } else {\n      root._bokeh_is_loading = css_urls.length + js_urls.length + js_modules.length + Object.keys(js_exports).length;\n    }\n\n    var existing_stylesheets = []\n    var links = document.getElementsByTagName('link')\n    for (var i = 0; i < links.length; i++) {\n      var link = links[i]\n      if (link.href != null) {\n\texisting_stylesheets.push(link.href)\n      }\n    }\n    for (var i = 0; i < css_urls.length; i++) {\n      var url = css_urls[i];\n      if (existing_stylesheets.indexOf(url) !== -1) {\n\ton_load()\n\tcontinue;\n      }\n      const element = document.createElement(\"link\");\n      element.onload = on_load;\n      element.onerror = on_error;\n      element.rel = \"stylesheet\";\n      element.type = \"text/css\";\n      element.href = url;\n      console.debug(\"Bokeh: injecting link tag for BokehJS stylesheet: \", url);\n      document.body.appendChild(element);\n    }    if (((window['Plotly'] !== undefined) && (!(window['Plotly'] instanceof HTMLElement))) || window.requirejs) {\n      var urls = ['https://cdn.holoviz.org/panel/1.3.8/dist/bundled/plotlyplot/plotly-2.25.2.min.js'];\n      for (var i = 0; i < urls.length; i++) {\n        skip.push(urls[i])\n      }\n    }    if (((window['jsPanel'] !== undefined) && (!(window['jsPanel'] instanceof HTMLElement))) || window.requirejs) {\n      var urls = ['https://cdn.holoviz.org/panel/1.3.8/dist/bundled/floatpanel/jspanel4@4.12.0/dist/jspanel.js', 'https://cdn.holoviz.org/panel/1.3.8/dist/bundled/floatpanel/jspanel4@4.12.0/dist/extensions/modal/jspanel.modal.js', 'https://cdn.holoviz.org/panel/1.3.8/dist/bundled/floatpanel/jspanel4@4.12.0/dist/extensions/tooltip/jspanel.tooltip.js', 'https://cdn.holoviz.org/panel/1.3.8/dist/bundled/floatpanel/jspanel4@4.12.0/dist/extensions/hint/jspanel.hint.js', 'https://cdn.holoviz.org/panel/1.3.8/dist/bundled/floatpanel/jspanel4@4.12.0/dist/extensions/layout/jspanel.layout.js', 'https://cdn.holoviz.org/panel/1.3.8/dist/bundled/floatpanel/jspanel4@4.12.0/dist/extensions/contextmenu/jspanel.contextmenu.js', 'https://cdn.holoviz.org/panel/1.3.8/dist/bundled/floatpanel/jspanel4@4.12.0/dist/extensions/dock/jspanel.dock.js'];\n      for (var i = 0; i < urls.length; i++) {\n        skip.push(urls[i])\n      }\n    }    if (((window['GridStack'] !== undefined) && (!(window['GridStack'] instanceof HTMLElement))) || window.requirejs) {\n      var urls = ['https://cdn.holoviz.org/panel/1.3.8/dist/bundled/gridstack/gridstack@7.2.3/dist/gridstack-all.js'];\n      for (var i = 0; i < urls.length; i++) {\n        skip.push(urls[i])\n      }\n    }    if (((window['Notyf'] !== undefined) && (!(window['Notyf'] instanceof HTMLElement))) || window.requirejs) {\n      var urls = ['https://cdn.holoviz.org/panel/1.3.8/dist/bundled/notificationarea/notyf@3/notyf.min.js'];\n      for (var i = 0; i < urls.length; i++) {\n        skip.push(urls[i])\n      }\n    }    var existing_scripts = []\n    var scripts = document.getElementsByTagName('script')\n    for (var i = 0; i < scripts.length; i++) {\n      var script = scripts[i]\n      if (script.src != null) {\n\texisting_scripts.push(script.src)\n      }\n    }\n    for (var i = 0; i < js_urls.length; i++) {\n      var url = js_urls[i];\n      if (skip.indexOf(url) !== -1 || existing_scripts.indexOf(url) !== -1) {\n\tif (!window.requirejs) {\n\t  on_load();\n\t}\n\tcontinue;\n      }\n      var element = document.createElement('script');\n      element.onload = on_load;\n      element.onerror = on_error;\n      element.async = false;\n      element.src = url;\n      console.debug(\"Bokeh: injecting script tag for BokehJS library: \", url);\n      document.head.appendChild(element);\n    }\n    for (var i = 0; i < js_modules.length; i++) {\n      var url = js_modules[i];\n      if (skip.indexOf(url) !== -1 || existing_scripts.indexOf(url) !== -1) {\n\tif (!window.requirejs) {\n\t  on_load();\n\t}\n\tcontinue;\n      }\n      var element = document.createElement('script');\n      element.onload = on_load;\n      element.onerror = on_error;\n      element.async = false;\n      element.src = url;\n      element.type = \"module\";\n      console.debug(\"Bokeh: injecting script tag for BokehJS library: \", url);\n      document.head.appendChild(element);\n    }\n    for (const name in js_exports) {\n      var url = js_exports[name];\n      if (skip.indexOf(url) >= 0 || root[name] != null) {\n\tif (!window.requirejs) {\n\t  on_load();\n\t}\n\tcontinue;\n      }\n      var element = document.createElement('script');\n      element.onerror = on_error;\n      element.async = false;\n      element.type = \"module\";\n      console.debug(\"Bokeh: injecting script tag for BokehJS library: \", url);\n      element.textContent = `\n      import ${name} from \"${url}\"\n      window.${name} = ${name}\n      window._bokeh_on_load()\n      `\n      document.head.appendChild(element);\n    }\n    if (!js_urls.length && !js_modules.length) {\n      on_load()\n    }\n  };\n\n  function inject_raw_css(css) {\n    const element = document.createElement(\"style\");\n    element.appendChild(document.createTextNode(css));\n    document.body.appendChild(element);\n  }\n\n  var js_urls = [\"https://cdn.holoviz.org/panel/1.3.8/dist/bundled/jquery/jquery.slim.min.js\", \"https://cdn.holoviz.org/panel/1.3.8/dist/bundled/plotlyplot/plotly-2.25.2.min.js\", \"https://cdn.bokeh.org/bokeh/release/bokeh-3.3.4.min.js\", \"https://cdn.bokeh.org/bokeh/release/bokeh-gl-3.3.4.min.js\", \"https://cdn.bokeh.org/bokeh/release/bokeh-widgets-3.3.4.min.js\", \"https://cdn.bokeh.org/bokeh/release/bokeh-tables-3.3.4.min.js\", \"https://cdn.holoviz.org/panel/1.3.8/dist/panel.min.js\"];\n  var js_modules = [];\n  var js_exports = {};\n  var css_urls = [];\n  var inline_js = [    function(Bokeh) {\n      Bokeh.set_log_level(\"info\");\n    },\nfunction(Bokeh) {} // ensure no trailing comma for IE\n  ];\n\n  function run_inline_js() {\n    if ((root.Bokeh !== undefined) || (force === true)) {\n      for (var i = 0; i < inline_js.length; i++) {\n\ttry {\n          inline_js[i].call(root, root.Bokeh);\n\t} catch(e) {\n\t  if (!reloading) {\n\t    throw e;\n\t  }\n\t}\n      }\n      // Cache old bokeh versions\n      if (Bokeh != undefined && !reloading) {\n\tvar NewBokeh = root.Bokeh;\n\tif (Bokeh.versions === undefined) {\n\t  Bokeh.versions = new Map();\n\t}\n\tif (NewBokeh.version !== Bokeh.version) {\n\t  Bokeh.versions.set(NewBokeh.version, NewBokeh)\n\t}\n\troot.Bokeh = Bokeh;\n      }} else if (Date.now() < root._bokeh_timeout) {\n      setTimeout(run_inline_js, 100);\n    } else if (!root._bokeh_failed_load) {\n      console.log(\"Bokeh: BokehJS failed to load within specified timeout.\");\n      root._bokeh_failed_load = true;\n    }\n    root._bokeh_is_initializing = false\n  }\n\n  function load_or_wait() {\n    // Implement a backoff loop that tries to ensure we do not load multiple\n    // versions of Bokeh and its dependencies at the same time.\n    // In recent versions we use the root._bokeh_is_initializing flag\n    // to determine whether there is an ongoing attempt to initialize\n    // bokeh, however for backward compatibility we also try to ensure\n    // that we do not start loading a newer (Panel>=1.0 and Bokeh>3) version\n    // before older versions are fully initialized.\n    if (root._bokeh_is_initializing && Date.now() > root._bokeh_timeout) {\n      root._bokeh_is_initializing = false;\n      root._bokeh_onload_callbacks = undefined;\n      console.log(\"Bokeh: BokehJS was loaded multiple times but one version failed to initialize.\");\n      load_or_wait();\n    } else if (root._bokeh_is_initializing || (typeof root._bokeh_is_initializing === \"undefined\" && root._bokeh_onload_callbacks !== undefined)) {\n      setTimeout(load_or_wait, 100);\n    } else {\n      root._bokeh_is_initializing = true\n      root._bokeh_onload_callbacks = []\n      var bokeh_loaded = Bokeh != null && (Bokeh.version === py_version || (Bokeh.versions !== undefined && Bokeh.versions.has(py_version)));\n      if (!reloading && !bokeh_loaded) {\n\troot.Bokeh = undefined;\n      }\n      load_libs(css_urls, js_urls, js_modules, js_exports, function() {\n\tconsole.debug(\"Bokeh: BokehJS plotting callback run at\", now());\n\trun_inline_js();\n      });\n    }\n  }\n  // Give older versions of the autoload script a head-start to ensure\n  // they initialize before we start loading newer version.\n  setTimeout(load_or_wait, 100)\n}(window));",
      "application/vnd.holoviews_load.v0+json": ""
     },
     "metadata": {},
     "output_type": "display_data"
    },
    {
     "data": {
      "application/javascript": "\nif ((window.PyViz === undefined) || (window.PyViz instanceof HTMLElement)) {\n  window.PyViz = {comms: {}, comm_status:{}, kernels:{}, receivers: {}, plot_index: []}\n}\n\n\n    function JupyterCommManager() {\n    }\n\n    JupyterCommManager.prototype.register_target = function(plot_id, comm_id, msg_handler) {\n      if (window.comm_manager || ((window.Jupyter !== undefined) && (Jupyter.notebook.kernel != null))) {\n        var comm_manager = window.comm_manager || Jupyter.notebook.kernel.comm_manager;\n        comm_manager.register_target(comm_id, function(comm) {\n          comm.on_msg(msg_handler);\n        });\n      } else if ((plot_id in window.PyViz.kernels) && (window.PyViz.kernels[plot_id])) {\n        window.PyViz.kernels[plot_id].registerCommTarget(comm_id, function(comm) {\n          comm.onMsg = msg_handler;\n        });\n      } else if (typeof google != 'undefined' && google.colab.kernel != null) {\n        google.colab.kernel.comms.registerTarget(comm_id, (comm) => {\n          var messages = comm.messages[Symbol.asyncIterator]();\n          function processIteratorResult(result) {\n            var message = result.value;\n            console.log(message)\n            var content = {data: message.data, comm_id};\n            var buffers = []\n            for (var buffer of message.buffers || []) {\n              buffers.push(new DataView(buffer))\n            }\n            var metadata = message.metadata || {};\n            var msg = {content, buffers, metadata}\n            msg_handler(msg);\n            return messages.next().then(processIteratorResult);\n          }\n          return messages.next().then(processIteratorResult);\n        })\n      }\n    }\n\n    JupyterCommManager.prototype.get_client_comm = function(plot_id, comm_id, msg_handler) {\n      if (comm_id in window.PyViz.comms) {\n        return window.PyViz.comms[comm_id];\n      } else if (window.comm_manager || ((window.Jupyter !== undefined) && (Jupyter.notebook.kernel != null))) {\n        var comm_manager = window.comm_manager || Jupyter.notebook.kernel.comm_manager;\n        var comm = comm_manager.new_comm(comm_id, {}, {}, {}, comm_id);\n        if (msg_handler) {\n          comm.on_msg(msg_handler);\n        }\n      } else if ((plot_id in window.PyViz.kernels) && (window.PyViz.kernels[plot_id])) {\n        var comm = window.PyViz.kernels[plot_id].connectToComm(comm_id);\n        comm.open();\n        if (msg_handler) {\n          comm.onMsg = msg_handler;\n        }\n      } else if (typeof google != 'undefined' && google.colab.kernel != null) {\n        var comm_promise = google.colab.kernel.comms.open(comm_id)\n        comm_promise.then((comm) => {\n          window.PyViz.comms[comm_id] = comm;\n          if (msg_handler) {\n            var messages = comm.messages[Symbol.asyncIterator]();\n            function processIteratorResult(result) {\n              var message = result.value;\n              var content = {data: message.data};\n              var metadata = message.metadata || {comm_id};\n              var msg = {content, metadata}\n              msg_handler(msg);\n              return messages.next().then(processIteratorResult);\n            }\n            return messages.next().then(processIteratorResult);\n          }\n        }) \n        var sendClosure = (data, metadata, buffers, disposeOnDone) => {\n          return comm_promise.then((comm) => {\n            comm.send(data, metadata, buffers, disposeOnDone);\n          });\n        };\n        var comm = {\n          send: sendClosure\n        };\n      }\n      window.PyViz.comms[comm_id] = comm;\n      return comm;\n    }\n    window.PyViz.comm_manager = new JupyterCommManager();\n    \n\n\nvar JS_MIME_TYPE = 'application/javascript';\nvar HTML_MIME_TYPE = 'text/html';\nvar EXEC_MIME_TYPE = 'application/vnd.holoviews_exec.v0+json';\nvar CLASS_NAME = 'output';\n\n/**\n * Render data to the DOM node\n */\nfunction render(props, node) {\n  var div = document.createElement(\"div\");\n  var script = document.createElement(\"script\");\n  node.appendChild(div);\n  node.appendChild(script);\n}\n\n/**\n * Handle when a new output is added\n */\nfunction handle_add_output(event, handle) {\n  var output_area = handle.output_area;\n  var output = handle.output;\n  if ((output.data == undefined) || (!output.data.hasOwnProperty(EXEC_MIME_TYPE))) {\n    return\n  }\n  var id = output.metadata[EXEC_MIME_TYPE][\"id\"];\n  var toinsert = output_area.element.find(\".\" + CLASS_NAME.split(' ')[0]);\n  if (id !== undefined) {\n    var nchildren = toinsert.length;\n    var html_node = toinsert[nchildren-1].children[0];\n    html_node.innerHTML = output.data[HTML_MIME_TYPE];\n    var scripts = [];\n    var nodelist = html_node.querySelectorAll(\"script\");\n    for (var i in nodelist) {\n      if (nodelist.hasOwnProperty(i)) {\n        scripts.push(nodelist[i])\n      }\n    }\n\n    scripts.forEach( function (oldScript) {\n      var newScript = document.createElement(\"script\");\n      var attrs = [];\n      var nodemap = oldScript.attributes;\n      for (var j in nodemap) {\n        if (nodemap.hasOwnProperty(j)) {\n          attrs.push(nodemap[j])\n        }\n      }\n      attrs.forEach(function(attr) { newScript.setAttribute(attr.name, attr.value) });\n      newScript.appendChild(document.createTextNode(oldScript.innerHTML));\n      oldScript.parentNode.replaceChild(newScript, oldScript);\n    });\n    if (JS_MIME_TYPE in output.data) {\n      toinsert[nchildren-1].children[1].textContent = output.data[JS_MIME_TYPE];\n    }\n    output_area._hv_plot_id = id;\n    if ((window.Bokeh !== undefined) && (id in Bokeh.index)) {\n      window.PyViz.plot_index[id] = Bokeh.index[id];\n    } else {\n      window.PyViz.plot_index[id] = null;\n    }\n  } else if (output.metadata[EXEC_MIME_TYPE][\"server_id\"] !== undefined) {\n    var bk_div = document.createElement(\"div\");\n    bk_div.innerHTML = output.data[HTML_MIME_TYPE];\n    var script_attrs = bk_div.children[0].attributes;\n    for (var i = 0; i < script_attrs.length; i++) {\n      toinsert[toinsert.length - 1].childNodes[1].setAttribute(script_attrs[i].name, script_attrs[i].value);\n    }\n    // store reference to server id on output_area\n    output_area._bokeh_server_id = output.metadata[EXEC_MIME_TYPE][\"server_id\"];\n  }\n}\n\n/**\n * Handle when an output is cleared or removed\n */\nfunction handle_clear_output(event, handle) {\n  var id = handle.cell.output_area._hv_plot_id;\n  var server_id = handle.cell.output_area._bokeh_server_id;\n  if (((id === undefined) || !(id in PyViz.plot_index)) && (server_id !== undefined)) { return; }\n  var comm = window.PyViz.comm_manager.get_client_comm(\"hv-extension-comm\", \"hv-extension-comm\", function () {});\n  if (server_id !== null) {\n    comm.send({event_type: 'server_delete', 'id': server_id});\n    return;\n  } else if (comm !== null) {\n    comm.send({event_type: 'delete', 'id': id});\n  }\n  delete PyViz.plot_index[id];\n  if ((window.Bokeh !== undefined) & (id in window.Bokeh.index)) {\n    var doc = window.Bokeh.index[id].model.document\n    doc.clear();\n    const i = window.Bokeh.documents.indexOf(doc);\n    if (i > -1) {\n      window.Bokeh.documents.splice(i, 1);\n    }\n  }\n}\n\n/**\n * Handle kernel restart event\n */\nfunction handle_kernel_cleanup(event, handle) {\n  delete PyViz.comms[\"hv-extension-comm\"];\n  window.PyViz.plot_index = {}\n}\n\n/**\n * Handle update_display_data messages\n */\nfunction handle_update_output(event, handle) {\n  handle_clear_output(event, {cell: {output_area: handle.output_area}})\n  handle_add_output(event, handle)\n}\n\nfunction register_renderer(events, OutputArea) {\n  function append_mime(data, metadata, element) {\n    // create a DOM node to render to\n    var toinsert = this.create_output_subarea(\n    metadata,\n    CLASS_NAME,\n    EXEC_MIME_TYPE\n    );\n    this.keyboard_manager.register_events(toinsert);\n    // Render to node\n    var props = {data: data, metadata: metadata[EXEC_MIME_TYPE]};\n    render(props, toinsert[0]);\n    element.append(toinsert);\n    return toinsert\n  }\n\n  events.on('output_added.OutputArea', handle_add_output);\n  events.on('output_updated.OutputArea', handle_update_output);\n  events.on('clear_output.CodeCell', handle_clear_output);\n  events.on('delete.Cell', handle_clear_output);\n  events.on('kernel_ready.Kernel', handle_kernel_cleanup);\n\n  OutputArea.prototype.register_mime_type(EXEC_MIME_TYPE, append_mime, {\n    safe: true,\n    index: 0\n  });\n}\n\nif (window.Jupyter !== undefined) {\n  try {\n    var events = require('base/js/events');\n    var OutputArea = require('notebook/js/outputarea').OutputArea;\n    if (OutputArea.prototype.mime_types().indexOf(EXEC_MIME_TYPE) == -1) {\n      register_renderer(events, OutputArea);\n    }\n  } catch(err) {\n  }\n}\n",
      "application/vnd.holoviews_load.v0+json": ""
     },
     "metadata": {},
     "output_type": "display_data"
    },
    {
     "data": {
      "text/html": [
       "<style>*[data-root-id],\n",
       "*[data-root-id] > * {\n",
       "  box-sizing: border-box;\n",
       "  font-family: var(--jp-ui-font-family);\n",
       "  font-size: var(--jp-ui-font-size1);\n",
       "  color: var(--vscode-editor-foreground, var(--jp-ui-font-color1));\n",
       "}\n",
       "\n",
       "/* Override VSCode background color */\n",
       ".cell-output-ipywidget-background:has(\n",
       "    > .cell-output-ipywidget-background > .lm-Widget > *[data-root-id]\n",
       "  ),\n",
       ".cell-output-ipywidget-background:has(> .lm-Widget > *[data-root-id]) {\n",
       "  background-color: transparent !important;\n",
       "}\n",
       "</style>"
      ]
     },
     "metadata": {},
     "output_type": "display_data"
    },
    {
     "data": {
      "application/vnd.holoviews_exec.v0+json": "",
      "text/html": [
       "<div id='bda826eb-1de4-465d-bfde-ee2d6e3d03f3'>\n",
       "  <div id=\"f6a69db7-7ded-4cc6-923a-67bee997e579\" data-root-id=\"bda826eb-1de4-465d-bfde-ee2d6e3d03f3\" style=\"display: contents;\"></div>\n",
       "</div>\n",
       "<script type=\"application/javascript\">(function(root) {\n",
       "  var docs_json = {\"95769235-62dd-48fa-a6cf-f83666d897b2\":{\"version\":\"3.3.4\",\"title\":\"Bokeh Application\",\"roots\":[{\"type\":\"object\",\"name\":\"panel.models.browser.BrowserInfo\",\"id\":\"bda826eb-1de4-465d-bfde-ee2d6e3d03f3\"},{\"type\":\"object\",\"name\":\"panel.models.comm_manager.CommManager\",\"id\":\"397291b7-f81b-4a7b-827c-9023ca3a3b9b\",\"attributes\":{\"plot_id\":\"bda826eb-1de4-465d-bfde-ee2d6e3d03f3\",\"comm_id\":\"af73073be5824c5e90fde36a2e55306e\",\"client_comm_id\":\"cc225f7f67c54f5480132c0fbcbe8917\"}}],\"defs\":[{\"type\":\"model\",\"name\":\"ReactiveHTML1\"},{\"type\":\"model\",\"name\":\"FlexBox1\",\"properties\":[{\"name\":\"align_content\",\"kind\":\"Any\",\"default\":\"flex-start\"},{\"name\":\"align_items\",\"kind\":\"Any\",\"default\":\"flex-start\"},{\"name\":\"flex_direction\",\"kind\":\"Any\",\"default\":\"row\"},{\"name\":\"flex_wrap\",\"kind\":\"Any\",\"default\":\"wrap\"},{\"name\":\"justify_content\",\"kind\":\"Any\",\"default\":\"flex-start\"}]},{\"type\":\"model\",\"name\":\"FloatPanel1\",\"properties\":[{\"name\":\"config\",\"kind\":\"Any\",\"default\":{\"type\":\"map\"}},{\"name\":\"contained\",\"kind\":\"Any\",\"default\":true},{\"name\":\"position\",\"kind\":\"Any\",\"default\":\"right-top\"},{\"name\":\"offsetx\",\"kind\":\"Any\",\"default\":null},{\"name\":\"offsety\",\"kind\":\"Any\",\"default\":null},{\"name\":\"theme\",\"kind\":\"Any\",\"default\":\"primary\"},{\"name\":\"status\",\"kind\":\"Any\",\"default\":\"normalized\"}]},{\"type\":\"model\",\"name\":\"GridStack1\",\"properties\":[{\"name\":\"mode\",\"kind\":\"Any\",\"default\":\"warn\"},{\"name\":\"ncols\",\"kind\":\"Any\",\"default\":null},{\"name\":\"nrows\",\"kind\":\"Any\",\"default\":null},{\"name\":\"allow_resize\",\"kind\":\"Any\",\"default\":true},{\"name\":\"allow_drag\",\"kind\":\"Any\",\"default\":true},{\"name\":\"state\",\"kind\":\"Any\",\"default\":[]}]},{\"type\":\"model\",\"name\":\"drag1\",\"properties\":[{\"name\":\"slider_width\",\"kind\":\"Any\",\"default\":5},{\"name\":\"slider_color\",\"kind\":\"Any\",\"default\":\"black\"},{\"name\":\"value\",\"kind\":\"Any\",\"default\":50}]},{\"type\":\"model\",\"name\":\"click1\",\"properties\":[{\"name\":\"terminal_output\",\"kind\":\"Any\",\"default\":\"\"},{\"name\":\"debug_name\",\"kind\":\"Any\",\"default\":\"\"},{\"name\":\"clears\",\"kind\":\"Any\",\"default\":0}]},{\"type\":\"model\",\"name\":\"copy_to_clipboard1\",\"properties\":[{\"name\":\"fill\",\"kind\":\"Any\",\"default\":\"none\"},{\"name\":\"value\",\"kind\":\"Any\",\"default\":null}]},{\"type\":\"model\",\"name\":\"FastWrapper1\",\"properties\":[{\"name\":\"object\",\"kind\":\"Any\",\"default\":null},{\"name\":\"style\",\"kind\":\"Any\",\"default\":null}]},{\"type\":\"model\",\"name\":\"NotificationAreaBase1\",\"properties\":[{\"name\":\"js_events\",\"kind\":\"Any\",\"default\":{\"type\":\"map\"}},{\"name\":\"position\",\"kind\":\"Any\",\"default\":\"bottom-right\"},{\"name\":\"_clear\",\"kind\":\"Any\",\"default\":0}]},{\"type\":\"model\",\"name\":\"NotificationArea1\",\"properties\":[{\"name\":\"js_events\",\"kind\":\"Any\",\"default\":{\"type\":\"map\"}},{\"name\":\"notifications\",\"kind\":\"Any\",\"default\":[]},{\"name\":\"position\",\"kind\":\"Any\",\"default\":\"bottom-right\"},{\"name\":\"_clear\",\"kind\":\"Any\",\"default\":0},{\"name\":\"types\",\"kind\":\"Any\",\"default\":[{\"type\":\"map\",\"entries\":[[\"type\",\"warning\"],[\"background\",\"#ffc107\"],[\"icon\",{\"type\":\"map\",\"entries\":[[\"className\",\"fas fa-exclamation-triangle\"],[\"tagName\",\"i\"],[\"color\",\"white\"]]}]]},{\"type\":\"map\",\"entries\":[[\"type\",\"info\"],[\"background\",\"#007bff\"],[\"icon\",{\"type\":\"map\",\"entries\":[[\"className\",\"fas fa-info-circle\"],[\"tagName\",\"i\"],[\"color\",\"white\"]]}]]}]}]},{\"type\":\"model\",\"name\":\"Notification\",\"properties\":[{\"name\":\"background\",\"kind\":\"Any\",\"default\":null},{\"name\":\"duration\",\"kind\":\"Any\",\"default\":3000},{\"name\":\"icon\",\"kind\":\"Any\",\"default\":null},{\"name\":\"message\",\"kind\":\"Any\",\"default\":\"\"},{\"name\":\"notification_type\",\"kind\":\"Any\",\"default\":null},{\"name\":\"_destroyed\",\"kind\":\"Any\",\"default\":false}]},{\"type\":\"model\",\"name\":\"TemplateActions1\",\"properties\":[{\"name\":\"open_modal\",\"kind\":\"Any\",\"default\":0},{\"name\":\"close_modal\",\"kind\":\"Any\",\"default\":0}]},{\"type\":\"model\",\"name\":\"BootstrapTemplateActions1\",\"properties\":[{\"name\":\"open_modal\",\"kind\":\"Any\",\"default\":0},{\"name\":\"close_modal\",\"kind\":\"Any\",\"default\":0}]},{\"type\":\"model\",\"name\":\"MaterialTemplateActions1\",\"properties\":[{\"name\":\"open_modal\",\"kind\":\"Any\",\"default\":0},{\"name\":\"close_modal\",\"kind\":\"Any\",\"default\":0}]}]}};\n",
       "  var render_items = [{\"docid\":\"95769235-62dd-48fa-a6cf-f83666d897b2\",\"roots\":{\"bda826eb-1de4-465d-bfde-ee2d6e3d03f3\":\"f6a69db7-7ded-4cc6-923a-67bee997e579\"},\"root_ids\":[\"bda826eb-1de4-465d-bfde-ee2d6e3d03f3\"]}];\n",
       "  var docs = Object.values(docs_json)\n",
       "  if (!docs) {\n",
       "    return\n",
       "  }\n",
       "  const py_version = docs[0].version.replace('rc', '-rc.').replace('.dev', '-dev.')\n",
       "  function embed_document(root) {\n",
       "    var Bokeh = get_bokeh(root)\n",
       "    Bokeh.embed.embed_items_notebook(docs_json, render_items);\n",
       "    for (const render_item of render_items) {\n",
       "      for (const root_id of render_item.root_ids) {\n",
       "\tconst id_el = document.getElementById(root_id)\n",
       "\tif (id_el.children.length && (id_el.children[0].className === 'bk-root')) {\n",
       "\t  const root_el = id_el.children[0]\n",
       "\t  root_el.id = root_el.id + '-rendered'\n",
       "\t}\n",
       "      }\n",
       "    }\n",
       "  }\n",
       "  function get_bokeh(root) {\n",
       "    if (root.Bokeh === undefined) {\n",
       "      return null\n",
       "    } else if (root.Bokeh.version !== py_version) {\n",
       "      if (root.Bokeh.versions === undefined || !root.Bokeh.versions.has(py_version)) {\n",
       "\treturn null\n",
       "      }\n",
       "      return root.Bokeh.versions.get(py_version);\n",
       "    } else if (root.Bokeh.version === py_version) {\n",
       "      return root.Bokeh\n",
       "    }\n",
       "    return null\n",
       "  }\n",
       "  function is_loaded(root) {\n",
       "    var Bokeh = get_bokeh(root)\n",
       "    return (Bokeh != null && Bokeh.Panel !== undefined && ( root['Plotly'] !== undefined) && ( root['Plotly'] !== undefined))\n",
       "  }\n",
       "  if (is_loaded(root)) {\n",
       "    embed_document(root);\n",
       "  } else {\n",
       "    var attempts = 0;\n",
       "    var timer = setInterval(function(root) {\n",
       "      if (is_loaded(root)) {\n",
       "        clearInterval(timer);\n",
       "        embed_document(root);\n",
       "      } else if (document.readyState == \"complete\") {\n",
       "        attempts++;\n",
       "        if (attempts > 200) {\n",
       "          clearInterval(timer);\n",
       "\t  var Bokeh = get_bokeh(root)\n",
       "\t  if (Bokeh == null || Bokeh.Panel == null) {\n",
       "            console.warn(\"Panel: ERROR: Unable to run Panel code because Bokeh or Panel library is missing\");\n",
       "\t  } else {\n",
       "\t    console.warn(\"Panel: WARNING: Attempting to render but not all required libraries could be resolved.\")\n",
       "\t    embed_document(root)\n",
       "\t  }\n",
       "        }\n",
       "      }\n",
       "    }, 25, root)\n",
       "  }\n",
       "})(window);</script>"
      ]
     },
     "metadata": {
      "application/vnd.holoviews_exec.v0+json": {
       "id": "bda826eb-1de4-465d-bfde-ee2d6e3d03f3"
      }
     },
     "output_type": "display_data"
    }
   ],
   "source": [
    "from clickhouse_connect.datatypes.format import set_read_format\n",
    "import clickhouse_connect\n",
    "import os\n",
    "import panel as pn\n",
    "import polars as pl\n",
    "\n",
    "pn.extension(\"plotly\", template=\"material\", sizing_mode=\"stretch_width\")\n",
    "pl.Config.set_fmt_str_lengths(200)\n",
    "pl.Config.set_fmt_float(\"full\")\n",
    "\n",
    "# Clickhouse Format Settings - https://clickhouse.com/docs/en/integrations/python#read-formats\n",
    "\n",
    "# Return both IPv6 and IPv4 values as strings\n",
    "set_read_format(\"IPv*\", \"string\")\n",
    "\n",
    "# Return binary as string\n",
    "set_read_format(\"FixedString\", \"string\")\n",
    "\n",
    "# sets large ints to floats so that there are no large int overflow errors when converting to polars dataframe\n",
    "set_read_format(\"Int*\", \"float\")\n",
    "\n",
    "# Create ClickHouse client\n",
    "client = clickhouse_connect.get_client(\n",
    "    host=os.environ.get(\"HOST\"),\n",
    "    username=os.environ.get(\"USERNAME\"),\n",
    "    password=os.environ.get(\"PASSWORD\"),\n",
    "    secure=True,\n",
    ")"
   ]
  },
  {
   "cell_type": "code",
   "execution_count": 2,
   "metadata": {},
   "outputs": [],
   "source": [
    "# when blob sidecars are propagated\n",
    "blob_sidecar_query = \"\"\" \n",
    "SELECT \n",
    "    kzg_commitment,\n",
    "    slot,\n",
    "    meta_consensus_implementation,\n",
    "    MIN(slot_start_date_time) AS min_slot_start_date_time,\n",
    "    MIN(event_date_time) AS first_event_time,\n",
    "    MAX(event_date_time) AS last_event_time,\n",
    "    (toUnixTimestamp64Milli(MAX(event_date_time)) - toUnixTimestamp64Milli(MIN(event_date_time))) AS time_diff_milliseconds, -- time difference from when first and last blob was seen. It's put in the query because it's easier to do here\n",
    "    MAX(blob_index) AS max_blob_index\n",
    "FROM beacon_api_eth_v1_events_blob_sidecar \n",
    "WHERE event_date_time > NOW() - INTERVAL '7 DAYS'\n",
    "AND meta_network_name = 'mainnet'\n",
    "GROUP BY kzg_commitment, slot, meta_consensus_implementation\n",
    "\"\"\"\n",
    "blob_sidecar_df = client.query_df(blob_sidecar_query)\n",
    "\n",
    "blob_sidecar_df_pl = pl.from_pandas(blob_sidecar_df)"
   ]
  },
  {
   "cell_type": "code",
   "execution_count": 3,
   "metadata": {},
   "outputs": [],
   "source": [
    "# when validated blocks are propagated\n",
    "block_publish_timing_query = \"\"\" \n",
    "SELECT \n",
    " event_date_time,\n",
    " slot,\n",
    " slot_start_date_time,\n",
    " propagation_slot_start_diff,\n",
    " block,\n",
    " epoch,\n",
    " meta_network_name,\n",
    " meta_consensus_implementation\n",
    "FROM beacon_api_eth_v1_events_block \n",
    "WHERE event_date_time > NOW() - INTERVAL '7 DAYS'\n",
    "AND meta_network_name = 'mainnet'\n",
    "\"\"\"\n",
    "block_publish_timing_df = client.query_df(block_publish_timing_query)\n",
    "\n",
    "block_publish_timing_df_pl = pl.from_pandas(block_publish_timing_df)"
   ]
  },
  {
   "cell_type": "code",
   "execution_count": 74,
   "metadata": {},
   "outputs": [],
   "source": [
    "# canonical beacon block data\n",
    "canonical_beacon_block_query = \"\"\"\n",
    "SELECT \n",
    "    slot,\n",
    "    slot_start_date_time,\n",
    "    block_root as block,\n",
    "    block_total_bytes_compressed,\n",
    "    execution_payload_transactions_total_bytes_compressed,\n",
    "    meta_consensus_implementation\n",
    "FROM canonical_beacon_block FINAL\n",
    "WHERE event_date_time > NOW() - INTERVAL '7 DAYS'\n",
    "AND meta_network_name = 'mainnet'\n",
    "\"\"\"\n",
    "\n",
    "canonical_beacon_block_df = client.query_df(canonical_beacon_block_query)\n",
    "\n",
    "canonical_beacon_block_df_pl = pl.from_pandas(canonical_beacon_block_df)"
   ]
  },
  {
   "cell_type": "code",
   "execution_count": 5,
   "metadata": {},
   "outputs": [],
   "source": [
    "# canonical beacon blob sidecar data\n",
    "canonical_beacon_blob_sidecar_query = \"\"\"\n",
    "SELECT \n",
    "    kzg_commitment,\n",
    "    meta_consensus_implementation,\n",
    "    blob_size,\n",
    "    blob_empty_size\n",
    "FROM canonical_beacon_blob_sidecar\n",
    "WHERE event_date_time > NOW() - INTERVAL '7 DAYS'\n",
    "AND meta_network_name = 'mainnet'\n",
    "\"\"\"\n",
    "\n",
    "canonical_beacon_blob_sidecar_df = client.query_df(canonical_beacon_blob_sidecar_query)\n",
    "\n",
    "canonical_beacon_blob_sidecar_df_pl = pl.from_pandas(canonical_beacon_blob_sidecar_df)"
   ]
  },
  {
   "cell_type": "code",
   "execution_count": 75,
   "metadata": {},
   "outputs": [],
   "source": [
    "# null fields indicate that there were either no blob sidecars or no canonical block data for that slot.\n",
    "# if a row has canonical blobs but no canonical block info, then the block was orphaned https://beaconcha.in/slot/8714624\n",
    "block_sidecar_joined_df = (\n",
    "    block_publish_timing_df_pl\n",
    "    # left join canonical block data\n",
    "    .join(\n",
    "        canonical_beacon_block_df_pl,\n",
    "        on=[\"slot\"],\n",
    "        how=\"left\",\n",
    "        suffix=\"_canonical_block\",\n",
    "    )\n",
    "    # left join blob sidecar data to block publish timing data so slots without sidecars are not excluded.\n",
    "    .join(\n",
    "        blob_sidecar_df_pl,\n",
    "        on=[\"slot\", \"meta_consensus_implementation\"],\n",
    "        how=\"left\",\n",
    "        suffix=\"_sidecar\",\n",
    "    )\n",
    "    .drop(\"min_slot_start_date_time\")\n",
    "    .filter(\n",
    "        # filter outlier datapoints that are longer than the slot time + 500ms\n",
    "        pl.col(\"propagation_slot_start_diff\") < 12500\n",
    "    )\n",
    "    # left join canonical sidecar data\n",
    "    .join(\n",
    "        canonical_beacon_blob_sidecar_df_pl,\n",
    "        on=[\"kzg_commitment\", \"meta_consensus_implementation\"],\n",
    "        how=\"left\",\n",
    "        suffix=\"_canonical_blob\",\n",
    "    )\n",
    "    .fill_null(-1)\n",
    ")"
   ]
  },
  {
   "cell_type": "code",
   "execution_count": 77,
   "metadata": {},
   "outputs": [],
   "source": [
    "block_sidecar_joined_df.write_parquet(\"cached_cl_7day.parquet\")\n",
    "\n",
    "# block_sidecar_joined_df = pl.read_parquet(\"cached_cl_7day.parquet\")"
   ]
  },
  {
   "cell_type": "code",
   "execution_count": 78,
   "metadata": {},
   "outputs": [
    {
     "data": {
      "text/html": [
       "<div><style>\n",
       ".dataframe > thead > tr,\n",
       ".dataframe > tbody > tr {\n",
       "  text-align: right;\n",
       "  white-space: pre-wrap;\n",
       "}\n",
       "</style>\n",
       "<small>shape: (5, 20)</small><table border=\"1\" class=\"dataframe\"><thead><tr><th>event_date_time</th><th>slot</th><th>slot_start_date_time</th><th>propagation_slot_start_diff</th><th>block</th><th>epoch</th><th>meta_network_name</th><th>meta_consensus_implementation</th><th>slot_start_date_time_canonical_block</th><th>block_canonical_block</th><th>block_total_bytes_compressed</th><th>execution_payload_transactions_total_bytes_compressed</th><th>meta_consensus_implementation_canonical_block</th><th>kzg_commitment</th><th>first_event_time</th><th>last_event_time</th><th>time_diff_milliseconds</th><th>max_blob_index</th><th>blob_size</th><th>blob_empty_size</th></tr><tr><td>datetime[ms]</td><td>i64</td><td>datetime[ms]</td><td>i64</td><td>str</td><td>i64</td><td>str</td><td>str</td><td>datetime[ms]</td><td>str</td><td>i64</td><td>i64</td><td>str</td><td>str</td><td>datetime[ms]</td><td>datetime[ms]</td><td>i64</td><td>f64</td><td>i64</td><td>i64</td></tr></thead><tbody><tr><td>2024-03-19 21:24:37.061</td><td>8671621</td><td>2024-03-19 21:24:35</td><td>2061</td><td>&quot;0xf37ad1c1e9b047a9c7c89d94a3edde78302a0ba2b8c652557672832c9ff77a15&quot;</td><td>270988</td><td>&quot;mainnet&quot;</td><td>&quot;lodestar&quot;</td><td>null</td><td>null</td><td>-1</td><td>-1</td><td>null</td><td>null</td><td>null</td><td>null</td><td>-1</td><td>-1</td><td>-1</td><td>-1</td></tr><tr><td>2024-03-19 21:24:48.387</td><td>8671622</td><td>2024-03-19 21:24:47</td><td>1387</td><td>&quot;0x6ede6dfafb23e18e3f3b598d03336d55f82220420b08dcca5e21cac4a2759fa0&quot;</td><td>270988</td><td>&quot;mainnet&quot;</td><td>&quot;lighthouse&quot;</td><td>null</td><td>null</td><td>-1</td><td>-1</td><td>null</td><td>null</td><td>null</td><td>null</td><td>-1</td><td>-1</td><td>-1</td><td>-1</td></tr><tr><td>2024-03-19 21:24:48.602</td><td>8671622</td><td>2024-03-19 21:24:47</td><td>1602</td><td>&quot;0x6ede6dfafb23e18e3f3b598d03336d55f82220420b08dcca5e21cac4a2759fa0&quot;</td><td>270988</td><td>&quot;mainnet&quot;</td><td>&quot;lodestar&quot;</td><td>null</td><td>null</td><td>-1</td><td>-1</td><td>null</td><td>null</td><td>null</td><td>null</td><td>-1</td><td>-1</td><td>-1</td><td>-1</td></tr><tr><td>2024-03-19 21:24:48.316</td><td>8671622</td><td>2024-03-19 21:24:47</td><td>1316</td><td>&quot;0x6ede6dfafb23e18e3f3b598d03336d55f82220420b08dcca5e21cac4a2759fa0&quot;</td><td>270988</td><td>&quot;mainnet&quot;</td><td>&quot;nimbus&quot;</td><td>null</td><td>null</td><td>-1</td><td>-1</td><td>null</td><td>null</td><td>null</td><td>null</td><td>-1</td><td>-1</td><td>-1</td><td>-1</td></tr><tr><td>2024-03-19 21:24:48.292</td><td>8671622</td><td>2024-03-19 21:24:47</td><td>1292</td><td>&quot;0x6ede6dfafb23e18e3f3b598d03336d55f82220420b08dcca5e21cac4a2759fa0&quot;</td><td>270988</td><td>&quot;mainnet&quot;</td><td>&quot;prysm&quot;</td><td>null</td><td>null</td><td>-1</td><td>-1</td><td>null</td><td>null</td><td>null</td><td>null</td><td>-1</td><td>-1</td><td>-1</td><td>-1</td></tr></tbody></table></div>"
      ],
      "text/plain": [
       "shape: (5, 20)\n",
       "┌────────────┬─────────┬───────────┬───────────┬───┬───────────┬───────────┬───────────┬───────────┐\n",
       "│ event_date ┆ slot    ┆ slot_star ┆ propagati ┆ … ┆ time_diff ┆ max_blob_ ┆ blob_size ┆ blob_empt │\n",
       "│ _time      ┆ ---     ┆ t_date_ti ┆ on_slot_s ┆   ┆ _millisec ┆ index     ┆ ---       ┆ y_size    │\n",
       "│ ---        ┆ i64     ┆ me        ┆ tart_diff ┆   ┆ onds      ┆ ---       ┆ i64       ┆ ---       │\n",
       "│ datetime[m ┆         ┆ ---       ┆ ---       ┆   ┆ ---       ┆ f64       ┆           ┆ i64       │\n",
       "│ s]         ┆         ┆ datetime[ ┆ i64       ┆   ┆ i64       ┆           ┆           ┆           │\n",
       "│            ┆         ┆ ms]       ┆           ┆   ┆           ┆           ┆           ┆           │\n",
       "╞════════════╪═════════╪═══════════╪═══════════╪═══╪═══════════╪═══════════╪═══════════╪═══════════╡\n",
       "│ 2024-03-19 ┆ 8671621 ┆ 2024-03-1 ┆ 2061      ┆ … ┆ -1        ┆ -1        ┆ -1        ┆ -1        │\n",
       "│ 21:24:37.0 ┆         ┆ 9         ┆           ┆   ┆           ┆           ┆           ┆           │\n",
       "│ 61         ┆         ┆ 21:24:35  ┆           ┆   ┆           ┆           ┆           ┆           │\n",
       "│ 2024-03-19 ┆ 8671622 ┆ 2024-03-1 ┆ 1387      ┆ … ┆ -1        ┆ -1        ┆ -1        ┆ -1        │\n",
       "│ 21:24:48.3 ┆         ┆ 9         ┆           ┆   ┆           ┆           ┆           ┆           │\n",
       "│ 87         ┆         ┆ 21:24:47  ┆           ┆   ┆           ┆           ┆           ┆           │\n",
       "│ 2024-03-19 ┆ 8671622 ┆ 2024-03-1 ┆ 1602      ┆ … ┆ -1        ┆ -1        ┆ -1        ┆ -1        │\n",
       "│ 21:24:48.6 ┆         ┆ 9         ┆           ┆   ┆           ┆           ┆           ┆           │\n",
       "│ 02         ┆         ┆ 21:24:47  ┆           ┆   ┆           ┆           ┆           ┆           │\n",
       "│ 2024-03-19 ┆ 8671622 ┆ 2024-03-1 ┆ 1316      ┆ … ┆ -1        ┆ -1        ┆ -1        ┆ -1        │\n",
       "│ 21:24:48.3 ┆         ┆ 9         ┆           ┆   ┆           ┆           ┆           ┆           │\n",
       "│ 16         ┆         ┆ 21:24:47  ┆           ┆   ┆           ┆           ┆           ┆           │\n",
       "│ 2024-03-19 ┆ 8671622 ┆ 2024-03-1 ┆ 1292      ┆ … ┆ -1        ┆ -1        ┆ -1        ┆ -1        │\n",
       "│ 21:24:48.2 ┆         ┆ 9         ┆           ┆   ┆           ┆           ┆           ┆           │\n",
       "│ 92         ┆         ┆ 21:24:47  ┆           ┆   ┆           ┆           ┆           ┆           │\n",
       "└────────────┴─────────┴───────────┴───────────┴───┴───────────┴───────────┴───────────┴───────────┘"
      ]
     },
     "execution_count": 78,
     "metadata": {},
     "output_type": "execute_result"
    }
   ],
   "source": [
    "block_sidecar_joined_df.head(5)"
   ]
  },
  {
   "cell_type": "code",
   "execution_count": 79,
   "metadata": {},
   "outputs": [],
   "source": [
    "# there's a clear correlation between blocks with less sidecars and faster block propagation times.\n",
    "block_blob_table = (\n",
    "    block_sidecar_joined_df\n",
    "    .group_by(\"max_blob_index\", \"meta_consensus_implementation\")\n",
    "    .agg(\n",
    "        # aggregate count\n",
    "        pl.len().alias(\"count\"),\n",
    "        # propagation timing\n",
    "        pl.col(\"propagation_slot_start_diff\")\n",
    "        .mean()\n",
    "        .alias(\"mean_propagation_slot_start_diff\"),\n",
    "        # size\n",
    "        pl.col(\"block_total_bytes_compressed\").mean().alias(\n",
    "            \"mean_block_size_compressed\"),\n",
    "        pl.col(\"blob_size\").first().alias(\"blob_size\"),\n",
    "    )\n",
    "    .with_columns([\n",
    "        (pl.col('blob_size') / 1000 * \\\n",
    "         (1 + pl.col('max_blob_index'))).alias('total_blob_size'),\n",
    "        (pl.col('mean_block_size_compressed') / 1000),\n",
    "    ]\n",
    "    )\n",
    ").drop('blob_size', 'total_blob_size').sort(by=\"mean_propagation_slot_start_diff\", descending=True)"
   ]
  },
  {
   "cell_type": "code",
   "execution_count": 80,
   "metadata": {},
   "outputs": [
    {
     "data": {
      "text/html": [
       "<div><style>\n",
       ".dataframe > thead > tr,\n",
       ".dataframe > tbody > tr {\n",
       "  text-align: right;\n",
       "  white-space: pre-wrap;\n",
       "}\n",
       "</style>\n",
       "<small>shape: (35, 5)</small><table border=\"1\" class=\"dataframe\"><thead><tr><th>max_blob_index</th><th>meta_consensus_implementation</th><th>count</th><th>mean_propagation_slot_start_diff</th><th>mean_block_size_compressed</th></tr><tr><td>f64</td><td>str</td><td>u32</td><td>f64</td><td>f64</td></tr></thead><tbody><tr><td>5</td><td>&quot;nimbus&quot;</td><td>25968</td><td>3557.7064078866297</td><td>115.25338108441159</td></tr><tr><td>4</td><td>&quot;nimbus&quot;</td><td>26260</td><td>3554.8174409748667</td><td>115.61199466869763</td></tr><tr><td>3</td><td>&quot;nimbus&quot;</td><td>27930</td><td>3536.2558897243107</td><td>115.07142201933405</td></tr><tr><td>2</td><td>&quot;nimbus&quot;</td><td>32118</td><td>3473.210598418332</td><td>117.85747752039354</td></tr><tr><td>1</td><td>&quot;nimbus&quot;</td><td>41346</td><td>3379.301746239056</td><td>120.69229981134814</td></tr><tr><td>&hellip;</td><td>&hellip;</td><td>&hellip;</td><td>&hellip;</td><td>&hellip;</td></tr><tr><td>0</td><td>&quot;lighthouse&quot;</td><td>68727</td><td>2690.6343067498947</td><td>128.37832656743348</td></tr><tr><td>-1</td><td>&quot;lodestar&quot;</td><td>180216</td><td>2629.438213033249</td><td>121.79094360656103</td></tr><tr><td>-1</td><td>&quot;nimbus&quot;</td><td>156862</td><td>2588.044338335607</td><td>128.07152976501638</td></tr><tr><td>-1</td><td>&quot;lighthouse&quot;</td><td>156618</td><td>2302.966874816432</td><td>128.05060629684965</td></tr><tr><td>-1</td><td>&quot;teku&quot;</td><td>156501</td><td>2164.1407339250227</td><td>128.03671850020126</td></tr></tbody></table></div>"
      ],
      "text/plain": [
       "shape: (35, 5)\n",
       "┌────────────────┬────────────────────────┬────────┬───────────────────────┬───────────────────────┐\n",
       "│ max_blob_index ┆ meta_consensus_impleme ┆ count  ┆ mean_propagation_slot ┆ mean_block_size_compr │\n",
       "│ ---            ┆ ntation                ┆ ---    ┆ _start_diff           ┆ essed                 │\n",
       "│ f64            ┆ ---                    ┆ u32    ┆ ---                   ┆ ---                   │\n",
       "│                ┆ str                    ┆        ┆ f64                   ┆ f64                   │\n",
       "╞════════════════╪════════════════════════╪════════╪═══════════════════════╪═══════════════════════╡\n",
       "│ 5              ┆ nimbus                 ┆ 25968  ┆ 3557.7064078866297    ┆ 115.25338108441159    │\n",
       "│ 4              ┆ nimbus                 ┆ 26260  ┆ 3554.8174409748667    ┆ 115.61199466869763    │\n",
       "│ 3              ┆ nimbus                 ┆ 27930  ┆ 3536.2558897243107    ┆ 115.07142201933405    │\n",
       "│ 2              ┆ nimbus                 ┆ 32118  ┆ 3473.210598418332     ┆ 117.85747752039354    │\n",
       "│ 1              ┆ nimbus                 ┆ 41346  ┆ 3379.301746239056     ┆ 120.69229981134814    │\n",
       "│ …              ┆ …                      ┆ …      ┆ …                     ┆ …                     │\n",
       "│ 0              ┆ lighthouse             ┆ 68727  ┆ 2690.6343067498947    ┆ 128.37832656743348    │\n",
       "│ -1             ┆ lodestar               ┆ 180216 ┆ 2629.438213033249     ┆ 121.79094360656103    │\n",
       "│ -1             ┆ nimbus                 ┆ 156862 ┆ 2588.044338335607     ┆ 128.07152976501638    │\n",
       "│ -1             ┆ lighthouse             ┆ 156618 ┆ 2302.966874816432     ┆ 128.05060629684965    │\n",
       "│ -1             ┆ teku                   ┆ 156501 ┆ 2164.1407339250227    ┆ 128.03671850020126    │\n",
       "└────────────────┴────────────────────────┴────────┴───────────────────────┴───────────────────────┘"
      ]
     },
     "execution_count": 80,
     "metadata": {},
     "output_type": "execute_result"
    }
   ],
   "source": [
    "block_blob_table"
   ]
  },
  {
   "cell_type": "code",
   "execution_count": 82,
   "metadata": {},
   "outputs": [
    {
     "name": "stderr",
     "output_type": "stream",
     "text": [
      "WARNING:param.main: y_label option not found for line plot with bokeh; similar options include: ['ylabel', 'xlabel', 'clabel']\n"
     ]
    },
    {
     "data": {},
     "metadata": {},
     "output_type": "display_data"
    },
    {
     "data": {
      "application/vnd.holoviews_exec.v0+json": "",
      "text/html": [
       "<div id='eabd8778-8c7e-4dea-b0e1-3677cc2e1078'>\n",
       "  <div id=\"e8bd57ec-ed53-4382-9cd6-4f844de26a7c\" data-root-id=\"eabd8778-8c7e-4dea-b0e1-3677cc2e1078\" style=\"display: contents;\"></div>\n",
       "</div>\n",
       "<script type=\"application/javascript\">(function(root) {\n",
       "  var docs_json = {\"6c2bf2cb-0486-4655-9820-429f3818049e\":{\"version\":\"3.3.4\",\"title\":\"Bokeh Application\",\"roots\":[{\"type\":\"object\",\"name\":\"Row\",\"id\":\"eabd8778-8c7e-4dea-b0e1-3677cc2e1078\",\"attributes\":{\"name\":\"Row03003\",\"tags\":[\"embedded\"],\"stylesheets\":[\"\\n:host(.pn-loading.pn-arc):before, .pn-loading.pn-arc:before {\\n  background-image: url(\\\"data:image/svg+xml;base64,PHN2ZyB4bWxucz0iaHR0cDovL3d3dy53My5vcmcvMjAwMC9zdmciIHN0eWxlPSJtYXJnaW46IGF1dG87IGJhY2tncm91bmQ6IG5vbmU7IGRpc3BsYXk6IGJsb2NrOyBzaGFwZS1yZW5kZXJpbmc6IGF1dG87IiB2aWV3Qm94PSIwIDAgMTAwIDEwMCIgcHJlc2VydmVBc3BlY3RSYXRpbz0ieE1pZFlNaWQiPiAgPGNpcmNsZSBjeD0iNTAiIGN5PSI1MCIgZmlsbD0ibm9uZSIgc3Ryb2tlPSIjYzNjM2MzIiBzdHJva2Utd2lkdGg9IjEwIiByPSIzNSIgc3Ryb2tlLWRhc2hhcnJheT0iMTY0LjkzMzYxNDMxMzQ2NDE1IDU2Ljk3Nzg3MTQzNzgyMTM4Ij4gICAgPGFuaW1hdGVUcmFuc2Zvcm0gYXR0cmlidXRlTmFtZT0idHJhbnNmb3JtIiB0eXBlPSJyb3RhdGUiIHJlcGVhdENvdW50PSJpbmRlZmluaXRlIiBkdXI9IjFzIiB2YWx1ZXM9IjAgNTAgNTA7MzYwIDUwIDUwIiBrZXlUaW1lcz0iMDsxIj48L2FuaW1hdGVUcmFuc2Zvcm0+ICA8L2NpcmNsZT48L3N2Zz4=\\\");\\n  background-size: auto calc(min(50%, 400px));\\n}\",{\"type\":\"object\",\"name\":\"ImportedStyleSheet\",\"id\":\"560d6615-288f-448c-90bc-c8a96f0cb6ab\",\"attributes\":{\"url\":\"https://cdn.holoviz.org/panel/1.3.8/dist/css/loading.css\"}},{\"type\":\"object\",\"name\":\"ImportedStyleSheet\",\"id\":\"5e7dbf23-4809-4feb-9102-b04a4c8752bb\",\"attributes\":{\"url\":\"https://cdn.holoviz.org/panel/1.3.8/dist/css/listpanel.css\"}},{\"type\":\"object\",\"name\":\"ImportedStyleSheet\",\"id\":\"343a8267-5986-49b6-84b4-b60eefd9fef9\",\"attributes\":{\"url\":\"https://cdn.holoviz.org/panel/1.3.8/dist/bundled/theme/default.css\"}},{\"type\":\"object\",\"name\":\"ImportedStyleSheet\",\"id\":\"bc9d8b83-10a3-45b1-b727-753e02d3a455\",\"attributes\":{\"url\":\"https://cdn.holoviz.org/panel/1.3.8/dist/bundled/theme/native.css\"}}],\"min_width\":700,\"margin\":0,\"sizing_mode\":\"stretch_width\",\"align\":\"start\",\"children\":[{\"type\":\"object\",\"name\":\"Spacer\",\"id\":\"2a760535-1bac-4c8b-a6f5-29362f050b16\",\"attributes\":{\"name\":\"HSpacer03010\",\"stylesheets\":[\"\\n:host(.pn-loading.pn-arc):before, .pn-loading.pn-arc:before {\\n  background-image: url(\\\"data:image/svg+xml;base64,PHN2ZyB4bWxucz0iaHR0cDovL3d3dy53My5vcmcvMjAwMC9zdmciIHN0eWxlPSJtYXJnaW46IGF1dG87IGJhY2tncm91bmQ6IG5vbmU7IGRpc3BsYXk6IGJsb2NrOyBzaGFwZS1yZW5kZXJpbmc6IGF1dG87IiB2aWV3Qm94PSIwIDAgMTAwIDEwMCIgcHJlc2VydmVBc3BlY3RSYXRpbz0ieE1pZFlNaWQiPiAgPGNpcmNsZSBjeD0iNTAiIGN5PSI1MCIgZmlsbD0ibm9uZSIgc3Ryb2tlPSIjYzNjM2MzIiBzdHJva2Utd2lkdGg9IjEwIiByPSIzNSIgc3Ryb2tlLWRhc2hhcnJheT0iMTY0LjkzMzYxNDMxMzQ2NDE1IDU2Ljk3Nzg3MTQzNzgyMTM4Ij4gICAgPGFuaW1hdGVUcmFuc2Zvcm0gYXR0cmlidXRlTmFtZT0idHJhbnNmb3JtIiB0eXBlPSJyb3RhdGUiIHJlcGVhdENvdW50PSJpbmRlZmluaXRlIiBkdXI9IjFzIiB2YWx1ZXM9IjAgNTAgNTA7MzYwIDUwIDUwIiBrZXlUaW1lcz0iMDsxIj48L2FuaW1hdGVUcmFuc2Zvcm0+ICA8L2NpcmNsZT48L3N2Zz4=\\\");\\n  background-size: auto calc(min(50%, 400px));\\n}\",{\"id\":\"560d6615-288f-448c-90bc-c8a96f0cb6ab\"},{\"id\":\"343a8267-5986-49b6-84b4-b60eefd9fef9\"},{\"id\":\"bc9d8b83-10a3-45b1-b727-753e02d3a455\"}],\"margin\":0,\"sizing_mode\":\"stretch_width\",\"align\":\"start\"}},{\"type\":\"object\",\"name\":\"Figure\",\"id\":\"54cf2db8-731d-4e83-8230-f08b5a8a91aa\",\"attributes\":{\"width\":700,\"height\":300,\"margin\":[5,10],\"sizing_mode\":\"fixed\",\"align\":\"start\",\"x_range\":{\"type\":\"object\",\"name\":\"Range1d\",\"id\":\"57e858df-aa7b-4f56-8551-692ea0c091ea\",\"attributes\":{\"tags\":[[[\"max_blob_index\",\"max_blob_index\",null]],[]],\"start\":-1.0,\"end\":5.0,\"reset_start\":-1.0,\"reset_end\":5.0}},\"y_range\":{\"type\":\"object\",\"name\":\"Range1d\",\"id\":\"d8d17fca-0c05-4892-a1d4-20cfb5ea2b33\",\"attributes\":{\"tags\":[[[\"value\",\"value\",null]],{\"type\":\"map\",\"entries\":[[\"invert_yaxis\",false],[\"autorange\",false]]}],\"start\":2024.784166528862,\"end\":3697.0629752827904,\"reset_start\":2024.784166528862,\"reset_end\":3697.0629752827904}},\"x_scale\":{\"type\":\"object\",\"name\":\"LinearScale\",\"id\":\"968ff279-cce5-4e51-859b-86458a63602c\"},\"y_scale\":{\"type\":\"object\",\"name\":\"LinearScale\",\"id\":\"6b56c74c-37fa-4570-8567-3c856ed53e42\"},\"title\":{\"type\":\"object\",\"name\":\"Title\",\"id\":\"6d2d1038-76d4-4440-b9a9-20b9ce46f557\",\"attributes\":{\"text\":\"Mean Block Propagation Time per Client\",\"text_color\":\"black\",\"text_font_size\":\"12pt\"}},\"renderers\":[{\"type\":\"object\",\"name\":\"GlyphRenderer\",\"id\":\"4c6455c1-0cd1-4a0e-b079-82fad716921b\",\"attributes\":{\"name\":\"lighthouse\",\"data_source\":{\"type\":\"object\",\"name\":\"ColumnDataSource\",\"id\":\"7168fbc5-5d0e-45f6-9682-5b077548dd9e\",\"attributes\":{\"selected\":{\"type\":\"object\",\"name\":\"Selection\",\"id\":\"98cf34c5-cd6f-4297-a87a-4beea47319d2\",\"attributes\":{\"indices\":[],\"line_indices\":[]}},\"selection_policy\":{\"type\":\"object\",\"name\":\"UnionRenderers\",\"id\":\"28656479-6708-4c13-a808-22ceba9db3c2\"},\"data\":{\"type\":\"map\",\"entries\":[[\"max_blob_index\",{\"type\":\"ndarray\",\"array\":{\"type\":\"bytes\",\"data\":\"AAAAAAAAFEAAAAAAAAAQQAAAAAAAAAhAAAAAAAAAAEAAAAAAAADwPwAAAAAAAAAAAAAAAAAA8L8=\"},\"shape\":[7],\"dtype\":\"float64\",\"order\":\"little\"}],[\"value\",{\"type\":\"ndarray\",\"array\":{\"type\":\"bytes\",\"data\":\"kDDqXInppUDO8pUBL9ulQKKElHIsuaVA63bELul9pUBZMO4UzxKlQNy02sNEBaVAzkc3Cu/9oUA=\"},\"shape\":[7],\"dtype\":\"float64\",\"order\":\"little\"}],[\"Variable\",[\"lighthouse\",\"lighthouse\",\"lighthouse\",\"lighthouse\",\"lighthouse\",\"lighthouse\",\"lighthouse\"]]]}}},\"view\":{\"type\":\"object\",\"name\":\"CDSView\",\"id\":\"ed564cdd-605b-4fdc-8995-d8b09ec9a73e\",\"attributes\":{\"filter\":{\"type\":\"object\",\"name\":\"AllIndices\",\"id\":\"f3ce2523-afc6-434e-8567-09a01ea64796\"}}},\"glyph\":{\"type\":\"object\",\"name\":\"Line\",\"id\":\"f3aa332e-d467-4941-85f2-605f28b1370a\",\"attributes\":{\"tags\":[\"apply_ranges\"],\"x\":{\"type\":\"field\",\"field\":\"max_blob_index\"},\"y\":{\"type\":\"field\",\"field\":\"value\"},\"line_color\":\"#30a2da\",\"line_width\":2}},\"selection_glyph\":{\"type\":\"object\",\"name\":\"Line\",\"id\":\"49849b46-5cd2-42e7-882f-fb75b08d2aa6\",\"attributes\":{\"tags\":[\"apply_ranges\"],\"x\":{\"type\":\"field\",\"field\":\"max_blob_index\"},\"y\":{\"type\":\"field\",\"field\":\"value\"},\"line_color\":\"#30a2da\",\"line_width\":2}},\"nonselection_glyph\":{\"type\":\"object\",\"name\":\"Line\",\"id\":\"95c12dee-0c6f-4300-919b-5ff87a437be5\",\"attributes\":{\"tags\":[\"apply_ranges\"],\"x\":{\"type\":\"field\",\"field\":\"max_blob_index\"},\"y\":{\"type\":\"field\",\"field\":\"value\"},\"line_color\":\"#30a2da\",\"line_alpha\":0.1,\"line_width\":2}},\"muted_glyph\":{\"type\":\"object\",\"name\":\"Line\",\"id\":\"72c1a05d-47b4-4fac-a435-89381f5b5776\",\"attributes\":{\"tags\":[\"apply_ranges\"],\"x\":{\"type\":\"field\",\"field\":\"max_blob_index\"},\"y\":{\"type\":\"field\",\"field\":\"value\"},\"line_color\":\"#30a2da\",\"line_alpha\":0.2,\"line_width\":2}}}},{\"type\":\"object\",\"name\":\"GlyphRenderer\",\"id\":\"952ad06b-2988-4365-87b1-6dcc9c41e122\",\"attributes\":{\"name\":\"prysm\",\"data_source\":{\"type\":\"object\",\"name\":\"ColumnDataSource\",\"id\":\"88e5f5e3-9056-4f15-8ea5-28645104e988\",\"attributes\":{\"selected\":{\"type\":\"object\",\"name\":\"Selection\",\"id\":\"c278ca7f-7a75-4023-810f-fc8a8bc6865a\",\"attributes\":{\"indices\":[],\"line_indices\":[]}},\"selection_policy\":{\"type\":\"object\",\"name\":\"UnionRenderers\",\"id\":\"30443da0-0055-4173-91b2-60701c3a68e6\"},\"data\":{\"type\":\"map\",\"entries\":[[\"max_blob_index\",{\"type\":\"ndarray\",\"array\":{\"type\":\"bytes\",\"data\":\"AAAAAAAAFEAAAAAAAAAQQAAAAAAAAAhAAAAAAAAAAEAAAAAAAADwPwAAAAAAAAAAAAAAAAAA8L8=\"},\"shape\":[7],\"dtype\":\"float64\",\"order\":\"little\"}],[\"value\",{\"type\":\"ndarray\",\"array\":{\"type\":\"bytes\",\"data\":\"DY4W3o4GqkCYVaAflQSqQJ/UM4o87KlAp0Jd2yW0qUDEQCKKV2GpQOLZ18mCWqlAcR/vR2NJpkA=\"},\"shape\":[7],\"dtype\":\"float64\",\"order\":\"little\"}],[\"Variable\",[\"prysm\",\"prysm\",\"prysm\",\"prysm\",\"prysm\",\"prysm\",\"prysm\"]]]}}},\"view\":{\"type\":\"object\",\"name\":\"CDSView\",\"id\":\"72aff940-854c-4060-a353-f032b03d6931\",\"attributes\":{\"filter\":{\"type\":\"object\",\"name\":\"AllIndices\",\"id\":\"5348b850-e94c-4a55-bc5f-2fd52363379e\"}}},\"glyph\":{\"type\":\"object\",\"name\":\"Line\",\"id\":\"b6ac98ab-6845-4b86-bd79-e7576500c619\",\"attributes\":{\"tags\":[\"apply_ranges\"],\"x\":{\"type\":\"field\",\"field\":\"max_blob_index\"},\"y\":{\"type\":\"field\",\"field\":\"value\"},\"line_color\":\"#fc4f30\",\"line_width\":2}},\"selection_glyph\":{\"type\":\"object\",\"name\":\"Line\",\"id\":\"94ff4c83-4bd4-46ca-ad25-0f9d26eaaefc\",\"attributes\":{\"tags\":[\"apply_ranges\"],\"x\":{\"type\":\"field\",\"field\":\"max_blob_index\"},\"y\":{\"type\":\"field\",\"field\":\"value\"},\"line_color\":\"#fc4f30\",\"line_width\":2}},\"nonselection_glyph\":{\"type\":\"object\",\"name\":\"Line\",\"id\":\"3995c2a0-6908-43d0-80b9-048db9759ff8\",\"attributes\":{\"tags\":[\"apply_ranges\"],\"x\":{\"type\":\"field\",\"field\":\"max_blob_index\"},\"y\":{\"type\":\"field\",\"field\":\"value\"},\"line_color\":\"#fc4f30\",\"line_alpha\":0.1,\"line_width\":2}},\"muted_glyph\":{\"type\":\"object\",\"name\":\"Line\",\"id\":\"f5fc1694-7b9b-480c-a63b-5a98005092fe\",\"attributes\":{\"tags\":[\"apply_ranges\"],\"x\":{\"type\":\"field\",\"field\":\"max_blob_index\"},\"y\":{\"type\":\"field\",\"field\":\"value\"},\"line_color\":\"#fc4f30\",\"line_alpha\":0.2,\"line_width\":2}}}},{\"type\":\"object\",\"name\":\"GlyphRenderer\",\"id\":\"30905c1c-a4cb-4cfc-b8ac-57c118000612\",\"attributes\":{\"name\":\"teku\",\"data_source\":{\"type\":\"object\",\"name\":\"ColumnDataSource\",\"id\":\"0b6cdd15-8014-41d0-9428-98e27d6a79c2\",\"attributes\":{\"selected\":{\"type\":\"object\",\"name\":\"Selection\",\"id\":\"0883fbfd-dadb-47d7-8ea7-a159f7ad3ebb\",\"attributes\":{\"indices\":[],\"line_indices\":[]}},\"selection_policy\":{\"type\":\"object\",\"name\":\"UnionRenderers\",\"id\":\"9b428146-f85d-4120-bce2-b852bd28b9d0\"},\"data\":{\"type\":\"map\",\"entries\":[[\"max_blob_index\",{\"type\":\"ndarray\",\"array\":{\"type\":\"bytes\",\"data\":\"AAAAAAAAFEAAAAAAAAAQQAAAAAAAAAhAAAAAAAAAAEAAAAAAAADwPwAAAAAAAAAAAAAAAAAA8L8=\"},\"shape\":[7],\"dtype\":\"float64\",\"order\":\"little\"}],[\"value\",{\"type\":\"ndarray\",\"array\":{\"type\":\"bytes\",\"data\":\"roCsuUZwqUDSTpkNJmipQC0QnK3YOalArCRxdzWYqECEcxLmzninQMI+hkfXR6dA0upGDkjooEA=\"},\"shape\":[7],\"dtype\":\"float64\",\"order\":\"little\"}],[\"Variable\",[\"teku\",\"teku\",\"teku\",\"teku\",\"teku\",\"teku\",\"teku\"]]]}}},\"view\":{\"type\":\"object\",\"name\":\"CDSView\",\"id\":\"3888818c-460d-4648-8e5a-331e68af1e23\",\"attributes\":{\"filter\":{\"type\":\"object\",\"name\":\"AllIndices\",\"id\":\"35c9f2b2-d817-4242-91e0-a667a652b9cc\"}}},\"glyph\":{\"type\":\"object\",\"name\":\"Line\",\"id\":\"66cfd4d1-6688-4f13-9d0c-d2caad26eeca\",\"attributes\":{\"tags\":[\"apply_ranges\"],\"x\":{\"type\":\"field\",\"field\":\"max_blob_index\"},\"y\":{\"type\":\"field\",\"field\":\"value\"},\"line_color\":\"#e5ae38\",\"line_width\":2}},\"selection_glyph\":{\"type\":\"object\",\"name\":\"Line\",\"id\":\"dfcab44b-3785-4e6e-a6da-eea4827d0d06\",\"attributes\":{\"tags\":[\"apply_ranges\"],\"x\":{\"type\":\"field\",\"field\":\"max_blob_index\"},\"y\":{\"type\":\"field\",\"field\":\"value\"},\"line_color\":\"#e5ae38\",\"line_width\":2}},\"nonselection_glyph\":{\"type\":\"object\",\"name\":\"Line\",\"id\":\"ccd2fb78-9d12-4bed-9b3b-d09f8766ba31\",\"attributes\":{\"tags\":[\"apply_ranges\"],\"x\":{\"type\":\"field\",\"field\":\"max_blob_index\"},\"y\":{\"type\":\"field\",\"field\":\"value\"},\"line_color\":\"#e5ae38\",\"line_alpha\":0.1,\"line_width\":2}},\"muted_glyph\":{\"type\":\"object\",\"name\":\"Line\",\"id\":\"7775c628-bc71-47cb-a516-8d7ab5749b39\",\"attributes\":{\"tags\":[\"apply_ranges\"],\"x\":{\"type\":\"field\",\"field\":\"max_blob_index\"},\"y\":{\"type\":\"field\",\"field\":\"value\"},\"line_color\":\"#e5ae38\",\"line_alpha\":0.2,\"line_width\":2}}}},{\"type\":\"object\",\"name\":\"GlyphRenderer\",\"id\":\"488cb768-c2c0-428e-b0a9-3b1cbf17c680\",\"attributes\":{\"name\":\"lodestar\",\"data_source\":{\"type\":\"object\",\"name\":\"ColumnDataSource\",\"id\":\"b782eb1e-fb36-43c1-8934-4e6d9cda7604\",\"attributes\":{\"selected\":{\"type\":\"object\",\"name\":\"Selection\",\"id\":\"499962b4-1630-4dce-9084-b1023d1c4fed\",\"attributes\":{\"indices\":[],\"line_indices\":[]}},\"selection_policy\":{\"type\":\"object\",\"name\":\"UnionRenderers\",\"id\":\"48c00f0d-74f4-4ea4-a6e6-6de2cbe23a62\"},\"data\":{\"type\":\"map\",\"entries\":[[\"max_blob_index\",{\"type\":\"ndarray\",\"array\":{\"type\":\"bytes\",\"data\":\"AAAAAAAAFEAAAAAAAAAQQAAAAAAAAAhAAAAAAAAAAEAAAAAAAADwPwAAAAAAAAAAAAAAAAAA8L8=\"},\"shape\":[7],\"dtype\":\"float64\",\"order\":\"little\"}],[\"value\",{\"type\":\"ndarray\",\"array\":{\"type\":\"bytes\",\"data\":\"ltjceIc1qkDabF1Jbi+qQJ0GAc4z5alAAeEx3XQzqUD1tyUri2moQIHdOTPRPKhA+Wx1XeCKpEA=\"},\"shape\":[7],\"dtype\":\"float64\",\"order\":\"little\"}],[\"Variable\",[\"lodestar\",\"lodestar\",\"lodestar\",\"lodestar\",\"lodestar\",\"lodestar\",\"lodestar\"]]]}}},\"view\":{\"type\":\"object\",\"name\":\"CDSView\",\"id\":\"b7e3df59-c011-48fa-b04f-5b889c3a0b1e\",\"attributes\":{\"filter\":{\"type\":\"object\",\"name\":\"AllIndices\",\"id\":\"4a34fe39-a06a-416a-855a-6f9844f0c2ed\"}}},\"glyph\":{\"type\":\"object\",\"name\":\"Line\",\"id\":\"b1423376-6130-46ca-9e15-49c961a02184\",\"attributes\":{\"tags\":[\"apply_ranges\"],\"x\":{\"type\":\"field\",\"field\":\"max_blob_index\"},\"y\":{\"type\":\"field\",\"field\":\"value\"},\"line_color\":\"#6d904f\",\"line_width\":2}},\"selection_glyph\":{\"type\":\"object\",\"name\":\"Line\",\"id\":\"a6e498b0-93ac-4f04-ab03-d98e7c0f7020\",\"attributes\":{\"tags\":[\"apply_ranges\"],\"x\":{\"type\":\"field\",\"field\":\"max_blob_index\"},\"y\":{\"type\":\"field\",\"field\":\"value\"},\"line_color\":\"#6d904f\",\"line_width\":2}},\"nonselection_glyph\":{\"type\":\"object\",\"name\":\"Line\",\"id\":\"c6a6d437-8ce3-48e6-854d-14fc74995203\",\"attributes\":{\"tags\":[\"apply_ranges\"],\"x\":{\"type\":\"field\",\"field\":\"max_blob_index\"},\"y\":{\"type\":\"field\",\"field\":\"value\"},\"line_color\":\"#6d904f\",\"line_alpha\":0.1,\"line_width\":2}},\"muted_glyph\":{\"type\":\"object\",\"name\":\"Line\",\"id\":\"aa2db089-6e0b-4769-97ce-d504df5749cb\",\"attributes\":{\"tags\":[\"apply_ranges\"],\"x\":{\"type\":\"field\",\"field\":\"max_blob_index\"},\"y\":{\"type\":\"field\",\"field\":\"value\"},\"line_color\":\"#6d904f\",\"line_alpha\":0.2,\"line_width\":2}}}},{\"type\":\"object\",\"name\":\"GlyphRenderer\",\"id\":\"43c60506-b34c-4afc-9bc5-9988451c9c67\",\"attributes\":{\"name\":\"nimbus\",\"data_source\":{\"type\":\"object\",\"name\":\"ColumnDataSource\",\"id\":\"5f086083-230c-4284-b3ae-6f9de1b9256f\",\"attributes\":{\"selected\":{\"type\":\"object\",\"name\":\"Selection\",\"id\":\"f2ccd076-ec0a-4282-b533-281a3e1c589c\",\"attributes\":{\"indices\":[],\"line_indices\":[]}},\"selection_policy\":{\"type\":\"object\",\"name\":\"UnionRenderers\",\"id\":\"4a2c4b0c-7e72-4c11-b0eb-880aed970842\"},\"data\":{\"type\":\"map\",\"entries\":[[\"max_blob_index\",{\"type\":\"ndarray\",\"array\":{\"type\":\"bytes\",\"data\":\"AAAAAAAAFEAAAAAAAAAQQAAAAAAAAAhAAAAAAAAAAEAAAAAAAADwPwAAAAAAAAAAAAAAAAAA8L8=\"},\"shape\":[7],\"dtype\":\"float64\",\"order\":\"little\"}],[\"value\",{\"type\":\"ndarray\",\"array\":{\"type\":\"bytes\",\"data\":\"bGVLrmnLq0Dtmp+HosWrQJha+gODoKtAp06O02siq0DfqHt+mmaqQLRrHOGuQapAyKqDsxY4pEA=\"},\"shape\":[7],\"dtype\":\"float64\",\"order\":\"little\"}],[\"Variable\",[\"nimbus\",\"nimbus\",\"nimbus\",\"nimbus\",\"nimbus\",\"nimbus\",\"nimbus\"]]]}}},\"view\":{\"type\":\"object\",\"name\":\"CDSView\",\"id\":\"3b2e316b-8ef4-480f-9cba-712aa9097d22\",\"attributes\":{\"filter\":{\"type\":\"object\",\"name\":\"AllIndices\",\"id\":\"50b39aa7-4191-447e-8d47-b7555aab909c\"}}},\"glyph\":{\"type\":\"object\",\"name\":\"Line\",\"id\":\"3f9f0d84-2341-4e76-b652-9a38d5964814\",\"attributes\":{\"tags\":[\"apply_ranges\"],\"x\":{\"type\":\"field\",\"field\":\"max_blob_index\"},\"y\":{\"type\":\"field\",\"field\":\"value\"},\"line_color\":\"#8b8b8b\",\"line_width\":2}},\"selection_glyph\":{\"type\":\"object\",\"name\":\"Line\",\"id\":\"2066c9cc-f9ff-4f61-ab11-03ccfb2b7ec3\",\"attributes\":{\"tags\":[\"apply_ranges\"],\"x\":{\"type\":\"field\",\"field\":\"max_blob_index\"},\"y\":{\"type\":\"field\",\"field\":\"value\"},\"line_color\":\"#8b8b8b\",\"line_width\":2}},\"nonselection_glyph\":{\"type\":\"object\",\"name\":\"Line\",\"id\":\"59ea5f86-e6a4-49cb-983d-16a24e74e6f8\",\"attributes\":{\"tags\":[\"apply_ranges\"],\"x\":{\"type\":\"field\",\"field\":\"max_blob_index\"},\"y\":{\"type\":\"field\",\"field\":\"value\"},\"line_color\":\"#8b8b8b\",\"line_alpha\":0.1,\"line_width\":2}},\"muted_glyph\":{\"type\":\"object\",\"name\":\"Line\",\"id\":\"466cf8e6-d9cd-4fcb-9d4c-505c150abfb4\",\"attributes\":{\"tags\":[\"apply_ranges\"],\"x\":{\"type\":\"field\",\"field\":\"max_blob_index\"},\"y\":{\"type\":\"field\",\"field\":\"value\"},\"line_color\":\"#8b8b8b\",\"line_alpha\":0.2,\"line_width\":2}}}}],\"toolbar\":{\"type\":\"object\",\"name\":\"Toolbar\",\"id\":\"ec6148b6-e34f-44fb-ae9c-542e36e85312\",\"attributes\":{\"tools\":[{\"type\":\"object\",\"name\":\"WheelZoomTool\",\"id\":\"bde01516-37ca-43d9-a14d-4ce8ffd8551b\",\"attributes\":{\"tags\":[\"hv_created\"],\"renderers\":\"auto\",\"zoom_together\":\"none\"}},{\"type\":\"object\",\"name\":\"HoverTool\",\"id\":\"051060d0-0a83-451e-9d9c-ebcf234133a6\",\"attributes\":{\"tags\":[\"hv_created\"],\"renderers\":[{\"id\":\"4c6455c1-0cd1-4a0e-b079-82fad716921b\"},{\"id\":\"952ad06b-2988-4365-87b1-6dcc9c41e122\"},{\"id\":\"30905c1c-a4cb-4cfc-b8ac-57c118000612\"},{\"id\":\"488cb768-c2c0-428e-b0a9-3b1cbf17c680\"},{\"id\":\"43c60506-b34c-4afc-9bc5-9988451c9c67\"}],\"tooltips\":[[\"Variable\",\"@{Variable}\"],[\"max_blob_index\",\"@{max_blob_index}\"],[\"value\",\"@{value}\"]]}},{\"type\":\"object\",\"name\":\"SaveTool\",\"id\":\"40584b6e-6e13-47c8-9425-2113d485abd8\"},{\"type\":\"object\",\"name\":\"PanTool\",\"id\":\"61d0ef38-2d06-4c3f-8e52-211fe53cc0dc\"},{\"type\":\"object\",\"name\":\"BoxZoomTool\",\"id\":\"dd9a78ea-780f-46bf-a9a9-37fe0ab4096e\",\"attributes\":{\"overlay\":{\"type\":\"object\",\"name\":\"BoxAnnotation\",\"id\":\"bf186c1f-f1df-4c83-b75d-ddc6bb970f0a\",\"attributes\":{\"syncable\":false,\"level\":\"overlay\",\"visible\":false,\"left\":{\"type\":\"number\",\"value\":\"nan\"},\"right\":{\"type\":\"number\",\"value\":\"nan\"},\"top\":{\"type\":\"number\",\"value\":\"nan\"},\"bottom\":{\"type\":\"number\",\"value\":\"nan\"},\"left_units\":\"canvas\",\"right_units\":\"canvas\",\"top_units\":\"canvas\",\"bottom_units\":\"canvas\",\"line_color\":\"black\",\"line_alpha\":1.0,\"line_width\":2,\"line_dash\":[4,4],\"fill_color\":\"lightgrey\",\"fill_alpha\":0.5}}}},{\"type\":\"object\",\"name\":\"ResetTool\",\"id\":\"571c48fd-e438-47ed-89f0-fa1fcb1d97f3\"}],\"active_drag\":{\"id\":\"61d0ef38-2d06-4c3f-8e52-211fe53cc0dc\"},\"active_scroll\":{\"id\":\"bde01516-37ca-43d9-a14d-4ce8ffd8551b\"}}},\"left\":[{\"type\":\"object\",\"name\":\"LinearAxis\",\"id\":\"4e005651-2eb8-4cb7-b0d8-03e805e108b8\",\"attributes\":{\"ticker\":{\"type\":\"object\",\"name\":\"BasicTicker\",\"id\":\"cd263b3f-2569-4084-8b98-aed71a400a52\",\"attributes\":{\"mantissas\":[1,2,5]}},\"formatter\":{\"type\":\"object\",\"name\":\"BasicTickFormatter\",\"id\":\"904ece39-480e-4db9-961a-8842b192758c\"},\"axis_label\":\"\",\"major_label_policy\":{\"type\":\"object\",\"name\":\"AllLabels\",\"id\":\"2e297f2f-d3fe-4d30-ad13-51571fb8bd41\"}}}],\"right\":[{\"type\":\"object\",\"name\":\"Legend\",\"id\":\"13106763-d948-4754-8fe3-87bd96c349b2\",\"attributes\":{\"location\":[0,0],\"title\":\"Variable\",\"click_policy\":\"mute\",\"items\":[{\"type\":\"object\",\"name\":\"LegendItem\",\"id\":\"ff163524-5d0b-405a-b266-c4fa976e2d78\",\"attributes\":{\"label\":{\"type\":\"value\",\"value\":\"lighthouse\"},\"renderers\":[{\"id\":\"4c6455c1-0cd1-4a0e-b079-82fad716921b\"}]}},{\"type\":\"object\",\"name\":\"LegendItem\",\"id\":\"7b38f524-b906-40b7-b351-9f08ebdc3261\",\"attributes\":{\"label\":{\"type\":\"value\",\"value\":\"prysm\"},\"renderers\":[{\"id\":\"952ad06b-2988-4365-87b1-6dcc9c41e122\"}]}},{\"type\":\"object\",\"name\":\"LegendItem\",\"id\":\"e621fa95-920a-4f65-a93e-9ef09fad546b\",\"attributes\":{\"label\":{\"type\":\"value\",\"value\":\"teku\"},\"renderers\":[{\"id\":\"30905c1c-a4cb-4cfc-b8ac-57c118000612\"}]}},{\"type\":\"object\",\"name\":\"LegendItem\",\"id\":\"c64f1d74-5c46-4a6e-9da9-5c17c04bae09\",\"attributes\":{\"label\":{\"type\":\"value\",\"value\":\"lodestar\"},\"renderers\":[{\"id\":\"488cb768-c2c0-428e-b0a9-3b1cbf17c680\"}]}},{\"type\":\"object\",\"name\":\"LegendItem\",\"id\":\"bce61eba-927e-4464-a73c-73358d17df09\",\"attributes\":{\"label\":{\"type\":\"value\",\"value\":\"nimbus\"},\"renderers\":[{\"id\":\"43c60506-b34c-4afc-9bc5-9988451c9c67\"}]}}]}}],\"below\":[{\"type\":\"object\",\"name\":\"LinearAxis\",\"id\":\"8900b8d6-48d4-4576-bc8e-0a7113dffe6c\",\"attributes\":{\"ticker\":{\"type\":\"object\",\"name\":\"BasicTicker\",\"id\":\"0425f2f0-d23a-4d8a-aeac-483084c1ba73\",\"attributes\":{\"mantissas\":[1,2,5]}},\"formatter\":{\"type\":\"object\",\"name\":\"BasicTickFormatter\",\"id\":\"4c9ef913-89f1-4001-856b-b4a9758b3239\"},\"axis_label\":\"blob count\",\"major_label_policy\":{\"type\":\"object\",\"name\":\"AllLabels\",\"id\":\"82a7299b-a143-43aa-ae11-92f29e1b94e6\"}}}],\"center\":[{\"type\":\"object\",\"name\":\"Grid\",\"id\":\"bc7eaf19-5321-49db-a5a9-124b7b75dd33\",\"attributes\":{\"axis\":{\"id\":\"8900b8d6-48d4-4576-bc8e-0a7113dffe6c\"},\"grid_line_color\":null}},{\"type\":\"object\",\"name\":\"Grid\",\"id\":\"b3a6b69d-f668-4ab5-88dc-0e4cf549b3da\",\"attributes\":{\"dimension\":1,\"axis\":{\"id\":\"4e005651-2eb8-4cb7-b0d8-03e805e108b8\"},\"grid_line_color\":null}}],\"min_border_top\":10,\"min_border_bottom\":10,\"min_border_left\":10,\"min_border_right\":10,\"output_backend\":\"webgl\"}},{\"type\":\"object\",\"name\":\"Spacer\",\"id\":\"2c0f18a2-fc02-4644-bd21-b58437c73d38\",\"attributes\":{\"name\":\"HSpacer03011\",\"stylesheets\":[\"\\n:host(.pn-loading.pn-arc):before, .pn-loading.pn-arc:before {\\n  background-image: url(\\\"data:image/svg+xml;base64,PHN2ZyB4bWxucz0iaHR0cDovL3d3dy53My5vcmcvMjAwMC9zdmciIHN0eWxlPSJtYXJnaW46IGF1dG87IGJhY2tncm91bmQ6IG5vbmU7IGRpc3BsYXk6IGJsb2NrOyBzaGFwZS1yZW5kZXJpbmc6IGF1dG87IiB2aWV3Qm94PSIwIDAgMTAwIDEwMCIgcHJlc2VydmVBc3BlY3RSYXRpbz0ieE1pZFlNaWQiPiAgPGNpcmNsZSBjeD0iNTAiIGN5PSI1MCIgZmlsbD0ibm9uZSIgc3Ryb2tlPSIjYzNjM2MzIiBzdHJva2Utd2lkdGg9IjEwIiByPSIzNSIgc3Ryb2tlLWRhc2hhcnJheT0iMTY0LjkzMzYxNDMxMzQ2NDE1IDU2Ljk3Nzg3MTQzNzgyMTM4Ij4gICAgPGFuaW1hdGVUcmFuc2Zvcm0gYXR0cmlidXRlTmFtZT0idHJhbnNmb3JtIiB0eXBlPSJyb3RhdGUiIHJlcGVhdENvdW50PSJpbmRlZmluaXRlIiBkdXI9IjFzIiB2YWx1ZXM9IjAgNTAgNTA7MzYwIDUwIDUwIiBrZXlUaW1lcz0iMDsxIj48L2FuaW1hdGVUcmFuc2Zvcm0+ICA8L2NpcmNsZT48L3N2Zz4=\\\");\\n  background-size: auto calc(min(50%, 400px));\\n}\",{\"id\":\"560d6615-288f-448c-90bc-c8a96f0cb6ab\"},{\"id\":\"343a8267-5986-49b6-84b4-b60eefd9fef9\"},{\"id\":\"bc9d8b83-10a3-45b1-b727-753e02d3a455\"}],\"margin\":0,\"sizing_mode\":\"stretch_width\",\"align\":\"start\"}}]}}],\"defs\":[{\"type\":\"model\",\"name\":\"ReactiveHTML1\"},{\"type\":\"model\",\"name\":\"FlexBox1\",\"properties\":[{\"name\":\"align_content\",\"kind\":\"Any\",\"default\":\"flex-start\"},{\"name\":\"align_items\",\"kind\":\"Any\",\"default\":\"flex-start\"},{\"name\":\"flex_direction\",\"kind\":\"Any\",\"default\":\"row\"},{\"name\":\"flex_wrap\",\"kind\":\"Any\",\"default\":\"wrap\"},{\"name\":\"justify_content\",\"kind\":\"Any\",\"default\":\"flex-start\"}]},{\"type\":\"model\",\"name\":\"FloatPanel1\",\"properties\":[{\"name\":\"config\",\"kind\":\"Any\",\"default\":{\"type\":\"map\"}},{\"name\":\"contained\",\"kind\":\"Any\",\"default\":true},{\"name\":\"position\",\"kind\":\"Any\",\"default\":\"right-top\"},{\"name\":\"offsetx\",\"kind\":\"Any\",\"default\":null},{\"name\":\"offsety\",\"kind\":\"Any\",\"default\":null},{\"name\":\"theme\",\"kind\":\"Any\",\"default\":\"primary\"},{\"name\":\"status\",\"kind\":\"Any\",\"default\":\"normalized\"}]},{\"type\":\"model\",\"name\":\"GridStack1\",\"properties\":[{\"name\":\"mode\",\"kind\":\"Any\",\"default\":\"warn\"},{\"name\":\"ncols\",\"kind\":\"Any\",\"default\":null},{\"name\":\"nrows\",\"kind\":\"Any\",\"default\":null},{\"name\":\"allow_resize\",\"kind\":\"Any\",\"default\":true},{\"name\":\"allow_drag\",\"kind\":\"Any\",\"default\":true},{\"name\":\"state\",\"kind\":\"Any\",\"default\":[]}]},{\"type\":\"model\",\"name\":\"drag1\",\"properties\":[{\"name\":\"slider_width\",\"kind\":\"Any\",\"default\":5},{\"name\":\"slider_color\",\"kind\":\"Any\",\"default\":\"black\"},{\"name\":\"value\",\"kind\":\"Any\",\"default\":50}]},{\"type\":\"model\",\"name\":\"click1\",\"properties\":[{\"name\":\"terminal_output\",\"kind\":\"Any\",\"default\":\"\"},{\"name\":\"debug_name\",\"kind\":\"Any\",\"default\":\"\"},{\"name\":\"clears\",\"kind\":\"Any\",\"default\":0}]},{\"type\":\"model\",\"name\":\"copy_to_clipboard1\",\"properties\":[{\"name\":\"fill\",\"kind\":\"Any\",\"default\":\"none\"},{\"name\":\"value\",\"kind\":\"Any\",\"default\":null}]},{\"type\":\"model\",\"name\":\"FastWrapper1\",\"properties\":[{\"name\":\"object\",\"kind\":\"Any\",\"default\":null},{\"name\":\"style\",\"kind\":\"Any\",\"default\":null}]},{\"type\":\"model\",\"name\":\"NotificationAreaBase1\",\"properties\":[{\"name\":\"js_events\",\"kind\":\"Any\",\"default\":{\"type\":\"map\"}},{\"name\":\"position\",\"kind\":\"Any\",\"default\":\"bottom-right\"},{\"name\":\"_clear\",\"kind\":\"Any\",\"default\":0}]},{\"type\":\"model\",\"name\":\"NotificationArea1\",\"properties\":[{\"name\":\"js_events\",\"kind\":\"Any\",\"default\":{\"type\":\"map\"}},{\"name\":\"notifications\",\"kind\":\"Any\",\"default\":[]},{\"name\":\"position\",\"kind\":\"Any\",\"default\":\"bottom-right\"},{\"name\":\"_clear\",\"kind\":\"Any\",\"default\":0},{\"name\":\"types\",\"kind\":\"Any\",\"default\":[{\"type\":\"map\",\"entries\":[[\"type\",\"warning\"],[\"background\",\"#ffc107\"],[\"icon\",{\"type\":\"map\",\"entries\":[[\"className\",\"fas fa-exclamation-triangle\"],[\"tagName\",\"i\"],[\"color\",\"white\"]]}]]},{\"type\":\"map\",\"entries\":[[\"type\",\"info\"],[\"background\",\"#007bff\"],[\"icon\",{\"type\":\"map\",\"entries\":[[\"className\",\"fas fa-info-circle\"],[\"tagName\",\"i\"],[\"color\",\"white\"]]}]]}]}]},{\"type\":\"model\",\"name\":\"Notification\",\"properties\":[{\"name\":\"background\",\"kind\":\"Any\",\"default\":null},{\"name\":\"duration\",\"kind\":\"Any\",\"default\":3000},{\"name\":\"icon\",\"kind\":\"Any\",\"default\":null},{\"name\":\"message\",\"kind\":\"Any\",\"default\":\"\"},{\"name\":\"notification_type\",\"kind\":\"Any\",\"default\":null},{\"name\":\"_destroyed\",\"kind\":\"Any\",\"default\":false}]},{\"type\":\"model\",\"name\":\"TemplateActions1\",\"properties\":[{\"name\":\"open_modal\",\"kind\":\"Any\",\"default\":0},{\"name\":\"close_modal\",\"kind\":\"Any\",\"default\":0}]},{\"type\":\"model\",\"name\":\"BootstrapTemplateActions1\",\"properties\":[{\"name\":\"open_modal\",\"kind\":\"Any\",\"default\":0},{\"name\":\"close_modal\",\"kind\":\"Any\",\"default\":0}]},{\"type\":\"model\",\"name\":\"MaterialTemplateActions1\",\"properties\":[{\"name\":\"open_modal\",\"kind\":\"Any\",\"default\":0},{\"name\":\"close_modal\",\"kind\":\"Any\",\"default\":0}]}]}};\n",
       "  var render_items = [{\"docid\":\"6c2bf2cb-0486-4655-9820-429f3818049e\",\"roots\":{\"eabd8778-8c7e-4dea-b0e1-3677cc2e1078\":\"e8bd57ec-ed53-4382-9cd6-4f844de26a7c\"},\"root_ids\":[\"eabd8778-8c7e-4dea-b0e1-3677cc2e1078\"]}];\n",
       "  var docs = Object.values(docs_json)\n",
       "  if (!docs) {\n",
       "    return\n",
       "  }\n",
       "  const py_version = docs[0].version.replace('rc', '-rc.').replace('.dev', '-dev.')\n",
       "  function embed_document(root) {\n",
       "    var Bokeh = get_bokeh(root)\n",
       "    Bokeh.embed.embed_items_notebook(docs_json, render_items);\n",
       "    for (const render_item of render_items) {\n",
       "      for (const root_id of render_item.root_ids) {\n",
       "\tconst id_el = document.getElementById(root_id)\n",
       "\tif (id_el.children.length && (id_el.children[0].className === 'bk-root')) {\n",
       "\t  const root_el = id_el.children[0]\n",
       "\t  root_el.id = root_el.id + '-rendered'\n",
       "\t}\n",
       "      }\n",
       "    }\n",
       "  }\n",
       "  function get_bokeh(root) {\n",
       "    if (root.Bokeh === undefined) {\n",
       "      return null\n",
       "    } else if (root.Bokeh.version !== py_version) {\n",
       "      if (root.Bokeh.versions === undefined || !root.Bokeh.versions.has(py_version)) {\n",
       "\treturn null\n",
       "      }\n",
       "      return root.Bokeh.versions.get(py_version);\n",
       "    } else if (root.Bokeh.version === py_version) {\n",
       "      return root.Bokeh\n",
       "    }\n",
       "    return null\n",
       "  }\n",
       "  function is_loaded(root) {\n",
       "    var Bokeh = get_bokeh(root)\n",
       "    return (Bokeh != null && Bokeh.Panel !== undefined && ( root['Plotly'] !== undefined) && ( root['Plotly'] !== undefined))\n",
       "  }\n",
       "  if (is_loaded(root)) {\n",
       "    embed_document(root);\n",
       "  } else {\n",
       "    var attempts = 0;\n",
       "    var timer = setInterval(function(root) {\n",
       "      if (is_loaded(root)) {\n",
       "        clearInterval(timer);\n",
       "        embed_document(root);\n",
       "      } else if (document.readyState == \"complete\") {\n",
       "        attempts++;\n",
       "        if (attempts > 200) {\n",
       "          clearInterval(timer);\n",
       "\t  var Bokeh = get_bokeh(root)\n",
       "\t  if (Bokeh == null || Bokeh.Panel == null) {\n",
       "            console.warn(\"Panel: ERROR: Unable to run Panel code because Bokeh or Panel library is missing\");\n",
       "\t  } else {\n",
       "\t    console.warn(\"Panel: WARNING: Attempting to render but not all required libraries could be resolved.\")\n",
       "\t    embed_document(root)\n",
       "\t  }\n",
       "        }\n",
       "      }\n",
       "    }, 25, root)\n",
       "  }\n",
       "})(window);</script>"
      ],
      "text/plain": [
       ":NdOverlay   [Variable]\n",
       "   :Curve   [max_blob_index]   (value)"
      ]
     },
     "execution_count": 82,
     "metadata": {
      "application/vnd.holoviews_exec.v0+json": {
       "id": "eabd8778-8c7e-4dea-b0e1-3677cc2e1078"
      }
     },
     "output_type": "execute_result"
    }
   ],
   "source": [
    "(\n",
    "    block_blob_table.fill_null(-1)\n",
    "    .pivot(\n",
    "        index=\"max_blob_index\",\n",
    "        columns=\"meta_consensus_implementation\",\n",
    "        values=\"mean_propagation_slot_start_diff\",\n",
    "    )\n",
    "    .plot.line(\n",
    "        x=\"max_blob_index\",\n",
    "        y=[\"lighthouse\", \"prysm\", \"teku\", \"lodestar\", \"nimbus\"],\n",
    "        xlabel=\"blob count\",\n",
    "        y_label=\"block propagation time\",\n",
    "        title=\"Mean Block Propagation Time per Client\",\n",
    "    )\n",
    ")"
   ]
  },
  {
   "cell_type": "code",
   "execution_count": null,
   "metadata": {},
   "outputs": [],
   "source": []
  }
 ],
 "metadata": {
  "kernelspec": {
   "display_name": ".venv",
   "language": "python",
   "name": "python3"
  },
  "language_info": {
   "codemirror_mode": {
    "name": "ipython",
    "version": 3
   },
   "file_extension": ".py",
   "mimetype": "text/x-python",
   "name": "python",
   "nbconvert_exporter": "python",
   "pygments_lexer": "ipython3",
   "version": "3.11.8"
  }
 },
 "nbformat": 4,
 "nbformat_minor": 2
}
