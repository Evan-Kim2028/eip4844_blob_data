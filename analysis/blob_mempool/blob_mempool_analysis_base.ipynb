{
 "cells": [
  {
   "cell_type": "code",
   "execution_count": 1,
   "metadata": {},
   "outputs": [
    {
     "data": {
      "application/javascript": "(function(root) {\n  function now() {\n    return new Date();\n  }\n\n  var force = true;\n  var py_version = '3.3.4'.replace('rc', '-rc.').replace('.dev', '-dev.');\n  var reloading = false;\n  var Bokeh = root.Bokeh;\n\n  if (typeof (root._bokeh_timeout) === \"undefined\" || force) {\n    root._bokeh_timeout = Date.now() + 5000;\n    root._bokeh_failed_load = false;\n  }\n\n  function run_callbacks() {\n    try {\n      root._bokeh_onload_callbacks.forEach(function(callback) {\n        if (callback != null)\n          callback();\n      });\n    } finally {\n      delete root._bokeh_onload_callbacks;\n    }\n    console.debug(\"Bokeh: all callbacks have finished\");\n  }\n\n  function load_libs(css_urls, js_urls, js_modules, js_exports, callback) {\n    if (css_urls == null) css_urls = [];\n    if (js_urls == null) js_urls = [];\n    if (js_modules == null) js_modules = [];\n    if (js_exports == null) js_exports = {};\n\n    root._bokeh_onload_callbacks.push(callback);\n\n    if (root._bokeh_is_loading > 0) {\n      console.debug(\"Bokeh: BokehJS is being loaded, scheduling callback at\", now());\n      return null;\n    }\n    if (js_urls.length === 0 && js_modules.length === 0 && Object.keys(js_exports).length === 0) {\n      run_callbacks();\n      return null;\n    }\n    if (!reloading) {\n      console.debug(\"Bokeh: BokehJS not loaded, scheduling load and callback at\", now());\n    }\n\n    function on_load() {\n      root._bokeh_is_loading--;\n      if (root._bokeh_is_loading === 0) {\n        console.debug(\"Bokeh: all BokehJS libraries/stylesheets loaded\");\n        run_callbacks()\n      }\n    }\n    window._bokeh_on_load = on_load\n\n    function on_error() {\n      console.error(\"failed to load \" + url);\n    }\n\n    var skip = [];\n    if (window.requirejs) {\n      window.requirejs.config({'packages': {}, 'paths': {'jspanel': 'https://cdn.jsdelivr.net/npm/jspanel4@4.12.0/dist/jspanel', 'jspanel-modal': 'https://cdn.jsdelivr.net/npm/jspanel4@4.12.0/dist/extensions/modal/jspanel.modal', 'jspanel-tooltip': 'https://cdn.jsdelivr.net/npm/jspanel4@4.12.0/dist/extensions/tooltip/jspanel.tooltip', 'jspanel-hint': 'https://cdn.jsdelivr.net/npm/jspanel4@4.12.0/dist/extensions/hint/jspanel.hint', 'jspanel-layout': 'https://cdn.jsdelivr.net/npm/jspanel4@4.12.0/dist/extensions/layout/jspanel.layout', 'jspanel-contextmenu': 'https://cdn.jsdelivr.net/npm/jspanel4@4.12.0/dist/extensions/contextmenu/jspanel.contextmenu', 'jspanel-dock': 'https://cdn.jsdelivr.net/npm/jspanel4@4.12.0/dist/extensions/dock/jspanel.dock', 'gridstack': 'https://cdn.jsdelivr.net/npm/gridstack@7.2.3/dist/gridstack-all', 'notyf': 'https://cdn.jsdelivr.net/npm/notyf@3/notyf.min'}, 'shim': {'jspanel': {'exports': 'jsPanel'}, 'gridstack': {'exports': 'GridStack'}}});\n      require([\"jspanel\"], function(jsPanel) {\n\twindow.jsPanel = jsPanel\n\ton_load()\n      })\n      require([\"jspanel-modal\"], function() {\n\ton_load()\n      })\n      require([\"jspanel-tooltip\"], function() {\n\ton_load()\n      })\n      require([\"jspanel-hint\"], function() {\n\ton_load()\n      })\n      require([\"jspanel-layout\"], function() {\n\ton_load()\n      })\n      require([\"jspanel-contextmenu\"], function() {\n\ton_load()\n      })\n      require([\"jspanel-dock\"], function() {\n\ton_load()\n      })\n      require([\"gridstack\"], function(GridStack) {\n\twindow.GridStack = GridStack\n\ton_load()\n      })\n      require([\"notyf\"], function() {\n\ton_load()\n      })\n      root._bokeh_is_loading = css_urls.length + 9;\n    } else {\n      root._bokeh_is_loading = css_urls.length + js_urls.length + js_modules.length + Object.keys(js_exports).length;\n    }\n\n    var existing_stylesheets = []\n    var links = document.getElementsByTagName('link')\n    for (var i = 0; i < links.length; i++) {\n      var link = links[i]\n      if (link.href != null) {\n\texisting_stylesheets.push(link.href)\n      }\n    }\n    for (var i = 0; i < css_urls.length; i++) {\n      var url = css_urls[i];\n      if (existing_stylesheets.indexOf(url) !== -1) {\n\ton_load()\n\tcontinue;\n      }\n      const element = document.createElement(\"link\");\n      element.onload = on_load;\n      element.onerror = on_error;\n      element.rel = \"stylesheet\";\n      element.type = \"text/css\";\n      element.href = url;\n      console.debug(\"Bokeh: injecting link tag for BokehJS stylesheet: \", url);\n      document.body.appendChild(element);\n    }    if (((window['jsPanel'] !== undefined) && (!(window['jsPanel'] instanceof HTMLElement))) || window.requirejs) {\n      var urls = ['https://cdn.holoviz.org/panel/1.3.8/dist/bundled/floatpanel/jspanel4@4.12.0/dist/jspanel.js', 'https://cdn.holoviz.org/panel/1.3.8/dist/bundled/floatpanel/jspanel4@4.12.0/dist/extensions/modal/jspanel.modal.js', 'https://cdn.holoviz.org/panel/1.3.8/dist/bundled/floatpanel/jspanel4@4.12.0/dist/extensions/tooltip/jspanel.tooltip.js', 'https://cdn.holoviz.org/panel/1.3.8/dist/bundled/floatpanel/jspanel4@4.12.0/dist/extensions/hint/jspanel.hint.js', 'https://cdn.holoviz.org/panel/1.3.8/dist/bundled/floatpanel/jspanel4@4.12.0/dist/extensions/layout/jspanel.layout.js', 'https://cdn.holoviz.org/panel/1.3.8/dist/bundled/floatpanel/jspanel4@4.12.0/dist/extensions/contextmenu/jspanel.contextmenu.js', 'https://cdn.holoviz.org/panel/1.3.8/dist/bundled/floatpanel/jspanel4@4.12.0/dist/extensions/dock/jspanel.dock.js'];\n      for (var i = 0; i < urls.length; i++) {\n        skip.push(urls[i])\n      }\n    }    if (((window['GridStack'] !== undefined) && (!(window['GridStack'] instanceof HTMLElement))) || window.requirejs) {\n      var urls = ['https://cdn.holoviz.org/panel/1.3.8/dist/bundled/gridstack/gridstack@7.2.3/dist/gridstack-all.js'];\n      for (var i = 0; i < urls.length; i++) {\n        skip.push(urls[i])\n      }\n    }    if (((window['Notyf'] !== undefined) && (!(window['Notyf'] instanceof HTMLElement))) || window.requirejs) {\n      var urls = ['https://cdn.holoviz.org/panel/1.3.8/dist/bundled/notificationarea/notyf@3/notyf.min.js'];\n      for (var i = 0; i < urls.length; i++) {\n        skip.push(urls[i])\n      }\n    }    var existing_scripts = []\n    var scripts = document.getElementsByTagName('script')\n    for (var i = 0; i < scripts.length; i++) {\n      var script = scripts[i]\n      if (script.src != null) {\n\texisting_scripts.push(script.src)\n      }\n    }\n    for (var i = 0; i < js_urls.length; i++) {\n      var url = js_urls[i];\n      if (skip.indexOf(url) !== -1 || existing_scripts.indexOf(url) !== -1) {\n\tif (!window.requirejs) {\n\t  on_load();\n\t}\n\tcontinue;\n      }\n      var element = document.createElement('script');\n      element.onload = on_load;\n      element.onerror = on_error;\n      element.async = false;\n      element.src = url;\n      console.debug(\"Bokeh: injecting script tag for BokehJS library: \", url);\n      document.head.appendChild(element);\n    }\n    for (var i = 0; i < js_modules.length; i++) {\n      var url = js_modules[i];\n      if (skip.indexOf(url) !== -1 || existing_scripts.indexOf(url) !== -1) {\n\tif (!window.requirejs) {\n\t  on_load();\n\t}\n\tcontinue;\n      }\n      var element = document.createElement('script');\n      element.onload = on_load;\n      element.onerror = on_error;\n      element.async = false;\n      element.src = url;\n      element.type = \"module\";\n      console.debug(\"Bokeh: injecting script tag for BokehJS library: \", url);\n      document.head.appendChild(element);\n    }\n    for (const name in js_exports) {\n      var url = js_exports[name];\n      if (skip.indexOf(url) >= 0 || root[name] != null) {\n\tif (!window.requirejs) {\n\t  on_load();\n\t}\n\tcontinue;\n      }\n      var element = document.createElement('script');\n      element.onerror = on_error;\n      element.async = false;\n      element.type = \"module\";\n      console.debug(\"Bokeh: injecting script tag for BokehJS library: \", url);\n      element.textContent = `\n      import ${name} from \"${url}\"\n      window.${name} = ${name}\n      window._bokeh_on_load()\n      `\n      document.head.appendChild(element);\n    }\n    if (!js_urls.length && !js_modules.length) {\n      on_load()\n    }\n  };\n\n  function inject_raw_css(css) {\n    const element = document.createElement(\"style\");\n    element.appendChild(document.createTextNode(css));\n    document.body.appendChild(element);\n  }\n\n  var js_urls = [\"https://cdn.bokeh.org/bokeh/release/bokeh-3.3.4.min.js\", \"https://cdn.bokeh.org/bokeh/release/bokeh-gl-3.3.4.min.js\", \"https://cdn.bokeh.org/bokeh/release/bokeh-widgets-3.3.4.min.js\", \"https://cdn.bokeh.org/bokeh/release/bokeh-tables-3.3.4.min.js\", \"https://cdn.holoviz.org/panel/1.3.8/dist/panel.min.js\"];\n  var js_modules = [];\n  var js_exports = {};\n  var css_urls = [];\n  var inline_js = [    function(Bokeh) {\n      Bokeh.set_log_level(\"info\");\n    },\nfunction(Bokeh) {} // ensure no trailing comma for IE\n  ];\n\n  function run_inline_js() {\n    if ((root.Bokeh !== undefined) || (force === true)) {\n      for (var i = 0; i < inline_js.length; i++) {\n\ttry {\n          inline_js[i].call(root, root.Bokeh);\n\t} catch(e) {\n\t  if (!reloading) {\n\t    throw e;\n\t  }\n\t}\n      }\n      // Cache old bokeh versions\n      if (Bokeh != undefined && !reloading) {\n\tvar NewBokeh = root.Bokeh;\n\tif (Bokeh.versions === undefined) {\n\t  Bokeh.versions = new Map();\n\t}\n\tif (NewBokeh.version !== Bokeh.version) {\n\t  Bokeh.versions.set(NewBokeh.version, NewBokeh)\n\t}\n\troot.Bokeh = Bokeh;\n      }} else if (Date.now() < root._bokeh_timeout) {\n      setTimeout(run_inline_js, 100);\n    } else if (!root._bokeh_failed_load) {\n      console.log(\"Bokeh: BokehJS failed to load within specified timeout.\");\n      root._bokeh_failed_load = true;\n    }\n    root._bokeh_is_initializing = false\n  }\n\n  function load_or_wait() {\n    // Implement a backoff loop that tries to ensure we do not load multiple\n    // versions of Bokeh and its dependencies at the same time.\n    // In recent versions we use the root._bokeh_is_initializing flag\n    // to determine whether there is an ongoing attempt to initialize\n    // bokeh, however for backward compatibility we also try to ensure\n    // that we do not start loading a newer (Panel>=1.0 and Bokeh>3) version\n    // before older versions are fully initialized.\n    if (root._bokeh_is_initializing && Date.now() > root._bokeh_timeout) {\n      root._bokeh_is_initializing = false;\n      root._bokeh_onload_callbacks = undefined;\n      console.log(\"Bokeh: BokehJS was loaded multiple times but one version failed to initialize.\");\n      load_or_wait();\n    } else if (root._bokeh_is_initializing || (typeof root._bokeh_is_initializing === \"undefined\" && root._bokeh_onload_callbacks !== undefined)) {\n      setTimeout(load_or_wait, 100);\n    } else {\n      root._bokeh_is_initializing = true\n      root._bokeh_onload_callbacks = []\n      var bokeh_loaded = Bokeh != null && (Bokeh.version === py_version || (Bokeh.versions !== undefined && Bokeh.versions.has(py_version)));\n      if (!reloading && !bokeh_loaded) {\n\troot.Bokeh = undefined;\n      }\n      load_libs(css_urls, js_urls, js_modules, js_exports, function() {\n\tconsole.debug(\"Bokeh: BokehJS plotting callback run at\", now());\n\trun_inline_js();\n      });\n    }\n  }\n  // Give older versions of the autoload script a head-start to ensure\n  // they initialize before we start loading newer version.\n  setTimeout(load_or_wait, 100)\n}(window));",
      "application/vnd.holoviews_load.v0+json": ""
     },
     "metadata": {},
     "output_type": "display_data"
    },
    {
     "data": {
      "application/javascript": "\nif ((window.PyViz === undefined) || (window.PyViz instanceof HTMLElement)) {\n  window.PyViz = {comms: {}, comm_status:{}, kernels:{}, receivers: {}, plot_index: []}\n}\n\n\n    function JupyterCommManager() {\n    }\n\n    JupyterCommManager.prototype.register_target = function(plot_id, comm_id, msg_handler) {\n      if (window.comm_manager || ((window.Jupyter !== undefined) && (Jupyter.notebook.kernel != null))) {\n        var comm_manager = window.comm_manager || Jupyter.notebook.kernel.comm_manager;\n        comm_manager.register_target(comm_id, function(comm) {\n          comm.on_msg(msg_handler);\n        });\n      } else if ((plot_id in window.PyViz.kernels) && (window.PyViz.kernels[plot_id])) {\n        window.PyViz.kernels[plot_id].registerCommTarget(comm_id, function(comm) {\n          comm.onMsg = msg_handler;\n        });\n      } else if (typeof google != 'undefined' && google.colab.kernel != null) {\n        google.colab.kernel.comms.registerTarget(comm_id, (comm) => {\n          var messages = comm.messages[Symbol.asyncIterator]();\n          function processIteratorResult(result) {\n            var message = result.value;\n            console.log(message)\n            var content = {data: message.data, comm_id};\n            var buffers = []\n            for (var buffer of message.buffers || []) {\n              buffers.push(new DataView(buffer))\n            }\n            var metadata = message.metadata || {};\n            var msg = {content, buffers, metadata}\n            msg_handler(msg);\n            return messages.next().then(processIteratorResult);\n          }\n          return messages.next().then(processIteratorResult);\n        })\n      }\n    }\n\n    JupyterCommManager.prototype.get_client_comm = function(plot_id, comm_id, msg_handler) {\n      if (comm_id in window.PyViz.comms) {\n        return window.PyViz.comms[comm_id];\n      } else if (window.comm_manager || ((window.Jupyter !== undefined) && (Jupyter.notebook.kernel != null))) {\n        var comm_manager = window.comm_manager || Jupyter.notebook.kernel.comm_manager;\n        var comm = comm_manager.new_comm(comm_id, {}, {}, {}, comm_id);\n        if (msg_handler) {\n          comm.on_msg(msg_handler);\n        }\n      } else if ((plot_id in window.PyViz.kernels) && (window.PyViz.kernels[plot_id])) {\n        var comm = window.PyViz.kernels[plot_id].connectToComm(comm_id);\n        comm.open();\n        if (msg_handler) {\n          comm.onMsg = msg_handler;\n        }\n      } else if (typeof google != 'undefined' && google.colab.kernel != null) {\n        var comm_promise = google.colab.kernel.comms.open(comm_id)\n        comm_promise.then((comm) => {\n          window.PyViz.comms[comm_id] = comm;\n          if (msg_handler) {\n            var messages = comm.messages[Symbol.asyncIterator]();\n            function processIteratorResult(result) {\n              var message = result.value;\n              var content = {data: message.data};\n              var metadata = message.metadata || {comm_id};\n              var msg = {content, metadata}\n              msg_handler(msg);\n              return messages.next().then(processIteratorResult);\n            }\n            return messages.next().then(processIteratorResult);\n          }\n        }) \n        var sendClosure = (data, metadata, buffers, disposeOnDone) => {\n          return comm_promise.then((comm) => {\n            comm.send(data, metadata, buffers, disposeOnDone);\n          });\n        };\n        var comm = {\n          send: sendClosure\n        };\n      }\n      window.PyViz.comms[comm_id] = comm;\n      return comm;\n    }\n    window.PyViz.comm_manager = new JupyterCommManager();\n    \n\n\nvar JS_MIME_TYPE = 'application/javascript';\nvar HTML_MIME_TYPE = 'text/html';\nvar EXEC_MIME_TYPE = 'application/vnd.holoviews_exec.v0+json';\nvar CLASS_NAME = 'output';\n\n/**\n * Render data to the DOM node\n */\nfunction render(props, node) {\n  var div = document.createElement(\"div\");\n  var script = document.createElement(\"script\");\n  node.appendChild(div);\n  node.appendChild(script);\n}\n\n/**\n * Handle when a new output is added\n */\nfunction handle_add_output(event, handle) {\n  var output_area = handle.output_area;\n  var output = handle.output;\n  if ((output.data == undefined) || (!output.data.hasOwnProperty(EXEC_MIME_TYPE))) {\n    return\n  }\n  var id = output.metadata[EXEC_MIME_TYPE][\"id\"];\n  var toinsert = output_area.element.find(\".\" + CLASS_NAME.split(' ')[0]);\n  if (id !== undefined) {\n    var nchildren = toinsert.length;\n    var html_node = toinsert[nchildren-1].children[0];\n    html_node.innerHTML = output.data[HTML_MIME_TYPE];\n    var scripts = [];\n    var nodelist = html_node.querySelectorAll(\"script\");\n    for (var i in nodelist) {\n      if (nodelist.hasOwnProperty(i)) {\n        scripts.push(nodelist[i])\n      }\n    }\n\n    scripts.forEach( function (oldScript) {\n      var newScript = document.createElement(\"script\");\n      var attrs = [];\n      var nodemap = oldScript.attributes;\n      for (var j in nodemap) {\n        if (nodemap.hasOwnProperty(j)) {\n          attrs.push(nodemap[j])\n        }\n      }\n      attrs.forEach(function(attr) { newScript.setAttribute(attr.name, attr.value) });\n      newScript.appendChild(document.createTextNode(oldScript.innerHTML));\n      oldScript.parentNode.replaceChild(newScript, oldScript);\n    });\n    if (JS_MIME_TYPE in output.data) {\n      toinsert[nchildren-1].children[1].textContent = output.data[JS_MIME_TYPE];\n    }\n    output_area._hv_plot_id = id;\n    if ((window.Bokeh !== undefined) && (id in Bokeh.index)) {\n      window.PyViz.plot_index[id] = Bokeh.index[id];\n    } else {\n      window.PyViz.plot_index[id] = null;\n    }\n  } else if (output.metadata[EXEC_MIME_TYPE][\"server_id\"] !== undefined) {\n    var bk_div = document.createElement(\"div\");\n    bk_div.innerHTML = output.data[HTML_MIME_TYPE];\n    var script_attrs = bk_div.children[0].attributes;\n    for (var i = 0; i < script_attrs.length; i++) {\n      toinsert[toinsert.length - 1].childNodes[1].setAttribute(script_attrs[i].name, script_attrs[i].value);\n    }\n    // store reference to server id on output_area\n    output_area._bokeh_server_id = output.metadata[EXEC_MIME_TYPE][\"server_id\"];\n  }\n}\n\n/**\n * Handle when an output is cleared or removed\n */\nfunction handle_clear_output(event, handle) {\n  var id = handle.cell.output_area._hv_plot_id;\n  var server_id = handle.cell.output_area._bokeh_server_id;\n  if (((id === undefined) || !(id in PyViz.plot_index)) && (server_id !== undefined)) { return; }\n  var comm = window.PyViz.comm_manager.get_client_comm(\"hv-extension-comm\", \"hv-extension-comm\", function () {});\n  if (server_id !== null) {\n    comm.send({event_type: 'server_delete', 'id': server_id});\n    return;\n  } else if (comm !== null) {\n    comm.send({event_type: 'delete', 'id': id});\n  }\n  delete PyViz.plot_index[id];\n  if ((window.Bokeh !== undefined) & (id in window.Bokeh.index)) {\n    var doc = window.Bokeh.index[id].model.document\n    doc.clear();\n    const i = window.Bokeh.documents.indexOf(doc);\n    if (i > -1) {\n      window.Bokeh.documents.splice(i, 1);\n    }\n  }\n}\n\n/**\n * Handle kernel restart event\n */\nfunction handle_kernel_cleanup(event, handle) {\n  delete PyViz.comms[\"hv-extension-comm\"];\n  window.PyViz.plot_index = {}\n}\n\n/**\n * Handle update_display_data messages\n */\nfunction handle_update_output(event, handle) {\n  handle_clear_output(event, {cell: {output_area: handle.output_area}})\n  handle_add_output(event, handle)\n}\n\nfunction register_renderer(events, OutputArea) {\n  function append_mime(data, metadata, element) {\n    // create a DOM node to render to\n    var toinsert = this.create_output_subarea(\n    metadata,\n    CLASS_NAME,\n    EXEC_MIME_TYPE\n    );\n    this.keyboard_manager.register_events(toinsert);\n    // Render to node\n    var props = {data: data, metadata: metadata[EXEC_MIME_TYPE]};\n    render(props, toinsert[0]);\n    element.append(toinsert);\n    return toinsert\n  }\n\n  events.on('output_added.OutputArea', handle_add_output);\n  events.on('output_updated.OutputArea', handle_update_output);\n  events.on('clear_output.CodeCell', handle_clear_output);\n  events.on('delete.Cell', handle_clear_output);\n  events.on('kernel_ready.Kernel', handle_kernel_cleanup);\n\n  OutputArea.prototype.register_mime_type(EXEC_MIME_TYPE, append_mime, {\n    safe: true,\n    index: 0\n  });\n}\n\nif (window.Jupyter !== undefined) {\n  try {\n    var events = require('base/js/events');\n    var OutputArea = require('notebook/js/outputarea').OutputArea;\n    if (OutputArea.prototype.mime_types().indexOf(EXEC_MIME_TYPE) == -1) {\n      register_renderer(events, OutputArea);\n    }\n  } catch(err) {\n  }\n}\n",
      "application/vnd.holoviews_load.v0+json": ""
     },
     "metadata": {},
     "output_type": "display_data"
    },
    {
     "data": {
      "text/html": [
       "<style>*[data-root-id],\n",
       "*[data-root-id] > * {\n",
       "  box-sizing: border-box;\n",
       "  font-family: var(--jp-ui-font-family);\n",
       "  font-size: var(--jp-ui-font-size1);\n",
       "  color: var(--vscode-editor-foreground, var(--jp-ui-font-color1));\n",
       "}\n",
       "\n",
       "/* Override VSCode background color */\n",
       ".cell-output-ipywidget-background:has(\n",
       "    > .cell-output-ipywidget-background > .lm-Widget > *[data-root-id]\n",
       "  ),\n",
       ".cell-output-ipywidget-background:has(> .lm-Widget > *[data-root-id]) {\n",
       "  background-color: transparent !important;\n",
       "}\n",
       "</style>"
      ]
     },
     "metadata": {},
     "output_type": "display_data"
    },
    {
     "data": {
      "application/vnd.holoviews_exec.v0+json": "",
      "text/html": [
       "<div id='p1002'>\n",
       "  <div id=\"a6317064-c77f-4c7c-affe-8a6295b04be9\" data-root-id=\"p1002\" style=\"display: contents;\"></div>\n",
       "</div>\n",
       "<script type=\"application/javascript\">(function(root) {\n",
       "  var docs_json = {\"7817a533-a7a6-4109-bfb1-58e354fdec77\":{\"version\":\"3.3.4\",\"title\":\"Bokeh Application\",\"roots\":[{\"type\":\"object\",\"name\":\"panel.models.browser.BrowserInfo\",\"id\":\"p1002\"},{\"type\":\"object\",\"name\":\"panel.models.comm_manager.CommManager\",\"id\":\"p1003\",\"attributes\":{\"plot_id\":\"p1002\",\"comm_id\":\"9dfe81524a424db38a6001abd6df3e1b\",\"client_comm_id\":\"8b6a6d97338440459409aebf3c06b848\"}}],\"defs\":[{\"type\":\"model\",\"name\":\"ReactiveHTML1\"},{\"type\":\"model\",\"name\":\"FlexBox1\",\"properties\":[{\"name\":\"align_content\",\"kind\":\"Any\",\"default\":\"flex-start\"},{\"name\":\"align_items\",\"kind\":\"Any\",\"default\":\"flex-start\"},{\"name\":\"flex_direction\",\"kind\":\"Any\",\"default\":\"row\"},{\"name\":\"flex_wrap\",\"kind\":\"Any\",\"default\":\"wrap\"},{\"name\":\"justify_content\",\"kind\":\"Any\",\"default\":\"flex-start\"}]},{\"type\":\"model\",\"name\":\"FloatPanel1\",\"properties\":[{\"name\":\"config\",\"kind\":\"Any\",\"default\":{\"type\":\"map\"}},{\"name\":\"contained\",\"kind\":\"Any\",\"default\":true},{\"name\":\"position\",\"kind\":\"Any\",\"default\":\"right-top\"},{\"name\":\"offsetx\",\"kind\":\"Any\",\"default\":null},{\"name\":\"offsety\",\"kind\":\"Any\",\"default\":null},{\"name\":\"theme\",\"kind\":\"Any\",\"default\":\"primary\"},{\"name\":\"status\",\"kind\":\"Any\",\"default\":\"normalized\"}]},{\"type\":\"model\",\"name\":\"GridStack1\",\"properties\":[{\"name\":\"mode\",\"kind\":\"Any\",\"default\":\"warn\"},{\"name\":\"ncols\",\"kind\":\"Any\",\"default\":null},{\"name\":\"nrows\",\"kind\":\"Any\",\"default\":null},{\"name\":\"allow_resize\",\"kind\":\"Any\",\"default\":true},{\"name\":\"allow_drag\",\"kind\":\"Any\",\"default\":true},{\"name\":\"state\",\"kind\":\"Any\",\"default\":[]}]},{\"type\":\"model\",\"name\":\"drag1\",\"properties\":[{\"name\":\"slider_width\",\"kind\":\"Any\",\"default\":5},{\"name\":\"slider_color\",\"kind\":\"Any\",\"default\":\"black\"},{\"name\":\"value\",\"kind\":\"Any\",\"default\":50}]},{\"type\":\"model\",\"name\":\"click1\",\"properties\":[{\"name\":\"terminal_output\",\"kind\":\"Any\",\"default\":\"\"},{\"name\":\"debug_name\",\"kind\":\"Any\",\"default\":\"\"},{\"name\":\"clears\",\"kind\":\"Any\",\"default\":0}]},{\"type\":\"model\",\"name\":\"copy_to_clipboard1\",\"properties\":[{\"name\":\"fill\",\"kind\":\"Any\",\"default\":\"none\"},{\"name\":\"value\",\"kind\":\"Any\",\"default\":null}]},{\"type\":\"model\",\"name\":\"FastWrapper1\",\"properties\":[{\"name\":\"object\",\"kind\":\"Any\",\"default\":null},{\"name\":\"style\",\"kind\":\"Any\",\"default\":null}]},{\"type\":\"model\",\"name\":\"NotificationAreaBase1\",\"properties\":[{\"name\":\"js_events\",\"kind\":\"Any\",\"default\":{\"type\":\"map\"}},{\"name\":\"position\",\"kind\":\"Any\",\"default\":\"bottom-right\"},{\"name\":\"_clear\",\"kind\":\"Any\",\"default\":0}]},{\"type\":\"model\",\"name\":\"NotificationArea1\",\"properties\":[{\"name\":\"js_events\",\"kind\":\"Any\",\"default\":{\"type\":\"map\"}},{\"name\":\"notifications\",\"kind\":\"Any\",\"default\":[]},{\"name\":\"position\",\"kind\":\"Any\",\"default\":\"bottom-right\"},{\"name\":\"_clear\",\"kind\":\"Any\",\"default\":0},{\"name\":\"types\",\"kind\":\"Any\",\"default\":[{\"type\":\"map\",\"entries\":[[\"type\",\"warning\"],[\"background\",\"#ffc107\"],[\"icon\",{\"type\":\"map\",\"entries\":[[\"className\",\"fas fa-exclamation-triangle\"],[\"tagName\",\"i\"],[\"color\",\"white\"]]}]]},{\"type\":\"map\",\"entries\":[[\"type\",\"info\"],[\"background\",\"#007bff\"],[\"icon\",{\"type\":\"map\",\"entries\":[[\"className\",\"fas fa-info-circle\"],[\"tagName\",\"i\"],[\"color\",\"white\"]]}]]}]}]},{\"type\":\"model\",\"name\":\"Notification\",\"properties\":[{\"name\":\"background\",\"kind\":\"Any\",\"default\":null},{\"name\":\"duration\",\"kind\":\"Any\",\"default\":3000},{\"name\":\"icon\",\"kind\":\"Any\",\"default\":null},{\"name\":\"message\",\"kind\":\"Any\",\"default\":\"\"},{\"name\":\"notification_type\",\"kind\":\"Any\",\"default\":null},{\"name\":\"_destroyed\",\"kind\":\"Any\",\"default\":false}]},{\"type\":\"model\",\"name\":\"TemplateActions1\",\"properties\":[{\"name\":\"open_modal\",\"kind\":\"Any\",\"default\":0},{\"name\":\"close_modal\",\"kind\":\"Any\",\"default\":0}]},{\"type\":\"model\",\"name\":\"BootstrapTemplateActions1\",\"properties\":[{\"name\":\"open_modal\",\"kind\":\"Any\",\"default\":0},{\"name\":\"close_modal\",\"kind\":\"Any\",\"default\":0}]},{\"type\":\"model\",\"name\":\"MaterialTemplateActions1\",\"properties\":[{\"name\":\"open_modal\",\"kind\":\"Any\",\"default\":0},{\"name\":\"close_modal\",\"kind\":\"Any\",\"default\":0}]}]}};\n",
       "  var render_items = [{\"docid\":\"7817a533-a7a6-4109-bfb1-58e354fdec77\",\"roots\":{\"p1002\":\"a6317064-c77f-4c7c-affe-8a6295b04be9\"},\"root_ids\":[\"p1002\"]}];\n",
       "  var docs = Object.values(docs_json)\n",
       "  if (!docs) {\n",
       "    return\n",
       "  }\n",
       "  const py_version = docs[0].version.replace('rc', '-rc.').replace('.dev', '-dev.')\n",
       "  function embed_document(root) {\n",
       "    var Bokeh = get_bokeh(root)\n",
       "    Bokeh.embed.embed_items_notebook(docs_json, render_items);\n",
       "    for (const render_item of render_items) {\n",
       "      for (const root_id of render_item.root_ids) {\n",
       "\tconst id_el = document.getElementById(root_id)\n",
       "\tif (id_el.children.length && (id_el.children[0].className === 'bk-root')) {\n",
       "\t  const root_el = id_el.children[0]\n",
       "\t  root_el.id = root_el.id + '-rendered'\n",
       "\t}\n",
       "      }\n",
       "    }\n",
       "  }\n",
       "  function get_bokeh(root) {\n",
       "    if (root.Bokeh === undefined) {\n",
       "      return null\n",
       "    } else if (root.Bokeh.version !== py_version) {\n",
       "      if (root.Bokeh.versions === undefined || !root.Bokeh.versions.has(py_version)) {\n",
       "\treturn null\n",
       "      }\n",
       "      return root.Bokeh.versions.get(py_version);\n",
       "    } else if (root.Bokeh.version === py_version) {\n",
       "      return root.Bokeh\n",
       "    }\n",
       "    return null\n",
       "  }\n",
       "  function is_loaded(root) {\n",
       "    var Bokeh = get_bokeh(root)\n",
       "    return (Bokeh != null && Bokeh.Panel !== undefined)\n",
       "  }\n",
       "  if (is_loaded(root)) {\n",
       "    embed_document(root);\n",
       "  } else {\n",
       "    var attempts = 0;\n",
       "    var timer = setInterval(function(root) {\n",
       "      if (is_loaded(root)) {\n",
       "        clearInterval(timer);\n",
       "        embed_document(root);\n",
       "      } else if (document.readyState == \"complete\") {\n",
       "        attempts++;\n",
       "        if (attempts > 200) {\n",
       "          clearInterval(timer);\n",
       "\t  var Bokeh = get_bokeh(root)\n",
       "\t  if (Bokeh == null || Bokeh.Panel == null) {\n",
       "            console.warn(\"Panel: ERROR: Unable to run Panel code because Bokeh or Panel library is missing\");\n",
       "\t  } else {\n",
       "\t    console.warn(\"Panel: WARNING: Attempting to render but not all required libraries could be resolved.\")\n",
       "\t    embed_document(root)\n",
       "\t  }\n",
       "        }\n",
       "      }\n",
       "    }, 25, root)\n",
       "  }\n",
       "})(window);</script>"
      ]
     },
     "metadata": {
      "application/vnd.holoviews_exec.v0+json": {
       "id": "p1002"
      }
     },
     "output_type": "display_data"
    },
    {
     "data": {
      "text/html": [
       "\n",
       "<div class=\"logo-block\">\n",
       "<img src='data:image/png;base64,iVBORw0KGgoAAAANSUhEUgAAAEAAAABACAYAAACqaXHeAAAABHNCSVQICAgIfAhkiAAAAAlwSFlz\n",
       "AAAB+wAAAfsBxc2miwAAABl0RVh0U29mdHdhcmUAd3d3Lmlua3NjYXBlLm9yZ5vuPBoAAA6zSURB\n",
       "VHic7ZtpeFRVmsf/5966taWqUlUJ2UioBBJiIBAwCZtog9IOgjqACsogKtqirT2ttt069nQ/zDzt\n",
       "tI4+CrJIREFaFgWhBXpUNhHZQoKBkIUASchWla1S+3ar7r1nPkDaCAnZKoQP/D7mnPOe9/xy76n3\n",
       "nFSAW9ziFoPFNED2LLK5wcyBDObkb8ZkxuaoSYlI6ZcOKq1eWFdedqNzGHQBk9RMEwFAASkk0Xw3\n",
       "ETacDNi2vtvc7L0ROdw0AjoSotQVkKSvHQz/wRO1lScGModBFbDMaNRN1A4tUBCS3lk7BWhQkgpD\n",
       "lG4852/+7DWr1R3uHAZVQDsbh6ZPN7CyxUrCzJMRouusj0ipRwD2uKm0Zn5d2dFwzX1TCGhnmdGo\n",
       "G62Nna+isiUqhkzuKrkQaJlPEv5mFl2fvGg2t/VnzkEV8F5ioioOEWkLG86fvbpthynjdhXYZziQ\n",
       "x1hC9J2NFyi8vCTt91Fh04KGip0AaG9zuCk2wQCVyoNU3Hjezee9bq92duzzTmxsRJoy+jEZZZYo\n",
       "GTKJ6SJngdJqAfRzpze0+jHreUtPc7gpBLQnIYK6BYp/uGhw9YK688eu7v95ysgshcg9qSLMo3JC\n",
       "4jqLKQFBgdKDPoQ+Pltb8dUyQLpeDjeVgI6EgLIQFT5tEl3rn2losHVsexbZ3EyT9wE1uGdkIPcy\n",
       "BGxn8QUq1QrA5nqW5i2tLqvrrM9NK6AdkVIvL9E9bZL/oyfMVd/jqvc8LylzRBKDJSzIExwhQzuL\n",
       "QYGQj4rHfFTc8mUdu3E7yoLtbTe9gI4EqVgVkug2i5+uXGo919ixbRog+3fTbQ8qJe4ZOYNfMoTI\n",
       "OoshUNosgO60AisX15aeI2PSIp5KiFLI9ubb1vV3Qb2ltwLakUCDAkWX7/nHKRmmGIl9VgYsUhJm\n",
       "2NXjKYADtM1ygne9QQDIXlk49FBstMKx66D1v4+XuQr7vqTe0VcBHQlRWiOCbmmSYe2SqtL6q5rJ\n",
       "zsTb7lKx3FKOYC4DoqyS/B5bvLPxvD9Qtf6saxYLQGJErmDOdOMr/zo96km1nElr8bmPOBwI9COv\n",
       "HnFPRIwmkSOv9kcAS4heRsidOkpeWBgZM+UBrTFAXNYL5Vf2ii9c1trNzpYdaoVil3WIc+wdk+gQ\n",
       "noie3ecCcxt9ITcLAPWt/laGEO/9U6PmzZkenTtsSMQ8uYywJVW+grCstAvCIaAdArAsIWkRDDs/\n",
       "KzLm2YcjY1Lv0UdW73HabE9n6V66cxSzfEmuJssTpKGVp+0vHq73FwL46eOjpMpbRAnNmJFrGJNu\n",
       "Ukf9Yrz+3rghiumCKNXXWPhLYcjxGsIpoCMsIRoFITkW8AuyM8jC1+/QLx4bozCEJIq38+1rtpR6\n",
       "V/yzb8eBlRb3fo5l783N0CWolAzJHaVNzkrTzlEp2bQ2q3TC5gn6wpnoQAmwSiGh2GitnTmVMc5O\n",
       "UyfKWUKCIsU7+fZDKwqdT6DDpvkzAX4/+AMFjk0tDp5GRXLpQ2MUmhgDp5gxQT8+Y7hyPsMi8uxF\n",
       "71H0oebujHALECjFKaW9Lm68n18wXp2kVzIcABytD5iXFzg+WVXkegpAsOOYziqo0OkK76GyquC3\n",
       "ltZAzMhhqlSNmmWTE5T6e3IN05ITFLM4GdN0vtZ3ob8Jh1NAKXFbm5PtLU/eqTSlGjkNAJjdgn/N\n",
       "aedXa0tdi7+t9G0FIF49rtMSEgAs1kDLkTPO7ebm4IUWeyh1bKomXqlgMG6kJmHcSM0clYLJ8XtR\n",
       "1GTnbV3F6I5wCGikAb402npp1h1s7LQUZZSMIfALFOuL3UUrfnS8+rez7v9qcold5tilgHbO1fjK\n",
       "9ubb17u9oshxzMiUBKXWqJNxd+fqb0tLVs4lILFnK71H0Ind7uiPgACVcFJlrb0tV6DzxqqTIhUM\n",
       "CwDf1/rrVhTa33/3pGPxJYdQ2l2cbgVcQSosdx8uqnDtbGjh9SlDVSMNWhlnilfqZk42Th2ZpLpf\n",
       "xrHec5e815zrr0dfBZSwzkZfqsv+1FS1KUknUwPARVvItfKUY+cn57yP7qv07UE3p8B2uhUwLk09\n",
       "e0SCOrK+hbdYHYLjRIl71wWzv9jpEoeOHhGRrJAzyEyNiJuUqX0g2sBN5kGK6y2Blp5M3lsB9Qh4\n",
       "y2Ja6x6+i0ucmKgwMATwhSjdUu49tKrQ/pvN5d53ml2CGwCmJipmKjgmyuaXzNeL2a0AkQ01Th5j\n",
       "2DktO3Jyk8f9vcOBQHV94OK+fPumJmvQHxJoWkaKWq9Vs+yUsbq0zGT1I4RgeH2b5wef7+c7bl8F\n",
       "eKgoHVVZa8ZPEORzR6sT1BzDUAD/d9F78e2Tzv99v8D+fLVTqAKAsbGamKey1Mt9Ann4eH3gTXTz\n",
       "idWtAJ8PQWOk7NzSeQn/OTHDuEikVF1R4z8BQCy+6D1aWRfY0tTGG2OM8rRoPaeIj5ZHzJxszElN\n",
       "VM8K8JS5WOfv8mzRnQAKoEhmt8gyPM4lU9SmBK1MCQBnW4KONT86v1hZ1PbwSXPw4JWussVjtH9Y\n",
       "NCoiL9UoH/6PSu8jFrfY2t36erQHXLIEakMi1SydmzB31h3GGXFDFNPaK8Rme9B79Ixrd0WN+1ij\n",
       "NRQ/doRmuFLBkHSTOm5GruG+pFjFdAmorG4IXH1Qua6ASniclfFtDYt+oUjKipPrCQB7QBQ2lrgP\n",
       "fFzm+9XWUtcqJ3/5vDLDpJ79XHZk3u8nGZ42qlj1+ydtbxysCezrydp6ugmipNJ7WBPB5tydY0jP\n",
       "HaVNzs3QzeE4ZpTbI+ZbnSFPbVOw9vsfnVvqWnirPyCNGD08IlqtYkh2hjZ5dErEQzoNm+6ykyOt\n",
       "Lt5/PQEuSRRKo22VkydK+vvS1XEKlhCJAnsqvcVvH7f/ZU2R67eXbMEGAMiIV5oWZWiWvz5Fv2xG\n",
       "sjqNJQRvn3Rs2lji/lNP19VjAQDgD7FHhujZB9OGqYxRkZxixgRDVlqS6uEOFaJUVu0rPFzctrnF\n",
       "JqijImVp8dEKVWyUXDk92zAuMZ6bFwpBU1HrOw6AdhQgUooChb0+ItMbWJitSo5Ws3IAOGEOtL53\n",
       "0vHZih9sC4vtofZ7Qu6523V/fmGcds1TY3V36pUsBwAbSlxnVh2xLfAD/IAIMDf7XYIkNmXfpp2l\n",
       "18rkAJAy9HKFaIr/qULkeQQKy9zf1JgDB2uaeFNGijo5QsUyacNUUTOnGO42xSnv4oOwpDi1zYkc\n",
       "efUc3I5Gk6PhyTuVKaOGyLUAYPGIoY9Pu/atL/L92+4q9wbflRJ2Trpm/jPjdBtfnqB/dIThcl8A\n",
       "KG7hbRuKnb8qsQsVvVlTrwQAQMUlf3kwJI24Z4JhPMtcfng5GcH49GsrxJpGvvHIaeem2ma+KSjQ\n",
       "lIwUdYyCY8j4dE1KzijNnIP2llF2wcXNnsoapw9XxsgYAl6k+KzUXbi2yP3KR2ecf6z3BFsBICdW\n",
       "nvnIaG3eHybqX7vbpEqUMT+9OL4Qpe8VON7dXuFd39v19FoAABRVePbGGuXTszO0P7tu6lghUonE\n",
       "llRdrhArLvmKdh9u29jcFiRRkfLUxBiFNiqSU9icoZQHo5mYBI1MBgBH6wMNb+U7Pnw337H4gi1Y\n",
       "ciWs+uks3Z9fztUvfzxTm9Ne8XXkvQLHNytOOZeiD4e0PgkAIAYCYknKUNUDSXEKzdWNpnil7r4p\n",
       "xqkjTarZMtk/K8TQ6Qve78qqvXurGwIJqcOUKfUWHsm8KGvxSP68YudXq4pcj39X49uOK2X142O0\n",
       "Tz5/u/7TVybqH0rSya6ZBwD21/gubbrgWdDgEOx9WUhfBaC2ibcEBYm7a7x+ukrBMNcEZggyR0TE\n",
       "T8zUPjikQ4VosQZbTpS4vqizBKvqmvjsqnpfzaZyx9JPiz1/bfGKdgD45XB1zoIMzYbfTdS/NClB\n",
       "Gct0USiY3YL/g0LHy/uq/Ef6uo5+n0R/vyhp17Klpge763f8rMu6YU/zrn2nml+2WtH+Z+5IAAFc\n",
       "2bUTdTDOSNa9+cQY7YLsOIXhevEkCvzph7a8laecz/Un/z4/Ae04XeL3UQb57IwU9ZDr9UuKVajv\n",
       "nxp1+1UVIo/LjztZkKH59fO3G/JemqCfmaCRqbqbd90ZZ8FfjtkfAyD0J/9+C2h1hDwsSxvGjNDc\n",
       "b4zk5NfrSwiQblLHzZhg+Jf4aPlUwpDqkQqa9nimbt1/TDH8OitGMaQnj+RJS6B1fbF7SY1TqO5v\n",
       "/v0WAADl1f7zokgS7s7VT2DZ7pegUjBM7mjtiDZbcN4j0YrHH0rXpCtY0qPX0cVL0rv5jv/ZXend\n",
       "0u/EESYBAFBU4T4Qa5TflZOhTe7pmKpaP8kCVUVw1+yhXfJWvn1P3hnXi33JsTN6PnP3hHZ8Z3/h\n",
       "aLHzmkNPuPj7Bc/F/Q38CwjTpSwQXgE4Vmwry9tpfq/ZFgqFMy4AVDtCvi8rvMvOmv0N4YwbVgEA\n",
       "sPM72/KVnzfspmH7HQGCRLG2yL1+z8XwvPcdCbsAANh+xPzstgMtxeGKt+6MK3/tacfvwhWvIwMi\n",
       "oKEBtm0H7W+UVfkc/Y1V0BhoPlDr/w1w/eu1vjIgAgDg22OtX6/eYfnEz/focrZTHAFR+PSs56/7\n",
       "q32nwpjazxgwAQCwcU/T62t3WL7r6/jVRa6/byp1rei+Z98ZUAEAhEPHPc8fKnTU9nbgtnOe8h0l\n",
       "9hcGIqmODLQAHCy2Xti6v/XNRivf43f4fFvIteu854+VHnR7q9tfBlwAAGz+pnndB9vM26UebAe8\n",
       "SLHujPOTPVW+rwY+sxskAAC2HrA8t2Vvc7ffP1r9o+vwR2dcr92InIAbKKC1FZ5tB1tf+/G8p8sv\n",
       "N/9Q5zd/XR34LYCwV5JdccMEAMDBk45DH243r/X4xGvqxFa/GNpS7n6rwOwNWwHVE26oAADYurf1\n",
       "zx/utOzt+DMKYM0p17YtZZ5VNzqfsB2HewG1WXE8PoZ7gOclbTIvynZf9JV+fqZtfgs/8F/Nu5rB\n",
       "EIBmJ+8QRMmpU7EzGRsf2FzuePqYRbzh/zE26EwdrT10f6r6o8HOYzCJB9Dpff8tbnGLG8L/A/WE\n",
       "roTBs2RqAAAAAElFTkSuQmCC'\n",
       "     style='height:25px; border-radius:12px; display: inline-block; float: left; vertical-align: middle'></img>\n",
       "\n",
       "\n",
       "  <img src='data:image/png;base64,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'\n",
       "       style='height:15px; border-radius:12px; display: inline-block; float: left'></img>\n",
       "  \n",
       "\n",
       "\n",
       "\n",
       "\n",
       "</div>\n"
      ]
     },
     "metadata": {},
     "output_type": "display_data"
    },
    {
     "data": {
      "text/plain": [
       "polars.config.Config"
      ]
     },
     "execution_count": 1,
     "metadata": {},
     "output_type": "execute_result"
    }
   ],
   "source": [
    "import holoviews as hv\n",
    "import polars as pl\n",
    "from holoviews import opts\n",
    "\n",
    "hv.extension(\"bokeh\")\n",
    "pl.Config.set_fmt_str_lengths(200)\n",
    "pl.Config.set_fmt_float(\"full\")"
   ]
  },
  {
   "cell_type": "markdown",
   "metadata": {},
   "source": [
    "The goal of this notebook is to do preliminary analysis of blob transactions in the mempool as a starting point. \n",
    "\n",
    "Scope out what type of data to combine. Initially it seems like Base isn't going to care so much about consensus layer data, just that it makes it\n",
    "into the beacon chain in the first place, in a somewhat timely manner."
   ]
  },
  {
   "cell_type": "code",
   "execution_count": 3,
   "metadata": {},
   "outputs": [],
   "source": [
    "df = pl.read_parquet(\"all_blob_analysis_3w.parquet\").filter(pl.col('from') == '0x5050F69a9786F081509234F1a7F4684b5E5b76C9')"
   ]
  },
  {
   "cell_type": "markdown",
   "metadata": {},
   "source": [
    "### Example - blob transaction waiting in the mempool\n",
    "\n",
    "During periods of high volatility, a blob hash can linger in the mempool longer than desired. This part of the notebook looks at two such blob transactions - the most extreme (popular_str) and a more middle of the pack one (median_str). When a blob transaction needs to be resubmitted with a newer gas price, the transaction hash will be replaced. The way that blob txs are re-entering the mempool as a new transaction is by flattening the `list[str]` of blob hashes into a single large string in order to compare the blob hash similarities.\n",
    "\n",
    "Manual inspection indicates that the blob transactions that are resubmitted is when `count` >= 9. Unsure why this is a general cutoff. The number of blob txs that meet this cutoff was about .7% (70/8900) (over a 21 day period). Zooming into the week 3/24/24 - 3/31/24, the number increases to 1.3% (40/2900)."
   ]
  },
  {
   "cell_type": "code",
   "execution_count": 4,
   "metadata": {},
   "outputs": [
    {
     "data": {
      "text/plain": [
       "(40, 2)"
      ]
     },
     "execution_count": 4,
     "metadata": {},
     "output_type": "execute_result"
    }
   ],
   "source": [
    "(\n",
    "    df.filter(pl.col(\"event_date_time\") > pl.datetime(2024, 3, 24))\n",
    "    .filter(pl.col(\"event_date_time\") < pl.datetime(2024, 3, 31))\n",
    "    .with_columns(\n",
    "        pl.col(\"blob_hashes\")\n",
    "        # flatten list[str] into a long string for analysis\n",
    "        .map_elements(lambda x: \",\".join(x))\n",
    "    )\n",
    "    .group_by(\"blob_hashes\")\n",
    "    .agg(pl.len().alias(\"count\"))\n",
    "    .sort(by=\"count\", descending=True)\n",
    ").filter(pl.col(\"count\") > 8).shape"
   ]
  },
  {
   "cell_type": "code",
   "execution_count": 157,
   "metadata": {},
   "outputs": [],
   "source": [
    "# this table identifies blob txs that have been resubmitted into the mempool with different gas and tx hash values\n",
    "blob_hashes_df = (\n",
    "    df.with_columns(\n",
    "        pl.col(\"blob_hashes\")\n",
    "        # flatten list[str] into a long string for analysis\n",
    "        .map_elements(lambda x: \",\".join(x))\n",
    "    )\n",
    "    .group_by(\"blob_hashes\")\n",
    "    .agg(\n",
    "        pl.len().alias(\"count\"),\n",
    "        pl.col(\"event_date_time\").min(),\n",
    "        pl.col(\"nonce\").first(),\n",
    "    )\n",
    "    .sort(by=\"count\", descending=True)\n",
    ")"
   ]
  },
  {
   "cell_type": "code",
   "execution_count": 122,
   "metadata": {},
   "outputs": [
    {
     "data": {
      "text/html": [
       "<div><style>\n",
       ".dataframe > thead > tr,\n",
       ".dataframe > tbody > tr {\n",
       "  text-align: right;\n",
       "  white-space: pre-wrap;\n",
       "}\n",
       "</style>\n",
       "<small>shape: (4, 8)</small><table border=\"1\" class=\"dataframe\"><thead><tr><th>hash</th><th>count</th><th>mean_event_date_time</th><th>nonce</th><th>blob_gas_fee_cap</th><th>gas_price</th><th>gas_tip_cap</th><th>gas_fee_cap</th></tr><tr><td>str</td><td>u32</td><td>datetime[ms]</td><td>u64</td><td>f64</td><td>f64</td><td>f64</td><td>f64</td></tr></thead><tbody><tr><td>&quot;0x1b7966525db20af4fda4ca5ddf228b728190bbdf4f8b272e723fdad9f945402e&quot;</td><td>6</td><td>2024-03-27 17:00:21.495</td><td>377498</td><td>1</td><td>110.313460342</td><td>2</td><td>110.313460342</td></tr><tr><td>&quot;0x34ec2c04cdf364d4bd64db9b7fccd8855453f30b255fd78eca9291166948dc76&quot;</td><td>6</td><td>2024-03-27 17:02:21.719</td><td>377498</td><td>2</td><td>220.626920684</td><td>4</td><td>220.626920684</td></tr><tr><td>&quot;0x4b8b547398d83441783428a4c216f8ee086bd1b576ee257b36dd5abe9d68d8c3&quot;</td><td>6</td><td>2024-03-27 17:04:21.821</td><td>377498</td><td>4</td><td>441.253841368</td><td>8</td><td>441.253841368</td></tr><tr><td>&quot;0x2136ec22762381161ac4a73877957ab668e4f62403403f4bc76900638918decd&quot;</td><td>6</td><td>2024-03-27 17:06:21.789</td><td>377498</td><td>8</td><td>882.507682736</td><td>16</td><td>882.507682736</td></tr></tbody></table></div>"
      ],
      "text/plain": [
       "shape: (4, 8)\n",
       "┌─────────────┬───────┬─────────────┬────────┬─────────────┬─────────────┬────────────┬────────────┐\n",
       "│ hash        ┆ count ┆ mean_event_ ┆ nonce  ┆ blob_gas_fe ┆ gas_price   ┆ gas_tip_ca ┆ gas_fee_ca │\n",
       "│ ---         ┆ ---   ┆ date_time   ┆ ---    ┆ e_cap       ┆ ---         ┆ p          ┆ p          │\n",
       "│ str         ┆ u32   ┆ ---         ┆ u64    ┆ ---         ┆ f64         ┆ ---        ┆ ---        │\n",
       "│             ┆       ┆ datetime[ms ┆        ┆ f64         ┆             ┆ f64        ┆ f64        │\n",
       "│             ┆       ┆ ]           ┆        ┆             ┆             ┆            ┆            │\n",
       "╞═════════════╪═══════╪═════════════╪════════╪═════════════╪═════════════╪════════════╪════════════╡\n",
       "│ 0x1b7966525 ┆ 6     ┆ 2024-03-27  ┆ 377498 ┆ 1           ┆ 110.3134603 ┆ 2          ┆ 110.313460 │\n",
       "│ db20af4fda4 ┆       ┆ 17:00:21.49 ┆        ┆             ┆ 42          ┆            ┆ 342        │\n",
       "│ ca5ddf228b7 ┆       ┆ 5           ┆        ┆             ┆             ┆            ┆            │\n",
       "│ 28190bbdf4f ┆       ┆             ┆        ┆             ┆             ┆            ┆            │\n",
       "│ 8b272e723fd ┆       ┆             ┆        ┆             ┆             ┆            ┆            │\n",
       "│ ad9f945402e ┆       ┆             ┆        ┆             ┆             ┆            ┆            │\n",
       "│ 0x34ec2c04c ┆ 6     ┆ 2024-03-27  ┆ 377498 ┆ 2           ┆ 220.6269206 ┆ 4          ┆ 220.626920 │\n",
       "│ df364d4bd64 ┆       ┆ 17:02:21.71 ┆        ┆             ┆ 84          ┆            ┆ 684        │\n",
       "│ db9b7fccd88 ┆       ┆ 9           ┆        ┆             ┆             ┆            ┆            │\n",
       "│ 55453f30b25 ┆       ┆             ┆        ┆             ┆             ┆            ┆            │\n",
       "│ 5fd78eca929 ┆       ┆             ┆        ┆             ┆             ┆            ┆            │\n",
       "│ 1166948dc76 ┆       ┆             ┆        ┆             ┆             ┆            ┆            │\n",
       "│ 0x4b8b54739 ┆ 6     ┆ 2024-03-27  ┆ 377498 ┆ 4           ┆ 441.2538413 ┆ 8          ┆ 441.253841 │\n",
       "│ 8d834417834 ┆       ┆ 17:04:21.82 ┆        ┆             ┆ 68          ┆            ┆ 368        │\n",
       "│ 28a4c216f8e ┆       ┆ 1           ┆        ┆             ┆             ┆            ┆            │\n",
       "│ e086bd1b576 ┆       ┆             ┆        ┆             ┆             ┆            ┆            │\n",
       "│ ee257b36dd5 ┆       ┆             ┆        ┆             ┆             ┆            ┆            │\n",
       "│ abe9d68d8c3 ┆       ┆             ┆        ┆             ┆             ┆            ┆            │\n",
       "│ 0x2136ec227 ┆ 6     ┆ 2024-03-27  ┆ 377498 ┆ 8           ┆ 882.5076827 ┆ 16         ┆ 882.507682 │\n",
       "│ 62381161ac4 ┆       ┆ 17:06:21.78 ┆        ┆             ┆ 36          ┆            ┆ 736        │\n",
       "│ a73877957ab ┆       ┆ 9           ┆        ┆             ┆             ┆            ┆            │\n",
       "│ 668e4f62403 ┆       ┆             ┆        ┆             ┆             ┆            ┆            │\n",
       "│ 403f4bc7690 ┆       ┆             ┆        ┆             ┆             ┆            ┆            │\n",
       "│ 0638918decd ┆       ┆             ┆        ┆             ┆             ┆            ┆            │\n",
       "└─────────────┴───────┴─────────────┴────────┴─────────────┴─────────────┴────────────┴────────────┘"
      ]
     },
     "execution_count": 122,
     "metadata": {},
     "output_type": "execute_result"
    }
   ],
   "source": [
    "# popular string - worst case scenario\n",
    "popular_str = blob_hashes_df[0].select(\"blob_hashes\").item()\n",
    "(\n",
    "    df.with_columns(\n",
    "        pl.col(\"blob_hashes\")\n",
    "        # flatten list[str] into a long string for analysis\n",
    "        .map_elements(lambda x: \",\".join(x))\n",
    "    )\n",
    "    # filter columns for easier analysis\n",
    "    .filter(pl.col(\"blob_hashes\") == popular_str)\n",
    "    .drop(\n",
    "        \"type\",\n",
    "        \"to\",\n",
    "        \"from\",\n",
    "        \"meta_network_name\",\n",
    "        \"meta_client_implementation\",\n",
    "        \"meta_client_geo_continent_code\",\n",
    "        \"blob_hashes_length\",\n",
    "        \"fill_percentage\",\n",
    "        \"count\",\n",
    "        \"blob_sidecars_size\",\n",
    "        \"blob_sidecars_empty_size\" \"blob_gas\",\n",
    "    )\n",
    "    .group_by(\"hash\")\n",
    "    .agg(\n",
    "        pl.len().alias(\"count\"),\n",
    "        pl.col(\"event_date_time\").mean().alias(\"mean_event_date_time\"),\n",
    "        # pl.col(\"blob_sidecars_size\").first(),\n",
    "        # pl.col(\"blob_sidecars_empty_size\").first(),\n",
    "        pl.col(\"nonce\").first(),\n",
    "        # pl.col(\"blob_gas\").mean(),\n",
    "        (\n",
    "            pl.col(\"blob_gas_fee_cap\") / 10**9\n",
    "        ).mean(),  # really need blob base fee per gas...but this isn't captured by default. Need to find source?\n",
    "        (\n",
    "            pl.col(\"gas_price\") / 10**9\n",
    "        ).mean(),  # why is gas_price and gas_fee_cap the same?\n",
    "        (pl.col(\"gas_tip_cap\") / 10**9).mean(),  # priority fee per gas\n",
    "        (pl.col(\"gas_fee_cap\") / 10**9).mean(),\n",
    "    )\n",
    "    .sort(by=\"mean_event_date_time\", descending=False)\n",
    ")"
   ]
  },
  {
   "cell_type": "markdown",
   "metadata": {},
   "source": [
    "worst case observations:\n",
    "* Was resubmitted into the mempool 4 times over a 6.5 minute period.\n",
    "* Looking on Ethernow, it look like there's nothing wrong [source](https://www.ethernow.xyz/tx/0x2136ec22762381161ac4a73877957ab668e4f62403403f4bc76900638918decd). However it is strange to see a blob base fee of 0.075 gwei and a max blob fee of 8 gwei.\n",
    "* Looking at the [pending transaction](https://www.ethernow.xyz/tx/0x4b8b547398d83441783428a4c216f8ee086bd1b576ee257b36dd5abe9d68d8c3), we don't have what the hypothetical blob gas price. However we can do some rough estimate math. This blob tx lingered in the mempool for about 35 blocks and was confirmed in block 19526996. \n",
    "At block 19526961, blob base fee was .001 gwei.\n",
    "At block 19526971, blob base fee was .004 gwei.\n",
    "At block 19526981, blob base fee was .012 gwei."
   ]
  },
  {
   "cell_type": "code",
   "execution_count": 127,
   "metadata": {},
   "outputs": [
    {
     "data": {},
     "metadata": {},
     "output_type": "display_data"
    },
    {
     "data": {
      "application/vnd.holoviews_exec.v0+json": "",
      "text/html": [
       "<div id='p1352'>\n",
       "  <div id=\"b0ef7e5e-7441-497b-a0ae-627b34dda97a\" data-root-id=\"p1352\" style=\"display: contents;\"></div>\n",
       "</div>\n",
       "<script type=\"application/javascript\">(function(root) {\n",
       "  var docs_json = {\"f35e2546-e3b4-40b0-bcaa-948fca25eb64\":{\"version\":\"3.3.4\",\"title\":\"Bokeh Application\",\"roots\":[{\"type\":\"object\",\"name\":\"Row\",\"id\":\"p1352\",\"attributes\":{\"name\":\"Row01490\",\"tags\":[\"embedded\"],\"stylesheets\":[\"\\n:host(.pn-loading.pn-arc):before, .pn-loading.pn-arc:before {\\n  background-image: url(\\\"data:image/svg+xml;base64,PHN2ZyB4bWxucz0iaHR0cDovL3d3dy53My5vcmcvMjAwMC9zdmciIHN0eWxlPSJtYXJnaW46IGF1dG87IGJhY2tncm91bmQ6IG5vbmU7IGRpc3BsYXk6IGJsb2NrOyBzaGFwZS1yZW5kZXJpbmc6IGF1dG87IiB2aWV3Qm94PSIwIDAgMTAwIDEwMCIgcHJlc2VydmVBc3BlY3RSYXRpbz0ieE1pZFlNaWQiPiAgPGNpcmNsZSBjeD0iNTAiIGN5PSI1MCIgZmlsbD0ibm9uZSIgc3Ryb2tlPSIjYzNjM2MzIiBzdHJva2Utd2lkdGg9IjEwIiByPSIzNSIgc3Ryb2tlLWRhc2hhcnJheT0iMTY0LjkzMzYxNDMxMzQ2NDE1IDU2Ljk3Nzg3MTQzNzgyMTM4Ij4gICAgPGFuaW1hdGVUcmFuc2Zvcm0gYXR0cmlidXRlTmFtZT0idHJhbnNmb3JtIiB0eXBlPSJyb3RhdGUiIHJlcGVhdENvdW50PSJpbmRlZmluaXRlIiBkdXI9IjFzIiB2YWx1ZXM9IjAgNTAgNTA7MzYwIDUwIDUwIiBrZXlUaW1lcz0iMDsxIj48L2FuaW1hdGVUcmFuc2Zvcm0+ICA8L2NpcmNsZT48L3N2Zz4=\\\");\\n  background-size: auto calc(min(50%, 400px));\\n}\",{\"type\":\"object\",\"name\":\"ImportedStyleSheet\",\"id\":\"p1355\",\"attributes\":{\"url\":\"https://cdn.holoviz.org/panel/1.3.8/dist/css/loading.css\"}},{\"type\":\"object\",\"name\":\"ImportedStyleSheet\",\"id\":\"p1423\",\"attributes\":{\"url\":\"https://cdn.holoviz.org/panel/1.3.8/dist/css/listpanel.css\"}},{\"type\":\"object\",\"name\":\"ImportedStyleSheet\",\"id\":\"p1353\",\"attributes\":{\"url\":\"https://cdn.holoviz.org/panel/1.3.8/dist/bundled/theme/default.css\"}},{\"type\":\"object\",\"name\":\"ImportedStyleSheet\",\"id\":\"p1354\",\"attributes\":{\"url\":\"https://cdn.holoviz.org/panel/1.3.8/dist/bundled/theme/native.css\"}}],\"min_width\":700,\"margin\":0,\"sizing_mode\":\"stretch_width\",\"align\":\"start\",\"children\":[{\"type\":\"object\",\"name\":\"Spacer\",\"id\":\"p1356\",\"attributes\":{\"name\":\"HSpacer01497\",\"stylesheets\":[\"\\n:host(.pn-loading.pn-arc):before, .pn-loading.pn-arc:before {\\n  background-image: url(\\\"data:image/svg+xml;base64,PHN2ZyB4bWxucz0iaHR0cDovL3d3dy53My5vcmcvMjAwMC9zdmciIHN0eWxlPSJtYXJnaW46IGF1dG87IGJhY2tncm91bmQ6IG5vbmU7IGRpc3BsYXk6IGJsb2NrOyBzaGFwZS1yZW5kZXJpbmc6IGF1dG87IiB2aWV3Qm94PSIwIDAgMTAwIDEwMCIgcHJlc2VydmVBc3BlY3RSYXRpbz0ieE1pZFlNaWQiPiAgPGNpcmNsZSBjeD0iNTAiIGN5PSI1MCIgZmlsbD0ibm9uZSIgc3Ryb2tlPSIjYzNjM2MzIiBzdHJva2Utd2lkdGg9IjEwIiByPSIzNSIgc3Ryb2tlLWRhc2hhcnJheT0iMTY0LjkzMzYxNDMxMzQ2NDE1IDU2Ljk3Nzg3MTQzNzgyMTM4Ij4gICAgPGFuaW1hdGVUcmFuc2Zvcm0gYXR0cmlidXRlTmFtZT0idHJhbnNmb3JtIiB0eXBlPSJyb3RhdGUiIHJlcGVhdENvdW50PSJpbmRlZmluaXRlIiBkdXI9IjFzIiB2YWx1ZXM9IjAgNTAgNTA7MzYwIDUwIDUwIiBrZXlUaW1lcz0iMDsxIj48L2FuaW1hdGVUcmFuc2Zvcm0+ICA8L2NpcmNsZT48L3N2Zz4=\\\");\\n  background-size: auto calc(min(50%, 400px));\\n}\",{\"id\":\"p1355\"},{\"id\":\"p1353\"},{\"id\":\"p1354\"}],\"margin\":0,\"sizing_mode\":\"stretch_width\",\"align\":\"start\"}},{\"type\":\"object\",\"name\":\"Figure\",\"id\":\"p1364\",\"attributes\":{\"width\":700,\"height\":300,\"margin\":[5,10],\"sizing_mode\":\"fixed\",\"align\":\"start\",\"x_range\":{\"type\":\"object\",\"name\":\"Range1d\",\"id\":\"p1357\",\"attributes\":{\"tags\":[[[\"event_date_time\",\"event_date_time\",null]],[]],\"start\":1710931620155.3142,\"end\":1712412467100.6858,\"reset_start\":1710931620155.3142,\"reset_end\":1712412467100.6858}},\"y_range\":{\"type\":\"object\",\"name\":\"Range1d\",\"id\":\"p1358\",\"attributes\":{\"tags\":[[[\"count\",\"count\",null]],{\"type\":\"map\",\"entries\":[[\"invert_yaxis\",false],[\"autorange\",false]]}],\"start\":7.5,\"end\":25.5,\"reset_start\":7.5,\"reset_end\":25.5}},\"x_scale\":{\"type\":\"object\",\"name\":\"LinearScale\",\"id\":\"p1374\"},\"y_scale\":{\"type\":\"object\",\"name\":\"LinearScale\",\"id\":\"p1375\"},\"title\":{\"type\":\"object\",\"name\":\"Title\",\"id\":\"p1367\",\"attributes\":{\"text\":\"blob tx resubmission frequency\",\"text_color\":\"black\",\"text_font_size\":\"12pt\"}},\"renderers\":[{\"type\":\"object\",\"name\":\"GlyphRenderer\",\"id\":\"p1416\",\"attributes\":{\"data_source\":{\"type\":\"object\",\"name\":\"ColumnDataSource\",\"id\":\"p1407\",\"attributes\":{\"selected\":{\"type\":\"object\",\"name\":\"Selection\",\"id\":\"p1408\",\"attributes\":{\"indices\":[],\"line_indices\":[]}},\"selection_policy\":{\"type\":\"object\",\"name\":\"UnionRenderers\",\"id\":\"p1409\"},\"data\":{\"type\":\"map\",\"entries\":[[\"event_date_time\",{\"type\":\"ndarray\",\"array\":{\"type\":\"bytes\",\"data\":\"AAAxSu/leEIAIMNwDeh4QgAwGbAN6HhCALBKsA3oeEIAgFcODuh4QgCQHjQO6HhCAHCLS3foeEIAUJkSn+h4QgBQHTif6HhCAKBLYJ/oeEIAgOP+n+h4QgBwqemg6HhCAIBc+KDoeEIAMP0hoeh4QgCwR3yh6HhCAGDIiqHoeEIA0Ciooeh4QgDAhdGh6HhCACAR6qLoeEIAIJy2veh4QgDQAb+96HhCAFB96L3oeEIAUK6sv+h4QgDQ3i7A6HhCAEDMGcLoeEIAAOvLwuh4QgAgjuHP6HhCAJAgiNXoeEIAEA6f1eh4QgDwbtLV6HhCAGDEANboeEIAUIq61uh4QgBg8uPW6HhCADCeH9foeEIA8IEt5uh4QgDwe4bs6HhCALCHdu/oeEIAEOOC7+h4QgAAhK7v6HhCAOD1xe/oeEIAcGt/8+h4QgAwTYU36XhCANBCMHbpeEIAwKtOd+l4QgDwT1h46XhCAEAegHvpeEIAUB6hfOl4QgDQKNfK6XhCAJCy9crpeEIAUCYTy+l4QgCAijHL6XhCABDaacvpeEIAkKat9el4QgCwTs/16XhCAOBH9/XpeEIAYJa9+Ol4QgAgEAH56XhCAGA9I/npeEIAcF5h+el4QgAQoGf56XhCADDLbvnpeEIAoDinDup4QgCwnllG6nhCAKAzLFDqeEIAwBhXUOp4QgAQty+n6nhCAMCG+O/qeEIAcGoG8Op4QgCA3AoE63hC\"},\"shape\":[69],\"dtype\":\"float64\",\"order\":\"little\"}],[\"count\",{\"type\":\"ndarray\",\"array\":{\"type\":\"bytes\",\"data\":\"CQAAAAwAAAAMAAAAGAAAABgAAAAMAAAADAAAAAkAAAAJAAAACQAAAAkAAAAJAAAACQAAAAkAAAAJAAAADAAAAAkAAAAJAAAACQAAAAwAAAAMAAAACQAAAAkAAAAJAAAACQAAAAkAAAAJAAAACQAAAAkAAAAJAAAACQAAAAkAAAAJAAAACQAAAAkAAAAJAAAACQAAAAkAAAAJAAAACQAAAAkAAAAJAAAACQAAAAkAAAAJAAAACQAAAAkAAAAJAAAACQAAAAkAAAAJAAAACQAAAAkAAAAJAAAACQAAAAkAAAAJAAAACQAAAAkAAAAJAAAACQAAAAkAAAAJAAAACQAAAAkAAAAJAAAACQAAAAkAAAAJAAAA\"},\"shape\":[69],\"dtype\":\"uint32\",\"order\":\"little\"}]]}}},\"view\":{\"type\":\"object\",\"name\":\"CDSView\",\"id\":\"p1417\",\"attributes\":{\"filter\":{\"type\":\"object\",\"name\":\"AllIndices\",\"id\":\"p1418\"}}},\"glyph\":{\"type\":\"object\",\"name\":\"Scatter\",\"id\":\"p1413\",\"attributes\":{\"tags\":[\"apply_ranges\"],\"x\":{\"type\":\"field\",\"field\":\"event_date_time\"},\"y\":{\"type\":\"field\",\"field\":\"count\"},\"size\":{\"type\":\"value\",\"value\":5.477225575051661},\"line_color\":{\"type\":\"value\",\"value\":\"#30a2da\"},\"fill_color\":{\"type\":\"value\",\"value\":\"#30a2da\"},\"hatch_color\":{\"type\":\"value\",\"value\":\"#30a2da\"}}},\"selection_glyph\":{\"type\":\"object\",\"name\":\"Scatter\",\"id\":\"p1419\",\"attributes\":{\"tags\":[\"apply_ranges\"],\"x\":{\"type\":\"field\",\"field\":\"event_date_time\"},\"y\":{\"type\":\"field\",\"field\":\"count\"},\"size\":{\"type\":\"value\",\"value\":5.477225575051661},\"angle\":{\"type\":\"value\",\"value\":0.0},\"line_color\":{\"type\":\"value\",\"value\":\"#30a2da\"},\"line_alpha\":{\"type\":\"value\",\"value\":1.0},\"line_width\":{\"type\":\"value\",\"value\":1},\"line_join\":{\"type\":\"value\",\"value\":\"bevel\"},\"line_cap\":{\"type\":\"value\",\"value\":\"butt\"},\"line_dash\":{\"type\":\"value\",\"value\":[]},\"line_dash_offset\":{\"type\":\"value\",\"value\":0},\"fill_color\":{\"type\":\"value\",\"value\":\"#30a2da\"},\"fill_alpha\":{\"type\":\"value\",\"value\":1.0},\"hatch_color\":{\"type\":\"value\",\"value\":\"#30a2da\"},\"hatch_alpha\":{\"type\":\"value\",\"value\":1.0},\"hatch_scale\":{\"type\":\"value\",\"value\":12.0},\"hatch_pattern\":{\"type\":\"value\",\"value\":null},\"hatch_weight\":{\"type\":\"value\",\"value\":1.0},\"marker\":{\"type\":\"value\",\"value\":\"circle\"}}},\"nonselection_glyph\":{\"type\":\"object\",\"name\":\"Scatter\",\"id\":\"p1414\",\"attributes\":{\"tags\":[\"apply_ranges\"],\"x\":{\"type\":\"field\",\"field\":\"event_date_time\"},\"y\":{\"type\":\"field\",\"field\":\"count\"},\"size\":{\"type\":\"value\",\"value\":5.477225575051661},\"line_color\":{\"type\":\"value\",\"value\":\"#30a2da\"},\"line_alpha\":{\"type\":\"value\",\"value\":0.1},\"fill_color\":{\"type\":\"value\",\"value\":\"#30a2da\"},\"fill_alpha\":{\"type\":\"value\",\"value\":0.1},\"hatch_color\":{\"type\":\"value\",\"value\":\"#30a2da\"},\"hatch_alpha\":{\"type\":\"value\",\"value\":0.1}}},\"muted_glyph\":{\"type\":\"object\",\"name\":\"Scatter\",\"id\":\"p1415\",\"attributes\":{\"tags\":[\"apply_ranges\"],\"x\":{\"type\":\"field\",\"field\":\"event_date_time\"},\"y\":{\"type\":\"field\",\"field\":\"count\"},\"size\":{\"type\":\"value\",\"value\":5.477225575051661},\"line_color\":{\"type\":\"value\",\"value\":\"#30a2da\"},\"line_alpha\":{\"type\":\"value\",\"value\":0.2},\"fill_color\":{\"type\":\"value\",\"value\":\"#30a2da\"},\"fill_alpha\":{\"type\":\"value\",\"value\":0.2},\"hatch_color\":{\"type\":\"value\",\"value\":\"#30a2da\"},\"hatch_alpha\":{\"type\":\"value\",\"value\":0.2}}}}}],\"toolbar\":{\"type\":\"object\",\"name\":\"Toolbar\",\"id\":\"p1373\",\"attributes\":{\"tools\":[{\"type\":\"object\",\"name\":\"WheelZoomTool\",\"id\":\"p1362\",\"attributes\":{\"tags\":[\"hv_created\"],\"renderers\":\"auto\",\"zoom_together\":\"none\"}},{\"type\":\"object\",\"name\":\"HoverTool\",\"id\":\"p1363\",\"attributes\":{\"tags\":[\"hv_created\"],\"renderers\":[{\"id\":\"p1416\"}],\"tooltips\":[[\"event_date_time\",\"@{event_date_time}{%F %T}\"],[\"count\",\"@{count}\"]],\"formatters\":{\"type\":\"map\",\"entries\":[[\"@{event_date_time}\",\"datetime\"]]}}},{\"type\":\"object\",\"name\":\"SaveTool\",\"id\":\"p1398\"},{\"type\":\"object\",\"name\":\"PanTool\",\"id\":\"p1399\"},{\"type\":\"object\",\"name\":\"BoxZoomTool\",\"id\":\"p1400\",\"attributes\":{\"overlay\":{\"type\":\"object\",\"name\":\"BoxAnnotation\",\"id\":\"p1401\",\"attributes\":{\"syncable\":false,\"level\":\"overlay\",\"visible\":false,\"left\":{\"type\":\"number\",\"value\":\"nan\"},\"right\":{\"type\":\"number\",\"value\":\"nan\"},\"top\":{\"type\":\"number\",\"value\":\"nan\"},\"bottom\":{\"type\":\"number\",\"value\":\"nan\"},\"left_units\":\"canvas\",\"right_units\":\"canvas\",\"top_units\":\"canvas\",\"bottom_units\":\"canvas\",\"line_color\":\"black\",\"line_alpha\":1.0,\"line_width\":2,\"line_dash\":[4,4],\"fill_color\":\"lightgrey\",\"fill_alpha\":0.5}}}},{\"type\":\"object\",\"name\":\"ResetTool\",\"id\":\"p1406\"}],\"active_drag\":{\"id\":\"p1399\"},\"active_scroll\":{\"id\":\"p1362\"}}},\"left\":[{\"type\":\"object\",\"name\":\"LinearAxis\",\"id\":\"p1393\",\"attributes\":{\"ticker\":{\"type\":\"object\",\"name\":\"BasicTicker\",\"id\":\"p1394\",\"attributes\":{\"mantissas\":[1,2,5]}},\"formatter\":{\"type\":\"object\",\"name\":\"BasicTickFormatter\",\"id\":\"p1395\"},\"axis_label\":\"count\",\"major_label_policy\":{\"type\":\"object\",\"name\":\"AllLabels\",\"id\":\"p1396\"}}}],\"below\":[{\"type\":\"object\",\"name\":\"DatetimeAxis\",\"id\":\"p1376\",\"attributes\":{\"ticker\":{\"type\":\"object\",\"name\":\"DatetimeTicker\",\"id\":\"p1377\",\"attributes\":{\"num_minor_ticks\":5,\"tickers\":[{\"type\":\"object\",\"name\":\"AdaptiveTicker\",\"id\":\"p1378\",\"attributes\":{\"num_minor_ticks\":0,\"mantissas\":[1,2,5],\"max_interval\":500.0}},{\"type\":\"object\",\"name\":\"AdaptiveTicker\",\"id\":\"p1379\",\"attributes\":{\"num_minor_ticks\":0,\"base\":60,\"mantissas\":[1,2,5,10,15,20,30],\"min_interval\":1000.0,\"max_interval\":1800000.0}},{\"type\":\"object\",\"name\":\"AdaptiveTicker\",\"id\":\"p1380\",\"attributes\":{\"num_minor_ticks\":0,\"base\":24,\"mantissas\":[1,2,4,6,8,12],\"min_interval\":3600000.0,\"max_interval\":43200000.0}},{\"type\":\"object\",\"name\":\"DaysTicker\",\"id\":\"p1381\",\"attributes\":{\"days\":[1,2,3,4,5,6,7,8,9,10,11,12,13,14,15,16,17,18,19,20,21,22,23,24,25,26,27,28,29,30,31]}},{\"type\":\"object\",\"name\":\"DaysTicker\",\"id\":\"p1382\",\"attributes\":{\"days\":[1,4,7,10,13,16,19,22,25,28]}},{\"type\":\"object\",\"name\":\"DaysTicker\",\"id\":\"p1383\",\"attributes\":{\"days\":[1,8,15,22]}},{\"type\":\"object\",\"name\":\"DaysTicker\",\"id\":\"p1384\",\"attributes\":{\"days\":[1,15]}},{\"type\":\"object\",\"name\":\"MonthsTicker\",\"id\":\"p1385\",\"attributes\":{\"months\":[0,1,2,3,4,5,6,7,8,9,10,11]}},{\"type\":\"object\",\"name\":\"MonthsTicker\",\"id\":\"p1386\",\"attributes\":{\"months\":[0,2,4,6,8,10]}},{\"type\":\"object\",\"name\":\"MonthsTicker\",\"id\":\"p1387\",\"attributes\":{\"months\":[0,4,8]}},{\"type\":\"object\",\"name\":\"MonthsTicker\",\"id\":\"p1388\",\"attributes\":{\"months\":[0,6]}},{\"type\":\"object\",\"name\":\"YearsTicker\",\"id\":\"p1389\"}]}},\"formatter\":{\"type\":\"object\",\"name\":\"DatetimeTickFormatter\",\"id\":\"p1390\"},\"axis_label\":\"event_date_time\",\"major_label_policy\":{\"type\":\"object\",\"name\":\"AllLabels\",\"id\":\"p1391\"}}}],\"center\":[{\"type\":\"object\",\"name\":\"Grid\",\"id\":\"p1392\",\"attributes\":{\"axis\":{\"id\":\"p1376\"},\"grid_line_color\":null}},{\"type\":\"object\",\"name\":\"Grid\",\"id\":\"p1397\",\"attributes\":{\"dimension\":1,\"axis\":{\"id\":\"p1393\"},\"grid_line_color\":null}}],\"min_border_top\":10,\"min_border_bottom\":10,\"min_border_left\":10,\"min_border_right\":10,\"output_backend\":\"webgl\"}},{\"type\":\"object\",\"name\":\"Spacer\",\"id\":\"p1421\",\"attributes\":{\"name\":\"HSpacer01498\",\"stylesheets\":[\"\\n:host(.pn-loading.pn-arc):before, .pn-loading.pn-arc:before {\\n  background-image: url(\\\"data:image/svg+xml;base64,PHN2ZyB4bWxucz0iaHR0cDovL3d3dy53My5vcmcvMjAwMC9zdmciIHN0eWxlPSJtYXJnaW46IGF1dG87IGJhY2tncm91bmQ6IG5vbmU7IGRpc3BsYXk6IGJsb2NrOyBzaGFwZS1yZW5kZXJpbmc6IGF1dG87IiB2aWV3Qm94PSIwIDAgMTAwIDEwMCIgcHJlc2VydmVBc3BlY3RSYXRpbz0ieE1pZFlNaWQiPiAgPGNpcmNsZSBjeD0iNTAiIGN5PSI1MCIgZmlsbD0ibm9uZSIgc3Ryb2tlPSIjYzNjM2MzIiBzdHJva2Utd2lkdGg9IjEwIiByPSIzNSIgc3Ryb2tlLWRhc2hhcnJheT0iMTY0LjkzMzYxNDMxMzQ2NDE1IDU2Ljk3Nzg3MTQzNzgyMTM4Ij4gICAgPGFuaW1hdGVUcmFuc2Zvcm0gYXR0cmlidXRlTmFtZT0idHJhbnNmb3JtIiB0eXBlPSJyb3RhdGUiIHJlcGVhdENvdW50PSJpbmRlZmluaXRlIiBkdXI9IjFzIiB2YWx1ZXM9IjAgNTAgNTA7MzYwIDUwIDUwIiBrZXlUaW1lcz0iMDsxIj48L2FuaW1hdGVUcmFuc2Zvcm0+ICA8L2NpcmNsZT48L3N2Zz4=\\\");\\n  background-size: auto calc(min(50%, 400px));\\n}\",{\"id\":\"p1355\"},{\"id\":\"p1353\"},{\"id\":\"p1354\"}],\"margin\":0,\"sizing_mode\":\"stretch_width\",\"align\":\"start\"}}]}}],\"defs\":[{\"type\":\"model\",\"name\":\"ReactiveHTML1\"},{\"type\":\"model\",\"name\":\"FlexBox1\",\"properties\":[{\"name\":\"align_content\",\"kind\":\"Any\",\"default\":\"flex-start\"},{\"name\":\"align_items\",\"kind\":\"Any\",\"default\":\"flex-start\"},{\"name\":\"flex_direction\",\"kind\":\"Any\",\"default\":\"row\"},{\"name\":\"flex_wrap\",\"kind\":\"Any\",\"default\":\"wrap\"},{\"name\":\"justify_content\",\"kind\":\"Any\",\"default\":\"flex-start\"}]},{\"type\":\"model\",\"name\":\"FloatPanel1\",\"properties\":[{\"name\":\"config\",\"kind\":\"Any\",\"default\":{\"type\":\"map\"}},{\"name\":\"contained\",\"kind\":\"Any\",\"default\":true},{\"name\":\"position\",\"kind\":\"Any\",\"default\":\"right-top\"},{\"name\":\"offsetx\",\"kind\":\"Any\",\"default\":null},{\"name\":\"offsety\",\"kind\":\"Any\",\"default\":null},{\"name\":\"theme\",\"kind\":\"Any\",\"default\":\"primary\"},{\"name\":\"status\",\"kind\":\"Any\",\"default\":\"normalized\"}]},{\"type\":\"model\",\"name\":\"GridStack1\",\"properties\":[{\"name\":\"mode\",\"kind\":\"Any\",\"default\":\"warn\"},{\"name\":\"ncols\",\"kind\":\"Any\",\"default\":null},{\"name\":\"nrows\",\"kind\":\"Any\",\"default\":null},{\"name\":\"allow_resize\",\"kind\":\"Any\",\"default\":true},{\"name\":\"allow_drag\",\"kind\":\"Any\",\"default\":true},{\"name\":\"state\",\"kind\":\"Any\",\"default\":[]}]},{\"type\":\"model\",\"name\":\"drag1\",\"properties\":[{\"name\":\"slider_width\",\"kind\":\"Any\",\"default\":5},{\"name\":\"slider_color\",\"kind\":\"Any\",\"default\":\"black\"},{\"name\":\"value\",\"kind\":\"Any\",\"default\":50}]},{\"type\":\"model\",\"name\":\"click1\",\"properties\":[{\"name\":\"terminal_output\",\"kind\":\"Any\",\"default\":\"\"},{\"name\":\"debug_name\",\"kind\":\"Any\",\"default\":\"\"},{\"name\":\"clears\",\"kind\":\"Any\",\"default\":0}]},{\"type\":\"model\",\"name\":\"copy_to_clipboard1\",\"properties\":[{\"name\":\"fill\",\"kind\":\"Any\",\"default\":\"none\"},{\"name\":\"value\",\"kind\":\"Any\",\"default\":null}]},{\"type\":\"model\",\"name\":\"FastWrapper1\",\"properties\":[{\"name\":\"object\",\"kind\":\"Any\",\"default\":null},{\"name\":\"style\",\"kind\":\"Any\",\"default\":null}]},{\"type\":\"model\",\"name\":\"NotificationAreaBase1\",\"properties\":[{\"name\":\"js_events\",\"kind\":\"Any\",\"default\":{\"type\":\"map\"}},{\"name\":\"position\",\"kind\":\"Any\",\"default\":\"bottom-right\"},{\"name\":\"_clear\",\"kind\":\"Any\",\"default\":0}]},{\"type\":\"model\",\"name\":\"NotificationArea1\",\"properties\":[{\"name\":\"js_events\",\"kind\":\"Any\",\"default\":{\"type\":\"map\"}},{\"name\":\"notifications\",\"kind\":\"Any\",\"default\":[]},{\"name\":\"position\",\"kind\":\"Any\",\"default\":\"bottom-right\"},{\"name\":\"_clear\",\"kind\":\"Any\",\"default\":0},{\"name\":\"types\",\"kind\":\"Any\",\"default\":[{\"type\":\"map\",\"entries\":[[\"type\",\"warning\"],[\"background\",\"#ffc107\"],[\"icon\",{\"type\":\"map\",\"entries\":[[\"className\",\"fas fa-exclamation-triangle\"],[\"tagName\",\"i\"],[\"color\",\"white\"]]}]]},{\"type\":\"map\",\"entries\":[[\"type\",\"info\"],[\"background\",\"#007bff\"],[\"icon\",{\"type\":\"map\",\"entries\":[[\"className\",\"fas fa-info-circle\"],[\"tagName\",\"i\"],[\"color\",\"white\"]]}]]}]}]},{\"type\":\"model\",\"name\":\"Notification\",\"properties\":[{\"name\":\"background\",\"kind\":\"Any\",\"default\":null},{\"name\":\"duration\",\"kind\":\"Any\",\"default\":3000},{\"name\":\"icon\",\"kind\":\"Any\",\"default\":null},{\"name\":\"message\",\"kind\":\"Any\",\"default\":\"\"},{\"name\":\"notification_type\",\"kind\":\"Any\",\"default\":null},{\"name\":\"_destroyed\",\"kind\":\"Any\",\"default\":false}]},{\"type\":\"model\",\"name\":\"TemplateActions1\",\"properties\":[{\"name\":\"open_modal\",\"kind\":\"Any\",\"default\":0},{\"name\":\"close_modal\",\"kind\":\"Any\",\"default\":0}]},{\"type\":\"model\",\"name\":\"BootstrapTemplateActions1\",\"properties\":[{\"name\":\"open_modal\",\"kind\":\"Any\",\"default\":0},{\"name\":\"close_modal\",\"kind\":\"Any\",\"default\":0}]},{\"type\":\"model\",\"name\":\"MaterialTemplateActions1\",\"properties\":[{\"name\":\"open_modal\",\"kind\":\"Any\",\"default\":0},{\"name\":\"close_modal\",\"kind\":\"Any\",\"default\":0}]}]}};\n",
       "  var render_items = [{\"docid\":\"f35e2546-e3b4-40b0-bcaa-948fca25eb64\",\"roots\":{\"p1352\":\"b0ef7e5e-7441-497b-a0ae-627b34dda97a\"},\"root_ids\":[\"p1352\"]}];\n",
       "  var docs = Object.values(docs_json)\n",
       "  if (!docs) {\n",
       "    return\n",
       "  }\n",
       "  const py_version = docs[0].version.replace('rc', '-rc.').replace('.dev', '-dev.')\n",
       "  function embed_document(root) {\n",
       "    var Bokeh = get_bokeh(root)\n",
       "    Bokeh.embed.embed_items_notebook(docs_json, render_items);\n",
       "    for (const render_item of render_items) {\n",
       "      for (const root_id of render_item.root_ids) {\n",
       "\tconst id_el = document.getElementById(root_id)\n",
       "\tif (id_el.children.length && (id_el.children[0].className === 'bk-root')) {\n",
       "\t  const root_el = id_el.children[0]\n",
       "\t  root_el.id = root_el.id + '-rendered'\n",
       "\t}\n",
       "      }\n",
       "    }\n",
       "  }\n",
       "  function get_bokeh(root) {\n",
       "    if (root.Bokeh === undefined) {\n",
       "      return null\n",
       "    } else if (root.Bokeh.version !== py_version) {\n",
       "      if (root.Bokeh.versions === undefined || !root.Bokeh.versions.has(py_version)) {\n",
       "\treturn null\n",
       "      }\n",
       "      return root.Bokeh.versions.get(py_version);\n",
       "    } else if (root.Bokeh.version === py_version) {\n",
       "      return root.Bokeh\n",
       "    }\n",
       "    return null\n",
       "  }\n",
       "  function is_loaded(root) {\n",
       "    var Bokeh = get_bokeh(root)\n",
       "    return (Bokeh != null && Bokeh.Panel !== undefined)\n",
       "  }\n",
       "  if (is_loaded(root)) {\n",
       "    embed_document(root);\n",
       "  } else {\n",
       "    var attempts = 0;\n",
       "    var timer = setInterval(function(root) {\n",
       "      if (is_loaded(root)) {\n",
       "        clearInterval(timer);\n",
       "        embed_document(root);\n",
       "      } else if (document.readyState == \"complete\") {\n",
       "        attempts++;\n",
       "        if (attempts > 200) {\n",
       "          clearInterval(timer);\n",
       "\t  var Bokeh = get_bokeh(root)\n",
       "\t  if (Bokeh == null || Bokeh.Panel == null) {\n",
       "            console.warn(\"Panel: ERROR: Unable to run Panel code because Bokeh or Panel library is missing\");\n",
       "\t  } else {\n",
       "\t    console.warn(\"Panel: WARNING: Attempting to render but not all required libraries could be resolved.\")\n",
       "\t    embed_document(root)\n",
       "\t  }\n",
       "        }\n",
       "      }\n",
       "    }, 25, root)\n",
       "  }\n",
       "})(window);</script>"
      ],
      "text/plain": [
       ":Scatter   [event_date_time]   (count)"
      ]
     },
     "execution_count": 127,
     "metadata": {
      "application/vnd.holoviews_exec.v0+json": {
       "id": "p1352"
      }
     },
     "output_type": "execute_result"
    }
   ],
   "source": [
    "blob_hashes_df.filter(pl.col(\"count\") > 8).sort(by=\"event_date_time\").plot.scatter(\n",
    "    x=\"event_date_time\", y=\"count\", title=\"blob tx resubmission frequency\"\n",
    ")"
   ]
  },
  {
   "cell_type": "code",
   "execution_count": 128,
   "metadata": {},
   "outputs": [
    {
     "data": {
      "text/html": [
       "<div><style>\n",
       ".dataframe > thead > tr,\n",
       ".dataframe > tbody > tr {\n",
       "  text-align: right;\n",
       "  white-space: pre-wrap;\n",
       "}\n",
       "</style>\n",
       "<small>shape: (3, 8)</small><table border=\"1\" class=\"dataframe\"><thead><tr><th>hash</th><th>count</th><th>mean_event_date_time</th><th>nonce</th><th>blob_gas_fee_cap</th><th>gas_price</th><th>gas_tip_cap</th><th>gas_fee_cap</th></tr><tr><td>str</td><td>u32</td><td>datetime[ms]</td><td>u64</td><td>f64</td><td>f64</td><td>f64</td><td>f64</td></tr></thead><tbody><tr><td>&quot;0xc25ea01ba3bfd3c275288c1db620c1d4fb79d948e1ac9d4c3e7a555dc2235c46&quot;</td><td>3</td><td>2024-04-02 16:09:17.186</td><td>380548</td><td>106.17202027399999</td><td>139.059784054</td><td>2</td><td>139.059784054</td></tr><tr><td>&quot;0xac64a723a0dbb96ad309d6796540b541eb4b327fb8f2cad5791e2a0077208c5c&quot;</td><td>3</td><td>2024-04-02 16:11:17.394</td><td>380548</td><td>212.34404054799998</td><td>278.119568108</td><td>4</td><td>278.119568108</td></tr><tr><td>&quot;0x975098828f8a7bec90eebbdc2f55427c238b71c00bbe5ccb0a4b319c190d877b&quot;</td><td>3</td><td>2024-04-02 16:13:17.156</td><td>380548</td><td>424.68808109599996</td><td>556.239136216</td><td>8</td><td>556.239136216</td></tr></tbody></table></div>"
      ],
      "text/plain": [
       "shape: (3, 8)\n",
       "┌─────────────┬───────┬─────────────┬────────┬─────────────┬─────────────┬────────────┬────────────┐\n",
       "│ hash        ┆ count ┆ mean_event_ ┆ nonce  ┆ blob_gas_fe ┆ gas_price   ┆ gas_tip_ca ┆ gas_fee_ca │\n",
       "│ ---         ┆ ---   ┆ date_time   ┆ ---    ┆ e_cap       ┆ ---         ┆ p          ┆ p          │\n",
       "│ str         ┆ u32   ┆ ---         ┆ u64    ┆ ---         ┆ f64         ┆ ---        ┆ ---        │\n",
       "│             ┆       ┆ datetime[ms ┆        ┆ f64         ┆             ┆ f64        ┆ f64        │\n",
       "│             ┆       ┆ ]           ┆        ┆             ┆             ┆            ┆            │\n",
       "╞═════════════╪═══════╪═════════════╪════════╪═════════════╪═════════════╪════════════╪════════════╡\n",
       "│ 0xc25ea01ba ┆ 3     ┆ 2024-04-02  ┆ 380548 ┆ 106.1720202 ┆ 139.0597840 ┆ 2          ┆ 139.059784 │\n",
       "│ 3bfd3c27528 ┆       ┆ 16:09:17.18 ┆        ┆ 7399999     ┆ 54          ┆            ┆ 054        │\n",
       "│ 8c1db620c1d ┆       ┆ 6           ┆        ┆             ┆             ┆            ┆            │\n",
       "│ 4fb79d948e1 ┆       ┆             ┆        ┆             ┆             ┆            ┆            │\n",
       "│ ac9d4c3e7a5 ┆       ┆             ┆        ┆             ┆             ┆            ┆            │\n",
       "│ 55dc2235c46 ┆       ┆             ┆        ┆             ┆             ┆            ┆            │\n",
       "│ 0xac64a723a ┆ 3     ┆ 2024-04-02  ┆ 380548 ┆ 212.3440405 ┆ 278.1195681 ┆ 4          ┆ 278.119568 │\n",
       "│ 0dbb96ad309 ┆       ┆ 16:11:17.39 ┆        ┆ 4799998     ┆ 08          ┆            ┆ 108        │\n",
       "│ d6796540b54 ┆       ┆ 4           ┆        ┆             ┆             ┆            ┆            │\n",
       "│ 1eb4b327fb8 ┆       ┆             ┆        ┆             ┆             ┆            ┆            │\n",
       "│ f2cad5791e2 ┆       ┆             ┆        ┆             ┆             ┆            ┆            │\n",
       "│ a0077208c5c ┆       ┆             ┆        ┆             ┆             ┆            ┆            │\n",
       "│ 0x975098828 ┆ 3     ┆ 2024-04-02  ┆ 380548 ┆ 424.6880810 ┆ 556.2391362 ┆ 8          ┆ 556.239136 │\n",
       "│ f8a7bec90ee ┆       ┆ 16:13:17.15 ┆        ┆ 9599996     ┆ 16          ┆            ┆ 216        │\n",
       "│ bbdc2f55427 ┆       ┆ 6           ┆        ┆             ┆             ┆            ┆            │\n",
       "│ c238b71c00b ┆       ┆             ┆        ┆             ┆             ┆            ┆            │\n",
       "│ be5ccb0a4b3 ┆       ┆             ┆        ┆             ┆             ┆            ┆            │\n",
       "│ 19c190d877b ┆       ┆             ┆        ┆             ┆             ┆            ┆            │\n",
       "└─────────────┴───────┴─────────────┴────────┴─────────────┴─────────────┴────────────┴────────────┘"
      ]
     },
     "execution_count": 128,
     "metadata": {},
     "output_type": "execute_result"
    }
   ],
   "source": [
    "# median string - least worse case scenario\n",
    "median_str = blob_hashes_df.filter(pl.col(\"count\") == 9)[\n",
    "    1].select(\"blob_hashes\").item()\n",
    "\n",
    "(\n",
    "    df.with_columns(\n",
    "        pl.col(\"blob_hashes\")\n",
    "        # flatten list[str] into a long string for analysis\n",
    "        .map_elements(lambda x: \",\".join(x))\n",
    "    )\n",
    "    # filter columns for easier analysis\n",
    "    .filter(pl.col(\"blob_hashes\") == median_str)\n",
    "    .drop(\n",
    "        \"type\",\n",
    "        \"to\",\n",
    "        \"from\",\n",
    "        \"meta_network_name\",\n",
    "        \"meta_client_implementation\",\n",
    "        \"meta_client_geo_continent_code\",\n",
    "        \"blob_hashes_length\",\n",
    "        \"fill_percentage\",\n",
    "    )\n",
    "    .group_by(\"hash\")\n",
    "    .agg(\n",
    "        pl.len().alias(\"count\"),\n",
    "        pl.col(\"event_date_time\").mean().alias(\"mean_event_date_time\"),\n",
    "        # pl.col(\"blob_sidecars_size\").first(),\n",
    "        # pl.col(\"blob_sidecars_empty_size\").first(),\n",
    "        pl.col(\"nonce\").first(),\n",
    "        # pl.col(\"blob_gas\").mean(),\n",
    "        (\n",
    "            pl.col(\"blob_gas_fee_cap\") / 10**9\n",
    "        ).mean(),  # really need blob base fee per gas...but this isn't captured by default. Need to find source?\n",
    "        (\n",
    "            pl.col(\"gas_price\") / 10**9\n",
    "        ).mean(),  # why is gas_price and gas_fee_cap the same?\n",
    "        (pl.col(\"gas_tip_cap\") / 10**9).mean(),  # priority fee per gas\n",
    "        (pl.col(\"gas_fee_cap\") / 10**9).mean(),\n",
    "    )\n",
    "    .sort(by=\"mean_event_date_time\", descending=False)\n",
    ")"
   ]
  },
  {
   "cell_type": "markdown",
   "metadata": {},
   "source": [
    "### When a blob tx is waiting with a certain nonce, does that delay the rest of the blobs that need to be posted?"
   ]
  },
  {
   "cell_type": "code",
   "execution_count": 168,
   "metadata": {},
   "outputs": [
    {
     "data": {
      "text/html": [
       "<div><style>\n",
       ".dataframe > thead > tr,\n",
       ".dataframe > tbody > tr {\n",
       "  text-align: right;\n",
       "  white-space: pre-wrap;\n",
       "}\n",
       "</style>\n",
       "<small>shape: (9, 4)</small><table border=\"1\" class=\"dataframe\"><thead><tr><th>blob_hashes</th><th>count</th><th>event_date_time</th><th>nonce</th></tr><tr><td>str</td><td>u32</td><td>datetime[ms]</td><td>u64</td></tr></thead><tbody><tr><td>&quot;0x0134bdac242e7d81a2b686e1ef8f07ff4e1ad99c26033af5f9b02c51cc0d0366,0x01e409fe15526b3325e64dddab2922cd051e5849710cc40fbd693e91cc260a47,0x01f5aee96724e6d92c2f5cd286cddc176885c6b8c2ecd34cd0e1bda944d8b28…</td><td>3</td><td>2024-04-02 15:01:02.861</td><td>380519</td></tr><tr><td>&quot;0x01075cb3d124fdb249d2303cab68153eae8b1dded93fa31696a186cff1cf4a44,0x01c04a89d3a5128b58c588ecce447f78c72f7bb5f020701126d60d8ce916c55f,0x01bbbac5c8aea09d5685f299195bf18bfd76be3f3191113d6dfc17353f4626e…</td><td>3</td><td>2024-04-02 15:03:31.351</td><td>380520</td></tr><tr><td>&quot;0x018685935e6e185d727e9bd01b9f696e31727e75810d67bf8a2dfa01646051f5,0x013ba269a5c7935ec3ce84332a469450a270ece0842039f5996f592d6b68d376,0x01a1d35d1fbc9564a766b0f9bca9e7fa5c2ebbfbc8b063001591a86bc006c4b…</td><td>6</td><td>2024-04-02 15:06:13.134</td><td>380521</td></tr><tr><td>&quot;0x01dfa9c8566c3b6caf4a07622e065280697bb71721ee4b5e1677964688f1a5bc,0x013b0ff4e8d04f336280802555ca9c4b1358ae651ce37004c6d564493f7480d6,0x0193d7596fc57eb586219dca6c152f89547c1df1be4cd153f14b3eefc98e51f…</td><td>9</td><td>2024-04-02 15:08:35.305</td><td>380522</td></tr><tr><td>&quot;0x0124a761e23343458bae923a47cf5a809d1060a44471633f3c0d1cb03e91e283,0x01fcce80daa8b8002a48c4243bebf073a1d8766fa34cc1a7867cd975970996c1,0x01b654bc36ad6eda2df98ec010c9834bf76fdfe1cab87e2b3629ba2285a2c88…</td><td>9</td><td>2024-04-02 15:10:52.964</td><td>380523</td></tr><tr><td>&quot;0x019e2657e86d7a340a2500870e26db6bf8e3ff53c0f2e6c918e7354bec2e5b65,0x0195e17274c19ebc085ddfcc1887798d2f7a8d2e5fd76352e1d650c77f3f14c0,0x01a800c7d0903ffe426605e1c60f86821e549d4e748e77f5022a684c11736a0…</td><td>9</td><td>2024-04-02 15:13:36.894</td><td>380524</td></tr><tr><td>&quot;0x0105f5f31f1dcc7a4dd7cae1f524e34b843b551a9c8dfc966e6813d3e045d647,0x013609a5d2855175d6264662eaf946143bfc4741f4ae88121ec03376a1442c9a,0x01b047818f773fabb3be4433478f5997a042f3c01c4cdaf207a12178080a768…</td><td>6</td><td>2024-04-02 15:16:16.366</td><td>380525</td></tr><tr><td>&quot;0x018157992d70b23a14aabc1315916321c18cf6dff3978cb015a2aa1010731896,0x01a50f274471bed38b0dfdd1fd3cccb94cb3a8ab5b6f6800932578ed06295c18,0x0197698399419612f1df9050fa1440a9b76400beaf74089717510f063934e0b…</td><td>3</td><td>2024-04-02 15:19:00.901</td><td>380526</td></tr><tr><td>&quot;0x01c600f1406a424491e285021af216cb74716bfb889e18931cf8461dcc7534e9,0x01780b6af01ebfcf0b79decf3d1b7d1e54cce1de46971f62bebaa03dff3a9449,0x01b1b00190fc8f07c357441f954a30836635b5f0924dfc47f82bb32f12058e8…</td><td>3</td><td>2024-04-02 15:21:30.277</td><td>380527</td></tr></tbody></table></div>"
      ],
      "text/plain": [
       "shape: (9, 4)\n",
       "┌───────────────────────────────────────────────────────┬───────┬─────────────────────────┬────────┐\n",
       "│ blob_hashes                                           ┆ count ┆ event_date_time         ┆ nonce  │\n",
       "│ ---                                                   ┆ ---   ┆ ---                     ┆ ---    │\n",
       "│ str                                                   ┆ u32   ┆ datetime[ms]            ┆ u64    │\n",
       "╞═══════════════════════════════════════════════════════╪═══════╪═════════════════════════╪════════╡\n",
       "│ 0x0134bdac242e7d81a2b686e1ef8f07ff4e1ad99c26033af5f9b ┆ 3     ┆ 2024-04-02 15:01:02.861 ┆ 380519 │\n",
       "│ 02c51cc0d0366,0x01e409fe15526b3325e64dddab2922cd051e5 ┆       ┆                         ┆        │\n",
       "│ 849710cc40fbd693e91cc260a47,0x01f5aee96724e6d92c2f5cd ┆       ┆                         ┆        │\n",
       "│ 286cddc176885c6b8c2ecd34cd0e1bda944d8b28a…            ┆       ┆                         ┆        │\n",
       "│ 0x01075cb3d124fdb249d2303cab68153eae8b1dded93fa31696a ┆ 3     ┆ 2024-04-02 15:03:31.351 ┆ 380520 │\n",
       "│ 186cff1cf4a44,0x01c04a89d3a5128b58c588ecce447f78c72f7 ┆       ┆                         ┆        │\n",
       "│ bb5f020701126d60d8ce916c55f,0x01bbbac5c8aea09d5685f29 ┆       ┆                         ┆        │\n",
       "│ 9195bf18bfd76be3f3191113d6dfc17353f4626ee…            ┆       ┆                         ┆        │\n",
       "│ 0x018685935e6e185d727e9bd01b9f696e31727e75810d67bf8a2 ┆ 6     ┆ 2024-04-02 15:06:13.134 ┆ 380521 │\n",
       "│ dfa01646051f5,0x013ba269a5c7935ec3ce84332a469450a270e ┆       ┆                         ┆        │\n",
       "│ ce0842039f5996f592d6b68d376,0x01a1d35d1fbc9564a766b0f ┆       ┆                         ┆        │\n",
       "│ 9bca9e7fa5c2ebbfbc8b063001591a86bc006c4be…            ┆       ┆                         ┆        │\n",
       "│ 0x01dfa9c8566c3b6caf4a07622e065280697bb71721ee4b5e167 ┆ 9     ┆ 2024-04-02 15:08:35.305 ┆ 380522 │\n",
       "│ 7964688f1a5bc,0x013b0ff4e8d04f336280802555ca9c4b1358a ┆       ┆                         ┆        │\n",
       "│ e651ce37004c6d564493f7480d6,0x0193d7596fc57eb586219dc ┆       ┆                         ┆        │\n",
       "│ a6c152f89547c1df1be4cd153f14b3eefc98e51fc…            ┆       ┆                         ┆        │\n",
       "│ 0x0124a761e23343458bae923a47cf5a809d1060a44471633f3c0 ┆ 9     ┆ 2024-04-02 15:10:52.964 ┆ 380523 │\n",
       "│ d1cb03e91e283,0x01fcce80daa8b8002a48c4243bebf073a1d87 ┆       ┆                         ┆        │\n",
       "│ 66fa34cc1a7867cd975970996c1,0x01b654bc36ad6eda2df98ec ┆       ┆                         ┆        │\n",
       "│ 010c9834bf76fdfe1cab87e2b3629ba2285a2c88d…            ┆       ┆                         ┆        │\n",
       "│ 0x019e2657e86d7a340a2500870e26db6bf8e3ff53c0f2e6c918e ┆ 9     ┆ 2024-04-02 15:13:36.894 ┆ 380524 │\n",
       "│ 7354bec2e5b65,0x0195e17274c19ebc085ddfcc1887798d2f7a8 ┆       ┆                         ┆        │\n",
       "│ d2e5fd76352e1d650c77f3f14c0,0x01a800c7d0903ffe426605e ┆       ┆                         ┆        │\n",
       "│ 1c60f86821e549d4e748e77f5022a684c11736a09…            ┆       ┆                         ┆        │\n",
       "│ 0x0105f5f31f1dcc7a4dd7cae1f524e34b843b551a9c8dfc966e6 ┆ 6     ┆ 2024-04-02 15:16:16.366 ┆ 380525 │\n",
       "│ 813d3e045d647,0x013609a5d2855175d6264662eaf946143bfc4 ┆       ┆                         ┆        │\n",
       "│ 741f4ae88121ec03376a1442c9a,0x01b047818f773fabb3be443 ┆       ┆                         ┆        │\n",
       "│ 3478f5997a042f3c01c4cdaf207a12178080a7683…            ┆       ┆                         ┆        │\n",
       "│ 0x018157992d70b23a14aabc1315916321c18cf6dff3978cb015a ┆ 3     ┆ 2024-04-02 15:19:00.901 ┆ 380526 │\n",
       "│ 2aa1010731896,0x01a50f274471bed38b0dfdd1fd3cccb94cb3a ┆       ┆                         ┆        │\n",
       "│ 8ab5b6f6800932578ed06295c18,0x0197698399419612f1df905 ┆       ┆                         ┆        │\n",
       "│ 0fa1440a9b76400beaf74089717510f063934e0bb…            ┆       ┆                         ┆        │\n",
       "│ 0x01c600f1406a424491e285021af216cb74716bfb889e18931cf ┆ 3     ┆ 2024-04-02 15:21:30.277 ┆ 380527 │\n",
       "│ 8461dcc7534e9,0x01780b6af01ebfcf0b79decf3d1b7d1e54cce ┆       ┆                         ┆        │\n",
       "│ 1de46971f62bebaa03dff3a9449,0x01b1b00190fc8f07c357441 ┆       ┆                         ┆        │\n",
       "│ f954a30836635b5f0924dfc47f82bb32f12058e80…            ┆       ┆                         ┆        │\n",
       "└───────────────────────────────────────────────────────┴───────┴─────────────────────────┴────────┘"
      ]
     },
     "execution_count": 168,
     "metadata": {},
     "output_type": "execute_result"
    }
   ],
   "source": [
    "blob_hashes_df.filter(pl.col(\"nonce\") < 380528).filter(pl.col(\"nonce\") > 380518).sort(\n",
    "    by=\"nonce\"\n",
    ")\n",
    "# event_date_time is earliest (min) date time appearance"
   ]
  },
  {
   "cell_type": "code",
   "execution_count": 174,
   "metadata": {},
   "outputs": [],
   "source": [
    "followup_str = (\n",
    "    blob_hashes_df.filter(pl.col(\"nonce\") == 380524).select(\"blob_hashes\").item()\n",
    ")"
   ]
  },
  {
   "cell_type": "code",
   "execution_count": 175,
   "metadata": {},
   "outputs": [
    {
     "data": {
      "text/html": [
       "<div><style>\n",
       ".dataframe > thead > tr,\n",
       ".dataframe > tbody > tr {\n",
       "  text-align: right;\n",
       "  white-space: pre-wrap;\n",
       "}\n",
       "</style>\n",
       "<small>shape: (9, 19)</small><table border=\"1\" class=\"dataframe\"><thead><tr><th>event_date_time</th><th>type</th><th>blob_sidecars_size</th><th>blob_sidecars_empty_size</th><th>hash</th><th>to</th><th>from</th><th>blob_hashes</th><th>nonce</th><th>meta_network_name</th><th>meta_client_implementation</th><th>meta_client_geo_continent_code</th><th>blob_hashes_length</th><th>fill_percentage</th><th>blob_gas</th><th>blob_gas_fee_cap</th><th>gas_price</th><th>gas_tip_cap</th><th>gas_fee_cap</th></tr><tr><td>datetime[ms]</td><td>u8</td><td>u32</td><td>u32</td><td>str</td><td>str</td><td>str</td><td>str</td><td>u64</td><td>str</td><td>str</td><td>str</td><td>u64</td><td>f64</td><td>u64</td><td>i64</td><td>i64</td><td>i64</td><td>i64</td></tr></thead><tbody><tr><td>2024-04-02 15:13:36.894</td><td>3</td><td>786432</td><td>6197</td><td>&quot;0xd283e4fbee2a5d48670d00d79f2b38f684879a0bec2883148ef786852d5613ea&quot;</td><td>&quot;0xFf00000000000000000000000000000000008453&quot;</td><td>&quot;0x5050F69a9786F081509234F1a7F4684b5E5b76C9&quot;</td><td>&quot;0x019e2657e86d7a340a2500870e26db6bf8e3ff53c0f2e6c918e7354bec2e5b65,0x0195e17274c19ebc085ddfcc1887798d2f7a8d2e5fd76352e1d650c77f3f14c0,0x01a800c7d0903ffe426605e1c60f86821e549d4e748e77f5022a684c11736a0…</td><td>380524</td><td>&quot;mainnet&quot;</td><td>&quot;Xatu&quot;</td><td>&quot;EU&quot;</td><td>6</td><td>99.21</td><td>786432</td><td>119443524432</td><td>128038446866</td><td>2000000000</td><td>128038446866</td></tr><tr><td>2024-04-02 15:13:37.011</td><td>3</td><td>786432</td><td>6197</td><td>&quot;0xd283e4fbee2a5d48670d00d79f2b38f684879a0bec2883148ef786852d5613ea&quot;</td><td>&quot;0xFf00000000000000000000000000000000008453&quot;</td><td>&quot;0x5050F69a9786F081509234F1a7F4684b5E5b76C9&quot;</td><td>&quot;0x019e2657e86d7a340a2500870e26db6bf8e3ff53c0f2e6c918e7354bec2e5b65,0x0195e17274c19ebc085ddfcc1887798d2f7a8d2e5fd76352e1d650c77f3f14c0,0x01a800c7d0903ffe426605e1c60f86821e549d4e748e77f5022a684c11736a0…</td><td>380524</td><td>&quot;mainnet&quot;</td><td>&quot;Xatu&quot;</td><td>&quot;OC&quot;</td><td>6</td><td>99.21</td><td>786432</td><td>119443524432</td><td>128038446866</td><td>2000000000</td><td>128038446866</td></tr><tr><td>2024-04-02 15:13:37.118</td><td>3</td><td>786432</td><td>6197</td><td>&quot;0xd283e4fbee2a5d48670d00d79f2b38f684879a0bec2883148ef786852d5613ea&quot;</td><td>&quot;0xFf00000000000000000000000000000000008453&quot;</td><td>&quot;0x5050F69a9786F081509234F1a7F4684b5E5b76C9&quot;</td><td>&quot;0x019e2657e86d7a340a2500870e26db6bf8e3ff53c0f2e6c918e7354bec2e5b65,0x0195e17274c19ebc085ddfcc1887798d2f7a8d2e5fd76352e1d650c77f3f14c0,0x01a800c7d0903ffe426605e1c60f86821e549d4e748e77f5022a684c11736a0…</td><td>380524</td><td>&quot;mainnet&quot;</td><td>&quot;Xatu&quot;</td><td>&quot;NA&quot;</td><td>6</td><td>99.21</td><td>786432</td><td>119443524432</td><td>128038446866</td><td>2000000000</td><td>128038446866</td></tr><tr><td>2024-04-02 15:15:37.316</td><td>3</td><td>786432</td><td>6197</td><td>&quot;0x80abba74d0bfa85fb2c46281434e589716641847b2f27cb52f3248d6d4dba99a&quot;</td><td>&quot;0xFf00000000000000000000000000000000008453&quot;</td><td>&quot;0x5050F69a9786F081509234F1a7F4684b5E5b76C9&quot;</td><td>&quot;0x019e2657e86d7a340a2500870e26db6bf8e3ff53c0f2e6c918e7354bec2e5b65,0x0195e17274c19ebc085ddfcc1887798d2f7a8d2e5fd76352e1d650c77f3f14c0,0x01a800c7d0903ffe426605e1c60f86821e549d4e748e77f5022a684c11736a0…</td><td>380524</td><td>&quot;mainnet&quot;</td><td>&quot;Xatu&quot;</td><td>&quot;EU&quot;</td><td>6</td><td>99.21</td><td>786432</td><td>238887048864</td><td>256076893732</td><td>4000000000</td><td>256076893732</td></tr><tr><td>2024-04-02 15:15:38.050</td><td>3</td><td>786432</td><td>6197</td><td>&quot;0x80abba74d0bfa85fb2c46281434e589716641847b2f27cb52f3248d6d4dba99a&quot;</td><td>&quot;0xFf00000000000000000000000000000000008453&quot;</td><td>&quot;0x5050F69a9786F081509234F1a7F4684b5E5b76C9&quot;</td><td>&quot;0x019e2657e86d7a340a2500870e26db6bf8e3ff53c0f2e6c918e7354bec2e5b65,0x0195e17274c19ebc085ddfcc1887798d2f7a8d2e5fd76352e1d650c77f3f14c0,0x01a800c7d0903ffe426605e1c60f86821e549d4e748e77f5022a684c11736a0…</td><td>380524</td><td>&quot;mainnet&quot;</td><td>&quot;Xatu&quot;</td><td>&quot;OC&quot;</td><td>6</td><td>99.21</td><td>786432</td><td>238887048864</td><td>256076893732</td><td>4000000000</td><td>256076893732</td></tr><tr><td>2024-04-02 15:15:38.066</td><td>3</td><td>786432</td><td>6197</td><td>&quot;0x80abba74d0bfa85fb2c46281434e589716641847b2f27cb52f3248d6d4dba99a&quot;</td><td>&quot;0xFf00000000000000000000000000000000008453&quot;</td><td>&quot;0x5050F69a9786F081509234F1a7F4684b5E5b76C9&quot;</td><td>&quot;0x019e2657e86d7a340a2500870e26db6bf8e3ff53c0f2e6c918e7354bec2e5b65,0x0195e17274c19ebc085ddfcc1887798d2f7a8d2e5fd76352e1d650c77f3f14c0,0x01a800c7d0903ffe426605e1c60f86821e549d4e748e77f5022a684c11736a0…</td><td>380524</td><td>&quot;mainnet&quot;</td><td>&quot;Xatu&quot;</td><td>&quot;NA&quot;</td><td>6</td><td>99.21</td><td>786432</td><td>238887048864</td><td>256076893732</td><td>4000000000</td><td>256076893732</td></tr><tr><td>2024-04-02 15:17:37.147</td><td>3</td><td>786432</td><td>6197</td><td>&quot;0x96e58bf8d2a21f5db37d242c135ffff6146758b2be057cc3815744966e018c22&quot;</td><td>&quot;0xFf00000000000000000000000000000000008453&quot;</td><td>&quot;0x5050F69a9786F081509234F1a7F4684b5E5b76C9&quot;</td><td>&quot;0x019e2657e86d7a340a2500870e26db6bf8e3ff53c0f2e6c918e7354bec2e5b65,0x0195e17274c19ebc085ddfcc1887798d2f7a8d2e5fd76352e1d650c77f3f14c0,0x01a800c7d0903ffe426605e1c60f86821e549d4e748e77f5022a684c11736a0…</td><td>380524</td><td>&quot;mainnet&quot;</td><td>&quot;Xatu&quot;</td><td>&quot;EU&quot;</td><td>6</td><td>99.21</td><td>786432</td><td>477774097728</td><td>512153787464</td><td>8000000000</td><td>512153787464</td></tr><tr><td>2024-04-02 15:17:37.688</td><td>3</td><td>786432</td><td>6197</td><td>&quot;0x96e58bf8d2a21f5db37d242c135ffff6146758b2be057cc3815744966e018c22&quot;</td><td>&quot;0xFf00000000000000000000000000000000008453&quot;</td><td>&quot;0x5050F69a9786F081509234F1a7F4684b5E5b76C9&quot;</td><td>&quot;0x019e2657e86d7a340a2500870e26db6bf8e3ff53c0f2e6c918e7354bec2e5b65,0x0195e17274c19ebc085ddfcc1887798d2f7a8d2e5fd76352e1d650c77f3f14c0,0x01a800c7d0903ffe426605e1c60f86821e549d4e748e77f5022a684c11736a0…</td><td>380524</td><td>&quot;mainnet&quot;</td><td>&quot;Xatu&quot;</td><td>&quot;OC&quot;</td><td>6</td><td>99.21</td><td>786432</td><td>477774097728</td><td>512153787464</td><td>8000000000</td><td>512153787464</td></tr><tr><td>2024-04-02 15:17:37.758</td><td>3</td><td>786432</td><td>6197</td><td>&quot;0x96e58bf8d2a21f5db37d242c135ffff6146758b2be057cc3815744966e018c22&quot;</td><td>&quot;0xFf00000000000000000000000000000000008453&quot;</td><td>&quot;0x5050F69a9786F081509234F1a7F4684b5E5b76C9&quot;</td><td>&quot;0x019e2657e86d7a340a2500870e26db6bf8e3ff53c0f2e6c918e7354bec2e5b65,0x0195e17274c19ebc085ddfcc1887798d2f7a8d2e5fd76352e1d650c77f3f14c0,0x01a800c7d0903ffe426605e1c60f86821e549d4e748e77f5022a684c11736a0…</td><td>380524</td><td>&quot;mainnet&quot;</td><td>&quot;Xatu&quot;</td><td>&quot;NA&quot;</td><td>6</td><td>99.21</td><td>786432</td><td>477774097728</td><td>512153787464</td><td>8000000000</td><td>512153787464</td></tr></tbody></table></div>"
      ],
      "text/plain": [
       "shape: (9, 19)\n",
       "┌────────────┬──────┬────────────┬────────────┬───┬────────────┬───────────┬───────────┬───────────┐\n",
       "│ event_date ┆ type ┆ blob_sidec ┆ blob_sidec ┆ … ┆ blob_gas_f ┆ gas_price ┆ gas_tip_c ┆ gas_fee_c │\n",
       "│ _time      ┆ ---  ┆ ars_size   ┆ ars_empty_ ┆   ┆ ee_cap     ┆ ---       ┆ ap        ┆ ap        │\n",
       "│ ---        ┆ u8   ┆ ---        ┆ size       ┆   ┆ ---        ┆ i64       ┆ ---       ┆ ---       │\n",
       "│ datetime[m ┆      ┆ u32        ┆ ---        ┆   ┆ i64        ┆           ┆ i64       ┆ i64       │\n",
       "│ s]         ┆      ┆            ┆ u32        ┆   ┆            ┆           ┆           ┆           │\n",
       "╞════════════╪══════╪════════════╪════════════╪═══╪════════════╪═══════════╪═══════════╪═══════════╡\n",
       "│ 2024-04-02 ┆ 3    ┆ 786432     ┆ 6197       ┆ … ┆ 1194435244 ┆ 128038446 ┆ 200000000 ┆ 128038446 │\n",
       "│ 15:13:36.8 ┆      ┆            ┆            ┆   ┆ 32         ┆ 866       ┆ 0         ┆ 866       │\n",
       "│ 94         ┆      ┆            ┆            ┆   ┆            ┆           ┆           ┆           │\n",
       "│ 2024-04-02 ┆ 3    ┆ 786432     ┆ 6197       ┆ … ┆ 1194435244 ┆ 128038446 ┆ 200000000 ┆ 128038446 │\n",
       "│ 15:13:37.0 ┆      ┆            ┆            ┆   ┆ 32         ┆ 866       ┆ 0         ┆ 866       │\n",
       "│ 11         ┆      ┆            ┆            ┆   ┆            ┆           ┆           ┆           │\n",
       "│ 2024-04-02 ┆ 3    ┆ 786432     ┆ 6197       ┆ … ┆ 1194435244 ┆ 128038446 ┆ 200000000 ┆ 128038446 │\n",
       "│ 15:13:37.1 ┆      ┆            ┆            ┆   ┆ 32         ┆ 866       ┆ 0         ┆ 866       │\n",
       "│ 18         ┆      ┆            ┆            ┆   ┆            ┆           ┆           ┆           │\n",
       "│ 2024-04-02 ┆ 3    ┆ 786432     ┆ 6197       ┆ … ┆ 2388870488 ┆ 256076893 ┆ 400000000 ┆ 256076893 │\n",
       "│ 15:15:37.3 ┆      ┆            ┆            ┆   ┆ 64         ┆ 732       ┆ 0         ┆ 732       │\n",
       "│ 16         ┆      ┆            ┆            ┆   ┆            ┆           ┆           ┆           │\n",
       "│ 2024-04-02 ┆ 3    ┆ 786432     ┆ 6197       ┆ … ┆ 2388870488 ┆ 256076893 ┆ 400000000 ┆ 256076893 │\n",
       "│ 15:15:38.0 ┆      ┆            ┆            ┆   ┆ 64         ┆ 732       ┆ 0         ┆ 732       │\n",
       "│ 50         ┆      ┆            ┆            ┆   ┆            ┆           ┆           ┆           │\n",
       "│ 2024-04-02 ┆ 3    ┆ 786432     ┆ 6197       ┆ … ┆ 2388870488 ┆ 256076893 ┆ 400000000 ┆ 256076893 │\n",
       "│ 15:15:38.0 ┆      ┆            ┆            ┆   ┆ 64         ┆ 732       ┆ 0         ┆ 732       │\n",
       "│ 66         ┆      ┆            ┆            ┆   ┆            ┆           ┆           ┆           │\n",
       "│ 2024-04-02 ┆ 3    ┆ 786432     ┆ 6197       ┆ … ┆ 4777740977 ┆ 512153787 ┆ 800000000 ┆ 512153787 │\n",
       "│ 15:17:37.1 ┆      ┆            ┆            ┆   ┆ 28         ┆ 464       ┆ 0         ┆ 464       │\n",
       "│ 47         ┆      ┆            ┆            ┆   ┆            ┆           ┆           ┆           │\n",
       "│ 2024-04-02 ┆ 3    ┆ 786432     ┆ 6197       ┆ … ┆ 4777740977 ┆ 512153787 ┆ 800000000 ┆ 512153787 │\n",
       "│ 15:17:37.6 ┆      ┆            ┆            ┆   ┆ 28         ┆ 464       ┆ 0         ┆ 464       │\n",
       "│ 88         ┆      ┆            ┆            ┆   ┆            ┆           ┆           ┆           │\n",
       "│ 2024-04-02 ┆ 3    ┆ 786432     ┆ 6197       ┆ … ┆ 4777740977 ┆ 512153787 ┆ 800000000 ┆ 512153787 │\n",
       "│ 15:17:37.7 ┆      ┆            ┆            ┆   ┆ 28         ┆ 464       ┆ 0         ┆ 464       │\n",
       "│ 58         ┆      ┆            ┆            ┆   ┆            ┆           ┆           ┆           │\n",
       "└────────────┴──────┴────────────┴────────────┴───┴────────────┴───────────┴───────────┴───────────┘"
      ]
     },
     "execution_count": 175,
     "metadata": {},
     "output_type": "execute_result"
    }
   ],
   "source": [
    "df.with_columns(\n",
    "    pl.col(\"blob_hashes\")\n",
    "    # flatten list[str] into a long string for analysis\n",
    "    .map_elements(lambda x: \",\".join(x))\n",
    ").filter(pl.col(\"blob_hashes\") == followup_str).sort(by=\"event_date_time\")"
   ]
  },
  {
   "cell_type": "code",
   "execution_count": 169,
   "metadata": {},
   "outputs": [
    {
     "data": {},
     "metadata": {},
     "output_type": "display_data"
    },
    {
     "data": {
      "application/vnd.holoviews_exec.v0+json": "",
      "text/html": [
       "<div id='p1817'>\n",
       "  <div id=\"edb0e35a-8d62-450e-9d05-b4e8eea51ad5\" data-root-id=\"p1817\" style=\"display: contents;\"></div>\n",
       "</div>\n",
       "<script type=\"application/javascript\">(function(root) {\n",
       "  var docs_json = {\"d5f06c44-bc2e-4fb6-9e60-d3b5778c1f5f\":{\"version\":\"3.3.4\",\"title\":\"Bokeh Application\",\"roots\":[{\"type\":\"object\",\"name\":\"Row\",\"id\":\"p1817\",\"attributes\":{\"name\":\"Row02260\",\"tags\":[\"embedded\"],\"stylesheets\":[\"\\n:host(.pn-loading.pn-arc):before, .pn-loading.pn-arc:before {\\n  background-image: url(\\\"data:image/svg+xml;base64,PHN2ZyB4bWxucz0iaHR0cDovL3d3dy53My5vcmcvMjAwMC9zdmciIHN0eWxlPSJtYXJnaW46IGF1dG87IGJhY2tncm91bmQ6IG5vbmU7IGRpc3BsYXk6IGJsb2NrOyBzaGFwZS1yZW5kZXJpbmc6IGF1dG87IiB2aWV3Qm94PSIwIDAgMTAwIDEwMCIgcHJlc2VydmVBc3BlY3RSYXRpbz0ieE1pZFlNaWQiPiAgPGNpcmNsZSBjeD0iNTAiIGN5PSI1MCIgZmlsbD0ibm9uZSIgc3Ryb2tlPSIjYzNjM2MzIiBzdHJva2Utd2lkdGg9IjEwIiByPSIzNSIgc3Ryb2tlLWRhc2hhcnJheT0iMTY0LjkzMzYxNDMxMzQ2NDE1IDU2Ljk3Nzg3MTQzNzgyMTM4Ij4gICAgPGFuaW1hdGVUcmFuc2Zvcm0gYXR0cmlidXRlTmFtZT0idHJhbnNmb3JtIiB0eXBlPSJyb3RhdGUiIHJlcGVhdENvdW50PSJpbmRlZmluaXRlIiBkdXI9IjFzIiB2YWx1ZXM9IjAgNTAgNTA7MzYwIDUwIDUwIiBrZXlUaW1lcz0iMDsxIj48L2FuaW1hdGVUcmFuc2Zvcm0+ICA8L2NpcmNsZT48L3N2Zz4=\\\");\\n  background-size: auto calc(min(50%, 400px));\\n}\",{\"type\":\"object\",\"name\":\"ImportedStyleSheet\",\"id\":\"p1820\",\"attributes\":{\"url\":\"https://cdn.holoviz.org/panel/1.3.8/dist/css/loading.css\"}},{\"type\":\"object\",\"name\":\"ImportedStyleSheet\",\"id\":\"p1876\",\"attributes\":{\"url\":\"https://cdn.holoviz.org/panel/1.3.8/dist/css/listpanel.css\"}},{\"type\":\"object\",\"name\":\"ImportedStyleSheet\",\"id\":\"p1818\",\"attributes\":{\"url\":\"https://cdn.holoviz.org/panel/1.3.8/dist/bundled/theme/default.css\"}},{\"type\":\"object\",\"name\":\"ImportedStyleSheet\",\"id\":\"p1819\",\"attributes\":{\"url\":\"https://cdn.holoviz.org/panel/1.3.8/dist/bundled/theme/native.css\"}}],\"min_width\":700,\"margin\":0,\"sizing_mode\":\"stretch_width\",\"align\":\"start\",\"children\":[{\"type\":\"object\",\"name\":\"Spacer\",\"id\":\"p1821\",\"attributes\":{\"name\":\"HSpacer02267\",\"stylesheets\":[\"\\n:host(.pn-loading.pn-arc):before, .pn-loading.pn-arc:before {\\n  background-image: url(\\\"data:image/svg+xml;base64,PHN2ZyB4bWxucz0iaHR0cDovL3d3dy53My5vcmcvMjAwMC9zdmciIHN0eWxlPSJtYXJnaW46IGF1dG87IGJhY2tncm91bmQ6IG5vbmU7IGRpc3BsYXk6IGJsb2NrOyBzaGFwZS1yZW5kZXJpbmc6IGF1dG87IiB2aWV3Qm94PSIwIDAgMTAwIDEwMCIgcHJlc2VydmVBc3BlY3RSYXRpbz0ieE1pZFlNaWQiPiAgPGNpcmNsZSBjeD0iNTAiIGN5PSI1MCIgZmlsbD0ibm9uZSIgc3Ryb2tlPSIjYzNjM2MzIiBzdHJva2Utd2lkdGg9IjEwIiByPSIzNSIgc3Ryb2tlLWRhc2hhcnJheT0iMTY0LjkzMzYxNDMxMzQ2NDE1IDU2Ljk3Nzg3MTQzNzgyMTM4Ij4gICAgPGFuaW1hdGVUcmFuc2Zvcm0gYXR0cmlidXRlTmFtZT0idHJhbnNmb3JtIiB0eXBlPSJyb3RhdGUiIHJlcGVhdENvdW50PSJpbmRlZmluaXRlIiBkdXI9IjFzIiB2YWx1ZXM9IjAgNTAgNTA7MzYwIDUwIDUwIiBrZXlUaW1lcz0iMDsxIj48L2FuaW1hdGVUcmFuc2Zvcm0+ICA8L2NpcmNsZT48L3N2Zz4=\\\");\\n  background-size: auto calc(min(50%, 400px));\\n}\",{\"id\":\"p1820\"},{\"id\":\"p1818\"},{\"id\":\"p1819\"}],\"margin\":0,\"sizing_mode\":\"stretch_width\",\"align\":\"start\"}},{\"type\":\"object\",\"name\":\"Figure\",\"id\":\"p1829\",\"attributes\":{\"width\":700,\"height\":300,\"margin\":[5,10],\"sizing_mode\":\"fixed\",\"align\":\"start\",\"x_range\":{\"type\":\"object\",\"name\":\"Range1d\",\"id\":\"p1822\",\"attributes\":{\"tags\":[[[\"nonce\",\"nonce\",null]],[]],\"start\":380519.0,\"end\":380527.0,\"reset_start\":380519.0,\"reset_end\":380527.0}},\"y_range\":{\"type\":\"object\",\"name\":\"Range1d\",\"id\":\"p1823\",\"attributes\":{\"tags\":[[[\"count\",\"count\",null]],{\"type\":\"map\",\"entries\":[[\"invert_yaxis\",false],[\"autorange\",false]]}],\"start\":2.4,\"end\":9.6,\"reset_start\":2.4,\"reset_end\":9.6}},\"x_scale\":{\"type\":\"object\",\"name\":\"LinearScale\",\"id\":\"p1839\"},\"y_scale\":{\"type\":\"object\",\"name\":\"LinearScale\",\"id\":\"p1840\"},\"title\":{\"type\":\"object\",\"name\":\"Title\",\"id\":\"p1832\",\"attributes\":{\"text_color\":\"black\",\"text_font_size\":\"12pt\"}},\"renderers\":[{\"type\":\"object\",\"name\":\"GlyphRenderer\",\"id\":\"p1869\",\"attributes\":{\"data_source\":{\"type\":\"object\",\"name\":\"ColumnDataSource\",\"id\":\"p1860\",\"attributes\":{\"selected\":{\"type\":\"object\",\"name\":\"Selection\",\"id\":\"p1861\",\"attributes\":{\"indices\":[],\"line_indices\":[]}},\"selection_policy\":{\"type\":\"object\",\"name\":\"UnionRenderers\",\"id\":\"p1862\"},\"data\":{\"type\":\"map\",\"entries\":[[\"nonce\",{\"type\":\"ndarray\",\"array\":{\"type\":\"bytes\",\"data\":\"Z84FAGjOBQBpzgUAas4FAGvOBQBszgUAbc4FAG7OBQBvzgUA\"},\"shape\":[9],\"dtype\":\"uint32\",\"order\":\"little\"}],[\"count\",{\"type\":\"ndarray\",\"array\":{\"type\":\"bytes\",\"data\":\"AwAAAAMAAAAGAAAACQAAAAkAAAAJAAAABgAAAAMAAAADAAAA\"},\"shape\":[9],\"dtype\":\"uint32\",\"order\":\"little\"}]]}}},\"view\":{\"type\":\"object\",\"name\":\"CDSView\",\"id\":\"p1870\",\"attributes\":{\"filter\":{\"type\":\"object\",\"name\":\"AllIndices\",\"id\":\"p1871\"}}},\"glyph\":{\"type\":\"object\",\"name\":\"Line\",\"id\":\"p1866\",\"attributes\":{\"tags\":[\"apply_ranges\"],\"x\":{\"type\":\"field\",\"field\":\"nonce\"},\"y\":{\"type\":\"field\",\"field\":\"count\"},\"line_color\":\"#30a2da\",\"line_width\":2}},\"selection_glyph\":{\"type\":\"object\",\"name\":\"Line\",\"id\":\"p1872\",\"attributes\":{\"tags\":[\"apply_ranges\"],\"x\":{\"type\":\"field\",\"field\":\"nonce\"},\"y\":{\"type\":\"field\",\"field\":\"count\"},\"line_color\":\"#30a2da\",\"line_width\":2}},\"nonselection_glyph\":{\"type\":\"object\",\"name\":\"Line\",\"id\":\"p1867\",\"attributes\":{\"tags\":[\"apply_ranges\"],\"x\":{\"type\":\"field\",\"field\":\"nonce\"},\"y\":{\"type\":\"field\",\"field\":\"count\"},\"line_color\":\"#30a2da\",\"line_alpha\":0.1,\"line_width\":2}},\"muted_glyph\":{\"type\":\"object\",\"name\":\"Line\",\"id\":\"p1868\",\"attributes\":{\"tags\":[\"apply_ranges\"],\"x\":{\"type\":\"field\",\"field\":\"nonce\"},\"y\":{\"type\":\"field\",\"field\":\"count\"},\"line_color\":\"#30a2da\",\"line_alpha\":0.2,\"line_width\":2}}}}],\"toolbar\":{\"type\":\"object\",\"name\":\"Toolbar\",\"id\":\"p1838\",\"attributes\":{\"tools\":[{\"type\":\"object\",\"name\":\"WheelZoomTool\",\"id\":\"p1827\",\"attributes\":{\"tags\":[\"hv_created\"],\"renderers\":\"auto\",\"zoom_together\":\"none\"}},{\"type\":\"object\",\"name\":\"HoverTool\",\"id\":\"p1828\",\"attributes\":{\"tags\":[\"hv_created\"],\"renderers\":[{\"id\":\"p1869\"}],\"tooltips\":[[\"nonce\",\"@{nonce}\"],[\"count\",\"@{count}\"]]}},{\"type\":\"object\",\"name\":\"SaveTool\",\"id\":\"p1851\"},{\"type\":\"object\",\"name\":\"PanTool\",\"id\":\"p1852\"},{\"type\":\"object\",\"name\":\"BoxZoomTool\",\"id\":\"p1853\",\"attributes\":{\"overlay\":{\"type\":\"object\",\"name\":\"BoxAnnotation\",\"id\":\"p1854\",\"attributes\":{\"syncable\":false,\"level\":\"overlay\",\"visible\":false,\"left\":{\"type\":\"number\",\"value\":\"nan\"},\"right\":{\"type\":\"number\",\"value\":\"nan\"},\"top\":{\"type\":\"number\",\"value\":\"nan\"},\"bottom\":{\"type\":\"number\",\"value\":\"nan\"},\"left_units\":\"canvas\",\"right_units\":\"canvas\",\"top_units\":\"canvas\",\"bottom_units\":\"canvas\",\"line_color\":\"black\",\"line_alpha\":1.0,\"line_width\":2,\"line_dash\":[4,4],\"fill_color\":\"lightgrey\",\"fill_alpha\":0.5}}}},{\"type\":\"object\",\"name\":\"ResetTool\",\"id\":\"p1859\"}],\"active_drag\":{\"id\":\"p1852\"},\"active_scroll\":{\"id\":\"p1827\"}}},\"left\":[{\"type\":\"object\",\"name\":\"LinearAxis\",\"id\":\"p1846\",\"attributes\":{\"ticker\":{\"type\":\"object\",\"name\":\"BasicTicker\",\"id\":\"p1847\",\"attributes\":{\"mantissas\":[1,2,5]}},\"formatter\":{\"type\":\"object\",\"name\":\"BasicTickFormatter\",\"id\":\"p1848\"},\"axis_label\":\"count\",\"major_label_policy\":{\"type\":\"object\",\"name\":\"AllLabels\",\"id\":\"p1849\"}}}],\"below\":[{\"type\":\"object\",\"name\":\"LinearAxis\",\"id\":\"p1841\",\"attributes\":{\"ticker\":{\"type\":\"object\",\"name\":\"BasicTicker\",\"id\":\"p1842\",\"attributes\":{\"mantissas\":[1,2,5]}},\"formatter\":{\"type\":\"object\",\"name\":\"BasicTickFormatter\",\"id\":\"p1843\"},\"axis_label\":\"nonce\",\"major_label_policy\":{\"type\":\"object\",\"name\":\"AllLabels\",\"id\":\"p1844\"}}}],\"center\":[{\"type\":\"object\",\"name\":\"Grid\",\"id\":\"p1845\",\"attributes\":{\"axis\":{\"id\":\"p1841\"},\"grid_line_color\":null}},{\"type\":\"object\",\"name\":\"Grid\",\"id\":\"p1850\",\"attributes\":{\"dimension\":1,\"axis\":{\"id\":\"p1846\"},\"grid_line_color\":null}}],\"min_border_top\":10,\"min_border_bottom\":10,\"min_border_left\":10,\"min_border_right\":10,\"output_backend\":\"webgl\"}},{\"type\":\"object\",\"name\":\"Spacer\",\"id\":\"p1874\",\"attributes\":{\"name\":\"HSpacer02268\",\"stylesheets\":[\"\\n:host(.pn-loading.pn-arc):before, .pn-loading.pn-arc:before {\\n  background-image: url(\\\"data:image/svg+xml;base64,PHN2ZyB4bWxucz0iaHR0cDovL3d3dy53My5vcmcvMjAwMC9zdmciIHN0eWxlPSJtYXJnaW46IGF1dG87IGJhY2tncm91bmQ6IG5vbmU7IGRpc3BsYXk6IGJsb2NrOyBzaGFwZS1yZW5kZXJpbmc6IGF1dG87IiB2aWV3Qm94PSIwIDAgMTAwIDEwMCIgcHJlc2VydmVBc3BlY3RSYXRpbz0ieE1pZFlNaWQiPiAgPGNpcmNsZSBjeD0iNTAiIGN5PSI1MCIgZmlsbD0ibm9uZSIgc3Ryb2tlPSIjYzNjM2MzIiBzdHJva2Utd2lkdGg9IjEwIiByPSIzNSIgc3Ryb2tlLWRhc2hhcnJheT0iMTY0LjkzMzYxNDMxMzQ2NDE1IDU2Ljk3Nzg3MTQzNzgyMTM4Ij4gICAgPGFuaW1hdGVUcmFuc2Zvcm0gYXR0cmlidXRlTmFtZT0idHJhbnNmb3JtIiB0eXBlPSJyb3RhdGUiIHJlcGVhdENvdW50PSJpbmRlZmluaXRlIiBkdXI9IjFzIiB2YWx1ZXM9IjAgNTAgNTA7MzYwIDUwIDUwIiBrZXlUaW1lcz0iMDsxIj48L2FuaW1hdGVUcmFuc2Zvcm0+ICA8L2NpcmNsZT48L3N2Zz4=\\\");\\n  background-size: auto calc(min(50%, 400px));\\n}\",{\"id\":\"p1820\"},{\"id\":\"p1818\"},{\"id\":\"p1819\"}],\"margin\":0,\"sizing_mode\":\"stretch_width\",\"align\":\"start\"}}]}}],\"defs\":[{\"type\":\"model\",\"name\":\"ReactiveHTML1\"},{\"type\":\"model\",\"name\":\"FlexBox1\",\"properties\":[{\"name\":\"align_content\",\"kind\":\"Any\",\"default\":\"flex-start\"},{\"name\":\"align_items\",\"kind\":\"Any\",\"default\":\"flex-start\"},{\"name\":\"flex_direction\",\"kind\":\"Any\",\"default\":\"row\"},{\"name\":\"flex_wrap\",\"kind\":\"Any\",\"default\":\"wrap\"},{\"name\":\"justify_content\",\"kind\":\"Any\",\"default\":\"flex-start\"}]},{\"type\":\"model\",\"name\":\"FloatPanel1\",\"properties\":[{\"name\":\"config\",\"kind\":\"Any\",\"default\":{\"type\":\"map\"}},{\"name\":\"contained\",\"kind\":\"Any\",\"default\":true},{\"name\":\"position\",\"kind\":\"Any\",\"default\":\"right-top\"},{\"name\":\"offsetx\",\"kind\":\"Any\",\"default\":null},{\"name\":\"offsety\",\"kind\":\"Any\",\"default\":null},{\"name\":\"theme\",\"kind\":\"Any\",\"default\":\"primary\"},{\"name\":\"status\",\"kind\":\"Any\",\"default\":\"normalized\"}]},{\"type\":\"model\",\"name\":\"GridStack1\",\"properties\":[{\"name\":\"mode\",\"kind\":\"Any\",\"default\":\"warn\"},{\"name\":\"ncols\",\"kind\":\"Any\",\"default\":null},{\"name\":\"nrows\",\"kind\":\"Any\",\"default\":null},{\"name\":\"allow_resize\",\"kind\":\"Any\",\"default\":true},{\"name\":\"allow_drag\",\"kind\":\"Any\",\"default\":true},{\"name\":\"state\",\"kind\":\"Any\",\"default\":[]}]},{\"type\":\"model\",\"name\":\"drag1\",\"properties\":[{\"name\":\"slider_width\",\"kind\":\"Any\",\"default\":5},{\"name\":\"slider_color\",\"kind\":\"Any\",\"default\":\"black\"},{\"name\":\"value\",\"kind\":\"Any\",\"default\":50}]},{\"type\":\"model\",\"name\":\"click1\",\"properties\":[{\"name\":\"terminal_output\",\"kind\":\"Any\",\"default\":\"\"},{\"name\":\"debug_name\",\"kind\":\"Any\",\"default\":\"\"},{\"name\":\"clears\",\"kind\":\"Any\",\"default\":0}]},{\"type\":\"model\",\"name\":\"copy_to_clipboard1\",\"properties\":[{\"name\":\"fill\",\"kind\":\"Any\",\"default\":\"none\"},{\"name\":\"value\",\"kind\":\"Any\",\"default\":null}]},{\"type\":\"model\",\"name\":\"FastWrapper1\",\"properties\":[{\"name\":\"object\",\"kind\":\"Any\",\"default\":null},{\"name\":\"style\",\"kind\":\"Any\",\"default\":null}]},{\"type\":\"model\",\"name\":\"NotificationAreaBase1\",\"properties\":[{\"name\":\"js_events\",\"kind\":\"Any\",\"default\":{\"type\":\"map\"}},{\"name\":\"position\",\"kind\":\"Any\",\"default\":\"bottom-right\"},{\"name\":\"_clear\",\"kind\":\"Any\",\"default\":0}]},{\"type\":\"model\",\"name\":\"NotificationArea1\",\"properties\":[{\"name\":\"js_events\",\"kind\":\"Any\",\"default\":{\"type\":\"map\"}},{\"name\":\"notifications\",\"kind\":\"Any\",\"default\":[]},{\"name\":\"position\",\"kind\":\"Any\",\"default\":\"bottom-right\"},{\"name\":\"_clear\",\"kind\":\"Any\",\"default\":0},{\"name\":\"types\",\"kind\":\"Any\",\"default\":[{\"type\":\"map\",\"entries\":[[\"type\",\"warning\"],[\"background\",\"#ffc107\"],[\"icon\",{\"type\":\"map\",\"entries\":[[\"className\",\"fas fa-exclamation-triangle\"],[\"tagName\",\"i\"],[\"color\",\"white\"]]}]]},{\"type\":\"map\",\"entries\":[[\"type\",\"info\"],[\"background\",\"#007bff\"],[\"icon\",{\"type\":\"map\",\"entries\":[[\"className\",\"fas fa-info-circle\"],[\"tagName\",\"i\"],[\"color\",\"white\"]]}]]}]}]},{\"type\":\"model\",\"name\":\"Notification\",\"properties\":[{\"name\":\"background\",\"kind\":\"Any\",\"default\":null},{\"name\":\"duration\",\"kind\":\"Any\",\"default\":3000},{\"name\":\"icon\",\"kind\":\"Any\",\"default\":null},{\"name\":\"message\",\"kind\":\"Any\",\"default\":\"\"},{\"name\":\"notification_type\",\"kind\":\"Any\",\"default\":null},{\"name\":\"_destroyed\",\"kind\":\"Any\",\"default\":false}]},{\"type\":\"model\",\"name\":\"TemplateActions1\",\"properties\":[{\"name\":\"open_modal\",\"kind\":\"Any\",\"default\":0},{\"name\":\"close_modal\",\"kind\":\"Any\",\"default\":0}]},{\"type\":\"model\",\"name\":\"BootstrapTemplateActions1\",\"properties\":[{\"name\":\"open_modal\",\"kind\":\"Any\",\"default\":0},{\"name\":\"close_modal\",\"kind\":\"Any\",\"default\":0}]},{\"type\":\"model\",\"name\":\"MaterialTemplateActions1\",\"properties\":[{\"name\":\"open_modal\",\"kind\":\"Any\",\"default\":0},{\"name\":\"close_modal\",\"kind\":\"Any\",\"default\":0}]}]}};\n",
       "  var render_items = [{\"docid\":\"d5f06c44-bc2e-4fb6-9e60-d3b5778c1f5f\",\"roots\":{\"p1817\":\"edb0e35a-8d62-450e-9d05-b4e8eea51ad5\"},\"root_ids\":[\"p1817\"]}];\n",
       "  var docs = Object.values(docs_json)\n",
       "  if (!docs) {\n",
       "    return\n",
       "  }\n",
       "  const py_version = docs[0].version.replace('rc', '-rc.').replace('.dev', '-dev.')\n",
       "  function embed_document(root) {\n",
       "    var Bokeh = get_bokeh(root)\n",
       "    Bokeh.embed.embed_items_notebook(docs_json, render_items);\n",
       "    for (const render_item of render_items) {\n",
       "      for (const root_id of render_item.root_ids) {\n",
       "\tconst id_el = document.getElementById(root_id)\n",
       "\tif (id_el.children.length && (id_el.children[0].className === 'bk-root')) {\n",
       "\t  const root_el = id_el.children[0]\n",
       "\t  root_el.id = root_el.id + '-rendered'\n",
       "\t}\n",
       "      }\n",
       "    }\n",
       "  }\n",
       "  function get_bokeh(root) {\n",
       "    if (root.Bokeh === undefined) {\n",
       "      return null\n",
       "    } else if (root.Bokeh.version !== py_version) {\n",
       "      if (root.Bokeh.versions === undefined || !root.Bokeh.versions.has(py_version)) {\n",
       "\treturn null\n",
       "      }\n",
       "      return root.Bokeh.versions.get(py_version);\n",
       "    } else if (root.Bokeh.version === py_version) {\n",
       "      return root.Bokeh\n",
       "    }\n",
       "    return null\n",
       "  }\n",
       "  function is_loaded(root) {\n",
       "    var Bokeh = get_bokeh(root)\n",
       "    return (Bokeh != null && Bokeh.Panel !== undefined)\n",
       "  }\n",
       "  if (is_loaded(root)) {\n",
       "    embed_document(root);\n",
       "  } else {\n",
       "    var attempts = 0;\n",
       "    var timer = setInterval(function(root) {\n",
       "      if (is_loaded(root)) {\n",
       "        clearInterval(timer);\n",
       "        embed_document(root);\n",
       "      } else if (document.readyState == \"complete\") {\n",
       "        attempts++;\n",
       "        if (attempts > 200) {\n",
       "          clearInterval(timer);\n",
       "\t  var Bokeh = get_bokeh(root)\n",
       "\t  if (Bokeh == null || Bokeh.Panel == null) {\n",
       "            console.warn(\"Panel: ERROR: Unable to run Panel code because Bokeh or Panel library is missing\");\n",
       "\t  } else {\n",
       "\t    console.warn(\"Panel: WARNING: Attempting to render but not all required libraries could be resolved.\")\n",
       "\t    embed_document(root)\n",
       "\t  }\n",
       "        }\n",
       "      }\n",
       "    }, 25, root)\n",
       "  }\n",
       "})(window);</script>"
      ],
      "text/plain": [
       ":Curve   [nonce]   (count)"
      ]
     },
     "execution_count": 169,
     "metadata": {
      "application/vnd.holoviews_exec.v0+json": {
       "id": "p1817"
      }
     },
     "output_type": "execute_result"
    }
   ],
   "source": [
    "blob_hashes_df.filter(pl.col(\"nonce\") < 380528).filter(pl.col(\"nonce\") > 380518).sort(\n",
    "    by=\"nonce\"\n",
    ").plot.line(x=\"nonce\", y=\"count\")"
   ]
  },
  {
   "cell_type": "code",
   "execution_count": null,
   "metadata": {},
   "outputs": [],
   "source": []
  }
 ],
 "metadata": {
  "kernelspec": {
   "display_name": ".venv",
   "language": "python",
   "name": "python3"
  },
  "language_info": {
   "codemirror_mode": {
    "name": "ipython",
    "version": 3
   },
   "file_extension": ".py",
   "mimetype": "text/x-python",
   "name": "python",
   "nbconvert_exporter": "python",
   "pygments_lexer": "ipython3",
   "version": "3.11.8"
  }
 },
 "nbformat": 4,
 "nbformat_minor": 2
}
